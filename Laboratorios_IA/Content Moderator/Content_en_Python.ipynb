{
 "metadata": {
  "language_info": {
   "codemirror_mode": {
    "name": "ipython",
    "version": 3
   },
   "file_extension": ".py",
   "mimetype": "text/x-python",
   "name": "python",
   "nbconvert_exporter": "python",
   "pygments_lexer": "ipython3",
   "version": "2.7.17-final"
  },
  "orig_nbformat": 2,
  "kernelspec": {
   "name": "Python 2.7.17 64-bit",
   "display_name": "Python 2.7.17 64-bit",
   "metadata": {
    "interpreter": {
     "hash": "5c3b02fa24688d32a1d09351b7f8eac82a87272ad081601c73caead00a8e1fc4"
    }
   }
  }
 },
 "nbformat": 4,
 "nbformat_minor": 2,
 "cells": [
  {
   "cell_type": "code",
   "execution_count": 1,
   "metadata": {},
   "outputs": [],
   "source": [
    "## Creacion de Imports"
   ]
  },
  {
   "cell_type": "code",
   "execution_count": 4,
   "metadata": {},
   "outputs": [],
   "source": [
    "import os.path\n",
    "from pprint import pprint\n",
    "import time\n",
    "from io import BytesIO\n",
    "from random import random\n",
    "import uuid\n",
    "\n",
    "from azure.cognitiveservices.vision.contentmoderator import ContentModeratorClient\n",
    "import azure.cognitiveservices.vision.contentmoderator.models\n",
    "from msrest.authentication import CognitiveServicesCredentials"
   ]
  },
  {
   "cell_type": "code",
   "execution_count": null,
   "metadata": {},
   "outputs": [],
   "source": [
    "## Creacion de variables para la ubicacion del punto de conexión del recurso y claves como variables de entorno"
   ]
  },
  {
   "cell_type": "code",
   "execution_count": null,
   "metadata": {},
   "outputs": [],
   "source": [
    "CONTENTMODERATOR_ENDPOINT = os.environ.get(\"https://moderators.cognitiveservices.azure.com\")\n",
    "subscription_key = os.environ.get('d600d1ece0564a1987fb40a22186a2f')"
   ]
  },
  {
   "cell_type": "code",
   "execution_count": 5,
   "metadata": {},
   "outputs": [],
   "source": [
    "## Creación de instancia para un cliente con la clave y el punto de conexion"
   ]
  },
  {
   "cell_type": "code",
   "execution_count": 10,
   "metadata": {},
   "outputs": [
    {
     "output_type": "error",
     "ename": "ValueError",
     "evalue": "Subscription key cannot be None",
     "traceback": [
      "\u001b[1;31m\u001b[0m",
      "\u001b[1;31mValueError\u001b[0mTraceback (most recent call last)",
      "\u001b[1;32m<ipython-input-10-6b072934c81d>\u001b[0m in \u001b[0;36m<module>\u001b[1;34m()\u001b[0m\n\u001b[0;32m      1\u001b[0m client = ContentModeratorClient(\n\u001b[0;32m      2\u001b[0m     \u001b[0mendpoint\u001b[0m \u001b[1;33m=\u001b[0m \u001b[0mCONTENTMODERATOR_ENDPOINT\u001b[0m\u001b[1;33m,\u001b[0m\u001b[1;33m\u001b[0m\u001b[0m\n\u001b[1;32m----> 3\u001b[1;33m     \u001b[0mcredentials\u001b[0m \u001b[1;33m=\u001b[0m \u001b[0mCognitiveServicesCredentials\u001b[0m\u001b[1;33m(\u001b[0m\u001b[0msubscription_key\u001b[0m\u001b[1;33m)\u001b[0m\u001b[1;33m\u001b[0m\u001b[0m\n\u001b[0m\u001b[0;32m      4\u001b[0m )\n",
      "\u001b[1;32mC:\\Python27\\lib\\site-packages\\msrest\\authentication.pyc\u001b[0m in \u001b[0;36m__init__\u001b[1;34m(self, subscription_key)\u001b[0m\n\u001b[0;32m    260\u001b[0m         \u001b[1;31m# type: (str) -> None\u001b[0m\u001b[1;33m\u001b[0m\u001b[1;33m\u001b[0m\u001b[0m\n\u001b[0;32m    261\u001b[0m         \u001b[1;32mif\u001b[0m \u001b[1;32mnot\u001b[0m \u001b[0msubscription_key\u001b[0m\u001b[1;33m:\u001b[0m\u001b[1;33m\u001b[0m\u001b[0m\n\u001b[1;32m--> 262\u001b[1;33m             \u001b[1;32mraise\u001b[0m \u001b[0mValueError\u001b[0m\u001b[1;33m(\u001b[0m\u001b[1;34m\"Subscription key cannot be None\"\u001b[0m\u001b[1;33m)\u001b[0m\u001b[1;33m\u001b[0m\u001b[0m\n\u001b[0m\u001b[0;32m    263\u001b[0m         super(CognitiveServicesCredentials, self).__init__(\n\u001b[0;32m    264\u001b[0m             in_headers={\n",
      "\u001b[1;31mValueError\u001b[0m: Subscription key cannot be None"
     ]
    }
   ],
   "source": [
    "client = ContentModeratorClient(\n",
    "    endpoint = CONTENTMODERATOR_ENDPOINT,\n",
    "    credentials = CognitiveServicesCredentials(subscription_key)\n",
    ")"
   ]
  },
  {
   "cell_type": "code",
   "execution_count": null,
   "metadata": {},
   "outputs": [],
   "source": []
  }
 ]
}