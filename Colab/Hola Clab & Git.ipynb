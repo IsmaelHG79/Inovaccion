{
  "nbformat": 4,
  "nbformat_minor": 0,
  "metadata": {
    "colab": {
      "name": "Untitled0.ipynb",
      "provenance": [],
      "authorship_tag": "ABX9TyP7smJPyTHZF7zA3LVfbSBf",
      "include_colab_link": true
    },
    "kernelspec": {
      "name": "python3",
      "display_name": "Python 3"
    }
  },
  "cells": [
    {
      "cell_type": "markdown",
      "metadata": {
        "id": "view-in-github",
        "colab_type": "text"
      },
      "source": [
        "<a href=\"https://colab.research.google.com/github/IsmaelHG79/Inovaccion/blob/main/Colab/Hola%20Clab%20%26%20Git.ipynb\" target=\"_parent\"><img src=\"https://colab.research.google.com/assets/colab-badge.svg\" alt=\"Open In Colab\"/></a>"
      ]
    },
    {
      "cell_type": "markdown",
      "metadata": {
        "id": "63zEh1OlqN4S"
      },
      "source": [
        "## Prueba de Python en Colab"
      ]
    },
    {
      "cell_type": "code",
      "metadata": {
        "id": "IrnLjnNHqFzf",
        "outputId": "3bfde927-0af1-48d9-ba59-672290d3bca9",
        "colab": {
          "base_uri": "https://localhost:8080/",
          "height": 34
        }
      },
      "source": [
        "print(\"Hola estoy usando  Colab\")"
      ],
      "execution_count": 1,
      "outputs": [
        {
          "output_type": "stream",
          "text": [
            "Hola estoy usando  Colab\n"
          ],
          "name": "stdout"
        }
      ]
    }
  ]
}