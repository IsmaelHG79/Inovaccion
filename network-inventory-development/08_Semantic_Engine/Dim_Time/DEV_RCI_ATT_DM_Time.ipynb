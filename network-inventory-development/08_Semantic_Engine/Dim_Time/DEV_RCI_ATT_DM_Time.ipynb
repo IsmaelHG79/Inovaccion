{
 "cells": [
  {
   "cell_type": "markdown",
   "metadata": {},
   "source": [
    "# Time Table Building"
   ]
  },
  {
   "cell_type": "markdown",
   "metadata": {},
   "source": [
    "## I. Libraries to use"
   ]
  },
  {
   "cell_type": "code",
   "execution_count": 1,
   "metadata": {},
   "outputs": [],
   "source": [
    "import os\n",
    "os.environ['JAVA_HOME'] = '/usr/java/jdk1.8.0_162'\n",
    "os.environ['SPARK_HOME'] = '/opt/cloudera/parcels/CDH-6.2.0-1.cdh6.2.0.p0.967373/lib/spark'\n",
    "import findspark\n",
    "findspark.init()\n",
    "from pyspark import SparkContext, SparkConf\n",
    "from pyspark.sql import SparkSession\n",
    "from pyspark.sql.types import *\n",
    "from pyspark.sql import HiveContext\n",
    "import pandasql\n",
    "import pandas as pd\n",
    "from pyspark.sql.functions import monotonically_increasing_id \n",
    "from pyspark.sql.functions import arrays_zip,explode,explode_outer, col, split, regexp_extract, array_contains, regexp_replace,concat_ws, create_map, create_map, lit\n",
    "import pyspark.sql.functions as f\n",
    "from pyspark.sql.functions import size\n",
    "from pyspark.sql.functions import concat_ws\n",
    "from pyspark.sql.functions import split\n",
    "from pyspark.sql import functions as F\n",
    "from pyspark.sql.functions import first\n",
    "from pyspark.sql.functions import udf\n",
    "from pyspark.sql.types import LongType\n",
    "from pyspark.sql.types import StringType ,BooleanType\n",
    "from pyspark.sql.functions import map_keys,map_values\n",
    "from pyspark.sql.functions import when, avg, col\n",
    "from pyspark.sql import Window\n",
    "from datetime import datetime\n",
    "import hashlib"
   ]
  },
  {
   "cell_type": "markdown",
   "metadata": {},
   "source": [
    "## II. Configuracion de Spark"
   ]
  },
  {
   "cell_type": "code",
   "execution_count": 2,
   "metadata": {},
   "outputs": [],
   "source": [
    "conf = SparkConf().setAppName('dm_time')  \\\n",
    "    .setMaster('yarn').set(\"spark.yarn.queue\",\"root.eda\") \\\n",
    "    .set(\"spark.serializer\", \"org.apache.spark.serializer.KryoSerializer\") \\\n",
    "    .set(\"spark.executor.instances\", \"4\") \\\n",
    "    .set(\"spark.executor.cores\", \"5\") \\\n",
    "    .set(\"spark.driver.memory\", \"8g\") \\\n",
    "    .set(\"spark.executor.memory\", \"8g\") \\\n",
    "    .set(\"spark.sql.tungsten.enabled\", \"true\") \\\n",
    "    .set(\"spark.io.compression.codec\", \"snappy\") \\\n",
    "    .set(\"spark.sql.crossJoin.enabled\", \"true\") \\\n",
    "    .set(\"spark.kryoserializer.buffer.mb\",\"128\") \\\n",
    "    .set(\"spark.sql.autoBroadcastJoinThreshold\", -1) \\\n",
    "    .set(\"spark.sql.shuffle.partition\",\"2001\") \\\n",
    "    .set(\"spark.shuffle.compress\",\"true\") \\\n",
    "    .set(\"spark.shuffle.spill.compress\",\"true\" ) \\\n",
    "    .set(\"spark.jars\", \"/home/raw_rci/jars/kudu-spark-tools-1.4.0.jar\")\n",
    "spark = SparkSession.builder.config(conf=conf).getOrCreate()\n",
    "sc = spark.sparkContext\n",
    "sqlContext = HiveContext(sc)"
   ]
  },
  {
   "cell_type": "markdown",
   "metadata": {},
   "source": [
    "## III. Procesamiento"
   ]
  },
  {
   "cell_type": "markdown",
   "metadata": {},
   "source": [
    "### 1. Extracción de tabla de tiempo temporal"
   ]
  },
  {
   "cell_type": "code",
   "execution_count": 3,
   "metadata": {},
   "outputs": [],
   "source": [
    "df_dmtimehv = spark.sql(\"\"\"\n",
    "    SELECT *\n",
    "    FROM rci_network_db.dm_tiempo_hv\n",
    "    ORDER BY date\n",
    "\"\"\").cache()\n",
    "df_read = df_dmtimehv.count()"
   ]
  },
  {
   "cell_type": "code",
   "execution_count": 4,
   "metadata": {},
   "outputs": [
    {
     "name": "stdout",
     "output_type": "stream",
     "text": [
      "+----------+----+-------+-----+-------------+------------+---+-----------+-------------+-----------+\n",
      "|date      |year|quarter|month|week_of_month|week_of_year|day|day_of_week|day_of_week_s|day_of_year|\n",
      "+----------+----+-------+-----+-------------+------------+---+-----------+-------------+-----------+\n",
      "|2019-01-01|2019|1      |1    |1            |1           |1  |2          |Tue          |1          |\n",
      "|2019-01-02|2019|1      |1    |1            |1           |2  |3          |Wed          |2          |\n",
      "|2019-01-03|2019|1      |1    |1            |1           |3  |4          |Thu          |3          |\n",
      "|2019-01-04|2019|1      |1    |1            |1           |4  |5          |Fri          |4          |\n",
      "|2019-01-05|2019|1      |1    |1            |1           |5  |6          |Sat          |5          |\n",
      "|2019-01-06|2019|1      |1    |2            |2           |6  |7          |Sun          |6          |\n",
      "|2019-01-07|2019|1      |1    |2            |2           |7  |1          |Mon          |7          |\n",
      "|2019-01-08|2019|1      |1    |2            |2           |8  |2          |Tue          |8          |\n",
      "|2019-01-09|2019|1      |1    |2            |2           |9  |3          |Wed          |9          |\n",
      "|2019-01-10|2019|1      |1    |2            |2           |10 |4          |Thu          |10         |\n",
      "|2019-01-11|2019|1      |1    |2            |2           |11 |5          |Fri          |11         |\n",
      "|2019-01-12|2019|1      |1    |2            |2           |12 |6          |Sat          |12         |\n",
      "|2019-01-13|2019|1      |1    |3            |3           |13 |7          |Sun          |13         |\n",
      "|2019-01-14|2019|1      |1    |3            |3           |14 |1          |Mon          |14         |\n",
      "|2019-01-15|2019|1      |1    |3            |3           |15 |2          |Tue          |15         |\n",
      "|2019-01-16|2019|1      |1    |3            |3           |16 |3          |Wed          |16         |\n",
      "|2019-01-17|2019|1      |1    |3            |3           |17 |4          |Thu          |17         |\n",
      "|2019-01-18|2019|1      |1    |3            |3           |18 |5          |Fri          |18         |\n",
      "|2019-01-19|2019|1      |1    |3            |3           |19 |6          |Sat          |19         |\n",
      "|2019-01-20|2019|1      |1    |4            |4           |20 |7          |Sun          |20         |\n",
      "+----------+----+-------+-----+-------------+------------+---+-----------+-------------+-----------+\n",
      "only showing top 20 rows\n",
      "\n"
     ]
    }
   ],
   "source": [
    "df_dmtimehv.show(truncate=False)"
   ]
  },
  {
   "cell_type": "markdown",
   "metadata": {},
   "source": [
    "### 2. Limpieza del campo de date"
   ]
  },
  {
   "cell_type": "code",
   "execution_count": 5,
   "metadata": {},
   "outputs": [],
   "source": [
    "df_dmtimehv3 = df_dmtimehv.select(regexp_replace(col(\"date\"), \"-\", \"\").alias(\"date_id\"),\"year\", \"quarter\", \"month\", \"week_of_month\", \"week_of_year\", \"day\", \"day_of_week\", \"day_of_week_s\", \"day_of_year\").cache()"
   ]
  },
  {
   "cell_type": "code",
   "execution_count": 6,
   "metadata": {},
   "outputs": [
    {
     "name": "stdout",
     "output_type": "stream",
     "text": [
      "+--------+----+-------+-----+-------------+------------+---+-----------+-------------+-----------+\n",
      "|date_id |year|quarter|month|week_of_month|week_of_year|day|day_of_week|day_of_week_s|day_of_year|\n",
      "+--------+----+-------+-----+-------------+------------+---+-----------+-------------+-----------+\n",
      "|20190101|2019|1      |1    |1            |1           |1  |2          |Tue          |1          |\n",
      "|20190102|2019|1      |1    |1            |1           |2  |3          |Wed          |2          |\n",
      "|20190103|2019|1      |1    |1            |1           |3  |4          |Thu          |3          |\n",
      "|20190104|2019|1      |1    |1            |1           |4  |5          |Fri          |4          |\n",
      "|20190105|2019|1      |1    |1            |1           |5  |6          |Sat          |5          |\n",
      "|20190106|2019|1      |1    |2            |2           |6  |7          |Sun          |6          |\n",
      "|20190107|2019|1      |1    |2            |2           |7  |1          |Mon          |7          |\n",
      "|20190108|2019|1      |1    |2            |2           |8  |2          |Tue          |8          |\n",
      "|20190109|2019|1      |1    |2            |2           |9  |3          |Wed          |9          |\n",
      "|20190110|2019|1      |1    |2            |2           |10 |4          |Thu          |10         |\n",
      "|20190111|2019|1      |1    |2            |2           |11 |5          |Fri          |11         |\n",
      "|20190112|2019|1      |1    |2            |2           |12 |6          |Sat          |12         |\n",
      "|20190113|2019|1      |1    |3            |3           |13 |7          |Sun          |13         |\n",
      "|20190114|2019|1      |1    |3            |3           |14 |1          |Mon          |14         |\n",
      "|20190115|2019|1      |1    |3            |3           |15 |2          |Tue          |15         |\n",
      "|20190116|2019|1      |1    |3            |3           |16 |3          |Wed          |16         |\n",
      "|20190117|2019|1      |1    |3            |3           |17 |4          |Thu          |17         |\n",
      "|20190118|2019|1      |1    |3            |3           |18 |5          |Fri          |18         |\n",
      "|20190119|2019|1      |1    |3            |3           |19 |6          |Sat          |19         |\n",
      "|20190120|2019|1      |1    |4            |4           |20 |7          |Sun          |20         |\n",
      "+--------+----+-------+-----+-------------+------------+---+-----------+-------------+-----------+\n",
      "only showing top 20 rows\n",
      "\n"
     ]
    }
   ],
   "source": [
    "df_dmtimehv3.show(truncate=False)"
   ]
  },
  {
   "cell_type": "markdown",
   "metadata": {},
   "source": [
    "### 3. Se convierte a PD DataFrame para cambiar los tipos de dato"
   ]
  },
  {
   "cell_type": "code",
   "execution_count": 7,
   "metadata": {},
   "outputs": [],
   "source": [
    "dfp = df_dmtimehv3.toPandas()"
   ]
  },
  {
   "cell_type": "code",
   "execution_count": 8,
   "metadata": {},
   "outputs": [
    {
     "data": {
      "text/html": [
       "<div>\n",
       "<style scoped>\n",
       "    .dataframe tbody tr th:only-of-type {\n",
       "        vertical-align: middle;\n",
       "    }\n",
       "\n",
       "    .dataframe tbody tr th {\n",
       "        vertical-align: top;\n",
       "    }\n",
       "\n",
       "    .dataframe thead th {\n",
       "        text-align: right;\n",
       "    }\n",
       "</style>\n",
       "<table border=\"1\" class=\"dataframe\">\n",
       "  <thead>\n",
       "    <tr style=\"text-align: right;\">\n",
       "      <th></th>\n",
       "      <th>date_id</th>\n",
       "      <th>year</th>\n",
       "      <th>quarter</th>\n",
       "      <th>month</th>\n",
       "      <th>week_of_month</th>\n",
       "      <th>week_of_year</th>\n",
       "      <th>day</th>\n",
       "      <th>day_of_week</th>\n",
       "      <th>day_of_week_s</th>\n",
       "      <th>day_of_year</th>\n",
       "    </tr>\n",
       "  </thead>\n",
       "  <tbody>\n",
       "    <tr>\n",
       "      <th>0</th>\n",
       "      <td>20190101</td>\n",
       "      <td>2019</td>\n",
       "      <td>1</td>\n",
       "      <td>1</td>\n",
       "      <td>1</td>\n",
       "      <td>1</td>\n",
       "      <td>1</td>\n",
       "      <td>2</td>\n",
       "      <td>Tue</td>\n",
       "      <td>1</td>\n",
       "    </tr>\n",
       "    <tr>\n",
       "      <th>1</th>\n",
       "      <td>20190102</td>\n",
       "      <td>2019</td>\n",
       "      <td>1</td>\n",
       "      <td>1</td>\n",
       "      <td>1</td>\n",
       "      <td>1</td>\n",
       "      <td>2</td>\n",
       "      <td>3</td>\n",
       "      <td>Wed</td>\n",
       "      <td>2</td>\n",
       "    </tr>\n",
       "    <tr>\n",
       "      <th>2</th>\n",
       "      <td>20190103</td>\n",
       "      <td>2019</td>\n",
       "      <td>1</td>\n",
       "      <td>1</td>\n",
       "      <td>1</td>\n",
       "      <td>1</td>\n",
       "      <td>3</td>\n",
       "      <td>4</td>\n",
       "      <td>Thu</td>\n",
       "      <td>3</td>\n",
       "    </tr>\n",
       "    <tr>\n",
       "      <th>3</th>\n",
       "      <td>20190104</td>\n",
       "      <td>2019</td>\n",
       "      <td>1</td>\n",
       "      <td>1</td>\n",
       "      <td>1</td>\n",
       "      <td>1</td>\n",
       "      <td>4</td>\n",
       "      <td>5</td>\n",
       "      <td>Fri</td>\n",
       "      <td>4</td>\n",
       "    </tr>\n",
       "    <tr>\n",
       "      <th>4</th>\n",
       "      <td>20190105</td>\n",
       "      <td>2019</td>\n",
       "      <td>1</td>\n",
       "      <td>1</td>\n",
       "      <td>1</td>\n",
       "      <td>1</td>\n",
       "      <td>5</td>\n",
       "      <td>6</td>\n",
       "      <td>Sat</td>\n",
       "      <td>5</td>\n",
       "    </tr>\n",
       "  </tbody>\n",
       "</table>\n",
       "</div>"
      ],
      "text/plain": [
       "    date_id  year  quarter  month week_of_month week_of_year  day day_of_week  \\\n",
       "0  20190101  2019        1      1             1            1    1           2   \n",
       "1  20190102  2019        1      1             1            1    2           3   \n",
       "2  20190103  2019        1      1             1            1    3           4   \n",
       "3  20190104  2019        1      1             1            1    4           5   \n",
       "4  20190105  2019        1      1             1            1    5           6   \n",
       "\n",
       "  day_of_week_s day_of_year  \n",
       "0           Tue           1  \n",
       "1           Wed           2  \n",
       "2           Thu           3  \n",
       "3           Fri           4  \n",
       "4           Sat           5  "
      ]
     },
     "execution_count": 8,
     "metadata": {},
     "output_type": "execute_result"
    }
   ],
   "source": [
    "dfp.head()"
   ]
  },
  {
   "cell_type": "code",
   "execution_count": 9,
   "metadata": {},
   "outputs": [
    {
     "name": "stdout",
     "output_type": "stream",
     "text": [
      "<class 'pandas.core.frame.DataFrame'>\n",
      "RangeIndex: 3651 entries, 0 to 3650\n",
      "Data columns (total 10 columns):\n",
      "date_id          3651 non-null object\n",
      "year             3651 non-null int32\n",
      "quarter          3651 non-null int64\n",
      "month            3651 non-null int32\n",
      "week_of_month    3651 non-null object\n",
      "week_of_year     3651 non-null object\n",
      "day              3651 non-null int32\n",
      "day_of_week      3651 non-null object\n",
      "day_of_week_s    3651 non-null object\n",
      "day_of_year      3651 non-null object\n",
      "dtypes: int32(3), int64(1), object(6)\n",
      "memory usage: 242.5+ KB\n"
     ]
    }
   ],
   "source": [
    "dfp.info()"
   ]
  },
  {
   "cell_type": "code",
   "execution_count": 10,
   "metadata": {},
   "outputs": [],
   "source": [
    "dfp['date_id'] = dfp['date_id'].astype(str).astype(int)\n",
    "dfp['week_of_month'] = dfp['week_of_month'].astype(str).astype(int)\n",
    "dfp['week_of_year'] = dfp['week_of_year'].astype(str).astype(int)\n",
    "dfp['day_of_week'] = dfp['day_of_week'].astype(str).astype(int)\n",
    "dfp['day_of_year'] = dfp['day_of_year'].astype(str).astype(int)"
   ]
  },
  {
   "cell_type": "code",
   "execution_count": 11,
   "metadata": {},
   "outputs": [
    {
     "name": "stdout",
     "output_type": "stream",
     "text": [
      "<class 'pandas.core.frame.DataFrame'>\n",
      "RangeIndex: 3651 entries, 0 to 3650\n",
      "Data columns (total 10 columns):\n",
      "date_id          3651 non-null int64\n",
      "year             3651 non-null int32\n",
      "quarter          3651 non-null int64\n",
      "month            3651 non-null int32\n",
      "week_of_month    3651 non-null int64\n",
      "week_of_year     3651 non-null int64\n",
      "day              3651 non-null int32\n",
      "day_of_week      3651 non-null int64\n",
      "day_of_week_s    3651 non-null object\n",
      "day_of_year      3651 non-null int64\n",
      "dtypes: int32(3), int64(6), object(1)\n",
      "memory usage: 242.5+ KB\n"
     ]
    }
   ],
   "source": [
    "dfp.info()"
   ]
  },
  {
   "cell_type": "code",
   "execution_count": 12,
   "metadata": {},
   "outputs": [
    {
     "data": {
      "text/html": [
       "<div>\n",
       "<style scoped>\n",
       "    .dataframe tbody tr th:only-of-type {\n",
       "        vertical-align: middle;\n",
       "    }\n",
       "\n",
       "    .dataframe tbody tr th {\n",
       "        vertical-align: top;\n",
       "    }\n",
       "\n",
       "    .dataframe thead th {\n",
       "        text-align: right;\n",
       "    }\n",
       "</style>\n",
       "<table border=\"1\" class=\"dataframe\">\n",
       "  <thead>\n",
       "    <tr style=\"text-align: right;\">\n",
       "      <th></th>\n",
       "      <th>date_id</th>\n",
       "      <th>year</th>\n",
       "      <th>quarter</th>\n",
       "      <th>month</th>\n",
       "      <th>week_of_month</th>\n",
       "      <th>week_of_year</th>\n",
       "      <th>day</th>\n",
       "      <th>day_of_week</th>\n",
       "      <th>day_of_week_s</th>\n",
       "      <th>day_of_year</th>\n",
       "    </tr>\n",
       "  </thead>\n",
       "  <tbody>\n",
       "    <tr>\n",
       "      <th>0</th>\n",
       "      <td>20190101</td>\n",
       "      <td>2019</td>\n",
       "      <td>1</td>\n",
       "      <td>1</td>\n",
       "      <td>1</td>\n",
       "      <td>1</td>\n",
       "      <td>1</td>\n",
       "      <td>2</td>\n",
       "      <td>Tue</td>\n",
       "      <td>1</td>\n",
       "    </tr>\n",
       "    <tr>\n",
       "      <th>1</th>\n",
       "      <td>20190102</td>\n",
       "      <td>2019</td>\n",
       "      <td>1</td>\n",
       "      <td>1</td>\n",
       "      <td>1</td>\n",
       "      <td>1</td>\n",
       "      <td>2</td>\n",
       "      <td>3</td>\n",
       "      <td>Wed</td>\n",
       "      <td>2</td>\n",
       "    </tr>\n",
       "    <tr>\n",
       "      <th>2</th>\n",
       "      <td>20190103</td>\n",
       "      <td>2019</td>\n",
       "      <td>1</td>\n",
       "      <td>1</td>\n",
       "      <td>1</td>\n",
       "      <td>1</td>\n",
       "      <td>3</td>\n",
       "      <td>4</td>\n",
       "      <td>Thu</td>\n",
       "      <td>3</td>\n",
       "    </tr>\n",
       "    <tr>\n",
       "      <th>3</th>\n",
       "      <td>20190104</td>\n",
       "      <td>2019</td>\n",
       "      <td>1</td>\n",
       "      <td>1</td>\n",
       "      <td>1</td>\n",
       "      <td>1</td>\n",
       "      <td>4</td>\n",
       "      <td>5</td>\n",
       "      <td>Fri</td>\n",
       "      <td>4</td>\n",
       "    </tr>\n",
       "    <tr>\n",
       "      <th>4</th>\n",
       "      <td>20190105</td>\n",
       "      <td>2019</td>\n",
       "      <td>1</td>\n",
       "      <td>1</td>\n",
       "      <td>1</td>\n",
       "      <td>1</td>\n",
       "      <td>5</td>\n",
       "      <td>6</td>\n",
       "      <td>Sat</td>\n",
       "      <td>5</td>\n",
       "    </tr>\n",
       "  </tbody>\n",
       "</table>\n",
       "</div>"
      ],
      "text/plain": [
       "    date_id  year  quarter  month  week_of_month  week_of_year  day  \\\n",
       "0  20190101  2019        1      1              1             1    1   \n",
       "1  20190102  2019        1      1              1             1    2   \n",
       "2  20190103  2019        1      1              1             1    3   \n",
       "3  20190104  2019        1      1              1             1    4   \n",
       "4  20190105  2019        1      1              1             1    5   \n",
       "\n",
       "   day_of_week day_of_week_s  day_of_year  \n",
       "0            2           Tue            1  \n",
       "1            3           Wed            2  \n",
       "2            4           Thu            3  \n",
       "3            5           Fri            4  \n",
       "4            6           Sat            5  "
      ]
     },
     "execution_count": 12,
     "metadata": {},
     "output_type": "execute_result"
    }
   ],
   "source": [
    "dfp.head()"
   ]
  },
  {
   "cell_type": "markdown",
   "metadata": {},
   "source": [
    "### 4. Se convierte a Spark DF"
   ]
  },
  {
   "cell_type": "code",
   "execution_count": 13,
   "metadata": {},
   "outputs": [],
   "source": [
    "dfp2_sp = spark.createDataFrame(dfp)"
   ]
  },
  {
   "cell_type": "code",
   "execution_count": 14,
   "metadata": {},
   "outputs": [
    {
     "name": "stdout",
     "output_type": "stream",
     "text": [
      "+--------+----+-------+-----+-------------+------------+---+-----------+-------------+-----------+\n",
      "|date_id |year|quarter|month|week_of_month|week_of_year|day|day_of_week|day_of_week_s|day_of_year|\n",
      "+--------+----+-------+-----+-------------+------------+---+-----------+-------------+-----------+\n",
      "|20190101|2019|1      |1    |1            |1           |1  |2          |Tue          |1          |\n",
      "|20190102|2019|1      |1    |1            |1           |2  |3          |Wed          |2          |\n",
      "|20190103|2019|1      |1    |1            |1           |3  |4          |Thu          |3          |\n",
      "|20190104|2019|1      |1    |1            |1           |4  |5          |Fri          |4          |\n",
      "|20190105|2019|1      |1    |1            |1           |5  |6          |Sat          |5          |\n",
      "|20190106|2019|1      |1    |2            |2           |6  |7          |Sun          |6          |\n",
      "|20190107|2019|1      |1    |2            |2           |7  |1          |Mon          |7          |\n",
      "|20190108|2019|1      |1    |2            |2           |8  |2          |Tue          |8          |\n",
      "|20190109|2019|1      |1    |2            |2           |9  |3          |Wed          |9          |\n",
      "|20190110|2019|1      |1    |2            |2           |10 |4          |Thu          |10         |\n",
      "|20190111|2019|1      |1    |2            |2           |11 |5          |Fri          |11         |\n",
      "|20190112|2019|1      |1    |2            |2           |12 |6          |Sat          |12         |\n",
      "|20190113|2019|1      |1    |3            |3           |13 |7          |Sun          |13         |\n",
      "|20190114|2019|1      |1    |3            |3           |14 |1          |Mon          |14         |\n",
      "|20190115|2019|1      |1    |3            |3           |15 |2          |Tue          |15         |\n",
      "|20190116|2019|1      |1    |3            |3           |16 |3          |Wed          |16         |\n",
      "|20190117|2019|1      |1    |3            |3           |17 |4          |Thu          |17         |\n",
      "|20190118|2019|1      |1    |3            |3           |18 |5          |Fri          |18         |\n",
      "|20190119|2019|1      |1    |3            |3           |19 |6          |Sat          |19         |\n",
      "|20190120|2019|1      |1    |4            |4           |20 |7          |Sun          |20         |\n",
      "+--------+----+-------+-----+-------------+------------+---+-----------+-------------+-----------+\n",
      "only showing top 20 rows\n",
      "\n"
     ]
    }
   ],
   "source": [
    "dfp2_sp.show(truncate=False)"
   ]
  },
  {
   "cell_type": "markdown",
   "metadata": {},
   "source": [
    "### 5. Escritura en tabla"
   ]
  },
  {
   "cell_type": "code",
   "execution_count": null,
   "metadata": {},
   "outputs": [],
   "source": [
    "# Landing on Hive\n",
    "# dfp2_sp.write.format(\"parquet\").mode(\"overwrite\").saveAsTable(\"rci_network_db.tx_stg_time\")"
   ]
  },
  {
   "cell_type": "code",
   "execution_count": 17,
   "metadata": {},
   "outputs": [],
   "source": [
    "# Landing on Kudu\n",
    "dfp2_sp.write.format('org.apache.kudu.spark.kudu') \\\n",
    ".options(**{'kudu.master':'mxtold01dlm01.attdatalake.com.mx:7051', 'kudu.table':'impala::rci_network_db.dm_time'}) \\\n",
    ".mode(\"append\").save()"
   ]
  },
  {
   "cell_type": "code",
   "execution_count": null,
   "metadata": {},
   "outputs": [],
   "source": [
    "sc.stop()"
   ]
  },
  {
   "cell_type": "code",
   "execution_count": null,
   "metadata": {},
   "outputs": [],
   "source": []
  }
 ],
 "metadata": {
  "kernelspec": {
   "display_name": "Python 2",
   "language": "python",
   "name": "python2"
  },
  "language_info": {
   "codemirror_mode": {
    "name": "ipython",
    "version": 2
   },
   "file_extension": ".py",
   "mimetype": "text/x-python",
   "name": "python",
   "nbconvert_exporter": "python",
   "pygments_lexer": "ipython2",
   "version": "2.7.15"
  }
 },
 "nbformat": 4,
 "nbformat_minor": 2
}
