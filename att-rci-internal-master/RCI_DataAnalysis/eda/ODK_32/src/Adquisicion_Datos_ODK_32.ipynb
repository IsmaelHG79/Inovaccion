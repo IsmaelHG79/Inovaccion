{
 "cells": [
  {
   "cell_type": "markdown",
   "metadata": {},
   "source": [
    "# Adquisición de datos para ODK 32"
   ]
  },
  {
   "cell_type": "markdown",
   "metadata": {},
   "source": [
    "## Sección para import's de `Python` y `Spark`"
   ]
  },
  {
   "cell_type": "code",
   "execution_count": 1,
   "metadata": {},
   "outputs": [],
   "source": [
    "import os\n",
    "os.environ['JAVA_HOME'] = '/usr/java/jdk1.8.0_162'\n",
    "os.environ['SPARK_HOME'] = '/opt/cloudera/parcels/CDH-6.2.0-1.cdh6.2.0.p0.967373/lib/spark'\n",
    "import findspark\n",
    "findspark.init()\n",
    "from pyspark import SparkContext, SparkConf\n",
    "from pyspark.sql import SparkSession\n",
    "from pyspark.sql.types import *\n",
    "from pyspark.sql import HiveContext\n",
    "import pandasql\n",
    "\n",
    "from pyspark.sql.functions import col, split, regexp_extract, array_contains, regexp_replace,concat_ws, create_map, create_map, lit\n",
    "import pyspark.sql.functions as f"
   ]
  },
  {
   "cell_type": "markdown",
   "metadata": {},
   "source": [
    "## Creando SparkContext"
   ]
  },
  {
   "cell_type": "code",
   "execution_count": 2,
   "metadata": {},
   "outputs": [],
   "source": [
    "conf = SparkConf().setAppName('Adquisicion_Datos_ODK_32')  \\\n",
    "    .setMaster('yarn').set(\"spark.yarn.queue\",\"root.eda\")\n",
    "spark = SparkSession.builder.config(conf=conf).getOrCreate()\n",
    "sc = spark.sparkContext\n",
    "sqlContext = HiveContext(sc)"
   ]
  },
  {
   "cell_type": "markdown",
   "metadata": {},
   "source": [
    "## Validación `ODK 32`\n",
    "\n",
    "```\n",
    "select * from tx_stg_06_a_1_odk\n",
    "WHERE odk_no  = '0032'\n",
    "ORDER BY element_group, element\n",
    "```"
   ]
  },
  {
   "cell_type": "markdown",
   "metadata": {},
   "source": [
    "## Lectura de datos requeridos para el proceso\n",
    "\n",
    "En este caso estamos leyendo la tabla `tx_stg_06_1_odk` la cual contiene la información agrupada y aplanada a nivel:\n",
    "- id_form, clave del formulario `n->many`.\n",
    "- clave_form, clave para relacionar con el catálogo de ODK's `n->many`\n",
    "- element_group, elemento padre agrupador de la estructura del formulario, el cual es dinámico de acuerdo a la operación y concepto del ODK. \n",
    "- element, elemento hijo y corresponde `n->to one` element_group.\n",
    "- value, lista de campos y  valores posibles para cada tipo de ODK.\n",
    "- odk_no, número del odk."
   ]
  },
  {
   "cell_type": "code",
   "execution_count": 3,
   "metadata": {},
   "outputs": [],
   "source": [
    "df_txodk01 = spark.read.table(\"tx_stg_06_1_odk\")"
   ]
  },
  {
   "cell_type": "markdown",
   "metadata": {},
   "source": [
    "Esquema de la tabla:"
   ]
  },
  {
   "cell_type": "code",
   "execution_count": 4,
   "metadata": {},
   "outputs": [
    {
     "name": "stdout",
     "output_type": "stream",
     "text": [
      "root\n",
      " |-- id_form: string (nullable = true)\n",
      " |-- clave_form: string (nullable = true)\n",
      " |-- element_group: string (nullable = true)\n",
      " |-- element: string (nullable = true)\n",
      " |-- value: array (nullable = true)\n",
      " |    |-- element: string (containsNull = true)\n",
      " |-- odk_no: string (nullable = true)\n",
      "\n"
     ]
    }
   ],
   "source": [
    "df_txodk01.printSchema()"
   ]
  },
  {
   "cell_type": "markdown",
   "metadata": {},
   "source": [
    "# Filtrado para pruebas controladas, los siguientes escenarios se contemplan:\n",
    "\n",
    "- filtrado de `id_form`, para identificar el tipo de documento a validar.\n",
    "- filtrado de `clave_form`, para identificar el tipo de ODK's a validar."
   ]
  },
  {
   "cell_type": "code",
   "execution_count": 5,
   "metadata": {},
   "outputs": [],
   "source": [
    "df_txodk02 = df_txodk01.filter(df_txodk01[\"odk_no\"]==\"0032\").select(\"id_form\",\"clave_form\",\"odk_no\",\"element_group\",\"element\",\"value\").withColumn('value_str', concat_ws(',', 'value')).orderBy(df_txodk01[\"clave_form\"])"
   ]
  },
  {
   "cell_type": "code",
   "execution_count": 6,
   "metadata": {},
   "outputs": [
    {
     "data": {
      "text/plain": [
       "258335"
      ]
     },
     "execution_count": 6,
     "metadata": {},
     "output_type": "execute_result"
    }
   ],
   "source": [
    "df_txodk02.count()"
   ]
  },
  {
   "cell_type": "code",
   "execution_count": 7,
   "metadata": {},
   "outputs": [
    {
     "name": "stdout",
     "output_type": "stream",
     "text": [
      "root\n",
      " |-- id_form: string (nullable = true)\n",
      " |-- clave_form: string (nullable = true)\n",
      " |-- odk_no: string (nullable = true)\n",
      " |-- element_group: string (nullable = true)\n",
      " |-- element: string (nullable = true)\n",
      " |-- value: array (nullable = true)\n",
      " |    |-- element: string (containsNull = true)\n",
      " |-- value_str: string (nullable = false)\n",
      "\n"
     ]
    }
   ],
   "source": [
    "df_txodk02.printSchema()"
   ]
  },
  {
   "cell_type": "markdown",
   "metadata": {},
   "source": [
    "## Verificamos la estructura del documento, agrupando por:\n",
    "\n",
    "- `element_group`, elemento padre agrupador de la estructura del formulario, el cual es dinámico de acuerdo a la operación y concepto del ODK.\n",
    "\n",
    "Este comportamiento estará variando de acuerdo a al filtrado anterior el cual analizará la estructura de los ODK's dentro del alcance, que corresponde a:\n",
    "\n",
    "1. `12`, Instalación\n",
    "2. `32`, Instalación y comisionamiento. \n",
    "3. `38`, Decomiso. \n",
    "4. `76`, Salida de Almacén\n",
    "5. `99`, Operaciones (Site Survey)\n",
    "\n",
    "NOTA, la combinación de 12 & 32 es un caso para analizar como parte del EDA de ODK's."
   ]
  },
  {
   "cell_type": "code",
   "execution_count": 8,
   "metadata": {},
   "outputs": [
    {
     "name": "stdout",
     "output_type": "stream",
     "text": [
      "+---------------+-----+\n",
      "|element_group  |count|\n",
      "+---------------+-----+\n",
      "|groupAzimuts-0 |7214 |\n",
      "|groupAzimuts-1 |7097 |\n",
      "|groupAzimuts-10|1    |\n",
      "|groupAzimuts-2 |6760 |\n",
      "|groupAzimuts-3 |228  |\n",
      "|groupAzimuts-4 |193  |\n",
      "|groupAzimuts-5 |91   |\n",
      "|groupAzimuts-6 |3    |\n",
      "|groupAzimuts-7 |3    |\n",
      "|groupAzimuts-8 |3    |\n",
      "|groupAzimuts-9 |1    |\n",
      "|groupBattery-0 |2    |\n",
      "|groupBattery-1 |1    |\n",
      "|groupBbus-0    |44430|\n",
      "|groupBbus-1    |42626|\n",
      "|groupBbus-2    |7    |\n",
      "|groupCabinet-0 |5101 |\n",
      "|groupCabinet-1 |2494 |\n",
      "|groupCabinet-2 |8    |\n",
      "|groupCabinet-3 |3    |\n",
      "|groupCabinet-4 |2    |\n",
      "|groupCabinet-5 |1    |\n",
      "|groupCabinet-6 |1    |\n",
      "|groupComm-0    |3554 |\n",
      "|groupInv-0     |2    |\n",
      "|groupInv-1     |2    |\n",
      "|groupInv-10    |1    |\n",
      "|groupInv-11    |1    |\n",
      "|groupInv-12    |1    |\n",
      "|groupInv-13    |1    |\n",
      "|groupInv-14    |1    |\n",
      "|groupInv-15    |1    |\n",
      "|groupInv-2     |2    |\n",
      "|groupInv-3     |2    |\n",
      "|groupInv-4     |2    |\n",
      "|groupInv-5     |2    |\n",
      "|groupInv-6     |2    |\n",
      "|groupInv-7     |2    |\n",
      "|groupInv-8     |2    |\n",
      "|groupInv-9     |2    |\n",
      "|groupNodeb-0   |2    |\n",
      "|groupPaths-0   |7214 |\n",
      "|groupSectors-0 |40353|\n",
      "|groupSectors-1 |39602|\n",
      "|groupSectors-10|1    |\n",
      "|groupSectors-2 |37876|\n",
      "|groupSectors-3 |852  |\n",
      "|groupSectors-4 |725  |\n",
      "|groupSectors-5 |331  |\n",
      "|groupSectors-6 |9    |\n",
      "|groupSectors-7 |9    |\n",
      "|groupSectors-8 |7    |\n",
      "|groupSectors-9 |1    |\n",
      "|groupShelter-0 |4243 |\n",
      "|groupShelter-1 |34   |\n",
      "|groupTaskList-0|4    |\n",
      "|groupTaskList-1|4    |\n",
      "|root           |7218 |\n",
      "+---------------+-----+\n",
      "\n"
     ]
    }
   ],
   "source": [
    "df_txodk02.orderBy(\"element_group\").select(\"element_group\").groupBy(\"element_group\").count().show(150, truncate = False)"
   ]
  },
  {
   "cell_type": "code",
   "execution_count": 9,
   "metadata": {},
   "outputs": [],
   "source": [
    "#df_txodk02.filter(df['element_group'] == \"groupShelter-0\").show(150, truncate = False)"
   ]
  },
  {
   "cell_type": "markdown",
   "metadata": {},
   "source": [
    "## Sección adicional de import de `pyspark` para manejo de colecciones (DF) y búsqueda y mapeo de datos pricipales correspondientes a cada ODK\n",
    "\n",
    "__IMPORTANTE__: ES REQUERIDO validar esta estrategia para optimizar el performance y la obtención ordenada de cada expr por ODK. La propuesta es manejar un `DF` por cada set de reglas de mapeo de datos por ODK, por lo cual debemos generar Data Frames Base para cada tipo de ODK y trabajarlo por separado, después hacer merge de los DF's. "
   ]
  },
  {
   "cell_type": "code",
   "execution_count": 10,
   "metadata": {},
   "outputs": [],
   "source": [
    "from pyspark.sql.types import ArrayType, StructType, StructField, IntegerType\n",
    "from pyspark.sql.functions import col, udf, explode, expr, flatten\n",
    "from pyspark.sql import functions as F"
   ]
  },
  {
   "cell_type": "markdown",
   "metadata": {},
   "source": [
    "## Primer `approach`: Estructura unificada tipo `k/v`\n",
    "\n",
    "#### Las ventajas pueden ser las siguientes:\n",
    "- Separando los DataFrames por cada set de campos a identificar, esto permite crear mas `expr` para obtener los campos que sean requeridos en un futuro.\n",
    "- Se considera una estructura estándar unificada por campo.\n",
    "\n",
    "#### Mejoras identificadas:\n",
    "- El DF base contiene todo el universo de datos (todos los conjuntos de elementos y grupos para todos los ODK's), evaluamos el comprotamiento y determinamos si hacemos `split` por ODK.\n",
    "\n",
    "#### casos de prueba:\n",
    "\n",
    "Campos para ODK32 identificados son (podrían existir mas):\n",
    "\n",
    "|  element_group |     element    | no_odk |              value               |    tipo   |\n",
    "|:--------------:|:--------------:|:------:|:--------------------------------:|:---------:|\n",
    "| root           | root           | 32     | Código de Sitio                  | ÚNICO     |\n",
    "| root           | root           | 32     | Tipo de Instalación              | ÚNICO     |\n",
    "| root           | root           | 32     | TS Finalización                  | ÚNICO     |\n",
    "| groupBbus      | groupBbus      | 32     | Serie BBU (M)                    | ÚNICO     |\n",
    "| groupBbus      | groupCards     | 32     | Modelo Tarjeta                   | ÚNICO     |\n",
    "| groupBbus      | groupCards     | 32     | Número de Serie (Manual)         | ÚNICO     |\n",
    "| groupBbus      | groupCards     | 32     | Numero de Serie (Escanner)       | ÚNICO     |\n",
    "| groupCabinet   | groupCabinet   | 32     | Modelo de Gabinete               | ÚNICO     |\n",
    "| groupCabinet   | groupCabinet   | 32     | Tipo de Gabinete                 | ÚNICO     |\n",
    "| groupSectors   | groupAntenas   | 32     | Marca y Modelo Antena RF         | ÚNICO     |\n",
    "| groupSectors   | groupAntenas   | 32     | Modelo Antenna RF                | ÚNICO     |\n",
    "| groupSectors   | groupAntenas   | 32     | Número de Serie (Manual)         | ÚNICO     |\n",
    "| groupSectors   | groupRrus      | 32     | Número de activo fijo (manual)   | ÚNICO     |\n",
    "| groupSectors   | groupRrus      | 32     | Número de Serie (Manual)         | ÚNICO     |\n",
    "| groupSectors   | groupRrus      | 32     | RRU                              | ÚNICO     |\n",
    "| groupSectors   | groupAntenas   | 32     | Número de Serie (Escanner)       | ÚNICO     |\n",
    "| groupSectors   | groupAntenas   | 32     | Número de activo fijo (Escanner) | ÚNICO     |\n",
    "| groupSectors   | groupAntenas   | 32     | Etiqueta RCU RET                 | ÚNICO     |\n",
    "| groupSectors   | groupAntenas   | 32     | Etiqueta RCU RET 2 (Si aplica)   | ÚNICO     |\n",
    "| groupShelter   | groupShelter   | 32     | SHELTER                          | ÚNICO     |\n",
    "| groupShelter   | groupRack      | 32     | RACK                             | ÚNICO     |"
   ]
  },
  {
   "cell_type": "markdown",
   "metadata": {},
   "source": [
    "## Sección de Reglas de parseo de variables"
   ]
  },
  {
   "cell_type": "markdown",
   "metadata": {},
   "source": [
    "### Root: Código de Sitio"
   ]
  },
  {
   "cell_type": "code",
   "execution_count": 11,
   "metadata": {},
   "outputs": [],
   "source": [
    "df_txodk03_root_cs = df_txodk02 \\\n",
    ".filter(df_txodk02[\"element_group\"] == \"root\") \\\n",
    ".select(\"id_form\",\"clave_form\",\"element_group\",\"element\",\"value\") \\\n",
    ".withColumn(\"exist\", expr(\"exists(value, x -> x = 'Código de Sitio')\")) \\\n",
    ".withColumn(\"TipoElemento_key\", expr(\"filter(value, x -> x = 'Código de Sitio')\")) \\\n",
    ".withColumn(\"TipoElemento_value\", split(df_txodk02[\"value\"][expr(\"array_position(value, 'Código de Sitio')\")], \",\"))"
   ]
  },
  {
   "cell_type": "markdown",
   "metadata": {},
   "source": [
    "### Root: Tipo de Instalación"
   ]
  },
  {
   "cell_type": "code",
   "execution_count": 12,
   "metadata": {},
   "outputs": [],
   "source": [
    "df_txodk03_root_tdi = df_txodk02 \\\n",
    ".filter(df_txodk02[\"element_group\"] == \"root\") \\\n",
    ".select(\"id_form\",\"clave_form\",\"element_group\",\"element\",\"value\") \\\n",
    ".withColumn(\"exist\", expr(\"exists(value, x -> x = 'Tipo de Instalación')\")) \\\n",
    ".withColumn(\"TipoElemento_key\", expr(\"filter(value, x -> x = 'Tipo de Instalación')\")) \\\n",
    ".withColumn(\"TipoElemento_value\", split(df_txodk02[\"value\"][expr(\"array_position(value, 'Tipo de Instalación')\")], \",\"))"
   ]
  },
  {
   "cell_type": "markdown",
   "metadata": {},
   "source": [
    "### Root: TS Finalización"
   ]
  },
  {
   "cell_type": "code",
   "execution_count": 13,
   "metadata": {},
   "outputs": [],
   "source": [
    "df_txodk03_root_tsf = df_txodk02 \\\n",
    ".filter(df_txodk02[\"element_group\"] == \"root\") \\\n",
    ".select(\"id_form\",\"clave_form\",\"element_group\",\"element\",\"value\") \\\n",
    ".withColumn(\"exist\", expr(\"exists(value, x -> x = 'TS Finalización')\")) \\\n",
    ".withColumn(\"TipoElemento_key\", expr(\"filter(value, x -> x = 'TS Finalización')\")) \\\n",
    ".withColumn(\"TipoElemento_value\", split(df_txodk02[\"value\"][expr(\"array_position(value, 'TS Finalización')\")], \",\"))"
   ]
  },
  {
   "cell_type": "markdown",
   "metadata": {},
   "source": [
    "### groupBbus: Serie BBU (M)"
   ]
  },
  {
   "cell_type": "code",
   "execution_count": 14,
   "metadata": {},
   "outputs": [],
   "source": [
    "df_txodk03_groupBbus_sbbu = df_txodk02 \\\n",
    ".filter(split(df_txodk02.element_group,\"-\")[0] == \"groupBbus\") \\\n",
    ".select(\"id_form\",\"clave_form\",\"element_group\",\"element\",\"value\") \\\n",
    ".withColumn(\"exist\", expr(\"exists(value, x -> x = 'Serie BBU (M)')\")) \\\n",
    ".withColumn(\"TipoElemento_key\", expr(\"filter(value, x -> x = 'Serie BBU (M)')\")) \\\n",
    ".withColumn(\"TipoElemento_value\", split(df_txodk02[\"value\"][expr(\"array_position(value, 'Serie BBU (M)')\")], \",\"))"
   ]
  },
  {
   "cell_type": "markdown",
   "metadata": {},
   "source": [
    "### groupBbus: Modelo Tarjeta"
   ]
  },
  {
   "cell_type": "code",
   "execution_count": 15,
   "metadata": {},
   "outputs": [],
   "source": [
    "df_txodk03_groupBbus_mt = df_txodk02 \\\n",
    ".filter(split(df_txodk02.element_group,\"-\")[0] == \"groupBbus\") \\\n",
    ".select(\"id_form\",\"clave_form\",\"element_group\",\"element\",\"value\") \\\n",
    ".withColumn(\"exist\", expr(\"exists(value, x -> x = 'Modelo Tarjeta')\")) \\\n",
    ".withColumn(\"TipoElemento_key\", expr(\"filter(value, x -> x = 'Modelo Tarjeta')\")) \\\n",
    ".withColumn(\"TipoElemento_value\", split(df_txodk02[\"value\"][expr(\"array_position(value, 'Modelo Tarjeta')\")], \",\"))"
   ]
  },
  {
   "cell_type": "markdown",
   "metadata": {},
   "source": [
    "### groupBbus: Número de Serie (Manual)"
   ]
  },
  {
   "cell_type": "code",
   "execution_count": 16,
   "metadata": {},
   "outputs": [],
   "source": [
    "df_txodk03_groupBbus_nsM = df_txodk02 \\\n",
    ".filter(split(df_txodk02.element_group,\"-\")[0] == \"groupBbus\") \\\n",
    ".select(\"id_form\",\"clave_form\",\"element_group\",\"element\",\"value\") \\\n",
    ".withColumn(\"exist\", expr(\"exists(value, x -> x = 'Número de Serie (Manual)')\")) \\\n",
    ".withColumn(\"TipoElemento_key\", expr(\"filter(value, x -> x = 'Número de Serie (Manual)')\")) \\\n",
    ".withColumn(\"TipoElemento_value\", split(df_txodk02[\"value\"][expr(\"array_position(value, 'Número de Serie (Manual)')\")], \",\"))"
   ]
  },
  {
   "cell_type": "markdown",
   "metadata": {},
   "source": [
    "### groupBbus: Número de Serie (Escanner)"
   ]
  },
  {
   "cell_type": "code",
   "execution_count": 17,
   "metadata": {},
   "outputs": [],
   "source": [
    "df_txodk03_groupBbus_nsE = df_txodk02 \\\n",
    ".filter(split(df_txodk02.element_group,\"-\")[0] == \"groupBbus\") \\\n",
    ".select(\"id_form\",\"clave_form\",\"element_group\",\"element\",\"value\") \\\n",
    ".withColumn(\"exist\", expr(\"exists(value, x -> x = 'Numero de Serie (Escanner)')\")) \\\n",
    ".withColumn(\"TipoElemento_key\", expr(\"filter(value, x -> x = 'Numero de Serie (Escanner)')\")) \\\n",
    ".withColumn(\"TipoElemento_value\", split(df_txodk02[\"value\"][expr(\"array_position(value, 'Numero de Serie (Escanner)')\")], \",\"))"
   ]
  },
  {
   "cell_type": "markdown",
   "metadata": {},
   "source": [
    "### groupCabinet: Modelo de Gabinete"
   ]
  },
  {
   "cell_type": "code",
   "execution_count": 18,
   "metadata": {},
   "outputs": [],
   "source": [
    "df_txodk03_groupCabinet_mg = df_txodk02 \\\n",
    ".filter(split(df_txodk02.element_group,\"-\")[0] == \"groupCabinet\") \\\n",
    ".select(\"id_form\",\"clave_form\",\"element_group\",\"element\",\"value\") \\\n",
    ".withColumn(\"exist\", expr(\"exists(value, x -> x = 'Modelo de Gabinete')\")) \\\n",
    ".withColumn(\"TipoElemento_key\", expr(\"filter(value, x -> x = 'Modelo de Gabinete')\")) \\\n",
    ".withColumn(\"TipoElemento_value\", split(df_txodk02[\"value\"][expr(\"array_position(value, 'Modelo de Gabinete')\")], \",\"))"
   ]
  },
  {
   "cell_type": "markdown",
   "metadata": {},
   "source": [
    "### groupCabinet: Tipo de Gabinete"
   ]
  },
  {
   "cell_type": "code",
   "execution_count": 19,
   "metadata": {},
   "outputs": [],
   "source": [
    "df_txodk03_groupCabinet_tg = df_txodk02 \\\n",
    ".filter(split(df_txodk02.element_group,\"-\")[0] == \"groupCabinet\") \\\n",
    ".select(\"id_form\",\"clave_form\",\"element_group\",\"element\",\"value\") \\\n",
    ".withColumn(\"exist\", expr(\"exists(value, x -> x = 'Tipo de Gabinete')\")) \\\n",
    ".withColumn(\"TipoElemento_key\", expr(\"filter(value, x -> x = 'Tipo de Gabinete')\")) \\\n",
    ".withColumn(\"TipoElemento_value\", split(df_txodk02[\"value\"][expr(\"array_position(value, 'Tipo de Gabinete')\")], \",\"))"
   ]
  },
  {
   "cell_type": "markdown",
   "metadata": {},
   "source": [
    "### groupSectors: Marca y Modelo Antena RF"
   ]
  },
  {
   "cell_type": "code",
   "execution_count": 20,
   "metadata": {},
   "outputs": [],
   "source": [
    "df_txodk03_groupSectors_mymARF = df_txodk02 \\\n",
    ".filter(split(df_txodk02.element_group,\"-\")[0] == \"groupSectors\") \\\n",
    ".select(\"id_form\",\"clave_form\",\"element_group\",\"element\",\"value\") \\\n",
    ".withColumn(\"exist\", expr(\"exists(value, x -> x = 'Marca y Modelo Antena RF')\")) \\\n",
    ".withColumn(\"TipoElemento_key\", expr(\"filter(value, x -> x = 'Marca y Modelo Antena RF')\")) \\\n",
    ".withColumn(\"TipoElemento_value\", split(df_txodk02[\"value\"][expr(\"array_position(value, 'Marca y Modelo Antena RF')\")], \",\"))"
   ]
  },
  {
   "cell_type": "markdown",
   "metadata": {},
   "source": [
    "### groupSectors: Modelo Antenna RF"
   ]
  },
  {
   "cell_type": "code",
   "execution_count": 21,
   "metadata": {},
   "outputs": [],
   "source": [
    "df_txodk03_groupSectors_mARF = df_txodk02 \\\n",
    ".filter(split(df_txodk02.element_group,\"-\")[0] == \"groupSectors\") \\\n",
    ".select(\"id_form\",\"clave_form\",\"element_group\",\"element\",\"value\") \\\n",
    ".withColumn(\"exist\", expr(\"exists(value, x -> x = 'Modelo Antenna RF')\")) \\\n",
    ".withColumn(\"TipoElemento_key\", expr(\"filter(value, x -> x = 'Modelo Antenna RF')\")) \\\n",
    ".withColumn(\"TipoElemento_value\", split(df_txodk02[\"value\"][expr(\"array_position(value, 'Modelo Antenna RF')\")], \",\"))"
   ]
  },
  {
   "cell_type": "markdown",
   "metadata": {},
   "source": [
    "### groupSectors: Número de Serie (Manual)"
   ]
  },
  {
   "cell_type": "code",
   "execution_count": 22,
   "metadata": {},
   "outputs": [],
   "source": [
    "df_txodk03_groupSectors_nsM = df_txodk02 \\\n",
    ".filter(split(df_txodk02.element_group,\"-\")[0] == \"groupSectors\") \\\n",
    ".select(\"id_form\",\"clave_form\",\"element_group\",\"element\",\"value\") \\\n",
    ".withColumn(\"exist\", expr(\"exists(value, x -> x = 'Número de Serie (Manual)')\")) \\\n",
    ".withColumn(\"TipoElemento_key\", expr(\"filter(value, x -> x = 'Número de Serie (Manual)')\")) \\\n",
    ".withColumn(\"TipoElemento_value\", split(df_txodk02[\"value\"][expr(\"array_position(value, 'Número de Serie (Manual)')\")], \",\"))"
   ]
  },
  {
   "cell_type": "markdown",
   "metadata": {},
   "source": [
    "### groupSectors: Número de serie (manual)"
   ]
  },
  {
   "cell_type": "code",
   "execution_count": 23,
   "metadata": {},
   "outputs": [],
   "source": [
    "df_txodk03_groupSectors_nsm = df_txodk02 \\\n",
    ".filter(split(df_txodk02.element_group,\"-\")[0] == \"groupSectors\") \\\n",
    ".select(\"id_form\",\"clave_form\",\"element_group\",\"element\",\"value\") \\\n",
    ".withColumn(\"exist\", expr(\"exists(value, x -> x = 'Número de serie (manual)')\")) \\\n",
    ".withColumn(\"TipoElemento_key\", expr(\"filter(value, x -> x = 'Número de serie (manual)')\")) \\\n",
    ".withColumn(\"TipoElemento_value\", split(df_txodk02[\"value\"][expr(\"array_position(value, 'Número de serie (manual)')\")], \",\"))"
   ]
  },
  {
   "cell_type": "markdown",
   "metadata": {},
   "source": [
    "### groupSectors: Número de Serie (Escanner)"
   ]
  },
  {
   "cell_type": "code",
   "execution_count": 24,
   "metadata": {},
   "outputs": [],
   "source": [
    "df_txodk03_groupSectors_nsE = df_txodk02 \\\n",
    ".filter(split(df_txodk02.element_group,\"-\")[0] == \"groupSectors\") \\\n",
    ".select(\"id_form\",\"clave_form\",\"element_group\",\"element\",\"value\") \\\n",
    ".withColumn(\"exist\", expr(\"exists(value, x -> x = 'Numero de Serie (Escanner)')\")) \\\n",
    ".withColumn(\"TipoElemento_key\", expr(\"filter(value, x -> x = 'Numero de Serie (Escanner)')\")) \\\n",
    ".withColumn(\"TipoElemento_value\", split(df_txodk02[\"value\"][expr(\"array_position(value, 'Numero de Serie (Escanner)')\")], \",\"))"
   ]
  },
  {
   "cell_type": "markdown",
   "metadata": {},
   "source": [
    "### groupSectors: Número de activo fijo (manual)"
   ]
  },
  {
   "cell_type": "code",
   "execution_count": 25,
   "metadata": {},
   "outputs": [],
   "source": [
    "df_txodk03_groupSectors_nAFM = df_txodk02 \\\n",
    ".filter(split(df_txodk02.element_group,\"-\")[0] == \"groupSectors\") \\\n",
    ".select(\"id_form\",\"clave_form\",\"element_group\",\"element\",\"value\") \\\n",
    ".withColumn(\"exist\", expr(\"exists(value, x -> x = 'Número de activo fijo (manual)')\")) \\\n",
    ".withColumn(\"TipoElemento_key\", expr(\"filter(value, x -> x = 'Número de activo fijo (manual)')\")) \\\n",
    ".withColumn(\"TipoElemento_value\", split(df_txodk02[\"value\"][expr(\"array_position(value, 'Número de activo fijo (manual)')\")], \",\"))"
   ]
  },
  {
   "cell_type": "markdown",
   "metadata": {},
   "source": [
    "### groupSectors: Número de activo fijo (Escanner)"
   ]
  },
  {
   "cell_type": "code",
   "execution_count": 26,
   "metadata": {},
   "outputs": [],
   "source": [
    "df_txodk03_groupSectors_nAFE = df_txodk02 \\\n",
    ".filter(split(df_txodk02.element_group,\"-\")[0] == \"groupSectors\") \\\n",
    ".select(\"id_form\",\"clave_form\",\"element_group\",\"element\",\"value\") \\\n",
    ".withColumn(\"exist\", expr(\"exists(value, x -> x = 'Numero de activo fijo (Escanner)')\")) \\\n",
    ".withColumn(\"TipoElemento_key\", expr(\"filter(value, x -> x = 'Número de activo fijo (Escanner)')\")) \\\n",
    ".withColumn(\"TipoElemento_value\", split(df_txodk02[\"value\"][expr(\"array_position(value, 'Número de activo fijo (Escanner)')\")], \",\"))"
   ]
  },
  {
   "cell_type": "markdown",
   "metadata": {},
   "source": [
    "### groupSectors: Etiqueta RCU RET"
   ]
  },
  {
   "cell_type": "code",
   "execution_count": 27,
   "metadata": {},
   "outputs": [],
   "source": [
    "df_txodk03_groupSectors_rcu = df_txodk02 \\\n",
    ".filter(split(df_txodk02.element_group,\"-\")[0] == \"groupSectors\") \\\n",
    ".select(\"id_form\",\"clave_form\",\"element_group\",\"element\",\"value\") \\\n",
    ".withColumn(\"exist\", expr(\"exists(value, x -> x = 'Etiqueta RCU RET')\")) \\\n",
    ".withColumn(\"TipoElemento_key\", expr(\"filter(value, x -> x = 'Etiqueta RCU RET')\")) \\\n",
    ".withColumn(\"TipoElemento_value\", split(df_txodk02[\"value\"][expr(\"array_position(value, 'Etiqueta RCU RET')\")], \",\"))"
   ]
  },
  {
   "cell_type": "markdown",
   "metadata": {},
   "source": [
    "### groupSectors: Etiqueta RCU RET 2 (Si aplica)"
   ]
  },
  {
   "cell_type": "code",
   "execution_count": 28,
   "metadata": {},
   "outputs": [],
   "source": [
    "df_txodk03_groupSectors_rcu2 = df_txodk02 \\\n",
    ".filter(split(df_txodk02.element_group,\"-\")[0] == \"groupSectors\") \\\n",
    ".select(\"id_form\",\"clave_form\",\"element_group\",\"element\",\"value\") \\\n",
    ".withColumn(\"exist\", expr(\"exists(value, x -> x = 'Etiqueta RCU RET 2 (Si aplica)')\")) \\\n",
    ".withColumn(\"TipoElemento_key\", expr(\"filter(value, x -> x = 'Etiqueta RCU RET 2 (Si aplica)')\")) \\\n",
    ".withColumn(\"TipoElemento_value\", split(df_txodk02[\"value\"][expr(\"array_position(value, 'Etiqueta RCU RET 2 (Si aplica)')\")], \",\"))"
   ]
  },
  {
   "cell_type": "markdown",
   "metadata": {},
   "source": [
    "### groupSectors: RRU 01"
   ]
  },
  {
   "cell_type": "code",
   "execution_count": 29,
   "metadata": {},
   "outputs": [],
   "source": [
    "df_txodk03_groupSectors_rru01 = df_txodk02 \\\n",
    ".filter(split(df_txodk02.element_group,\"-\")[0] == \"groupSectors\") \\\n",
    ".select(\"id_form\",\"clave_form\",\"element_group\",\"element\",\"value\") \\\n",
    ".withColumn(\"exist\", expr(\"exists(value, x -> x = 'RRU 01')\")) \\\n",
    ".withColumn(\"TipoElemento_key\", expr(\"filter(value, x -> x = 'RRU 01')\")) \\\n",
    ".withColumn(\"TipoElemento_value\", split(df_txodk02[\"value\"][expr(\"array_position(value, 'RRU 01')\")], \",\"))"
   ]
  },
  {
   "cell_type": "markdown",
   "metadata": {},
   "source": [
    "### groupSectors: RRU 02"
   ]
  },
  {
   "cell_type": "code",
   "execution_count": 30,
   "metadata": {},
   "outputs": [],
   "source": [
    "df_txodk03_groupSectors_rru02 = df_txodk02 \\\n",
    ".filter(split(df_txodk02.element_group,\"-\")[0] == \"groupSectors\") \\\n",
    ".select(\"id_form\",\"clave_form\",\"element_group\",\"element\",\"value\") \\\n",
    ".withColumn(\"exist\", expr(\"exists(value, x -> x = 'RRU 02')\")) \\\n",
    ".withColumn(\"TipoElemento_key\", expr(\"filter(value, x -> x = 'RRU 02')\")) \\\n",
    ".withColumn(\"TipoElemento_value\", split(df_txodk02[\"value\"][expr(\"array_position(value, 'RRU 02')\")], \",\"))"
   ]
  },
  {
   "cell_type": "markdown",
   "metadata": {},
   "source": [
    "### groupSectors: RRU 03"
   ]
  },
  {
   "cell_type": "code",
   "execution_count": 31,
   "metadata": {},
   "outputs": [],
   "source": [
    "df_txodk03_groupSectors_rru03 = df_txodk02 \\\n",
    ".filter(split(df_txodk02.element_group,\"-\")[0] == \"groupSectors\") \\\n",
    ".select(\"id_form\",\"clave_form\",\"element_group\",\"element\",\"value\") \\\n",
    ".withColumn(\"exist\", expr(\"exists(value, x -> x = 'RRU 03')\")) \\\n",
    ".withColumn(\"TipoElemento_key\", expr(\"filter(value, x -> x = 'RRU 03')\")) \\\n",
    ".withColumn(\"TipoElemento_value\", split(df_txodk02[\"value\"][expr(\"array_position(value, 'RRU 03')\")], \",\"))"
   ]
  },
  {
   "cell_type": "markdown",
   "metadata": {},
   "source": [
    "### groupSectors: SHELTER 01"
   ]
  },
  {
   "cell_type": "code",
   "execution_count": 32,
   "metadata": {},
   "outputs": [],
   "source": [
    "df_txodk03_groupShelter_sh01 = df_txodk02 \\\n",
    ".filter(split(df_txodk02.element_group,\"-\")[0] == \"groupShelter\") \\\n",
    ".select(\"id_form\",\"clave_form\",\"element_group\",\"element\",\"value\") \\\n",
    ".withColumn(\"exist\", expr(\"exists(value, x -> x = 'SHELTER 01')\")) \\\n",
    ".withColumn(\"TipoElemento_key\", expr(\"filter(value, x -> x = 'SHELTER 01')\")) \\\n",
    ".withColumn(\"TipoElemento_value\", split(df_txodk02[\"value\"][expr(\"array_position(value, 'SHELTER 01')\")], \",\"))"
   ]
  },
  {
   "cell_type": "markdown",
   "metadata": {},
   "source": [
    "### groupSectors: SHELTER 02"
   ]
  },
  {
   "cell_type": "code",
   "execution_count": 33,
   "metadata": {},
   "outputs": [],
   "source": [
    "df_txodk03_groupShelter_sh02 = df_txodk02 \\\n",
    ".filter(split(df_txodk02.element_group,\"-\")[0] == \"groupShelter\") \\\n",
    ".select(\"id_form\",\"clave_form\",\"element_group\",\"element\",\"value\") \\\n",
    ".withColumn(\"exist\", expr(\"exists(value, x -> x = 'SHELTER 02')\")) \\\n",
    ".withColumn(\"TipoElemento_key\", expr(\"filter(value, x -> x = 'SHELTER 02')\")) \\\n",
    ".withColumn(\"TipoElemento_value\", split(df_txodk02[\"value\"][expr(\"array_position(value, 'SHELTER 02')\")], \",\"))"
   ]
  },
  {
   "cell_type": "markdown",
   "metadata": {},
   "source": [
    "### groupSectors: RACK 01"
   ]
  },
  {
   "cell_type": "code",
   "execution_count": 34,
   "metadata": {},
   "outputs": [],
   "source": [
    "df_txodk03_groupShelter_rack01 = df_txodk02 \\\n",
    ".filter(split(df_txodk02.element_group,\"-\")[0] == \"groupShelter\") \\\n",
    ".select(\"id_form\",\"clave_form\",\"element_group\",\"element\",\"value\") \\\n",
    ".withColumn(\"exist\", expr(\"exists(value, x -> x = 'RACK 01')\")) \\\n",
    ".withColumn(\"TipoElemento_key\", expr(\"filter(value, x -> x = 'RACK 01')\")) \\\n",
    ".withColumn(\"TipoElemento_value\", split(df_txodk02[\"value\"][expr(\"array_position(value, 'RACK 01')\")], \",\"))"
   ]
  },
  {
   "cell_type": "markdown",
   "metadata": {},
   "source": [
    "### groupSectors: RACK 02"
   ]
  },
  {
   "cell_type": "code",
   "execution_count": 35,
   "metadata": {},
   "outputs": [],
   "source": [
    "df_txodk03_groupShelter_rack02 = df_txodk02 \\\n",
    ".filter(split(df_txodk02.element_group,\"-\")[0] == \"groupShelter\") \\\n",
    ".select(\"id_form\",\"clave_form\",\"element_group\",\"element\",\"value\") \\\n",
    ".withColumn(\"exist\", expr(\"exists(value, x -> x = 'RACK 02')\")) \\\n",
    ".withColumn(\"TipoElemento_key\", expr(\"filter(value, x -> x = 'RACK 02')\")) \\\n",
    ".withColumn(\"TipoElemento_value\", split(df_txodk02[\"value\"][expr(\"array_position(value, 'RACK 02')\")], \",\"))"
   ]
  },
  {
   "cell_type": "markdown",
   "metadata": {},
   "source": [
    "## Reglas de parseo de variables"
   ]
  },
  {
   "cell_type": "code",
   "execution_count": 36,
   "metadata": {},
   "outputs": [],
   "source": [
    "# import modules\n",
    "from functools import reduce\n",
    "from pyspark.sql import DataFrame\n",
    "# create list of dataframes\n",
    "dfs = [df_txodk03_root_cs, \\\n",
    "       df_txodk03_root_tdi, \\\n",
    "       df_txodk03_root_tsf, \\\n",
    "       df_txodk03_groupBbus_mt, \\\n",
    "       df_txodk03_groupBbus_nsM, \\\n",
    "       df_txodk03_groupBbus_sbbu, \\\n",
    "       df_txodk03_groupCabinet_mg, \\\n",
    "       df_txodk03_groupCabinet_tg, \\\n",
    "       df_txodk03_groupSectors_mARF, \\\n",
    "       df_txodk03_groupSectors_mymARF, \\\n",
    "       df_txodk03_groupSectors_nAFM, \\\n",
    "       df_txodk03_groupSectors_nsM, \\\n",
    "       df_txodk03_groupSectors_rru02, \\\n",
    "       df_txodk03_groupBbus_nsE, \\\n",
    "       df_txodk03_groupSectors_nsE, \\\n",
    "       df_txodk03_groupSectors_nAFE, \\\n",
    "       df_txodk03_groupSectors_rcu, \\\n",
    "       df_txodk03_groupSectors_rcu2, \\\n",
    "       df_txodk03_groupSectors_rru01, \\\n",
    "       df_txodk03_groupSectors_rru03, \\\n",
    "       df_txodk03_groupShelter_sh01, \\\n",
    "       df_txodk03_groupShelter_rack01, \\\n",
    "       df_txodk03_groupShelter_sh02, \\\n",
    "       df_txodk03_groupShelter_rack02, \\\n",
    "       df_txodk03_groupSectors_nsm\n",
    "       ]\n",
    "# create merged dataframe\n",
    "df_txodk04 = reduce(DataFrame.unionAll, dfs)"
   ]
  },
  {
   "cell_type": "code",
   "execution_count": 37,
   "metadata": {},
   "outputs": [],
   "source": [
    "df_txodk05 = df_txodk04.select(\"id_form\",\"clave_form\",\"element_group\",\"element\",\"exist\",df_txodk04[\"TipoElemento_key\"].alias(\"TipoElemento_key\"),\"TipoElemento_value\")"
   ]
  },
  {
   "cell_type": "code",
   "execution_count": 38,
   "metadata": {},
   "outputs": [],
   "source": [
    "df = df_txodk05.withColumn(\"new\", F.arrays_zip(\"TipoElemento_key\", \"TipoElemento_value\"))\\\n",
    "       .withColumn(\"new\", F.explode(\"new\"))\\\n",
    "       .select(\"id_form\",\"clave_form\",\"element_group\", \"element\",\"exist\", F.col(\"new.TipoElemento_key\").alias(\"TipoElemento_key\"), F.col(\"new.TipoElemento_value\").alias(\"TipoElemento_value\"))"
   ]
  },
  {
   "cell_type": "code",
   "execution_count": 39,
   "metadata": {},
   "outputs": [],
   "source": [
    "df_txodk06 = df.filter(df['exist'] == \"true\")"
   ]
  },
  {
   "cell_type": "code",
   "execution_count": 40,
   "metadata": {},
   "outputs": [
    {
     "name": "stdout",
     "output_type": "stream",
     "text": [
      "+-------+----------+-------------+-------+-----+----------------+--------------------+\n",
      "|id_form|clave_form|element_group|element|exist|TipoElemento_key|  TipoElemento_value|\n",
      "+-------+----------+-------------+-------+-----+----------------+--------------------+\n",
      "|  29274|     AIATP|         root|   root| true| Código de Sitio|            HCUN0057|\n",
      "|  32456|     AIATP|         root|   root| true| Código de Sitio|           MORL-9045|\n",
      "|  37458|     AIATP|         root|   root| true| Código de Sitio|            HTOL0058|\n",
      "|  37512|     AIATP|         root|   root| true| Código de Sitio|           HVIC-0040|\n",
      "|  42653|     AIATP|         root|   root| true| Código de Sitio|       ATT-HPTV-0008|\n",
      "|  45251|     AIATP|         root|   root| true| Código de Sitio|          YUCMER0736|\n",
      "|  45385|     AIATP|         root|   root| true| Código de Sitio|        ATT-JAL-5147|\n",
      "|  46288|     AIATP|         root|   root| true| Código de Sitio|.MEXECA1058 ARINC...|\n",
      "|  53304|     AIATP|         root|   root| true| Código de Sitio|          QTOQTO2175|\n",
      "|  63315|     AIATP|         root|   root| true| Código de Sitio|         COATOR-1601|\n",
      "|  63593|     AIATP|         root|   root| true| Código de Sitio|          DIFIZT1175|\n",
      "|  64239|     AIATP|         root|   root| true| Código de Sitio|          NLEJRZ1493|\n",
      "|  68600|     AIATP|         root|   root| true| Código de Sitio|GUALEO1817 campirano|\n",
      "|  89585|     AIATP|         root|   root| true| Código de Sitio|      ATT-MEXALJ1479|\n",
      "|  91346|     AIATP|         root|   root| true| Código de Sitio|ATT-JALZAP2030- C...|\n",
      "|  96055|     AIATP|         root|   root| true| Código de Sitio|MEXNEZ1140-SANTA ...|\n",
      "|  99521|     AIATP|         root|   root| true| Código de Sitio|            MEX-9052|\n",
      "| 102577|     AIATP|         root|   root| true| Código de Sitio|          NLEPGG0886|\n",
      "|  28974|     AIATP|         root|   root| true| Código de Sitio|            GUE-7047|\n",
      "|  34401|     AIATP|         root|   root| true| Código de Sitio|             CHI-165|\n",
      "+-------+----------+-------------+-------+-----+----------------+--------------------+\n",
      "only showing top 20 rows\n",
      "\n"
     ]
    }
   ],
   "source": [
    "df_txodk06.show(20)"
   ]
  },
  {
   "cell_type": "markdown",
   "metadata": {},
   "source": [
    "## Persistiendo los valores en formato:\n",
    "\n",
    "- `df_txodk06`, formato basado en rows `tabular`\n",
    "\n",
    "Y guardamos en una tabla en hive."
   ]
  },
  {
   "cell_type": "code",
   "execution_count": 41,
   "metadata": {},
   "outputs": [],
   "source": [
    "df_txodk06.write.format(\"parquet\").mode(\"Overwrite\").saveAsTable(\"default.tx_stg_06_tabular_odk_32\")"
   ]
  }
 ],
 "metadata": {
  "kernelspec": {
   "display_name": "Python 2",
   "language": "python",
   "name": "python2"
  },
  "language_info": {
   "codemirror_mode": {
    "name": "ipython",
    "version": 2
   },
   "file_extension": ".py",
   "mimetype": "text/x-python",
   "name": "python",
   "nbconvert_exporter": "python",
   "pygments_lexer": "ipython2",
   "version": "2.7.15"
  }
 },
 "nbformat": 4,
 "nbformat_minor": 2
}
