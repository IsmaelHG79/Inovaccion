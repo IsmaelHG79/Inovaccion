{
 "cells": [
  {
   "cell_type": "markdown",
   "metadata": {},
   "source": [
    "# Adquisición de datos para ODK 76"
   ]
  },
  {
   "cell_type": "markdown",
   "metadata": {},
   "source": [
    "## Sección para import's de `Python` y `Spark`"
   ]
  },
  {
   "cell_type": "code",
   "execution_count": 1,
   "metadata": {},
   "outputs": [],
   "source": [
    "import os\n",
    "os.environ['JAVA_HOME'] = '/usr/java/jdk1.8.0_162'\n",
    "os.environ['SPARK_HOME'] = '/opt/cloudera/parcels/CDH-6.2.0-1.cdh6.2.0.p0.967373/lib/spark'\n",
    "import findspark\n",
    "findspark.init()\n",
    "from pyspark import SparkContext, SparkConf\n",
    "from pyspark.sql import SparkSession\n",
    "from pyspark.sql.types import *\n",
    "from pyspark.sql import HiveContext\n",
    "import pandasql\n",
    "\n",
    "from pyspark.sql.functions import col, split, regexp_extract, array_contains, regexp_replace,concat_ws, create_map, create_map, lit\n",
    "import pyspark.sql.functions as f"
   ]
  },
  {
   "cell_type": "markdown",
   "metadata": {},
   "source": [
    "## Creando SparkContext"
   ]
  },
  {
   "cell_type": "code",
   "execution_count": 2,
   "metadata": {},
   "outputs": [],
   "source": [
    "conf = SparkConf().setAppName('EDA_ODK_76')  \\\n",
    "    .setMaster('yarn').set(\"spark.yarn.queue\",\"root.eda\")\n",
    "spark = SparkSession.builder.config(conf=conf).getOrCreate()\n",
    "sc = spark.sparkContext\n",
    "sqlContext = HiveContext(sc)"
   ]
  },
  {
   "cell_type": "markdown",
   "metadata": {},
   "source": [
    "## ANTES DE EMPEZAR VALIDAR SU `ID_FORM`\n",
    "\n",
    "```\n",
    "select * from tx_stg_06_1_odk\n",
    "WHERE id_form  = 179490 --and element_group = \"groupAntennaRRU-0\"\n",
    "ORDER BY element_group, element\n",
    "```"
   ]
  },
  {
   "cell_type": "markdown",
   "metadata": {},
   "source": [
    "## Lectura de datos requeridos para el proceso\n",
    "\n",
    "En este caso estamos leyendo la tabla `tx_stg_06_1_odk` la cual contiene la información agrupada y aplanada a nivel:\n",
    "- id_form, clave del formulario `n->many`.\n",
    "- clave_form, clave para relacionar con eñ catálogo de ODK's `n->many`\n",
    "- element_group, elemento padre agrupador de la estructura del formulario, el cual es dinamico de acuerdo a la operación y concepto del ODK. \n",
    "- element, elemento hijo y corresponde `n->to one` element_group.\n",
    "- value, Lista de campos y  valores posibles para cada tipo de ODK. "
   ]
  },
  {
   "cell_type": "code",
   "execution_count": 3,
   "metadata": {},
   "outputs": [],
   "source": [
    "df_txodk01 = spark.read.table(\"tx_stg_06_1_odk\") "
   ]
  },
  {
   "cell_type": "code",
   "execution_count": 7,
   "metadata": {},
   "outputs": [],
   "source": [
    "df_tyest =  df_txodk01.withColumn(\"test\",split(df_txodk01.element_group,\"-\")[0])"
   ]
  },
  {
   "cell_type": "code",
   "execution_count": 8,
   "metadata": {},
   "outputs": [
    {
     "name": "stdout",
     "output_type": "stream",
     "text": [
      "+--------------------+\n",
      "|test                |\n",
      "+--------------------+\n",
      "|groupAntennaRRU     |\n",
      "|groupBbus           |\n",
      "|groupSectors        |\n",
      "|groupMaterials      |\n",
      "|groupSectors        |\n",
      "|groupMaterials      |\n",
      "|groupMaterials      |\n",
      "|groupAntennaRRU     |\n",
      "|groupAntennaRRU     |\n",
      "|root                |\n",
      "|groupAntennaRRU     |\n",
      "|groupMaterials      |\n",
      "|groupMaterials      |\n",
      "|groupAntennaRRU     |\n",
      "|groupAntennaRRU     |\n",
      "|groupMaterials      |\n",
      "|groupMaterials      |\n",
      "|groupMaterials      |\n",
      "|groupAntennaRRU     |\n",
      "|groupAntennaRRUVwGrp|\n",
      "+--------------------+\n",
      "only showing top 20 rows\n",
      "\n"
     ]
    }
   ],
   "source": [
    "df_tyest.select(\"test\").show(truncate=False)"
   ]
  },
  {
   "cell_type": "code",
   "execution_count": 4,
   "metadata": {},
   "outputs": [
    {
     "name": "stdout",
     "output_type": "stream",
     "text": [
      "+-------+----------+--------------------+--------------------+--------------------+------+\n",
      "|id_form|clave_form|       element_group|             element|               value|odk_no|\n",
      "+-------+----------+--------------------+--------------------+--------------------+------+\n",
      "| 100005|     DECOR|   groupAntennaRRU-0|          strUnity-0|       [Unidad, Pza]|  0038|\n",
      "| 100028|     AIATP|         groupBbus-0|        groupCards-3|[TARJETAS BBU 04,...|  0032|\n",
      "| 100041|     AIATP|      groupSectors-0|         groupRrus-2|[RRU 03, , Vista ...|  0032|\n",
      "| 100834|     DECOR|   groupMaterials-25|          strUnity-8|       [Unidad, Pza]|  0038|\n",
      "| 100835|     AIATP|      groupSectors-1|      groupAntenas-0|[ANTENA 01, , Eti...|  0032|\n",
      "| 100842|     DECOR|    groupMaterials-4|    groupMaterials-4|[GRUPO DE MATERIA...|  0038|\n",
      "| 100849|     DECOR|    groupMaterials-6|        strTypeOth-8|[Tipo de Material...|  0038|\n",
      "| 100852|     DECOR|   groupAntennaRRU-0|          intHight-0|[Altura, 30, Altu...|  0038|\n",
      "| 100852|     DECOR|   groupAntennaRRU-2|       intQuantity-0|       [Cantidad, 2]|  0038|\n",
      "| 100860|     DECOR|                root|                root|[TS Finalización,...|  0038|\n",
      "| 100870|     DECOR|   groupAntennaRRU-0|    strAssetNumber-0|[Número de activo...|  0038|\n",
      "| 100884|     DECOR|   groupMaterials-17|   groupMaterials-17|[GRUPO DE MATERIA...|  0038|\n",
      "| 100889|     DECOR|    groupMaterials-1|       intQuantity-8|       [Cantidad, 9]|  0038|\n",
      "| 100891|     DECOR|   groupAntennaRRU-3|groupSubAntennaRRU-0|[SUBGRUPO DE ANTE...|  0038|\n",
      "| 100906|     DECOR|   groupAntennaRRU-0|    strAssetNumber-0|[Número de activo...|  0038|\n",
      "| 100921|     DECOR|    groupMaterials-6|          strUnity-8|    [Unidad, Piesas]|  0038|\n",
      "| 100923|     DECOR|    groupMaterials-8| groupSubMaterials-3|[SUBGRUPO DE MATE...|  0038|\n",
      "| 100924|     DECOR|   groupMaterials-18|       intQuantity-8|       [Cantidad, 1]|  0038|\n",
      "| 100927|     DECOR|   groupAntennaRRU-2|     strManualMode-0|[Número de serie ...|  0038|\n",
      "| 100938|     DECOR|groupAntennaRRUVw...|groupAntennaRRUVw...|[VISTA GABINETES ...|  0038|\n",
      "+-------+----------+--------------------+--------------------+--------------------+------+\n",
      "only showing top 20 rows\n",
      "\n"
     ]
    }
   ],
   "source": [
    "df_txodk01.show()"
   ]
  },
  {
   "cell_type": "code",
   "execution_count": 5,
   "metadata": {},
   "outputs": [
    {
     "name": "stdout",
     "output_type": "stream",
     "text": [
      "root\n",
      " |-- id_form: string (nullable = true)\n",
      " |-- clave_form: string (nullable = true)\n",
      " |-- element_group: string (nullable = true)\n",
      " |-- element: string (nullable = true)\n",
      " |-- value: array (nullable = true)\n",
      " |    |-- element: string (containsNull = true)\n",
      "\n"
     ]
    }
   ],
   "source": [
    "df_txodk01.printSchema()"
   ]
  },
  {
   "cell_type": "markdown",
   "metadata": {},
   "source": [
    "# Filtrado para pruebas controladas, los siguientes escenarios se contemplan:\n",
    "\n",
    "- filtrado de `id_form`, para identificar el tipo de documento a validar.\n",
    "- filtrado de `clave_form`, para identificar el tipo de ODK's a validar."
   ]
  },
  {
   "cell_type": "code",
   "execution_count": 6,
   "metadata": {},
   "outputs": [],
   "source": [
    "df_txodk02 = df_txodk01.filter(df_txodk01[\"id_form\"]==\"179490\").select(\"id_form\",\"clave_form\",\"element_group\",\"element\",\"value\").withColumn('value_str', concat_ws(',', 'value')).orderBy(df_txodk01[\"clave_form\"])"
   ]
  },
  {
   "cell_type": "markdown",
   "metadata": {},
   "source": [
    "## Verificamos la estructura del documento, agrupando por:\n",
    "\n",
    "- `element_group`, elemento padre agrupador de la estructura del formulario, el cual es dinámico de acuerdo a la operación y concepto del ODK.\n",
    "\n",
    "Este comportamiento estará variando de acuerdo a al filtrado anterior el cual analizará la estructura de los ODK's dentro del alcance, que corresponde a:\n",
    "\n",
    "1. `12`, Instalación\n",
    "2. `32`, Instalación y comisionamiento. \n",
    "3. `38`, Decomiso. \n",
    "4. `76`, Salida de Almacen\n",
    "5. `99`, Operaciones (Site Survey)\n",
    "\n",
    "NOTA, la combinación de 12 & 32 es un caso para analizar como parte del EDA de ODK's."
   ]
  },
  {
   "cell_type": "code",
   "execution_count": 7,
   "metadata": {},
   "outputs": [
    {
     "name": "stdout",
     "output_type": "stream",
     "text": [
      "+----------------------+-----+\n",
      "|element_group         |count|\n",
      "+----------------------+-----+\n",
      "|groupPedMovimiento-0  |2    |\n",
      "|groupPedMovimiento-1  |2    |\n",
      "|groupPedMovimiento-10 |2    |\n",
      "|groupPedMovimiento-100|2    |\n",
      "|groupPedMovimiento-101|2    |\n",
      "|groupPedMovimiento-102|2    |\n",
      "|groupPedMovimiento-103|2    |\n",
      "|groupPedMovimiento-104|2    |\n",
      "|groupPedMovimiento-105|2    |\n",
      "|groupPedMovimiento-106|2    |\n",
      "|groupPedMovimiento-107|2    |\n",
      "|groupPedMovimiento-108|2    |\n",
      "|groupPedMovimiento-109|2    |\n",
      "|groupPedMovimiento-11 |2    |\n",
      "|groupPedMovimiento-110|2    |\n",
      "|groupPedMovimiento-111|2    |\n",
      "|groupPedMovimiento-112|2    |\n",
      "|groupPedMovimiento-113|2    |\n",
      "|groupPedMovimiento-114|2    |\n",
      "|groupPedMovimiento-115|2    |\n",
      "|groupPedMovimiento-116|2    |\n",
      "|groupPedMovimiento-117|2    |\n",
      "|groupPedMovimiento-118|2    |\n",
      "|groupPedMovimiento-119|2    |\n",
      "|groupPedMovimiento-12 |2    |\n",
      "|groupPedMovimiento-120|2    |\n",
      "|groupPedMovimiento-121|2    |\n",
      "|groupPedMovimiento-122|2    |\n",
      "|groupPedMovimiento-123|2    |\n",
      "|groupPedMovimiento-124|2    |\n",
      "|groupPedMovimiento-125|2    |\n",
      "|groupPedMovimiento-126|2    |\n",
      "|groupPedMovimiento-127|2    |\n",
      "|groupPedMovimiento-128|2    |\n",
      "|groupPedMovimiento-129|2    |\n",
      "|groupPedMovimiento-13 |2    |\n",
      "|groupPedMovimiento-130|2    |\n",
      "|groupPedMovimiento-131|2    |\n",
      "|groupPedMovimiento-132|2    |\n",
      "|groupPedMovimiento-133|2    |\n",
      "|groupPedMovimiento-134|2    |\n",
      "|groupPedMovimiento-135|2    |\n",
      "|groupPedMovimiento-136|2    |\n",
      "|groupPedMovimiento-137|2    |\n",
      "|groupPedMovimiento-138|2    |\n",
      "|groupPedMovimiento-139|2    |\n",
      "|groupPedMovimiento-14 |2    |\n",
      "|groupPedMovimiento-140|2    |\n",
      "|groupPedMovimiento-141|2    |\n",
      "|groupPedMovimiento-142|2    |\n",
      "|groupPedMovimiento-143|2    |\n",
      "|groupPedMovimiento-15 |2    |\n",
      "|groupPedMovimiento-16 |2    |\n",
      "|groupPedMovimiento-17 |2    |\n",
      "|groupPedMovimiento-18 |2    |\n",
      "|groupPedMovimiento-19 |2    |\n",
      "|groupPedMovimiento-2  |2    |\n",
      "|groupPedMovimiento-20 |2    |\n",
      "|groupPedMovimiento-21 |2    |\n",
      "|groupPedMovimiento-22 |2    |\n",
      "|groupPedMovimiento-23 |2    |\n",
      "|groupPedMovimiento-24 |2    |\n",
      "|groupPedMovimiento-25 |2    |\n",
      "|groupPedMovimiento-26 |2    |\n",
      "|groupPedMovimiento-27 |2    |\n",
      "|groupPedMovimiento-28 |2    |\n",
      "|groupPedMovimiento-29 |2    |\n",
      "|groupPedMovimiento-3  |2    |\n",
      "|groupPedMovimiento-30 |2    |\n",
      "|groupPedMovimiento-31 |2    |\n",
      "|groupPedMovimiento-32 |2    |\n",
      "|groupPedMovimiento-33 |2    |\n",
      "|groupPedMovimiento-34 |2    |\n",
      "|groupPedMovimiento-35 |2    |\n",
      "|groupPedMovimiento-36 |2    |\n",
      "|groupPedMovimiento-37 |2    |\n",
      "|groupPedMovimiento-38 |2    |\n",
      "|groupPedMovimiento-39 |2    |\n",
      "|groupPedMovimiento-4  |2    |\n",
      "|groupPedMovimiento-40 |2    |\n",
      "|groupPedMovimiento-41 |2    |\n",
      "|groupPedMovimiento-42 |2    |\n",
      "|groupPedMovimiento-43 |2    |\n",
      "|groupPedMovimiento-44 |2    |\n",
      "|groupPedMovimiento-45 |2    |\n",
      "|groupPedMovimiento-46 |2    |\n",
      "|groupPedMovimiento-47 |2    |\n",
      "|groupPedMovimiento-48 |2    |\n",
      "|groupPedMovimiento-49 |2    |\n",
      "|groupPedMovimiento-5  |2    |\n",
      "|groupPedMovimiento-50 |2    |\n",
      "|groupPedMovimiento-51 |2    |\n",
      "|groupPedMovimiento-52 |2    |\n",
      "|groupPedMovimiento-53 |2    |\n",
      "|groupPedMovimiento-54 |2    |\n",
      "|groupPedMovimiento-55 |2    |\n",
      "|groupPedMovimiento-56 |2    |\n",
      "|groupPedMovimiento-57 |2    |\n",
      "|groupPedMovimiento-58 |2    |\n",
      "|groupPedMovimiento-59 |2    |\n",
      "|groupPedMovimiento-6  |2    |\n",
      "|groupPedMovimiento-60 |2    |\n",
      "|groupPedMovimiento-61 |2    |\n",
      "|groupPedMovimiento-62 |2    |\n",
      "|groupPedMovimiento-63 |2    |\n",
      "|groupPedMovimiento-64 |2    |\n",
      "|groupPedMovimiento-65 |2    |\n",
      "|groupPedMovimiento-66 |2    |\n",
      "|groupPedMovimiento-67 |2    |\n",
      "|groupPedMovimiento-68 |2    |\n",
      "|groupPedMovimiento-69 |2    |\n",
      "|groupPedMovimiento-7  |2    |\n",
      "|groupPedMovimiento-70 |2    |\n",
      "|groupPedMovimiento-71 |2    |\n",
      "|groupPedMovimiento-72 |2    |\n",
      "|groupPedMovimiento-73 |2    |\n",
      "|groupPedMovimiento-74 |2    |\n",
      "|groupPedMovimiento-75 |2    |\n",
      "|groupPedMovimiento-76 |2    |\n",
      "|groupPedMovimiento-77 |2    |\n",
      "|groupPedMovimiento-78 |2    |\n",
      "|groupPedMovimiento-79 |2    |\n",
      "|groupPedMovimiento-8  |2    |\n",
      "|groupPedMovimiento-80 |2    |\n",
      "|groupPedMovimiento-81 |2    |\n",
      "|groupPedMovimiento-82 |2    |\n",
      "|groupPedMovimiento-83 |2    |\n",
      "|groupPedMovimiento-84 |2    |\n",
      "|groupPedMovimiento-85 |2    |\n",
      "|groupPedMovimiento-86 |2    |\n",
      "|groupPedMovimiento-87 |2    |\n",
      "|groupPedMovimiento-88 |2    |\n",
      "|groupPedMovimiento-89 |2    |\n",
      "|groupPedMovimiento-9  |2    |\n",
      "|groupPedMovimiento-90 |2    |\n",
      "|groupPedMovimiento-91 |2    |\n",
      "|groupPedMovimiento-92 |2    |\n",
      "|groupPedMovimiento-93 |2    |\n",
      "|groupPedMovimiento-94 |2    |\n",
      "|groupPedMovimiento-95 |2    |\n",
      "|groupPedMovimiento-96 |2    |\n",
      "|groupPedMovimiento-97 |2    |\n",
      "|groupPedMovimiento-98 |2    |\n",
      "|groupPedMovimiento-99 |2    |\n",
      "|root                  |1    |\n",
      "+----------------------+-----+\n",
      "\n"
     ]
    }
   ],
   "source": [
    "df_txodk02.orderBy(\"element_group\").select(\"element_group\").groupBy(\"element_group\").count().show(150, truncate = False)"
   ]
  },
  {
   "cell_type": "code",
   "execution_count": 8,
   "metadata": {},
   "outputs": [
    {
     "name": "stdout",
     "output_type": "stream",
     "text": [
      "+-------+----------+--------------------+--------------------+--------------------+--------------------+\n",
      "|id_form|clave_form|       element_group|             element|               value|           value_str|\n",
      "+-------+----------+--------------------+--------------------+--------------------+--------------------+\n",
      "| 179490|     ALMCN|groupPedMovimiento-1|groupPedMovimiento-1|[Pedido de Movimi...|Pedido de Movimie...|\n",
      "| 179490|     ALMCN|groupPedMovimiento-1|       groupPallet-0|[PALLETS-0, , Fot...|PALLETS-0,,Foto d...|\n",
      "+-------+----------+--------------------+--------------------+--------------------+--------------------+\n",
      "\n"
     ]
    }
   ],
   "source": [
    "df_txodk02.select(\"*\").where(df_txodk02[\"element_group\"]==\"groupPedMovimiento-1\").show()\n"
   ]
  },
  {
   "cell_type": "markdown",
   "metadata": {},
   "source": [
    "## Sección adicional de import de `pyspark` para manejo de colecciones (DF), búsqueda y mapeo de datos principales correspondientes a cada ODK\n",
    "\n",
    "__IMPORTANTE__: ES REQUERIDO validar esta estrategia para optimizar el performance y la obtención ordenada de cada expr por ODK. La propuesta es manejar un `DF` por cada set de reglas de mapeo de datos por ODK, por lo cual debemos generar dataframes Base para cada tipo de ODK y trabajarlo por separado, después hacer merge de los DF's. "
   ]
  },
  {
   "cell_type": "code",
   "execution_count": 9,
   "metadata": {},
   "outputs": [],
   "source": [
    "from pyspark.sql.types import ArrayType, StructType, StructField, IntegerType\n",
    "from pyspark.sql.functions import col, udf, explode, expr, flatten\n",
    "from pyspark.sql import functions as F"
   ]
  },
  {
   "cell_type": "markdown",
   "metadata": {},
   "source": [
    "## Primer `approach`: Estructura unificada tipo `k/v`\n",
    "\n",
    "#### Las ventajas pueden ser las siguientes:\n",
    "- Separando los dataframes por cada set de campos a identificar, esto permite crear mas `expr` para obtener los campos que sean requeridos en un futuro.\n",
    "- Se considera una estructura estándar unificada por campo.\n",
    "\n",
    "#### Mejoras identificadas:\n",
    "- El DF base contiene todo el universo de datos (todos los conjuntos de elementos y grupos para todos los ODK's), evaluamos el comportamiento y determinamos si hacemos `split` por ODK.\n",
    "\n",
    "#### casos de prueba:\n",
    "\n",
    "Campos para ODK identificados son (podrían existir mas):\n",
    "\n",
    "| id_form |  element_group     |     element        | no_odk |              value             |    tipo   |\n",
    "|:-------:|:------------------:|:------------------:|:------:|:------------------------------:|:---------:|\n",
    "| 179490  | root               | root               | 76     | TS Finalización                | ÚNICO     |\n",
    "| 179490  | groupPedMovimiento | groupPedMovimiento | 76     | QR                             | ÚNICO     |\n",
    "| 179490  | groupPedMovimiento | groupPedMovimiento | 76     | Codigo de sitio destino.       | ÚNICO     |\n",
    "| 179490  | groupPedMovimiento | groupPedMovimiento | 76     | Pedido de Movimiento           | ÚNICO     |\n",
    "\n"
   ]
  },
  {
   "cell_type": "markdown",
   "metadata": {},
   "source": [
    "## Seccion definicíon de Reglas de parseo de variables"
   ]
  },
  {
   "cell_type": "markdown",
   "metadata": {},
   "source": [
    "### Root: TS Finalización"
   ]
  },
  {
   "cell_type": "code",
   "execution_count": 10,
   "metadata": {},
   "outputs": [],
   "source": [
    "df_txodk03_root_tsf = df_txodk02 \\\n",
    ".filter(df_txodk02[\"element_group\"] == \"root\") \\\n",
    ".select(\"id_form\",\"clave_form\",\"element_group\",\"element\",\"value\") \\\n",
    ".withColumn(\"exist\", expr(\"exists(value, x -> x = 'TS Finalización')\")) \\\n",
    ".withColumn(\"TipoElemento_key\", expr(\"filter(value, x -> x = 'TS Finalización')\")) \\\n",
    ".withColumn(\"TipoElemento_value\", split(df_txodk02[\"value\"][expr(\"array_position(value, 'TS Finalización')\")], \",\"))"
   ]
  },
  {
   "cell_type": "code",
   "execution_count": 11,
   "metadata": {},
   "outputs": [],
   "source": [
    "df_txodk03_root_tsf_clean= df_txodk03_root_tsf.filter(df_txodk03_root_tsf['exist'] == \"true\")"
   ]
  },
  {
   "cell_type": "markdown",
   "metadata": {},
   "source": [
    "### GroupPedMovimiento: Pedido de Movimiento\n"
   ]
  },
  {
   "cell_type": "code",
   "execution_count": 12,
   "metadata": {},
   "outputs": [],
   "source": [
    "# este es un ejemplo recursivo\n",
    "df_txodk03_groupPedMovimiento_pmv = df_txodk02 \\\n",
    ".filter(df_txodk02[\"element_group\"].substr(1, 18) == \"groupPedMovimiento\") \\\n",
    ".select(\"id_form\",\"clave_form\",\"element_group\",\"element\",\"value\") \\\n",
    ".withColumn(\"exist\", expr(\"exists(value, x -> x = 'Pedido de Movimiento')\")) \\\n",
    ".withColumn(\"TipoElemento_key\", expr(\"filter(value, x -> x = 'Pedido de Movimiento')\")) \\\n",
    ".withColumn(\"TipoElemento_value\", split(df_txodk02[\"value\"][expr(\"array_position(value, 'Pedido de Movimiento')\")], \",\"))\n",
    "\n"
   ]
  },
  {
   "cell_type": "code",
   "execution_count": 13,
   "metadata": {},
   "outputs": [],
   "source": [
    "df_txodk03_groupPedMovimiento_pmv_clean= df_txodk03_groupPedMovimiento_pmv.filter(df_txodk03_groupPedMovimiento_pmv['exist'] == \"true\")"
   ]
  },
  {
   "cell_type": "markdown",
   "metadata": {},
   "source": [
    "### GroupPedMovimiento: Codigo de sitio destino.\n"
   ]
  },
  {
   "cell_type": "code",
   "execution_count": 14,
   "metadata": {},
   "outputs": [],
   "source": [
    "# este es un ejemplo recursivo\n",
    "df_txodk03_groupPedMovimiento_csd = df_txodk02 \\\n",
    ".filter(df_txodk02[\"element_group\"].substr(1, 18) == \"groupPedMovimiento\") \\\n",
    ".select(\"id_form\",\"clave_form\",\"element_group\",\"element\",\"value\") \\\n",
    ".withColumn(\"exist\", expr(\"exists(value, x -> x = 'Codigo de sitio destino.')\")) \\\n",
    ".withColumn(\"TipoElemento_key\", expr(\"filter(value, x -> x = 'Codigo de sitio destino.')\")) \\\n",
    ".withColumn(\"TipoElemento_value\", split(df_txodk02[\"value\"][expr(\"array_position(value, 'Codigo de sitio destino.')\")], \",\"))\n",
    "\n"
   ]
  },
  {
   "cell_type": "code",
   "execution_count": 15,
   "metadata": {},
   "outputs": [],
   "source": [
    "df_txodk03_groupPedMovimiento_csd_clean= df_txodk03_groupPedMovimiento_csd.filter(df_txodk03_groupPedMovimiento_csd['exist'] == \"true\")"
   ]
  },
  {
   "cell_type": "markdown",
   "metadata": {},
   "source": [
    "### GroupPedMovimiento: QR\n"
   ]
  },
  {
   "cell_type": "code",
   "execution_count": 16,
   "metadata": {},
   "outputs": [],
   "source": [
    "# este es un ejemplo recursivo\n",
    "df_txodk03_groupPedMovimiento_qr = df_txodk02 \\\n",
    ".filter(df_txodk02[\"element_group\"].substr(1, 18) == \"groupPedMovimiento\") \\\n",
    ".select(\"id_form\",\"clave_form\",\"element_group\",\"element\",\"value\") \\\n",
    ".withColumn(\"exist\", expr(\"exists(value, x -> x = 'QR')\")) \\\n",
    ".withColumn(\"TipoElemento_key\", expr(\"filter(value, x -> x = 'QR')\")) \\\n",
    ".withColumn(\"TipoElemento_value\", split(df_txodk02[\"value\"][expr(\"array_position(value, 'QR')\")], \",\"))\n"
   ]
  },
  {
   "cell_type": "code",
   "execution_count": 17,
   "metadata": {},
   "outputs": [],
   "source": [
    "df_txodk03_groupPedMovimiento_qr_clean= df_txodk03_groupPedMovimiento_qr.filter(df_txodk03_groupPedMovimiento_qr['exist'] == \"true\")"
   ]
  },
  {
   "cell_type": "markdown",
   "metadata": {},
   "source": [
    "## TERMINA Seccion definicíon de Reglas de parseo de variables"
   ]
  },
  {
   "cell_type": "code",
   "execution_count": 18,
   "metadata": {},
   "outputs": [],
   "source": [
    "# import modules\n",
    "from functools import reduce\n",
    "from pyspark.sql import DataFrame\n",
    "# create list of dataframes\n",
    "dfs = [df_txodk03_root_tsf, \\\n",
    "       df_txodk03_groupPedMovimiento_pmv_clean, \\\n",
    "       df_txodk03_groupPedMovimiento_csd_clean, \\\n",
    "       df_txodk03_groupPedMovimiento_qr_clean]\n",
    "\n",
    "# create merged dataframe\n",
    "df_txodk04 = reduce(DataFrame.unionAll, dfs)"
   ]
  },
  {
   "cell_type": "code",
   "execution_count": 19,
   "metadata": {},
   "outputs": [],
   "source": [
    "df_txodk05 = df_txodk04.select(\"id_form\",\"clave_form\",\"element_group\",\"element\",\"exist\",df_txodk04[\"TipoElemento_key\"].alias(\"TipoElemento_key\"),\"TipoElemento_value\")"
   ]
  },
  {
   "cell_type": "code",
   "execution_count": 20,
   "metadata": {},
   "outputs": [],
   "source": [
    "df = df_txodk05.withColumn(\"new\", F.arrays_zip(\"TipoElemento_key\", \"TipoElemento_value\"))\\\n",
    "       .withColumn(\"new\", F.explode(\"new\"))\\\n",
    "       .select(\"id_form\",\"clave_form\",\"element_group\", \"element\",\"exist\", F.col(\"new.TipoElemento_key\").alias(\"TipoElemento_key\"), F.col(\"new.TipoElemento_value\").alias(\"TipoElemento_value\"))"
   ]
  },
  {
   "cell_type": "code",
   "execution_count": 21,
   "metadata": {},
   "outputs": [],
   "source": [
    "df_final_clean=df.filter(df['exist'] == \"true\").distinct()#.show(50,truncate = False)"
   ]
  },
  {
   "cell_type": "code",
   "execution_count": 23,
   "metadata": {},
   "outputs": [
    {
     "name": "stdout",
     "output_type": "stream",
     "text": [
      "root\n",
      " |-- id_form: string (nullable = true)\n",
      " |-- clave_form: string (nullable = true)\n",
      " |-- element_group: string (nullable = true)\n",
      " |-- element: string (nullable = true)\n",
      " |-- exist: boolean (nullable = true)\n",
      " |-- TipoElemento_key: string (nullable = true)\n",
      " |-- TipoElemento_value: string (nullable = true)\n",
      "\n"
     ]
    }
   ],
   "source": [
    "df_final_clean.printSchema()"
   ]
  },
  {
   "cell_type": "markdown",
   "metadata": {},
   "source": [
    "## Persistiendo los valores en formato:\n",
    "\n",
    "- `df_txodk06`, formato basado en rows `tabular`\n",
    "\n",
    "Y guardamos en una tabla en hive."
   ]
  },
  {
   "cell_type": "code",
   "execution_count": 26,
   "metadata": {},
   "outputs": [],
   "source": [
    "#df_final_clean.write.format(\"parquet\").mode(\"overwrite\").saveAsTable(\"default.tx_stg_06_tabular_odk_76\")"
   ]
  },
  {
   "cell_type": "code",
   "execution_count": null,
   "metadata": {},
   "outputs": [],
   "source": []
  }
 ],
 "metadata": {
  "kernelspec": {
   "display_name": "Python 2",
   "language": "python",
   "name": "python2"
  },
  "language_info": {
   "codemirror_mode": {
    "name": "ipython",
    "version": 2
   },
   "file_extension": ".py",
   "mimetype": "text/x-python",
   "name": "python",
   "nbconvert_exporter": "python",
   "pygments_lexer": "ipython2",
   "version": "2.7.15"
  }
 },
 "nbformat": 4,
 "nbformat_minor": 2
}
