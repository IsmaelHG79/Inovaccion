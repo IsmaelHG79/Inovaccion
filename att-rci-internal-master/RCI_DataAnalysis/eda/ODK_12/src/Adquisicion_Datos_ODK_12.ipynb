{
 "cells": [
  {
   "cell_type": "markdown",
   "metadata": {},
   "source": [
    "# Adquisición de datos para ODK 12"
   ]
  },
  {
   "cell_type": "markdown",
   "metadata": {},
   "source": [
    "## Sección para import's de `Python` y `Spark`"
   ]
  },
  {
   "cell_type": "code",
   "execution_count": 1,
   "metadata": {},
   "outputs": [],
   "source": [
    "import os\n",
    "os.environ['JAVA_HOME'] = '/usr/java/jdk1.8.0_162'\n",
    "os.environ['SPARK_HOME'] = '/opt/cloudera/parcels/CDH-6.2.0-1.cdh6.2.0.p0.967373/lib/spark'\n",
    "import findspark\n",
    "findspark.init()\n",
    "from pyspark import SparkContext, SparkConf\n",
    "from pyspark.sql import SparkSession\n",
    "from pyspark.sql.types import *\n",
    "from pyspark.sql import HiveContext\n",
    "import pandasql\n",
    "\n",
    "from pyspark.sql.functions import col, split, regexp_extract, array_contains, regexp_replace,concat_ws, create_map, create_map, lit\n",
    "import pyspark.sql.functions as f"
   ]
  },
  {
   "cell_type": "markdown",
   "metadata": {},
   "source": [
    "## Creando SparkContext"
   ]
  },
  {
   "cell_type": "code",
   "execution_count": 2,
   "metadata": {},
   "outputs": [],
   "source": [
    "conf = SparkConf().setAppName('Adquisicion_Datos_ODK_12')  \\\n",
    "    .setMaster('yarn').set(\"spark.yarn.queue\",\"root.eda\")\n",
    "spark = SparkSession.builder.config(conf=conf).getOrCreate()\n",
    "sc = spark.sparkContext\n",
    "sqlContext = HiveContext(sc)"
   ]
  },
  {
   "cell_type": "markdown",
   "metadata": {},
   "source": [
    "## Validación `ID_FORM`\n",
    "\n",
    "```\n",
    "select * from tx_stg_06_1_odk\n",
    "WHERE id_form  = '99977'\n",
    "ORDER BY element_group, element\n",
    "```\n",
    "Este `id_form` pertenece al *ODK 12 ATP Instalación MW*."
   ]
  },
  {
   "cell_type": "markdown",
   "metadata": {},
   "source": [
    "## Lectura de datos requeridos para el proceso\n",
    "\n",
    "En este caso estamos leyendo la tabla `tx_stg_06_1_odk` la cual contiene la información agrupada y aplanada a nivel:\n",
    "- id_form, clave del formulario `n->many`.\n",
    "- clave_form, clave para relacionar con eñ catálogo de ODK's `n->many`\n",
    "- element_group, elemento padre agrupador de la estructura del formulario, el cual es dinamico de acuerdo a la operación y concepto del ODK. \n",
    "- element, elemento hijo y corresponde `n->to one` element_group.\n",
    "- value, lista de campos y  valores posibles para cada tipo de ODK.\n",
    "- odk_no, número del odk."
   ]
  },
  {
   "cell_type": "code",
   "execution_count": 3,
   "metadata": {},
   "outputs": [],
   "source": [
    "df_txodk01 = spark.read.table(\"tx_stg_06_1_odk\")"
   ]
  },
  {
   "cell_type": "markdown",
   "metadata": {},
   "source": [
    "Esquema de la tabla:"
   ]
  },
  {
   "cell_type": "code",
   "execution_count": 4,
   "metadata": {},
   "outputs": [
    {
     "name": "stdout",
     "output_type": "stream",
     "text": [
      "root\n",
      " |-- id_form: string (nullable = true)\n",
      " |-- clave_form: string (nullable = true)\n",
      " |-- element_group: string (nullable = true)\n",
      " |-- element: string (nullable = true)\n",
      " |-- value: array (nullable = true)\n",
      " |    |-- element: string (containsNull = true)\n",
      " |-- odk_no: string (nullable = true)\n",
      "\n"
     ]
    }
   ],
   "source": [
    "df_txodk01.printSchema()"
   ]
  },
  {
   "cell_type": "markdown",
   "metadata": {},
   "source": [
    "# Filtrado para pruebas controladas, los siguientes escenarios se contemplan:\n",
    "\n",
    "- filtrado de `id_form`, para identificar el tipo de documento a validar.\n",
    "- filtrado de `clave_form`, para identificar el tipo de ODK's a validar."
   ]
  },
  {
   "cell_type": "code",
   "execution_count": 5,
   "metadata": {},
   "outputs": [],
   "source": [
    "df_txodk02 = df_txodk01.filter(df_txodk01[\"odk_no\"]==\"0012\").select(\"id_form\",\"clave_form\",\"odk_no\",\"element_group\",\"element\",\"value\").withColumn('value_str', concat_ws(',', 'value')).orderBy(df_txodk01[\"clave_form\"])"
   ]
  },
  {
   "cell_type": "code",
   "execution_count": 6,
   "metadata": {},
   "outputs": [
    {
     "name": "stdout",
     "output_type": "stream",
     "text": [
      "root\n",
      " |-- id_form: string (nullable = true)\n",
      " |-- clave_form: string (nullable = true)\n",
      " |-- odk_no: string (nullable = true)\n",
      " |-- element_group: string (nullable = true)\n",
      " |-- element: string (nullable = true)\n",
      " |-- value: array (nullable = true)\n",
      " |    |-- element: string (containsNull = true)\n",
      " |-- value_str: string (nullable = false)\n",
      "\n"
     ]
    }
   ],
   "source": [
    "df_txodk02.printSchema()"
   ]
  },
  {
   "cell_type": "code",
   "execution_count": 7,
   "metadata": {},
   "outputs": [
    {
     "data": {
      "text/plain": [
       "45615"
      ]
     },
     "execution_count": 7,
     "metadata": {},
     "output_type": "execute_result"
    }
   ],
   "source": [
    "df_txodk02.count()"
   ]
  },
  {
   "cell_type": "markdown",
   "metadata": {},
   "source": [
    "## Verificamos la estructura del documento, agrupando por:\n",
    "\n",
    "- `element_group`, elemento padre agrupador de la estructura del formulario, el cual es dinámico de acuerdo a la operación y concepto del ODK.\n",
    "\n",
    "Este comportamiento estará variando de acuerdo a al filtrado anterior el cual analizará la estructura de los ODK's dentro del alcance, que corresponde a:\n",
    "\n",
    "1. `12`, Instalación\n",
    "2. `32`, Instalación y comisionamiento. \n",
    "3. `38`, Decomiso. \n",
    "4. `76`, Salida de Almacen\n",
    "5. `99`, Operaciones (Site Survey)\n",
    "\n",
    "NOTA, la combinación de 12 & 32 es un caso para analizar como parte del EDA de ODK's."
   ]
  },
  {
   "cell_type": "code",
   "execution_count": 8,
   "metadata": {},
   "outputs": [
    {
     "name": "stdout",
     "output_type": "stream",
     "text": [
      "+--------------------+-----+\n",
      "|element_group       |count|\n",
      "+--------------------+-----+\n",
      "|groupChTarjetas-0   |1    |\n",
      "|groupCommisioning-0 |3874 |\n",
      "|groupConfigTest-0   |5    |\n",
      "|groupFloorA-0       |3501 |\n",
      "|groupFloorB-0       |3501 |\n",
      "|groupHorizontalA-0  |3499 |\n",
      "|groupHorizontalB-0  |3501 |\n",
      "|groupInstallCON-0   |1    |\n",
      "|groupInstallHPS-0   |1    |\n",
      "|groupInstallPHO-0   |1    |\n",
      "|groupInstallTRA-0   |1    |\n",
      "|groupInventory-0    |1    |\n",
      "|groupMWData-0       |1    |\n",
      "|groupMWDataA-0      |3501 |\n",
      "|groupMWDataA-1      |469  |\n",
      "|groupMWDataB-0      |3501 |\n",
      "|groupMWDataB-1      |465  |\n",
      "|groupSideA-0        |4437 |\n",
      "|groupSideB-0        |4428 |\n",
      "|groupSiteInventory-0|1    |\n",
      "|groupTaskList-0     |13   |\n",
      "|groupTaskList-1     |4    |\n",
      "|groupTaskList-2     |4    |\n",
      "|groupTaskList-3     |4    |\n",
      "|groupTaskList-4     |4    |\n",
      "|groupTaskList-5     |4    |\n",
      "|groupTaskList-6     |2    |\n",
      "|groupTaskList-7     |1    |\n",
      "|groupVerticalA-0    |3500 |\n",
      "|groupVerticalB-0    |3499 |\n",
      "|root                |3890 |\n",
      "+--------------------+-----+\n",
      "\n"
     ]
    }
   ],
   "source": [
    "df_txodk02.orderBy(\"element_group\").select(\"element_group\").groupBy(\"element_group\").count().show(150, truncate = False)"
   ]
  },
  {
   "cell_type": "markdown",
   "metadata": {},
   "source": [
    "## Sección adicional de import de `pyspark` para manejo de colecciones (DF), búsqueda y mapeo de datos principales correspondientes a cada ODK\n",
    "\n",
    "__IMPORTANTE__: ES REQUERIDO validar esta estrategia para optimizar el performance y la obtención ordenada de cada expr por ODK. La propuesta es manejar un `DF` por cada set de reglas de mapeo de datos por ODK, por lo cual debemos generar dataframes Base para cada tipo de ODK y trabajarlo por separado, después hacer merge de los DF's. "
   ]
  },
  {
   "cell_type": "code",
   "execution_count": 9,
   "metadata": {},
   "outputs": [],
   "source": [
    "from pyspark.sql.types import ArrayType, StructType, StructField, IntegerType\n",
    "from pyspark.sql.functions import col, udf, explode, expr, flatten\n",
    "from pyspark.sql import functions as F"
   ]
  },
  {
   "cell_type": "markdown",
   "metadata": {},
   "source": [
    "## Primer `approach`: Estructura unificada tipo `k/v`\n",
    "\n",
    "#### Las ventajas pueden ser las siguientes:\n",
    "- Separando los dataframes por cada set de campos a identificar, esto permite crear más `expr` para obtener los campos que sean requeridos en un futuro.\n",
    "- Se considera una estructura estándar unificada por campo.\n",
    "\n",
    "#### Mejoras identificadas:\n",
    "- El DF base contiene todo el universo de datos (todos los conjuntos de elementos y grupos para todos los ODK's), evaluamos el comportamiento y determinamos si hacemos `split` por ODK.\n",
    "\n",
    "#### Casos de prueba:\n",
    "\n",
    "\n",
    "| id_form |  element_group     |     element        | no_odk |           value                     |    tipo   |\n",
    "|:-------:|:------------------:|:------------------:|:------:|:------------------------------------|:---------:|\n",
    "| 99977   | groupFloorA-0      | groupFloorA-0      | 12     | Número de serie (manual)            | UNICO     |\n",
    "| 99977   | groupFloorA-0      | groupFloorA-0      | 12     | Número de serie (escáner)           | UNICO     |\n",
    "| 99977   | groupFloorA-0      | groupFloorA-0      | 12     | Número de activo fijo (escáner)     | UNICO     |\n",
    "| 99977   | groupFloorA-0      | groupFloorA-0      | 12     | Número de activo fijo (scanner)     | UNICO     |\n",
    "| 99977   | groupFloorA-0      | groupFloorA-0      | 12     | Número de activo fijo (manual)      | UNICO     |\n",
    "| 99977   | groupFloorA-0      | groupFloorA-0      | 12     | Modelo                              | UNICO     |\n",
    "| 99977   | groupFloorA-0      | groupFloorA-0      | 12     | Modelo de IDU                       | UNICO     |\n",
    "| 99977   | groupFloorA-0      | groupFloorA-0      | 12     | Fabricante                          | UNICO     |\n",
    "| 99977   | groupFloorA-0      | groupFloorA-0      | 12     | Fabricante / Modelo IDU             | UNICO     |\n",
    "| 99977   | groupFloorB-0      | groupFloorB-0      | 12     | Número de serie (manual)            | UNICO     | \n",
    "| 99977   | groupFloorB-0      | groupFloorB-0      | 12     | Número de serie (escáner)           | UNICO     |\n",
    "| 99977   | groupFloorB-0      | groupFloorB-0      | 12     | Número de activo fijo (escáner)     | UNICO     |\n",
    "| 99977   | groupFloorA-0      | groupFloorB-0      | 12     | Número de activo fijo (scanner)     | UNICO     |\n",
    "| 99977   | groupFloorB-0      | groupFloorB-0      | 12     | Número de activo fijo (manual)      | UNICO     |\n",
    "| 99977   | groupFloorB-0      | groupFloorB-0      | 12     | Modelo                              | UNICO     |\n",
    "| 99977   | groupFloorB-0      | groupFloorB-0      | 12     | Modelo de IDU                       | UNICO     |\n",
    "| 99977   | groupFloorB-0      | groupFloorB-0      | 12     | Fabricante                          | UNICO     |\n",
    "| 99977   | groupFloorB-0      | groupFloorB-0      | 12     | Fabricante / Modelo IDU             | UNICO     |\n",
    "| 99977   | groupMWDataA-0     | groupMWDataA-0     | 12     | Número de serie (manual)            | UNICO     |\n",
    "| 99977   | groupMWDataA-0     | groupMWDataA-0     | 12     | Número de serie (escáner)           | UNICO     |\n",
    "| 99977   | groupMWDataA-0     | groupMWDataA-0     | 12     | Número de activo fijo (escáner)     | UNICO     |\n",
    "| 99977   | groupMWDataA-0     | groupMWDataA-0     | 12     | Número de activo fijo (manual)      | UNICO     |\n",
    "| 99977   | groupMWDataA-0     | groupMWDataA-0     | 12     | Modelo                              | UNICO     |\n",
    "| 99977   | groupMWDataA-0     | groupMWDataA-0     | 12     | Modelo de ODU                       | UNICO     |\n",
    "| 99977   | groupMWDataA-0     | groupMWDataA-0     | 12     | Fabricante                          | UNICO     |\n",
    "| 99977   | groupMWDataA-0     | groupMWDataA-0     | 12     | Fabricante / Modelo ODU             | UNICO     |\n",
    "| 99977   | groupMWDataA-0     | groupMWDataA-0     | 12     | Modelo de la antena de MW           | UNICO     |\n",
    "| 99977   | groupMWDataA-0     | groupMWDataA-0     | 12     | Fabricante / Modelo de antena de MW | UNICO     |\n",
    "| 99977   | groupMWDataB-0     | groupMWDataB-0     | 12     | Número de serie (manual)            | UNICO     |\n",
    "| 99977   | groupMWDataB-0     | groupMWDataB-0     | 12     | Número de serie (escáner)           | UNICO     |\n",
    "| 99977   | groupMWDataB-0     | groupMWDataB-0     | 12     | Número de activo fijo (escáner)     | UNICO     |\n",
    "| 99977   | groupMWDataB-0     | groupMWDataB-0     | 12     | Número de activo fijo (manual)      | UNICO     |\n",
    "| 99977   | groupMWDataB-0     | groupMWDataB-0     | 12     | Modelo                              | UNICO     |\n",
    "| 99977   | groupMWDataB-0     | groupMWDataB-0     | 12     | Modelo de ODU                       | UNICO     |\n",
    "| 99977   | groupMWDataB-0     | groupMWDataB-0     | 12     | Fabricante                          | UNICO     |\n",
    "| 99977   | groupMWDataB-0     | groupMWDataB-0     | 12     | Fabricante / Modelo ODU             | UNICO     |\n",
    "| 99977   | groupMWDataB-0     | groupMWDataB-0     | 12     | Modelo de la antena de MW           | UNICO     |\n",
    "| 99977   | groupMWDataB-0     | groupMWDataB-0     | 12     | Fabricante / Modelo de antena de MW | UNICO     |\n",
    "| 99977   | groupHorizontalA-0 | groupHorizontalA-0 | 12     | Barra de Tierra                     | UNICO     |\n",
    "| 99977   | groupHorizontalB-0 | groupHorizontalB-0 | 12     | Barra de Tierra                     | UNICO     |\n",
    "| 99977   | groupMWDataA-0     | groupMWDataA-0     | 12     | Atizador                            | UNICO     |\n",
    "| 99977   | groupMWDataB-0     | groupMWDataB-0     | 12     | Atizador                            | UNICO     |\n",
    "| 99977   | groupMWDataA-0     | groupMWDataA-0     | 12     | PTR                                 | UNICO     |\n",
    "| 99977   | groupMWDataB-0     | groupMWDataB-0     | 12     | PTR                                 | UNICO     |\n",
    "| 99977   | groupVerticalA-0   | groupVerticalA-0   | 12     | Barra de Tierra en Torre            | UNICO     |\n",
    "| 99977   | groupVerticalB-0   | groupVerticalB-0   | 12     | Barra de Tierra en Torre            | UNICO     |\n",
    "| 99977   | groupVerticalA-0   | groupVerticalA-0   | 12     | Segunda Barra de Tierra en Torre    | UNICO     |\n",
    "| 99977   | groupVerticalB-0   | groupVerticalB-0   | 12     | Segunda Barra de Tierra en Torre    | UNICO     |"
   ]
  },
  {
   "cell_type": "markdown",
   "metadata": {},
   "source": [
    "## Seccion definicíon de Reglas de parseo de variables\n",
    "\n",
    "Empezamos con las cargas de los campos de root"
   ]
  },
  {
   "cell_type": "markdown",
   "metadata": {},
   "source": [
    "Proseguimos con los campos del element *id:root:groupFloorA-0*"
   ]
  },
  {
   "cell_type": "code",
   "execution_count": 10,
   "metadata": {},
   "outputs": [],
   "source": [
    "user_func = udf (lambda x,y: [[t, x[t+1]] for t in xrange(len(x)) if x[t]==y])"
   ]
  },
  {
   "cell_type": "code",
   "execution_count": 11,
   "metadata": {},
   "outputs": [],
   "source": [
    "df_txodk03_1 = df_txodk02 \\\n",
    ".filter(split(df_txodk02[\"element_group\"],\"-\")[0] == \"groupFloorA\") \\\n",
    ".select(\"id_form\",\"clave_form\",\"element_group\",\"element\",\"value\") \\\n",
    ".withColumn(\"exist\", expr(\"exists(value, x -> x = 'Número de serie (manual)')\")) \\\n",
    ".withColumn(\"TipoElemento_key\", expr(\"filter(value, x -> x = 'Número de serie (manual)')\")) \\\n",
    ".withColumn(\"TipoElemento_tup\", f.split(user_func(df_txodk02[\"value\"],lit('Número de serie (manual)')),\",\")) \\\n",
    ".withColumn(\"TipoElemento_str\", concat_ws(',','TipoElemento_tup')) \\\n",
    ".withColumn(\"TipoElemento_value\", f.split(regexp_replace(regexp_replace('TipoElemento_str',\"\\\\[+\\d+,\",\"\"),\"\\\\]\",\"\"),\",\"))\n",
    "\n",
    "df_txodk03_1 = df_txodk03_1.select(\"id_form\",\"clave_form\",\"element_group\",\"element\",\"value\",\"exist\",\"TipoElemento_key\",\"TipoElemento_value\")\n",
    "\n"
   ]
  },
  {
   "cell_type": "code",
   "execution_count": 12,
   "metadata": {},
   "outputs": [],
   "source": [
    "\n",
    "df_txodk03_2 = df_txodk02 \\\n",
    ".filter(split(df_txodk02[\"element_group\"],\"-\")[0] == \"groupFloorA\") \\\n",
    ".filter(df_txodk02[\"element_group\"] == \"groupFloorA-0\") \\\n",
    ".select(\"id_form\",\"clave_form\",\"element_group\",\"element\",\"value\") \\\n",
    ".withColumn(\"exist\", expr(\"exists(value, x -> x = 'Número de serie (escáner)')\")) \\\n",
    ".withColumn(\"TipoElemento_key\", expr(\"filter(value, x -> x = 'Número de serie (escáner)')\")) \\\n",
    ".withColumn(\"TipoElemento_tup\", f.split(user_func(df_txodk02[\"value\"],lit('Número de serie (escáner)')),\",\")) \\\n",
    ".withColumn(\"TipoElemento_str\", concat_ws(',','TipoElemento_tup')) \\\n",
    ".withColumn(\"TipoElemento_value\", f.split(regexp_replace(regexp_replace('TipoElemento_str',\"\\\\[+\\d+,\",\"\"),\"\\\\]\",\"\"),\",\"))\n",
    "\n",
    "df_txodk03_2 = df_txodk03_2.select(\"id_form\",\"clave_form\",\"element_group\",\"element\",\"value\",\"exist\",\"TipoElemento_key\",\"TipoElemento_value\")\n",
    "\n"
   ]
  },
  {
   "cell_type": "code",
   "execution_count": 13,
   "metadata": {},
   "outputs": [],
   "source": [
    "\n",
    "df_txodk03_3 = df_txodk02 \\\n",
    ".filter(split(df_txodk02[\"element_group\"],\"-\")[0] == \"groupFloorA\") \\\n",
    ".filter(df_txodk02[\"element_group\"] == \"groupFloorA-0\") \\\n",
    ".select(\"id_form\",\"clave_form\",\"element_group\",\"element\",\"value\") \\\n",
    ".withColumn(\"exist\", expr(\"exists(value, x -> x = 'Número de activo fijo (escáner)')\")) \\\n",
    ".withColumn(\"TipoElemento_key\", expr(\"filter(value, x -> x = 'Número de activo fijo (escáner)')\")) \\\n",
    ".withColumn(\"TipoElemento_tup\", f.split(user_func(df_txodk02[\"value\"],lit('Número de activo fijo (escáner)')),\",\")) \\\n",
    ".withColumn(\"TipoElemento_str\", concat_ws(',','TipoElemento_tup')) \\\n",
    ".withColumn(\"TipoElemento_value\", f.split(regexp_replace(regexp_replace('TipoElemento_str',\"\\\\[+\\d+,\",\"\"),\"\\\\]\",\"\"),\",\"))\n",
    "\n",
    "df_txodk03_3 = df_txodk03_3.select(\"id_form\",\"clave_form\",\"element_group\",\"element\",\"value\",\"exist\",\"TipoElemento_key\",\"TipoElemento_value\")\n"
   ]
  },
  {
   "cell_type": "code",
   "execution_count": 14,
   "metadata": {},
   "outputs": [],
   "source": [
    "\n",
    "df_txodk03_4 = df_txodk02 \\\n",
    ".filter(split(df_txodk02[\"element_group\"],\"-\")[0] == \"groupFloorA\") \\\n",
    ".filter(df_txodk02[\"element_group\"] == \"groupFloorA-0\") \\\n",
    ".select(\"id_form\",\"clave_form\",\"element_group\",\"element\",\"value\") \\\n",
    ".withColumn(\"exist\", expr(\"exists(value, x -> x = 'Número de activo fijo (scanner)')\")) \\\n",
    ".withColumn(\"TipoElemento_key\", expr(\"filter(value, x -> x = 'Número de activo fijo (scanner)')\")) \\\n",
    ".withColumn(\"TipoElemento_tup\", f.split(user_func(df_txodk02[\"value\"],lit('Número de activo fijo (scanner)')),\",\")) \\\n",
    ".withColumn(\"TipoElemento_str\", concat_ws(',','TipoElemento_tup')) \\\n",
    ".withColumn(\"TipoElemento_value\", f.split(regexp_replace(regexp_replace('TipoElemento_str',\"\\\\[+\\d+,\",\"\"),\"\\\\]\",\"\"),\",\"))\n",
    "\n",
    "df_txodk03_4 = df_txodk03_4.select(\"id_form\",\"clave_form\",\"element_group\",\"element\",\"value\",\"exist\",\"TipoElemento_key\",\"TipoElemento_value\")\n"
   ]
  },
  {
   "cell_type": "code",
   "execution_count": 15,
   "metadata": {},
   "outputs": [],
   "source": [
    "\n",
    "df_txodk03_5 = df_txodk02 \\\n",
    ".filter(split(df_txodk02[\"element_group\"],\"-\")[0] == \"groupFloorA\") \\\n",
    ".filter(df_txodk02[\"element_group\"] == \"groupFloorA-0\") \\\n",
    ".select(\"id_form\",\"clave_form\",\"element_group\",\"element\",\"value\") \\\n",
    ".withColumn(\"exist\", expr(\"exists(value, x -> x = 'Número de activo fijo (manual)')\")) \\\n",
    ".withColumn(\"TipoElemento_key\", expr(\"filter(value, x -> x = 'Número de activo fijo (manual)')\")) \\\n",
    ".withColumn(\"TipoElemento_tup\", f.split(user_func(df_txodk02[\"value\"],lit('Número de activo fijo (manual)')),\",\")) \\\n",
    ".withColumn(\"TipoElemento_str\", concat_ws(',','TipoElemento_tup')) \\\n",
    ".withColumn(\"TipoElemento_value\", f.split(regexp_replace(regexp_replace('TipoElemento_str',\"\\\\[+\\d+,\",\"\"),\"\\\\]\",\"\"),\",\"))\n",
    "\n",
    "df_txodk03_5 = df_txodk03_5.select(\"id_form\",\"clave_form\",\"element_group\",\"element\",\"value\",\"exist\",\"TipoElemento_key\",\"TipoElemento_value\")\n"
   ]
  },
  {
   "cell_type": "code",
   "execution_count": 16,
   "metadata": {},
   "outputs": [],
   "source": [
    "\n",
    "df_txodk03_6 = df_txodk02 \\\n",
    ".filter(split(df_txodk02[\"element_group\"],\"-\")[0] == \"groupFloorA\") \\\n",
    ".filter(df_txodk02[\"element_group\"] == \"groupFloorA-0\") \\\n",
    ".select(\"id_form\",\"clave_form\",\"element_group\",\"element\",\"value\") \\\n",
    ".withColumn(\"exist\", expr(\"exists(value, x -> x = 'Modelo')\")) \\\n",
    ".withColumn(\"TipoElemento_key\", expr(\"filter(value, x -> x = 'Modelo')\")) \\\n",
    ".withColumn(\"TipoElemento_tup\", f.split(user_func(df_txodk02[\"value\"],lit('Modelo')),\",\")) \\\n",
    ".withColumn(\"TipoElemento_str\", concat_ws(',','TipoElemento_tup')) \\\n",
    ".withColumn(\"TipoElemento_value\", f.split(regexp_replace(regexp_replace('TipoElemento_str',\"\\\\[+\\d+,\",\"\"),\"\\\\]\",\"\"),\",\"))\n",
    "\n",
    "df_txodk03_6 = df_txodk03_6.select(\"id_form\",\"clave_form\",\"element_group\",\"element\",\"value\",\"exist\",\"TipoElemento_key\",\"TipoElemento_value\")\n"
   ]
  },
  {
   "cell_type": "code",
   "execution_count": 17,
   "metadata": {},
   "outputs": [],
   "source": [
    "\n",
    "df_txodk03_7 = df_txodk02 \\\n",
    ".filter(split(df_txodk02[\"element_group\"],\"-\")[0] == \"groupFloorA\") \\\n",
    ".filter(df_txodk02[\"element_group\"] == \"groupFloorA-0\") \\\n",
    ".select(\"id_form\",\"clave_form\",\"element_group\",\"element\",\"value\") \\\n",
    ".withColumn(\"exist\", expr(\"exists(value, x -> x = 'Modelo de IDU')\")) \\\n",
    ".withColumn(\"TipoElemento_key\", expr(\"filter(value, x -> x = 'Modelo de IDU')\")) \\\n",
    ".withColumn(\"TipoElemento_tup\", f.split(user_func(df_txodk02[\"value\"],lit('Modelo de IDU')),\",\")) \\\n",
    ".withColumn(\"TipoElemento_str\", concat_ws(',','TipoElemento_tup')) \\\n",
    ".withColumn(\"TipoElemento_value\", f.split(regexp_replace(regexp_replace('TipoElemento_str',\"\\\\[+\\d+,\",\"\"),\"\\\\]\",\"\"),\",\"))\n",
    "\n",
    "df_txodk03_7 = df_txodk03_7.select(\"id_form\",\"clave_form\",\"element_group\",\"element\",\"value\",\"exist\",\"TipoElemento_key\",\"TipoElemento_value\")\n"
   ]
  },
  {
   "cell_type": "code",
   "execution_count": 18,
   "metadata": {},
   "outputs": [],
   "source": [
    "\n",
    "df_txodk03_8 = df_txodk02 \\\n",
    ".filter(split(df_txodk02[\"element_group\"],\"-\")[0] == \"groupFloorA\") \\\n",
    ".filter(df_txodk02[\"element_group\"] == \"groupFloorA-0\") \\\n",
    ".select(\"id_form\",\"clave_form\",\"element_group\",\"element\",\"value\") \\\n",
    ".withColumn(\"exist\", expr(\"exists(value, x -> x = 'Fabricante')\")) \\\n",
    ".withColumn(\"TipoElemento_key\", expr(\"filter(value, x -> x = 'Fabricante')\")) \\\n",
    ".withColumn(\"TipoElemento_tup\", f.split(user_func(df_txodk02[\"value\"],lit('Fabricante')),\",\")) \\\n",
    ".withColumn(\"TipoElemento_str\", concat_ws(',','TipoElemento_tup')) \\\n",
    ".withColumn(\"TipoElemento_value\", f.split(regexp_replace(regexp_replace('TipoElemento_str',\"\\\\[+\\d+,\",\"\"),\"\\\\]\",\"\"),\",\"))\n",
    "\n",
    "df_txodk03_8 = df_txodk03_8.select(\"id_form\",\"clave_form\",\"element_group\",\"element\",\"value\",\"exist\",\"TipoElemento_key\",\"TipoElemento_value\")\n"
   ]
  },
  {
   "cell_type": "code",
   "execution_count": 19,
   "metadata": {},
   "outputs": [],
   "source": [
    "\n",
    "df_txodk03_9 = df_txodk02 \\\n",
    ".filter(split(df_txodk02[\"element_group\"],\"-\")[0] == \"groupFloorA\") \\\n",
    ".filter(df_txodk02[\"element_group\"] == \"groupFloorA-0\") \\\n",
    ".select(\"id_form\",\"clave_form\",\"element_group\",\"element\",\"value\") \\\n",
    ".withColumn(\"exist\", expr(\"exists(value, x -> x = 'Fabricante / Modelo IDU')\")) \\\n",
    ".withColumn(\"TipoElemento_key\", expr(\"filter(value, x -> x = 'Fabricante / Modelo IDU')\")) \\\n",
    ".withColumn(\"TipoElemento_tup\", f.split(user_func(df_txodk02[\"value\"],lit('Fabricante / Modelo IDU')),\",\")) \\\n",
    ".withColumn(\"TipoElemento_str\", concat_ws(',','TipoElemento_tup')) \\\n",
    ".withColumn(\"TipoElemento_value\", f.split(regexp_replace(regexp_replace('TipoElemento_str',\"\\\\[+\\d+,\",\"\"),\"\\\\]\",\"\"),\",\"))\n",
    "\n",
    "df_txodk03_9 = df_txodk03_9.select(\"id_form\",\"clave_form\",\"element_group\",\"element\",\"value\",\"exist\",\"TipoElemento_key\",\"TipoElemento_value\")\n"
   ]
  },
  {
   "cell_type": "markdown",
   "metadata": {},
   "source": [
    "Cargamos los campos del grupo *id:root:groupFloorB-0*"
   ]
  },
  {
   "cell_type": "code",
   "execution_count": 20,
   "metadata": {},
   "outputs": [],
   "source": [
    "\n",
    "df_txodk03_10 = df_txodk02 \\\n",
    ".filter(split(df_txodk02[\"element_group\"],\"-\")[0] == \"groupFloorB\") \\\n",
    ".filter(df_txodk02[\"element_group\"] == \"groupFloorB-0\") \\\n",
    ".select(\"id_form\",\"clave_form\",\"element_group\",\"element\",\"value\") \\\n",
    ".withColumn(\"exist\", expr(\"exists(value, x -> x = 'Número de serie (manual)')\")) \\\n",
    ".withColumn(\"TipoElemento_key\", expr(\"filter(value, x -> x = 'Número de serie (manual)')\")) \\\n",
    ".withColumn(\"TipoElemento_tup\", f.split(user_func(df_txodk02[\"value\"],lit('Número de serie (manual)')),\",\")) \\\n",
    ".withColumn(\"TipoElemento_str\", concat_ws(',','TipoElemento_tup')) \\\n",
    ".withColumn(\"TipoElemento_value\", f.split(regexp_replace(regexp_replace('TipoElemento_str',\"\\\\[+\\d+,\",\"\"),\"\\\\]\",\"\"),\",\"))\n",
    "\n",
    "df_txodk03_10 = df_txodk03_10.select(\"id_form\",\"clave_form\",\"element_group\",\"element\",\"value\",\"exist\",\"TipoElemento_key\",\"TipoElemento_value\")\n"
   ]
  },
  {
   "cell_type": "code",
   "execution_count": 21,
   "metadata": {},
   "outputs": [],
   "source": [
    "\n",
    "df_txodk03_11 = df_txodk02 \\\n",
    ".filter(split(df_txodk02[\"element_group\"],\"-\")[0] == \"groupFloorB\") \\\n",
    ".filter(df_txodk02[\"element_group\"] == \"groupFloorB-0\") \\\n",
    ".select(\"id_form\",\"clave_form\",\"element_group\",\"element\",\"value\") \\\n",
    ".withColumn(\"exist\", expr(\"exists(value, x -> x = 'Número de serie (escáner)')\")) \\\n",
    ".withColumn(\"TipoElemento_key\", expr(\"filter(value, x -> x = 'Número de serie (escáner)')\")) \\\n",
    ".withColumn(\"TipoElemento_tup\", f.split(user_func(df_txodk02[\"value\"],lit('Número de serie (escáner)')),\",\")) \\\n",
    ".withColumn(\"TipoElemento_str\", concat_ws(',','TipoElemento_tup')) \\\n",
    ".withColumn(\"TipoElemento_value\", f.split(regexp_replace(regexp_replace('TipoElemento_str',\"\\\\[+\\d+,\",\"\"),\"\\\\]\",\"\"),\",\"))\n",
    "\n",
    "df_txodk03_11 = df_txodk03_11.select(\"id_form\",\"clave_form\",\"element_group\",\"element\",\"value\",\"exist\",\"TipoElemento_key\",\"TipoElemento_value\")\n"
   ]
  },
  {
   "cell_type": "code",
   "execution_count": 22,
   "metadata": {},
   "outputs": [],
   "source": [
    "\n",
    "df_txodk03_12 = df_txodk02 \\\n",
    ".filter(split(df_txodk02[\"element_group\"],\"-\")[0] == \"groupFloorB\") \\\n",
    ".filter(df_txodk02[\"element_group\"] == \"groupFloorB-0\") \\\n",
    ".select(\"id_form\",\"clave_form\",\"element_group\",\"element\",\"value\") \\\n",
    ".withColumn(\"exist\", expr(\"exists(value, x -> x = 'Número de activo fijo (escáner)')\")) \\\n",
    ".withColumn(\"TipoElemento_key\", expr(\"filter(value, x -> x = 'Número de activo fijo (escáner)')\")) \\\n",
    ".withColumn(\"TipoElemento_tup\", f.split(user_func(df_txodk02[\"value\"],lit('Número de activo fijo (escáner)')),\",\")) \\\n",
    ".withColumn(\"TipoElemento_str\", concat_ws(',','TipoElemento_tup')) \\\n",
    ".withColumn(\"TipoElemento_value\", f.split(regexp_replace(regexp_replace('TipoElemento_str',\"\\\\[+\\d+,\",\"\"),\"\\\\]\",\"\"),\",\"))\n",
    "\n",
    "df_txodk03_12 = df_txodk03_12.select(\"id_form\",\"clave_form\",\"element_group\",\"element\",\"value\",\"exist\",\"TipoElemento_key\",\"TipoElemento_value\")\n"
   ]
  },
  {
   "cell_type": "code",
   "execution_count": 23,
   "metadata": {},
   "outputs": [],
   "source": [
    "\n",
    "df_txodk03_13 = df_txodk02 \\\n",
    ".filter(split(df_txodk02[\"element_group\"],\"-\")[0] == \"groupFloorB\") \\\n",
    ".select(\"id_form\",\"clave_form\",\"element_group\",\"element\",\"value\") \\\n",
    ".withColumn(\"exist\", expr(\"exists(value, x -> x = 'Número de activo fijo (scanner)')\")) \\\n",
    ".withColumn(\"TipoElemento_key\", expr(\"filter(value, x -> x = 'Número de activo fijo (scanner)')\")) \\\n",
    ".withColumn(\"TipoElemento_tup\", f.split(user_func(df_txodk02[\"value\"],lit('Número de activo fijo (scanner)')),\",\")) \\\n",
    ".withColumn(\"TipoElemento_str\", concat_ws(',','TipoElemento_tup')) \\\n",
    ".withColumn(\"TipoElemento_value\", f.split(regexp_replace(regexp_replace('TipoElemento_str',\"\\\\[+\\d+,\",\"\"),\"\\\\]\",\"\"),\",\"))\n",
    "\n",
    "df_txodk03_13 = df_txodk03_13.select(\"id_form\",\"clave_form\",\"element_group\",\"element\",\"value\",\"exist\",\"TipoElemento_key\",\"TipoElemento_value\")\n"
   ]
  },
  {
   "cell_type": "code",
   "execution_count": 24,
   "metadata": {},
   "outputs": [],
   "source": [
    "\n",
    "df_txodk03_14 = df_txodk02 \\\n",
    ".filter(split(df_txodk02[\"element_group\"],\"-\")[0] == \"groupFloorB\") \\\n",
    ".filter(df_txodk02[\"element_group\"] == \"groupFloorB-0\") \\\n",
    ".select(\"id_form\",\"clave_form\",\"element_group\",\"element\",\"value\") \\\n",
    ".withColumn(\"exist\", expr(\"exists(value, x -> x = 'Número de activo fijo (manual)')\")) \\\n",
    ".withColumn(\"TipoElemento_key\", expr(\"filter(value, x -> x = 'Número de activo fijo (manual)')\")) \\\n",
    ".withColumn(\"TipoElemento_tup\", f.split(user_func(df_txodk02[\"value\"],lit('Número de activo fijo (manual)')),\",\")) \\\n",
    ".withColumn(\"TipoElemento_str\", concat_ws(',','TipoElemento_tup')) \\\n",
    ".withColumn(\"TipoElemento_value\", f.split(regexp_replace(regexp_replace('TipoElemento_str',\"\\\\[+\\d+,\",\"\"),\"\\\\]\",\"\"),\",\"))\n",
    "\n",
    "df_txodk03_14 = df_txodk03_14.select(\"id_form\",\"clave_form\",\"element_group\",\"element\",\"value\",\"exist\",\"TipoElemento_key\",\"TipoElemento_value\")\n"
   ]
  },
  {
   "cell_type": "code",
   "execution_count": 25,
   "metadata": {},
   "outputs": [],
   "source": [
    "\n",
    "df_txodk03_15 = df_txodk02 \\\n",
    ".filter(split(df_txodk02[\"element_group\"],\"-\")[0] == \"groupFloorB\") \\\n",
    ".filter(df_txodk02[\"element_group\"] == \"groupFloorB-0\") \\\n",
    ".select(\"id_form\",\"clave_form\",\"element_group\",\"element\",\"value\") \\\n",
    ".withColumn(\"exist\", expr(\"exists(value, x -> x = 'Modelo')\")) \\\n",
    ".withColumn(\"TipoElemento_key\", expr(\"filter(value, x -> x = 'Modelo')\")) \\\n",
    ".withColumn(\"TipoElemento_tup\", f.split(user_func(df_txodk02[\"value\"],lit('Modelo')),\",\")) \\\n",
    ".withColumn(\"TipoElemento_str\", concat_ws(',','TipoElemento_tup')) \\\n",
    ".withColumn(\"TipoElemento_value\", f.split(regexp_replace(regexp_replace('TipoElemento_str',\"\\\\[+\\d+,\",\"\"),\"\\\\]\",\"\"),\",\"))\n",
    "\n",
    "df_txodk03_15 = df_txodk03_15.select(\"id_form\",\"clave_form\",\"element_group\",\"element\",\"value\",\"exist\",\"TipoElemento_key\",\"TipoElemento_value\")\n"
   ]
  },
  {
   "cell_type": "code",
   "execution_count": 26,
   "metadata": {},
   "outputs": [],
   "source": [
    "\n",
    "df_txodk03_16 = df_txodk02 \\\n",
    ".filter(split(df_txodk02[\"element_group\"],\"-\")[0] == \"groupFloorB\") \\\n",
    ".filter(df_txodk02[\"element_group\"] == \"groupFloorB-0\") \\\n",
    ".select(\"id_form\",\"clave_form\",\"element_group\",\"element\",\"value\") \\\n",
    ".withColumn(\"exist\", expr(\"exists(value, x -> x = 'Modelo de IDU')\")) \\\n",
    ".withColumn(\"TipoElemento_key\", expr(\"filter(value, x -> x = 'Modelo de IDU')\")) \\\n",
    ".withColumn(\"TipoElemento_tup\", f.split(user_func(df_txodk02[\"value\"],lit('Modelo de IDU')),\",\")) \\\n",
    ".withColumn(\"TipoElemento_str\", concat_ws(',','TipoElemento_tup')) \\\n",
    ".withColumn(\"TipoElemento_value\", f.split(regexp_replace(regexp_replace('TipoElemento_str',\"\\\\[+\\d+,\",\"\"),\"\\\\]\",\"\"),\",\"))\n",
    "\n",
    "df_txodk03_16 = df_txodk03_16.select(\"id_form\",\"clave_form\",\"element_group\",\"element\",\"value\",\"exist\",\"TipoElemento_key\",\"TipoElemento_value\")\n"
   ]
  },
  {
   "cell_type": "code",
   "execution_count": 27,
   "metadata": {},
   "outputs": [],
   "source": [
    "\n",
    "df_txodk03_17 = df_txodk02 \\\n",
    ".filter(split(df_txodk02[\"element_group\"],\"-\")[0] == \"groupFloorB\") \\\n",
    ".filter(df_txodk02[\"element_group\"] == \"groupFloorB-0\") \\\n",
    ".select(\"id_form\",\"clave_form\",\"element_group\",\"element\",\"value\") \\\n",
    ".withColumn(\"exist\", expr(\"exists(value, x -> x = 'Fabricante')\")) \\\n",
    ".withColumn(\"TipoElemento_key\", expr(\"filter(value, x -> x = 'Fabricante')\")) \\\n",
    ".withColumn(\"TipoElemento_tup\", f.split(user_func(df_txodk02[\"value\"],lit('Fabricante')),\",\")) \\\n",
    ".withColumn(\"TipoElemento_str\", concat_ws(',','TipoElemento_tup')) \\\n",
    ".withColumn(\"TipoElemento_value\", f.split(regexp_replace(regexp_replace('TipoElemento_str',\"\\\\[+\\d+,\",\"\"),\"\\\\]\",\"\"),\",\"))\n",
    "\n",
    "df_txodk03_17 = df_txodk03_17.select(\"id_form\",\"clave_form\",\"element_group\",\"element\",\"value\",\"exist\",\"TipoElemento_key\",\"TipoElemento_value\")\n"
   ]
  },
  {
   "cell_type": "code",
   "execution_count": 28,
   "metadata": {},
   "outputs": [],
   "source": [
    "\n",
    "df_txodk03_18 = df_txodk02 \\\n",
    ".filter(split(df_txodk02[\"element_group\"],\"-\")[0] == \"groupFloorB\") \\\n",
    ".filter(df_txodk02[\"element_group\"] == \"groupFloorB-0\") \\\n",
    ".select(\"id_form\",\"clave_form\",\"element_group\",\"element\",\"value\") \\\n",
    ".withColumn(\"exist\", expr(\"exists(value, x -> x = 'Fabricante / Modelo IDU')\")) \\\n",
    ".withColumn(\"TipoElemento_key\", expr(\"filter(value, x -> x = 'Fabricante / Modelo IDU')\")) \\\n",
    ".withColumn(\"TipoElemento_tup\", f.split(user_func(df_txodk02[\"value\"],lit('Fabricante / Modelo IDU')),\",\")) \\\n",
    ".withColumn(\"TipoElemento_str\", concat_ws(',','TipoElemento_tup')) \\\n",
    ".withColumn(\"TipoElemento_value\", f.split(regexp_replace(regexp_replace('TipoElemento_str',\"\\\\[+\\d+,\",\"\"),\"\\\\]\",\"\"),\",\"))\n",
    "\n",
    "df_txodk03_18 = df_txodk03_18.select(\"id_form\",\"clave_form\",\"element_group\",\"element\",\"value\",\"exist\",\"TipoElemento_key\",\"TipoElemento_value\")\n"
   ]
  },
  {
   "cell_type": "markdown",
   "metadata": {},
   "source": [
    "Luego, cargamos los campos para *id:root:groupMWDataA-0*"
   ]
  },
  {
   "cell_type": "code",
   "execution_count": 29,
   "metadata": {},
   "outputs": [],
   "source": [
    "\n",
    "df_txodk03_19 = df_txodk02 \\\n",
    ".filter(split(df_txodk02[\"element_group\"],\"-\")[0] == \"groupMWDataA\") \\\n",
    ".filter(df_txodk02[\"element_group\"] == \"groupMWDataA-0\") \\\n",
    ".select(\"id_form\",\"clave_form\",\"element_group\",\"element\",\"value\") \\\n",
    ".withColumn(\"exist\", expr(\"exists(value, x -> x = 'Número de serie (manual)')\")) \\\n",
    ".withColumn(\"TipoElemento_key\", expr(\"filter(value, x -> x = 'Número de serie (manual)')\")) \\\n",
    ".withColumn(\"TipoElemento_tup\", f.split(user_func(df_txodk02[\"value\"],lit('Número de serie (manual)')),\",\")) \\\n",
    ".withColumn(\"TipoElemento_str\", concat_ws(',','TipoElemento_tup')) \\\n",
    ".withColumn(\"TipoElemento_value\", f.split(regexp_replace(regexp_replace('TipoElemento_str',\"\\\\[+\\d+,\",\"\"),\"\\\\]\",\"\"),\",\"))\n",
    "\n",
    "df_txodk03_19 = df_txodk03_19.select(\"id_form\",\"clave_form\",\"element_group\",\"element\",\"value\",\"exist\",\"TipoElemento_key\",\"TipoElemento_value\")\n"
   ]
  },
  {
   "cell_type": "code",
   "execution_count": 30,
   "metadata": {},
   "outputs": [],
   "source": [
    "\n",
    "df_txodk03_20 = df_txodk02 \\\n",
    ".filter(split(df_txodk02[\"element_group\"],\"-\")[0] == \"groupMWDataA\") \\\n",
    ".filter(df_txodk02[\"element_group\"] == \"groupMWDataA-0\") \\\n",
    ".select(\"id_form\",\"clave_form\",\"element_group\",\"element\",\"value\") \\\n",
    ".withColumn(\"exist\", expr(\"exists(value, x -> x = 'Número de serie (escáner)')\")) \\\n",
    ".withColumn(\"TipoElemento_key\", expr(\"filter(value, x -> x = 'Número de serie (escáner)')\")) \\\n",
    ".withColumn(\"TipoElemento_tup\", f.split(user_func(df_txodk02[\"value\"],lit('Número de serie (escáner)')),\",\")) \\\n",
    ".withColumn(\"TipoElemento_str\", concat_ws(',','TipoElemento_tup')) \\\n",
    ".withColumn(\"TipoElemento_value\", f.split(regexp_replace(regexp_replace('TipoElemento_str',\"\\\\[+\\d+,\",\"\"),\"\\\\]\",\"\"),\",\"))\n",
    "\n",
    "df_txodk03_20 = df_txodk03_20.select(\"id_form\",\"clave_form\",\"element_group\",\"element\",\"value\",\"exist\",\"TipoElemento_key\",\"TipoElemento_value\")\n"
   ]
  },
  {
   "cell_type": "code",
   "execution_count": 31,
   "metadata": {},
   "outputs": [],
   "source": [
    "\n",
    "df_txodk03_21 = df_txodk02 \\\n",
    ".filter(split(df_txodk02[\"element_group\"],\"-\")[0] == \"groupMWDataA\") \\\n",
    ".filter(df_txodk02[\"element_group\"] == \"groupMWDataA-0\") \\\n",
    ".select(\"id_form\",\"clave_form\",\"element_group\",\"element\",\"value\") \\\n",
    ".withColumn(\"exist\", expr(\"exists(value, x -> x = 'Número de activo fijo (escáner)')\")) \\\n",
    ".withColumn(\"TipoElemento_key\", expr(\"filter(value, x -> x = 'Número de activo fijo (escáner)')\")) \\\n",
    ".withColumn(\"TipoElemento_tup\", f.split(user_func(df_txodk02[\"value\"],lit('Número de activo fijo (escáner)')),\",\")) \\\n",
    ".withColumn(\"TipoElemento_str\", concat_ws(',','TipoElemento_tup')) \\\n",
    ".withColumn(\"TipoElemento_value\", f.split(regexp_replace(regexp_replace('TipoElemento_str',\"\\\\[+\\d+,\",\"\"),\"\\\\]\",\"\"),\",\"))\n",
    "\n",
    "df_txodk03_21 = df_txodk03_21.select(\"id_form\",\"clave_form\",\"element_group\",\"element\",\"value\",\"exist\",\"TipoElemento_key\",\"TipoElemento_value\")\n"
   ]
  },
  {
   "cell_type": "code",
   "execution_count": 32,
   "metadata": {},
   "outputs": [],
   "source": [
    "\n",
    "df_txodk03_22 = df_txodk02 \\\n",
    ".filter(split(df_txodk02[\"element_group\"],\"-\")[0] == \"groupMWDataA\") \\\n",
    ".select(\"id_form\",\"clave_form\",\"element_group\",\"element\",\"value\") \\\n",
    ".withColumn(\"exist\", expr(\"exists(value, x -> x = 'Número de activo fijo (scanner)')\")) \\\n",
    ".withColumn(\"TipoElemento_key\", expr(\"filter(value, x -> x = 'Número de activo fijo (scanner)')\")) \\\n",
    ".withColumn(\"TipoElemento_tup\", f.split(user_func(df_txodk02[\"value\"],lit('Número de activo fijo (scanner)')),\",\")) \\\n",
    ".withColumn(\"TipoElemento_str\", concat_ws(',','TipoElemento_tup')) \\\n",
    ".withColumn(\"TipoElemento_value\", f.split(regexp_replace(regexp_replace('TipoElemento_str',\"\\\\[+\\d+,\",\"\"),\"\\\\]\",\"\"),\",\"))\n",
    "\n",
    "df_txodk03_22 = df_txodk03_22.select(\"id_form\",\"clave_form\",\"element_group\",\"element\",\"value\",\"exist\",\"TipoElemento_key\",\"TipoElemento_value\")\n"
   ]
  },
  {
   "cell_type": "code",
   "execution_count": 33,
   "metadata": {},
   "outputs": [],
   "source": [
    "\n",
    "df_txodk03_23 = df_txodk02 \\\n",
    ".filter(split(df_txodk02[\"element_group\"],\"-\")[0] == \"groupMWDataA\") \\\n",
    ".filter(df_txodk02[\"element_group\"] == \"groupMWDataA-0\") \\\n",
    ".select(\"id_form\",\"clave_form\",\"element_group\",\"element\",\"value\") \\\n",
    ".withColumn(\"exist\", expr(\"exists(value, x -> x = 'Número de activo fijo (manual)')\")) \\\n",
    ".withColumn(\"TipoElemento_key\", expr(\"filter(value, x -> x = 'Número de activo fijo (manual)')\")) \\\n",
    ".withColumn(\"TipoElemento_tup\", f.split(user_func(df_txodk02[\"value\"],lit('Número de activo fijo (manual)')),\",\")) \\\n",
    ".withColumn(\"TipoElemento_str\", concat_ws(',','TipoElemento_tup')) \\\n",
    ".withColumn(\"TipoElemento_value\", f.split(regexp_replace(regexp_replace('TipoElemento_str',\"\\\\[+\\d+,\",\"\"),\"\\\\]\",\"\"),\",\"))\n",
    "\n",
    "df_txodk03_23 = df_txodk03_23.select(\"id_form\",\"clave_form\",\"element_group\",\"element\",\"value\",\"exist\",\"TipoElemento_key\",\"TipoElemento_value\")\n"
   ]
  },
  {
   "cell_type": "code",
   "execution_count": 34,
   "metadata": {},
   "outputs": [],
   "source": [
    "\n",
<<<<<<< HEAD
    "df_txodk03_24 = df_txodk02 \\\n",
    ".filter(split(df_txodk02[\"element_group\"],\"-\")[0] == \"groupMWDataA\") \\\n",
=======
    "df_txodk03_26 = df_txodk02 \\\n",
    ".filter(split(df_txodk02[\"element_group\"],\"-\")[0]== \"groupMWDataA\") \\\n",
    ".filter(df_txodk02[\"element_group\"] == \"groupMWDataA-0\") \\\n",
>>>>>>> 17a03a79429caa675c9d571e6d500ed09315de82
    ".select(\"id_form\",\"clave_form\",\"element_group\",\"element\",\"value\") \\\n",
    ".withColumn(\"exist\", expr(\"exists(value, x -> x = 'Modelo')\")) \\\n",
    ".withColumn(\"TipoElemento_key\", expr(\"filter(value, x -> x = 'Modelo')\")) \\\n",
    ".withColumn(\"TipoElemento_tup\", f.split(user_func(df_txodk02[\"value\"],lit('Modelo')),\",\")) \\\n",
    ".withColumn(\"TipoElemento_str\", concat_ws(',','TipoElemento_tup')) \\\n",
    ".withColumn(\"TipoElemento_value\", f.split(regexp_replace(regexp_replace('TipoElemento_str',\"\\\\[+\\d+,\",\"\"),\"\\\\]\",\"\"),\",\"))\n",
    "\n",
    "df_txodk03_24 = df_txodk03_24.select(\"id_form\",\"clave_form\",\"element_group\",\"element\",\"value\",\"exist\",\"TipoElemento_key\",\"TipoElemento_value\")\n"
   ]
  },
  {
   "cell_type": "code",
   "execution_count": 35,
   "metadata": {},
   "outputs": [],
   "source": [
    "\n",
    "df_txodk03_25 = df_txodk02 \\\n",
    ".filter(split(df_txodk02[\"element_group\"],\"-\")[0] == \"groupMWDataA\") \\\n",
    ".filter(df_txodk02[\"element_group\"] == \"groupMWDataA-0\") \\\n",
    ".select(\"id_form\",\"clave_form\",\"element_group\",\"element\",\"value\") \\\n",
    ".withColumn(\"exist\", expr(\"exists(value, x -> x = 'Modelo de ODU')\")) \\\n",
    ".withColumn(\"TipoElemento_key\", expr(\"filter(value, x -> x = 'Modelo de ODU')\")) \\\n",
    ".withColumn(\"TipoElemento_tup\", f.split(user_func(df_txodk02[\"value\"],lit('Modelo de ODU')),\",\")) \\\n",
    ".withColumn(\"TipoElemento_str\", concat_ws(',','TipoElemento_tup')) \\\n",
    ".withColumn(\"TipoElemento_value\", f.split(regexp_replace(regexp_replace('TipoElemento_str',\"\\\\[+\\d+,\",\"\"),\"\\\\]\",\"\"),\",\"))\n",
    "\n",
    "df_txodk03_25 = df_txodk03_25.select(\"id_form\",\"clave_form\",\"element_group\",\"element\",\"value\",\"exist\",\"TipoElemento_key\",\"TipoElemento_value\")\n"
   ]
  },
  {
   "cell_type": "code",
   "execution_count": 36,
   "metadata": {},
   "outputs": [],
   "source": [
    "\n",
    "df_txodk03_26 = df_txodk02 \\\n",
    ".filter(split(df_txodk02[\"element_group\"],\"-\")[0] == \"groupMWDataA\") \\\n",
    ".filter(df_txodk02[\"element_group\"] == \"groupMWDataA-0\") \\\n",
    ".select(\"id_form\",\"clave_form\",\"element_group\",\"element\",\"value\") \\\n",
    ".withColumn(\"exist\", expr(\"exists(value, x -> x = 'Fabricante')\")) \\\n",
    ".withColumn(\"TipoElemento_key\", expr(\"filter(value, x -> x = 'Fabricante')\")) \\\n",
    ".withColumn(\"TipoElemento_tup\", f.split(user_func(df_txodk02[\"value\"],lit('Fabricante')),\",\")) \\\n",
    ".withColumn(\"TipoElemento_str\", concat_ws(',','TipoElemento_tup')) \\\n",
    ".withColumn(\"TipoElemento_value\", f.split(regexp_replace(regexp_replace('TipoElemento_str',\"\\\\[+\\d+,\",\"\"),\"\\\\]\",\"\"),\",\"))\n",
    "\n",
    "df_txodk03_26 = df_txodk03_26.select(\"id_form\",\"clave_form\",\"element_group\",\"element\",\"value\",\"exist\",\"TipoElemento_key\",\"TipoElemento_value\")\n"
   ]
  },
  {
   "cell_type": "code",
   "execution_count": 37,
   "metadata": {},
   "outputs": [],
   "source": [
    "\n",
    "df_txodk03_27 = df_txodk02 \\\n",
    ".filter(split(df_txodk02[\"element_group\"],\"-\")[0] == \"groupMWDataA\") \\\n",
    ".filter(df_txodk02[\"element_group\"] == \"groupMWDataA-0\") \\\n",
    ".select(\"id_form\",\"clave_form\",\"element_group\",\"element\",\"value\") \\\n",
    ".withColumn(\"exist\", expr(\"exists(value, x -> x = 'Fabricante / Modelo ODU')\")) \\\n",
    ".withColumn(\"TipoElemento_key\", expr(\"filter(value, x -> x = 'Fabricante / Modelo ODU')\")) \\\n",
    ".withColumn(\"TipoElemento_tup\", f.split(user_func(df_txodk02[\"value\"],lit('Fabricante / Modelo ODU')),\",\")) \\\n",
    ".withColumn(\"TipoElemento_str\", concat_ws(',','TipoElemento_tup')) \\\n",
    ".withColumn(\"TipoElemento_value\", f.split(regexp_replace(regexp_replace('TipoElemento_str',\"\\\\[+\\d+,\",\"\"),\"\\\\]\",\"\"),\",\"))\n",
    "\n",
    "df_txodk03_27 = df_txodk03_27.select(\"id_form\",\"clave_form\",\"element_group\",\"element\",\"value\",\"exist\",\"TipoElemento_key\",\"TipoElemento_value\")\n"
   ]
  },
  {
   "cell_type": "code",
   "execution_count": 38,
   "metadata": {},
   "outputs": [],
   "source": [
    "\n",
    "df_txodk03_28 = df_txodk02 \\\n",
    ".filter(split(df_txodk02[\"element_group\"],\"-\")[0] == \"groupMWDataA\") \\\n",
    ".filter(df_txodk02[\"element_group\"] == \"groupMWDataA-0\") \\\n",
    ".select(\"id_form\",\"clave_form\",\"element_group\",\"element\",\"value\") \\\n",
    ".withColumn(\"exist\", expr(\"exists(value, x -> x = 'Modelo de la antena de MW')\")) \\\n",
    ".withColumn(\"TipoElemento_key\", expr(\"filter(value, x -> x = 'Modelo de la antena de MW')\")) \\\n",
    ".withColumn(\"TipoElemento_tup\", f.split(user_func(df_txodk02[\"value\"],lit('Modelo de la antena de MW')),\",\")) \\\n",
    ".withColumn(\"TipoElemento_str\", concat_ws(',','TipoElemento_tup')) \\\n",
    ".withColumn(\"TipoElemento_value\", f.split(regexp_replace(regexp_replace('TipoElemento_str',\"\\\\[+\\d+,\",\"\"),\"\\\\]\",\"\"),\",\"))\n",
    "\n",
    "df_txodk03_28 = df_txodk03_28.select(\"id_form\",\"clave_form\",\"element_group\",\"element\",\"value\",\"exist\",\"TipoElemento_key\",\"TipoElemento_value\")\n"
   ]
  },
  {
   "cell_type": "code",
   "execution_count": 39,
   "metadata": {},
   "outputs": [],
   "source": [
    "\n",
    "df_txodk03_29 = df_txodk02 \\\n",
    ".filter(split(df_txodk02[\"element_group\"],\"-\")[0] == \"groupMWDataA\") \\\n",
    ".filter(df_txodk02[\"element_group\"] == \"groupMWDataA-0\") \\\n",
    ".select(\"id_form\",\"clave_form\",\"element_group\",\"element\",\"value\") \\\n",
    ".withColumn(\"exist\", expr(\"exists(value, x -> x = 'Fabricante / Modelo de antena de MW')\")) \\\n",
    ".withColumn(\"TipoElemento_key\", expr(\"filter(value, x -> x = 'Fabricante / Modelo de antena de MW')\")) \\\n",
    ".withColumn(\"TipoElemento_tup\", f.split(user_func(df_txodk02[\"value\"],lit('Fabricante / Modelo de antena de MW')),\",\")) \\\n",
    ".withColumn(\"TipoElemento_str\", concat_ws(',','TipoElemento_tup')) \\\n",
    ".withColumn(\"TipoElemento_value\", f.split(regexp_replace(regexp_replace('TipoElemento_str',\"\\\\[+\\d+,\",\"\"),\"\\\\]\",\"\"),\",\"))\n",
    "\n",
    "df_txodk03_29 = df_txodk03_29.select(\"id_form\",\"clave_form\",\"element_group\",\"element\",\"value\",\"exist\",\"TipoElemento_key\",\"TipoElemento_value\")\n"
   ]
  },
  {
   "cell_type": "markdown",
   "metadata": {},
   "source": [
    "Agregamos los campos de groupMWDataB-0"
   ]
  },
  {
   "cell_type": "code",
   "execution_count": 40,
   "metadata": {},
   "outputs": [],
   "source": [
    "\n",
    "df_txodk03_30 = df_txodk02 \\\n",
    ".filter(split(df_txodk02[\"element_group\"],\"-\")[0] == \"groupMWDataB\") \\\n",
    ".select(\"id_form\",\"clave_form\",\"element_group\",\"element\",\"value\") \\\n",
    ".withColumn(\"exist\", expr(\"exists(value, x -> x = 'Número de serie (manual)')\")) \\\n",
    ".withColumn(\"TipoElemento_key\", expr(\"filter(value, x -> x = 'Número de serie (manual)')\")) \\\n",
    ".withColumn(\"TipoElemento_tup\", f.split(user_func(df_txodk02[\"value\"],lit('Número de serie (manual)')),\",\")) \\\n",
    ".withColumn(\"TipoElemento_str\", concat_ws(',','TipoElemento_tup')) \\\n",
    ".withColumn(\"TipoElemento_value\", f.split(regexp_replace(regexp_replace('TipoElemento_str',\"\\\\[+\\d+,\",\"\"),\"\\\\]\",\"\"),\",\"))\n",
    "\n",
    "df_txodk03_30 = df_txodk03_30.select(\"id_form\",\"clave_form\",\"element_group\",\"element\",\"value\",\"exist\",\"TipoElemento_key\",\"TipoElemento_value\")\n"
   ]
  },
  {
   "cell_type": "code",
   "execution_count": 41,
   "metadata": {},
   "outputs": [],
   "source": [
    "\n",
    "df_txodk03_31 = df_txodk02 \\\n",
    ".filter(split(df_txodk02[\"element_group\"],\"-\")[0] == \"groupMWDataB\") \\\n",
    ".select(\"id_form\",\"clave_form\",\"element_group\",\"element\",\"value\") \\\n",
    ".withColumn(\"exist\", expr(\"exists(value, x -> x = 'Número de serie (escáner)')\")) \\\n",
    ".withColumn(\"TipoElemento_key\", expr(\"filter(value, x -> x = 'Número de serie (escáner)')\")) \\\n",
    ".withColumn(\"TipoElemento_tup\", f.split(user_func(df_txodk02[\"value\"],lit('Número de serie (escáner)')),\",\")) \\\n",
    ".withColumn(\"TipoElemento_str\", concat_ws(',','TipoElemento_tup')) \\\n",
    ".withColumn(\"TipoElemento_value\", f.split(regexp_replace(regexp_replace('TipoElemento_str',\"\\\\[+\\d+,\",\"\"),\"\\\\]\",\"\"),\",\"))\n",
    "\n",
    "df_txodk03_31 = df_txodk03_31.select(\"id_form\",\"clave_form\",\"element_group\",\"element\",\"value\",\"exist\",\"TipoElemento_key\",\"TipoElemento_value\")\n"
   ]
  },
  {
   "cell_type": "code",
   "execution_count": 42,
   "metadata": {},
   "outputs": [],
   "source": [
    "\n",
    "df_txodk03_32 = df_txodk02 \\\n",
    ".filter(split(df_txodk02[\"element_group\"],\"-\")[0] == \"groupMWDataB\") \\\n",
    ".select(\"id_form\",\"clave_form\",\"element_group\",\"element\",\"value\") \\\n",
    ".withColumn(\"exist\", expr(\"exists(value, x -> x = 'Número de activo fijo (escáner)')\")) \\\n",
    ".withColumn(\"TipoElemento_key\", expr(\"filter(value, x -> x = 'Número de activo fijo (escáner)')\")) \\\n",
    ".withColumn(\"TipoElemento_tup\", f.split(user_func(df_txodk02[\"value\"],lit('Número de activo fijo (escáner)')),\",\")) \\\n",
    ".withColumn(\"TipoElemento_str\", concat_ws(',','TipoElemento_tup')) \\\n",
    ".withColumn(\"TipoElemento_value\", f.split(regexp_replace(regexp_replace('TipoElemento_str',\"\\\\[+\\d+,\",\"\"),\"\\\\]\",\"\"),\",\"))\n",
    "\n",
    "df_txodk03_32 = df_txodk03_32.select(\"id_form\",\"clave_form\",\"element_group\",\"element\",\"value\",\"exist\",\"TipoElemento_key\",\"TipoElemento_value\")\n"
   ]
  },
  {
   "cell_type": "code",
   "execution_count": 43,
   "metadata": {},
   "outputs": [],
   "source": [
    "\n",
    "df_txodk03_33 = df_txodk02 \\\n",
    ".filter(split(df_txodk02[\"element_group\"],\"-\")[0] == \"groupMWDataB\") \\\n",
    ".select(\"id_form\",\"clave_form\",\"element_group\",\"element\",\"value\") \\\n",
    ".withColumn(\"exist\", expr(\"exists(value, x -> x = 'Número de activo fijo (scanner)')\")) \\\n",
    ".withColumn(\"TipoElemento_key\", expr(\"filter(value, x -> x = 'Número de activo fijo (scanner)')\")) \\\n",
    ".withColumn(\"TipoElemento_tup\", f.split(user_func(df_txodk02[\"value\"],lit('Número de activo fijo (scanner)')),\",\")) \\\n",
    ".withColumn(\"TipoElemento_str\", concat_ws(',','TipoElemento_tup')) \\\n",
    ".withColumn(\"TipoElemento_value\", f.split(regexp_replace(regexp_replace('TipoElemento_str',\"\\\\[+\\d+,\",\"\"),\"\\\\]\",\"\"),\",\"))\n",
    "\n",
    "df_txodk03_33 = df_txodk03_33.select(\"id_form\",\"clave_form\",\"element_group\",\"element\",\"value\",\"exist\",\"TipoElemento_key\",\"TipoElemento_value\")\n"
   ]
  },
  {
   "cell_type": "code",
   "execution_count": 44,
   "metadata": {},
   "outputs": [],
   "source": [
    "\n",
    "df_txodk03_34 = df_txodk02 \\\n",
    ".filter(split(df_txodk02[\"element_group\"],\"-\")[0] == \"groupMWDataB\") \\\n",
    ".select(\"id_form\",\"clave_form\",\"element_group\",\"element\",\"value\") \\\n",
    ".withColumn(\"exist\", expr(\"exists(value, x -> x = 'Número de activo fijo (manual)')\")) \\\n",
    ".withColumn(\"TipoElemento_key\", expr(\"filter(value, x -> x = 'Número de activo fijo (manual)')\")) \\\n",
    ".withColumn(\"TipoElemento_tup\", f.split(user_func(df_txodk02[\"value\"],lit('Número de activo fijo (manual)')),\",\")) \\\n",
    ".withColumn(\"TipoElemento_str\", concat_ws(',','TipoElemento_tup')) \\\n",
    ".withColumn(\"TipoElemento_value\", f.split(regexp_replace(regexp_replace('TipoElemento_str',\"\\\\[+\\d+,\",\"\"),\"\\\\]\",\"\"),\",\"))\n",
    "\n",
    "df_txodk03_34 = df_txodk03_34.select(\"id_form\",\"clave_form\",\"element_group\",\"element\",\"value\",\"exist\",\"TipoElemento_key\",\"TipoElemento_value\")\n"
   ]
  },
  {
   "cell_type": "code",
   "execution_count": 45,
   "metadata": {},
   "outputs": [],
   "source": [
    "\n",
    "df_txodk03_35 = df_txodk02 \\\n",
    ".filter(split(df_txodk02[\"element_group\"],\"-\")[0] == \"groupMWDataB\") \\\n",
    ".select(\"id_form\",\"clave_form\",\"element_group\",\"element\",\"value\") \\\n",
    ".withColumn(\"exist\", expr(\"exists(value, x -> x = 'Modelo')\")) \\\n",
    ".withColumn(\"TipoElemento_key\", expr(\"filter(value, x -> x = 'Modelo')\")) \\\n",
    ".withColumn(\"TipoElemento_tup\", f.split(user_func(df_txodk02[\"value\"],lit('Modelo')),\",\")) \\\n",
    ".withColumn(\"TipoElemento_str\", concat_ws(',','TipoElemento_tup')) \\\n",
    ".withColumn(\"TipoElemento_value\", f.split(regexp_replace(regexp_replace('TipoElemento_str',\"\\\\[+\\d+,\",\"\"),\"\\\\]\",\"\"),\",\"))\n",
    "\n",
    "df_txodk03_35 = df_txodk03_35.select(\"id_form\",\"clave_form\",\"element_group\",\"element\",\"value\",\"exist\",\"TipoElemento_key\",\"TipoElemento_value\")\n"
   ]
  },
  {
   "cell_type": "code",
   "execution_count": 46,
   "metadata": {},
   "outputs": [],
   "source": [
    "\n",
    "df_txodk03_36 = df_txodk02 \\\n",
    ".filter(split(df_txodk02[\"element_group\"],\"-\")[0] == \"groupMWDataB\") \\\n",
    ".select(\"id_form\",\"clave_form\",\"element_group\",\"element\",\"value\") \\\n",
    ".withColumn(\"exist\", expr(\"exists(value, x -> x = 'Modelo de ODU')\")) \\\n",
    ".withColumn(\"TipoElemento_key\", expr(\"filter(value, x -> x = 'Modelo de ODU')\")) \\\n",
    ".withColumn(\"TipoElemento_tup\", f.split(user_func(df_txodk02[\"value\"],lit('Modelo de ODU')),\",\")) \\\n",
    ".withColumn(\"TipoElemento_str\", concat_ws(',','TipoElemento_tup')) \\\n",
    ".withColumn(\"TipoElemento_value\", f.split(regexp_replace(regexp_replace('TipoElemento_str',\"\\\\[+\\d+,\",\"\"),\"\\\\]\",\"\"),\",\"))\n",
    "\n",
    "df_txodk03_36 = df_txodk03_36.select(\"id_form\",\"clave_form\",\"element_group\",\"element\",\"value\",\"exist\",\"TipoElemento_key\",\"TipoElemento_value\")\n"
   ]
  },
  {
   "cell_type": "code",
   "execution_count": 47,
   "metadata": {},
   "outputs": [],
   "source": [
    "\n",
    "df_txodk03_37 = df_txodk02 \\\n",
    ".filter(split(df_txodk02[\"element_group\"],\"-\")[0] == \"groupMWDataB\") \\\n",
    ".select(\"id_form\",\"clave_form\",\"element_group\",\"element\",\"value\") \\\n",
    ".withColumn(\"exist\", expr(\"exists(value, x -> x = 'Fabricante')\")) \\\n",
    ".withColumn(\"TipoElemento_key\", expr(\"filter(value, x -> x = 'Fabricante')\")) \\\n",
    ".withColumn(\"TipoElemento_tup\", f.split(user_func(df_txodk02[\"value\"],lit('Fabricante')),\",\")) \\\n",
    ".withColumn(\"TipoElemento_str\", concat_ws(',','TipoElemento_tup')) \\\n",
    ".withColumn(\"TipoElemento_value\", f.split(regexp_replace(regexp_replace('TipoElemento_str',\"\\\\[+\\d+,\",\"\"),\"\\\\]\",\"\"),\",\"))\n",
    "\n",
    "df_txodk03_37 = df_txodk03_37.select(\"id_form\",\"clave_form\",\"element_group\",\"element\",\"value\",\"exist\",\"TipoElemento_key\",\"TipoElemento_value\")\n"
   ]
  },
  {
   "cell_type": "code",
   "execution_count": 48,
   "metadata": {},
   "outputs": [],
   "source": [
    "\n",
    "df_txodk03_38 = df_txodk02 \\\n",
    ".filter(split(df_txodk02[\"element_group\"],\"-\")[0] == \"groupMWDataB\") \\\n",
    ".select(\"id_form\",\"clave_form\",\"element_group\",\"element\",\"value\") \\\n",
    ".withColumn(\"exist\", expr(\"exists(value, x -> x = 'Fabricante / Modelo ODU')\")) \\\n",
    ".withColumn(\"TipoElemento_key\", expr(\"filter(value, x -> x = 'Fabricante / Modelo ODU')\")) \\\n",
    ".withColumn(\"TipoElemento_tup\", f.split(user_func(df_txodk02[\"value\"],lit('Fabricante / Modelo ODU')),\",\")) \\\n",
    ".withColumn(\"TipoElemento_str\", concat_ws(',','TipoElemento_tup')) \\\n",
    ".withColumn(\"TipoElemento_value\", f.split(regexp_replace(regexp_replace('TipoElemento_str',\"\\\\[+\\d+,\",\"\"),\"\\\\]\",\"\"),\",\"))\n",
    "\n",
    "df_txodk03_38 = df_txodk03_38.select(\"id_form\",\"clave_form\",\"element_group\",\"element\",\"value\",\"exist\",\"TipoElemento_key\",\"TipoElemento_value\")\n"
   ]
  },
  {
   "cell_type": "code",
   "execution_count": 49,
   "metadata": {},
   "outputs": [],
   "source": [
    "\n",
    "df_txodk03_39 = df_txodk02 \\\n",
    ".filter(split(df_txodk02[\"element_group\"],\"-\")[0] == \"groupMWDataB\") \\\n",
    ".select(\"id_form\",\"clave_form\",\"element_group\",\"element\",\"value\") \\\n",
    ".withColumn(\"exist\", expr(\"exists(value, x -> x = 'Modelo de la antena de MW')\")) \\\n",
    ".withColumn(\"TipoElemento_key\", expr(\"filter(value, x -> x = 'Modelo de la antena de MW')\")) \\\n",
    ".withColumn(\"TipoElemento_tup\", f.split(user_func(df_txodk02[\"value\"],lit('Modelo de la antena de MW')),\",\")) \\\n",
    ".withColumn(\"TipoElemento_str\", concat_ws(',','TipoElemento_tup')) \\\n",
    ".withColumn(\"TipoElemento_value\", f.split(regexp_replace(regexp_replace('TipoElemento_str',\"\\\\[+\\d+,\",\"\"),\"\\\\]\",\"\"),\",\"))\n",
    "\n",
    "df_txodk03_39 = df_txodk03_39.select(\"id_form\",\"clave_form\",\"element_group\",\"element\",\"value\",\"exist\",\"TipoElemento_key\",\"TipoElemento_value\")\n"
   ]
  },
  {
   "cell_type": "code",
   "execution_count": 50,
   "metadata": {},
   "outputs": [],
   "source": [
    "\n",
    "df_txodk03_40 = df_txodk02 \\\n",
    ".filter(split(df_txodk02[\"element_group\"],\"-\")[0] == \"groupMWDataB\") \\\n",
    ".select(\"id_form\",\"clave_form\",\"element_group\",\"element\",\"value\") \\\n",
    ".withColumn(\"exist\", expr(\"exists(value, x -> x = 'Fabricante / Modelo de antena de MW')\")) \\\n",
    ".withColumn(\"TipoElemento_key\", expr(\"filter(value, x -> x = 'Fabricante / Modelo de antena de MW')\")) \\\n",
    ".withColumn(\"TipoElemento_tup\", f.split(user_func(df_txodk02[\"value\"],lit('Fabricante / Modelo de antena de MW')),\",\")) \\\n",
    ".withColumn(\"TipoElemento_str\", concat_ws(',','TipoElemento_tup')) \\\n",
    ".withColumn(\"TipoElemento_value\", f.split(regexp_replace(regexp_replace('TipoElemento_str',\"\\\\[+\\d+,\",\"\"),\"\\\\]\",\"\"),\",\"))\n",
    "\n",
    "df_txodk03_40 = df_txodk03_40.select(\"id_form\",\"clave_form\",\"element_group\",\"element\",\"value\",\"exist\",\"TipoElemento_key\",\"TipoElemento_value\")\n"
   ]
  },
  {
   "cell_type": "markdown",
   "metadata": {},
   "source": [
    "Cargamos los campos extras que corresponden a los elementos **No Trazables** para los KPIs que son: PTR, Barra de Tierra, Barra de Tierra en Torre, Segunda Barra de Tierra en Torre, Atizador."
   ]
  },
  {
   "cell_type": "code",
   "execution_count": 51,
   "metadata": {},
   "outputs": [],
   "source": [
    "\n",
    "df_txodk03_41 = df_txodk02 \\\n",
    ".filter(split(df_txodk02[\"element_group\"],\"-\")[0] == \"groupMWDataA\") \\\n",
    ".select(\"id_form\",\"clave_form\",\"element_group\",\"element\",\"value\") \\\n",
    ".withColumn(\"exist\", expr(\"exists(value, x -> x = 'Atizador')\")) \\\n",
    ".withColumn(\"TipoElemento_key\", expr(\"filter(value, x -> x = 'Atizador')\")) \\\n",
    ".withColumn(\"TipoElemento_tup\", f.split(user_func(df_txodk02[\"value\"],lit('Atizador')),\",\")) \\\n",
    ".withColumn(\"TipoElemento_str\", concat_ws(',','TipoElemento_tup')) \\\n",
    ".withColumn(\"TipoElemento_value\", f.split(regexp_replace(regexp_replace('TipoElemento_str',\"\\\\[+\\d+,\",\"\"),\"\\\\]\",\"\"),\",\"))\n",
    "\n",
    "df_txodk03_41 = df_txodk03_41.select(\"id_form\",\"clave_form\",\"element_group\",\"element\",\"value\",\"exist\",\"TipoElemento_key\",\"TipoElemento_value\")\n",
    "\n"
   ]
  },
  {
   "cell_type": "code",
   "execution_count": 52,
   "metadata": {},
   "outputs": [],
   "source": [
    "\n",
    "df_txodk03_42 = df_txodk02 \\\n",
    ".filter(split(df_txodk02[\"element_group\"],\"-\")[0] == \"groupMWDataB\") \\\n",
    ".select(\"id_form\",\"clave_form\",\"element_group\",\"element\",\"value\") \\\n",
    ".withColumn(\"exist\", expr(\"exists(value, x -> x = 'Atizador')\")) \\\n",
    ".withColumn(\"TipoElemento_key\", expr(\"filter(value, x -> x = 'Atizador')\")) \\\n",
    ".withColumn(\"TipoElemento_tup\", f.split(user_func(df_txodk02[\"value\"],lit('Atizador')),\",\")) \\\n",
    ".withColumn(\"TipoElemento_str\", concat_ws(',','TipoElemento_tup')) \\\n",
    ".withColumn(\"TipoElemento_value\", f.split(regexp_replace(regexp_replace('TipoElemento_str',\"\\\\[+\\d+,\",\"\"),\"\\\\]\",\"\"),\",\"))\n",
    "\n",
    "df_txodk03_42 = df_txodk03_42.select(\"id_form\",\"clave_form\",\"element_group\",\"element\",\"value\",\"exist\",\"TipoElemento_key\",\"TipoElemento_value\")\n"
   ]
  },
  {
   "cell_type": "code",
   "execution_count": 53,
   "metadata": {},
   "outputs": [],
   "source": [
    "\n",
    "df_txodk03_43 = df_txodk02 \\\n",
    ".filter(split(df_txodk02[\"element_group\"],\"-\")[0] == \"groupMWDataA\") \\\n",
    ".select(\"id_form\",\"clave_form\",\"element_group\",\"element\",\"value\") \\\n",
    ".withColumn(\"exist\", expr(\"exists(value, x -> x = 'PTR')\")) \\\n",
    ".withColumn(\"TipoElemento_key\", expr(\"filter(value, x -> x = 'PTR')\")) \\\n",
    ".withColumn(\"TipoElemento_tup\", f.split(user_func(df_txodk02[\"value\"],lit('PTR')),\",\")) \\\n",
    ".withColumn(\"TipoElemento_str\", concat_ws(',','TipoElemento_tup')) \\\n",
    ".withColumn(\"TipoElemento_value\", f.split(regexp_replace(regexp_replace('TipoElemento_str',\"\\\\[+\\d+,\",\"\"),\"\\\\]\",\"\"),\",\"))\n",
    "\n",
    "df_txodk03_43 = df_txodk03_43.select(\"id_form\",\"clave_form\",\"element_group\",\"element\",\"value\",\"exist\",\"TipoElemento_key\",\"TipoElemento_value\")\n"
   ]
  },
  {
   "cell_type": "code",
   "execution_count": 54,
   "metadata": {},
   "outputs": [],
   "source": [
    "\n",
    "df_txodk03_44 = df_txodk02 \\\n",
    ".filter(split(df_txodk02[\"element_group\"],\"-\")[0] == \"groupMWDataB\") \\\n",
    ".select(\"id_form\",\"clave_form\",\"element_group\",\"element\",\"value\") \\\n",
    ".withColumn(\"exist\", expr(\"exists(value, x -> x = 'PTR')\")) \\\n",
    ".withColumn(\"TipoElemento_key\", expr(\"filter(value, x -> x = 'PTR')\")) \\\n",
    ".withColumn(\"TipoElemento_tup\", f.split(user_func(df_txodk02[\"value\"],lit('PTR')),\",\")) \\\n",
    ".withColumn(\"TipoElemento_str\", concat_ws(',','TipoElemento_tup')) \\\n",
    ".withColumn(\"TipoElemento_value\", f.split(regexp_replace(regexp_replace('TipoElemento_str',\"\\\\[+\\d+,\",\"\"),\"\\\\]\",\"\"),\",\"))\n",
    "\n",
    "df_txodk03_44 = df_txodk03_44.select(\"id_form\",\"clave_form\",\"element_group\",\"element\",\"value\",\"exist\",\"TipoElemento_key\",\"TipoElemento_value\")\n",
    "\n"
   ]
  },
  {
   "cell_type": "code",
   "execution_count": 55,
   "metadata": {},
   "outputs": [],
   "source": [
    "\n",
    "df_txodk03_45 = df_txodk02 \\\n",
    ".filter(split(df_txodk02[\"element_group\"],\"-\")[0] == \"groupHorizontalA\") \\\n",
    ".select(\"id_form\",\"clave_form\",\"element_group\",\"element\",\"value\") \\\n",
    ".withColumn(\"exist\", expr(\"exists(value, x -> x = 'Barra de Tierra')\")) \\\n",
    ".withColumn(\"TipoElemento_key\", expr(\"filter(value, x -> x = 'Barra de Tierra')\")) \\\n",
    ".withColumn(\"TipoElemento_tup\", f.split(user_func(df_txodk02[\"value\"],lit('Barra de Tierra')),\",\")) \\\n",
    ".withColumn(\"TipoElemento_str\", concat_ws(',','TipoElemento_tup')) \\\n",
    ".withColumn(\"TipoElemento_value\", f.split(regexp_replace(regexp_replace('TipoElemento_str',\"\\\\[+\\d+,\",\"\"),\"\\\\]\",\"\"),\",\"))\n",
    "\n",
    "df_txodk03_45 = df_txodk03_45.select(\"id_form\",\"clave_form\",\"element_group\",\"element\",\"value\",\"exist\",\"TipoElemento_key\",\"TipoElemento_value\")\n"
   ]
  },
  {
   "cell_type": "code",
   "execution_count": 56,
   "metadata": {},
   "outputs": [],
   "source": [
    "\n",
    "df_txodk03_46 = df_txodk02 \\\n",
    ".filter(split(df_txodk02[\"element_group\"],\"-\")[0] == \"groupHorizontalB\") \\\n",
    ".select(\"id_form\",\"clave_form\",\"element_group\",\"element\",\"value\") \\\n",
    ".withColumn(\"exist\", expr(\"exists(value, x -> x = 'Barra de Tierra')\")) \\\n",
    ".withColumn(\"TipoElemento_key\", expr(\"filter(value, x -> x = 'Barra de Tierra')\")) \\\n",
    ".withColumn(\"TipoElemento_tup\", f.split(user_func(df_txodk02[\"value\"],lit('Barra de Tierra')),\",\")) \\\n",
    ".withColumn(\"TipoElemento_str\", concat_ws(',','TipoElemento_tup')) \\\n",
    ".withColumn(\"TipoElemento_value\", f.split(regexp_replace(regexp_replace('TipoElemento_str',\"\\\\[+\\d+,\",\"\"),\"\\\\]\",\"\"),\",\"))\n",
    "\n",
    "df_txodk03_46 = df_txodk03_46.select(\"id_form\",\"clave_form\",\"element_group\",\"element\",\"value\",\"exist\",\"TipoElemento_key\",\"TipoElemento_value\")\n"
   ]
  },
  {
   "cell_type": "code",
   "execution_count": 57,
   "metadata": {},
   "outputs": [],
   "source": [
    "\n",
    "df_txodk03_47 = df_txodk02 \\\n",
    ".filter(split(df_txodk02[\"element_group\"],\"-\")[0] == \"groupVerticalA\") \\\n",
    ".select(\"id_form\",\"clave_form\",\"element_group\",\"element\",\"value\") \\\n",
    ".withColumn(\"exist\", expr(\"exists(value, x -> x = 'Barra de Tierra en Torre')\")) \\\n",
    ".withColumn(\"TipoElemento_key\", expr(\"filter(value, x -> x = 'Barra de Tierra en Torre')\")) \\\n",
    ".withColumn(\"TipoElemento_tup\", f.split(user_func(df_txodk02[\"value\"],lit('Barra de Tierra en Torre')),\",\")) \\\n",
    ".withColumn(\"TipoElemento_str\", concat_ws(',','TipoElemento_tup')) \\\n",
    ".withColumn(\"TipoElemento_value\", f.split(regexp_replace(regexp_replace('TipoElemento_str',\"\\\\[+\\d+,\",\"\"),\"\\\\]\",\"\"),\",\"))\n",
    "\n",
    "df_txodk03_47 = df_txodk03_47.select(\"id_form\",\"clave_form\",\"element_group\",\"element\",\"value\",\"exist\",\"TipoElemento_key\",\"TipoElemento_value\")\n"
   ]
  },
  {
   "cell_type": "code",
   "execution_count": 58,
   "metadata": {},
   "outputs": [],
   "source": [
    "\n",
    "df_txodk03_48 = df_txodk02 \\\n",
    ".filter(split(df_txodk02[\"element_group\"],\"-\")[0] == \"groupVerticalB\") \\\n",
    ".select(\"id_form\",\"clave_form\",\"element_group\",\"element\",\"value\") \\\n",
    ".withColumn(\"exist\", expr(\"exists(value, x -> x = 'Barra de Tierra en Torre')\")) \\\n",
    ".withColumn(\"TipoElemento_key\", expr(\"filter(value, x -> x = 'Barra de Tierra en Torre')\")) \\\n",
    ".withColumn(\"TipoElemento_tup\", f.split(user_func(df_txodk02[\"value\"],lit('Barra de Tierra en Torre')),\",\")) \\\n",
    ".withColumn(\"TipoElemento_str\", concat_ws(',','TipoElemento_tup')) \\\n",
    ".withColumn(\"TipoElemento_value\", f.split(regexp_replace(regexp_replace('TipoElemento_str',\"\\\\[+\\d+,\",\"\"),\"\\\\]\",\"\"),\",\"))\n",
    "\n",
    "df_txodk03_48 = df_txodk03_48.select(\"id_form\",\"clave_form\",\"element_group\",\"element\",\"value\",\"exist\",\"TipoElemento_key\",\"TipoElemento_value\")\n"
   ]
  },
  {
   "cell_type": "code",
   "execution_count": 59,
   "metadata": {},
   "outputs": [],
   "source": [
    "\n",
    "df_txodk03_49 = df_txodk02 \\\n",
    ".filter(split(df_txodk02[\"element_group\"],\"-\")[0] == \"groupVerticalA\") \\\n",
    ".select(\"id_form\",\"clave_form\",\"element_group\",\"element\",\"value\") \\\n",
    ".withColumn(\"exist\", expr(\"exists(value, x -> x = 'Segunda Barra de Tierra en Torre')\")) \\\n",
    ".withColumn(\"TipoElemento_key\", expr(\"filter(value, x -> x = 'Segunda Barra de Tierra en Torre')\")) \\\n",
    ".withColumn(\"TipoElemento_tup\", f.split(user_func(df_txodk02[\"value\"],lit('Segunda Barra de Tierra en Torre')),\",\")) \\\n",
    ".withColumn(\"TipoElemento_str\", concat_ws(',','TipoElemento_tup')) \\\n",
    ".withColumn(\"TipoElemento_value\", f.split(regexp_replace(regexp_replace('TipoElemento_str',\"\\\\[+\\d+,\",\"\"),\"\\\\]\",\"\"),\",\"))\n",
    "\n",
    "df_txodk03_49 = df_txodk03_49.select(\"id_form\",\"clave_form\",\"element_group\",\"element\",\"value\",\"exist\",\"TipoElemento_key\",\"TipoElemento_value\")\n"
   ]
  },
  {
   "cell_type": "code",
   "execution_count": 60,
   "metadata": {},
   "outputs": [],
   "source": [
    "\n",
    "df_txodk03_50 = df_txodk02 \\\n",
    ".filter(split(df_txodk02[\"element_group\"],\"-\")[0] == \"groupVerticalB\") \\\n",
    ".select(\"id_form\",\"clave_form\",\"element_group\",\"element\",\"value\") \\\n",
    ".withColumn(\"exist\", expr(\"exists(value, x -> x = 'Segunda Barra de Tierra en Torre')\")) \\\n",
    ".withColumn(\"TipoElemento_key\", expr(\"filter(value, x -> x = 'Segunda Barra de Tierra en Torre')\")) \\\n",
    ".withColumn(\"TipoElemento_tup\", f.split(user_func(df_txodk02[\"value\"],lit('Segunda Barra de Tierra en Torre')),\",\")) \\\n",
    ".withColumn(\"TipoElemento_str\", concat_ws(',','TipoElemento_tup')) \\\n",
    ".withColumn(\"TipoElemento_value\", f.split(regexp_replace(regexp_replace('TipoElemento_str',\"\\\\[+\\d+,\",\"\"),\"\\\\]\",\"\"),\",\"))\n",
    "\n",
    "df_txodk03_50 = df_txodk03_50.select(\"id_form\",\"clave_form\",\"element_group\",\"element\",\"value\",\"exist\",\"TipoElemento_key\",\"TipoElemento_value\")"
   ]
  },
  {
   "cell_type": "markdown",
   "metadata": {},
   "source": [
    "## TERMINA Sección definición de reglas de parseo de variables"
   ]
  },
  {
   "cell_type": "code",
   "execution_count": 61,
   "metadata": {},
   "outputs": [],
   "source": [
    "# import modules\n",
    "from functools import reduce\n",
    "from pyspark.sql import DataFrame\n",
    "# create list of dataframes\n",
    "dfs = [df_txodk03_1, \\\n",
    "       df_txodk03_2, \\\n",
    "       df_txodk03_3, \\\n",
    "       df_txodk03_4, \\\n",
    "       df_txodk03_5, \\\n",
    "       df_txodk03_6, \\\n",
    "       df_txodk03_7, \\\n",
    "       df_txodk03_8, \\\n",
    "       df_txodk03_9, \\\n",
    "       df_txodk03_10, \\\n",
    "       df_txodk03_11, \\\n",
    "       df_txodk03_12, \\\n",
    "       df_txodk03_13, \\\n",
    "       df_txodk03_14, \\\n",
    "       df_txodk03_15, \\\n",
    "       df_txodk03_16, \\\n",
    "       df_txodk03_17, \\\n",
    "       df_txodk03_18, \\\n",
    "       df_txodk03_19, \\\n",
    "       df_txodk03_20, \\\n",
    "       df_txodk03_21, \\\n",
    "       df_txodk03_22, \\\n",
    "       df_txodk03_23, \\\n",
    "       df_txodk03_24, \\\n",
    "       df_txodk03_25, \\\n",
    "       df_txodk03_26, \\\n",
    "       df_txodk03_27, \\\n",
    "       df_txodk03_28, \\\n",
    "       df_txodk03_29, \\\n",
    "       df_txodk03_30, \\\n",
    "       df_txodk03_31, \\\n",
    "       df_txodk03_32, \\\n",
    "       df_txodk03_33, \\\n",
    "       df_txodk03_34, \\\n",
    "       df_txodk03_35, \\\n",
    "       df_txodk03_36, \\\n",
    "       df_txodk03_37, \\\n",
    "       df_txodk03_38, \\\n",
    "       df_txodk03_39, \\\n",
    "       df_txodk03_40, \\\n",
    "       df_txodk03_41, \\\n",
    "       df_txodk03_42, \\\n",
    "       df_txodk03_43, \\\n",
    "       df_txodk03_44, \\\n",
    "       df_txodk03_45, \\\n",
    "       df_txodk03_46, \\\n",
    "       df_txodk03_47, \\\n",
    "       df_txodk03_48, \\\n",
    "       df_txodk03_49]\n",
    "\n",
    "# create merged dataframe\n",
    "df_txodk04 = reduce(DataFrame.unionAll, dfs)"
   ]
  },
  {
   "cell_type": "code",
   "execution_count": 62,
   "metadata": {},
   "outputs": [],
   "source": [
    "df_txodk05 = df_txodk04.select(\"id_form\",\"clave_form\",\"element_group\",\"element\",\"exist\",df_txodk04[\"TipoElemento_key\"].alias(\"TipoElemento_key\"),\"TipoElemento_value\")"
   ]
  },
  {
   "cell_type": "code",
   "execution_count": 63,
   "metadata": {},
   "outputs": [],
   "source": [
    "#df_txodk05.filter(df_txodk05['exist'] == \"true\").show(50,truncate = False)"
   ]
  },
  {
   "cell_type": "code",
   "execution_count": 64,
   "metadata": {},
   "outputs": [],
   "source": [
    "df = df_txodk05.withColumn(\"new\", F.arrays_zip(\"TipoElemento_key\", \"TipoElemento_value\"))\\\n",
    "       .withColumn(\"new\", F.explode(\"new\"))\\\n",
    "       .select(\"id_form\",\"clave_form\",\"element_group\", \"element\",\"exist\", F.col(\"new.TipoElemento_key\").alias(\"TipoElemento_key\"), F.col(\"new.TipoElemento_value\").alias(\"TipoElemento_value\"))"
   ]
  },
  {
   "cell_type": "code",
   "execution_count": 65,
   "metadata": {},
   "outputs": [],
   "source": [
    "df_txodk06 = df.filter(df['exist'] == \"true\")"
   ]
  },
  {
   "cell_type": "code",
   "execution_count": 66,
   "metadata": {},
   "outputs": [
    {
     "data": {
      "text/plain": [
       "DataFrame[id_form: string, clave_form: string, element_group: string, element: string, exist: boolean, TipoElemento_key: string, TipoElemento_value: string]"
      ]
     },
     "execution_count": 66,
     "metadata": {},
     "output_type": "execute_result"
    }
   ],
   "source": [
    "df"
   ]
  },
  {
   "cell_type": "code",
   "execution_count": 67,
   "metadata": {},
   "outputs": [
    {
     "name": "stdout",
     "output_type": "stream",
     "text": [
<<<<<<< HEAD
      "+-------+----------+-------------+-------------+-----+------------------------+---------------------------------+\n",
      "|id_form|clave_form|element_group|element      |exist|TipoElemento_key        |TipoElemento_value               |\n",
      "+-------+----------+-------------+-------------+-----+------------------------+---------------------------------+\n",
      "|101464 |ATPMW     |groupFloorA-0|groupFloorA-0|true |Número de serie (manual)| S/N                             |\n",
      "|104069 |ATPMW     |groupFloorA-0|groupFloorA-0|true |Número de serie (manual)| 130815                          |\n",
      "|104250 |ATPMW     |groupFloorA-0|groupFloorA-0|true |Número de serie (manual)| 21021136216TGB900302            |\n",
      "|91295  |ATPMW     |groupFloorA-0|groupFloorA-0|true |Número de serie (manual)| 0                               |\n",
      "|97170  |ATPMW     |groupFloorA-0|groupFloorA-0|true |Número de serie (manual)| F305T00916                      |\n",
      "|97949  |ATPMW     |groupFloorA-0|groupFloorA-0|true |Número de serie (manual)| 21021113821N0F9002150           |\n",
      "|99418  |ATPMW     |groupFloorA-0|groupFloorA-0|true |Número de serie (manual)| 44342                           |\n",
      "|113894 |ATPMW     |groupFloorA-0|groupFloorA-0|true |Número de serie (manual)| 21021138216GB900407             |\n",
      "|97936  |ATPMW     |groupFloorA-0|groupFloorA-0|true |Número de serie (manual)| 21021207626TG3901613            |\n",
      "|101649 |ATPMW     |groupFloorA-0|groupFloorA-0|true |Número de serie (manual)| 21021138216TFA901771            |\n",
      "|105016 |ATPMW     |groupFloorA-0|groupFloorA-0|true |Número de serie (manual)| 44663                           |\n",
      "|106118 |ATPMW     |groupFloorA-0|groupFloorA-0|true |Número de serie (manual)| 13001                           |\n",
      "|90560  |ATPMW     |groupFloorA-0|groupFloorA-0|true |Número de serie (manual)| 2102113821N0F9001995 Y SLFB1CASE|\n",
      "|94436  |ATPMW     |groupFloorA-0|groupFloorA-0|true |Número de serie (manual)| F316R01714                      |\n",
      "|103151 |ATPMW     |groupFloorA-0|groupFloorA-0|true |Número de serie (manual)| 130488                          |\n",
      "|106304 |ATPMW     |groupFloorA-0|groupFloorA-0|true |Número de serie (manual)| 44650                           |\n",
      "|112131 |ATPMW     |groupFloorA-0|groupFloorA-0|true |Número de serie (manual)| 21021138216TGB900998            |\n",
      "|113570 |ATPMW     |groupFloorA-0|groupFloorA-0|true |Número de serie (manual)| 130098                          |\n",
      "|91304  |ATPMW     |groupFloorA-0|groupFloorA-0|true |Número de serie (manual)| E216B04736                      |\n",
      "|91515  |ATPMW     |groupFloorA-0|groupFloorA-0|true |Número de serie (manual)| 09152612                        |\n",
      "|91732  |ATPMW     |groupFloorA-0|groupFloorA-0|true |Número de serie (manual)| 130773                          |\n",
      "|101772 |ATPMW     |groupFloorA-0|groupFloorA-0|true |Número de serie (manual)| 130990                          |\n",
      "|103996 |ATPMW     |groupFloorA-0|groupFloorA-0|true |Número de serie (manual)| F345200076                      |\n",
      "|106379 |ATPMW     |groupFloorA-0|groupFloorA-0|true |Número de serie (manual)| 44750                           |\n",
      "|108907 |ATPMW     |groupFloorA-0|groupFloorA-0|true |Número de serie (manual)| F246E00808                      |\n",
      "|95355  |ATPMW     |groupFloorA-0|groupFloorA-0|true |Número de serie (manual)| 45121                           |\n",
      "|96858  |ATPMW     |groupFloorA-0|groupFloorA-0|true |Número de serie (manual)| 44878                           |\n",
      "|106985 |ATPMW     |groupFloorA-0|groupFloorA-0|true |Número de serie (manual)| 117182                          |\n",
      "|111477 |ATPMW     |groupFloorA-0|groupFloorA-0|true |Número de serie (manual)| E356R04283                      |\n",
      "|98079  |ATPMW     |groupFloorA-0|groupFloorA-0|true |Número de serie (manual)| F435O01262                      |\n",
      "|103561 |ATPMW     |groupFloorA-0|groupFloorA-0|true |Número de serie (manual)| 130903                          |\n",
      "|104079 |ATPMW     |groupFloorA-0|groupFloorA-0|true |Número de serie (manual)| 117126                          |\n",
      "|92870  |ATPMW     |groupFloorA-0|groupFloorA-0|true |Número de serie (manual)| 44712                           |\n",
      "|96574  |ATPMW     |groupFloorA-0|groupFloorA-0|true |Número de serie (manual)| 34520                           |\n",
      "|101637 |ATPMW     |groupFloorA-0|groupFloorA-0|true |Número de serie (manual)| E346D07434                      |\n",
      "|109854 |ATPMW     |groupFloorA-0|groupFloorA-0|true |Número de serie (manual)| 130916                          |\n",
      "|110633 |ATPMW     |groupFloorA-0|groupFloorA-0|true |Número de serie (manual)| NO VISIBLE                      |\n",
      "|96047  |ATPMW     |groupFloorA-0|groupFloorA-0|true |Número de serie (manual)| 2102113821N0F8002411            |\n",
      "|105008 |ATPMW     |groupFloorA-0|groupFloorA-0|true |Número de serie (manual)| No visible                      |\n",
      "|107079 |ATPMW     |groupFloorA-0|groupFloorA-0|true |Número de serie (manual)| 21021138216TGB8900957           |\n",
      "|91770  |ATPMW     |groupFloorA-0|groupFloorA-0|true |Número de serie (manual)| 210107384N0G3000470             |\n",
      "|93485  |ATPMW     |groupFloorA-0|groupFloorA-0|true |Número de serie (manual)| 44520                           |\n",
      "|98419  |ATPMW     |groupFloorA-0|groupFloorA-0|true |Número de serie (manual)| E275102071                      |\n",
      "|101342 |ATPMW     |groupFloorA-0|groupFloorA-0|true |Número de serie (manual)| 1234456                         |\n",
      "|93436  |ATPMW     |groupFloorA-0|groupFloorA-0|true |Número de serie (manual)| E226004049                      |\n",
      "|96290  |ATPMW     |groupFloorA-0|groupFloorA-0|true |Número de serie (manual)| 130487                          |\n",
      "|92223  |ATPMW     |groupFloorA-0|groupFloorA-0|true |Número de serie (manual)| E116608129                      |\n",
      "|95238  |ATPMW     |groupFloorA-0|groupFloorA-0|true |Número de serie (manual)| 21021138216FT8905208            |\n",
      "|95361  |ATPMW     |groupFloorA-0|groupFloorA-0|true |Número de serie (manual)| F435401751                      |\n",
      "|99532  |ATPMW     |groupFloorA-0|groupFloorA-0|true |Número de serie (manual)| 20016-06                        |\n",
      "|101407 |ATPMW     |groupFloorA-0|groupFloorA-0|true |Número de serie (manual)| 21021138216TF8903274            |\n",
      "|107083 |ATPMW     |groupFloorA-0|groupFloorA-0|true |Número de serie (manual)| E275J02200                      |\n",
      "|95452  |ATPMW     |groupFloorA-0|groupFloorA-0|true |Número de serie (manual)| 2102113821N0FA001645            |\n",
      "|96911  |ATPMW     |groupFloorA-0|groupFloorA-0|true |Número de serie (manual)| 2102111746TD6903868             |\n",
      "|98744  |ATPMW     |groupFloorA-0|groupFloorA-0|true |Número de serie (manual)| 130627                          |\n",
      "|104462 |ATPMW     |groupFloorA-0|groupFloorA-0|true |Número de serie (manual)| 44889                           |\n",
      "|106157 |ATPMW     |groupFloorA-0|groupFloorA-0|true |Número de serie (manual)| 44623                           |\n",
      "|94393  |ATPMW     |groupFloorA-0|groupFloorA-0|true |Número de serie (manual)| 44527                           |\n",
      "|101075 |ATPMW     |groupFloorA-0|groupFloorA-0|true |Número de serie (manual)| F295T02450                      |\n",
      "|96012  |ATPMW     |groupFloorA-0|groupFloorA-0|true |Número de serie (manual)| E216604707                      |\n",
      "|96573  |ATPMW     |groupFloorA-0|groupFloorA-0|true |Número de serie (manual)| 34520                           |\n",
      "|99413  |ATPMW     |groupFloorA-0|groupFloorA-0|true |Número de serie (manual)| F325N03151                      |\n",
      "|111472 |ATPMW     |groupFloorA-0|groupFloorA-0|true |Número de serie (manual)| 129904                          |\n",
      "|115798 |ATPMW     |groupFloorA-0|groupFloorA-0|true |Número de serie (manual)| 130478                          |\n",
      "|99054  |ATPMW     |groupFloorA-0|groupFloorA-0|true |Número de serie (manual)| E356U04430                      |\n",
      "|103251 |ATPMW     |groupFloorA-0|groupFloorA-0|true |Número de serie (manual)| 130908                          |\n",
      "|105079 |ATPMW     |groupFloorA-0|groupFloorA-0|true |Número de serie (manual)| 2102120762N0F9000970            |\n",
      "|108599 |ATPMW     |groupFloorA-0|groupFloorA-0|true |Número de serie (manual)| 130825                          |\n",
      "|98907  |ATPMW     |groupFloorA-0|groupFloorA-0|true |Número de serie (manual)| F455T02316                      |\n",
      "|99215  |ATPMW     |groupFloorA-0|groupFloorA-0|true |Número de serie (manual)| 130348                          |\n",
      "|99674  |ATPMW     |groupFloorA-0|groupFloorA-0|true |Número de serie (manual)| 130463                          |\n",
      "|103649 |ATPMW     |groupFloorA-0|groupFloorA-0|true |Número de serie (manual)| F106H01503                      |\n",
      "|91618  |ATPMW     |groupFloorA-0|groupFloorA-0|true |Número de serie (manual)| E346J07408                      |\n",
      "|99405  |ATPMW     |groupFloorA-0|groupFloorA-0|true |Número de serie (manual)| 130658                          |\n",
      "|99701  |ATPMW     |groupFloorA-0|groupFloorA-0|true |Número de serie (manual)| 130369                          |\n",
      "|105336 |ATPMW     |groupFloorA-0|groupFloorA-0|true |Número de serie (manual)| 21021138216TF8903381            |\n",
      "|105943 |ATPMW     |groupFloorA-0|groupFloorA-0|true |Número de serie (manual)| 130670                          |\n",
      "|108272 |ATPMW     |groupFloorA-0|groupFloorA-0|true |Número de serie (manual)| 21021138216TF8905341            |\n",
      "|99698  |ATPMW     |groupFloorA-0|groupFloorA-0|true |Número de serie (manual)| F116D04426                      |\n",
      "|105799 |ATPMW     |groupFloorA-0|groupFloorA-0|true |Número de serie (manual)| N/A                             |\n",
      "|105913 |ATPMW     |groupFloorA-0|groupFloorA-0|true |Número de serie (manual)| NA                              |\n",
      "|95718  |ATPMW     |groupFloorA-0|groupFloorA-0|true |Número de serie (manual)| No Visible                      |\n",
      "|108171 |ATPMW     |groupFloorA-0|groupFloorA-0|true |Número de serie (manual)| 2102113821P0EBOO2188            |\n",
      "|92612  |ATPMW     |groupFloorA-0|groupFloorA-0|true |Número de serie (manual)| 44437                           |\n",
      "|100016 |ATPMW     |groupFloorA-0|groupFloorA-0|true |Número de serie (manual)| 130339                          |\n",
      "|103747 |ATPMW     |groupFloorA-0|groupFloorA-0|true |Número de serie (manual)| 130321                          |\n",
      "|108450 |ATPMW     |groupFloorA-0|groupFloorA-0|true |Número de serie (manual)| 130758                          |\n",
      "|92196  |ATPMW     |groupFloorA-0|groupFloorA-0|true |Número de serie (manual)| E226T04227                      |\n",
      "|98432  |ATPMW     |groupFloorA-0|groupFloorA-0|true |Número de serie (manual)| 130759                          |\n",
      "|99717  |ATPMW     |groupFloorA-0|groupFloorA-0|true |Número de serie (manual)| 44681                           |\n",
      "|106311 |ATPMW     |groupFloorA-0|groupFloorA-0|true |Número de serie (manual)| E346207277                      |\n",
      "|97793  |ATPMW     |groupFloorA-0|groupFloorA-0|true |Número de serie (manual)| No aplica                       |\n",
      "|93457  |ATPMW     |groupFloorA-0|groupFloorA-0|true |Número de serie (manual)| 130690                          |\n",
      "|105305 |ATPMW     |groupFloorA-0|groupFloorA-0|true |Número de serie (manual)| E346O07526                      |\n",
      "|107055 |ATPMW     |groupFloorA-0|groupFloorA-0|true |Número de serie (manual)| 130345                          |\n",
      "|98574  |ATPMW     |groupFloorA-0|groupFloorA-0|true |Número de serie (manual)| 21021131746TD5901369            |\n",
      "|105036 |ATPMW     |groupFloorA-0|groupFloorA-0|true |Número de serie (manual)| 130018                          |\n",
      "|93461  |ATPMW     |groupFloorA-0|groupFloorA-0|true |Número de serie (manual)| 130690                          |\n",
      "|103954 |ATPMW     |groupFloorA-0|groupFloorA-0|true |Número de serie (manual)| 130603                          |\n",
      "|106622 |ATPMW     |groupFloorA-0|groupFloorA-0|true |Número de serie (manual)| N/V                             |\n",
      "+-------+----------+-------------+-------------+-----+------------------------+---------------------------------+\n",
=======
      "+-------+----------+-------------+-------+-----+----------------------+--------------------------+\n",
      "|id_form|clave_form|element_group|element|exist|TipoElemento_key      |TipoElemento_value        |\n",
      "+-------+----------+-------------+-------+-----+----------------------+--------------------------+\n",
      "|149029 |WITX2     |root         |root   |true |Código de Sitio       |BCS1063                   |\n",
      "|145898 |WITX2     |root         |root   |true |Código de Sitio       |YUCMER-7369               |\n",
      "|197353 |WITX2     |root         |root   |true |Código de Sitio       |DIFIZC9238                |\n",
      "|157641 |WITX2     |root         |root   |true |Código de Sitio       |MEXHUA0291                |\n",
      "|143229 |WITX2     |root         |root   |true |Código de Sitio       |MEXSMP0599                |\n",
      "|197351 |WITX2     |root         |root   |true |Código de Sitio       |DIFIZC9243                |\n",
      "|149762 |WITX2     |root         |root   |true |Código de Sitio       |CHHJRZ1772  PANFILO NATERA|\n",
      "|146455 |WITX2     |root         |root   |true |Código de Sitio       |PALACIO NACIONAL          |\n",
      "|160395 |WITX2     |root         |root   |true |Código de Sitio       |CHPPIJ0083                |\n",
      "|156366 |WITX2     |root         |root   |true |Código de Sitio       |MEXSMP0600                |\n",
      "|149144 |WITX2     |root         |root   |true |Código de Sitio       |CHHRJRZ1767 KATAHDIN      |\n",
      "|151834 |WITX2     |root         |root   |true |Código de Sitio       |CHHJRZ1768.   MESA CENTRAL|\n",
      "|172768 |WITX2     |root         |root   |true |Código de Sitio       |HMEX0589                  |\n",
      "|148948 |WITX2     |root         |root   |true |Código de Sitio       |NLEGAL1429                |\n",
      "|172768 |WITX2     |root         |root   |true |Código de Sitio       |HMEX0589                  |\n",
      "|148948 |WITX2     |root         |root   |true |Código de Sitio       |NLEGAL1429                |\n",
      "|197351 |WITX2     |root         |root   |true |Código de Sitio       |DIFIZC9243                |\n",
      "|149762 |WITX2     |root         |root   |true |Código de Sitio       |CHHJRZ1772  PANFILO NATERA|\n",
      "|160395 |WITX2     |root         |root   |true |Código de Sitio       |CHPPIJ0083                |\n",
      "|156366 |WITX2     |root         |root   |true |Código de Sitio       |MEXSMP0600                |\n",
      "|149144 |WITX2     |root         |root   |true |Código de Sitio       |CHHRJRZ1767 KATAHDIN      |\n",
      "|146455 |WITX2     |root         |root   |true |Código de Sitio       |PALACIO NACIONAL          |\n",
      "|151834 |WITX2     |root         |root   |true |Código de Sitio       |CHHJRZ1768.   MESA CENTRAL|\n",
      "|157641 |WITX2     |root         |root   |true |Código de Sitio       |MEXHUA0291                |\n",
      "|143229 |WITX2     |root         |root   |true |Código de Sitio       |MEXSMP0599                |\n",
      "|105053 |ATPMW     |root         |root   |true |Código de Sitio Lado B|HSLT0056                  |\n",
      "|105354 |ATPMW     |root         |root   |true |Código de Sitio Lado B|HPUEZG1405                |\n",
      "|12199  |ATPMW     |root         |root   |true |Código de Sitio Lado B|HSAL0012                  |\n",
      "|17206  |ATPMW     |root         |root   |true |Código de Sitio Lado B|HMEX0264                  |\n",
      "|30695  |ATPMW     |root         |root   |true |Código de Sitio Lado B|HNLD0060                  |\n",
      "|38922  |ATPMW     |root         |root   |true |Código de Sitio Lado B|HVIC0015                  |\n",
      "|39786  |ATPMW     |root         |root   |true |Código de Sitio Lado B|HIZU0001                  |\n",
      "|52331  |ATPMW     |root         |root   |true |Código de Sitio Lado B|RTOL0001                  |\n",
      "|59815  |ATPMW     |root         |root   |true |Código de Sitio Lado B|HXXX0000                  |\n",
      "|65562  |ATPMW     |root         |root   |true |Código de Sitio Lado B|HDOH0003                  |\n",
      "|82538  |ATPMW     |root         |root   |true |Código de Sitio Lado B|HXXX0000                  |\n",
      "|84006  |ATPMW     |root         |root   |true |Código de Sitio Lado B|HREY0012                  |\n",
      "|90560  |ATPMW     |root         |root   |true |Código de Sitio Lado B|HMOR10002                 |\n",
      "|93564  |ATPMW     |root         |root   |true |Código de Sitio Lado B|ATT-HID-9058              |\n",
      "|94434  |ATPMW     |root         |root   |true |Código de Sitio Lado B|HID-9031D Xicotepec       |\n",
      "|99623  |ATPMW     |root         |root   |true |Código de Sitio Lado B|iMEX0026                  |\n",
      "|101151 |ATPMW     |root         |root   |true |Código de Sitio Lado B|MEX-9040                  |\n",
      "|101383 |ATPMW     |root         |root   |true |Código de Sitio Lado B|PUEHZG0189 XALMIMILULCO   |\n",
      "|106237 |ATPMW     |root         |root   |true |Código de Sitio Lado B|DIFCHT9147                |\n",
      "|110008 |ATPMW     |root         |root   |true |Código de Sitio Lado B|HIDTZY1488                |\n",
      "|18599  |ATPMW     |root         |root   |true |Código de Sitio Lado B|HXXX0000                  |\n",
      "|29716  |ATPMW     |root         |root   |true |Código de Sitio Lado B|HJRZ0047                  |\n",
      "|30704  |ATPMW     |root         |root   |true |Código de Sitio Lado B|HJRZ0058                  |\n",
      "|31676  |ATPMW     |root         |root   |true |Código de Sitio Lado B|HJRZ0049                  |\n",
      "|36001  |ATPMW     |root         |root   |true |Código de Sitio Lado B|HNOG0009                  |\n",
      "|39365  |ATPMW     |root         |root   |true |Código de Sitio Lado B|HSLP0028                  |\n",
      "|41491  |ATPMW     |root         |root   |true |Código de Sitio Lado B|HCAM0011                  |\n",
      "|61870  |ATPMW     |root         |root   |true |Código de Sitio Lado B|HMTY1010                  |\n",
      "|66612  |ATPMW     |root         |root   |true |Código de Sitio Lado B|HXXX0000                  |\n",
      "|67793  |ATPMW     |root         |root   |true |Código de Sitio Lado B|HXXX0000                  |\n",
      "|72589  |ATPMW     |root         |root   |true |Código de Sitio Lado B|HGMS0009                  |\n",
      "|72928  |ATPMW     |root         |root   |true |Código de Sitio Lado B|HMEX0163                  |\n",
      "|76209  |ATPMW     |root         |root   |true |Código de Sitio Lado B|HQRO0039                  |\n",
      "|93024  |ATPMW     |root         |root   |true |Código de Sitio Lado B|TOL-9023                  |\n",
      "|96574  |ATPMW     |root         |root   |true |Código de Sitio Lado B|HID-9060 TLAMIMILOLPA     |\n",
      "|106185 |ATPMW     |root         |root   |true |Código de Sitio Lado B|HMEX0526                  |\n",
      "|106954 |ATPMW     |root         |root   |true |Código de Sitio Lado B|PUEATX0742                |\n",
      "|11389  |ATPMW     |root         |root   |true |Código de Sitio Lado B|HSLP0011                  |\n",
      "|13547  |ATPMW     |root         |root   |true |Código de Sitio Lado B|HXXX0000                  |\n",
      "|13928  |ATPMW     |root         |root   |true |Código de Sitio Lado B|HGTO0001                  |\n",
      "|38327  |ATPMW     |root         |root   |true |Código de Sitio Lado B|HMOR0028                  |\n",
      "|39808  |ATPMW     |root         |root   |true |Código de Sitio Lado B|HDOH0001                  |\n",
      "|42233  |ATPMW     |root         |root   |true |Código de Sitio Lado B|HXXX0000                  |\n",
      "|52211  |ATPMW     |root         |root   |true |Código de Sitio Lado B|HPDC0005                  |\n",
      "|61317  |ATPMW     |root         |root   |true |Código de Sitio Lado B|HXXX0000                  |\n",
      "|66507  |ATPMW     |root         |root   |true |Código de Sitio Lado B|HXXX0000                  |\n",
      "|68240  |ATPMW     |root         |root   |true |Código de Sitio Lado B|HPAR0003                  |\n",
      "|69594  |ATPMW     |root         |root   |true |Código de Sitio Lado B|HXXX0000                  |\n",
      "|7108   |ATPMW     |root         |root   |true |Código de Sitio Lado B|HGDL0009                  |\n",
      "|72183  |ATPMW     |root         |root   |true |Código de Sitio Lado B|HXXX0000                  |\n",
      "|77096  |ATPMW     |root         |root   |true |Código de Sitio Lado B|HXXX0000                  |\n",
      "|8406   |ATPMW     |root         |root   |true |Código de Sitio Lado B|HTOL0035                  |\n",
      "|94951  |ATPMW     |root         |root   |true |Código de Sitio Lado B|MEXNIC1157                |\n",
      "|103561 |ATPMW     |root         |root   |true |Código de Sitio Lado B|QTOCRR2114                |\n",
      "|108599 |ATPMW     |root         |root   |true |Código de Sitio Lado B|ATT-MEX-127               |\n",
      "|11872  |ATPMW     |root         |root   |true |Código de Sitio Lado B|HQRO0026                  |\n",
      "|14926  |ATPMW     |root         |root   |true |Código de Sitio Lado B|HGDL0053                  |\n",
      "|20209  |ATPMW     |root         |root   |true |Código de Sitio Lado B|HMEX0238                  |\n",
      "|29296  |ATPMW     |root         |root   |true |Código de Sitio Lado B|HJRZ0069                  |\n",
      "|30673  |ATPMW     |root         |root   |true |Código de Sitio Lado B|HMER0008                  |\n",
      "|36002  |ATPMW     |root         |root   |true |Código de Sitio Lado B|HNOG0009                  |\n",
      "|37892  |ATPMW     |root         |root   |true |Código de Sitio Lado B|HGDL0005                  |\n",
      "|41355  |ATPMW     |root         |root   |true |Código de Sitio Lado B|HMAZ0018                  |\n",
      "|43800  |ATPMW     |root         |root   |true |Código de Sitio Lado B|HLEO0101                  |\n",
      "|43963  |ATPMW     |root         |root   |true |Código de Sitio Lado B|HPUE0093                  |\n",
      "|45350  |ATPMW     |root         |root   |true |Código de Sitio Lado B|HNLD0074                  |\n",
      "|6795   |ATPMW     |root         |root   |true |Código de Sitio Lado B|HMEX0589                  |\n",
      "|91515  |ATPMW     |root         |root   |true |Código de Sitio Lado B|HMEX1041                  |\n",
      "|96290  |ATPMW     |root         |root   |true |Código de Sitio Lado B|ATT-GUASMA3326            |\n",
      "|99079  |ATPMW     |root         |root   |true |Código de Sitio Lado B|ROOSOL1154                |\n",
      "|102493 |ATPMW     |root         |root   |true |Código de Sitio Lado B|HMEX-0426                 |\n",
      "|103444 |ATPMW     |root         |root   |true |Código de Sitio Lado B|HMEX-1117                 |\n",
      "|104306 |ATPMW     |root         |root   |true |Código de Sitio Lado B|MICAPZ2972                |\n",
      "|105389 |ATPMW     |root         |root   |true |Código de Sitio Lado B|COAFRO1906                |\n",
      "|110633 |ATPMW     |root         |root   |true |Código de Sitio Lado B|HIDFIM1425                |\n",
      "|110889 |ATPMW     |root         |root   |true |Código de Sitio Lado B|NLECDJ1410                |\n",
      "|15721  |ATPMW     |root         |root   |true |Código de Sitio Lado B|HMER0012                  |\n",
      "|18284  |ATPMW     |root         |root   |true |Código de Sitio Lado B|HMEX0380                  |\n",
      "|18615  |ATPMW     |root         |root   |true |Código de Sitio Lado B|HMEX0793                  |\n",
      "|20007  |ATPMW     |root         |root   |true |Código de Sitio Lado B|HXXX0000                  |\n",
      "|29493  |ATPMW     |root         |root   |true |Código de Sitio Lado B|HJRZ0048                  |\n",
      "|30300  |ATPMW     |root         |root   |true |Código de Sitio Lado B|HJRZ0069                  |\n",
      "|31517  |ATPMW     |root         |root   |true |Código de Sitio Lado B|HGSV0004                  |\n",
      "|34300  |ATPMW     |root         |root   |true |Código de Sitio Lado B|HXXX0000                  |\n",
      "|35693  |ATPMW     |root         |root   |true |Código de Sitio Lado B|HSLT0038                  |\n",
      "|36362  |ATPMW     |root         |root   |true |Código de Sitio Lado B|HMTY0044                  |\n",
      "+-------+----------+-------------+-------+-----+----------------------+--------------------------+\n",
>>>>>>> 17a03a79429caa675c9d571e6d500ed09315de82
      "only showing top 100 rows\n",
      "\n"
     ]
    }
   ],
   "source": [
    "df_txodk06.show(100,truncate = False)"
   ]
  },
  {
   "cell_type": "markdown",
   "metadata": {},
   "source": [
    "## Persistiendo los valores en el formato:\n",
    "\n",
    "\n",
    "- `df`, formato basado en rows `tabular`"
   ]
  },
  {
   "cell_type": "markdown",
   "metadata": {},
   "source": [
    "Cargamos el dataframe en una tabla hive"
   ]
  },
  {
   "cell_type": "code",
<<<<<<< HEAD
   "execution_count": 68,
=======
   "execution_count": 49,
   "execution_count": 48,
>>>>>>> 17a03a79429caa675c9d571e6d500ed09315de82
   "metadata": {},
   "outputs": [],
   "source": [
    "df_txodk06.write.format(\"parquet\").mode(\"Overwrite\").saveAsTable(\"default.tx_stg_06_tabular_odk_12\")"
   ]
  },
  {
   "cell_type": "code",
<<<<<<< HEAD
   "execution_count": null,
=======
   "execution_count": 48,
   "execution_count": 49,
>>>>>>> 17a03a79429caa675c9d571e6d500ed09315de82
   "metadata": {},
   "outputs": [],
   "source": [
    "sc.stop()"
   ]
  },
  {
   "cell_type": "code",
   "execution_count": null,
   "metadata": {},
   "outputs": [],
   "source": []
  }
 ],
 "metadata": {
  "kernelspec": {
   "display_name": "Python 2",
   "language": "python",
   "name": "python2"
  },
  "language_info": {
   "codemirror_mode": {
    "name": "ipython",
    "version": 2
   },
   "file_extension": ".py",
   "mimetype": "text/x-python",
   "name": "python",
   "nbconvert_exporter": "python",
   "pygments_lexer": "ipython2",
   "version": "2.7.15"
  }
 },
 "nbformat": 4,
 "nbformat_minor": 2
}
