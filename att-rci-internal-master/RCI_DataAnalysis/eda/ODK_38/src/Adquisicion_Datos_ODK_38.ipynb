{
 "cells": [
  {
   "cell_type": "markdown",
   "metadata": {},
   "source": [
    "# Adquisición de datos ODK 38"
   ]
  },
  {
   "cell_type": "markdown",
   "metadata": {},
   "source": [
    "## Sección para import's de `Python` y `Spark`"
   ]
  },
  {
   "cell_type": "code",
   "execution_count": 1,
   "metadata": {},
   "outputs": [],
   "source": [
    "import os\n",
    "os.environ['JAVA_HOME'] = '/usr/java/jdk1.8.0_162'\n",
    "os.environ['SPARK_HOME'] = '/opt/cloudera/parcels/CDH-6.2.0-1.cdh6.2.0.p0.967373/lib/spark'\n",
    "import findspark\n",
    "findspark.init()\n",
    "from pyspark import SparkContext, SparkConf\n",
    "from pyspark.sql import SparkSession\n",
    "from pyspark.sql.types import *\n",
    "from pyspark.sql import HiveContext\n",
    "import pandasql\n",
    "\n",
    "from pyspark.sql.functions import col, split, regexp_extract, array_contains, regexp_replace,concat_ws, create_map, create_map, lit\n",
    "import pyspark.sql.functions as f"
   ]
  },
  {
   "cell_type": "markdown",
   "metadata": {},
   "source": [
    "## Creando SparkContext"
   ]
  },
  {
   "cell_type": "code",
   "execution_count": 2,
   "metadata": {
    "scrolled": true
   },
   "outputs": [],
   "source": [
    "conf = SparkConf().setAppName('Adquisicion_Datos_ODK_38')  \\\n",
    "    .setMaster('yarn').set(\"spark.yarn.queue\",\"root.eda\")\n",
    "spark = SparkSession.builder.config(conf=conf).getOrCreate()\n",
    "sc = spark.sparkContext\n",
    "sqlContext = HiveContext(sc)"
   ]
  },
  {
   "cell_type": "markdown",
   "metadata": {},
   "source": [
    "## Lectura de datos requeridos para el proceso\n",
    "\n",
    "En este caso estamos leyendo la tabla `tx_stg_06_1_odk` la cual contiene la información agrupada y aplanada a nivel:\n",
    "- id_form, clave del formulario `n->many`.\n",
    "- clave_form, clave para relacionar con eñ catálogo de ODK's `n->many`\n",
    "- element_group, elemento padre agrupador de la estructura del formulario, el cual es dinámico de acuerdo a la operación y concepto del ODK. \n",
    "- element, elemento hijo y corresponde `n->to one` element_group.\n",
    "- value, lista de campos y  valores posibles para cada tipo de ODK. "
   ]
  },
  {
   "cell_type": "code",
   "execution_count": 3,
   "metadata": {},
   "outputs": [],
   "source": [
    "df_txodk01 = spark.read.table(\"tx_stg_06_1_odk\")"
   ]
  },
  {
   "cell_type": "code",
   "execution_count": 4,
   "metadata": {},
   "outputs": [
    {
     "name": "stdout",
     "output_type": "stream",
     "text": [
      "root\n",
      " |-- id_form: string (nullable = true)\n",
      " |-- clave_form: string (nullable = true)\n",
      " |-- element_group: string (nullable = true)\n",
      " |-- element: string (nullable = true)\n",
      " |-- value: array (nullable = true)\n",
      " |    |-- element: string (containsNull = true)\n",
      " |-- odk_no: string (nullable = true)\n",
      "\n"
     ]
    }
   ],
   "source": [
    "df_txodk01.printSchema()"
   ]
  },
  {
   "cell_type": "markdown",
   "metadata": {},
   "source": [
    "# Filtrado para pruebas controladas, los siguientes escenarios se contemplan:\n",
    "\n",
    "- Filtrado de `id_form`, para identificar el tipo de documento a validar.\n",
    "- Filtrado de `clave_form`, para identificar el tipo de ODK's a validar."
   ]
  },
  {
   "cell_type": "code",
   "execution_count": 5,
   "metadata": {},
   "outputs": [],
   "source": [
    "df_txodk02 = df_txodk01.filter(df_txodk01[\"clave_form\"]==\"DECOR\").select(\"id_form\",\"clave_form\",\"element_group\",\"element\",\"value\").withColumn('value_str', concat_ws(',', 'value')).orderBy(df_txodk01[\"clave_form\"])"
   ]
  },
  {
   "cell_type": "code",
   "execution_count": 6,
   "metadata": {},
   "outputs": [
    {
     "name": "stdout",
     "output_type": "stream",
     "text": [
      "root\n",
      " |-- id_form: string (nullable = true)\n",
      " |-- clave_form: string (nullable = true)\n",
      " |-- element_group: string (nullable = true)\n",
      " |-- element: string (nullable = true)\n",
      " |-- value: array (nullable = true)\n",
      " |    |-- element: string (containsNull = true)\n",
      " |-- value_str: string (nullable = false)\n",
      "\n"
     ]
    }
   ],
   "source": [
    "df_txodk02.printSchema()"
   ]
  },
  {
   "cell_type": "markdown",
   "metadata": {},
   "source": [
    "## Verificamos la estructura del documento, agrupando por:\n",
    "\n",
    "- `element_group`, elemento padre agrupador de la estructura del formulario, el cual es dinámico de acuerdo a la operación y concepto del ODK.\n",
    "\n",
    "Este comportamiento estará variando de acuerdo a al filtrado anterior el cual analizará la estructura de los ODK's dentro del alcance, que corresponde a:\n",
    "\n",
    "1. `12`, Instalación\n",
    "2. `32`, Instalación y comisionamiento. \n",
    "3. `38`, Decomiso. \n",
    "4. `76`, Salida de Almacén\n",
    "5. `99`, Operaciones (Site Survey)"
   ]
  },
  {
   "cell_type": "code",
   "execution_count": 7,
   "metadata": {},
   "outputs": [
    {
     "name": "stdout",
     "output_type": "stream",
     "text": [
      "+--------------------+-----+\n",
      "|       element_group|count|\n",
      "+--------------------+-----+\n",
      "|   groupAntennaRRU-0|76295|\n",
      "|   groupAntennaRRU-1|50866|\n",
      "|  groupAntennaRRU-10|  268|\n",
      "|  groupAntennaRRU-11|  177|\n",
      "|  groupAntennaRRU-12|  137|\n",
      "|  groupAntennaRRU-13|  139|\n",
      "|  groupAntennaRRU-14|  129|\n",
      "|  groupAntennaRRU-15|   84|\n",
      "|  groupAntennaRRU-16|   61|\n",
      "|  groupAntennaRRU-17|   45|\n",
      "|  groupAntennaRRU-18|   13|\n",
      "|  groupAntennaRRU-19|   15|\n",
      "|   groupAntennaRRU-2|29571|\n",
      "|  groupAntennaRRU-20|   15|\n",
      "|  groupAntennaRRU-21|   16|\n",
      "|   groupAntennaRRU-3|11552|\n",
      "|   groupAntennaRRU-4| 5213|\n",
      "|   groupAntennaRRU-5| 2881|\n",
      "|   groupAntennaRRU-6| 1714|\n",
      "|   groupAntennaRRU-7| 1129|\n",
      "|   groupAntennaRRU-8|  724|\n",
      "|   groupAntennaRRU-9|  517|\n",
      "|groupAntennaRRUVw...| 4579|\n",
      "|groupAntennaRRUVw...| 3596|\n",
      "|groupAntennaRRUVw...|  473|\n",
      "|groupAntennaRRUVw...|  421|\n",
      "|groupAntennaRRUVw...|  375|\n",
      "|groupAntennaRRUVw...|  317|\n",
      "|groupAntennaRRUVw...|  230|\n",
      "|groupAntennaRRUVw...|  157|\n",
      "|groupAntennaRRUVw...|  121|\n",
      "|groupAntennaRRUVw...|  105|\n",
      "|groupAntennaRRUVw...|   77|\n",
      "|groupAntennaRRUVw...|   67|\n",
      "|groupAntennaRRUVw...| 2416|\n",
      "|groupAntennaRRUVw...|   53|\n",
      "|groupAntennaRRUVw...|   42|\n",
      "|groupAntennaRRUVw...|   32|\n",
      "|groupAntennaRRUVw...|   23|\n",
      "|groupAntennaRRUVw...|   18|\n",
      "|groupAntennaRRUVw...|   14|\n",
      "|groupAntennaRRUVw...|   11|\n",
      "|groupAntennaRRUVw...|   11|\n",
      "|groupAntennaRRUVw...|   10|\n",
      "|groupAntennaRRUVw...|    8|\n",
      "|groupAntennaRRUVw...| 1524|\n",
      "|groupAntennaRRUVw...|    8|\n",
      "|groupAntennaRRUVw...|    7|\n",
      "|groupAntennaRRUVw...|    7|\n",
      "|groupAntennaRRUVw...|    4|\n",
      "+--------------------+-----+\n",
      "only showing top 50 rows\n",
      "\n"
     ]
    }
   ],
   "source": [
    "df_txodk02.orderBy(\"element_group\").select(\"element_group\").groupBy(\"element_group\").count().show(50)"
   ]
  },
  {
   "cell_type": "markdown",
   "metadata": {},
   "source": [
    "## Sección adicional de import de `pyspark` para manejo de colecciones (DF) y búsqueda y mapeo de datos principales correspondientes a cada ODK\n",
    "\n",
    "__IMPORTANTE__: ES REQUERIDO validar ésta estrategia para optimizar el performance y la obtención ordenada de cada expr por ODK. La propuesta es manejar un `DF` por cada set de reglas de mapeo de datos por ODK, por lo cual debemos generar dataframes base para cada tipo de ODK y trabajarlo por separado, después hacer merge de los DF's. "
   ]
  },
  {
   "cell_type": "code",
   "execution_count": 8,
   "metadata": {},
   "outputs": [],
   "source": [
    "from pyspark.sql.types import ArrayType, StructType, StructField, IntegerType\n",
    "from pyspark.sql.functions import col, udf, explode, expr, flatten\n",
    "from pyspark.sql import functions as F"
   ]
  },
  {
   "cell_type": "markdown",
   "metadata": {},
   "source": [
    "## Segundo `approach`, intentando poner una estructura unificada tipo `k/v` las ventajas pueden ser las siguientes:\n",
    "- Separando los dataframes por cada set de campos a identificar, esto permite crear más `expr` para sacar más campos en un futuro.\n",
    "- Se considera una estructura estándar unificada por campo.\n",
    "\n",
    "## Mejoras identificadas:\n",
    "- El DF base contiene todo el universo de datos (todos los conjuntos de elementos y grupos para todos los ODK's), evaluamos el comportamiento y determinamos si hacemos `split` por ODK.\n",
    "\n",
    "## casos de prueba:\n",
    "- Primer caso, tomaremos el ODK38, para hacer pruebas.\n",
    "  - Los campos para ODK38 identificados son (podrían existir más):\n",
    "    - TS Finalización **ÚNICO**\n",
    "    - Código de sitio **ÚNICO**\n",
    "    - Número de serie (manual) **RECURSIVO**\n",
    "    - Número de activo(manual) **RECURSIVO**\n",
    "    - Marca **UNICO**\n",
    "    - Modelo **UNICO**\n",
    "- Segundo caso, tomaremos todos los ODK's y seleccionar campos entre diferentes ODK's."
   ]
  },
  {
   "cell_type": "markdown",
   "metadata": {},
   "source": [
    "## Sección definición de reglas de parseo de variables"
   ]
  },
  {
   "cell_type": "code",
   "execution_count": 9,
   "metadata": {},
   "outputs": [],
   "source": [
    "user_func = udf (lambda x,y: [i for i, e in enumerate(x) if e==y ])\n",
    "user_func_val = udf (lambda x,y: [i for i, e in enumerate(x) if e==y])"
   ]
  },
  {
   "cell_type": "markdown",
   "metadata": {},
   "source": [
    "#### Root "
   ]
  },
  {
   "cell_type": "markdown",
   "metadata": {},
   "source": [
    "#### TS Finalización "
   ]
  },
  {
   "cell_type": "code",
   "execution_count": 10,
   "metadata": {},
   "outputs": [],
   "source": [
    "df_txodk03_root_TS_F = df_txodk02 \\\n",
    ".filter(split(df_txodk02.element_group,\"-\")[0] == \"root\") \\\n",
    ".select(\"id_form\",\"clave_form\",\"element_group\",\"element\",\"value\") \\\n",
    ".withColumn(\"exist\", expr(\"exists(value, x -> x = 'TS Finalización')\")) \\\n",
    ".withColumn(\"TipoElemento_key\", expr(\"filter(value, x -> x = 'TS Finalización')\")) \\\n",
    ".withColumn(\"TipoElemento_value\", split(df_txodk02[\"value\"][expr(\"array_position(value, 'TS Finalización')\")], \",\"))"
   ]
  },
  {
   "cell_type": "markdown",
   "metadata": {},
   "source": [
    "#### Folio interno de embarque "
   ]
  },
  {
   "cell_type": "code",
   "execution_count": 11,
   "metadata": {},
   "outputs": [],
   "source": [
    "df_txodk03_root_F_E = df_txodk02 \\\n",
    ".filter(split(df_txodk02.element_group,\"-\")[0] == \"root\") \\\n",
    ".select(\"id_form\",\"clave_form\",\"element_group\",\"element\",\"value\") \\\n",
    ".withColumn(\"exist\", expr(\"exists(value, x -> x = 'Folio Interno de Embarque')\")) \\\n",
    ".withColumn(\"TipoElemento_key\", expr(\"filter(value, x -> x = 'Folio Interno de Embarque')\")) \\\n",
    ".withColumn(\"TipoElemento_value\", split(df_txodk02[\"value\"][expr(\"array_position(value, 'Folio Interno de Embarque')\")], \",\"))"
   ]
  },
  {
   "cell_type": "markdown",
   "metadata": {},
   "source": [
    "#### Proyecto"
   ]
  },
  {
   "cell_type": "code",
   "execution_count": 12,
   "metadata": {},
   "outputs": [],
   "source": [
    "df_txodk03_root_PRO = df_txodk02 \\\n",
    ".filter(split(df_txodk02.element_group,\"-\")[0] == \"root\") \\\n",
    ".select(\"id_form\",\"clave_form\",\"element_group\",\"element\",\"value\") \\\n",
    ".withColumn(\"exist\", expr(\"exists(value, x -> x = 'Proyecto')\")) \\\n",
    ".withColumn(\"TipoElemento_key\", expr(\"filter(value, x -> x = 'Proyecto')\")) \\\n",
    ".withColumn(\"TipoElemento_value\", split(df_txodk02[\"value\"][expr(\"array_position(value, 'Proyecto')\")], \",\"))"
   ]
  },
  {
   "cell_type": "markdown",
   "metadata": {},
   "source": [
    "#### Código de sitio"
   ]
  },
  {
   "cell_type": "code",
   "execution_count": 13,
   "metadata": {},
   "outputs": [],
   "source": [
    "df_txodk03_root_CD_S = df_txodk02 \\\n",
    ".filter(split(df_txodk02.element_group,\"-\")[0] == \"root\") \\\n",
    ".select(\"id_form\",\"clave_form\",\"element_group\",\"element\",\"value\") \\\n",
    ".withColumn(\"exist\", expr(\"exists(value, x -> x = 'Código de sitio')\")) \\\n",
    ".withColumn(\"TipoElemento_key\", expr(\"filter(value, x -> x = 'Código de sitio')\")) \\\n",
    ".withColumn(\"TipoElemento_value\", split(df_txodk02[\"value\"][expr(\"array_position(value, 'Código de sitio')\")], \",\"))"
   ]
  },
  {
   "cell_type": "markdown",
   "metadata": {},
   "source": [
    "#### Vendor"
   ]
  },
  {
   "cell_type": "code",
   "execution_count": 14,
   "metadata": {},
   "outputs": [],
   "source": [
    "df_txodk03_root_V = df_txodk02 \\\n",
    ".filter(split(df_txodk02.element_group,\"-\")[0] == \"root\") \\\n",
    ".select(\"id_form\",\"clave_form\",\"element_group\",\"element\",\"value\") \\\n",
    ".withColumn(\"exist\", expr(\"exists(value, x -> x = 'Vendor')\")) \\\n",
    ".withColumn(\"TipoElemento_key\", expr(\"filter(value, x -> x = 'Vendor')\")) \\\n",
    ".withColumn(\"TipoElemento_value\", split(df_txodk02[\"value\"][expr(\"array_position(value, 'Vendor')\")], \",\"))"
   ]
  },
  {
   "cell_type": "markdown",
   "metadata": {},
   "source": [
    "----\n",
    "#### groupAntennaRRU "
   ]
  },
  {
   "cell_type": "markdown",
   "metadata": {},
   "source": [
    "#### Marca "
   ]
  },
  {
   "cell_type": "code",
   "execution_count": 15,
   "metadata": {},
   "outputs": [],
   "source": [
    "df_txodk03_groupAntennaRRU_MA = df_txodk02 \\\n",
    ".filter(split(df_txodk02.element_group,\"-\")[0] == \"groupAntennaRRU\") \\\n",
    ".select(\"id_form\",\"clave_form\",\"element_group\",\"element\",\"value\") \\\n",
    ".withColumn(\"exist\", expr(\"exists(value, x -> x = 'Marca')\")) \\\n",
    ".withColumn(\"TipoElemento_key\", expr(\"filter(value, x -> x = 'Marca')\")) \\\n",
    ".withColumn(\"TipoElemento_value\", split(df_txodk02[\"value\"][expr(\"array_position(value, 'Marca')\")], \",\"))"
   ]
  },
  {
   "cell_type": "markdown",
   "metadata": {},
   "source": [
    "#### Modelo "
   ]
  },
  {
   "cell_type": "code",
   "execution_count": 16,
   "metadata": {},
   "outputs": [],
   "source": [
    "df_txodk03_groupAntennaRRU_MO = df_txodk02 \\\n",
    ".filter(split(df_txodk02.element_group,\"-\")[0] == \"groupAntennaRRU\") \\\n",
    ".select(\"id_form\",\"clave_form\",\"element_group\",\"element\",\"value\") \\\n",
    ".withColumn(\"exist\", expr(\"exists(value, x -> x = 'Modelo')\")) \\\n",
    ".withColumn(\"TipoElemento_key\", expr(\"filter(value, x -> x = 'Modelo')\")) \\\n",
    ".withColumn(\"TipoElemento_value\", split(df_txodk02[\"value\"][expr(\"array_position(value, 'Modelo')\")], \",\"))"
   ]
  },
  {
   "cell_type": "markdown",
   "metadata": {},
   "source": [
    "#### Número de serie (manual) "
   ]
  },
  {
   "cell_type": "code",
   "execution_count": 17,
   "metadata": {},
   "outputs": [],
   "source": [
    "df_txodk03_groupAntennaRRU_NS_MN = df_txodk02 \\\n",
    ".filter(split(df_txodk02.element_group,\"-\")[0] == \"groupAntennaRRU\") \\\n",
    ".select(\"id_form\",\"clave_form\",\"element_group\",\"element\",\"value\") \\\n",
    ".withColumn(\"exist\", expr(\"exists(value, x -> x = 'Número de serie (manual)')\")) \\\n",
    ".withColumn(\"TipoElemento_key\", expr(\"filter(value, x -> x = 'Número de serie (manual)')\")) \\\n",
    ".withColumn(\"TipoElemento_value\", expr(\"filter(value, x -> x != 'Número de serie (manual)')\"))\n",
    "#.withColumn(\"TipoElemento_value\", split(df_txodk02[\"value\"][expr(\"array_position(value, 'Número de serie (manual)')\")], \",\"))"
   ]
  },
  {
   "cell_type": "markdown",
   "metadata": {},
   "source": [
    "#### Número de activo"
   ]
  },
  {
   "cell_type": "code",
   "execution_count": 18,
   "metadata": {},
   "outputs": [],
   "source": [
    "df_txodk03_groupAntennaRRU_NA = df_txodk02 \\\n",
    ".filter(split(df_txodk02.element_group,\"-\")[0] == \"groupAntennaRRU\") \\\n",
    ".select(\"id_form\",\"clave_form\",\"element_group\",\"element\",\"value\") \\\n",
    ".withColumn(\"exist\", expr(\"exists(value, x -> x = 'Número de activo')\")) \\\n",
    ".withColumn(\"TipoElemento_key\", expr(\"filter(value, x -> x = 'Número de activo')\")) \\\n",
    ".withColumn(\"TipoElemento_value\", expr(\"filter(value, x -> x != 'Número de activo')\"))\n",
    "#.withColumn(\"TipoElemento_value\", split(df_txodk02[\"value\"][expr(\"array_position(value, 'Número de activo')\")], \",\"))"
   ]
  },
  {
   "cell_type": "markdown",
   "metadata": {},
   "source": [
    "#### Número de activo(manual)"
   ]
  },
  {
   "cell_type": "code",
   "execution_count": 19,
   "metadata": {},
   "outputs": [],
   "source": [
    "df_txodk03_groupAntennaRRU_NA_MN = df_txodk02 \\\n",
    ".filter(split(df_txodk02.element_group,\"-\")[0] == \"groupAntennaRRU\") \\\n",
    ".select(\"id_form\",\"clave_form\",\"element_group\",\"element\",\"value\") \\\n",
    ".withColumn(\"exist\", expr(\"exists(value, x -> x = 'Número de activo(manual)')\")) \\\n",
    ".withColumn(\"TipoElemento_key\", expr(\"filter(value, x -> x = 'Número de activo(manual)')\")) \\\n",
    ".withColumn(\"TipoElemento_value\", expr(\"filter(value, x -> x != 'Número de activo(manual)')\"))\n",
    "#.withColumn(\"TipoElemento_value\", split(df_txodk02[\"value\"][expr(\"array_position(value, 'Número de activo')\")], \",\"))"
   ]
  },
  {
   "cell_type": "markdown",
   "metadata": {},
   "source": [
    "#### Número de serie (escáner)"
   ]
  },
  {
   "cell_type": "code",
   "execution_count": 20,
   "metadata": {},
   "outputs": [],
   "source": [
    "df_txodk03_groupAntennaRRU_NS_SC = df_txodk02 \\\n",
    ".filter(split(df_txodk02.element_group,\"-\")[0] == \"groupAntennaRRU\") \\\n",
    ".select(\"id_form\",\"clave_form\",\"element_group\",\"element\",\"value\") \\\n",
    ".withColumn(\"exist\", expr(\"exists(value, x -> x = 'Número de serie (escáner)')\")) \\\n",
    ".withColumn(\"TipoElemento_key\", expr(\"filter(value, x -> x = 'Número de serie (escáner)')\")) \\\n",
    ".withColumn(\"TipoElemento_value\", expr(\"filter(value, x -> x != 'Número de serie (escáner)')\"))"
   ]
  },
  {
   "cell_type": "markdown",
   "metadata": {},
   "source": [
    "#### Tipo de elemento "
   ]
  },
  {
   "cell_type": "code",
   "execution_count": 21,
   "metadata": {},
   "outputs": [],
   "source": [
    "df_txodk03_groupAntennaRRU_TE = df_txodk02 \\\n",
    ".filter(split(df_txodk02.element_group,\"-\")[0] == \"groupAntennaRRU\") \\\n",
    ".select(\"id_form\",\"clave_form\",\"element_group\",\"element\",\"value\") \\\n",
    ".withColumn(\"exist\", expr(\"exists(value, x -> x = 'Tipo de elemento')\")) \\\n",
    ".withColumn(\"TipoElemento_key\", expr(\"filter(value, x -> x = 'Tipo de elemento')\")) \\\n",
    ".withColumn(\"TipoElemento_value\", split(df_txodk02[\"value\"][expr(\"array_position(value, 'Tipo de elemento')\")], \",\"))"
   ]
  },
  {
   "cell_type": "markdown",
   "metadata": {},
   "source": [
    "----\n",
    "#### groupEquipoElectronico "
   ]
  },
  {
   "cell_type": "markdown",
   "metadata": {},
   "source": [
    "#### Marca "
   ]
  },
  {
   "cell_type": "code",
   "execution_count": 22,
   "metadata": {},
   "outputs": [],
   "source": [
    "df_txodk03_groupEquipoElectronico_MA = df_txodk02 \\\n",
    ".filter(split(df_txodk02.element_group,\"-\")[0] == \"groupEquipoElectronico\") \\\n",
    ".select(\"id_form\",\"clave_form\",\"element_group\",\"element\",\"value\") \\\n",
    ".withColumn(\"exist\", expr(\"exists(value, x -> x = 'Marca')\")) \\\n",
    ".withColumn(\"TipoElemento_key\", expr(\"filter(value, x -> x = 'Marca')\")) \\\n",
    ".withColumn(\"TipoElemento_value\", split(df_txodk02[\"value\"][expr(\"array_position(value, 'Marca')\")], \",\"))"
   ]
  },
  {
   "cell_type": "markdown",
   "metadata": {},
   "source": [
    "#### Modelo "
   ]
  },
  {
   "cell_type": "code",
   "execution_count": 23,
   "metadata": {},
   "outputs": [],
   "source": [
    "df_txodk03_groupEquipoElectronico_MO = df_txodk02 \\\n",
    ".filter(split(df_txodk02.element_group,\"-\")[0] == \"groupEquipoElectronico\") \\\n",
    ".select(\"id_form\",\"clave_form\",\"element_group\",\"element\",\"value\") \\\n",
    ".withColumn(\"exist\", expr(\"exists(value, x -> x = 'Modelo')\")) \\\n",
    ".withColumn(\"TipoElemento_key\", expr(\"filter(value, x -> x = 'Modelo')\")) \\\n",
    ".withColumn(\"TipoElemento_value\", split(df_txodk02[\"value\"][expr(\"array_position(value, 'Modelo')\")], \",\"))"
   ]
  },
  {
   "cell_type": "markdown",
   "metadata": {},
   "source": [
    "#### Número de serie (escáner) "
   ]
  },
  {
   "cell_type": "code",
   "execution_count": 24,
   "metadata": {},
   "outputs": [],
   "source": [
    "df_txodk03_groupEquipoElectronico_NS_SC = df_txodk02 \\\n",
    ".filter(split(df_txodk02.element_group,\"-\")[0] == \"groupEquipoElectronico\") \\\n",
    ".select(\"id_form\",\"clave_form\",\"element_group\",\"element\",\"value\") \\\n",
    ".withColumn(\"exist\", expr(\"exists(value, x -> x = 'Número de serie (escáner)')\")) \\\n",
    ".withColumn(\"TipoElemento_key\", expr(\"filter(value, x -> x = 'Número de serie (escáner)')\")) \\\n",
    ".withColumn(\"TipoElemento_value\", split(df_txodk02[\"value\"][expr(\"array_position(value, 'Número de serie (escáner)')\")], \",\"))"
   ]
  },
  {
   "cell_type": "markdown",
   "metadata": {},
   "source": [
    "#### Número de activo(manual)"
   ]
  },
  {
   "cell_type": "code",
   "execution_count": 25,
   "metadata": {},
   "outputs": [],
   "source": [
    "df_txodk03_groupEquipoElectronico_NA_MN = df_txodk02 \\\n",
    ".filter(split(df_txodk02.element_group,\"-\")[0] == \"groupEquipoElectronico\") \\\n",
    ".select(\"id_form\",\"clave_form\",\"element_group\",\"element\",\"value\") \\\n",
    ".withColumn(\"exist\", expr(\"exists(value, x -> x = 'Número de activo(manual)')\")) \\\n",
    ".withColumn(\"TipoElemento_key\", expr(\"filter(value, x -> x = 'Número de activo(manual)')\")) \\\n",
    ".withColumn(\"TipoElemento_value\", split(df_txodk02[\"value\"][expr(\"array_position(value, 'Número de activo(manual)')\")], \",\"))\n",
    "#.withColumn(\"TipoElemento_value\", expr(\"filter(value, x -> x != 'Número de activo(manual)')\"))"
   ]
  },
  {
   "cell_type": "markdown",
   "metadata": {},
   "source": [
    "#### Descripción u observaciones"
   ]
  },
  {
   "cell_type": "code",
   "execution_count": 26,
   "metadata": {},
   "outputs": [],
   "source": [
    "df_txodk03_groupEquipoElectronico_DES_OB = df_txodk02 \\\n",
    ".filter(split(df_txodk02.element_group,\"-\")[0] == \"groupEquipoElectronico\") \\\n",
    ".select(\"id_form\",\"clave_form\",\"element_group\",\"element\",\"value\") \\\n",
    ".withColumn(\"exist\", expr(\"exists(value, x -> x = 'Descripción u observaciones')\")) \\\n",
    ".withColumn(\"TipoElemento_key\", expr(\"filter(value, x -> x = 'Descripción u observaciones')\")) \\\n",
    ".withColumn(\"TipoElemento_value\", split(df_txodk02[\"value\"][expr(\"array_position(value, 'Descripción u observaciones')\")], \",\"))\n",
    "#.withColumn(\"TipoElemento_value\", expr(\"filter(value, x -> x != 'Número de activo(manual)')\"))"
   ]
  },
  {
   "cell_type": "markdown",
   "metadata": {},
   "source": [
    "---\n",
    "#### groupBatteryBank "
   ]
  },
  {
   "cell_type": "markdown",
   "metadata": {},
   "source": [
    "#### Descripción u observaciones "
   ]
  },
  {
   "cell_type": "code",
   "execution_count": 27,
   "metadata": {},
   "outputs": [],
   "source": [
    "df_txodk03_groupBatteryBank_DES_OB = df_txodk02 \\\n",
    ".filter(split(df_txodk02.element_group,\"-\")[0] == \"groupBatteryBank\") \\\n",
    ".select(\"id_form\",\"clave_form\",\"element_group\",\"element\",\"value\") \\\n",
    ".withColumn(\"exist\", expr(\"exists(value, x -> x = 'Descripción u observaciones')\")) \\\n",
    ".withColumn(\"TipoElemento_key\", expr(\"filter(value, x -> x = 'Descripción u observaciones')\")) \\\n",
    ".withColumn(\"TipoElemento_value\", split(df_txodk02[\"value\"][expr(\"array_position(value, 'Descripción u observaciones')\")], \",\"))\n",
    "#.withColumn(\"TipoElemento_value\", expr(\"filter(value, x -> x != 'Número de activo(manual)')\"))"
   ]
  },
  {
   "cell_type": "markdown",
   "metadata": {},
   "source": [
    "#### Número de serie (manual)"
   ]
  },
  {
   "cell_type": "code",
   "execution_count": 28,
   "metadata": {},
   "outputs": [],
   "source": [
    "df_txodk03_groupBatteryBank_NS_MN = df_txodk02 \\\n",
    ".filter(split(df_txodk02.element_group,\"-\")[0] == \"groupBatteryBank\") \\\n",
    ".select(\"id_form\",\"clave_form\",\"element_group\",\"element\",\"value\") \\\n",
    ".withColumn(\"exist\", expr(\"exists(value, x -> x = 'Número de serie (manual)')\")) \\\n",
    ".withColumn(\"TipoElemento_key\", expr(\"filter(value, x -> x = 'Número de serie (manual)')\")) \\\n",
    ".withColumn(\"TipoElemento_value\", expr(\"filter(value, x -> x != 'Número de serie (manual)')\"))"
   ]
  },
  {
   "cell_type": "markdown",
   "metadata": {},
   "source": [
    "#### Número de serie (escáner)"
   ]
  },
  {
   "cell_type": "code",
   "execution_count": 29,
   "metadata": {},
   "outputs": [],
   "source": [
    "df_txodk03_groupBatteryBank_NS_SC = df_txodk02 \\\n",
    ".filter(split(df_txodk02.element_group,\"-\")[0] == \"groupBatteryBank\") \\\n",
    ".select(\"id_form\",\"clave_form\",\"element_group\",\"element\",\"value\") \\\n",
    ".withColumn(\"exist\", expr(\"exists(value, x -> x = 'Número de serie (escáner)')\")) \\\n",
    ".withColumn(\"TipoElemento_key\", expr(\"filter(value, x -> x = 'Número de serie (escáner)')\")) \\\n",
    ".withColumn(\"TipoElemento_value\", expr(\"filter(value, x -> x != 'Número de serie (escáner)')\"))"
   ]
  },
  {
   "cell_type": "markdown",
   "metadata": {},
   "source": [
    "---\n",
    "#### groupBatteryBankVwGrp "
   ]
  },
  {
   "cell_type": "markdown",
   "metadata": {},
   "source": [
    "#### Vista de banco de baterías"
   ]
  },
  {
   "cell_type": "code",
   "execution_count": 30,
   "metadata": {},
   "outputs": [],
   "source": [
    "df_txodk03_groupBatteryBankVwGrp_V_B = df_txodk02 \\\n",
    ".filter(split(df_txodk02.element_group,\"-\")[0] == \"groupBatteryBankVwGrp\") \\\n",
    ".select(\"id_form\",\"clave_form\",\"element_group\",\"element\",\"value\") \\\n",
    ".withColumn(\"exist\", expr(\"exists(value, x -> x = 'Vista de banco de baterías')\")) \\\n",
    ".withColumn(\"TipoElemento_key\", expr(\"filter(value, x -> x = 'Vista de banco de baterías')\")) \\\n",
    ".withColumn(\"TipoElemento_value\", split(df_txodk02[\"value\"][expr(\"array_position(value, 'Vista de banco de baterías')\")], \",\"))"
   ]
  },
  {
   "cell_type": "markdown",
   "metadata": {},
   "source": [
    "---\n",
    "#### groupCabinetRack "
   ]
  },
  {
   "cell_type": "markdown",
   "metadata": {},
   "source": [
    "#### Número de serie (manual) "
   ]
  },
  {
   "cell_type": "code",
   "execution_count": 31,
   "metadata": {},
   "outputs": [],
   "source": [
    "df_txodk03_groupCabinetRack_NS_MN = df_txodk02 \\\n",
    ".filter(split(df_txodk02.element_group,\"-\")[0] == \"groupCabinetRack\") \\\n",
    ".select(\"id_form\",\"clave_form\",\"element_group\",\"element\",\"value\") \\\n",
    ".withColumn(\"exist\", expr(\"exists(value, x -> x = 'Número de serie (manual)')\")) \\\n",
    ".withColumn(\"TipoElemento_key\", expr(\"filter(value, x -> x = 'Número de serie (manual)')\")) \\\n",
    ".withColumn(\"TipoElemento_value\", expr(\"filter(value, x -> x != 'Número de serie (manual)')\"))\n",
    "#.withColumn(\"TipoElemento_value\", split(df_txodk02[\"value\"][expr(\"array_position(value, 'Número de serie (manual)')\")], \",\"))"
   ]
  },
  {
   "cell_type": "markdown",
   "metadata": {},
   "source": [
    "#### Número de serie (escáner)"
   ]
  },
  {
   "cell_type": "code",
   "execution_count": 32,
   "metadata": {},
   "outputs": [],
   "source": [
    "df_txodk03_groupCabinetRack_NS_SC = df_txodk02 \\\n",
    ".filter(split(df_txodk02.element_group,\"-\")[0] == \"groupCabinetRack\") \\\n",
    ".select(\"id_form\",\"clave_form\",\"element_group\",\"element\",\"value\") \\\n",
    ".withColumn(\"exist\", expr(\"exists(value, x -> x = 'Número de serie (escáner)')\")) \\\n",
    ".withColumn(\"TipoElemento_key\", expr(\"filter(value, x -> x = 'Número de serie (escáner)')\")) \\\n",
    ".withColumn(\"TipoElemento_value\", expr(\"filter(value, x -> x != 'Número de serie (escáner)')\"))"
   ]
  },
  {
   "cell_type": "markdown",
   "metadata": {},
   "source": [
    "#### Número de activo(escaner)"
   ]
  },
  {
   "cell_type": "code",
   "execution_count": 33,
   "metadata": {},
   "outputs": [],
   "source": [
    "df_txodk03_groupCabinetRack_NA_SC = df_txodk02 \\\n",
    ".filter(split(df_txodk02.element_group,\"-\")[0] == \"groupCabinetRack\") \\\n",
    ".select(\"id_form\",\"clave_form\",\"element_group\",\"element\",\"value\") \\\n",
    ".withColumn(\"exist\", expr(\"exists(value, x -> x = 'Número de activo(escaner)')\")) \\\n",
    ".withColumn(\"TipoElemento_key\", expr(\"filter(value, x -> x = 'Número de activo(escaner)')\")) \\\n",
    ".withColumn(\"TipoElemento_value\", expr(\"filter(value, x -> x != 'Número de activo(escaner)')\"))\n",
    "#.withColumn(\"TipoElemento_value\", split(df_txodk02[\"value\"][expr(\"array_position(value, 'Número de activo(escaner)')\")], \",\"))"
   ]
  },
  {
   "cell_type": "markdown",
   "metadata": {},
   "source": [
    "#### Número de activo(manual)"
   ]
  },
  {
   "cell_type": "code",
   "execution_count": 34,
   "metadata": {},
   "outputs": [],
   "source": [
    "df_txodk03_groupCabinetRack_NA_MN = df_txodk02 \\\n",
    ".filter(split(df_txodk02.element_group,\"-\")[0] == \"groupCabinetRack\") \\\n",
    ".select(\"id_form\",\"clave_form\",\"element_group\",\"element\",\"value\") \\\n",
    ".withColumn(\"exist\", expr(\"exists(value, x -> x = 'Número de activo(manual)')\")) \\\n",
    ".withColumn(\"TipoElemento_key\", expr(\"filter(value, x -> x = 'Número de activo(manual)')\")) \\\n",
    ".withColumn(\"TipoElemento_value\", split(df_txodk02[\"value\"][expr(\"array_position(value, 'Número de activo(manual)')\")], \",\"))"
   ]
  },
  {
   "cell_type": "markdown",
   "metadata": {},
   "source": [
    "#### Descripción u observaciones"
   ]
  },
  {
   "cell_type": "code",
   "execution_count": 35,
   "metadata": {},
   "outputs": [],
   "source": [
    "df_txodk03_groupCabinetRack_DES_OB = df_txodk02 \\\n",
    ".filter(split(df_txodk02.element_group,\"-\")[0] == \"groupCabinetRack\") \\\n",
    ".select(\"id_form\",\"clave_form\",\"element_group\",\"element\",\"value\") \\\n",
    ".withColumn(\"exist\", expr(\"exists(value, x -> x = 'Descripción u observaciones')\")) \\\n",
    ".withColumn(\"TipoElemento_key\", expr(\"filter(value, x -> x = 'Descripción u observaciones')\")) \\\n",
    ".withColumn(\"TipoElemento_value\", expr(\"filter(value, x -> x != 'Descripción u observaciones')\"))\n",
    "#.withColumn(\"TipoElemento_value\", split(df_txodk02[\"value\"][expr(\"array_position(value, 'Descripción u observaciones')\")], \",\"))"
   ]
  },
  {
   "cell_type": "markdown",
   "metadata": {},
   "source": [
    "#### Tipo de elemento"
   ]
  },
  {
   "cell_type": "code",
   "execution_count": 36,
   "metadata": {},
   "outputs": [],
   "source": [
    "df_txodk03_groupCabinetRack_TE = df_txodk02 \\\n",
    ".filter(split(df_txodk02.element_group,\"-\")[0] == \"groupCabinetRack\") \\\n",
    ".select(\"id_form\",\"clave_form\",\"element_group\",\"element\",\"value\") \\\n",
    ".withColumn(\"exist\", expr(\"exists(value, x -> x = 'Tipo de elemento)')\")) \\\n",
    ".withColumn(\"TipoElemento_key\", expr(\"filter(value, x -> x = 'Tipo de elemento')\")) \\\n",
    ".withColumn(\"TipoElemento_value\", split(df_txodk02[\"value\"][expr(\"array_position(value, 'Tipo de elemento')\")], \",\"))"
   ]
  },
  {
   "cell_type": "markdown",
   "metadata": {},
   "source": [
    "-----\n",
    "#### groupCabinetRackVwGrp "
   ]
  },
  {
   "cell_type": "markdown",
   "metadata": {},
   "source": [
    "#### Vista de gabinetes y racks"
   ]
  },
  {
   "cell_type": "code",
   "execution_count": 37,
   "metadata": {},
   "outputs": [],
   "source": [
    "df_txodk03_groupCabinetRackVwGrp_V_GyR = df_txodk02 \\\n",
    ".filter(split(df_txodk02.element_group,\"-\")[0] == \"groupCabinetRackVwGrp\") \\\n",
    ".select(\"id_form\",\"clave_form\",\"element_group\",\"element\",\"value\") \\\n",
    ".withColumn(\"exist\", expr(\"exists(value, x -> x = 'Vista de gabinetes y racks)')\")) \\\n",
    ".withColumn(\"TipoElemento_key\", expr(\"filter(value, x -> x = 'Vista de gabinetes y racks')\")) \\\n",
    ".withColumn(\"TipoElemento_value\", split(df_txodk02[\"value\"][expr(\"array_position(value, 'Vista de gabinetes y racks')\")], \",\"))"
   ]
  },
  {
   "cell_type": "markdown",
   "metadata": {},
   "source": [
    "-----\n",
    "#### groupEquipoElectronico "
   ]
  },
  {
   "cell_type": "markdown",
   "metadata": {},
   "source": [
    "#### Tipo de elemento"
   ]
  },
  {
   "cell_type": "code",
   "execution_count": 38,
   "metadata": {},
   "outputs": [],
   "source": [
    "df_txodk03_groupEquipoElectronico_TE = df_txodk02 \\\n",
    ".filter(split(df_txodk02.element_group,\"-\")[0] == \"groupEquipoElectronico\") \\\n",
    ".select(\"id_form\",\"clave_form\",\"element_group\",\"element\",\"value\") \\\n",
    ".withColumn(\"exist\", expr(\"exists(value, x -> x = 'Tipo de elemento')\")) \\\n",
    ".withColumn(\"TipoElemento_key\", expr(\"filter(value, x -> x = 'Tipo de elemento')\")) \\\n",
    ".withColumn(\"TipoElemento_value\", split(df_txodk02[\"value\"][expr(\"array_position(value, 'Tipo de elemento')\")], \",\"))"
   ]
  },
  {
   "cell_type": "markdown",
   "metadata": {},
   "source": [
    "#### Número de serie (manual)"
   ]
  },
  {
   "cell_type": "code",
   "execution_count": 39,
   "metadata": {},
   "outputs": [],
   "source": [
    "df_txodk03_groupEquipoElectronico_NS_MN = df_txodk02 \\\n",
    ".filter(split(df_txodk02.element_group,\"-\")[0] == \"groupEquipoElectronico\") \\\n",
    ".select(\"id_form\",\"clave_form\",\"element_group\",\"element\",\"value\") \\\n",
    ".withColumn(\"exist\", expr(\"exists(value, x -> x = 'Número de serie (manual)')\")) \\\n",
    ".withColumn(\"TipoElemento_key\", expr(\"filter(value, x -> x = 'Número de serie (manual)')\")) \\\n",
    ".withColumn(\"TipoElemento_value\", split(df_txodk02[\"value\"][expr(\"array_position(value, 'Número de serie (manual)')\")], \",\"))"
   ]
  },
  {
   "cell_type": "markdown",
   "metadata": {},
   "source": [
    "---\n",
    "### groupEquipoElectronicoVwGrp "
   ]
  },
  {
   "cell_type": "markdown",
   "metadata": {},
   "source": [
    "#### Equipos electrónicos"
   ]
  },
  {
   "cell_type": "code",
   "execution_count": 40,
   "metadata": {},
   "outputs": [],
   "source": [
    "df_txodk03_groupEquipoElectronicoVwGrp_EE = df_txodk02 \\\n",
    ".filter(split(df_txodk02.element_group,\"-\")[0] == \"groupEquipoElectronicoVwGrp\") \\\n",
    ".select(\"id_form\",\"clave_form\",\"element_group\",\"element\",\"value\") \\\n",
    ".withColumn(\"exist\", expr(\"exists(value, x -> x = 'Equipos electrónicos')\")) \\\n",
    ".withColumn(\"TipoElemento_key\", expr(\"filter(value, x -> x = 'Equipos electrónicos')\")) \\\n",
    ".withColumn(\"TipoElemento_value\", expr(\"filter(value, x -> x != 'Equipos electrónicos')\"))\n",
    "#.withColumn(\"TipoElemento_value\", split(df_txodk02[\"value\"][expr(\"array_position(value, 'Equipos electrónicos')\")], \",\"))"
   ]
  },
  {
   "cell_type": "markdown",
   "metadata": {},
   "source": [
    "---\n",
    "### groupMaterials"
   ]
  },
  {
   "cell_type": "markdown",
   "metadata": {},
   "source": [
    "#### Número de serie (manual)"
   ]
  },
  {
   "cell_type": "code",
   "execution_count": 41,
   "metadata": {},
   "outputs": [],
   "source": [
    "df_txodk03_groupMaterials_NS_MN = df_txodk02 \\\n",
    ".filter(split(df_txodk02.element_group,\"-\")[0] == \"groupMaterials\") \\\n",
    ".select(\"id_form\",\"clave_form\",\"element_group\",\"element\",\"value\") \\\n",
    ".withColumn(\"exist\", expr(\"exists(value, x -> x = 'Número de serie (manual)')\")) \\\n",
    ".withColumn(\"TipoElemento_key\", expr(\"filter(value, x -> x = 'Número de serie (manual)')\")) \\\n",
    ".withColumn(\"TipoElemento_value\", expr(\"filter(value, x -> x != 'Número de serie (manual)')\"))"
   ]
  },
  {
   "cell_type": "markdown",
   "metadata": {},
   "source": [
    "#### Número de serie (escáner)"
   ]
  },
  {
   "cell_type": "code",
   "execution_count": 42,
   "metadata": {},
   "outputs": [],
   "source": [
    "df_txodk03_groupMaterials_NS_SC = df_txodk02 \\\n",
    ".filter(split(df_txodk02.element_group,\"-\")[0] == \"groupMaterials\") \\\n",
    ".select(\"id_form\",\"clave_form\",\"element_group\",\"element\",\"value\") \\\n",
    ".withColumn(\"exist\", expr(\"exists(value, x -> x = 'Número de serie (escáner)')\")) \\\n",
    ".withColumn(\"TipoElemento_key\", expr(\"filter(value, x -> x = 'Número de serie (escáner)')\")) \\\n",
    ".withColumn(\"TipoElemento_value\", expr(\"filter(value, x -> x != 'Número de serie (escáner)')\"))"
   ]
  },
  {
   "cell_type": "markdown",
   "metadata": {},
   "source": [
    "#### Tipo de Material"
   ]
  },
  {
   "cell_type": "code",
   "execution_count": 43,
   "metadata": {},
   "outputs": [],
   "source": [
    "df_txodk03_groupMaterials_TM = df_txodk02 \\\n",
    ".filter(split(df_txodk02.element_group,\"-\")[0] == \"groupMaterials\") \\\n",
    ".select(\"id_form\",\"clave_form\",\"element_group\",\"element\",\"value\") \\\n",
    ".withColumn(\"exist\", expr(\"exists(value, x -> x = 'Tipo de Material')\")) \\\n",
    ".withColumn(\"TipoElemento_key\", expr(\"filter(value, x -> x = 'Tipo de Material')\")) \\\n",
    ".withColumn(\"TipoElemento_value\", split(df_txodk02[\"value\"][expr(\"array_position(value, 'Tipo de Material')\")], \",\"))"
   ]
  },
  {
   "cell_type": "markdown",
   "metadata": {},
   "source": [
    "#### Cantidad"
   ]
  },
  {
   "cell_type": "code",
   "execution_count": 44,
   "metadata": {},
   "outputs": [],
   "source": [
    "df_txodk03_groupMaterials_C = df_txodk02 \\\n",
    ".filter(split(df_txodk02.element_group,\"-\")[0] == \"groupMaterials\") \\\n",
    ".select(\"id_form\",\"clave_form\",\"element_group\",\"element\",\"value\") \\\n",
    ".withColumn(\"exist\", expr(\"exists(value, x -> x = 'Cantidad')\")) \\\n",
    ".withColumn(\"TipoElemento_key\", expr(\"filter(value, x -> x = 'v')\")) \\\n",
    ".withColumn(\"TipoElemento_value\", split(df_txodk02[\"value\"][expr(\"array_position(value, 'Cantidad')\")], \",\"))"
   ]
  },
  {
   "cell_type": "markdown",
   "metadata": {},
   "source": [
    "#### Descripción u observaciones"
   ]
  },
  {
   "cell_type": "code",
   "execution_count": 45,
   "metadata": {},
   "outputs": [],
   "source": [
    "df_txodk03_groupMaterials_DES_OB = df_txodk02 \\\n",
    ".filter(split(df_txodk02.element_group,\"-\")[0] == \"groupMaterials\") \\\n",
    ".select(\"id_form\",\"clave_form\",\"element_group\",\"element\",\"value\") \\\n",
    ".withColumn(\"exist\", expr(\"exists(value, x -> x = 'Descripción u observaciones')\")) \\\n",
    ".withColumn(\"TipoElemento_key\", expr(\"filter(value, x -> x = 'Descripción u observaciones')\")) \\\n",
    ".withColumn(\"TipoElemento_value\", split(df_txodk02[\"value\"][expr(\"array_position(value, 'Descripción u observaciones')\")], \",\"))"
   ]
  },
  {
   "cell_type": "markdown",
   "metadata": {},
   "source": [
    "-----\n",
    "#### groupMtlVwGrp "
   ]
  },
  {
   "cell_type": "markdown",
   "metadata": {},
   "source": [
    "#### Vista de materiales"
   ]
  },
  {
   "cell_type": "code",
   "execution_count": 46,
   "metadata": {},
   "outputs": [],
   "source": [
    "df_txodk03_groupMtlVwGrp_V_M = df_txodk02 \\\n",
    ".filter(split(df_txodk02.element_group,\"-\")[0] == \"groupMtlVwGrp\") \\\n",
    ".select(\"id_form\",\"clave_form\",\"element_group\",\"element\",\"value\") \\\n",
    ".withColumn(\"exist\", expr(\"exists(value, x -> x = 'Vista de materiales')\")) \\\n",
    ".withColumn(\"TipoElemento_key\", expr(\"filter(value, x -> x = 'Vista de materiales')\")) \\\n",
    ".withColumn(\"TipoElemento_value\", split(df_txodk02[\"value\"][expr(\"array_position(value, 'Vista de materiales')\")], \",\"))"
   ]
  },
  {
   "cell_type": "markdown",
   "metadata": {},
   "source": [
    "-----\n",
    "#### groupPwrPnt "
   ]
  },
  {
   "cell_type": "markdown",
   "metadata": {},
   "source": [
    "#### Número de serie (manual) "
   ]
  },
  {
   "cell_type": "code",
   "execution_count": 47,
   "metadata": {},
   "outputs": [],
   "source": [
    "df_txodk03_groupPwrPnt_NS_MN = df_txodk02 \\\n",
    ".filter(split(df_txodk02.element_group,\"-\")[0] == \"groupPwrPnt\") \\\n",
    ".select(\"id_form\",\"clave_form\",\"element_group\",\"element\",\"value\") \\\n",
    ".withColumn(\"exist\", expr(\"exists(value, x -> x = 'Número de serie (manual)')\")) \\\n",
    ".withColumn(\"TipoElemento_key\", expr(\"filter(value, x -> x = 'Número de serie (manual)')\")) \\\n",
    ".withColumn(\"TipoElemento_value\", expr(\"filter(value, x -> x != 'Número de serie (manual)')\"))\n",
    "#.withColumn(\"TipoElemento_value\", split(df_txodk02[\"value\"][expr(\"array_position(value, 'Número de serie (manual)')\")], \",\"))"
   ]
  },
  {
   "cell_type": "markdown",
   "metadata": {},
   "source": [
    "#### Número de serie (escáner) "
   ]
  },
  {
   "cell_type": "code",
   "execution_count": 48,
   "metadata": {},
   "outputs": [],
   "source": [
    "df_txodk03_groupPwrPnt_NS_SC = df_txodk02 \\\n",
    ".filter(split(df_txodk02.element_group,\"-\")[0] == \"groupPwrPnt\") \\\n",
    ".select(\"id_form\",\"clave_form\",\"element_group\",\"element\",\"value\") \\\n",
    ".withColumn(\"exist\", expr(\"exists(value, x -> x = 'Número de serie (escáner)')\")) \\\n",
    ".withColumn(\"TipoElemento_key\", expr(\"filter(value, x -> x = 'Número de serie (escáner)')\")) \\\n",
    ".withColumn(\"TipoElemento_value\", expr(\"filter(value, x -> x != 'Número de serie (escáner)')\"))"
   ]
  },
  {
   "cell_type": "markdown",
   "metadata": {},
   "source": [
    "#### Número de activo(escaner)"
   ]
  },
  {
   "cell_type": "code",
   "execution_count": 49,
   "metadata": {},
   "outputs": [],
   "source": [
    "df_txodk03_groupPwrPnt_NA_SC = df_txodk02 \\\n",
    ".filter(split(df_txodk02.element_group,\"-\")[0] == \"groupPwrPnt\") \\\n",
    ".select(\"id_form\",\"clave_form\",\"element_group\",\"element\",\"value\") \\\n",
    ".withColumn(\"exist\", expr(\"exists(value, x -> x = 'Número de activo(escaner)')\")) \\\n",
    ".withColumn(\"TipoElemento_key\", expr(\"filter(value, x -> x = 'Número de activo(escaner)')\")) \\\n",
    ".withColumn(\"TipoElemento_value\", split(df_txodk02[\"value\"][expr(\"array_position(value, 'Número de activo(escaner)')\")], \",\"))"
   ]
  },
  {
   "cell_type": "markdown",
   "metadata": {},
   "source": [
    "#### Número de activo(manual)"
   ]
  },
  {
   "cell_type": "code",
   "execution_count": 50,
   "metadata": {},
   "outputs": [],
   "source": [
    "df_txodk03_groupPwrPnt_NA_MN = df_txodk02 \\\n",
    ".filter(split(df_txodk02.element_group,\"-\")[0] == \"groupPwrPnt\") \\\n",
    ".select(\"id_form\",\"clave_form\",\"element_group\",\"element\",\"value\") \\\n",
    ".withColumn(\"exist\", expr(\"exists(value, x -> x = 'Número de activo(manual)')\")) \\\n",
    ".withColumn(\"TipoElemento_key\", expr(\"filter(value, x -> x = 'Número de activo(manual)')\")) \\\n",
    ".withColumn(\"TipoElemento_value\", split(df_txodk02[\"value\"][expr(\"array_position(value, 'Número de activo(manual)')\")], \",\"))"
   ]
  },
  {
   "cell_type": "markdown",
   "metadata": {},
   "source": [
    "#### Marca"
   ]
  },
  {
   "cell_type": "code",
   "execution_count": 51,
   "metadata": {},
   "outputs": [],
   "source": [
    "df_txodk03_groupPwrPnt_MA = df_txodk02 \\\n",
    ".filter(split(df_txodk02.element_group,\"-\")[0] == \"groupPwrPnt\") \\\n",
    ".select(\"id_form\",\"clave_form\",\"element_group\",\"element\",\"value\") \\\n",
    ".withColumn(\"exist\", expr(\"exists(value, x -> x = 'Marca')\")) \\\n",
    ".withColumn(\"TipoElemento_key\", expr(\"filter(value, x -> x = 'Marca')\")) \\\n",
    ".withColumn(\"TipoElemento_value\", split(df_txodk02[\"value\"][expr(\"array_position(value, 'Marca')\")], \",\"))"
   ]
  },
  {
   "cell_type": "markdown",
   "metadata": {},
   "source": [
    "#### Descripción u observaciones"
   ]
  },
  {
   "cell_type": "code",
   "execution_count": 52,
   "metadata": {},
   "outputs": [],
   "source": [
    "df_txodk03_groupPwrPnt_DES_OB = df_txodk02 \\\n",
    ".filter(split(df_txodk02.element_group,\"-\")[0] == \"groupPwrPnt\") \\\n",
    ".select(\"id_form\",\"clave_form\",\"element_group\",\"element\",\"value\") \\\n",
    ".withColumn(\"exist\", expr(\"exists(value, x -> x = 'Descripción u observaciones')\")) \\\n",
    ".withColumn(\"TipoElemento_key\", expr(\"filter(value, x -> x = 'Descripción u observaciones')\")) \\\n",
    ".withColumn(\"TipoElemento_value\", expr(\"filter(value, x -> x != 'Descripción u observaciones')\"))\n",
    "#.withColumn(\"TipoElemento_value\", split(df_txodk02[\"value\"][expr(\"array_position(value, 'Descripción u observaciones')\")], \",\"))"
   ]
  },
  {
   "cell_type": "markdown",
   "metadata": {},
   "source": [
    "---\n",
    "#### groupShelterVwGrp "
   ]
  },
  {
   "cell_type": "markdown",
   "metadata": {},
   "source": [
    "#### Vista de shelters"
   ]
  },
  {
   "cell_type": "code",
   "execution_count": 53,
   "metadata": {},
   "outputs": [],
   "source": [
    "df_txodk03_groupShelterVwGrp_V_SH = df_txodk02 \\\n",
    ".filter(split(df_txodk02.element_group,\"-\")[0] == \"groupShelterVwGrp\") \\\n",
    ".select(\"id_form\",\"clave_form\",\"element_group\",\"element\",\"value\") \\\n",
    ".withColumn(\"exist\", expr(\"exists(value, x -> x = 'Vista de shelters')\")) \\\n",
    ".withColumn(\"TipoElemento_key\", expr(\"filter(value, x -> x = 'Vista de shelters')\")) \\\n",
    ".withColumn(\"TipoElemento_value\", split(df_txodk02[\"value\"][expr(\"array_position(value, 'Vista de shelters')\")], \",\"))"
   ]
  },
  {
   "cell_type": "markdown",
   "metadata": {},
   "source": [
    "---\n",
    "#### groupSupportsVwGrp "
   ]
  },
  {
   "cell_type": "markdown",
   "metadata": {},
   "source": [
    "#### Vista de soportes"
   ]
  },
  {
   "cell_type": "code",
   "execution_count": 54,
   "metadata": {},
   "outputs": [],
   "source": [
    "df_txodk03_groupSupportsVwGrp_V_SOP = df_txodk02 \\\n",
    ".filter(split(df_txodk02.element_group,\"-\")[0] == \"groupSupportsVwGrp\") \\\n",
    ".select(\"id_form\",\"clave_form\",\"element_group\",\"element\",\"value\") \\\n",
    ".withColumn(\"exist\", expr(\"exists(value, x -> x = 'Vista de soportes')\")) \\\n",
    ".withColumn(\"TipoElemento_key\", expr(\"filter(value, x -> x = 'Vista de soportes')\")) \\\n",
    ".withColumn(\"TipoElemento_value\", split(df_txodk02[\"value\"][expr(\"array_position(value, 'Vista de soportes')\")], \",\"))"
   ]
  },
  {
   "cell_type": "markdown",
   "metadata": {},
   "source": [
    "---\n",
    "#### groupPedMovimiento "
   ]
  },
  {
   "cell_type": "markdown",
   "metadata": {},
   "source": [
    "#### QR "
   ]
  },
  {
   "cell_type": "code",
   "execution_count": 55,
   "metadata": {},
   "outputs": [],
   "source": [
    "df_txodk03_groupPedMovimiento_QR = df_txodk02 \\\n",
    ".filter(split(df_txodk02.element_group,\"-\")[0] == \"groupPedMovimiento\") \\\n",
    ".select(\"id_form\",\"clave_form\",\"element_group\",\"element\",\"value\") \\\n",
    ".withColumn(\"exist\", expr(\"exists(value, x -> x = 'Marca')\")) \\\n",
    ".withColumn(\"TipoElemento_key\", expr(\"filter(value, x -> x = 'Marca')\")) \\\n",
    ".withColumn(\"TipoElemento_value\", split(df_txodk02[\"value\"][expr(\"array_position(value, 'QR')\")], \",\"))"
   ]
  },
  {
   "cell_type": "markdown",
   "metadata": {},
   "source": [
    "#### Pedido de Movimiento "
   ]
  },
  {
   "cell_type": "code",
   "execution_count": 56,
   "metadata": {},
   "outputs": [],
   "source": [
    "df_txodk03_groupPedMovimiento_PM = df_txodk02 \\\n",
    ".filter(split(df_txodk02.element_group,\"-\")[0] == \"groupPedMovimiento\") \\\n",
    ".select(\"id_form\",\"clave_form\",\"element_group\",\"element\",\"value\") \\\n",
    ".withColumn(\"exist\", expr(\"exists(value, x -> x = 'Pedido de Movimiento')\")) \\\n",
    ".withColumn(\"TipoElemento_key\", expr(\"filter(value, x -> x = 'Pedido de Movimiento')\")) \\\n",
    ".withColumn(\"TipoElemento_value\", split(df_txodk02[\"value\"][expr(\"array_position(value, 'Pedido de Movimiento')\")], \",\"))"
   ]
  },
  {
   "cell_type": "markdown",
   "metadata": {},
   "source": [
    "#### Vendor destino "
   ]
  },
  {
   "cell_type": "code",
   "execution_count": 57,
   "metadata": {},
   "outputs": [],
   "source": [
    "df_txodk03_groupPedMovimiento_VD = df_txodk02 \\\n",
    ".filter(split(df_txodk02.element_group,\"-\")[0] == \"groupPedMovimiento\") \\\n",
    ".select(\"id_form\",\"clave_form\",\"element_group\",\"element\",\"value\") \\\n",
    ".withColumn(\"exist\", expr(\"exists(value, x -> x = 'Vendor destino')\")) \\\n",
    ".withColumn(\"TipoElemento_key\", expr(\"filter(value, x -> x = 'Vendor destino')\")) \\\n",
    ".withColumn(\"TipoElemento_value\", split(df_txodk02[\"value\"][expr(\"array_position(value, 'Vendor destino')\")], \",\"))"
   ]
  },
  {
   "cell_type": "markdown",
   "metadata": {},
   "source": [
    "#### Código de sitio destino"
   ]
  },
  {
   "cell_type": "code",
   "execution_count": 58,
   "metadata": {},
   "outputs": [],
   "source": [
    "df_txodk03_groupPedMovimiento_CSD = df_txodk02 \\\n",
    ".filter(split(df_txodk02.element_group,\"-\")[0] == \"groupPedMovimiento\") \\\n",
    ".select(\"id_form\",\"clave_form\",\"element_group\",\"element\",\"value\") \\\n",
    ".withColumn(\"exist\", expr(\"exists(value, x -> x = 'Codigo de sitio destino.')\")) \\\n",
    ".withColumn(\"TipoElemento_key\", expr(\"filter(value, x -> x = 'Codigo de sitio destino.')\")) \\\n",
    ".withColumn(\"TipoElemento_value\", split(df_txodk02[\"value\"][expr(\"array_position(value, 'Codigo de sitio destino.')\")], \",\"))"
   ]
  },
  {
   "cell_type": "markdown",
   "metadata": {},
   "source": [
    "---\n",
    "#### groupSupports"
   ]
  },
  {
   "cell_type": "markdown",
   "metadata": {},
   "source": [
    "#### Descripción u observaciones"
   ]
  },
  {
   "cell_type": "code",
   "execution_count": 59,
   "metadata": {},
   "outputs": [],
   "source": [
    "df_groupSupports_DES_OB = df_txodk02 \\\n",
    ".filter(split(df_txodk02.element_group,\"-\")[0] == \"groupSupports\") \\\n",
    ".select(\"id_form\",\"clave_form\",\"element_group\",\"element\",\"value\") \\\n",
    ".withColumn(\"exist\", expr(\"exists(value, x -> x = 'Descripción u observaciones')\")) \\\n",
    ".withColumn(\"TipoElemento_key\", expr(\"filter(value, x -> x = 'Descripción u observaciones')\")) \\\n",
    ".withColumn(\"TipoElemento_value\", split(df_txodk02[\"value\"][expr(\"array_position(value, 'Descripción u observaciones')\")], \",\"))"
   ]
  },
  {
   "cell_type": "markdown",
   "metadata": {},
   "source": [
    "---\n",
    "#### groupTowers "
   ]
  },
  {
   "cell_type": "markdown",
   "metadata": {},
   "source": [
    "#### Descripción u observaciones"
   ]
  },
  {
   "cell_type": "code",
   "execution_count": 60,
   "metadata": {},
   "outputs": [],
   "source": [
    "df_groupTowers_DES_OB = df_txodk02 \\\n",
    ".filter(split(df_txodk02.element_group,\"-\")[0] == \"groupTowers\") \\\n",
    ".select(\"id_form\",\"clave_form\",\"element_group\",\"element\",\"value\") \\\n",
    ".withColumn(\"exist\", expr(\"exists(value, x -> x = 'Descripción u observaciones')\")) \\\n",
    ".withColumn(\"TipoElemento_key\", expr(\"filter(value, x -> x = 'Descripción u observaciones')\")) \\\n",
    ".withColumn(\"TipoElemento_value\", split(df_txodk02[\"value\"][expr(\"array_position(value, 'Descripción u observaciones')\")], \",\"))"
   ]
  },
  {
   "cell_type": "markdown",
   "metadata": {},
   "source": [
    "---\n",
    "#### groupTransfers "
   ]
  },
  {
   "cell_type": "markdown",
   "metadata": {},
   "source": [
    "#### Descripción u observaciones"
   ]
  },
  {
   "cell_type": "code",
   "execution_count": 61,
   "metadata": {},
   "outputs": [],
   "source": [
    "df_groupTransfers_DES_OB = df_txodk02 \\\n",
    ".filter(split(df_txodk02.element_group,\"-\")[0] == \"groupTransfers\") \\\n",
    ".select(\"id_form\",\"clave_form\",\"element_group\",\"element\",\"value\") \\\n",
    ".withColumn(\"exist\", expr(\"exists(value, x -> x = 'Descripción u observaciones')\")) \\\n",
    ".withColumn(\"TipoElemento_key\", expr(\"filter(value, x -> x = 'Descripción u observaciones')\")) \\\n",
    ".withColumn(\"TipoElemento_value\", split(df_txodk02[\"value\"][expr(\"array_position(value, 'Descripción u observaciones')\")], \",\"))"
   ]
  },
  {
   "cell_type": "markdown",
   "metadata": {},
   "source": [
    "## TERMINA Sección definición de reglas de parseo de variables"
   ]
  },
  {
   "cell_type": "code",
   "execution_count": 62,
   "metadata": {},
   "outputs": [],
   "source": [
    "# import modules\n",
    "from functools import reduce\n",
    "from pyspark.sql import DataFrame\n",
    "# create list of dataframes\n",
    "dfs = [df_txodk03_root_TS_F, \\\n",
    "       df_txodk03_root_F_E, \\\n",
    "       df_txodk03_root_PRO, \\\n",
    "       df_txodk03_root_CD_S, \\\n",
    "       df_txodk03_root_V, \\\n",
    "       df_txodk03_groupAntennaRRU_MA, \\\n",
    "       df_txodk03_groupAntennaRRU_MO, \\\n",
    "       df_txodk03_groupAntennaRRU_NS_MN, \\\n",
    "       df_txodk03_groupAntennaRRU_NS_SC, \\\n",
    "       df_txodk03_groupAntennaRRU_NA, \\\n",
    "       df_txodk03_groupAntennaRRU_NA_MN, \\\n",
    "       df_txodk03_groupAntennaRRU_TE, \\\n",
    "       df_txodk03_groupEquipoElectronico_MA, \\\n",
    "       df_txodk03_groupEquipoElectronico_MO, \\\n",
    "       df_txodk03_groupEquipoElectronico_NS_SC, \\\n",
    "       df_txodk03_groupEquipoElectronico_NA_MN, \\\n",
    "       df_txodk03_groupEquipoElectronico_DES_OB, \\\n",
    "       df_txodk03_groupBatteryBank_DES_OB, \\\n",
    "       df_txodk03_groupBatteryBank_NS_MN, \\\n",
    "       df_txodk03_groupBatteryBank_NS_SC, \\\n",
    "       df_txodk03_groupBatteryBankVwGrp_V_B, \\\n",
    "       df_txodk03_groupCabinetRack_NS_MN, \\\n",
    "       df_txodk03_groupCabinetRack_NS_SC, \\\n",
    "       df_txodk03_groupCabinetRack_NA_SC, \\\n",
    "       df_txodk03_groupCabinetRack_NA_MN, \\\n",
    "       df_txodk03_groupCabinetRack_DES_OB, \\\n",
    "       df_txodk03_groupCabinetRack_TE, \\\n",
    "       df_txodk03_groupCabinetRackVwGrp_V_GyR, \\\n",
    "       df_txodk03_groupEquipoElectronico_TE, \\\n",
    "       df_txodk03_groupEquipoElectronico_NS_MN, \\\n",
    "       df_txodk03_groupEquipoElectronicoVwGrp_EE, \\\n",
    "       df_txodk03_groupMaterials_NS_MN, \\\n",
    "       df_txodk03_groupMaterials_NS_SC, \\\n",
    "       df_txodk03_groupMaterials_TM, \\\n",
    "       df_txodk03_groupMaterials_C, \\\n",
    "       df_txodk03_groupMaterials_DES_OB, \\\n",
    "       df_txodk03_groupPwrPnt_NS_MN, \\\n",
    "       df_txodk03_groupPwrPnt_NS_SC, \\\n",
    "       df_txodk03_groupPwrPnt_NA_SC, \\\n",
    "       df_txodk03_groupPwrPnt_NA_MN, \\\n",
    "       df_txodk03_groupPwrPnt_MA, \\\n",
    "       df_txodk03_groupPwrPnt_DES_OB, \\\n",
    "       df_txodk03_groupShelterVwGrp_V_SH, \\\n",
    "       df_groupSupports_DES_OB, \\\n",
    "       df_txodk03_groupSupportsVwGrp_V_SOP, \\\n",
    "       df_txodk03_groupMtlVwGrp_V_M, \\\n",
    "       df_groupTowers_DES_OB, \\\n",
    "       df_groupTransfers_DES_OB, \\\n",
    "       df_txodk03_groupPedMovimiento_QR, \\\n",
    "       df_txodk03_groupPedMovimiento_PM, \\\n",
    "       df_txodk03_groupPedMovimiento_VD, \\\n",
    "       df_txodk03_groupPedMovimiento_CSD\n",
    "      ]\n",
    "\n",
    "# create merged dataframe\n",
    "df_txodk04 = reduce(DataFrame.unionAll, dfs)"
   ]
  },
  {
   "cell_type": "code",
   "execution_count": 63,
   "metadata": {},
   "outputs": [],
   "source": [
    "df_txodk05 = df_txodk04.select(\"id_form\",\"clave_form\",\"element_group\",\"element\",\"exist\",df_txodk04[\"TipoElemento_key\"].alias(\"TipoElemento_key\"),\"TipoElemento_value\")"
   ]
  },
  {
   "cell_type": "code",
   "execution_count": 64,
   "metadata": {},
   "outputs": [],
   "source": [
    "#df_txodk05.filter(df_txodk05['exist'] == \"true\").show(50,truncate = False)"
   ]
  },
  {
   "cell_type": "code",
   "execution_count": 65,
   "metadata": {},
   "outputs": [],
   "source": [
    "df = df_txodk05.withColumn(\"new\", F.arrays_zip(\"TipoElemento_key\", \"TipoElemento_value\"))\\\n",
    "       .withColumn(\"new\", F.explode(\"new\"))\\\n",
    "       .select(\"id_form\",\"clave_form\",\"element_group\", \"element\",\"exist\", F.col(\"new.TipoElemento_key\").alias(\"TipoElemento_key\"), F.col(\"new.TipoElemento_value\").alias(\"TipoElemento_value\"))"
   ]
  },
  {
   "cell_type": "code",
   "execution_count": 67,
   "metadata": {},
   "outputs": [],
   "source": [
    "dfW = df.filter(df['exist'] == \"true\")"
   ]
  },
  {
   "cell_type": "markdown",
   "metadata": {},
   "source": [
    "## Persistiendo los valores en dos formatos:\n",
    "\n",
    "- `df_txodk05`, formato basado en columns `plano`\n",
    "- `df`, formato basado en rows `tabular`"
   ]
  },
  {
   "cell_type": "code",
   "execution_count": 68,
   "metadata": {},
   "outputs": [],
   "source": [
    "#df_txodk05.write.format(\"parquet\").mode(\"Overwrite\").saveAsTable(\"default.tx_stg_06_plano_odk_<numero>\")"
   ]
  },
  {
   "cell_type": "code",
   "execution_count": 69,
   "metadata": {},
   "outputs": [],
   "source": [
    "dfW.write.format(\"parquet\").mode(\"Overwrite\").saveAsTable(\"default.tx_stg_06_tabular_odk_38\")"
   ]
  },
  {
   "cell_type": "code",
   "execution_count": null,
   "metadata": {},
   "outputs": [],
   "source": [
    "sc.stop()"
   ]
  }
 ],
 "metadata": {
  "kernelspec": {
   "display_name": "Python 2",
   "language": "python",
   "name": "python2"
  },
  "language_info": {
   "codemirror_mode": {
    "name": "ipython",
    "version": 2
   },
   "file_extension": ".py",
   "mimetype": "text/x-python",
   "name": "python",
   "nbconvert_exporter": "python",
   "pygments_lexer": "ipython2",
   "version": "2.7.15"
  }
 },
 "nbformat": 4,
 "nbformat_minor": 2
}
