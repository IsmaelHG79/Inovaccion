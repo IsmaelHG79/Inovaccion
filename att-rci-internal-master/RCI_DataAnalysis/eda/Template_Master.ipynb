{
 "cells": [
  {
   "cell_type": "markdown",
   "metadata": {},
   "source": [
    "<div style=\"width: 100%; clear: both; font-family: Verdana;\">\n",
    "<div style=\"float: left; width: 50%;font-family: Verdana;\">\n",
    "<img src=\"https://github.com/Eligoze/att-rci-internal/blob/qa/RCI_DataAnalysis/eda/doc/att-logo1.png\" align=\"left\">\n",
    "</div>\n",
    "<div style=\"float: right; width: 200%;\">\n",
    "<p style=\"margin: 0; padding-top: 20px; text-align:right;color:rgb(193, 38, 184)\"><strong>Axity - AT&T.\n",
    "    Ciclo de vida de elementos de inventario</strong></p>\n",
    "</div>\n",
    "</div>\n",
    "<div style=\"width:100%;\">&nbsp;</div>"
   ]
  },
  {
   "cell_type": "markdown",
   "metadata": {},
   "source": [
    "# Exploratory Data Analysis\n",
    "## Ciclo de vida de elementos de inventario.\n",
    "### Axity - AT&T."
   ]
  },
  {
   "cell_type": "markdown",
   "metadata": {},
   "source": [
    "## Descripción\n",
    "Analizaremos los datos de las fuentes de inventarios de AT&T con un tratamiento estadístico descriptivo para hacer el tracking del ciclo de vida de los elementos de red. Se creará un EDA enfocado a la salida de almacén. Serán documentados los catálogos propuestos junto a su respectivo tratamiento de datos. La fuente que corresponde a este análisis es:\n",
    "\n",
    "* **NOMBRE DE SOURCE**\n",
    "\n",
    "Primero cargamos las librerías necesarias."
   ]
  },
  {
   "cell_type": "markdown",
   "metadata": {},
   "source": [
    "#### Conectando al Datalake"
   ]
  },
  {
   "cell_type": "code",
   "execution_count": null,
   "metadata": {},
   "outputs": [],
   "source": [
    "import os\n",
    "os.environ['JAVA_HOME'] = '/usr/java/jdk1.8.0_162'\n",
    "os.environ['SPARK_HOME'] = '/opt/cloudera/parcels/CDH-6.2.0-1.cdh6.2.0.p0.967373/lib/spark'\n",
    "import findspark\n",
    "findspark.init()\n",
    "from pyspark import SparkContext, SparkConf\n",
    "from pyspark.sql import SparkSession\n",
    "from pyspark.sql.types import *\n",
    "from pyspark.sql import HiveContext"
   ]
  },
  {
   "cell_type": "code",
   "execution_count": null,
   "metadata": {},
   "outputs": [],
   "source": [
    "conf = SparkConf().setAppName('Segregacion')  \\\n",
    "    .setMaster('yarn') \n",
    "spark = SparkSession.builder.config(conf=conf).getOrCreate()\n",
    "sc = spark.sparkContext\n",
    "sqlContext = HiveContext(sc)"
   ]
  },
  {
   "cell_type": "code",
   "execution_count": null,
   "metadata": {},
   "outputs": [],
   "source": [
    "import pandas as pd\n",
    "import numpy as np\n",
    "import matplotlib.pyplot as plt\n",
    "from PIL import Image\n",
    "import pandasql\n",
    "%matplotlib inline\n",
    "\n",
    "from bokeh.io import show, output_notebook \n",
    "from bokeh.plotting import figure\n",
    "from bokeh.models import ColumnDataSource\n",
    "from bokeh.palettes import Category20_11, Category20c_20\n",
    "output_notebook()"
   ]
  },
  {
   "cell_type": "markdown",
   "metadata": {},
   "source": [
    "### Recolección de los datos: "
   ]
  },
  {
   "cell_type": "code",
   "execution_count": null,
   "metadata": {},
   "outputs": [],
   "source": [
    "#EN CASO DE REQUERIR HACER PARTICIONES SE HACE MANUAL:\n",
    "\n",
    "#df_01=spark.sql(\"SELECT * FROM tx_\").toPandas()\n",
    "#df_02=spark.sql(\"SELECT * FROM tx_\").toPandas()\n",
    "#frames=[df_01,df_02]\n",
    "#df=pd.concat(frames,ignore_index=True)"
   ]
  },
  {
   "cell_type": "code",
   "execution_count": null,
   "metadata": {},
   "outputs": [],
   "source": [
    "df=spark.sql(\"SELECT * FROM tx_\").toPandas()"
   ]
  },
  {
   "cell_type": "markdown",
   "metadata": {},
   "source": [
    "Hemos recolectado los campos a analizar de la fuente NOMBRE_SOURCE."
   ]
  },
  {
   "cell_type": "markdown",
   "metadata": {},
   "source": [
    "## NOMBRE DE LA PARTE DEL CICLO DE VIDA\n",
    "Una muestra de la fuente SOURCE"
   ]
  },
  {
   "cell_type": "code",
   "execution_count": null,
   "metadata": {},
   "outputs": [],
   "source": [
    "df.head(5)"
   ]
  },
  {
   "cell_type": "markdown",
   "metadata": {},
   "source": [
    "### Diccionario de datos.\n",
    "A continuación se enlistan los campos de la fuente con una breve descripción de negocio.  \n",
    "\n",
    "* **campo**: Definición del negocio.\n",
    "* **campo**: Definición del negocio.\n",
    "* **filedate**: Fecha de carga del archivo.\n",
    "* **filename**: Nombre del archivo cargado.\n",
    "* **hash_id**: Identificador único Hash.\n",
    "* **source_id**: Fuente de archivo.\n",
    "* **registry_state**: Timestamp de carga.\n",
    "* **datasetname**: Nombre del ....\n",
    "* **timestamp**: Fecha de carga.\n",
    "* **transaction_status**: Estatus de carga.\n",
    "* **year**: Año del archivo.\n",
    "* **month**: Mes del archivo.\n",
    "* **day**: Día del archivo."
   ]
  },
  {
   "cell_type": "markdown",
   "metadata": {},
   "source": [
    "### 2. Descripción de las fuentes.\n",
    "En este apartado se hará una descripción a detalle de las fuentes para una mejor comprensión de los datos. Por cada fuente se mostrarán los tipos de datos, tamaño de la fuente, es decir, su dimensionalidad y una estadística descriptiva, en ese orden."
   ]
  },
  {
   "cell_type": "code",
   "execution_count": null,
   "metadata": {},
   "outputs": [],
   "source": [
    "campos=df.columns\n",
    "print('Columnas de la fuente SOURCE son: ',list(campos))\n",
    "pd.DataFrame(df.dtypes,columns=['Tipo de objeto SOURCE'])"
   ]
  },
  {
   "cell_type": "code",
   "execution_count": null,
   "metadata": {},
   "outputs": [],
   "source": [
    "print('renglones = ',df.shape[0],' columnas = ',df.shape[1])"
   ]
  },
  {
   "cell_type": "code",
   "execution_count": null,
   "metadata": {},
   "outputs": [],
   "source": [
    "#Pasamos las columnas que queremos ver en nuestro describe:\n",
    "NOrelevantes=['filedate', 'filename', 'hash_id', 'sourceid',\n",
    "              'registry_state', 'datasetname', 'timestamp',\n",
    "              'transaction_status', 'year', 'month', 'day']\n",
    "relevantes=[v for v if v not in NOrelevantes]\n",
    "\n",
    "df[relevantes].describe(include='all')"
   ]
  },
  {
   "cell_type": "markdown",
   "metadata": {},
   "source": [
    "#### Haremos anotaciones sobre lo que se puede observar de la tabla describe:"
   ]
  },
  {
   "cell_type": "markdown",
   "metadata": {},
   "source": [
    "* NOTAS OBSERVABLES DEL DESCRIBE, SEAN POSIBLES CATÁLOGOS,CAMPOS ÚNICOS, NULOS O CAMPOS SUCIOS (CUALQUIER COSA OBSRVABLE DE INTERÉS)\n",
    "* NOTAS OBSERVABLES DEL DESCRIBE, SEAN POSIBLES CATÁLOGOS,CAMPOS ÚNICOS, NULOS O CAMPOS SUCIOS (CUALQUIER COSA OBSRVABLE DE INTERÉS)\n",
    "* NOTAS OBSERVABLES DEL DESCRIBE, SEAN POSIBLES CATÁLOGOS,CAMPOS ÚNICOS, NULOS O CAMPOS SUCIOS (CUALQUIER COSA OBSRVABLE DE INTERÉS)\n",
    "* NOTAS OBSERVABLES DEL DESCRIBE, SEAN POSIBLES CATÁLOGOS,CAMPOS ÚNICOS, NULOS O CAMPOS SUCIOS (CUALQUIER COSA OBSRVABLE DE INTERÉS)"
   ]
  },
  {
   "cell_type": "markdown",
   "metadata": {},
   "source": [
    "#### Se proponen catálogos derivados de la fuente SOURCE con los siguientes campos:\n",
    "    \n",
    "* **CAMPO**: DESCRIPCIÓN NEGOCIO.\n",
    "* **CAMPO**: DESCRIPCIÓN NEGOCIO.  \n",
    "\n",
    "Estos catálogos nos ayudarán a mapear todos los diferentes proyectos que existen en los cuales hay un activo.\n"
   ]
  },
  {
   "cell_type": "markdown",
   "metadata": {},
   "source": [
    "### 3. Exploración de los datos.\n",
    "De acuerdo al análisis anterior, procedemos a hacer una exploración de los datos con gráficas, de manera particular nos enfocaremos en los catálogos."
   ]
  },
  {
   "cell_type": "markdown",
   "metadata": {},
   "source": [
    "#### Para empezar, se hará una limpieza general a los datos:"
   ]
  },
  {
   "cell_type": "code",
   "execution_count": null,
   "metadata": {},
   "outputs": [],
   "source": [
    "df.replace('null',np.NaN,inplace=True)\n",
    "df.replace('NA',np.NaN,inplace=True)\n",
    "#Se puede hacer más y por columna en caso de ser necesario"
   ]
  },
  {
   "cell_type": "markdown",
   "metadata": {},
   "source": [
    "### Primer catálogo: *CAMPO*"
   ]
  },
  {
   "cell_type": "markdown",
   "metadata": {},
   "source": [
    "Empezaremos con el catálogo de CAMPO. BREVE DESCRIPCIÓN DE EL PROCESO QUE SE REALIZARÁ. Este catálogo será llamado después en el apartado de catálogos. Nuestra intención por el momento es simplemente explorar los datos."
   ]
  },
  {
   "cell_type": "code",
   "execution_count": null,
   "metadata": {},
   "outputs": [],
   "source": [
    "#Revisamos frecuencias:\n",
    "CAMPO=pd.DataFrame(df.CAMPO.value_counts())\n",
    "\n",
    "#Visualización:\n",
    "fig=plt.figure()\n",
    "ax0=fig.add_subplot(1,2,1)\n",
    "ax1=fig.add_subplot(1,2,2)\n",
    "\n",
    "#Subplot1: Bar chart\n",
    "CAMPO.plot(kind='bar',figsize=(10,6),colormap='rainbow_r',ax=ax0)\n",
    "ax0.set_xlabel(u'NOMBRE CAMPO')\n",
    "ax0.set_ylabel('Frecuencia')\n",
    "ax0.set_title(u'NOMBRE DEL CHART')\n",
    "\n",
    "#Subplot2: Pie chart\n",
    "#La lista explode debe ser ajustada manualmente contra el número de elementos del catálogo\n",
    "explode_list=[.2,0,0,0,0,0.1,0.15,0,0,0,0,0,0,0,0,0,0,0,0,0,0,0,0,0] #Cada entrada corresponde a un registro del catálogo\n",
    "\n",
    "color_list=['royalblue','lightcoral','springgreen','powderblue','oldlace','palegoldenrod',\n",
    "            'peachpuff','rebeccapurple','tomato','slateblue','silver','mediumaquamarine',\n",
    "            'mediumblue','mediumorchid','turquoise','powderblue','oldlace','palegoldenrod',\n",
    "            'peachpuff','rebeccapurple','tomato','slateblue','powderblue']\n",
    "\n",
    "CAMPO['CAMPO'].plot(kind='pie',         \n",
    "                    figsize=(15,8),\n",
    "                    autopct='%1.1f%%',\n",
    "                    startangle=90,\n",
    "                    shadow=True,\n",
    "                    labels=None,\n",
    "                    pctdistance=1.14,\n",
    "                    colors=color_list,\n",
    "                               ax=ax1,\n",
    "                    explode=explode_list)\n",
    "ax1.set_title(u'NOMBRE DEL CHART',y=1.12)\n",
    "ax1.axis('equal')\n",
    "ax1.legend(labels=areas.index,loc='upper left')\n",
    "\n",
    "plt.show()"
   ]
  },
  {
   "cell_type": "markdown",
   "metadata": {},
   "source": [
    "Podemos observar en primer lugar, que se necesitan reglas de limpieza, existen outliers que al parecer son datos sucios.\n",
    "Se llamará al catálogo limpio en el apartado de catálogos."
   ]
  },
  {
   "cell_type": "markdown",
   "metadata": {},
   "source": [
    "#### Visualización de los datos de trazabilidad: "
   ]
  },
  {
   "cell_type": "code",
   "execution_count": null,
   "metadata": {},
   "outputs": [],
   "source": [
    "pd.DataFrame(df.serie.value_counts()[:15])"
   ]
  },
  {
   "cell_type": "code",
   "execution_count": null,
   "metadata": {},
   "outputs": [],
   "source": [
    "pd.DataFrame(df.activo.value_counts()[:15])"
   ]
  },
  {
   "cell_type": "markdown",
   "metadata": {},
   "source": [
    "#### Es de interés haber observado los datos que se usaran para la trazabilidad, NOTAS OBSERVABLES. \n",
    "Podemos utilizar los siguientes queries como ejemplos para visualizar en HUE:\n",
    "* Activo: `QUERY PARA CORROBORAR EN HUE` \n",
    "* Serie: `QUERY PARA CORROBORAR EN HUE`"
   ]
  },
  {
   "cell_type": "markdown",
   "metadata": {},
   "source": [
    "<div style=\"width: 100%; clear: both; font-family: Verdana;\">\n",
    "<h2>4. Calidad de los datos</h2>\n",
    "    <p> Se documentará la calidad de los datos y analizará las variables que necesitan tratamiento con la ayuda de visualizaciones y tablas.\n",
    "    </p>\n",
    "</div>"
   ]
  },
  {
   "cell_type": "markdown",
   "metadata": {},
   "source": [
    "<div style=\"width: 100%; clear: both; font-family: Verdana;\">\n",
    "<h4>Missings Values</h4>\n",
    "    <p>Los missings values son los valores faltantes en el conjunto de datos que se refieren a aquellos campos que están vacíos o no tienen valores asignados, estos generalmente ocurren debido a errores de entrada de datos, fallas que ocurren con los procesos de recopilación de datos y, a menudo, al unir varias columnas de diferentes tablas encontramos una condición que conduce a valores faltantes. Existen numerosas formas de tratar los valores perdidos, los más fáciles son reemplazar el valor perdido con la media, la mediana, la moda o un valor constante (llegamos a un valor basado en el conocimiento del dominio) y otra alternativa es eliminar la entrada desde el conjunto de datos en sí.\n",
    "    </p>\n",
    "</div>"
   ]
  },
  {
   "cell_type": "markdown",
   "metadata": {},
   "source": [
    "<div style=\"width: 100%; clear: both; font-family: Verdana;\">\n",
    "    <p> Calculamos el porcentaje de NA's que tiene la fuente por columna y el porcentaje de los missings.\n",
    "        </p>\n",
    "</div>"
   ]
  },
  {
   "cell_type": "code",
   "execution_count": null,
   "metadata": {},
   "outputs": [],
   "source": [
    "nas=df[relevantes].isna().sum()\n",
    "porcentaje_nas=nas/df[relevantes].isna().count()\n",
    "\n",
    "columnas=list(porcentaje_nas.keys())\n",
    "counts_nas=list(porcentaje_nas.values)\n",
    "\n",
    "#Para el siguiente comando, en el parámetro \"color\":\n",
    "#Dependiendo el número de columnas se escoge un pallete, este debe ser cargado en la sección de librerías,\n",
    "#Sólo se añade a la parte from bokeh.palettes import Category20c_20  colocando una \",\"\n",
    "#http://docs.bokeh.org/en/1.3.2/docs/reference/palettes.html\n",
    "#Se recomienda no poner más de 20 columnas. \n",
    "source=ColumnDataSource(dict(columnas=columnas, counts_nas=counts_nas, color=Category20c_20))\n",
    "\n",
    "p=figure(x_range=columnas, plot_height=300, plot_width=850, y_range=(0,1), title='Porcentaje de nas por columna')\n",
    "p.vbar(x='columnas',top='counts_nas',width=.7, color='color', legend='columnas', source=source)\n",
    "\n",
    "p.xgrid.grid_line_color = None\n",
    "p.legend.orientation = \"horizontal\"\n",
    "p.legend.location = \"top_center\"\n",
    "\n",
    "show(p)\n",
    "pd.DataFrame(porcentaje_wlog_nas*100,columns=['Porcentaje de NAs'])"
   ]
  },
  {
   "cell_type": "markdown",
   "metadata": {},
   "source": [
    "#### Visualización de datos NOT NULL: "
   ]
  },
  {
   "cell_type": "code",
   "execution_count": null,
   "metadata": {},
   "outputs": [],
   "source": [
    "notmiss=(1-porcentaje_nas)*100\n",
    "\n",
    "columnas=list(notmiss.keys())\n",
    "counts_nas=list(notmiss.values)\n",
    "\n",
    "#Mismo aplica aquí para color\n",
    "source=ColumnDataSource(dict(columnas=columnas, counts_nas=counts_nas, color=Category20c_20))\n",
    "\n",
    "p=figure(x_range=columnas, plot_height=300, plot_width=850, y_range=(0,100), \n",
    "         title='Porcentaje de not-nulls por columna')\n",
    "p.vbar(x='columnas',top='counts_nas',width=.5, color='color', legend='columnas', source=source)\n",
    "\n",
    "p.xgrid.grid_line_color = None\n",
    "p.legend.orientation = \"horizontal\"\n",
    "p.legend.location = \"top_center\"\n",
    "\n",
    "show(p)\n",
    "\n",
    "pd.DataFrame(notmiss,columns=['Porcentaje de Not nulls'])"
   ]
  },
  {
   "cell_type": "markdown",
   "metadata": {},
   "source": [
    "NOTAS SOBRE LO OBSERVADO EN MISSINGS"
   ]
  },
  {
   "cell_type": "markdown",
   "metadata": {},
   "source": [
    "#### 4.2 Data Errors\n",
    "* **CAMPO**: comentarios sobre errores de los datos(Ejemplos de datos sucios, mal formato).\n",
    "* **CAMPO**: comentarios sobre errores de los datos(Ejemplos de datos sucios, mal formato)."
   ]
  },
  {
   "cell_type": "markdown",
   "metadata": {},
   "source": [
    "### 5. Catálogos."
   ]
  },
  {
   "cell_type": "markdown",
   "metadata": {},
   "source": [
    "#### Catálogo de PRIMER CATÁLOGO:"
   ]
  },
  {
   "cell_type": "code",
   "execution_count": null,
   "metadata": {},
   "outputs": [],
   "source": [
    "Catalogo_CAMPO=pd.DataFrame(df.CAMPO.unique())\n",
    "Catalogo_CAMPO.columns=['CAMPO']\n",
    "\n",
    "#Remover los sucios\n",
    "#Esta parte depende del estado del catálogo, deben quedar sólamente los valores limpios, un ejemplo puede ser:\n",
    "#Catalogo_CAMPO.drop(labels=[67,346,369,279,171,313],axis=0,inplace=True)\n",
    "\n",
    "#Se le da \n",
    "Catalogo_CAMPO.reset_index(drop=True)\n",
    "Catalogo_CAMPO.dropna(inplace=True)\n",
    "Catalogo_CAMPO.sort_values(by='CAMPO').head(10)"
   ]
  },
  {
   "cell_type": "markdown",
   "metadata": {},
   "source": [
    "### 6. Preparación de los datos.\n",
    "Para la preparación de los datos crearemos las reglas de calidad o estándares observados en el apartado anterior de acuerdo a la calidad de datos obtenidos: "
   ]
  },
  {
   "cell_type": "markdown",
   "metadata": {},
   "source": [
    "* **CAMPO**: REGLA DE LIMPIEZA.\n",
    "* **CAMPO**: REGLA DE LIMPIEZA."
   ]
  },
  {
   "cell_type": "markdown",
   "metadata": {},
   "source": [
    "### 7. Métricas KPI.\n",
    "Se mostrarán los KPIs generados. "
   ]
  },
  {
   "cell_type": "code",
   "execution_count": null,
   "metadata": {},
   "outputs": [],
   "source": [
    "Total_Elementos=df.shape[0]\n",
    "Total_Elementos"
   ]
  },
  {
   "cell_type": "code",
   "execution_count": null,
   "metadata": {},
   "outputs": [],
   "source": [
    "df.replace(np.NaN,'vacio',inplace=True)"
   ]
  },
  {
   "cell_type": "markdown",
   "metadata": {},
   "source": [
    "#### Total Elementos Trazables"
   ]
  },
  {
   "cell_type": "code",
   "execution_count": null,
   "metadata": {},
   "outputs": [],
   "source": [
    "Total_Tr=df.loc[(df.serie!='vacio') | (df.activo!='vacio')].shape[0]\n",
    "Total_Tr"
   ]
  },
  {
   "cell_type": "markdown",
   "metadata": {},
   "source": [
    "#### Total Elementos NO Trazables"
   ]
  },
  {
   "cell_type": "code",
   "execution_count": null,
   "metadata": {},
   "outputs": [],
   "source": [
    "Total_NOTr=Total_Elementos-Total_Tr\n",
    "Total_NOTr"
   ]
  },
  {
   "cell_type": "markdown",
   "metadata": {},
   "source": [
    "#### Total Elementos Trazables Únicos"
   ]
  },
  {
   "cell_type": "code",
   "execution_count": null,
   "metadata": {},
   "outputs": [],
   "source": [
    "Total_Tr_Unic=df[['serie','activo']].loc[(df.serie!='vacio') | (df.activo!='vacio')].drop_duplicates().shape[0]\n",
    "Total_Tr_Unic"
   ]
  },
  {
   "cell_type": "markdown",
   "metadata": {},
   "source": [
    "#### Total de elementos trazables duplicados"
   ]
  },
  {
   "cell_type": "code",
   "execution_count": null,
   "metadata": {},
   "outputs": [],
   "source": [
    "Total_Tr_Dupli=Total_Tr-Total_Tr_Unic\n",
    "Total_Tr_Dupli"
   ]
  },
  {
   "cell_type": "markdown",
   "metadata": {},
   "source": [
    "#### EN CASO DE EXISTIR NOMBRE DE ALMACENES:"
   ]
  },
  {
   "cell_type": "markdown",
   "metadata": {},
   "source": [
    "#### Total de elementos en almacén Trazables Únicos en NOMBREALMACEN"
   ]
  },
  {
   "cell_type": "code",
   "execution_count": null,
   "metadata": {},
   "outputs": [],
   "source": [
    "NOMBREALMACEN_Tr_Unic=df[['serie','etiqueta']].loc[(df.almacen=='NOMBREALMACEN')&((df.serie!='vacio') | (df.etiqueta!='vacio'))].drop_duplicates().shape[0]\n",
    "NOMBREALMACEN_Tr_Unic"
   ]
  },
  {
   "cell_type": "markdown",
   "metadata": {},
   "source": [
    "#### Total de elementos en almacén Trazables Únicos con NSerie, con Nactivo"
   ]
  },
  {
   "cell_type": "code",
   "execution_count": null,
   "metadata": {},
   "outputs": [],
   "source": [
    "Total_Tr_Unic_CS_CA=df[['serie','etiqueta']].loc[(df.serie!='vacio') & (df.etiqueta!='vacio')].drop_duplicates().shape[0]\n",
    "Total_Tr_Unic_CS_CA"
   ]
  },
  {
   "cell_type": "markdown",
   "metadata": {},
   "source": [
    "#### Total de elementos en almacén Trazables Únicos con NSerie, sin Nactivo "
   ]
  },
  {
   "cell_type": "code",
   "execution_count": null,
   "metadata": {},
   "outputs": [],
   "source": [
    "Total_Tr_Unic_CS_SA=df[['serie','etiqueta']].loc[(df.serie!='vacio') & (df.etiqueta=='vacio')].drop_duplicates().shape[0]\n",
    "Total_Tr_Unic_CS_SA"
   ]
  },
  {
   "cell_type": "markdown",
   "metadata": {},
   "source": [
    "#### Total de elementos en almacén Trazables Únicos sin NSerie, con Nactivo"
   ]
  },
  {
   "cell_type": "code",
   "execution_count": null,
   "metadata": {},
   "outputs": [],
   "source": [
    "Total_Tr_Unic_SS_CA=df[['serie','etiqueta']].loc[(df.serie=='vacio') & (df.etiqueta!='vacio')].drop_duplicates().shape[0]\n",
    "Total_Tr_Unic_SS_CA"
   ]
  },
  {
   "cell_type": "markdown",
   "metadata": {},
   "source": [
    "### AGREGAR DEMÁS KPIS"
   ]
  },
  {
   "cell_type": "code",
   "execution_count": null,
   "metadata": {},
   "outputs": [],
   "source": []
  },
  {
   "cell_type": "code",
   "execution_count": null,
   "metadata": {},
   "outputs": [],
   "source": [
    "#Ajustar el df contra los kpis de la siguiente tabla:\n",
    "\n",
    "KPIs=pd.DataFrame({'KPI':['Total Elementos','Total Elementos Trazables',\n",
    "                         'Total NO Trazables','Total Trazables Unicos',\n",
    "                         'Total Trazables Duplicados','Trazables Únicos en DHL Tepotzotlan',\n",
    "                          'Total CS CA','Total CS SA','Total SS CA'],\n",
    "                  'Resultado':[Total_Elementos,Total_Tr,Total_NOTr,\n",
    "                              Total_Tr_Unic,Total_Tr_Dupli,\n",
    "                               Total_Tr_Unic_CS_CA,Total_Tr_Unic_CS_SA,\n",
    "                              Total_Tr_Unic_SS_CA]})\n",
    "\n",
    "KPIs"
   ]
  },
  {
   "cell_type": "code",
   "execution_count": null,
   "metadata": {},
   "outputs": [],
   "source": [
    "sc.stop()"
   ]
  }
 ],
 "metadata": {
  "kernelspec": {
   "display_name": "Python 2",
   "language": "python",
   "name": "python2"
  },
  "language_info": {
   "codemirror_mode": {
    "name": "ipython",
    "version": 2
   },
   "file_extension": ".py",
   "mimetype": "text/x-python",
   "name": "python",
   "nbconvert_exporter": "python",
   "pygments_lexer": "ipython2",
   "version": "2.7.15"
  }
 },
 "nbformat": 4,
 "nbformat_minor": 2
}
