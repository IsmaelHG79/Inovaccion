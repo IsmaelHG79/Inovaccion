{
 "cells": [
  {
   "cell_type": "markdown",
   "metadata": {},
   "source": [
    "<div style=\"float: right; width: 200%;\">\n",
    "<p style=\"margin: 0; padding-top: 20px; text-align:right;color:rgb(193, 38, 184)\"><strong>Axity - AT&T.\n",
    "    Ciclo de vida de elementos de inventario</strong></p>\n",
    "</div>"
   ]
  },
  {
   "cell_type": "markdown",
   "metadata": {},
   "source": [
    "# Exploratory Data Analysis"
   ]
  },
  {
   "cell_type": "markdown",
   "metadata": {},
   "source": [
    "## Descripción\n",
    "\n",
    "Analizaremos los datos del gestor SOEM con un tratamiento estadístico descriptivo para hacer el tracking del ciclo de vida de los elementos de red. \n",
    "\n",
    "Se creará un EDA enfocado a las tres fuentes proporcionadas por SOEM, las cuales están identificadas como **hw**, **ne** y **sw**. \n",
    "\n",
    "Serán documentados los catálogos propuestos junto a su respectivo tratamiento de datos. \n",
    "\n",
    "Primero cargamos las librerías necesarias."
   ]
  },
  {
   "cell_type": "markdown",
   "metadata": {},
   "source": [
    "#### Conectando al Datalake"
   ]
  },
  {
   "cell_type": "code",
   "execution_count": 2,
   "metadata": {},
   "outputs": [],
   "source": [
    "import os\n",
    "os.environ['JAVA_HOME'] = '/usr/java/jdk1.8.0_162'\n",
    "os.environ['SPARK_HOME'] = '/opt/cloudera/parcels/CDH-6.2.0-1.cdh6.2.0.p0.967373/lib/spark'\n",
    "import findspark\n",
    "findspark.init()\n",
    "from pyspark import SparkContext, SparkConf\n",
    "from pyspark.sql import SparkSession\n",
    "from pyspark.sql.types import *\n",
    "from pyspark.sql import HiveContext"
   ]
  },
  {
   "cell_type": "code",
   "execution_count": 3,
   "metadata": {},
   "outputs": [],
   "source": [
    "conf = SparkConf().setAppName('EDA_SOEM')  \\\n",
    "    .setMaster('yarn').set(\"spark.yarn.queue\",\"root.eda\")\n",
    "spark = SparkSession.builder.config(conf=conf).getOrCreate()\n",
    "sc = spark.sparkContext\n",
    "sqlContext = HiveContext(sc)"
   ]
  },
  {
   "cell_type": "code",
   "execution_count": 83,
   "metadata": {},
   "outputs": [
    {
     "data": {
      "text/html": [
       "\n",
       "    <div class=\"bk-root\">\n",
       "        <a href=\"https://bokeh.pydata.org\" target=\"_blank\" class=\"bk-logo bk-logo-small bk-logo-notebook\"></a>\n",
       "        <span id=\"14300267-9f52-4b9e-a714-0e267567f6fe\">Loading BokehJS ...</span>\n",
       "    </div>"
      ]
     },
     "metadata": {},
     "output_type": "display_data"
    },
    {
     "data": {
      "application/javascript": [
       "\n",
       "(function(root) {\n",
       "  function now() {\n",
       "    return new Date();\n",
       "  }\n",
       "\n",
       "  var force = true;\n",
       "\n",
       "  if (typeof (root._bokeh_onload_callbacks) === \"undefined\" || force === true) {\n",
       "    root._bokeh_onload_callbacks = [];\n",
       "    root._bokeh_is_loading = undefined;\n",
       "  }\n",
       "\n",
       "  var JS_MIME_TYPE = 'application/javascript';\n",
       "  var HTML_MIME_TYPE = 'text/html';\n",
       "  var EXEC_MIME_TYPE = 'application/vnd.bokehjs_exec.v0+json';\n",
       "  var CLASS_NAME = 'output_bokeh rendered_html';\n",
       "\n",
       "  /**\n",
       "   * Render data to the DOM node\n",
       "   */\n",
       "  function render(props, node) {\n",
       "    var script = document.createElement(\"script\");\n",
       "    node.appendChild(script);\n",
       "  }\n",
       "\n",
       "  /**\n",
       "   * Handle when an output is cleared or removed\n",
       "   */\n",
       "  function handleClearOutput(event, handle) {\n",
       "    var cell = handle.cell;\n",
       "\n",
       "    var id = cell.output_area._bokeh_element_id;\n",
       "    var server_id = cell.output_area._bokeh_server_id;\n",
       "    // Clean up Bokeh references\n",
       "    if (id != null && id in Bokeh.index) {\n",
       "      Bokeh.index[id].model.document.clear();\n",
       "      delete Bokeh.index[id];\n",
       "    }\n",
       "\n",
       "    if (server_id !== undefined) {\n",
       "      // Clean up Bokeh references\n",
       "      var cmd = \"from bokeh.io.state import curstate; print(curstate().uuid_to_server['\" + server_id + \"'].get_sessions()[0].document.roots[0]._id)\";\n",
       "      cell.notebook.kernel.execute(cmd, {\n",
       "        iopub: {\n",
       "          output: function(msg) {\n",
       "            var id = msg.content.text.trim();\n",
       "            if (id in Bokeh.index) {\n",
       "              Bokeh.index[id].model.document.clear();\n",
       "              delete Bokeh.index[id];\n",
       "            }\n",
       "          }\n",
       "        }\n",
       "      });\n",
       "      // Destroy server and session\n",
       "      var cmd = \"import bokeh.io.notebook as ion; ion.destroy_server('\" + server_id + \"')\";\n",
       "      cell.notebook.kernel.execute(cmd);\n",
       "    }\n",
       "  }\n",
       "\n",
       "  /**\n",
       "   * Handle when a new output is added\n",
       "   */\n",
       "  function handleAddOutput(event, handle) {\n",
       "    var output_area = handle.output_area;\n",
       "    var output = handle.output;\n",
       "\n",
       "    // limit handleAddOutput to display_data with EXEC_MIME_TYPE content only\n",
       "    if ((output.output_type != \"display_data\") || (!output.data.hasOwnProperty(EXEC_MIME_TYPE))) {\n",
       "      return\n",
       "    }\n",
       "\n",
       "    var toinsert = output_area.element.find(\".\" + CLASS_NAME.split(' ')[0]);\n",
       "\n",
       "    if (output.metadata[EXEC_MIME_TYPE][\"id\"] !== undefined) {\n",
       "      toinsert[toinsert.length - 1].firstChild.textContent = output.data[JS_MIME_TYPE];\n",
       "      // store reference to embed id on output_area\n",
       "      output_area._bokeh_element_id = output.metadata[EXEC_MIME_TYPE][\"id\"];\n",
       "    }\n",
       "    if (output.metadata[EXEC_MIME_TYPE][\"server_id\"] !== undefined) {\n",
       "      var bk_div = document.createElement(\"div\");\n",
       "      bk_div.innerHTML = output.data[HTML_MIME_TYPE];\n",
       "      var script_attrs = bk_div.children[0].attributes;\n",
       "      for (var i = 0; i < script_attrs.length; i++) {\n",
       "        toinsert[toinsert.length - 1].firstChild.setAttribute(script_attrs[i].name, script_attrs[i].value);\n",
       "      }\n",
       "      // store reference to server id on output_area\n",
       "      output_area._bokeh_server_id = output.metadata[EXEC_MIME_TYPE][\"server_id\"];\n",
       "    }\n",
       "  }\n",
       "\n",
       "  function register_renderer(events, OutputArea) {\n",
       "\n",
       "    function append_mime(data, metadata, element) {\n",
       "      // create a DOM node to render to\n",
       "      var toinsert = this.create_output_subarea(\n",
       "        metadata,\n",
       "        CLASS_NAME,\n",
       "        EXEC_MIME_TYPE\n",
       "      );\n",
       "      this.keyboard_manager.register_events(toinsert);\n",
       "      // Render to node\n",
       "      var props = {data: data, metadata: metadata[EXEC_MIME_TYPE]};\n",
       "      render(props, toinsert[toinsert.length - 1]);\n",
       "      element.append(toinsert);\n",
       "      return toinsert\n",
       "    }\n",
       "\n",
       "    /* Handle when an output is cleared or removed */\n",
       "    events.on('clear_output.CodeCell', handleClearOutput);\n",
       "    events.on('delete.Cell', handleClearOutput);\n",
       "\n",
       "    /* Handle when a new output is added */\n",
       "    events.on('output_added.OutputArea', handleAddOutput);\n",
       "\n",
       "    /**\n",
       "     * Register the mime type and append_mime function with output_area\n",
       "     */\n",
       "    OutputArea.prototype.register_mime_type(EXEC_MIME_TYPE, append_mime, {\n",
       "      /* Is output safe? */\n",
       "      safe: true,\n",
       "      /* Index of renderer in `output_area.display_order` */\n",
       "      index: 0\n",
       "    });\n",
       "  }\n",
       "\n",
       "  // register the mime type if in Jupyter Notebook environment and previously unregistered\n",
       "  if (root.Jupyter !== undefined) {\n",
       "    var events = require('base/js/events');\n",
       "    var OutputArea = require('notebook/js/outputarea').OutputArea;\n",
       "\n",
       "    if (OutputArea.prototype.mime_types().indexOf(EXEC_MIME_TYPE) == -1) {\n",
       "      register_renderer(events, OutputArea);\n",
       "    }\n",
       "  }\n",
       "\n",
       "  \n",
       "  if (typeof (root._bokeh_timeout) === \"undefined\" || force === true) {\n",
       "    root._bokeh_timeout = Date.now() + 5000;\n",
       "    root._bokeh_failed_load = false;\n",
       "  }\n",
       "\n",
       "  var NB_LOAD_WARNING = {'data': {'text/html':\n",
       "     \"<div style='background-color: #fdd'>\\n\"+\n",
       "     \"<p>\\n\"+\n",
       "     \"BokehJS does not appear to have successfully loaded. If loading BokehJS from CDN, this \\n\"+\n",
       "     \"may be due to a slow or bad network connection. Possible fixes:\\n\"+\n",
       "     \"</p>\\n\"+\n",
       "     \"<ul>\\n\"+\n",
       "     \"<li>re-rerun `output_notebook()` to attempt to load from CDN again, or</li>\\n\"+\n",
       "     \"<li>use INLINE resources instead, as so:</li>\\n\"+\n",
       "     \"</ul>\\n\"+\n",
       "     \"<code>\\n\"+\n",
       "     \"from bokeh.resources import INLINE\\n\"+\n",
       "     \"output_notebook(resources=INLINE)\\n\"+\n",
       "     \"</code>\\n\"+\n",
       "     \"</div>\"}};\n",
       "\n",
       "  function display_loaded() {\n",
       "    var el = document.getElementById(\"14300267-9f52-4b9e-a714-0e267567f6fe\");\n",
       "    if (el != null) {\n",
       "      el.textContent = \"BokehJS is loading...\";\n",
       "    }\n",
       "    if (root.Bokeh !== undefined) {\n",
       "      if (el != null) {\n",
       "        el.textContent = \"BokehJS \" + root.Bokeh.version + \" successfully loaded.\";\n",
       "      }\n",
       "    } else if (Date.now() < root._bokeh_timeout) {\n",
       "      setTimeout(display_loaded, 100)\n",
       "    }\n",
       "  }\n",
       "\n",
       "\n",
       "  function run_callbacks() {\n",
       "    try {\n",
       "      root._bokeh_onload_callbacks.forEach(function(callback) { callback() });\n",
       "    }\n",
       "    finally {\n",
       "      delete root._bokeh_onload_callbacks\n",
       "    }\n",
       "    console.info(\"Bokeh: all callbacks have finished\");\n",
       "  }\n",
       "\n",
       "  function load_libs(js_urls, callback) {\n",
       "    root._bokeh_onload_callbacks.push(callback);\n",
       "    if (root._bokeh_is_loading > 0) {\n",
       "      console.log(\"Bokeh: BokehJS is being loaded, scheduling callback at\", now());\n",
       "      return null;\n",
       "    }\n",
       "    if (js_urls == null || js_urls.length === 0) {\n",
       "      run_callbacks();\n",
       "      return null;\n",
       "    }\n",
       "    console.log(\"Bokeh: BokehJS not loaded, scheduling load and callback at\", now());\n",
       "    root._bokeh_is_loading = js_urls.length;\n",
       "    for (var i = 0; i < js_urls.length; i++) {\n",
       "      var url = js_urls[i];\n",
       "      var s = document.createElement('script');\n",
       "      s.src = url;\n",
       "      s.async = false;\n",
       "      s.onreadystatechange = s.onload = function() {\n",
       "        root._bokeh_is_loading--;\n",
       "        if (root._bokeh_is_loading === 0) {\n",
       "          console.log(\"Bokeh: all BokehJS libraries loaded\");\n",
       "          run_callbacks()\n",
       "        }\n",
       "      };\n",
       "      s.onerror = function() {\n",
       "        console.warn(\"failed to load library \" + url);\n",
       "      };\n",
       "      console.log(\"Bokeh: injecting script tag for BokehJS library: \", url);\n",
       "      document.getElementsByTagName(\"head\")[0].appendChild(s);\n",
       "    }\n",
       "  };var element = document.getElementById(\"14300267-9f52-4b9e-a714-0e267567f6fe\");\n",
       "  if (element == null) {\n",
       "    console.log(\"Bokeh: ERROR: autoload.js configured with elementid '14300267-9f52-4b9e-a714-0e267567f6fe' but no matching script tag was found. \")\n",
       "    return false;\n",
       "  }\n",
       "\n",
       "  var js_urls = [\"https://cdn.pydata.org/bokeh/release/bokeh-0.13.0.min.js\", \"https://cdn.pydata.org/bokeh/release/bokeh-widgets-0.13.0.min.js\", \"https://cdn.pydata.org/bokeh/release/bokeh-tables-0.13.0.min.js\", \"https://cdn.pydata.org/bokeh/release/bokeh-gl-0.13.0.min.js\"];\n",
       "\n",
       "  var inline_js = [\n",
       "    function(Bokeh) {\n",
       "      Bokeh.set_log_level(\"info\");\n",
       "    },\n",
       "    \n",
       "    function(Bokeh) {\n",
       "      \n",
       "    },\n",
       "    function(Bokeh) {\n",
       "      console.log(\"Bokeh: injecting CSS: https://cdn.pydata.org/bokeh/release/bokeh-0.13.0.min.css\");\n",
       "      Bokeh.embed.inject_css(\"https://cdn.pydata.org/bokeh/release/bokeh-0.13.0.min.css\");\n",
       "      console.log(\"Bokeh: injecting CSS: https://cdn.pydata.org/bokeh/release/bokeh-widgets-0.13.0.min.css\");\n",
       "      Bokeh.embed.inject_css(\"https://cdn.pydata.org/bokeh/release/bokeh-widgets-0.13.0.min.css\");\n",
       "      console.log(\"Bokeh: injecting CSS: https://cdn.pydata.org/bokeh/release/bokeh-tables-0.13.0.min.css\");\n",
       "      Bokeh.embed.inject_css(\"https://cdn.pydata.org/bokeh/release/bokeh-tables-0.13.0.min.css\");\n",
       "    }\n",
       "  ];\n",
       "\n",
       "  function run_inline_js() {\n",
       "    \n",
       "    if ((root.Bokeh !== undefined) || (force === true)) {\n",
       "      for (var i = 0; i < inline_js.length; i++) {\n",
       "        inline_js[i].call(root, root.Bokeh);\n",
       "      }if (force === true) {\n",
       "        display_loaded();\n",
       "      }} else if (Date.now() < root._bokeh_timeout) {\n",
       "      setTimeout(run_inline_js, 100);\n",
       "    } else if (!root._bokeh_failed_load) {\n",
       "      console.log(\"Bokeh: BokehJS failed to load within specified timeout.\");\n",
       "      root._bokeh_failed_load = true;\n",
       "    } else if (force !== true) {\n",
       "      var cell = $(document.getElementById(\"14300267-9f52-4b9e-a714-0e267567f6fe\")).parents('.cell').data().cell;\n",
       "      cell.output_area.append_execute_result(NB_LOAD_WARNING)\n",
       "    }\n",
       "\n",
       "  }\n",
       "\n",
       "  if (root._bokeh_is_loading === 0) {\n",
       "    console.log(\"Bokeh: BokehJS loaded, going straight to plotting\");\n",
       "    run_inline_js();\n",
       "  } else {\n",
       "    load_libs(js_urls, function() {\n",
       "      console.log(\"Bokeh: BokehJS plotting callback run at\", now());\n",
       "      run_inline_js();\n",
       "    });\n",
       "  }\n",
       "}(window));"
      ],
      "application/vnd.bokehjs_load.v0+json": "\n(function(root) {\n  function now() {\n    return new Date();\n  }\n\n  var force = true;\n\n  if (typeof (root._bokeh_onload_callbacks) === \"undefined\" || force === true) {\n    root._bokeh_onload_callbacks = [];\n    root._bokeh_is_loading = undefined;\n  }\n\n  \n\n  \n  if (typeof (root._bokeh_timeout) === \"undefined\" || force === true) {\n    root._bokeh_timeout = Date.now() + 5000;\n    root._bokeh_failed_load = false;\n  }\n\n  var NB_LOAD_WARNING = {'data': {'text/html':\n     \"<div style='background-color: #fdd'>\\n\"+\n     \"<p>\\n\"+\n     \"BokehJS does not appear to have successfully loaded. If loading BokehJS from CDN, this \\n\"+\n     \"may be due to a slow or bad network connection. Possible fixes:\\n\"+\n     \"</p>\\n\"+\n     \"<ul>\\n\"+\n     \"<li>re-rerun `output_notebook()` to attempt to load from CDN again, or</li>\\n\"+\n     \"<li>use INLINE resources instead, as so:</li>\\n\"+\n     \"</ul>\\n\"+\n     \"<code>\\n\"+\n     \"from bokeh.resources import INLINE\\n\"+\n     \"output_notebook(resources=INLINE)\\n\"+\n     \"</code>\\n\"+\n     \"</div>\"}};\n\n  function display_loaded() {\n    var el = document.getElementById(\"14300267-9f52-4b9e-a714-0e267567f6fe\");\n    if (el != null) {\n      el.textContent = \"BokehJS is loading...\";\n    }\n    if (root.Bokeh !== undefined) {\n      if (el != null) {\n        el.textContent = \"BokehJS \" + root.Bokeh.version + \" successfully loaded.\";\n      }\n    } else if (Date.now() < root._bokeh_timeout) {\n      setTimeout(display_loaded, 100)\n    }\n  }\n\n\n  function run_callbacks() {\n    try {\n      root._bokeh_onload_callbacks.forEach(function(callback) { callback() });\n    }\n    finally {\n      delete root._bokeh_onload_callbacks\n    }\n    console.info(\"Bokeh: all callbacks have finished\");\n  }\n\n  function load_libs(js_urls, callback) {\n    root._bokeh_onload_callbacks.push(callback);\n    if (root._bokeh_is_loading > 0) {\n      console.log(\"Bokeh: BokehJS is being loaded, scheduling callback at\", now());\n      return null;\n    }\n    if (js_urls == null || js_urls.length === 0) {\n      run_callbacks();\n      return null;\n    }\n    console.log(\"Bokeh: BokehJS not loaded, scheduling load and callback at\", now());\n    root._bokeh_is_loading = js_urls.length;\n    for (var i = 0; i < js_urls.length; i++) {\n      var url = js_urls[i];\n      var s = document.createElement('script');\n      s.src = url;\n      s.async = false;\n      s.onreadystatechange = s.onload = function() {\n        root._bokeh_is_loading--;\n        if (root._bokeh_is_loading === 0) {\n          console.log(\"Bokeh: all BokehJS libraries loaded\");\n          run_callbacks()\n        }\n      };\n      s.onerror = function() {\n        console.warn(\"failed to load library \" + url);\n      };\n      console.log(\"Bokeh: injecting script tag for BokehJS library: \", url);\n      document.getElementsByTagName(\"head\")[0].appendChild(s);\n    }\n  };var element = document.getElementById(\"14300267-9f52-4b9e-a714-0e267567f6fe\");\n  if (element == null) {\n    console.log(\"Bokeh: ERROR: autoload.js configured with elementid '14300267-9f52-4b9e-a714-0e267567f6fe' but no matching script tag was found. \")\n    return false;\n  }\n\n  var js_urls = [\"https://cdn.pydata.org/bokeh/release/bokeh-0.13.0.min.js\", \"https://cdn.pydata.org/bokeh/release/bokeh-widgets-0.13.0.min.js\", \"https://cdn.pydata.org/bokeh/release/bokeh-tables-0.13.0.min.js\", \"https://cdn.pydata.org/bokeh/release/bokeh-gl-0.13.0.min.js\"];\n\n  var inline_js = [\n    function(Bokeh) {\n      Bokeh.set_log_level(\"info\");\n    },\n    \n    function(Bokeh) {\n      \n    },\n    function(Bokeh) {\n      console.log(\"Bokeh: injecting CSS: https://cdn.pydata.org/bokeh/release/bokeh-0.13.0.min.css\");\n      Bokeh.embed.inject_css(\"https://cdn.pydata.org/bokeh/release/bokeh-0.13.0.min.css\");\n      console.log(\"Bokeh: injecting CSS: https://cdn.pydata.org/bokeh/release/bokeh-widgets-0.13.0.min.css\");\n      Bokeh.embed.inject_css(\"https://cdn.pydata.org/bokeh/release/bokeh-widgets-0.13.0.min.css\");\n      console.log(\"Bokeh: injecting CSS: https://cdn.pydata.org/bokeh/release/bokeh-tables-0.13.0.min.css\");\n      Bokeh.embed.inject_css(\"https://cdn.pydata.org/bokeh/release/bokeh-tables-0.13.0.min.css\");\n    }\n  ];\n\n  function run_inline_js() {\n    \n    if ((root.Bokeh !== undefined) || (force === true)) {\n      for (var i = 0; i < inline_js.length; i++) {\n        inline_js[i].call(root, root.Bokeh);\n      }if (force === true) {\n        display_loaded();\n      }} else if (Date.now() < root._bokeh_timeout) {\n      setTimeout(run_inline_js, 100);\n    } else if (!root._bokeh_failed_load) {\n      console.log(\"Bokeh: BokehJS failed to load within specified timeout.\");\n      root._bokeh_failed_load = true;\n    } else if (force !== true) {\n      var cell = $(document.getElementById(\"14300267-9f52-4b9e-a714-0e267567f6fe\")).parents('.cell').data().cell;\n      cell.output_area.append_execute_result(NB_LOAD_WARNING)\n    }\n\n  }\n\n  if (root._bokeh_is_loading === 0) {\n    console.log(\"Bokeh: BokehJS loaded, going straight to plotting\");\n    run_inline_js();\n  } else {\n    load_libs(js_urls, function() {\n      console.log(\"Bokeh: BokehJS plotting callback run at\", now());\n      run_inline_js();\n    });\n  }\n}(window));"
     },
     "metadata": {},
     "output_type": "display_data"
    }
   ],
   "source": [
    "import pandas as pd\n",
    "import numpy as np\n",
    "import matplotlib.pyplot as plt\n",
    "from PIL import Image\n",
    "import re\n",
    "import pandasql\n",
    "\n",
    "from pyspark.sql.functions import udf ,col\n",
    "from pyspark.sql.types import IntegerType,StringType\n",
    "\n",
    "%matplotlib inline\n",
    "\n",
    "from bokeh.io import show, output_notebook, output_file \n",
    "from bokeh.plotting import figure\n",
    "from bokeh.models import ColumnDataSource\n",
    "from bokeh.palettes import Category20_11, Category20c_9, Category10_5,Category10_6, Category20_20, Plasma256\n",
    "output_notebook()"
   ]
  },
  {
   "cell_type": "markdown",
   "metadata": {},
   "source": [
    "### Recolección de los datos: "
   ]
  },
  {
   "cell_type": "markdown",
   "metadata": {},
   "source": [
    "Para analizar el gestor SOEM en conjunto, se realiza una unión de las fuentes (hw, ne y sw) para trabajar con el universo completo de SOEM.\n",
    "\n",
    "La tabla que se utiliza como fuente es ```tx_soem_hw``` ya que aquí encontramos el número de serie, el cual utilizaremos para rastrear el ciclo de vida del elemento.\n",
    "\n",
    "Los campos por los cuales se unen son los siguientes: ```tx_soem_hw.ne_id = tx_soem_ne.id```  y ```tx_soem_sw.hw_module_id = tx_soem_hw.id ```\n",
    "\n",
    "\n",
    "Los datos con los que se trabajan a lo largo del EDA corresponden a la partición de **20191031** de las tablas ```default.tx_soem_hw```, ```default.tx_soem_ne``` y ```default.tx_soem_sw```.\n",
    "\n",
    "*IMPORTANTE*: Si se requieren ver datos de otro periódo, se debe cambiar los filtros ```year = <año-a-ejecutar>```, ```month = <mes-a-ejecutar>```, ```day = <día-a-ejecutar>``` de las tablas en la siguiente celda:"
   ]
  },
  {
   "cell_type": "code",
   "execution_count": 111,
   "metadata": {},
   "outputs": [],
   "source": [
    "df_location = spark.sql(\"SELECT * FROM inventario.raw_panda_location\").toPandas()"
   ]
  },
  {
   "cell_type": "code",
   "execution_count": 69,
   "metadata": {},
   "outputs": [],
   "source": [
    "df_load = spark.sql(\"SELECT a.id as id_hw, a.serialnumber as serie, a.ne_id as ne_id, b.address, b.nename as ne_name, b.location as location_id, c.typeofswunit, c.swproductnumber FROM tx_soem_hw a LEFT JOIN tx_soem_ne b on trim(a.ne_id) = trim(b.id) LEFT JOIN tx_soem_sw c on trim(c.hw_module_id) = trim(a.id) WHERE a.year = 2019 and a.month = 10 and a.day = 31 and b.year = 2019 and b.month = 10 and b.day = 31 and c.year = 2019 and c.month = 10 and c.day = 31\").cache()"
   ]
  },
  {
   "cell_type": "markdown",
   "metadata": {},
   "source": [
    "Creamos una funcion para el tratamiento de datos en spark el cual contiene la reglas proporcionadas por la tabla ```inventario.cat_regex_cleanup``` para la columna serie:"
   ]
  },
  {
   "cell_type": "code",
   "execution_count": 71,
   "metadata": {},
   "outputs": [],
   "source": [
    "def validate_rule(string):\n",
    "    \n",
    "    search_list=[\" \",'!','%','$',\"<\",\">\",\"^\",'¡',\"+\",\"N/A\",u'¿','~','#','Ñ',\"Ã\",\"Åƒ\",\"Ã‹\",\"Ã³\",'Ë','*','?',\"ILEGIBLE\", \"VICIBLE\",\"VISIBLE\",\"INCOMPLETO\"]\n",
    "    str_temp = string.encode('utf-8')\n",
    "    if str_temp.upper() == \"BORRADO\":\n",
    "      return 1\n",
    "    elif len(str_temp) < 6:\n",
    "      return 1\n",
    "    elif any(ext in str_temp.upper()for ext in search_list):\n",
    "      return 1\n",
    "    else:\n",
    "      return 0"
   ]
  },
  {
   "cell_type": "markdown",
   "metadata": {},
   "source": [
    "Se crea un udf en spark sobre la funcion ya creada."
   ]
  },
  {
   "cell_type": "code",
   "execution_count": 72,
   "metadata": {},
   "outputs": [],
   "source": [
    "validate_rule_udf = udf(validate_rule, IntegerType())"
   ]
  },
  {
   "cell_type": "markdown",
   "metadata": {},
   "source": [
    "Se le agrega una nueva columna al dataframe de spark; la nueva columna es la validacion de la columna serie con respecto al udf que creamos."
   ]
  },
  {
   "cell_type": "code",
   "execution_count": 73,
   "metadata": {},
   "outputs": [],
   "source": [
    "df_serie = df_load.withColumn(\"serie_cleaned\",validate_rule_udf(col(\"serie\"))).cache()"
   ]
  },
  {
   "cell_type": "markdown",
   "metadata": {},
   "source": [
    "Se convierte el dataframe de spark a un dataframe de pandas."
   ]
  },
  {
   "cell_type": "code",
   "execution_count": 74,
   "metadata": {},
   "outputs": [],
   "source": [
    "df = df_serie.toPandas()"
   ]
  },
  {
   "cell_type": "markdown",
   "metadata": {},
   "source": [
    "Hemos recolectado los campos a analizar de las fuentes *hw* y *ne* correspondientes a SOEM."
   ]
  },
  {
   "cell_type": "markdown",
   "metadata": {},
   "source": [
    "Muestra de los datos recolectados:"
   ]
  },
  {
   "cell_type": "code",
   "execution_count": 59,
   "metadata": {},
   "outputs": [
    {
     "data": {
      "text/html": [
       "<div>\n",
       "<style scoped>\n",
       "    .dataframe tbody tr th:only-of-type {\n",
       "        vertical-align: middle;\n",
       "    }\n",
       "\n",
       "    .dataframe tbody tr th {\n",
       "        vertical-align: top;\n",
       "    }\n",
       "\n",
       "    .dataframe thead th {\n",
       "        text-align: right;\n",
       "    }\n",
       "</style>\n",
       "<table border=\"1\" class=\"dataframe\">\n",
       "  <thead>\n",
       "    <tr style=\"text-align: right;\">\n",
       "      <th></th>\n",
       "      <th>id_hw</th>\n",
       "      <th>serie</th>\n",
       "      <th>ne_id</th>\n",
       "      <th>address</th>\n",
       "      <th>ne_name</th>\n",
       "      <th>location_id</th>\n",
       "      <th>typeofswunit</th>\n",
       "      <th>swproductnumber</th>\n",
       "      <th>serie_cleaned</th>\n",
       "    </tr>\n",
       "  </thead>\n",
       "  <tbody>\n",
       "    <tr>\n",
       "      <th>0</th>\n",
       "      <td>16796_1_B</td>\n",
       "      <td>TY12747513</td>\n",
       "      <td>16796</td>\n",
       "      <td>10.245.150.70</td>\n",
       "      <td>MXSLPSLP1516MW03</td>\n",
       "      <td>SANTA ROSA</td>\n",
       "      <td>AMM 6p D</td>\n",
       "      <td>CXP9010021_1</td>\n",
       "      <td>0</td>\n",
       "    </tr>\n",
       "    <tr>\n",
       "      <th>1</th>\n",
       "      <td>16838_1/7_N</td>\n",
       "      <td>A23108DNHX</td>\n",
       "      <td>16838</td>\n",
       "      <td>10.245.178.83</td>\n",
       "      <td>MXGROCHB0071MW07</td>\n",
       "      <td>ALQUITRAN</td>\n",
       "      <td>NPU3 C</td>\n",
       "      <td>CXP 901 2516/5</td>\n",
       "      <td>0</td>\n",
       "    </tr>\n",
       "    <tr>\n",
       "      <th>2</th>\n",
       "      <td>16846_1/3_M</td>\n",
       "      <td>A23105LLJW</td>\n",
       "      <td>16846</td>\n",
       "      <td>10.245.148.80</td>\n",
       "      <td>MXQTOMQS1324MW02</td>\n",
       "      <td>AEROPUERTO QUERETARO</td>\n",
       "      <td>MMU2 H</td>\n",
       "      <td>CXP 901 1133/6</td>\n",
       "      <td>0</td>\n",
       "    </tr>\n",
       "    <tr>\n",
       "      <th>3</th>\n",
       "      <td>17066_1030_1.1</td>\n",
       "      <td>CR9N285902</td>\n",
       "      <td>17066</td>\n",
       "      <td>10.245.248.20</td>\n",
       "      <td>MORCVA0193</td>\n",
       "      <td>CUERNAVACA</td>\n",
       "      <td>network release</td>\n",
       "      <td>CXP9026371_3_R12B51_2-11.def</td>\n",
       "      <td>0</td>\n",
       "    </tr>\n",
       "    <tr>\n",
       "      <th>4</th>\n",
       "      <td>16734_1/8_E</td>\n",
       "      <td>A23109EXPR</td>\n",
       "      <td>16734</td>\n",
       "      <td>10.245.145.199</td>\n",
       "      <td>MXGUASIL0500MW01</td>\n",
       "      <td>ADUANA [LA ESPERANZA]</td>\n",
       "      <td>ETU3</td>\n",
       "      <td>CXCR 102 051/1</td>\n",
       "      <td>0</td>\n",
       "    </tr>\n",
       "  </tbody>\n",
       "</table>\n",
       "</div>"
      ],
      "text/plain": [
       "            id_hw       serie  ne_id         address           ne_name  \\\n",
       "0       16796_1_B  TY12747513  16796   10.245.150.70  MXSLPSLP1516MW03   \n",
       "1     16838_1/7_N  A23108DNHX  16838   10.245.178.83  MXGROCHB0071MW07   \n",
       "2     16846_1/3_M  A23105LLJW  16846   10.245.148.80  MXQTOMQS1324MW02   \n",
       "3  17066_1030_1.1  CR9N285902  17066   10.245.248.20        MORCVA0193   \n",
       "4     16734_1/8_E  A23109EXPR  16734  10.245.145.199  MXGUASIL0500MW01   \n",
       "\n",
       "             location_id     typeofswunit               swproductnumber  \\\n",
       "0             SANTA ROSA         AMM 6p D                  CXP9010021_1   \n",
       "1              ALQUITRAN           NPU3 C                CXP 901 2516/5   \n",
       "2   AEROPUERTO QUERETARO           MMU2 H                CXP 901 1133/6   \n",
       "3             CUERNAVACA  network release  CXP9026371_3_R12B51_2-11.def   \n",
       "4  ADUANA [LA ESPERANZA]             ETU3                CXCR 102 051/1   \n",
       "\n",
       "   serie_cleaned  \n",
       "0              0  \n",
       "1              0  \n",
       "2              0  \n",
       "3              0  \n",
       "4              0  "
      ]
     },
     "execution_count": 59,
     "metadata": {},
     "output_type": "execute_result"
    }
   ],
   "source": [
    "df.head()"
   ]
  },
  {
   "cell_type": "markdown",
   "metadata": {},
   "source": [
    "### Diccionario de datos\n",
    "\n",
    "A continuación se enlistan los campos de la fuente con una breve descripción de negocio.  \n",
    "\n",
    "Fuente HW:\n",
    "\n",
    "* **nodename**: nombre del nodo o fuente\n",
    "* **id**: id único del registro\n",
    "* **ammposition**: por definir\n",
    "* **assetid**: por definir\n",
    "* **typeofunit**: por definir\n",
    "* **productnumber**: número del producto\n",
    "* **version**: por definir\n",
    "* **serialnumber**: número de serie\n",
    "* **productiondate**: por definir\n",
    "* **elapsedruntime**: por definir\n",
    "* **ne_id**: id que se utiliza para hacer la unión con SOEM ne\n",
    "* **nealias**: por definir\n",
    "* **notes**: por definir\n",
    "* **updatedate**: por definir\n",
    "* **moduleproductnumber**: por definir\n",
    "* **moduleserialnumber**: por definir\n",
    "* **filedate**: Fecha de carga del archivo.\n",
    "* **filename**: Nombre del archivo cargado.\n",
    "* **hash_id**: Identificador único Hash.\n",
    "* **source_id**: Fuente de archivo.\n",
    "* **registry_state**: Timestamp de carga.\n",
    "* **datasetname**: Nombre del ....\n",
    "* **timestamp**: Fecha de carga.\n",
    "* **transaction_status**: Estatus de carga.\n",
    "* **year**: Año del archivo.\n",
    "* **month**: Mes del archivo.\n",
    "* **day**: Día del archivo.\n",
    "\n",
    "Fuente NE:\n",
    "\n",
    "* **nodename**: nombre del nodo o fuente\n",
    "* **id**: id único del registro\n",
    "* **type**: por definir\n",
    "* **address**: por definir\n",
    "* **nename**: por definir\n",
    "* **location**: código de ubicación\n",
    "* **information**: por definir\n",
    "* **site_id**: número de serie\n",
    "* **nealias**: por definir\n",
    "* **nenotes**: por definir\n",
    "* **updatedate**: por definir\n",
    "* **neaddedtime**: por definir\n",
    "* **nelastmanagedtime**: por definir\n",
    "* **nelaststartedtime**: por definir\n",
    "* **nelastmodifiedtime**: por definir\n",
    "* **filedate**: Fecha de carga del archivo.\n",
    "* **filename**: Nombre del archivo cargado.\n",
    "* **hash_id**: Identificador único Hash.\n",
    "* **source_id**: Fuente de archivo.\n",
    "* **registry_state**: Timestamp de carga.\n",
    "* **datasetname**: Nombre del ....\n",
    "* **timestamp**: Fecha de carga.\n",
    "* **transaction_status**: Estatus de carga.\n",
    "* **year**: Año del archivo.\n",
    "* **month**: Mes del archivo.\n",
    "* **day**: Día del archivo.\n",
    "\n",
    "Fuente SW:\n",
    "\n",
    "* **nodename**: nombre del nodo o fuente\n",
    "* **id**: id único del registro\n",
    "* **minimumswversion**: por definir\n",
    "* **typeofswunit**: por definir\n",
    "* **swproductnumber**: por definir\n",
    "* **activesw**: por definir\n",
    "* **passivesw**: por definir\n",
    "* **hw_module_id**: id único para unir con hw\n",
    "* **nealias**: por definir\n",
    "* **updatedate**: por definir"
   ]
  },
  {
   "cell_type": "markdown",
   "metadata": {},
   "source": [
    "### 2. Descripción de las fuentes\n",
    "En este apartado se hará una descripción a detalle de el dataframe para una mejor comprensión de los datos. Por cada fuente se mostrarán los tipos de datos, tamaño de la fuente, es decir, su dimensionalidad y una estadística descriptiva, en ese orden."
   ]
  },
  {
   "cell_type": "code",
   "execution_count": 33,
   "metadata": {},
   "outputs": [
    {
     "name": "stdout",
     "output_type": "stream",
     "text": [
      "('Columnas de la fuente SOEM son: ', ['id_hw', 'serie', 'ne_id', 'address', 'ne_name', 'location_id', 'typeofswunit', 'swproductnumber', 'serie_cleaned'])\n"
     ]
    },
    {
     "data": {
      "text/html": [
       "<div>\n",
       "<style scoped>\n",
       "    .dataframe tbody tr th:only-of-type {\n",
       "        vertical-align: middle;\n",
       "    }\n",
       "\n",
       "    .dataframe tbody tr th {\n",
       "        vertical-align: top;\n",
       "    }\n",
       "\n",
       "    .dataframe thead th {\n",
       "        text-align: right;\n",
       "    }\n",
       "</style>\n",
       "<table border=\"1\" class=\"dataframe\">\n",
       "  <thead>\n",
       "    <tr style=\"text-align: right;\">\n",
       "      <th></th>\n",
       "      <th>Tipo de objeto SOEM</th>\n",
       "    </tr>\n",
       "  </thead>\n",
       "  <tbody>\n",
       "    <tr>\n",
       "      <th>id_hw</th>\n",
       "      <td>object</td>\n",
       "    </tr>\n",
       "    <tr>\n",
       "      <th>serie</th>\n",
       "      <td>object</td>\n",
       "    </tr>\n",
       "    <tr>\n",
       "      <th>ne_id</th>\n",
       "      <td>object</td>\n",
       "    </tr>\n",
       "    <tr>\n",
       "      <th>address</th>\n",
       "      <td>object</td>\n",
       "    </tr>\n",
       "    <tr>\n",
       "      <th>ne_name</th>\n",
       "      <td>object</td>\n",
       "    </tr>\n",
       "    <tr>\n",
       "      <th>location_id</th>\n",
       "      <td>object</td>\n",
       "    </tr>\n",
       "    <tr>\n",
       "      <th>typeofswunit</th>\n",
       "      <td>object</td>\n",
       "    </tr>\n",
       "    <tr>\n",
       "      <th>swproductnumber</th>\n",
       "      <td>object</td>\n",
       "    </tr>\n",
       "    <tr>\n",
       "      <th>serie_cleaned</th>\n",
       "      <td>int32</td>\n",
       "    </tr>\n",
       "  </tbody>\n",
       "</table>\n",
       "</div>"
      ],
      "text/plain": [
       "                Tipo de objeto SOEM\n",
       "id_hw                        object\n",
       "serie                        object\n",
       "ne_id                        object\n",
       "address                      object\n",
       "ne_name                      object\n",
       "location_id                  object\n",
       "typeofswunit                 object\n",
       "swproductnumber              object\n",
       "serie_cleaned                 int32"
      ]
     },
     "execution_count": 33,
     "metadata": {},
     "output_type": "execute_result"
    }
   ],
   "source": [
    "campos=df.columns\n",
    "print('Columnas de la fuente SOEM son: ',list(campos))\n",
    "pd.DataFrame(df.dtypes,columns=['Tipo de objeto SOEM'])"
   ]
  },
  {
   "cell_type": "code",
   "execution_count": 34,
   "metadata": {},
   "outputs": [
    {
     "name": "stdout",
     "output_type": "stream",
     "text": [
      "('renglones = ', 1318, ' columnas = ', 9)\n"
     ]
    }
   ],
   "source": [
    "print('renglones = ',df.shape[0],' columnas = ',df.shape[1])"
   ]
  },
  {
   "cell_type": "code",
   "execution_count": 80,
   "metadata": {},
   "outputs": [
    {
     "data": {
      "text/html": [
       "<div>\n",
       "<style scoped>\n",
       "    .dataframe tbody tr th:only-of-type {\n",
       "        vertical-align: middle;\n",
       "    }\n",
       "\n",
       "    .dataframe tbody tr th {\n",
       "        vertical-align: top;\n",
       "    }\n",
       "\n",
       "    .dataframe thead th {\n",
       "        text-align: right;\n",
       "    }\n",
       "</style>\n",
       "<table border=\"1\" class=\"dataframe\">\n",
       "  <thead>\n",
       "    <tr style=\"text-align: right;\">\n",
       "      <th></th>\n",
       "      <th>id_hw</th>\n",
       "      <th>serie</th>\n",
       "      <th>ne_id</th>\n",
       "      <th>address</th>\n",
       "      <th>ne_name</th>\n",
       "      <th>location_id</th>\n",
       "      <th>typeofswunit</th>\n",
       "      <th>swproductnumber</th>\n",
       "      <th>serie_cleaned</th>\n",
       "    </tr>\n",
       "  </thead>\n",
       "  <tbody>\n",
       "    <tr>\n",
       "      <th>count</th>\n",
       "      <td>1318</td>\n",
       "      <td>1286</td>\n",
       "      <td>1318</td>\n",
       "      <td>1318</td>\n",
       "      <td>1318</td>\n",
       "      <td>1318</td>\n",
       "      <td>1318</td>\n",
       "      <td>1286</td>\n",
       "      <td>1318.000000</td>\n",
       "    </tr>\n",
       "    <tr>\n",
       "      <th>unique</th>\n",
       "      <td>1318</td>\n",
       "      <td>1250</td>\n",
       "      <td>192</td>\n",
       "      <td>192</td>\n",
       "      <td>187</td>\n",
       "      <td>134</td>\n",
       "      <td>20</td>\n",
       "      <td>13</td>\n",
       "      <td>NaN</td>\n",
       "    </tr>\n",
       "    <tr>\n",
       "      <th>top</th>\n",
       "      <td>17032_1/3.1_R</td>\n",
       "      <td>CR9N280625</td>\n",
       "      <td>5664</td>\n",
       "      <td>10.245.225.2</td>\n",
       "      <td>MXHID9002MW05</td>\n",
       "      <td>TEXCOCO</td>\n",
       "      <td>MMU2 H</td>\n",
       "      <td>CXP 901 2878</td>\n",
       "      <td>NaN</td>\n",
       "    </tr>\n",
       "    <tr>\n",
       "      <th>freq</th>\n",
       "      <td>1</td>\n",
       "      <td>2</td>\n",
       "      <td>18</td>\n",
       "      <td>18</td>\n",
       "      <td>18</td>\n",
       "      <td>54</td>\n",
       "      <td>328</td>\n",
       "      <td>371</td>\n",
       "      <td>NaN</td>\n",
       "    </tr>\n",
       "    <tr>\n",
       "      <th>mean</th>\n",
       "      <td>NaN</td>\n",
       "      <td>NaN</td>\n",
       "      <td>NaN</td>\n",
       "      <td>NaN</td>\n",
       "      <td>NaN</td>\n",
       "      <td>NaN</td>\n",
       "      <td>NaN</td>\n",
       "      <td>NaN</td>\n",
       "      <td>0.000759</td>\n",
       "    </tr>\n",
       "    <tr>\n",
       "      <th>std</th>\n",
       "      <td>NaN</td>\n",
       "      <td>NaN</td>\n",
       "      <td>NaN</td>\n",
       "      <td>NaN</td>\n",
       "      <td>NaN</td>\n",
       "      <td>NaN</td>\n",
       "      <td>NaN</td>\n",
       "      <td>NaN</td>\n",
       "      <td>0.027545</td>\n",
       "    </tr>\n",
       "    <tr>\n",
       "      <th>min</th>\n",
       "      <td>NaN</td>\n",
       "      <td>NaN</td>\n",
       "      <td>NaN</td>\n",
       "      <td>NaN</td>\n",
       "      <td>NaN</td>\n",
       "      <td>NaN</td>\n",
       "      <td>NaN</td>\n",
       "      <td>NaN</td>\n",
       "      <td>0.000000</td>\n",
       "    </tr>\n",
       "    <tr>\n",
       "      <th>25%</th>\n",
       "      <td>NaN</td>\n",
       "      <td>NaN</td>\n",
       "      <td>NaN</td>\n",
       "      <td>NaN</td>\n",
       "      <td>NaN</td>\n",
       "      <td>NaN</td>\n",
       "      <td>NaN</td>\n",
       "      <td>NaN</td>\n",
       "      <td>0.000000</td>\n",
       "    </tr>\n",
       "    <tr>\n",
       "      <th>50%</th>\n",
       "      <td>NaN</td>\n",
       "      <td>NaN</td>\n",
       "      <td>NaN</td>\n",
       "      <td>NaN</td>\n",
       "      <td>NaN</td>\n",
       "      <td>NaN</td>\n",
       "      <td>NaN</td>\n",
       "      <td>NaN</td>\n",
       "      <td>0.000000</td>\n",
       "    </tr>\n",
       "    <tr>\n",
       "      <th>75%</th>\n",
       "      <td>NaN</td>\n",
       "      <td>NaN</td>\n",
       "      <td>NaN</td>\n",
       "      <td>NaN</td>\n",
       "      <td>NaN</td>\n",
       "      <td>NaN</td>\n",
       "      <td>NaN</td>\n",
       "      <td>NaN</td>\n",
       "      <td>0.000000</td>\n",
       "    </tr>\n",
       "    <tr>\n",
       "      <th>max</th>\n",
       "      <td>NaN</td>\n",
       "      <td>NaN</td>\n",
       "      <td>NaN</td>\n",
       "      <td>NaN</td>\n",
       "      <td>NaN</td>\n",
       "      <td>NaN</td>\n",
       "      <td>NaN</td>\n",
       "      <td>NaN</td>\n",
       "      <td>1.000000</td>\n",
       "    </tr>\n",
       "  </tbody>\n",
       "</table>\n",
       "</div>"
      ],
      "text/plain": [
       "                id_hw       serie ne_id       address        ne_name  \\\n",
       "count            1318        1286  1318          1318           1318   \n",
       "unique           1318        1250   192           192            187   \n",
       "top     17032_1/3.1_R  CR9N280625  5664  10.245.225.2  MXHID9002MW05   \n",
       "freq                1           2    18            18             18   \n",
       "mean              NaN         NaN   NaN           NaN            NaN   \n",
       "std               NaN         NaN   NaN           NaN            NaN   \n",
       "min               NaN         NaN   NaN           NaN            NaN   \n",
       "25%               NaN         NaN   NaN           NaN            NaN   \n",
       "50%               NaN         NaN   NaN           NaN            NaN   \n",
       "75%               NaN         NaN   NaN           NaN            NaN   \n",
       "max               NaN         NaN   NaN           NaN            NaN   \n",
       "\n",
       "       location_id typeofswunit swproductnumber  serie_cleaned  \n",
       "count         1318         1318            1286    1318.000000  \n",
       "unique         134           20              13            NaN  \n",
       "top        TEXCOCO       MMU2 H    CXP 901 2878            NaN  \n",
       "freq            54          328             371            NaN  \n",
       "mean           NaN          NaN             NaN       0.000759  \n",
       "std            NaN          NaN             NaN       0.027545  \n",
       "min            NaN          NaN             NaN       0.000000  \n",
       "25%            NaN          NaN             NaN       0.000000  \n",
       "50%            NaN          NaN             NaN       0.000000  \n",
       "75%            NaN          NaN             NaN       0.000000  \n",
       "max            NaN          NaN             NaN       1.000000  "
      ]
     },
     "execution_count": 80,
     "metadata": {},
     "output_type": "execute_result"
    }
   ],
   "source": [
    "df.describe(include='all')"
   ]
  },
  {
   "cell_type": "markdown",
   "metadata": {},
   "source": [
    "De la tabla podemos observar que el total de elementos que existen para la fuente son *1,318* registros.\n",
    "\n",
    "* **números de serie únicos**: 1,251\n",
    "* **números de serie duplicados**: 67"
   ]
  },
  {
   "cell_type": "markdown",
   "metadata": {},
   "source": [
    "#### Se proponen catálogos derivados de la fuente SOEM con los siguientes campos:\n",
    "    \n",
    "* **ne_name**: Código del sitio.\n",
    "* **location_id**: Identificador del sitio.  \n",
    "\n",
    "Estos catálogos nos ayudarán a complementar el catálogo ```inventario.raw_panda_location``` y a homologar los nombres y códigos que se tienen de los sitios y location.\n"
   ]
  },
  {
   "cell_type": "markdown",
   "metadata": {},
   "source": [
    "### 3. Exploración de los datos.\n",
    "De acuerdo al análisis anterior, procedemos a hacer una exploración de los datos con gráficas."
   ]
  },
  {
   "cell_type": "markdown",
   "metadata": {},
   "source": [
    "#### Para empezar, se hará una limpieza general a los datos:"
   ]
  },
  {
   "cell_type": "code",
   "execution_count": 76,
   "metadata": {},
   "outputs": [],
   "source": [
    "df.replace('null',np.NaN,inplace=True)\n",
    "df.replace('NA',np.NaN,inplace=True)\n",
    "df.replace('UNKNOWN',np.NaN,inplace=True)"
   ]
  },
  {
   "cell_type": "markdown",
   "metadata": {},
   "source": [
    "### Catálogo Location"
   ]
  },
  {
   "cell_type": "markdown",
   "metadata": {},
   "source": [
    "Empezaremos con el catálogo de **location_id**. Se hará una revisión de frecuencias de datos y se mostrará en  diferentes tipos de gráficas para su visualización. Este catálogo será llamado después en el apartado de catálogos, nuestra intención por el momento es simplemente explorar los datos."
   ]
  },
  {
   "cell_type": "code",
   "execution_count": null,
   "metadata": {},
   "outputs": [],
   "source": [
    "location_id=pd.DataFrame(df.location_id.value_counts()[:10])"
   ]
  },
  {
   "cell_type": "code",
   "execution_count": 40,
   "metadata": {},
   "outputs": [
    {
     "data": {
      "image/png": "[encoded data removed]",
      "text/plain": [
       "<Figure size 1080x576 with 2 Axes>"
      ]
     },
     "metadata": {
      "needs_background": "light"
     },
     "output_type": "display_data"
    }
   ],
   "source": [
    "#Revisamos frecuencias:\n",
    "location=pd.DataFrame(df.location_id.value_counts()[:10])\n",
    "\n",
    "#Visualización:\n",
    "fig=plt.figure()\n",
    "ax0=fig.add_subplot(1,2,1)\n",
    "ax1=fig.add_subplot(1,2,2)\n",
    "\n",
    "#Subplot1: Bar chart\n",
    "location.plot(kind='bar',figsize=(10,6),colormap='rainbow_r',ax=ax0)\n",
    "ax0.set_xlabel(u'location_id')\n",
    "ax0.set_ylabel('Frecuencia')\n",
    "ax0.set_title(u'Frecuencia de Locations')\n",
    "\n",
    "#Subplot2: Pie chart\n",
    "#La lista explode debe ser ajustada manualmente contra el número de elementos del catálogo\n",
    "explode_list=[0,0,0,0,0,0,0,0,0,0] #Cada entrada corresponde a un registro del catálogo\n",
    "\n",
    "color_list=['royalblue','lightcoral','springgreen','powderblue','oldlace','palegoldenrod',\n",
    "            'peachpuff','rebeccapurple','tomato','slateblue']\n",
    "\n",
    "location['location_id'].plot(kind='pie',         \n",
    "                    figsize=(15,8),\n",
    "                    autopct='%1.1f%%',\n",
    "                    startangle=90,\n",
    "                    shadow=True,\n",
    "                    labels=None,\n",
    "                    pctdistance=1.14,\n",
    "                    colors=color_list,\n",
    "                               ax=ax1,\n",
    "                    explode=explode_list)\n",
    "ax1.set_title(u'Frecuencia de Locations',y=1.12)\n",
    "ax1.axis('equal')\n",
    "ax1.legend(labels=location.index,loc='upper left')\n",
    "\n",
    "plt.show()"
   ]
  },
  {
   "cell_type": "markdown",
   "metadata": {},
   "source": [
    "Podemos observar que el locatio con mas frecuencia es Texcoco con un **21.4%** de frecuencia en la fuente."
   ]
  },
  {
   "cell_type": "markdown",
   "metadata": {},
   "source": [
    "#### Visualización de los datos de trazabilidad: "
   ]
  },
  {
   "cell_type": "code",
   "execution_count": 81,
   "metadata": {},
   "outputs": [
    {
     "data": {
      "text/html": [
       "<div>\n",
       "<style scoped>\n",
       "    .dataframe tbody tr th:only-of-type {\n",
       "        vertical-align: middle;\n",
       "    }\n",
       "\n",
       "    .dataframe tbody tr th {\n",
       "        vertical-align: top;\n",
       "    }\n",
       "\n",
       "    .dataframe thead th {\n",
       "        text-align: right;\n",
       "    }\n",
       "</style>\n",
       "<table border=\"1\" class=\"dataframe\">\n",
       "  <thead>\n",
       "    <tr style=\"text-align: right;\">\n",
       "      <th></th>\n",
       "      <th>serie</th>\n",
       "    </tr>\n",
       "  </thead>\n",
       "  <tbody>\n",
       "    <tr>\n",
       "      <th>CR9N280625</th>\n",
       "      <td>2</td>\n",
       "    </tr>\n",
       "    <tr>\n",
       "      <th>CR9N285918</th>\n",
       "      <td>2</td>\n",
       "    </tr>\n",
       "    <tr>\n",
       "      <th>CR9M954394</th>\n",
       "      <td>2</td>\n",
       "    </tr>\n",
       "    <tr>\n",
       "      <th>CR9M935934</th>\n",
       "      <td>2</td>\n",
       "    </tr>\n",
       "    <tr>\n",
       "      <th>CR9P377329</th>\n",
       "      <td>2</td>\n",
       "    </tr>\n",
       "    <tr>\n",
       "      <th>CR9K968705</th>\n",
       "      <td>2</td>\n",
       "    </tr>\n",
       "    <tr>\n",
       "      <th>CR9N280632</th>\n",
       "      <td>2</td>\n",
       "    </tr>\n",
       "    <tr>\n",
       "      <th>CR9N026545</th>\n",
       "      <td>2</td>\n",
       "    </tr>\n",
       "    <tr>\n",
       "      <th>CR9N157637</th>\n",
       "      <td>2</td>\n",
       "    </tr>\n",
       "    <tr>\n",
       "      <th>CR9L847073</th>\n",
       "      <td>2</td>\n",
       "    </tr>\n",
       "    <tr>\n",
       "      <th>CR9M935936</th>\n",
       "      <td>2</td>\n",
       "    </tr>\n",
       "    <tr>\n",
       "      <th>CR9M729732</th>\n",
       "      <td>2</td>\n",
       "    </tr>\n",
       "    <tr>\n",
       "      <th>CR9N280469</th>\n",
       "      <td>2</td>\n",
       "    </tr>\n",
       "    <tr>\n",
       "      <th>CR9P377335</th>\n",
       "      <td>2</td>\n",
       "    </tr>\n",
       "    <tr>\n",
       "      <th>CR9P548015</th>\n",
       "      <td>2</td>\n",
       "    </tr>\n",
       "  </tbody>\n",
       "</table>\n",
       "</div>"
      ],
      "text/plain": [
       "            serie\n",
       "CR9N280625      2\n",
       "CR9N285918      2\n",
       "CR9M954394      2\n",
       "CR9M935934      2\n",
       "CR9P377329      2\n",
       "CR9K968705      2\n",
       "CR9N280632      2\n",
       "CR9N026545      2\n",
       "CR9N157637      2\n",
       "CR9L847073      2\n",
       "CR9M935936      2\n",
       "CR9M729732      2\n",
       "CR9N280469      2\n",
       "CR9P377335      2\n",
       "CR9P548015      2"
      ]
     },
     "execution_count": 81,
     "metadata": {},
     "output_type": "execute_result"
    }
   ],
   "source": [
    "pd.DataFrame(df.serie.value_counts()[:15])"
   ]
  },
  {
   "cell_type": "markdown",
   "metadata": {},
   "source": [
    "#### Es de interés haber observado los datos que se usaran para la trazabilidad, NOTAS OBSERVABLES. \n",
    "* Activo: no hay en la fuente de SOEM un campo activo.\n",
    "* Serie: existen números de serie duplicados y vacíos."
   ]
  },
  {
   "cell_type": "markdown",
   "metadata": {},
   "source": [
    "### 4. Calidad de los datos\n",
    "Se documentará la calidad de los datos y analizará las variables que necesitan tratamiento con la ayuda de visualizaciones y tablas."
   ]
  },
  {
   "cell_type": "markdown",
   "metadata": {},
   "source": [
    "### Missings Values\n",
    "Los missings values son los valores faltantes en el conjunto de datos que se refieren a aquellos campos que están vacíos o no tienen valores asignados, estos generalmente ocurren debido a errores de entrada de datos, fallas que ocurren con los procesos de recopilación de datos y, a menudo, al unir varias columnas de diferentes tablas encontramos una condición que conduce a valores faltantes. Existen numerosas formas de tratar los valores perdidos, los más fáciles son reemplazar el valor perdido con la media, la mediana, la moda o un valor constante (llegamos a un valor basado en el conocimiento del dominio) y otra alternativa es eliminar la entrada desde el conjunto de datos en sí."
   ]
  },
  {
   "cell_type": "markdown",
   "metadata": {},
   "source": [
    "Calculamos el porcentaje de NA's que tiene la fuente por columna y el porcentaje de los missings."
   ]
  },
  {
   "cell_type": "code",
   "execution_count": 84,
   "metadata": {},
   "outputs": [
    {
     "data": {
      "text/html": [
       "\n",
       "\n",
       "\n",
       "\n",
       "\n",
       "\n",
       "  <div class=\"bk-root\" id=\"dfb35563-4630-4b86-8110-395a7db3f579\"></div>\n"
      ]
     },
     "metadata": {},
     "output_type": "display_data"
    },
    {
     "data": {
      "application/javascript": [
       "(function(root) {\n",
       "  function embed_document(root) {\n",
       "    \n",
       "  var docs_json = {\"4812de1e-f165-41a2-b120-b15b53ebca5c\":{\"roots\":{\"references\":[{\"attributes\":{},\"id\":\"7c36c622-1a14-4a65-ac20-a2bd196fe3a6\",\"type\":\"UnionRenderers\"},{\"attributes\":{\"plot\":null,\"text\":\"Porcentaje de nas por columna\"},\"id\":\"04947807-8858-4798-b064-92a93b83ad55\",\"type\":\"Title\"},{\"attributes\":{\"fill_color\":{\"field\":\"color\"},\"line_color\":{\"field\":\"color\"},\"top\":{\"field\":\"counts_nas\"},\"width\":{\"value\":0.7},\"x\":{\"field\":\"columnas\"}},\"id\":\"7dadbf3f-e510-453d-b268-224fe0dc4bc1\",\"type\":\"VBar\"},{\"attributes\":{},\"id\":\"eaa6ed03-ac98-4a58-b4ee-ed78e33d5cb3\",\"type\":\"BasicTicker\"},{\"attributes\":{},\"id\":\"f2ef37a1-ce22-4802-b5e8-d2ba655c623a\",\"type\":\"ResetTool\"},{\"attributes\":{},\"id\":\"1e7807ab-1a3c-4975-9085-26d5b81a59f8\",\"type\":\"CategoricalTickFormatter\"},{\"attributes\":{\"active_drag\":\"auto\",\"active_inspect\":\"auto\",\"active_multi\":null,\"active_scroll\":\"auto\",\"active_tap\":\"auto\",\"tools\":[{\"id\":\"2f03eaad-398e-4fa6-bfe6-757e2f19ff62\",\"type\":\"PanTool\"},{\"id\":\"1e6cb735-9a99-47b7-9f61-3ba10f09ea28\",\"type\":\"WheelZoomTool\"},{\"id\":\"0cd09751-3a2c-43ab-88d0-c27dff3ba92e\",\"type\":\"BoxZoomTool\"},{\"id\":\"502b1aef-52a9-4369-bd91-9aded5856c83\",\"type\":\"SaveTool\"},{\"id\":\"f2ef37a1-ce22-4802-b5e8-d2ba655c623a\",\"type\":\"ResetTool\"},{\"id\":\"0916e416-d8bc-4282-a02b-c3be65fa3034\",\"type\":\"HelpTool\"}]},\"id\":\"c5b1a595-48b3-484d-a003-9a8eb478ffdd\",\"type\":\"Toolbar\"},{\"attributes\":{},\"id\":\"dee7face-74ba-44a2-a54c-be7d4eb92de5\",\"type\":\"Selection\"},{\"attributes\":{\"items\":[{\"id\":\"ed4da917-6341-421c-b1ab-1d3497fa66e2\",\"type\":\"LegendItem\"}],\"location\":\"top_center\",\"orientation\":\"horizontal\",\"plot\":{\"id\":\"b0db2e4f-f939-4d7c-a891-eb23dcd81ce7\",\"subtype\":\"Figure\",\"type\":\"Plot\"}},\"id\":\"d35ef63b-0258-4a1b-b1d8-bcd66ab1d168\",\"type\":\"Legend\"},{\"attributes\":{},\"id\":\"1e6cb735-9a99-47b7-9f61-3ba10f09ea28\",\"type\":\"WheelZoomTool\"},{\"attributes\":{\"below\":[{\"id\":\"77da597e-7da4-42bf-850f-d62e0af5c0d2\",\"type\":\"CategoricalAxis\"}],\"left\":[{\"id\":\"e30369fc-e204-44f1-9870-03ebea777ade\",\"type\":\"LinearAxis\"}],\"plot_height\":300,\"plot_width\":850,\"renderers\":[{\"id\":\"77da597e-7da4-42bf-850f-d62e0af5c0d2\",\"type\":\"CategoricalAxis\"},{\"id\":\"f0b65043-3b44-4b3b-9de5-901f9690624d\",\"type\":\"Grid\"},{\"id\":\"e30369fc-e204-44f1-9870-03ebea777ade\",\"type\":\"LinearAxis\"},{\"id\":\"ae39a001-0730-4d74-b1e5-cdb2572c2f5f\",\"type\":\"Grid\"},{\"id\":\"e8902335-4d9a-4a2e-a6c1-d47ae1fb8686\",\"type\":\"BoxAnnotation\"},{\"id\":\"d35ef63b-0258-4a1b-b1d8-bcd66ab1d168\",\"type\":\"Legend\"},{\"id\":\"8e7bda74-05ff-41bb-b9df-70cb185ebcb4\",\"type\":\"GlyphRenderer\"}],\"title\":{\"id\":\"04947807-8858-4798-b064-92a93b83ad55\",\"type\":\"Title\"},\"toolbar\":{\"id\":\"c5b1a595-48b3-484d-a003-9a8eb478ffdd\",\"type\":\"Toolbar\"},\"x_range\":{\"id\":\"409b00f4-f9e8-4f25-b0e1-90e4a5978710\",\"type\":\"FactorRange\"},\"x_scale\":{\"id\":\"985dea67-5183-418a-b35e-4e1e71abd314\",\"type\":\"CategoricalScale\"},\"y_range\":{\"id\":\"5709df2d-9434-4939-9da7-301f0d401147\",\"type\":\"Range1d\"},\"y_scale\":{\"id\":\"3724a485-0cef-4820-81cc-5447fc69dcb6\",\"type\":\"LinearScale\"}},\"id\":\"b0db2e4f-f939-4d7c-a891-eb23dcd81ce7\",\"subtype\":\"Figure\",\"type\":\"Plot\"},{\"attributes\":{\"fill_alpha\":{\"value\":0.1},\"fill_color\":{\"value\":\"#1f77b4\"},\"line_alpha\":{\"value\":0.1},\"line_color\":{\"value\":\"#1f77b4\"},\"top\":{\"field\":\"counts_nas\"},\"width\":{\"value\":0.7},\"x\":{\"field\":\"columnas\"}},\"id\":\"aed3f586-754a-4c30-a5de-a65bfb7d096c\",\"type\":\"VBar\"},{\"attributes\":{\"formatter\":{\"id\":\"dd43d102-2f2c-4ae3-b8a9-d466713f4327\",\"type\":\"BasicTickFormatter\"},\"plot\":{\"id\":\"b0db2e4f-f939-4d7c-a891-eb23dcd81ce7\",\"subtype\":\"Figure\",\"type\":\"Plot\"},\"ticker\":{\"id\":\"eaa6ed03-ac98-4a58-b4ee-ed78e33d5cb3\",\"type\":\"BasicTicker\"}},\"id\":\"e30369fc-e204-44f1-9870-03ebea777ade\",\"type\":\"LinearAxis\"},{\"attributes\":{},\"id\":\"2f03eaad-398e-4fa6-bfe6-757e2f19ff62\",\"type\":\"PanTool\"},{\"attributes\":{\"formatter\":{\"id\":\"1e7807ab-1a3c-4975-9085-26d5b81a59f8\",\"type\":\"CategoricalTickFormatter\"},\"plot\":{\"id\":\"b0db2e4f-f939-4d7c-a891-eb23dcd81ce7\",\"subtype\":\"Figure\",\"type\":\"Plot\"},\"ticker\":{\"id\":\"e9e0edd9-7fbd-4afa-8121-94d28143b456\",\"type\":\"CategoricalTicker\"}},\"id\":\"77da597e-7da4-42bf-850f-d62e0af5c0d2\",\"type\":\"CategoricalAxis\"},{\"attributes\":{\"callback\":null,\"data\":{\"color\":[\"#3182bd\",\"#6baed6\",\"#9ecae1\",\"#c6dbef\",\"#e6550d\",\"#fd8d3c\",\"#fdae6b\",\"#fdd0a2\",\"#31a354\"],\"columnas\":[\"id_hw\",\"serie\",\"ne_id\",\"address\",\"ne_name\",\"location_id\",\"typeofswunit\",\"swproductnumber\",\"serie_cleaned\"],\"counts_nas\":[0.0,0.024279210925644917,0.0,0.0,0.0,0.0,0.0,0.024279210925644917,0.0]},\"selected\":{\"id\":\"dee7face-74ba-44a2-a54c-be7d4eb92de5\",\"type\":\"Selection\"},\"selection_policy\":{\"id\":\"7c36c622-1a14-4a65-ac20-a2bd196fe3a6\",\"type\":\"UnionRenderers\"}},\"id\":\"66f21458-f78e-4913-af60-4f7016f06e6f\",\"type\":\"ColumnDataSource\"},{\"attributes\":{},\"id\":\"e9e0edd9-7fbd-4afa-8121-94d28143b456\",\"type\":\"CategoricalTicker\"},{\"attributes\":{\"bottom_units\":\"screen\",\"fill_alpha\":{\"value\":0.5},\"fill_color\":{\"value\":\"lightgrey\"},\"left_units\":\"screen\",\"level\":\"overlay\",\"line_alpha\":{\"value\":1.0},\"line_color\":{\"value\":\"black\"},\"line_dash\":[4,4],\"line_width\":{\"value\":2},\"plot\":null,\"render_mode\":\"css\",\"right_units\":\"screen\",\"top_units\":\"screen\"},\"id\":\"e8902335-4d9a-4a2e-a6c1-d47ae1fb8686\",\"type\":\"BoxAnnotation\"},{\"attributes\":{\"callback\":null,\"factors\":[\"id_hw\",\"serie\",\"ne_id\",\"address\",\"ne_name\",\"location_id\",\"typeofswunit\",\"swproductnumber\",\"serie_cleaned\"]},\"id\":\"409b00f4-f9e8-4f25-b0e1-90e4a5978710\",\"type\":\"FactorRange\"},{\"attributes\":{\"dimension\":1,\"plot\":{\"id\":\"b0db2e4f-f939-4d7c-a891-eb23dcd81ce7\",\"subtype\":\"Figure\",\"type\":\"Plot\"},\"ticker\":{\"id\":\"eaa6ed03-ac98-4a58-b4ee-ed78e33d5cb3\",\"type\":\"BasicTicker\"}},\"id\":\"ae39a001-0730-4d74-b1e5-cdb2572c2f5f\",\"type\":\"Grid\"},{\"attributes\":{},\"id\":\"3724a485-0cef-4820-81cc-5447fc69dcb6\",\"type\":\"LinearScale\"},{\"attributes\":{\"label\":{\"field\":\"columnas\"},\"renderers\":[{\"id\":\"8e7bda74-05ff-41bb-b9df-70cb185ebcb4\",\"type\":\"GlyphRenderer\"}]},\"id\":\"ed4da917-6341-421c-b1ab-1d3497fa66e2\",\"type\":\"LegendItem\"},{\"attributes\":{},\"id\":\"985dea67-5183-418a-b35e-4e1e71abd314\",\"type\":\"CategoricalScale\"},{\"attributes\":{\"callback\":null},\"id\":\"5709df2d-9434-4939-9da7-301f0d401147\",\"type\":\"Range1d\"},{\"attributes\":{},\"id\":\"dd43d102-2f2c-4ae3-b8a9-d466713f4327\",\"type\":\"BasicTickFormatter\"},{\"attributes\":{},\"id\":\"0916e416-d8bc-4282-a02b-c3be65fa3034\",\"type\":\"HelpTool\"},{\"attributes\":{\"overlay\":{\"id\":\"e8902335-4d9a-4a2e-a6c1-d47ae1fb8686\",\"type\":\"BoxAnnotation\"}},\"id\":\"0cd09751-3a2c-43ab-88d0-c27dff3ba92e\",\"type\":\"BoxZoomTool\"},{\"attributes\":{\"data_source\":{\"id\":\"66f21458-f78e-4913-af60-4f7016f06e6f\",\"type\":\"ColumnDataSource\"},\"glyph\":{\"id\":\"7dadbf3f-e510-453d-b268-224fe0dc4bc1\",\"type\":\"VBar\"},\"hover_glyph\":null,\"muted_glyph\":null,\"nonselection_glyph\":{\"id\":\"aed3f586-754a-4c30-a5de-a65bfb7d096c\",\"type\":\"VBar\"},\"selection_glyph\":null,\"view\":{\"id\":\"4ff303f8-01b3-4674-a08e-9ca93ed291d1\",\"type\":\"CDSView\"}},\"id\":\"8e7bda74-05ff-41bb-b9df-70cb185ebcb4\",\"type\":\"GlyphRenderer\"},{\"attributes\":{\"grid_line_color\":{\"value\":null},\"plot\":{\"id\":\"b0db2e4f-f939-4d7c-a891-eb23dcd81ce7\",\"subtype\":\"Figure\",\"type\":\"Plot\"},\"ticker\":{\"id\":\"e9e0edd9-7fbd-4afa-8121-94d28143b456\",\"type\":\"CategoricalTicker\"}},\"id\":\"f0b65043-3b44-4b3b-9de5-901f9690624d\",\"type\":\"Grid\"},{\"attributes\":{},\"id\":\"502b1aef-52a9-4369-bd91-9aded5856c83\",\"type\":\"SaveTool\"},{\"attributes\":{\"source\":{\"id\":\"66f21458-f78e-4913-af60-4f7016f06e6f\",\"type\":\"ColumnDataSource\"}},\"id\":\"4ff303f8-01b3-4674-a08e-9ca93ed291d1\",\"type\":\"CDSView\"}],\"root_ids\":[\"b0db2e4f-f939-4d7c-a891-eb23dcd81ce7\"]},\"title\":\"Bokeh Application\",\"version\":\"0.13.0\"}};\n",
       "  var render_items = [{\"docid\":\"4812de1e-f165-41a2-b120-b15b53ebca5c\",\"roots\":{\"b0db2e4f-f939-4d7c-a891-eb23dcd81ce7\":\"dfb35563-4630-4b86-8110-395a7db3f579\"}}];\n",
       "  root.Bokeh.embed.embed_items_notebook(docs_json, render_items);\n",
       "\n",
       "  }\n",
       "  if (root.Bokeh !== undefined) {\n",
       "    embed_document(root);\n",
       "  } else {\n",
       "    var attempts = 0;\n",
       "    var timer = setInterval(function(root) {\n",
       "      if (root.Bokeh !== undefined) {\n",
       "        embed_document(root);\n",
       "        clearInterval(timer);\n",
       "      }\n",
       "      attempts++;\n",
       "      if (attempts > 100) {\n",
       "        console.log(\"Bokeh: ERROR: Unable to run BokehJS code because BokehJS library is missing\")\n",
       "        clearInterval(timer);\n",
       "      }\n",
       "    }, 10, root)\n",
       "  }\n",
       "})(window);"
      ],
      "application/vnd.bokehjs_exec.v0+json": ""
     },
     "metadata": {
      "application/vnd.bokehjs_exec.v0+json": {
       "id": "b0db2e4f-f939-4d7c-a891-eb23dcd81ce7"
      }
     },
     "output_type": "display_data"
    },
    {
     "data": {
      "text/html": [
       "<div>\n",
       "<style scoped>\n",
       "    .dataframe tbody tr th:only-of-type {\n",
       "        vertical-align: middle;\n",
       "    }\n",
       "\n",
       "    .dataframe tbody tr th {\n",
       "        vertical-align: top;\n",
       "    }\n",
       "\n",
       "    .dataframe thead th {\n",
       "        text-align: right;\n",
       "    }\n",
       "</style>\n",
       "<table border=\"1\" class=\"dataframe\">\n",
       "  <thead>\n",
       "    <tr style=\"text-align: right;\">\n",
       "      <th></th>\n",
       "      <th>Porcentaje de NAs</th>\n",
       "    </tr>\n",
       "  </thead>\n",
       "  <tbody>\n",
       "    <tr>\n",
       "      <th>id_hw</th>\n",
       "      <td>0.000000</td>\n",
       "    </tr>\n",
       "    <tr>\n",
       "      <th>serie</th>\n",
       "      <td>2.427921</td>\n",
       "    </tr>\n",
       "    <tr>\n",
       "      <th>ne_id</th>\n",
       "      <td>0.000000</td>\n",
       "    </tr>\n",
       "    <tr>\n",
       "      <th>address</th>\n",
       "      <td>0.000000</td>\n",
       "    </tr>\n",
       "    <tr>\n",
       "      <th>ne_name</th>\n",
       "      <td>0.000000</td>\n",
       "    </tr>\n",
       "    <tr>\n",
       "      <th>location_id</th>\n",
       "      <td>0.000000</td>\n",
       "    </tr>\n",
       "    <tr>\n",
       "      <th>typeofswunit</th>\n",
       "      <td>0.000000</td>\n",
       "    </tr>\n",
       "    <tr>\n",
       "      <th>swproductnumber</th>\n",
       "      <td>2.427921</td>\n",
       "    </tr>\n",
       "    <tr>\n",
       "      <th>serie_cleaned</th>\n",
       "      <td>0.000000</td>\n",
       "    </tr>\n",
       "  </tbody>\n",
       "</table>\n",
       "</div>"
      ],
      "text/plain": [
       "                 Porcentaje de NAs\n",
       "id_hw                     0.000000\n",
       "serie                     2.427921\n",
       "ne_id                     0.000000\n",
       "address                   0.000000\n",
       "ne_name                   0.000000\n",
       "location_id               0.000000\n",
       "typeofswunit              0.000000\n",
       "swproductnumber           2.427921\n",
       "serie_cleaned             0.000000"
      ]
     },
     "execution_count": 84,
     "metadata": {},
     "output_type": "execute_result"
    }
   ],
   "source": [
    "nas=df.isna().sum()\n",
    "porcentaje_nas=nas/df.isna().count()\n",
    "\n",
    "columnas=list(porcentaje_nas.keys())\n",
    "counts_nas=list(porcentaje_nas.values)\n",
    "\n",
    "#Para el siguiente comando, en el parámetro \"color\":\n",
    "#Dependiendo el número de columnas se escoge un pallete, este debe ser cargado en la sección de librerías,\n",
    "#Sólo se añade a la parte from bokeh.palettes import Category20c_20  colocando una \",\"\n",
    "#http://docs.bokeh.org/en/1.3.2/docs/reference/palettes.html\n",
    "#Se recomienda no poner más de 20 columnas. \n",
    "source=ColumnDataSource(dict(columnas=columnas, counts_nas=counts_nas, color=Category20c_9))\n",
    "\n",
    "p=figure(x_range=columnas, plot_height=300, plot_width=850, y_range=(0,1), title='Porcentaje de nas por columna')\n",
    "p.vbar(x='columnas',top='counts_nas',width=.7, color='color', legend='columnas', source=source)\n",
    "\n",
    "p.xgrid.grid_line_color = None\n",
    "p.legend.orientation = \"horizontal\"\n",
    "p.legend.location = \"top_center\"\n",
    "\n",
    "show(p)\n",
    "pd.DataFrame(porcentaje_nas*100,columns=['Porcentaje de NAs'])"
   ]
  },
  {
   "cell_type": "markdown",
   "metadata": {},
   "source": [
    "#### Visualización de datos NOT NULL: "
   ]
  },
  {
   "cell_type": "code",
   "execution_count": 86,
   "metadata": {},
   "outputs": [
    {
     "data": {
      "text/html": [
       "\n",
       "\n",
       "\n",
       "\n",
       "\n",
       "\n",
       "  <div class=\"bk-root\" id=\"40fd5de4-2d9c-4dcd-8351-e59816beddd7\"></div>\n"
      ]
     },
     "metadata": {},
     "output_type": "display_data"
    },
    {
     "data": {
      "application/javascript": [
       "(function(root) {\n",
       "  function embed_document(root) {\n",
       "    \n",
       "  var docs_json = {\"cd44be7a-d5bd-4ba0-8df5-b083aa12830e\":{\"roots\":{\"references\":[{\"attributes\":{},\"id\":\"6fc57d86-02db-4890-acf1-fee81ed33424\",\"type\":\"CategoricalTickFormatter\"},{\"attributes\":{},\"id\":\"c3a579f1-1bbc-4e12-855b-7cbe22381c9d\",\"type\":\"PanTool\"},{\"attributes\":{\"source\":{\"id\":\"a63e5658-ea3b-44d8-8d3e-96b3d12a76e1\",\"type\":\"ColumnDataSource\"}},\"id\":\"8f476eff-f2a1-40e1-bc4b-37accd3ffd69\",\"type\":\"CDSView\"},{\"attributes\":{},\"id\":\"bdbd359d-0532-4d22-b746-78925118eaaa\",\"type\":\"CategoricalTicker\"},{\"attributes\":{\"label\":{\"field\":\"columnas\"},\"renderers\":[{\"id\":\"9b4b5687-141c-4739-873a-84b77a92ad02\",\"type\":\"GlyphRenderer\"}]},\"id\":\"cf96bfc3-9c37-4728-964f-305d425eda72\",\"type\":\"LegendItem\"},{\"attributes\":{},\"id\":\"f6b08ad4-e509-42d7-b228-f9a6f19ccfb2\",\"type\":\"CategoricalScale\"},{\"attributes\":{\"plot\":null,\"text\":\"Porcentaje de not-nulls por columna\"},\"id\":\"a0ee7347-20fd-4c2f-98fe-965db19c3880\",\"type\":\"Title\"},{\"attributes\":{},\"id\":\"3a600755-1e1d-4536-b53a-0d1808aeb3dc\",\"type\":\"BasicTicker\"},{\"attributes\":{},\"id\":\"00757c58-a94c-4528-90e4-d65b1b51090d\",\"type\":\"UnionRenderers\"},{\"attributes\":{\"formatter\":{\"id\":\"6fc57d86-02db-4890-acf1-fee81ed33424\",\"type\":\"CategoricalTickFormatter\"},\"plot\":{\"id\":\"7e1ee995-ad8a-4fb1-ae5f-069f1b007528\",\"subtype\":\"Figure\",\"type\":\"Plot\"},\"ticker\":{\"id\":\"bdbd359d-0532-4d22-b746-78925118eaaa\",\"type\":\"CategoricalTicker\"}},\"id\":\"f350ee15-3e1a-454a-81a2-1da09813816b\",\"type\":\"CategoricalAxis\"},{\"attributes\":{\"grid_line_color\":{\"value\":null},\"plot\":{\"id\":\"7e1ee995-ad8a-4fb1-ae5f-069f1b007528\",\"subtype\":\"Figure\",\"type\":\"Plot\"},\"ticker\":{\"id\":\"bdbd359d-0532-4d22-b746-78925118eaaa\",\"type\":\"CategoricalTicker\"}},\"id\":\"06b9a5fd-45fb-4e3b-8d68-019b1ac4fb42\",\"type\":\"Grid\"},{\"attributes\":{\"formatter\":{\"id\":\"7a978750-3396-4fed-88bc-0eb20a600360\",\"type\":\"BasicTickFormatter\"},\"plot\":{\"id\":\"7e1ee995-ad8a-4fb1-ae5f-069f1b007528\",\"subtype\":\"Figure\",\"type\":\"Plot\"},\"ticker\":{\"id\":\"3a600755-1e1d-4536-b53a-0d1808aeb3dc\",\"type\":\"BasicTicker\"}},\"id\":\"eff50f00-6bee-454b-87d9-ad5b7badde23\",\"type\":\"LinearAxis\"},{\"attributes\":{},\"id\":\"40a1a966-bf07-4c00-a9f1-60eb6873d81f\",\"type\":\"LinearScale\"},{\"attributes\":{\"dimension\":1,\"plot\":{\"id\":\"7e1ee995-ad8a-4fb1-ae5f-069f1b007528\",\"subtype\":\"Figure\",\"type\":\"Plot\"},\"ticker\":{\"id\":\"3a600755-1e1d-4536-b53a-0d1808aeb3dc\",\"type\":\"BasicTicker\"}},\"id\":\"ee91233b-1048-4cd9-87b5-72f4b5bc37b2\",\"type\":\"Grid\"},{\"attributes\":{},\"id\":\"67f09f59-258b-41b6-a5d2-b6a1bfa4bff1\",\"type\":\"SaveTool\"},{\"attributes\":{},\"id\":\"b7249e29-acb3-498b-b1f1-4d22b740cf85\",\"type\":\"WheelZoomTool\"},{\"attributes\":{\"callback\":null,\"end\":100},\"id\":\"44f2e005-0e3d-409b-836d-d58e6618c7b0\",\"type\":\"Range1d\"},{\"attributes\":{\"callback\":null,\"data\":{\"color\":[\"#3182bd\",\"#6baed6\",\"#9ecae1\",\"#c6dbef\",\"#e6550d\",\"#fd8d3c\",\"#fdae6b\",\"#fdd0a2\",\"#31a354\"],\"columnas\":[\"id_hw\",\"serie\",\"ne_id\",\"address\",\"ne_name\",\"location_id\",\"typeofswunit\",\"swproductnumber\",\"serie_cleaned\"],\"counts_nas\":[100.0,97.57207890743551,100.0,100.0,100.0,100.0,100.0,97.57207890743551,100.0]},\"selected\":{\"id\":\"3e4521b1-8da6-4383-b424-368f20edd0e1\",\"type\":\"Selection\"},\"selection_policy\":{\"id\":\"00757c58-a94c-4528-90e4-d65b1b51090d\",\"type\":\"UnionRenderers\"}},\"id\":\"a63e5658-ea3b-44d8-8d3e-96b3d12a76e1\",\"type\":\"ColumnDataSource\"},{\"attributes\":{\"fill_color\":{\"field\":\"color\"},\"line_color\":{\"field\":\"color\"},\"top\":{\"field\":\"counts_nas\"},\"width\":{\"value\":0.5},\"x\":{\"field\":\"columnas\"}},\"id\":\"181a5817-7857-4dba-a90d-958463390b37\",\"type\":\"VBar\"},{\"attributes\":{},\"id\":\"7a978750-3396-4fed-88bc-0eb20a600360\",\"type\":\"BasicTickFormatter\"},{\"attributes\":{},\"id\":\"3e4521b1-8da6-4383-b424-368f20edd0e1\",\"type\":\"Selection\"},{\"attributes\":{\"overlay\":{\"id\":\"120bb2a3-6c6c-471e-8270-fa5a6ccdf860\",\"type\":\"BoxAnnotation\"}},\"id\":\"b8f2b90e-8bf5-477e-8757-a4e17ca8df75\",\"type\":\"BoxZoomTool\"},{\"attributes\":{},\"id\":\"1846f580-01cf-455e-8063-0d2a88536cbb\",\"type\":\"HelpTool\"},{\"attributes\":{\"callback\":null,\"factors\":[\"id_hw\",\"serie\",\"ne_id\",\"address\",\"ne_name\",\"location_id\",\"typeofswunit\",\"swproductnumber\",\"serie_cleaned\"]},\"id\":\"ee7fdc70-e194-4bf9-88d9-330b89fb7aba\",\"type\":\"FactorRange\"},{\"attributes\":{\"data_source\":{\"id\":\"a63e5658-ea3b-44d8-8d3e-96b3d12a76e1\",\"type\":\"ColumnDataSource\"},\"glyph\":{\"id\":\"181a5817-7857-4dba-a90d-958463390b37\",\"type\":\"VBar\"},\"hover_glyph\":null,\"muted_glyph\":null,\"nonselection_glyph\":{\"id\":\"477fec82-65c7-4334-bd37-cbd0f236cac5\",\"type\":\"VBar\"},\"selection_glyph\":null,\"view\":{\"id\":\"8f476eff-f2a1-40e1-bc4b-37accd3ffd69\",\"type\":\"CDSView\"}},\"id\":\"9b4b5687-141c-4739-873a-84b77a92ad02\",\"type\":\"GlyphRenderer\"},{\"attributes\":{\"below\":[{\"id\":\"f350ee15-3e1a-454a-81a2-1da09813816b\",\"type\":\"CategoricalAxis\"}],\"left\":[{\"id\":\"eff50f00-6bee-454b-87d9-ad5b7badde23\",\"type\":\"LinearAxis\"}],\"plot_height\":300,\"plot_width\":850,\"renderers\":[{\"id\":\"f350ee15-3e1a-454a-81a2-1da09813816b\",\"type\":\"CategoricalAxis\"},{\"id\":\"06b9a5fd-45fb-4e3b-8d68-019b1ac4fb42\",\"type\":\"Grid\"},{\"id\":\"eff50f00-6bee-454b-87d9-ad5b7badde23\",\"type\":\"LinearAxis\"},{\"id\":\"ee91233b-1048-4cd9-87b5-72f4b5bc37b2\",\"type\":\"Grid\"},{\"id\":\"120bb2a3-6c6c-471e-8270-fa5a6ccdf860\",\"type\":\"BoxAnnotation\"},{\"id\":\"2fbdf205-6774-4d4c-af3d-b3179fc86552\",\"type\":\"Legend\"},{\"id\":\"9b4b5687-141c-4739-873a-84b77a92ad02\",\"type\":\"GlyphRenderer\"}],\"title\":{\"id\":\"a0ee7347-20fd-4c2f-98fe-965db19c3880\",\"type\":\"Title\"},\"toolbar\":{\"id\":\"d1d83355-04c4-463b-b06f-f4078c872539\",\"type\":\"Toolbar\"},\"x_range\":{\"id\":\"ee7fdc70-e194-4bf9-88d9-330b89fb7aba\",\"type\":\"FactorRange\"},\"x_scale\":{\"id\":\"f6b08ad4-e509-42d7-b228-f9a6f19ccfb2\",\"type\":\"CategoricalScale\"},\"y_range\":{\"id\":\"44f2e005-0e3d-409b-836d-d58e6618c7b0\",\"type\":\"Range1d\"},\"y_scale\":{\"id\":\"40a1a966-bf07-4c00-a9f1-60eb6873d81f\",\"type\":\"LinearScale\"}},\"id\":\"7e1ee995-ad8a-4fb1-ae5f-069f1b007528\",\"subtype\":\"Figure\",\"type\":\"Plot\"},{\"attributes\":{\"items\":[{\"id\":\"cf96bfc3-9c37-4728-964f-305d425eda72\",\"type\":\"LegendItem\"}],\"location\":\"top_center\",\"orientation\":\"horizontal\",\"plot\":{\"id\":\"7e1ee995-ad8a-4fb1-ae5f-069f1b007528\",\"subtype\":\"Figure\",\"type\":\"Plot\"}},\"id\":\"2fbdf205-6774-4d4c-af3d-b3179fc86552\",\"type\":\"Legend\"},{\"attributes\":{},\"id\":\"73d987c4-6296-46ac-ae1a-7342bb1fdd7a\",\"type\":\"ResetTool\"},{\"attributes\":{\"fill_alpha\":{\"value\":0.1},\"fill_color\":{\"value\":\"#1f77b4\"},\"line_alpha\":{\"value\":0.1},\"line_color\":{\"value\":\"#1f77b4\"},\"top\":{\"field\":\"counts_nas\"},\"width\":{\"value\":0.5},\"x\":{\"field\":\"columnas\"}},\"id\":\"477fec82-65c7-4334-bd37-cbd0f236cac5\",\"type\":\"VBar\"},{\"attributes\":{\"bottom_units\":\"screen\",\"fill_alpha\":{\"value\":0.5},\"fill_color\":{\"value\":\"lightgrey\"},\"left_units\":\"screen\",\"level\":\"overlay\",\"line_alpha\":{\"value\":1.0},\"line_color\":{\"value\":\"black\"},\"line_dash\":[4,4],\"line_width\":{\"value\":2},\"plot\":null,\"render_mode\":\"css\",\"right_units\":\"screen\",\"top_units\":\"screen\"},\"id\":\"120bb2a3-6c6c-471e-8270-fa5a6ccdf860\",\"type\":\"BoxAnnotation\"},{\"attributes\":{\"active_drag\":\"auto\",\"active_inspect\":\"auto\",\"active_multi\":null,\"active_scroll\":\"auto\",\"active_tap\":\"auto\",\"tools\":[{\"id\":\"c3a579f1-1bbc-4e12-855b-7cbe22381c9d\",\"type\":\"PanTool\"},{\"id\":\"b7249e29-acb3-498b-b1f1-4d22b740cf85\",\"type\":\"WheelZoomTool\"},{\"id\":\"b8f2b90e-8bf5-477e-8757-a4e17ca8df75\",\"type\":\"BoxZoomTool\"},{\"id\":\"67f09f59-258b-41b6-a5d2-b6a1bfa4bff1\",\"type\":\"SaveTool\"},{\"id\":\"73d987c4-6296-46ac-ae1a-7342bb1fdd7a\",\"type\":\"ResetTool\"},{\"id\":\"1846f580-01cf-455e-8063-0d2a88536cbb\",\"type\":\"HelpTool\"}]},\"id\":\"d1d83355-04c4-463b-b06f-f4078c872539\",\"type\":\"Toolbar\"}],\"root_ids\":[\"7e1ee995-ad8a-4fb1-ae5f-069f1b007528\"]},\"title\":\"Bokeh Application\",\"version\":\"0.13.0\"}};\n",
       "  var render_items = [{\"docid\":\"cd44be7a-d5bd-4ba0-8df5-b083aa12830e\",\"roots\":{\"7e1ee995-ad8a-4fb1-ae5f-069f1b007528\":\"40fd5de4-2d9c-4dcd-8351-e59816beddd7\"}}];\n",
       "  root.Bokeh.embed.embed_items_notebook(docs_json, render_items);\n",
       "\n",
       "  }\n",
       "  if (root.Bokeh !== undefined) {\n",
       "    embed_document(root);\n",
       "  } else {\n",
       "    var attempts = 0;\n",
       "    var timer = setInterval(function(root) {\n",
       "      if (root.Bokeh !== undefined) {\n",
       "        embed_document(root);\n",
       "        clearInterval(timer);\n",
       "      }\n",
       "      attempts++;\n",
       "      if (attempts > 100) {\n",
       "        console.log(\"Bokeh: ERROR: Unable to run BokehJS code because BokehJS library is missing\")\n",
       "        clearInterval(timer);\n",
       "      }\n",
       "    }, 10, root)\n",
       "  }\n",
       "})(window);"
      ],
      "application/vnd.bokehjs_exec.v0+json": ""
     },
     "metadata": {
      "application/vnd.bokehjs_exec.v0+json": {
       "id": "7e1ee995-ad8a-4fb1-ae5f-069f1b007528"
      }
     },
     "output_type": "display_data"
    },
    {
     "data": {
      "text/html": [
       "<div>\n",
       "<style scoped>\n",
       "    .dataframe tbody tr th:only-of-type {\n",
       "        vertical-align: middle;\n",
       "    }\n",
       "\n",
       "    .dataframe tbody tr th {\n",
       "        vertical-align: top;\n",
       "    }\n",
       "\n",
       "    .dataframe thead th {\n",
       "        text-align: right;\n",
       "    }\n",
       "</style>\n",
       "<table border=\"1\" class=\"dataframe\">\n",
       "  <thead>\n",
       "    <tr style=\"text-align: right;\">\n",
       "      <th></th>\n",
       "      <th>Porcentaje de Not nulls</th>\n",
       "    </tr>\n",
       "  </thead>\n",
       "  <tbody>\n",
       "    <tr>\n",
       "      <th>id_hw</th>\n",
       "      <td>100.000000</td>\n",
       "    </tr>\n",
       "    <tr>\n",
       "      <th>serie</th>\n",
       "      <td>97.572079</td>\n",
       "    </tr>\n",
       "    <tr>\n",
       "      <th>ne_id</th>\n",
       "      <td>100.000000</td>\n",
       "    </tr>\n",
       "    <tr>\n",
       "      <th>address</th>\n",
       "      <td>100.000000</td>\n",
       "    </tr>\n",
       "    <tr>\n",
       "      <th>ne_name</th>\n",
       "      <td>100.000000</td>\n",
       "    </tr>\n",
       "    <tr>\n",
       "      <th>location_id</th>\n",
       "      <td>100.000000</td>\n",
       "    </tr>\n",
       "    <tr>\n",
       "      <th>typeofswunit</th>\n",
       "      <td>100.000000</td>\n",
       "    </tr>\n",
       "    <tr>\n",
       "      <th>swproductnumber</th>\n",
       "      <td>97.572079</td>\n",
       "    </tr>\n",
       "    <tr>\n",
       "      <th>serie_cleaned</th>\n",
       "      <td>100.000000</td>\n",
       "    </tr>\n",
       "  </tbody>\n",
       "</table>\n",
       "</div>"
      ],
      "text/plain": [
       "                 Porcentaje de Not nulls\n",
       "id_hw                         100.000000\n",
       "serie                          97.572079\n",
       "ne_id                         100.000000\n",
       "address                       100.000000\n",
       "ne_name                       100.000000\n",
       "location_id                   100.000000\n",
       "typeofswunit                  100.000000\n",
       "swproductnumber                97.572079\n",
       "serie_cleaned                 100.000000"
      ]
     },
     "execution_count": 86,
     "metadata": {},
     "output_type": "execute_result"
    }
   ],
   "source": [
    "notmiss=(1-porcentaje_nas)*100\n",
    "\n",
    "columnas=list(notmiss.keys())\n",
    "counts_nas=list(notmiss.values)\n",
    "\n",
    "#Mismo aplica aquí para color\n",
    "source=ColumnDataSource(dict(columnas=columnas, counts_nas=counts_nas, color=Category20c_9))\n",
    "\n",
    "p=figure(x_range=columnas, plot_height=300, plot_width=850, y_range=(0,100), \n",
    "         title='Porcentaje de not-nulls por columna')\n",
    "p.vbar(x='columnas',top='counts_nas',width=.5, color='color', legend='columnas', source=source)\n",
    "\n",
    "p.xgrid.grid_line_color = None\n",
    "p.legend.orientation = \"horizontal\"\n",
    "p.legend.location = \"top_center\"\n",
    "\n",
    "show(p)\n",
    "pd.DataFrame(notmiss,columns=['Porcentaje de Not nulls'])"
   ]
  },
  {
   "cell_type": "markdown",
   "metadata": {},
   "source": [
    "El campo de serie el cual ocupamos para la trazabilidad de elementos, tiene un **2.42%** de nulos y de los cueles perdemos la trazabilidad en este gestor."
   ]
  },
  {
   "cell_type": "markdown",
   "metadata": {},
   "source": [
    "### 5. Catálogos."
   ]
  },
  {
   "cell_type": "markdown",
   "metadata": {},
   "source": [
    "#### Catálogo location_id"
   ]
  },
  {
   "cell_type": "markdown",
   "metadata": {},
   "source": [
    "A continuación se muestra el catálogo limpio para los location y sus ne names."
   ]
  },
  {
   "cell_type": "code",
   "execution_count": 115,
   "metadata": {},
   "outputs": [
    {
     "data": {
      "text/html": [
       "<div>\n",
       "<style scoped>\n",
       "    .dataframe tbody tr th:only-of-type {\n",
       "        vertical-align: middle;\n",
       "    }\n",
       "\n",
       "    .dataframe tbody tr th {\n",
       "        vertical-align: top;\n",
       "    }\n",
       "\n",
       "    .dataframe thead th {\n",
       "        text-align: right;\n",
       "    }\n",
       "</style>\n",
       "<table border=\"1\" class=\"dataframe\">\n",
       "  <thead>\n",
       "    <tr style=\"text-align: right;\">\n",
       "      <th></th>\n",
       "      <th>location_id</th>\n",
       "      <th>ne_name</th>\n",
       "      <th>latitude</th>\n",
       "      <th>longitude</th>\n",
       "    </tr>\n",
       "  </thead>\n",
       "  <tbody>\n",
       "    <tr>\n",
       "      <th>0</th>\n",
       "      <td>SANTA ROSA</td>\n",
       "      <td>SLPSLP1516</td>\n",
       "      <td>22.191422</td>\n",
       "      <td>-100.999888</td>\n",
       "    </tr>\n",
       "    <tr>\n",
       "      <th>1</th>\n",
       "      <td>ALQUITRAN</td>\n",
       "      <td>GROCHB0071</td>\n",
       "      <td>17.395645</td>\n",
       "      <td>-99.519063</td>\n",
       "    </tr>\n",
       "    <tr>\n",
       "      <th>2</th>\n",
       "      <td>AEROPUERTO QUERETARO</td>\n",
       "      <td>QTOMQS1324</td>\n",
       "      <td>20.602450</td>\n",
       "      <td>-100.202870</td>\n",
       "    </tr>\n",
       "    <tr>\n",
       "      <th>3</th>\n",
       "      <td>CUERNAVACA</td>\n",
       "      <td>MORCVA0193</td>\n",
       "      <td>18.890000</td>\n",
       "      <td>-99.221056</td>\n",
       "    </tr>\n",
       "    <tr>\n",
       "      <th>4</th>\n",
       "      <td>ADUANA [LA ESPERANZA]</td>\n",
       "      <td>GUASIL0500</td>\n",
       "      <td>21.008472</td>\n",
       "      <td>-101.517250</td>\n",
       "    </tr>\n",
       "  </tbody>\n",
       "</table>\n",
       "</div>"
      ],
      "text/plain": [
       "             location_id     ne_name   latitude   longitude\n",
       "0             SANTA ROSA  SLPSLP1516  22.191422 -100.999888\n",
       "1              ALQUITRAN  GROCHB0071  17.395645  -99.519063\n",
       "2   AEROPUERTO QUERETARO  QTOMQS1324  20.602450 -100.202870\n",
       "3             CUERNAVACA  MORCVA0193  18.890000  -99.221056\n",
       "4  ADUANA [LA ESPERANZA]  GUASIL0500  21.008472 -101.517250"
      ]
     },
     "execution_count": 115,
     "metadata": {},
     "output_type": "execute_result"
    }
   ],
   "source": [
    "Catalogo_location = pandasql.sqldf(\"WITH cat_ne as( SELECT CASE WHEN bandera_limpieza = 1 THEN substr(ne_name, instr(ne_name, 'MX')+2, instr(ne_name, 'MW')-3) WHEN bandera_limpieza = 2 THEN substr(ne_name, 1, instr(ne_name, '_')-1) ELSE ne_name END ne_name, location_id FROM( SELECT DISTINCT ne_name, CASE WHEN ne_name LIKE 'MX%MW%' THEN 1 WHEN ne_name LIKE '%\\\\_%' THEN 2 ELSE 0 END bandera_limpieza, location_id FROM df)a), cat_location as (SELECT DISTINCT latitude, longitude, location_attid FROM df_location WHERE location_attid IS NOT NULL) SELECT location_id, ne_name, latitude, longitude FROM cat_ne LEFT JOIN cat_location ON trim(ne_name) = trim(location_attid)\", locals())\n",
    "Catalogo_location.head()"
   ]
  },
  {
   "cell_type": "markdown",
   "metadata": {},
   "source": [
    "Este mismo catálogo lo podemos observar en un mapa usando las latitudes y longitudes obtenidas  del catálogo **raw_panda_invenatrio**."
   ]
  },
  {
   "cell_type": "code",
   "execution_count": 118,
   "metadata": {},
   "outputs": [],
   "source": [
    "mapa_location=Catalogo_location.loc[:,['location_id','latitude','longitude']].dropna()\n",
    "mapa_location.drop_duplicates(inplace=True)"
   ]
  },
  {
   "cell_type": "code",
   "execution_count": 120,
   "metadata": {},
   "outputs": [
    {
     "data": {
      "text/html": [
       "<div style=\"width:100%;\"><div style=\"position:relative;width:100%;height:0;padding-bottom:60%;\"><iframe src=\"data:text/html;charset=utf-8;base64,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\" style=\"position:absolute;width:100%;height:100%;left:0;top:0;border:none !important;\" allowfullscreen webkitallowfullscreen mozallowfullscreen></iframe></div></div>"
      ],
      "text/plain": [
       "<folium.folium.Map at 0x7fab7c940350>"
      ]
     },
     "execution_count": 120,
     "metadata": {},
     "output_type": "execute_result"
    }
   ],
   "source": [
    "import folium\n",
    "from folium import plugins\n",
    "\n",
    "Latitud=21.607871\n",
    "Longitud=-101.201933\n",
    "mapa=folium.Map(location=[Latitud,Longitud],zoom_start=4.8)\n",
    "\n",
    "storages = folium.map.FeatureGroup()\n",
    "\n",
    "for lat, lng, in zip(mapa_location.latitude, mapa_location.longitude):\n",
    "    storages.add_child(\n",
    "        folium.features.Marker(\n",
    "            [lat, lng]\n",
    "        )\n",
    "    )\n",
    "    \n",
    "latitudes = list(mapa_location.latitude)\n",
    "longitudes = list(mapa_location.longitude)\n",
    "labels = list(mapa_location.location_id)\n",
    "\n",
    "for lat, lng, label in zip(latitudes, longitudes, labels):\n",
    "    folium.Marker([lat, lng], popup=label).add_to(storages) \n",
    "mapa.save('Mapa de Locations en Gestor SOEM.html')\n",
    "mapa.add_child(storages)"
   ]
  },
  {
   "cell_type": "markdown",
   "metadata": {},
   "source": [
    "### 6. Preparación de los datos.\n",
    "Para la preparación de los datos crearemos las reglas de calidad o estándares observados en el apartado anterior de acuerdo a la calidad de datos obtenidos: "
   ]
  },
  {
   "cell_type": "markdown",
   "metadata": {},
   "source": [
    "* **location_id**: quitar nomenclaturas MX y MW para obtener el código que se encuentra dentro de la cadena.\n",
    "* Para todos los campos se recomienda transformarlas a mayúsculas."
   ]
  },
  {
   "cell_type": "markdown",
   "metadata": {},
   "source": [
    "### 7. Métricas KPI.\n",
    "Se mostrarán los KPIs generados. "
   ]
  },
  {
   "cell_type": "code",
   "execution_count": 92,
   "metadata": {},
   "outputs": [
    {
     "data": {
      "text/plain": [
       "1318"
      ]
     },
     "execution_count": 92,
     "metadata": {},
     "output_type": "execute_result"
    }
   ],
   "source": [
    "Total_Elementos=df.shape[0]\n",
    "Total_Elementos"
   ]
  },
  {
   "cell_type": "code",
   "execution_count": 93,
   "metadata": {},
   "outputs": [],
   "source": [
    "df.replace(np.NaN,'vacio',inplace=True)"
   ]
  },
  {
   "cell_type": "markdown",
   "metadata": {},
   "source": [
    "#### Total Elementos Trazables Únicos"
   ]
  },
  {
   "cell_type": "code",
   "execution_count": 94,
   "metadata": {},
   "outputs": [
    {
     "data": {
      "text/plain": [
       "1250"
      ]
     },
     "execution_count": 94,
     "metadata": {},
     "output_type": "execute_result"
    }
   ],
   "source": [
    "Total_Tr_Unic=df[['serie']].loc[(df.serie!='vacio')].drop_duplicates().shape[0]\n",
    "Total_Tr_Unic"
   ]
  },
  {
   "cell_type": "markdown",
   "metadata": {},
   "source": [
    "#### Total de elementos duplicados"
   ]
  },
  {
   "cell_type": "code",
   "execution_count": 95,
   "metadata": {},
   "outputs": [
    {
     "data": {
      "text/plain": [
       "68"
      ]
     },
     "execution_count": 95,
     "metadata": {},
     "output_type": "execute_result"
    }
   ],
   "source": [
    "Total_Tr_Dupli=Total_Elementos-Total_Tr_Unic\n",
    "Total_Tr_Dupli"
   ]
  },
  {
   "cell_type": "markdown",
   "metadata": {},
   "source": [
    "De este gestor solo se pueden tomar los indicadores total de elementos, total de elementos únicos por serie y total de elementos duplicados, los otros KPI's no se pueden calcular ya que la fuente no cuenta con número de activo."
   ]
  },
  {
   "cell_type": "code",
   "execution_count": 98,
   "metadata": {},
   "outputs": [],
   "source": [
    "Total_Tr = 0\n",
    "Total_NOTr = 0\n",
    "Total_Tr_Unic_CS_CA = 0\n",
    "Total_Tr_Unic_CS_SA = 0\n",
    "Total_Tr_Unic_SS_CA = 0"
   ]
  },
  {
   "cell_type": "code",
   "execution_count": 101,
   "metadata": {},
   "outputs": [
    {
     "data": {
      "text/html": [
       "<div>\n",
       "<style scoped>\n",
       "    .dataframe tbody tr th:only-of-type {\n",
       "        vertical-align: middle;\n",
       "    }\n",
       "\n",
       "    .dataframe tbody tr th {\n",
       "        vertical-align: top;\n",
       "    }\n",
       "\n",
       "    .dataframe thead th {\n",
       "        text-align: right;\n",
       "    }\n",
       "</style>\n",
       "<table border=\"1\" class=\"dataframe\">\n",
       "  <thead>\n",
       "    <tr style=\"text-align: right;\">\n",
       "      <th></th>\n",
       "      <th>KPI</th>\n",
       "      <th>Resultado</th>\n",
       "    </tr>\n",
       "  </thead>\n",
       "  <tbody>\n",
       "    <tr>\n",
       "      <th>0</th>\n",
       "      <td>Total Elementos</td>\n",
       "      <td>1318</td>\n",
       "    </tr>\n",
       "    <tr>\n",
       "      <th>1</th>\n",
       "      <td>Total Elementos Trazables</td>\n",
       "      <td>0</td>\n",
       "    </tr>\n",
       "    <tr>\n",
       "      <th>2</th>\n",
       "      <td>Total NO Trazables</td>\n",
       "      <td>0</td>\n",
       "    </tr>\n",
       "    <tr>\n",
       "      <th>3</th>\n",
       "      <td>Total Unicos</td>\n",
       "      <td>1250</td>\n",
       "    </tr>\n",
       "    <tr>\n",
       "      <th>4</th>\n",
       "      <td>Total Duplicados</td>\n",
       "      <td>68</td>\n",
       "    </tr>\n",
       "    <tr>\n",
       "      <th>5</th>\n",
       "      <td>Total CS CA</td>\n",
       "      <td>0</td>\n",
       "    </tr>\n",
       "    <tr>\n",
       "      <th>6</th>\n",
       "      <td>Total CS SA</td>\n",
       "      <td>0</td>\n",
       "    </tr>\n",
       "    <tr>\n",
       "      <th>7</th>\n",
       "      <td>Total SS CA</td>\n",
       "      <td>0</td>\n",
       "    </tr>\n",
       "  </tbody>\n",
       "</table>\n",
       "</div>"
      ],
      "text/plain": [
       "                         KPI  Resultado\n",
       "0            Total Elementos       1318\n",
       "1  Total Elementos Trazables          0\n",
       "2         Total NO Trazables          0\n",
       "3               Total Unicos       1250\n",
       "4           Total Duplicados         68\n",
       "5                Total CS CA          0\n",
       "6                Total CS SA          0\n",
       "7                Total SS CA          0"
      ]
     },
     "execution_count": 101,
     "metadata": {},
     "output_type": "execute_result"
    }
   ],
   "source": [
    "KPIs=pd.DataFrame({'KPI':['Total Elementos','Total Elementos Trazables',\n",
    "                         'Total NO Trazables','Total Unicos',\n",
    "                         'Total Duplicados',\n",
    "                          'Total CS CA','Total CS SA','Total SS CA'],\n",
    "                  'Resultado':[Total_Elementos,Total_Tr,Total_NOTr,\n",
    "                              Total_Tr_Unic,Total_Tr_Dupli,\n",
    "                               Total_Tr_Unic_CS_CA,Total_Tr_Unic_CS_SA,\n",
    "                              Total_Tr_Unic_SS_CA]})\n",
    "\n",
    "KPIs"
   ]
  },
  {
   "cell_type": "code",
   "execution_count": null,
   "metadata": {},
   "outputs": [],
   "source": [
    "sc.stop()"
   ]
  }
 ],
 "metadata": {
  "kernelspec": {
   "display_name": "Python 2",
   "language": "python",
   "name": "python2"
  },
  "language_info": {
   "codemirror_mode": {
    "name": "ipython",
    "version": 2
   },
   "file_extension": ".py",
   "mimetype": "text/x-python",
   "name": "python",
   "nbconvert_exporter": "python",
   "pygments_lexer": "ipython2",
   "version": "2.7.15"
  }
 },
 "nbformat": 4,
 "nbformat_minor": 2
}
