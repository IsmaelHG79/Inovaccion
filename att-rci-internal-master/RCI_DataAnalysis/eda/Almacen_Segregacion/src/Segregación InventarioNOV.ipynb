{
 "cells": [
  {
   "cell_type": "markdown",
   "metadata": {},
   "source": [
    "<div style=\"width: 100%; clear: both; font-family: Verdana;\">\n",
    "<div style=\"float: left; width: 50%;font-family: Verdana;\">\n",
    "<img src=\"https://github.com/Eligoze/att-rci-internal/blob/qa/RCI_DataAnalysis/eda/doc/att-logo1.png\" align=\"left\">\n",
    "</div>\n",
    "<div style=\"float: right; width: 200%;\">\n",
    "<p style=\"margin: 0; padding-top: 20px; text-align:right;color:rgb(193, 38, 184)\"><strong>Axity - AT&T.\n",
    "    Ciclo de vida de elementos de inventario</strong></p>\n",
    "</div>\n",
    "</div>\n",
    "<div style=\"width:100%;\">&nbsp;</div>"
   ]
  },
  {
   "cell_type": "markdown",
   "metadata": {},
   "source": [
    "<div style=\"width: 100%; clear: both; font-family: Verdana;\">\n",
    "<h1 align=\"center\">Exploratory Data Analysis</h1>\n",
    "</div>"
   ]
  },
  {
   "cell_type": "markdown",
   "metadata": {},
   "source": [
    "### Descripción\n",
    "Analizaremos los datos de las fuentes de inventarios de AT&T con un tratamiento estadístico descriptivo para hacer el tracking del ciclo de vida de los elementos de red. Se creará un EDA enfocado a la salida de almacén. Serán documentados los catálogos propuestos junto a su respectivo tratamiento de datos. La fuente que corresponde a este análisis es:\n",
    "\n",
    "* **Segregación Almacén (Almacén inventario)**  \n",
    "\n",
    "Primero cargamos las librerías necesarias."
   ]
  },
  {
   "cell_type": "markdown",
   "metadata": {},
   "source": [
    "## Se tomará para el análisis la partición correspondiente a Noviembre 28 "
   ]
  },
  {
   "cell_type": "markdown",
   "metadata": {},
   "source": [
    "#### Conectando al Datalake"
   ]
  },
  {
   "cell_type": "code",
   "execution_count": 1,
   "metadata": {},
   "outputs": [],
   "source": [
    "import os\n",
    "os.environ['JAVA_HOME'] = '/usr/java/jdk1.8.0_162'\n",
    "os.environ['SPARK_HOME'] = '/opt/cloudera/parcels/CDH-6.2.0-1.cdh6.2.0.p0.967373/lib/spark'\n",
    "import findspark\n",
    "findspark.init()\n",
    "from pyspark import SparkContext, SparkConf\n",
    "from pyspark.sql import SparkSession\n",
    "from pyspark.sql.types import *\n",
    "from pyspark.sql import HiveContext"
   ]
  },
  {
   "cell_type": "code",
   "execution_count": 2,
   "metadata": {},
   "outputs": [],
   "source": [
    "conf = SparkConf().setAppName('Segregacion')  \\\n",
    "    .setMaster('yarn').set(\"spark.yarn.queue\",\"root.eda\")\n",
    "spark = SparkSession.builder.config(conf=conf).getOrCreate()\n",
    "sc = spark.sparkContext\n",
    "sqlContext = HiveContext(sc)"
   ]
  },
  {
   "cell_type": "code",
   "execution_count": 3,
   "metadata": {},
   "outputs": [
    {
     "data": {
      "text/html": [
       "\n",
       "    <div class=\"bk-root\">\n",
       "        <a href=\"https://bokeh.pydata.org\" target=\"_blank\" class=\"bk-logo bk-logo-small bk-logo-notebook\"></a>\n",
       "        <span id=\"7366d328-256d-49a2-9c93-37631e116fa5\">Loading BokehJS ...</span>\n",
       "    </div>"
      ]
     },
     "metadata": {},
     "output_type": "display_data"
    },
    {
     "data": {
      "application/javascript": [
       "\n",
       "(function(root) {\n",
       "  function now() {\n",
       "    return new Date();\n",
       "  }\n",
       "\n",
       "  var force = true;\n",
       "\n",
       "  if (typeof (root._bokeh_onload_callbacks) === \"undefined\" || force === true) {\n",
       "    root._bokeh_onload_callbacks = [];\n",
       "    root._bokeh_is_loading = undefined;\n",
       "  }\n",
       "\n",
       "  var JS_MIME_TYPE = 'application/javascript';\n",
       "  var HTML_MIME_TYPE = 'text/html';\n",
       "  var EXEC_MIME_TYPE = 'application/vnd.bokehjs_exec.v0+json';\n",
       "  var CLASS_NAME = 'output_bokeh rendered_html';\n",
       "\n",
       "  /**\n",
       "   * Render data to the DOM node\n",
       "   */\n",
       "  function render(props, node) {\n",
       "    var script = document.createElement(\"script\");\n",
       "    node.appendChild(script);\n",
       "  }\n",
       "\n",
       "  /**\n",
       "   * Handle when an output is cleared or removed\n",
       "   */\n",
       "  function handleClearOutput(event, handle) {\n",
       "    var cell = handle.cell;\n",
       "\n",
       "    var id = cell.output_area._bokeh_element_id;\n",
       "    var server_id = cell.output_area._bokeh_server_id;\n",
       "    // Clean up Bokeh references\n",
       "    if (id != null && id in Bokeh.index) {\n",
       "      Bokeh.index[id].model.document.clear();\n",
       "      delete Bokeh.index[id];\n",
       "    }\n",
       "\n",
       "    if (server_id !== undefined) {\n",
       "      // Clean up Bokeh references\n",
       "      var cmd = \"from bokeh.io.state import curstate; print(curstate().uuid_to_server['\" + server_id + \"'].get_sessions()[0].document.roots[0]._id)\";\n",
       "      cell.notebook.kernel.execute(cmd, {\n",
       "        iopub: {\n",
       "          output: function(msg) {\n",
       "            var id = msg.content.text.trim();\n",
       "            if (id in Bokeh.index) {\n",
       "              Bokeh.index[id].model.document.clear();\n",
       "              delete Bokeh.index[id];\n",
       "            }\n",
       "          }\n",
       "        }\n",
       "      });\n",
       "      // Destroy server and session\n",
       "      var cmd = \"import bokeh.io.notebook as ion; ion.destroy_server('\" + server_id + \"')\";\n",
       "      cell.notebook.kernel.execute(cmd);\n",
       "    }\n",
       "  }\n",
       "\n",
       "  /**\n",
       "   * Handle when a new output is added\n",
       "   */\n",
       "  function handleAddOutput(event, handle) {\n",
       "    var output_area = handle.output_area;\n",
       "    var output = handle.output;\n",
       "\n",
       "    // limit handleAddOutput to display_data with EXEC_MIME_TYPE content only\n",
       "    if ((output.output_type != \"display_data\") || (!output.data.hasOwnProperty(EXEC_MIME_TYPE))) {\n",
       "      return\n",
       "    }\n",
       "\n",
       "    var toinsert = output_area.element.find(\".\" + CLASS_NAME.split(' ')[0]);\n",
       "\n",
       "    if (output.metadata[EXEC_MIME_TYPE][\"id\"] !== undefined) {\n",
       "      toinsert[toinsert.length - 1].firstChild.textContent = output.data[JS_MIME_TYPE];\n",
       "      // store reference to embed id on output_area\n",
       "      output_area._bokeh_element_id = output.metadata[EXEC_MIME_TYPE][\"id\"];\n",
       "    }\n",
       "    if (output.metadata[EXEC_MIME_TYPE][\"server_id\"] !== undefined) {\n",
       "      var bk_div = document.createElement(\"div\");\n",
       "      bk_div.innerHTML = output.data[HTML_MIME_TYPE];\n",
       "      var script_attrs = bk_div.children[0].attributes;\n",
       "      for (var i = 0; i < script_attrs.length; i++) {\n",
       "        toinsert[toinsert.length - 1].firstChild.setAttribute(script_attrs[i].name, script_attrs[i].value);\n",
       "      }\n",
       "      // store reference to server id on output_area\n",
       "      output_area._bokeh_server_id = output.metadata[EXEC_MIME_TYPE][\"server_id\"];\n",
       "    }\n",
       "  }\n",
       "\n",
       "  function register_renderer(events, OutputArea) {\n",
       "\n",
       "    function append_mime(data, metadata, element) {\n",
       "      // create a DOM node to render to\n",
       "      var toinsert = this.create_output_subarea(\n",
       "        metadata,\n",
       "        CLASS_NAME,\n",
       "        EXEC_MIME_TYPE\n",
       "      );\n",
       "      this.keyboard_manager.register_events(toinsert);\n",
       "      // Render to node\n",
       "      var props = {data: data, metadata: metadata[EXEC_MIME_TYPE]};\n",
       "      render(props, toinsert[toinsert.length - 1]);\n",
       "      element.append(toinsert);\n",
       "      return toinsert\n",
       "    }\n",
       "\n",
       "    /* Handle when an output is cleared or removed */\n",
       "    events.on('clear_output.CodeCell', handleClearOutput);\n",
       "    events.on('delete.Cell', handleClearOutput);\n",
       "\n",
       "    /* Handle when a new output is added */\n",
       "    events.on('output_added.OutputArea', handleAddOutput);\n",
       "\n",
       "    /**\n",
       "     * Register the mime type and append_mime function with output_area\n",
       "     */\n",
       "    OutputArea.prototype.register_mime_type(EXEC_MIME_TYPE, append_mime, {\n",
       "      /* Is output safe? */\n",
       "      safe: true,\n",
       "      /* Index of renderer in `output_area.display_order` */\n",
       "      index: 0\n",
       "    });\n",
       "  }\n",
       "\n",
       "  // register the mime type if in Jupyter Notebook environment and previously unregistered\n",
       "  if (root.Jupyter !== undefined) {\n",
       "    var events = require('base/js/events');\n",
       "    var OutputArea = require('notebook/js/outputarea').OutputArea;\n",
       "\n",
       "    if (OutputArea.prototype.mime_types().indexOf(EXEC_MIME_TYPE) == -1) {\n",
       "      register_renderer(events, OutputArea);\n",
       "    }\n",
       "  }\n",
       "\n",
       "  \n",
       "  if (typeof (root._bokeh_timeout) === \"undefined\" || force === true) {\n",
       "    root._bokeh_timeout = Date.now() + 5000;\n",
       "    root._bokeh_failed_load = false;\n",
       "  }\n",
       "\n",
       "  var NB_LOAD_WARNING = {'data': {'text/html':\n",
       "     \"<div style='background-color: #fdd'>\\n\"+\n",
       "     \"<p>\\n\"+\n",
       "     \"BokehJS does not appear to have successfully loaded. If loading BokehJS from CDN, this \\n\"+\n",
       "     \"may be due to a slow or bad network connection. Possible fixes:\\n\"+\n",
       "     \"</p>\\n\"+\n",
       "     \"<ul>\\n\"+\n",
       "     \"<li>re-rerun `output_notebook()` to attempt to load from CDN again, or</li>\\n\"+\n",
       "     \"<li>use INLINE resources instead, as so:</li>\\n\"+\n",
       "     \"</ul>\\n\"+\n",
       "     \"<code>\\n\"+\n",
       "     \"from bokeh.resources import INLINE\\n\"+\n",
       "     \"output_notebook(resources=INLINE)\\n\"+\n",
       "     \"</code>\\n\"+\n",
       "     \"</div>\"}};\n",
       "\n",
       "  function display_loaded() {\n",
       "    var el = document.getElementById(\"7366d328-256d-49a2-9c93-37631e116fa5\");\n",
       "    if (el != null) {\n",
       "      el.textContent = \"BokehJS is loading...\";\n",
       "    }\n",
       "    if (root.Bokeh !== undefined) {\n",
       "      if (el != null) {\n",
       "        el.textContent = \"BokehJS \" + root.Bokeh.version + \" successfully loaded.\";\n",
       "      }\n",
       "    } else if (Date.now() < root._bokeh_timeout) {\n",
       "      setTimeout(display_loaded, 100)\n",
       "    }\n",
       "  }\n",
       "\n",
       "\n",
       "  function run_callbacks() {\n",
       "    try {\n",
       "      root._bokeh_onload_callbacks.forEach(function(callback) { callback() });\n",
       "    }\n",
       "    finally {\n",
       "      delete root._bokeh_onload_callbacks\n",
       "    }\n",
       "    console.info(\"Bokeh: all callbacks have finished\");\n",
       "  }\n",
       "\n",
       "  function load_libs(js_urls, callback) {\n",
       "    root._bokeh_onload_callbacks.push(callback);\n",
       "    if (root._bokeh_is_loading > 0) {\n",
       "      console.log(\"Bokeh: BokehJS is being loaded, scheduling callback at\", now());\n",
       "      return null;\n",
       "    }\n",
       "    if (js_urls == null || js_urls.length === 0) {\n",
       "      run_callbacks();\n",
       "      return null;\n",
       "    }\n",
       "    console.log(\"Bokeh: BokehJS not loaded, scheduling load and callback at\", now());\n",
       "    root._bokeh_is_loading = js_urls.length;\n",
       "    for (var i = 0; i < js_urls.length; i++) {\n",
       "      var url = js_urls[i];\n",
       "      var s = document.createElement('script');\n",
       "      s.src = url;\n",
       "      s.async = false;\n",
       "      s.onreadystatechange = s.onload = function() {\n",
       "        root._bokeh_is_loading--;\n",
       "        if (root._bokeh_is_loading === 0) {\n",
       "          console.log(\"Bokeh: all BokehJS libraries loaded\");\n",
       "          run_callbacks()\n",
       "        }\n",
       "      };\n",
       "      s.onerror = function() {\n",
       "        console.warn(\"failed to load library \" + url);\n",
       "      };\n",
       "      console.log(\"Bokeh: injecting script tag for BokehJS library: \", url);\n",
       "      document.getElementsByTagName(\"head\")[0].appendChild(s);\n",
       "    }\n",
       "  };var element = document.getElementById(\"7366d328-256d-49a2-9c93-37631e116fa5\");\n",
       "  if (element == null) {\n",
       "    console.log(\"Bokeh: ERROR: autoload.js configured with elementid '7366d328-256d-49a2-9c93-37631e116fa5' but no matching script tag was found. \")\n",
       "    return false;\n",
       "  }\n",
       "\n",
       "  var js_urls = [\"https://cdn.pydata.org/bokeh/release/bokeh-0.13.0.min.js\", \"https://cdn.pydata.org/bokeh/release/bokeh-widgets-0.13.0.min.js\", \"https://cdn.pydata.org/bokeh/release/bokeh-tables-0.13.0.min.js\", \"https://cdn.pydata.org/bokeh/release/bokeh-gl-0.13.0.min.js\"];\n",
       "\n",
       "  var inline_js = [\n",
       "    function(Bokeh) {\n",
       "      Bokeh.set_log_level(\"info\");\n",
       "    },\n",
       "    \n",
       "    function(Bokeh) {\n",
       "      \n",
       "    },\n",
       "    function(Bokeh) {\n",
       "      console.log(\"Bokeh: injecting CSS: https://cdn.pydata.org/bokeh/release/bokeh-0.13.0.min.css\");\n",
       "      Bokeh.embed.inject_css(\"https://cdn.pydata.org/bokeh/release/bokeh-0.13.0.min.css\");\n",
       "      console.log(\"Bokeh: injecting CSS: https://cdn.pydata.org/bokeh/release/bokeh-widgets-0.13.0.min.css\");\n",
       "      Bokeh.embed.inject_css(\"https://cdn.pydata.org/bokeh/release/bokeh-widgets-0.13.0.min.css\");\n",
       "      console.log(\"Bokeh: injecting CSS: https://cdn.pydata.org/bokeh/release/bokeh-tables-0.13.0.min.css\");\n",
       "      Bokeh.embed.inject_css(\"https://cdn.pydata.org/bokeh/release/bokeh-tables-0.13.0.min.css\");\n",
       "    }\n",
       "  ];\n",
       "\n",
       "  function run_inline_js() {\n",
       "    \n",
       "    if ((root.Bokeh !== undefined) || (force === true)) {\n",
       "      for (var i = 0; i < inline_js.length; i++) {\n",
       "        inline_js[i].call(root, root.Bokeh);\n",
       "      }if (force === true) {\n",
       "        display_loaded();\n",
       "      }} else if (Date.now() < root._bokeh_timeout) {\n",
       "      setTimeout(run_inline_js, 100);\n",
       "    } else if (!root._bokeh_failed_load) {\n",
       "      console.log(\"Bokeh: BokehJS failed to load within specified timeout.\");\n",
       "      root._bokeh_failed_load = true;\n",
       "    } else if (force !== true) {\n",
       "      var cell = $(document.getElementById(\"7366d328-256d-49a2-9c93-37631e116fa5\")).parents('.cell').data().cell;\n",
       "      cell.output_area.append_execute_result(NB_LOAD_WARNING)\n",
       "    }\n",
       "\n",
       "  }\n",
       "\n",
       "  if (root._bokeh_is_loading === 0) {\n",
       "    console.log(\"Bokeh: BokehJS loaded, going straight to plotting\");\n",
       "    run_inline_js();\n",
       "  } else {\n",
       "    load_libs(js_urls, function() {\n",
       "      console.log(\"Bokeh: BokehJS plotting callback run at\", now());\n",
       "      run_inline_js();\n",
       "    });\n",
       "  }\n",
       "}(window));"
      ],
      "application/vnd.bokehjs_load.v0+json": "\n(function(root) {\n  function now() {\n    return new Date();\n  }\n\n  var force = true;\n\n  if (typeof (root._bokeh_onload_callbacks) === \"undefined\" || force === true) {\n    root._bokeh_onload_callbacks = [];\n    root._bokeh_is_loading = undefined;\n  }\n\n  \n\n  \n  if (typeof (root._bokeh_timeout) === \"undefined\" || force === true) {\n    root._bokeh_timeout = Date.now() + 5000;\n    root._bokeh_failed_load = false;\n  }\n\n  var NB_LOAD_WARNING = {'data': {'text/html':\n     \"<div style='background-color: #fdd'>\\n\"+\n     \"<p>\\n\"+\n     \"BokehJS does not appear to have successfully loaded. If loading BokehJS from CDN, this \\n\"+\n     \"may be due to a slow or bad network connection. Possible fixes:\\n\"+\n     \"</p>\\n\"+\n     \"<ul>\\n\"+\n     \"<li>re-rerun `output_notebook()` to attempt to load from CDN again, or</li>\\n\"+\n     \"<li>use INLINE resources instead, as so:</li>\\n\"+\n     \"</ul>\\n\"+\n     \"<code>\\n\"+\n     \"from bokeh.resources import INLINE\\n\"+\n     \"output_notebook(resources=INLINE)\\n\"+\n     \"</code>\\n\"+\n     \"</div>\"}};\n\n  function display_loaded() {\n    var el = document.getElementById(\"7366d328-256d-49a2-9c93-37631e116fa5\");\n    if (el != null) {\n      el.textContent = \"BokehJS is loading...\";\n    }\n    if (root.Bokeh !== undefined) {\n      if (el != null) {\n        el.textContent = \"BokehJS \" + root.Bokeh.version + \" successfully loaded.\";\n      }\n    } else if (Date.now() < root._bokeh_timeout) {\n      setTimeout(display_loaded, 100)\n    }\n  }\n\n\n  function run_callbacks() {\n    try {\n      root._bokeh_onload_callbacks.forEach(function(callback) { callback() });\n    }\n    finally {\n      delete root._bokeh_onload_callbacks\n    }\n    console.info(\"Bokeh: all callbacks have finished\");\n  }\n\n  function load_libs(js_urls, callback) {\n    root._bokeh_onload_callbacks.push(callback);\n    if (root._bokeh_is_loading > 0) {\n      console.log(\"Bokeh: BokehJS is being loaded, scheduling callback at\", now());\n      return null;\n    }\n    if (js_urls == null || js_urls.length === 0) {\n      run_callbacks();\n      return null;\n    }\n    console.log(\"Bokeh: BokehJS not loaded, scheduling load and callback at\", now());\n    root._bokeh_is_loading = js_urls.length;\n    for (var i = 0; i < js_urls.length; i++) {\n      var url = js_urls[i];\n      var s = document.createElement('script');\n      s.src = url;\n      s.async = false;\n      s.onreadystatechange = s.onload = function() {\n        root._bokeh_is_loading--;\n        if (root._bokeh_is_loading === 0) {\n          console.log(\"Bokeh: all BokehJS libraries loaded\");\n          run_callbacks()\n        }\n      };\n      s.onerror = function() {\n        console.warn(\"failed to load library \" + url);\n      };\n      console.log(\"Bokeh: injecting script tag for BokehJS library: \", url);\n      document.getElementsByTagName(\"head\")[0].appendChild(s);\n    }\n  };var element = document.getElementById(\"7366d328-256d-49a2-9c93-37631e116fa5\");\n  if (element == null) {\n    console.log(\"Bokeh: ERROR: autoload.js configured with elementid '7366d328-256d-49a2-9c93-37631e116fa5' but no matching script tag was found. \")\n    return false;\n  }\n\n  var js_urls = [\"https://cdn.pydata.org/bokeh/release/bokeh-0.13.0.min.js\", \"https://cdn.pydata.org/bokeh/release/bokeh-widgets-0.13.0.min.js\", \"https://cdn.pydata.org/bokeh/release/bokeh-tables-0.13.0.min.js\", \"https://cdn.pydata.org/bokeh/release/bokeh-gl-0.13.0.min.js\"];\n\n  var inline_js = [\n    function(Bokeh) {\n      Bokeh.set_log_level(\"info\");\n    },\n    \n    function(Bokeh) {\n      \n    },\n    function(Bokeh) {\n      console.log(\"Bokeh: injecting CSS: https://cdn.pydata.org/bokeh/release/bokeh-0.13.0.min.css\");\n      Bokeh.embed.inject_css(\"https://cdn.pydata.org/bokeh/release/bokeh-0.13.0.min.css\");\n      console.log(\"Bokeh: injecting CSS: https://cdn.pydata.org/bokeh/release/bokeh-widgets-0.13.0.min.css\");\n      Bokeh.embed.inject_css(\"https://cdn.pydata.org/bokeh/release/bokeh-widgets-0.13.0.min.css\");\n      console.log(\"Bokeh: injecting CSS: https://cdn.pydata.org/bokeh/release/bokeh-tables-0.13.0.min.css\");\n      Bokeh.embed.inject_css(\"https://cdn.pydata.org/bokeh/release/bokeh-tables-0.13.0.min.css\");\n    }\n  ];\n\n  function run_inline_js() {\n    \n    if ((root.Bokeh !== undefined) || (force === true)) {\n      for (var i = 0; i < inline_js.length; i++) {\n        inline_js[i].call(root, root.Bokeh);\n      }if (force === true) {\n        display_loaded();\n      }} else if (Date.now() < root._bokeh_timeout) {\n      setTimeout(run_inline_js, 100);\n    } else if (!root._bokeh_failed_load) {\n      console.log(\"Bokeh: BokehJS failed to load within specified timeout.\");\n      root._bokeh_failed_load = true;\n    } else if (force !== true) {\n      var cell = $(document.getElementById(\"7366d328-256d-49a2-9c93-37631e116fa5\")).parents('.cell').data().cell;\n      cell.output_area.append_execute_result(NB_LOAD_WARNING)\n    }\n\n  }\n\n  if (root._bokeh_is_loading === 0) {\n    console.log(\"Bokeh: BokehJS loaded, going straight to plotting\");\n    run_inline_js();\n  } else {\n    load_libs(js_urls, function() {\n      console.log(\"Bokeh: BokehJS plotting callback run at\", now());\n      run_inline_js();\n    });\n  }\n}(window));"
     },
     "metadata": {},
     "output_type": "display_data"
    }
   ],
   "source": [
    "import pandas as pd\n",
    "import numpy as np\n",
    "import matplotlib.pyplot as plt\n",
    "from PIL import Image\n",
    "import re\n",
    "\n",
    "from pyspark.sql.functions import udf ,col\n",
    "from pyspark.sql.types import IntegerType,StringType\n",
    "\n",
    "%matplotlib inline\n",
    "\n",
    "from bokeh.io import show, output_notebook, output_file \n",
    "from bokeh.plotting import figure\n",
    "from bokeh.models import ColumnDataSource\n",
    "from bokeh.palettes import Category20_11, Category20c_20, Category10_5,Category10_6, Category20_20, Plasma256\n",
    "output_notebook()"
   ]
  },
  {
   "cell_type": "markdown",
   "metadata": {},
   "source": [
    "### Recolección de los datos: "
   ]
  },
  {
   "cell_type": "markdown",
   "metadata": {},
   "source": [
    "#### Creamos una función para tratamiento de datos en spark:"
   ]
  },
  {
   "cell_type": "code",
   "execution_count": 4,
   "metadata": {},
   "outputs": [],
   "source": [
    "def validate_rule(string):\n",
    "    search_list=[u\" \",u'!',u'%',u'$',u'¡',u'¿',u'~',u'#',u'Ñ',u\"Ã\",u\"Åƒ\",u\"Ã‹\",u\"Ã³\",u'Ë',u'*',u\"ILEGIBLE\", u\"VICIBLE\",u\"VISIBLE\",u\"INCOMPLETO\"]    \n",
    "    str_temp = string\n",
    "    if str_temp.upper() == u\"BORRADO\":\n",
    "      return 1\n",
    "    elif len(str_temp) < 6:\n",
    "      return 1\n",
    "    elif any(ext in str_temp.upper()for ext in search_list):\n",
    "      return 1\n",
    "    else:\n",
    "      return 0"
   ]
  },
  {
   "cell_type": "markdown",
   "metadata": {},
   "source": [
    "Esta fuente en particular contiene la historia de los elementos en el almacén, consideramos las fechas de cada partición, es decir, fechas de cada archivo ingestado. Para conocer las particiones de la fuente es necesario realizar un query en el cluster **SHOW PARTITIONS tx_almacen_inventory** y escogemos las particiones del mes que se quiere analizar."
   ]
  },
  {
   "cell_type": "markdown",
   "metadata": {},
   "source": [
    "_10=spark.sql(\"SELECT id, qr as qr_alm, org,sub_inv,almacen, articulo,descripcion,lpn_nuevo, ubicacion_nueva,estado_fisico_usadonuevo,tipo_de_articulo,serie,etiqueta,activo,mxn,datasetname,filedate,year,month,day FROM tx_almacen_inventory WHERE year=2019 and month=09 and day=10\")\n",
    "df_10=_10.toPandas()"
   ]
  },
  {
   "cell_type": "markdown",
   "metadata": {},
   "source": [
    "_11=spark.sql(\"SELECT id, qr as qr_alm, org,sub_inv,almacen, articulo,descripcion,lpn_nuevo, ubicacion_nueva,estado_fisico_usadonuevo,tipo_de_articulo,serie,etiqueta,activo,mxn,datasetname,filedate,year,month,day FROM tx_almacen_inventory WHERE year=2019 and month=09 and day=11\")\n",
    "df_11=_11.toPandas()"
   ]
  },
  {
   "cell_type": "markdown",
   "metadata": {},
   "source": [
    "_12=spark.sql(\"SELECT id, qr as qr_alm, org,sub_inv,almacen, articulo,descripcion,lpn_nuevo, ubicacion_nueva,estado_fisico_usadonuevo,tipo_de_articulo,serie,etiqueta,activo,mxn,datasetname,filedate,year,month,day FROM tx_almacen_inventory WHERE year=2019 and month=09 and day=12\")\n",
    "df_12=_12.toPandas()"
   ]
  },
  {
   "cell_type": "markdown",
   "metadata": {},
   "source": [
    "_13=spark.sql(\"SELECT id, qr as qr_alm, org,sub_inv,almacen, articulo,descripcion,lpn_nuevo, ubicacion_nueva,estado_fisico_usadonuevo,tipo_de_articulo,serie,etiqueta,activo,mxn,datasetname,filedate,year,month,day FROM tx_almacen_inventory WHERE year=2019 and month=09 and day=13\")\n",
    "df_13=_13.toPandas()"
   ]
  },
  {
   "cell_type": "markdown",
   "metadata": {},
   "source": [
    "_17=spark.sql(\"SELECT id, qr as qr_alm, org,sub_inv,almacen, articulo,descripcion,lpn_nuevo, ubicacion_nueva,estado_fisico_usadonuevo,tipo_de_articulo,serie,etiqueta,activo,mxn,datasetname,filedate,year,month,day FROM tx_almacen_inventory WHERE year=2019 and month=09 and day=17\")\n",
    "df_17=_17.toPandas()"
   ]
  },
  {
   "cell_type": "markdown",
   "metadata": {},
   "source": [
    "_18=spark.sql(\"SELECT id, qr as qr_alm, org,sub_inv,almacen, articulo,descripcion,lpn_nuevo, ubicacion_nueva,estado_fisico_usadonuevo,tipo_de_articulo,serie,etiqueta,activo,mxn,datasetname,filedate,year,month,day FROM tx_almacen_inventory WHERE year=2019 and month=09 and day=18\")\n",
    "df_18=_18.toPandas()"
   ]
  },
  {
   "cell_type": "markdown",
   "metadata": {},
   "source": [
    "_19=spark.sql(\"SELECT id, qr as qr_alm, org,sub_inv,almacen, articulo,descripcion,lpn_nuevo, ubicacion_nueva,estado_fisico_usadonuevo,tipo_de_articulo,serie,etiqueta,activo,mxn,datasetname,filedate,year,month,day FROM tx_almacen_inventory WHERE year=2019 and month=09 and day=19\")\n",
    "df_19=_19.toPandas()"
   ]
  },
  {
   "cell_type": "markdown",
   "metadata": {},
   "source": [
    "_24=spark.sql(\"SELECT id, qr as qr_alm, org,sub_inv,almacen, articulo,descripcion,lpn_nuevo, ubicacion_nueva,estado_fisico_usadonuevo,tipo_de_articulo,serie,etiqueta,activo,mxn,datasetname,filedate,year,month,day FROM tx_almacen_inventory WHERE year=2019 and month=09 and day=24\")\n",
    "df_24=_24.toPandas()"
   ]
  },
  {
   "cell_type": "markdown",
   "metadata": {},
   "source": [
    "_26=spark.sql(\"SELECT id, qr as qr_alm, org,sub_inv,almacen, articulo,descripcion,lpn_nuevo, ubicacion_nueva,estado_fisico_usadonuevo,tipo_de_articulo,serie,etiqueta,activo,mxn,datasetname,filedate,year,month,day FROM tx_almacen_inventory WHERE year=2019 and month=09 and day=26\")\n",
    "df_26=_26.toPandas()"
   ]
  },
  {
   "cell_type": "markdown",
   "metadata": {},
   "source": [
    "_03=spark.sql(\"SELECT id, qr as qr_alm, org,sub_inv,almacen, articulo,descripcion,lpn_nuevo, ubicacion_nueva,estado_fisico_usadonuevo,tipo_de_articulo,serie,etiqueta,activo,mxn,datasetname,filedate,year,month,day FROM tx_almacen_inventory WHERE year=2019 and month=09 and day=03\")\n",
    "df_03=_03.toPandas()"
   ]
  },
  {
   "cell_type": "markdown",
   "metadata": {},
   "source": [
    "_30=spark.sql(\"SELECT id, qr as qr_alm, org,sub_inv,almacen, articulo,descripcion,lpn_nuevo, ubicacion_nueva,estado_fisico_usadonuevo,tipo_de_articulo,serie,etiqueta,activo,mxn,estatus_cip,datasetname,filedate,year,month,day FROM tx_almacen_inventory WHERE year=2019 and month=09 and day=30\")\n",
    "\n",
    "validate_rule_udf = udf(validate_rule, IntegerType())\n",
    "df_serie = _30.withColumn(\"serie_cleaned\",validate_rule_udf(col(\"serie\")))\n",
    "\n",
    "df_30=df_serie.toPandas()"
   ]
  },
  {
   "cell_type": "markdown",
   "metadata": {},
   "source": [
    "_04=spark.sql(\"SELECT id, qr as qr_alm, org,sub_inv,almacen, articulo,descripcion,lpn_nuevo, ubicacion_nueva,estado_fisico_usadonuevo,tipo_de_articulo,serie,etiqueta,activo,mxn,datasetname,filedate,year,month,day FROM tx_almacen_inventory WHERE year=2019 and month=09 and day=04\")\n",
    "df_04=_04.toPandas()"
   ]
  },
  {
   "cell_type": "markdown",
   "metadata": {},
   "source": [
    "_05=spark.sql(\"SELECT id, qr as qr_alm, org,sub_inv,almacen, articulo,descripcion,lpn_nuevo, ubicacion_nueva,estado_fisico_usadonuevo,tipo_de_articulo,serie,etiqueta,activo,mxn,datasetname,filedate,year,month,day FROM tx_almacen_inventory WHERE year=2019 and month=09 and day=05\")\n",
    "df_05=_05.toPandas()"
   ]
  },
  {
   "cell_type": "markdown",
   "metadata": {},
   "source": [
    "_06=spark.sql(\"SELECT id, qr as qr_alm, org,sub_inv,almacen, articulo,descripcion,lpn_nuevo, ubicacion_nueva,estado_fisico_usadonuevo,tipo_de_articulo,serie,etiqueta,activo,mxn,datasetname,filedate,year,month,day FROM tx_almacen_inventory WHERE year=2019 and month=09 and day=06\")\n",
    "df_06=_06.toPandas()"
   ]
  },
  {
   "cell_type": "markdown",
   "metadata": {},
   "source": [
    "_09=spark.sql(\"SELECT id, qr as qr_alm, org,sub_inv,almacen, articulo,descripcion,lpn_nuevo, ubicacion_nueva,estado_fisico_usadonuevo,tipo_de_articulo,serie,etiqueta,activo,mxn,datasetname,filedate,year,month,day FROM tx_almacen_inventory WHERE year=2019 and month=09 and day=09\")\n",
    "df_09=_09.toPandas()"
   ]
  },
  {
   "cell_type": "code",
   "execution_count": 5,
   "metadata": {},
   "outputs": [],
   "source": [
    "_28Nov=spark.sql(\"SELECT id, qr as qr_alm, org,sub_inv,almacen, articulo,descripcion,lpn_nuevo, ubicacion_nueva,estado_fisico_usadonuevo,tipo_de_articulo,serie,etiqueta,activo,mxn,usd,tipo_de_ubicacion_resum_1,datasetname,filedate,year,month,day FROM tx_almacen_inventory WHERE year=2019 and month=11 and day=28\").cache() \n",
    "\n",
    "validate_rule_udf = udf(validate_rule, IntegerType())\n",
    "df_serie = _28Nov.withColumn(\"serie_cleaned\",validate_rule_udf(col(\"serie\")))\n",
    "\n",
    "df_28Nov=df_serie.toPandas()"
   ]
  },
  {
   "cell_type": "markdown",
   "metadata": {},
   "source": [
    "*Hemos recolectado los campos a analizar de la fuente: inventario almacén.*"
   ]
  },
  {
   "cell_type": "markdown",
   "metadata": {},
   "source": [
    "frames=[df_03,df_04,df_05,df_06,\n",
    "        df_09,df_10,df_11,df_12,\n",
    "        df_13,df_17,df_18,df_19,\n",
    "        df_24,df_26,df_30]\n",
    "df=pd.concat(frames,ignore_index=True)"
   ]
  },
  {
   "cell_type": "code",
   "execution_count": 6,
   "metadata": {},
   "outputs": [],
   "source": [
    "df=df_28Nov"
   ]
  },
  {
   "cell_type": "markdown",
   "metadata": {},
   "source": [
    "## Segregación Almacén\n",
    "Una visualización de la fuente de segregación."
   ]
  },
  {
   "cell_type": "code",
   "execution_count": 7,
   "metadata": {
    "scrolled": true
   },
   "outputs": [
    {
     "data": {
      "text/html": [
       "<div>\n",
       "<style scoped>\n",
       "    .dataframe tbody tr th:only-of-type {\n",
       "        vertical-align: middle;\n",
       "    }\n",
       "\n",
       "    .dataframe tbody tr th {\n",
       "        vertical-align: top;\n",
       "    }\n",
       "\n",
       "    .dataframe thead th {\n",
       "        text-align: right;\n",
       "    }\n",
       "</style>\n",
       "<table border=\"1\" class=\"dataframe\">\n",
       "  <thead>\n",
       "    <tr style=\"text-align: right;\">\n",
       "      <th></th>\n",
       "      <th>id</th>\n",
       "      <th>qr_alm</th>\n",
       "      <th>org</th>\n",
       "      <th>sub_inv</th>\n",
       "      <th>almacen</th>\n",
       "      <th>articulo</th>\n",
       "      <th>descripcion</th>\n",
       "      <th>lpn_nuevo</th>\n",
       "      <th>ubicacion_nueva</th>\n",
       "      <th>estado_fisico_usadonuevo</th>\n",
       "      <th>...</th>\n",
       "      <th>activo</th>\n",
       "      <th>mxn</th>\n",
       "      <th>usd</th>\n",
       "      <th>tipo_de_ubicacion_resum_1</th>\n",
       "      <th>datasetname</th>\n",
       "      <th>filedate</th>\n",
       "      <th>year</th>\n",
       "      <th>month</th>\n",
       "      <th>day</th>\n",
       "      <th>serie_cleaned</th>\n",
       "    </tr>\n",
       "  </thead>\n",
       "  <tbody>\n",
       "    <tr>\n",
       "      <th>0</th>\n",
       "      <td>22</td>\n",
       "      <td>2PX1S19-001051</td>\n",
       "      <td>2PX</td>\n",
       "      <td>NUEVOS</td>\n",
       "      <td>DHL Tepotzotlan</td>\n",
       "      <td>W.9044002</td>\n",
       "      <td>MICROWAVE ANTENNA  1.2M  WITH SUPPORT HARDWARE...</td>\n",
       "      <td>ANC2018073000010</td>\n",
       "      <td>FR002A</td>\n",
       "      <td>NUEVO</td>\n",
       "      <td>...</td>\n",
       "      <td>2840187.0</td>\n",
       "      <td></td>\n",
       "      <td>667.7504461461715</td>\n",
       "      <td>Warehouse</td>\n",
       "      <td>sa_almacen_inventory</td>\n",
       "      <td>20191128</td>\n",
       "      <td>2019</td>\n",
       "      <td>11</td>\n",
       "      <td>28</td>\n",
       "      <td>0</td>\n",
       "    </tr>\n",
       "    <tr>\n",
       "      <th>1</th>\n",
       "      <td>22</td>\n",
       "      <td>2PX1S19-001051</td>\n",
       "      <td>2PX</td>\n",
       "      <td>NUEVOS</td>\n",
       "      <td>DHL Tepotzotlan</td>\n",
       "      <td>W.9044002</td>\n",
       "      <td>MICROWAVE ANTENNA  1.2M  WITH SUPPORT HARDWARE...</td>\n",
       "      <td>ANC2018073000010</td>\n",
       "      <td>FR002A</td>\n",
       "      <td>NUEVO</td>\n",
       "      <td>...</td>\n",
       "      <td>2840187.0</td>\n",
       "      <td></td>\n",
       "      <td>667.7504461461715</td>\n",
       "      <td>Warehouse</td>\n",
       "      <td>sa_almacen_inventory</td>\n",
       "      <td>20191128</td>\n",
       "      <td>2019</td>\n",
       "      <td>11</td>\n",
       "      <td>28</td>\n",
       "      <td>0</td>\n",
       "    </tr>\n",
       "    <tr>\n",
       "      <th>2</th>\n",
       "      <td>23</td>\n",
       "      <td>2PX1S19-001051</td>\n",
       "      <td>2PX</td>\n",
       "      <td>NUEVOS</td>\n",
       "      <td>DHL Tepotzotlan</td>\n",
       "      <td>W.9044002</td>\n",
       "      <td>MICROWAVE ANTENNA  1.2M  WITH SUPPORT HARDWARE...</td>\n",
       "      <td>ANC2018073000010</td>\n",
       "      <td>FR002A</td>\n",
       "      <td>NUEVO</td>\n",
       "      <td>...</td>\n",
       "      <td>2840183.0</td>\n",
       "      <td></td>\n",
       "      <td>667.7504461461715</td>\n",
       "      <td>Warehouse</td>\n",
       "      <td>sa_almacen_inventory</td>\n",
       "      <td>20191128</td>\n",
       "      <td>2019</td>\n",
       "      <td>11</td>\n",
       "      <td>28</td>\n",
       "      <td>0</td>\n",
       "    </tr>\n",
       "    <tr>\n",
       "      <th>3</th>\n",
       "      <td>23</td>\n",
       "      <td>2PX1S19-001051</td>\n",
       "      <td>2PX</td>\n",
       "      <td>NUEVOS</td>\n",
       "      <td>DHL Tepotzotlan</td>\n",
       "      <td>W.9044002</td>\n",
       "      <td>MICROWAVE ANTENNA  1.2M  WITH SUPPORT HARDWARE...</td>\n",
       "      <td>ANC2018073000010</td>\n",
       "      <td>FR002A</td>\n",
       "      <td>NUEVO</td>\n",
       "      <td>...</td>\n",
       "      <td>2840183.0</td>\n",
       "      <td></td>\n",
       "      <td>667.7504461461715</td>\n",
       "      <td>Warehouse</td>\n",
       "      <td>sa_almacen_inventory</td>\n",
       "      <td>20191128</td>\n",
       "      <td>2019</td>\n",
       "      <td>11</td>\n",
       "      <td>28</td>\n",
       "      <td>0</td>\n",
       "    </tr>\n",
       "    <tr>\n",
       "      <th>4</th>\n",
       "      <td>29</td>\n",
       "      <td>2PX1S19-001051</td>\n",
       "      <td>2PX</td>\n",
       "      <td>NUEVOS</td>\n",
       "      <td>DHL Tepotzotlan</td>\n",
       "      <td>W.9044002</td>\n",
       "      <td>MICROWAVE ANTENNA  1.2M  WITH SUPPORT HARDWARE...</td>\n",
       "      <td>ANC2018073000010</td>\n",
       "      <td>FR002A</td>\n",
       "      <td>NUEVO</td>\n",
       "      <td>...</td>\n",
       "      <td>2840196.0</td>\n",
       "      <td></td>\n",
       "      <td>667.7504461461715</td>\n",
       "      <td>Warehouse</td>\n",
       "      <td>sa_almacen_inventory</td>\n",
       "      <td>20191128</td>\n",
       "      <td>2019</td>\n",
       "      <td>11</td>\n",
       "      <td>28</td>\n",
       "      <td>0</td>\n",
       "    </tr>\n",
       "    <tr>\n",
       "      <th>5</th>\n",
       "      <td>29</td>\n",
       "      <td>2PX1S19-001051</td>\n",
       "      <td>2PX</td>\n",
       "      <td>NUEVOS</td>\n",
       "      <td>DHL Tepotzotlan</td>\n",
       "      <td>W.9044002</td>\n",
       "      <td>MICROWAVE ANTENNA  1.2M  WITH SUPPORT HARDWARE...</td>\n",
       "      <td>ANC2018073000010</td>\n",
       "      <td>FR002A</td>\n",
       "      <td>NUEVO</td>\n",
       "      <td>...</td>\n",
       "      <td>2840196.0</td>\n",
       "      <td></td>\n",
       "      <td>667.7504461461715</td>\n",
       "      <td>Warehouse</td>\n",
       "      <td>sa_almacen_inventory</td>\n",
       "      <td>20191128</td>\n",
       "      <td>2019</td>\n",
       "      <td>11</td>\n",
       "      <td>28</td>\n",
       "      <td>0</td>\n",
       "    </tr>\n",
       "    <tr>\n",
       "      <th>6</th>\n",
       "      <td>30</td>\n",
       "      <td>2PX1S19-001051</td>\n",
       "      <td>2PX</td>\n",
       "      <td>NUEVOS</td>\n",
       "      <td>DHL Tepotzotlan</td>\n",
       "      <td>W.9044002</td>\n",
       "      <td>MICROWAVE ANTENNA  1.2M  WITH SUPPORT HARDWARE...</td>\n",
       "      <td>ANC2018073000010</td>\n",
       "      <td>FR002A</td>\n",
       "      <td>NUEVO</td>\n",
       "      <td>...</td>\n",
       "      <td>2840191.0</td>\n",
       "      <td></td>\n",
       "      <td>667.7504461461715</td>\n",
       "      <td>Warehouse</td>\n",
       "      <td>sa_almacen_inventory</td>\n",
       "      <td>20191128</td>\n",
       "      <td>2019</td>\n",
       "      <td>11</td>\n",
       "      <td>28</td>\n",
       "      <td>0</td>\n",
       "    </tr>\n",
       "    <tr>\n",
       "      <th>7</th>\n",
       "      <td>30</td>\n",
       "      <td>2PX1S19-001051</td>\n",
       "      <td>2PX</td>\n",
       "      <td>NUEVOS</td>\n",
       "      <td>DHL Tepotzotlan</td>\n",
       "      <td>W.9044002</td>\n",
       "      <td>MICROWAVE ANTENNA  1.2M  WITH SUPPORT HARDWARE...</td>\n",
       "      <td>ANC2018073000010</td>\n",
       "      <td>FR002A</td>\n",
       "      <td>NUEVO</td>\n",
       "      <td>...</td>\n",
       "      <td>2840191.0</td>\n",
       "      <td></td>\n",
       "      <td>667.7504461461715</td>\n",
       "      <td>Warehouse</td>\n",
       "      <td>sa_almacen_inventory</td>\n",
       "      <td>20191128</td>\n",
       "      <td>2019</td>\n",
       "      <td>11</td>\n",
       "      <td>28</td>\n",
       "      <td>0</td>\n",
       "    </tr>\n",
       "    <tr>\n",
       "      <th>8</th>\n",
       "      <td>33</td>\n",
       "      <td>2PX1S19-001051</td>\n",
       "      <td>2PX</td>\n",
       "      <td>NUEVOS</td>\n",
       "      <td>DHL Tepotzotlan</td>\n",
       "      <td>W.9044002</td>\n",
       "      <td>MICROWAVE ANTENNA  1.2M  WITH SUPPORT HARDWARE...</td>\n",
       "      <td>ANC2018073000010</td>\n",
       "      <td>FR002A</td>\n",
       "      <td>NUEVO</td>\n",
       "      <td>...</td>\n",
       "      <td>2840194.0</td>\n",
       "      <td></td>\n",
       "      <td>667.7504461461715</td>\n",
       "      <td>Warehouse</td>\n",
       "      <td>sa_almacen_inventory</td>\n",
       "      <td>20191128</td>\n",
       "      <td>2019</td>\n",
       "      <td>11</td>\n",
       "      <td>28</td>\n",
       "      <td>0</td>\n",
       "    </tr>\n",
       "    <tr>\n",
       "      <th>9</th>\n",
       "      <td>33</td>\n",
       "      <td>2PX1S19-001051</td>\n",
       "      <td>2PX</td>\n",
       "      <td>NUEVOS</td>\n",
       "      <td>DHL Tepotzotlan</td>\n",
       "      <td>W.9044002</td>\n",
       "      <td>MICROWAVE ANTENNA  1.2M  WITH SUPPORT HARDWARE...</td>\n",
       "      <td>ANC2018073000010</td>\n",
       "      <td>FR002A</td>\n",
       "      <td>NUEVO</td>\n",
       "      <td>...</td>\n",
       "      <td>2840194.0</td>\n",
       "      <td></td>\n",
       "      <td>667.7504461461715</td>\n",
       "      <td>Warehouse</td>\n",
       "      <td>sa_almacen_inventory</td>\n",
       "      <td>20191128</td>\n",
       "      <td>2019</td>\n",
       "      <td>11</td>\n",
       "      <td>28</td>\n",
       "      <td>0</td>\n",
       "    </tr>\n",
       "    <tr>\n",
       "      <th>10</th>\n",
       "      <td>34</td>\n",
       "      <td>2PX1S19-001051</td>\n",
       "      <td>2PX</td>\n",
       "      <td>NUEVOS</td>\n",
       "      <td>DHL Tepotzotlan</td>\n",
       "      <td>W.9044002</td>\n",
       "      <td>MICROWAVE ANTENNA  1.2M  WITH SUPPORT HARDWARE...</td>\n",
       "      <td>ANC2018073000010</td>\n",
       "      <td>FR002A</td>\n",
       "      <td>NUEVO</td>\n",
       "      <td>...</td>\n",
       "      <td>2840195.0</td>\n",
       "      <td></td>\n",
       "      <td>667.7504461461715</td>\n",
       "      <td>Warehouse</td>\n",
       "      <td>sa_almacen_inventory</td>\n",
       "      <td>20191128</td>\n",
       "      <td>2019</td>\n",
       "      <td>11</td>\n",
       "      <td>28</td>\n",
       "      <td>0</td>\n",
       "    </tr>\n",
       "    <tr>\n",
       "      <th>11</th>\n",
       "      <td>34</td>\n",
       "      <td>2PX1S19-001051</td>\n",
       "      <td>2PX</td>\n",
       "      <td>NUEVOS</td>\n",
       "      <td>DHL Tepotzotlan</td>\n",
       "      <td>W.9044002</td>\n",
       "      <td>MICROWAVE ANTENNA  1.2M  WITH SUPPORT HARDWARE...</td>\n",
       "      <td>ANC2018073000010</td>\n",
       "      <td>FR002A</td>\n",
       "      <td>NUEVO</td>\n",
       "      <td>...</td>\n",
       "      <td>2840195.0</td>\n",
       "      <td></td>\n",
       "      <td>667.7504461461715</td>\n",
       "      <td>Warehouse</td>\n",
       "      <td>sa_almacen_inventory</td>\n",
       "      <td>20191128</td>\n",
       "      <td>2019</td>\n",
       "      <td>11</td>\n",
       "      <td>28</td>\n",
       "      <td>0</td>\n",
       "    </tr>\n",
       "    <tr>\n",
       "      <th>12</th>\n",
       "      <td>35</td>\n",
       "      <td>2PX1S19-001051</td>\n",
       "      <td>2PX</td>\n",
       "      <td>NUEVOS</td>\n",
       "      <td>DHL Tepotzotlan</td>\n",
       "      <td>W.9044002</td>\n",
       "      <td>MICROWAVE ANTENNA  1.2M  WITH SUPPORT HARDWARE...</td>\n",
       "      <td>ANC2018073000010</td>\n",
       "      <td>FR002A</td>\n",
       "      <td>NUEVO</td>\n",
       "      <td>...</td>\n",
       "      <td>2840197.0</td>\n",
       "      <td></td>\n",
       "      <td>667.7504461461715</td>\n",
       "      <td>Warehouse</td>\n",
       "      <td>sa_almacen_inventory</td>\n",
       "      <td>20191128</td>\n",
       "      <td>2019</td>\n",
       "      <td>11</td>\n",
       "      <td>28</td>\n",
       "      <td>0</td>\n",
       "    </tr>\n",
       "    <tr>\n",
       "      <th>13</th>\n",
       "      <td>35</td>\n",
       "      <td>2PX1S19-001051</td>\n",
       "      <td>2PX</td>\n",
       "      <td>NUEVOS</td>\n",
       "      <td>DHL Tepotzotlan</td>\n",
       "      <td>W.9044002</td>\n",
       "      <td>MICROWAVE ANTENNA  1.2M  WITH SUPPORT HARDWARE...</td>\n",
       "      <td>ANC2018073000010</td>\n",
       "      <td>FR002A</td>\n",
       "      <td>NUEVO</td>\n",
       "      <td>...</td>\n",
       "      <td>2840197.0</td>\n",
       "      <td></td>\n",
       "      <td>667.7504461461715</td>\n",
       "      <td>Warehouse</td>\n",
       "      <td>sa_almacen_inventory</td>\n",
       "      <td>20191128</td>\n",
       "      <td>2019</td>\n",
       "      <td>11</td>\n",
       "      <td>28</td>\n",
       "      <td>0</td>\n",
       "    </tr>\n",
       "    <tr>\n",
       "      <th>14</th>\n",
       "      <td>37</td>\n",
       "      <td>2PX1S19-001051</td>\n",
       "      <td>2PX</td>\n",
       "      <td>NUEVOS</td>\n",
       "      <td>DHL Tepotzotlan</td>\n",
       "      <td>W.9044002</td>\n",
       "      <td>MICROWAVE ANTENNA  1.2M  WITH SUPPORT HARDWARE...</td>\n",
       "      <td>ANC2018073000010</td>\n",
       "      <td>FR002A</td>\n",
       "      <td>NUEVO</td>\n",
       "      <td>...</td>\n",
       "      <td>2844305.0</td>\n",
       "      <td></td>\n",
       "      <td>672.33585163775513</td>\n",
       "      <td>Warehouse</td>\n",
       "      <td>sa_almacen_inventory</td>\n",
       "      <td>20191128</td>\n",
       "      <td>2019</td>\n",
       "      <td>11</td>\n",
       "      <td>28</td>\n",
       "      <td>0</td>\n",
       "    </tr>\n",
       "  </tbody>\n",
       "</table>\n",
       "<p>15 rows × 23 columns</p>\n",
       "</div>"
      ],
      "text/plain": [
       "    id          qr_alm  org sub_inv          almacen   articulo  \\\n",
       "0   22  2PX1S19-001051  2PX  NUEVOS  DHL Tepotzotlan  W.9044002   \n",
       "1   22  2PX1S19-001051  2PX  NUEVOS  DHL Tepotzotlan  W.9044002   \n",
       "2   23  2PX1S19-001051  2PX  NUEVOS  DHL Tepotzotlan  W.9044002   \n",
       "3   23  2PX1S19-001051  2PX  NUEVOS  DHL Tepotzotlan  W.9044002   \n",
       "4   29  2PX1S19-001051  2PX  NUEVOS  DHL Tepotzotlan  W.9044002   \n",
       "5   29  2PX1S19-001051  2PX  NUEVOS  DHL Tepotzotlan  W.9044002   \n",
       "6   30  2PX1S19-001051  2PX  NUEVOS  DHL Tepotzotlan  W.9044002   \n",
       "7   30  2PX1S19-001051  2PX  NUEVOS  DHL Tepotzotlan  W.9044002   \n",
       "8   33  2PX1S19-001051  2PX  NUEVOS  DHL Tepotzotlan  W.9044002   \n",
       "9   33  2PX1S19-001051  2PX  NUEVOS  DHL Tepotzotlan  W.9044002   \n",
       "10  34  2PX1S19-001051  2PX  NUEVOS  DHL Tepotzotlan  W.9044002   \n",
       "11  34  2PX1S19-001051  2PX  NUEVOS  DHL Tepotzotlan  W.9044002   \n",
       "12  35  2PX1S19-001051  2PX  NUEVOS  DHL Tepotzotlan  W.9044002   \n",
       "13  35  2PX1S19-001051  2PX  NUEVOS  DHL Tepotzotlan  W.9044002   \n",
       "14  37  2PX1S19-001051  2PX  NUEVOS  DHL Tepotzotlan  W.9044002   \n",
       "\n",
       "                                          descripcion         lpn_nuevo  \\\n",
       "0   MICROWAVE ANTENNA  1.2M  WITH SUPPORT HARDWARE...  ANC2018073000010   \n",
       "1   MICROWAVE ANTENNA  1.2M  WITH SUPPORT HARDWARE...  ANC2018073000010   \n",
       "2   MICROWAVE ANTENNA  1.2M  WITH SUPPORT HARDWARE...  ANC2018073000010   \n",
       "3   MICROWAVE ANTENNA  1.2M  WITH SUPPORT HARDWARE...  ANC2018073000010   \n",
       "4   MICROWAVE ANTENNA  1.2M  WITH SUPPORT HARDWARE...  ANC2018073000010   \n",
       "5   MICROWAVE ANTENNA  1.2M  WITH SUPPORT HARDWARE...  ANC2018073000010   \n",
       "6   MICROWAVE ANTENNA  1.2M  WITH SUPPORT HARDWARE...  ANC2018073000010   \n",
       "7   MICROWAVE ANTENNA  1.2M  WITH SUPPORT HARDWARE...  ANC2018073000010   \n",
       "8   MICROWAVE ANTENNA  1.2M  WITH SUPPORT HARDWARE...  ANC2018073000010   \n",
       "9   MICROWAVE ANTENNA  1.2M  WITH SUPPORT HARDWARE...  ANC2018073000010   \n",
       "10  MICROWAVE ANTENNA  1.2M  WITH SUPPORT HARDWARE...  ANC2018073000010   \n",
       "11  MICROWAVE ANTENNA  1.2M  WITH SUPPORT HARDWARE...  ANC2018073000010   \n",
       "12  MICROWAVE ANTENNA  1.2M  WITH SUPPORT HARDWARE...  ANC2018073000010   \n",
       "13  MICROWAVE ANTENNA  1.2M  WITH SUPPORT HARDWARE...  ANC2018073000010   \n",
       "14  MICROWAVE ANTENNA  1.2M  WITH SUPPORT HARDWARE...  ANC2018073000010   \n",
       "\n",
       "   ubicacion_nueva estado_fisico_usadonuevo      ...           activo mxn  \\\n",
       "0           FR002A                    NUEVO      ...        2840187.0       \n",
       "1           FR002A                    NUEVO      ...        2840187.0       \n",
       "2           FR002A                    NUEVO      ...        2840183.0       \n",
       "3           FR002A                    NUEVO      ...        2840183.0       \n",
       "4           FR002A                    NUEVO      ...        2840196.0       \n",
       "5           FR002A                    NUEVO      ...        2840196.0       \n",
       "6           FR002A                    NUEVO      ...        2840191.0       \n",
       "7           FR002A                    NUEVO      ...        2840191.0       \n",
       "8           FR002A                    NUEVO      ...        2840194.0       \n",
       "9           FR002A                    NUEVO      ...        2840194.0       \n",
       "10          FR002A                    NUEVO      ...        2840195.0       \n",
       "11          FR002A                    NUEVO      ...        2840195.0       \n",
       "12          FR002A                    NUEVO      ...        2840197.0       \n",
       "13          FR002A                    NUEVO      ...        2840197.0       \n",
       "14          FR002A                    NUEVO      ...        2844305.0       \n",
       "\n",
       "                   usd tipo_de_ubicacion_resum_1           datasetname  \\\n",
       "0    667.7504461461715                 Warehouse  sa_almacen_inventory   \n",
       "1    667.7504461461715                 Warehouse  sa_almacen_inventory   \n",
       "2    667.7504461461715                 Warehouse  sa_almacen_inventory   \n",
       "3    667.7504461461715                 Warehouse  sa_almacen_inventory   \n",
       "4    667.7504461461715                 Warehouse  sa_almacen_inventory   \n",
       "5    667.7504461461715                 Warehouse  sa_almacen_inventory   \n",
       "6    667.7504461461715                 Warehouse  sa_almacen_inventory   \n",
       "7    667.7504461461715                 Warehouse  sa_almacen_inventory   \n",
       "8    667.7504461461715                 Warehouse  sa_almacen_inventory   \n",
       "9    667.7504461461715                 Warehouse  sa_almacen_inventory   \n",
       "10   667.7504461461715                 Warehouse  sa_almacen_inventory   \n",
       "11   667.7504461461715                 Warehouse  sa_almacen_inventory   \n",
       "12   667.7504461461715                 Warehouse  sa_almacen_inventory   \n",
       "13   667.7504461461715                 Warehouse  sa_almacen_inventory   \n",
       "14  672.33585163775513                 Warehouse  sa_almacen_inventory   \n",
       "\n",
       "    filedate  year month  day  serie_cleaned  \n",
       "0   20191128  2019    11   28              0  \n",
       "1   20191128  2019    11   28              0  \n",
       "2   20191128  2019    11   28              0  \n",
       "3   20191128  2019    11   28              0  \n",
       "4   20191128  2019    11   28              0  \n",
       "5   20191128  2019    11   28              0  \n",
       "6   20191128  2019    11   28              0  \n",
       "7   20191128  2019    11   28              0  \n",
       "8   20191128  2019    11   28              0  \n",
       "9   20191128  2019    11   28              0  \n",
       "10  20191128  2019    11   28              0  \n",
       "11  20191128  2019    11   28              0  \n",
       "12  20191128  2019    11   28              0  \n",
       "13  20191128  2019    11   28              0  \n",
       "14  20191128  2019    11   28              0  \n",
       "\n",
       "[15 rows x 23 columns]"
      ]
     },
     "execution_count": 7,
     "metadata": {},
     "output_type": "execute_result"
    }
   ],
   "source": [
    "df.head(15)"
   ]
  },
  {
   "cell_type": "code",
   "execution_count": 8,
   "metadata": {},
   "outputs": [
    {
     "data": {
      "text/plain": [
       "Index([u'id', u'qr_alm', u'org', u'sub_inv', u'almacen', u'articulo',\n",
       "       u'descripcion', u'lpn_nuevo', u'ubicacion_nueva',\n",
       "       u'estado_fisico_usadonuevo', u'tipo_de_articulo', u'serie', u'etiqueta',\n",
       "       u'activo', u'mxn', u'usd', u'tipo_de_ubicacion_resum_1', u'datasetname',\n",
       "       u'filedate', u'year', u'month', u'day', u'serie_cleaned'],\n",
       "      dtype='object')"
      ]
     },
     "execution_count": 8,
     "metadata": {},
     "output_type": "execute_result"
    }
   ],
   "source": [
    "df.columns"
   ]
  },
  {
   "cell_type": "markdown",
   "metadata": {},
   "source": [
    "### Diccionario de datos\n",
    "\n",
    "A continuación se enlistan los campos de la fuente con una breve descripción de negocio.  **Carina**\n",
    "    \n",
    "* **id**: Código interno que identifica al elemento en el almacén.\n",
    "* **qr**: Código QR interno que identifica al elemento en el almacén por organización.\n",
    "* **org**: Código que identifica sitios en un almacén.\n",
    "* **subinv**: Señala estado del articulo (Nuevo, usado, obsoleto, dañado, ...).\n",
    "* **almacen**:Nombre del almacén en el que se encuentra el elemento.\n",
    "* **articulo**: Identificador único de Oracle.\n",
    "* **descripcion**: Descripción general del elemento.\n",
    "* **upd**: Unidad de medida.\n",
    "* **lpn_nuevo**: Identificador QR de un elemento cuando ha cambiado de almacén.\n",
    "* **ubicacion_nueva**: Ubicación dentro del almacén a donde se ha movido el elemento.\n",
    "* **estado_fisico**: Estatus del elemento (Nuevo, usado).\n",
    "* **cantidad**: Número de elementos.\n",
    "* **tipo de control**: Identificador de como se encontró el elemento.\n",
    "* **pasillo**: Pasillo donde se encuentra el elemento.\n",
    "* **nivel**: Nivel donde se encuentra el elemento.\n",
    "* **parnon**: Parnon donde se encuentra el elemento.\n",
    "* **tipo_articulo**: Tipo de Artículo.\n",
    "* **serie**: Identificador único que tiene el proveedor.\n",
    "* **etiqueta**: Id único del elemento de red que da AT&T (Activo)."
   ]
  },
  {
   "cell_type": "markdown",
   "metadata": {},
   "source": [
    "\n",
    "### 2. Descripción de las fuentes.\n",
    "En este apartado se hará una descripción a detalle de las fuentes para una mejor comprensión de los datos. Por cada fuente se mostrarán los tipos de datos, tamaño de la fuente, es decir, su dimensionalidad y una estadística descriptiva, en ese orden."
   ]
  },
  {
   "cell_type": "code",
   "execution_count": 9,
   "metadata": {},
   "outputs": [
    {
     "name": "stdout",
     "output_type": "stream",
     "text": [
      "('Columnas de la fuente segregacion son: ', ['id', 'qr_alm', 'org', 'sub_inv', 'almacen', 'articulo', 'descripcion', 'lpn_nuevo', 'ubicacion_nueva', 'estado_fisico_usadonuevo', 'tipo_de_articulo', 'serie', 'etiqueta', 'activo', 'mxn', 'usd', 'tipo_de_ubicacion_resum_1', 'datasetname', 'filedate', 'year', 'month', 'day', 'serie_cleaned'])\n"
     ]
    },
    {
     "data": {
      "text/html": [
       "<div>\n",
       "<style scoped>\n",
       "    .dataframe tbody tr th:only-of-type {\n",
       "        vertical-align: middle;\n",
       "    }\n",
       "\n",
       "    .dataframe tbody tr th {\n",
       "        vertical-align: top;\n",
       "    }\n",
       "\n",
       "    .dataframe thead th {\n",
       "        text-align: right;\n",
       "    }\n",
       "</style>\n",
       "<table border=\"1\" class=\"dataframe\">\n",
       "  <thead>\n",
       "    <tr style=\"text-align: right;\">\n",
       "      <th></th>\n",
       "      <th>Tipo de objeto Segregación</th>\n",
       "    </tr>\n",
       "  </thead>\n",
       "  <tbody>\n",
       "    <tr>\n",
       "      <th>id</th>\n",
       "      <td>object</td>\n",
       "    </tr>\n",
       "    <tr>\n",
       "      <th>qr_alm</th>\n",
       "      <td>object</td>\n",
       "    </tr>\n",
       "    <tr>\n",
       "      <th>org</th>\n",
       "      <td>object</td>\n",
       "    </tr>\n",
       "    <tr>\n",
       "      <th>sub_inv</th>\n",
       "      <td>object</td>\n",
       "    </tr>\n",
       "    <tr>\n",
       "      <th>almacen</th>\n",
       "      <td>object</td>\n",
       "    </tr>\n",
       "    <tr>\n",
       "      <th>articulo</th>\n",
       "      <td>object</td>\n",
       "    </tr>\n",
       "    <tr>\n",
       "      <th>descripcion</th>\n",
       "      <td>object</td>\n",
       "    </tr>\n",
       "    <tr>\n",
       "      <th>lpn_nuevo</th>\n",
       "      <td>object</td>\n",
       "    </tr>\n",
       "    <tr>\n",
       "      <th>ubicacion_nueva</th>\n",
       "      <td>object</td>\n",
       "    </tr>\n",
       "    <tr>\n",
       "      <th>estado_fisico_usadonuevo</th>\n",
       "      <td>object</td>\n",
       "    </tr>\n",
       "    <tr>\n",
       "      <th>tipo_de_articulo</th>\n",
       "      <td>object</td>\n",
       "    </tr>\n",
       "    <tr>\n",
       "      <th>serie</th>\n",
       "      <td>object</td>\n",
       "    </tr>\n",
       "    <tr>\n",
       "      <th>etiqueta</th>\n",
       "      <td>object</td>\n",
       "    </tr>\n",
       "    <tr>\n",
       "      <th>activo</th>\n",
       "      <td>object</td>\n",
       "    </tr>\n",
       "    <tr>\n",
       "      <th>mxn</th>\n",
       "      <td>object</td>\n",
       "    </tr>\n",
       "    <tr>\n",
       "      <th>usd</th>\n",
       "      <td>object</td>\n",
       "    </tr>\n",
       "    <tr>\n",
       "      <th>tipo_de_ubicacion_resum_1</th>\n",
       "      <td>object</td>\n",
       "    </tr>\n",
       "    <tr>\n",
       "      <th>datasetname</th>\n",
       "      <td>object</td>\n",
       "    </tr>\n",
       "    <tr>\n",
       "      <th>filedate</th>\n",
       "      <td>int64</td>\n",
       "    </tr>\n",
       "    <tr>\n",
       "      <th>year</th>\n",
       "      <td>int32</td>\n",
       "    </tr>\n",
       "    <tr>\n",
       "      <th>month</th>\n",
       "      <td>int32</td>\n",
       "    </tr>\n",
       "    <tr>\n",
       "      <th>day</th>\n",
       "      <td>int32</td>\n",
       "    </tr>\n",
       "    <tr>\n",
       "      <th>serie_cleaned</th>\n",
       "      <td>int32</td>\n",
       "    </tr>\n",
       "  </tbody>\n",
       "</table>\n",
       "</div>"
      ],
      "text/plain": [
       "                          Tipo de objeto Segregación\n",
       "id                                            object\n",
       "qr_alm                                        object\n",
       "org                                           object\n",
       "sub_inv                                       object\n",
       "almacen                                       object\n",
       "articulo                                      object\n",
       "descripcion                                   object\n",
       "lpn_nuevo                                     object\n",
       "ubicacion_nueva                               object\n",
       "estado_fisico_usadonuevo                      object\n",
       "tipo_de_articulo                              object\n",
       "serie                                         object\n",
       "etiqueta                                      object\n",
       "activo                                        object\n",
       "mxn                                           object\n",
       "usd                                           object\n",
       "tipo_de_ubicacion_resum_1                     object\n",
       "datasetname                                   object\n",
       "filedate                                       int64\n",
       "year                                           int32\n",
       "month                                          int32\n",
       "day                                            int32\n",
       "serie_cleaned                                  int32"
      ]
     },
     "execution_count": 9,
     "metadata": {},
     "output_type": "execute_result"
    }
   ],
   "source": [
    "camposSegg=df.columns\n",
    "print('Columnas de la fuente segregacion son: ',list(camposSegg))\n",
    "pd.DataFrame(df.dtypes,columns=['Tipo de objeto Segregación'])"
   ]
  },
  {
   "cell_type": "code",
   "execution_count": 10,
   "metadata": {},
   "outputs": [
    {
     "name": "stdout",
     "output_type": "stream",
     "text": [
      "('renglones = ', 356922, ' columnas = ', 23)\n"
     ]
    }
   ],
   "source": [
    "print('renglones = ',df.shape[0],' columnas = ',df.shape[1])"
   ]
  },
  {
   "cell_type": "code",
   "execution_count": 11,
   "metadata": {},
   "outputs": [
    {
     "data": {
      "text/html": [
       "<div>\n",
       "<style scoped>\n",
       "    .dataframe tbody tr th:only-of-type {\n",
       "        vertical-align: middle;\n",
       "    }\n",
       "\n",
       "    .dataframe tbody tr th {\n",
       "        vertical-align: top;\n",
       "    }\n",
       "\n",
       "    .dataframe thead th {\n",
       "        text-align: right;\n",
       "    }\n",
       "</style>\n",
       "<table border=\"1\" class=\"dataframe\">\n",
       "  <thead>\n",
       "    <tr style=\"text-align: right;\">\n",
       "      <th></th>\n",
       "      <th>id</th>\n",
       "      <th>qr_alm</th>\n",
       "      <th>org</th>\n",
       "      <th>sub_inv</th>\n",
       "      <th>almacen</th>\n",
       "      <th>articulo</th>\n",
       "      <th>descripcion</th>\n",
       "      <th>lpn_nuevo</th>\n",
       "      <th>ubicacion_nueva</th>\n",
       "      <th>estado_fisico_usadonuevo</th>\n",
       "      <th>tipo_de_articulo</th>\n",
       "      <th>serie</th>\n",
       "      <th>etiqueta</th>\n",
       "      <th>activo</th>\n",
       "      <th>mxn</th>\n",
       "      <th>usd</th>\n",
       "      <th>tipo_de_ubicacion_resum_1</th>\n",
       "      <th>serie_cleaned</th>\n",
       "    </tr>\n",
       "  </thead>\n",
       "  <tbody>\n",
       "    <tr>\n",
       "      <th>count</th>\n",
       "      <td>356922</td>\n",
       "      <td>356922</td>\n",
       "      <td>356922</td>\n",
       "      <td>356922</td>\n",
       "      <td>356922</td>\n",
       "      <td>356922</td>\n",
       "      <td>356922</td>\n",
       "      <td>356922</td>\n",
       "      <td>356922</td>\n",
       "      <td>356922</td>\n",
       "      <td>356922</td>\n",
       "      <td>356922</td>\n",
       "      <td>356922</td>\n",
       "      <td>356922</td>\n",
       "      <td>356922</td>\n",
       "      <td>356922</td>\n",
       "      <td>356922</td>\n",
       "      <td>356922.000000</td>\n",
       "    </tr>\n",
       "    <tr>\n",
       "      <th>unique</th>\n",
       "      <td>333471</td>\n",
       "      <td>15257</td>\n",
       "      <td>48</td>\n",
       "      <td>19</td>\n",
       "      <td>46</td>\n",
       "      <td>10586</td>\n",
       "      <td>10934</td>\n",
       "      <td>10873</td>\n",
       "      <td>7949</td>\n",
       "      <td>5</td>\n",
       "      <td>7</td>\n",
       "      <td>298327</td>\n",
       "      <td>182737</td>\n",
       "      <td>68820</td>\n",
       "      <td>1</td>\n",
       "      <td>2533</td>\n",
       "      <td>4</td>\n",
       "      <td>NaN</td>\n",
       "    </tr>\n",
       "    <tr>\n",
       "      <th>top</th>\n",
       "      <td>111768</td>\n",
       "      <td>0.0</td>\n",
       "      <td>2PX</td>\n",
       "      <td>USADODISP</td>\n",
       "      <td>DHL Tepotzotlan</td>\n",
       "      <td>W.1013182</td>\n",
       "      <td>ANTENA TIPO: DIRECTED POLE PANEL POLARIZACION:...</td>\n",
       "      <td>0.0</td>\n",
       "      <td>0.0</td>\n",
       "      <td>NUEVO</td>\n",
       "      <td>W</td>\n",
       "      <td></td>\n",
       "      <td></td>\n",
       "      <td></td>\n",
       "      <td></td>\n",
       "      <td></td>\n",
       "      <td></td>\n",
       "      <td>NaN</td>\n",
       "    </tr>\n",
       "    <tr>\n",
       "      <th>freq</th>\n",
       "      <td>4</td>\n",
       "      <td>215668</td>\n",
       "      <td>156022</td>\n",
       "      <td>182684</td>\n",
       "      <td>156022</td>\n",
       "      <td>8362</td>\n",
       "      <td>8105</td>\n",
       "      <td>214612</td>\n",
       "      <td>214612</td>\n",
       "      <td>327096</td>\n",
       "      <td>196192</td>\n",
       "      <td>35094</td>\n",
       "      <td>150084</td>\n",
       "      <td>266108</td>\n",
       "      <td>356922</td>\n",
       "      <td>266108</td>\n",
       "      <td>260600</td>\n",
       "      <td>NaN</td>\n",
       "    </tr>\n",
       "    <tr>\n",
       "      <th>mean</th>\n",
       "      <td>NaN</td>\n",
       "      <td>NaN</td>\n",
       "      <td>NaN</td>\n",
       "      <td>NaN</td>\n",
       "      <td>NaN</td>\n",
       "      <td>NaN</td>\n",
       "      <td>NaN</td>\n",
       "      <td>NaN</td>\n",
       "      <td>NaN</td>\n",
       "      <td>NaN</td>\n",
       "      <td>NaN</td>\n",
       "      <td>NaN</td>\n",
       "      <td>NaN</td>\n",
       "      <td>NaN</td>\n",
       "      <td>NaN</td>\n",
       "      <td>NaN</td>\n",
       "      <td>NaN</td>\n",
       "      <td>0.127966</td>\n",
       "    </tr>\n",
       "    <tr>\n",
       "      <th>std</th>\n",
       "      <td>NaN</td>\n",
       "      <td>NaN</td>\n",
       "      <td>NaN</td>\n",
       "      <td>NaN</td>\n",
       "      <td>NaN</td>\n",
       "      <td>NaN</td>\n",
       "      <td>NaN</td>\n",
       "      <td>NaN</td>\n",
       "      <td>NaN</td>\n",
       "      <td>NaN</td>\n",
       "      <td>NaN</td>\n",
       "      <td>NaN</td>\n",
       "      <td>NaN</td>\n",
       "      <td>NaN</td>\n",
       "      <td>NaN</td>\n",
       "      <td>NaN</td>\n",
       "      <td>NaN</td>\n",
       "      <td>0.334053</td>\n",
       "    </tr>\n",
       "    <tr>\n",
       "      <th>min</th>\n",
       "      <td>NaN</td>\n",
       "      <td>NaN</td>\n",
       "      <td>NaN</td>\n",
       "      <td>NaN</td>\n",
       "      <td>NaN</td>\n",
       "      <td>NaN</td>\n",
       "      <td>NaN</td>\n",
       "      <td>NaN</td>\n",
       "      <td>NaN</td>\n",
       "      <td>NaN</td>\n",
       "      <td>NaN</td>\n",
       "      <td>NaN</td>\n",
       "      <td>NaN</td>\n",
       "      <td>NaN</td>\n",
       "      <td>NaN</td>\n",
       "      <td>NaN</td>\n",
       "      <td>NaN</td>\n",
       "      <td>0.000000</td>\n",
       "    </tr>\n",
       "    <tr>\n",
       "      <th>25%</th>\n",
       "      <td>NaN</td>\n",
       "      <td>NaN</td>\n",
       "      <td>NaN</td>\n",
       "      <td>NaN</td>\n",
       "      <td>NaN</td>\n",
       "      <td>NaN</td>\n",
       "      <td>NaN</td>\n",
       "      <td>NaN</td>\n",
       "      <td>NaN</td>\n",
       "      <td>NaN</td>\n",
       "      <td>NaN</td>\n",
       "      <td>NaN</td>\n",
       "      <td>NaN</td>\n",
       "      <td>NaN</td>\n",
       "      <td>NaN</td>\n",
       "      <td>NaN</td>\n",
       "      <td>NaN</td>\n",
       "      <td>0.000000</td>\n",
       "    </tr>\n",
       "    <tr>\n",
       "      <th>50%</th>\n",
       "      <td>NaN</td>\n",
       "      <td>NaN</td>\n",
       "      <td>NaN</td>\n",
       "      <td>NaN</td>\n",
       "      <td>NaN</td>\n",
       "      <td>NaN</td>\n",
       "      <td>NaN</td>\n",
       "      <td>NaN</td>\n",
       "      <td>NaN</td>\n",
       "      <td>NaN</td>\n",
       "      <td>NaN</td>\n",
       "      <td>NaN</td>\n",
       "      <td>NaN</td>\n",
       "      <td>NaN</td>\n",
       "      <td>NaN</td>\n",
       "      <td>NaN</td>\n",
       "      <td>NaN</td>\n",
       "      <td>0.000000</td>\n",
       "    </tr>\n",
       "    <tr>\n",
       "      <th>75%</th>\n",
       "      <td>NaN</td>\n",
       "      <td>NaN</td>\n",
       "      <td>NaN</td>\n",
       "      <td>NaN</td>\n",
       "      <td>NaN</td>\n",
       "      <td>NaN</td>\n",
       "      <td>NaN</td>\n",
       "      <td>NaN</td>\n",
       "      <td>NaN</td>\n",
       "      <td>NaN</td>\n",
       "      <td>NaN</td>\n",
       "      <td>NaN</td>\n",
       "      <td>NaN</td>\n",
       "      <td>NaN</td>\n",
       "      <td>NaN</td>\n",
       "      <td>NaN</td>\n",
       "      <td>NaN</td>\n",
       "      <td>0.000000</td>\n",
       "    </tr>\n",
       "    <tr>\n",
       "      <th>max</th>\n",
       "      <td>NaN</td>\n",
       "      <td>NaN</td>\n",
       "      <td>NaN</td>\n",
       "      <td>NaN</td>\n",
       "      <td>NaN</td>\n",
       "      <td>NaN</td>\n",
       "      <td>NaN</td>\n",
       "      <td>NaN</td>\n",
       "      <td>NaN</td>\n",
       "      <td>NaN</td>\n",
       "      <td>NaN</td>\n",
       "      <td>NaN</td>\n",
       "      <td>NaN</td>\n",
       "      <td>NaN</td>\n",
       "      <td>NaN</td>\n",
       "      <td>NaN</td>\n",
       "      <td>NaN</td>\n",
       "      <td>1.000000</td>\n",
       "    </tr>\n",
       "  </tbody>\n",
       "</table>\n",
       "</div>"
      ],
      "text/plain": [
       "            id  qr_alm     org    sub_inv          almacen   articulo  \\\n",
       "count   356922  356922  356922     356922           356922     356922   \n",
       "unique  333471   15257      48         19               46      10586   \n",
       "top     111768     0.0     2PX  USADODISP  DHL Tepotzotlan  W.1013182   \n",
       "freq         4  215668  156022     182684           156022       8362   \n",
       "mean       NaN     NaN     NaN        NaN              NaN        NaN   \n",
       "std        NaN     NaN     NaN        NaN              NaN        NaN   \n",
       "min        NaN     NaN     NaN        NaN              NaN        NaN   \n",
       "25%        NaN     NaN     NaN        NaN              NaN        NaN   \n",
       "50%        NaN     NaN     NaN        NaN              NaN        NaN   \n",
       "75%        NaN     NaN     NaN        NaN              NaN        NaN   \n",
       "max        NaN     NaN     NaN        NaN              NaN        NaN   \n",
       "\n",
       "                                              descripcion lpn_nuevo  \\\n",
       "count                                              356922    356922   \n",
       "unique                                              10934     10873   \n",
       "top     ANTENA TIPO: DIRECTED POLE PANEL POLARIZACION:...       0.0   \n",
       "freq                                                 8105    214612   \n",
       "mean                                                  NaN       NaN   \n",
       "std                                                   NaN       NaN   \n",
       "min                                                   NaN       NaN   \n",
       "25%                                                   NaN       NaN   \n",
       "50%                                                   NaN       NaN   \n",
       "75%                                                   NaN       NaN   \n",
       "max                                                   NaN       NaN   \n",
       "\n",
       "       ubicacion_nueva estado_fisico_usadonuevo tipo_de_articulo   serie  \\\n",
       "count           356922                   356922           356922  356922   \n",
       "unique            7949                        5                7  298327   \n",
       "top                0.0                    NUEVO                W           \n",
       "freq            214612                   327096           196192   35094   \n",
       "mean               NaN                      NaN              NaN     NaN   \n",
       "std                NaN                      NaN              NaN     NaN   \n",
       "min                NaN                      NaN              NaN     NaN   \n",
       "25%                NaN                      NaN              NaN     NaN   \n",
       "50%                NaN                      NaN              NaN     NaN   \n",
       "75%                NaN                      NaN              NaN     NaN   \n",
       "max                NaN                      NaN              NaN     NaN   \n",
       "\n",
       "       etiqueta  activo     mxn     usd tipo_de_ubicacion_resum_1  \\\n",
       "count    356922  356922  356922  356922                    356922   \n",
       "unique   182737   68820       1    2533                         4   \n",
       "top                                                                 \n",
       "freq     150084  266108  356922  266108                    260600   \n",
       "mean        NaN     NaN     NaN     NaN                       NaN   \n",
       "std         NaN     NaN     NaN     NaN                       NaN   \n",
       "min         NaN     NaN     NaN     NaN                       NaN   \n",
       "25%         NaN     NaN     NaN     NaN                       NaN   \n",
       "50%         NaN     NaN     NaN     NaN                       NaN   \n",
       "75%         NaN     NaN     NaN     NaN                       NaN   \n",
       "max         NaN     NaN     NaN     NaN                       NaN   \n",
       "\n",
       "        serie_cleaned  \n",
       "count   356922.000000  \n",
       "unique            NaN  \n",
       "top               NaN  \n",
       "freq              NaN  \n",
       "mean         0.127966  \n",
       "std          0.334053  \n",
       "min          0.000000  \n",
       "25%          0.000000  \n",
       "50%          0.000000  \n",
       "75%          0.000000  \n",
       "max          1.000000  "
      ]
     },
     "execution_count": 11,
     "metadata": {},
     "output_type": "execute_result"
    }
   ],
   "source": [
    "NOrelevantes=['filedate', 'filename', 'hash_id', 'sourceid',\n",
    "              'registry_state', 'datasetname', 'timestamp',\n",
    "              'transaction_status', 'year', 'month', 'day']\n",
    "\n",
    "relevantes=[v for v in df.columns if v not in NOrelevantes]\n",
    "\n",
    "df[relevantes].describe(include='all')"
   ]
  },
  {
   "cell_type": "markdown",
   "metadata": {},
   "source": [
    "#### De esta tabla describe, podemos observar que hay:\n",
    "* Podría crearse un catálogo de almacenes, tipos de artículo y sub_inv\n",
    "* En su mayoría, contamos con variables categóricas, razón por la cuál las secciones estadísticas no arrojan información. \n"
   ]
  },
  {
   "cell_type": "markdown",
   "metadata": {},
   "source": [
    "Se proponen los siguientes catálogos derivados de la fuente de Almacén Inventario:\n",
    "\n",
    "* **sub_inv**: Señala estado del articulo (Nuevo, usado, obsoleto, dañado, ...).\n",
    "* **almacen**: Nombre del almacén en el que se encuentra el elemento.\n",
    "* **tipo_articulo**: Tipo de Artículo.\n",
    "\n",
    "Estos catálogos nos ayudarán a mapear todas las diferentes variantes que existen para cada elemento. \n",
    "\n",
    "Se utilizó el catálogo de Almacenes **Info_almacenes**."
   ]
  },
  {
   "cell_type": "markdown",
   "metadata": {},
   "source": [
    "### 3. Exploración de los datos.\n",
    "De acuerdo al análisis anterior, procedemos a hacer una exploración de los datos con gráficas, de manera particular nos enfocaremos en los catálogos. "
   ]
  },
  {
   "cell_type": "markdown",
   "metadata": {},
   "source": [
    "#### Para empezar, haremos una limpieza por columna:"
   ]
  },
  {
   "cell_type": "code",
   "execution_count": 12,
   "metadata": {},
   "outputs": [],
   "source": [
    "df.qr_alm.replace('0',np.NaN,inplace=True)\n",
    "df.lpn_nuevo.replace('0',np.NaN,inplace=True)\n",
    "df.ubicacion_nueva.replace('0',np.NaN,inplace=True)\n",
    "df.estado_fisico_usadonuevo.replace('0',np.NaN,inplace=True)\n",
    "df.estado_fisico_usadonuevo.replace('-',np.NaN,inplace=True)\n",
    "df.etiqueta.replace('',np.NaN,inplace=True)\n",
    "df.serie.replace('',np.NaN,inplace=True)\n",
    "df.activo.replace('',np.NaN,inplace=True)\n",
    "df.mxn.replace('',np.NaN,inplace=True)"
   ]
  },
  {
   "cell_type": "code",
   "execution_count": 13,
   "metadata": {},
   "outputs": [
    {
     "name": "stderr",
     "output_type": "stream",
     "text": [
      "/opt/cloudera/parcels/Anaconda-5.3.1/lib/python2.7/site-packages/ipykernel_launcher.py:3: SettingWithCopyWarning: \n",
      "A value is trying to be set on a copy of a slice from a DataFrame\n",
      "\n",
      "See the caveats in the documentation: http://pandas.pydata.org/pandas-docs/stable/indexing.html#indexing-view-versus-copy\n",
      "  This is separate from the ipykernel package so we can avoid doing imports until\n",
      "/opt/cloudera/parcels/Anaconda-5.3.1/lib/python2.7/site-packages/ipykernel_launcher.py:10: SettingWithCopyWarning: \n",
      "A value is trying to be set on a copy of a slice from a DataFrame\n",
      "\n",
      "See the caveats in the documentation: http://pandas.pydata.org/pandas-docs/stable/indexing.html#indexing-view-versus-copy\n",
      "  # Remove the CWD from sys.path while we load stuff.\n"
     ]
    }
   ],
   "source": [
    "df.serie[(df.serie=='INCOMPLETO') | (df.serie=='ILEGIBLE') | \n",
    "     (df.serie=='BORRADO') | (df.serie=='VICIBLE') | \n",
    "     (df.serie=='VISIBLE')]=np.NaN\n",
    "      \n",
    "df.etiqueta[(df.etiqueta=='NOTIENE') | (df.etiqueta=='REVISAR') |\n",
    "     (df.etiqueta=='VISIBLE') | (df.etiqueta=='ERROR') |\n",
    "     (df.etiqueta=='VIDIBLE') | (df.etiqueta=='SINACTIVO') |\n",
    "     (df.etiqueta=='ILEGIBLE') | (df.etiqueta=='IP3CAB6CAA') |\n",
    "     (df.etiqueta=='3G113642') | (df.etiqueta=='3G083109') | \n",
    "     (df.etiqueta=='VISIVLE')]=np.NaN\n",
    "\n",
    "\n",
    "especiales=['!','¡',u'¿','~','#','Ñ',\"Ã“\",\"Åƒ\",\"Ã‹\",\"Ã³\",'Ë']\n",
    "df.replace(especiales,np.NaN,regex=True,inplace=True)"
   ]
  },
  {
   "cell_type": "markdown",
   "metadata": {},
   "source": [
    "#### Primer catálogo: *sub_inv*."
   ]
  },
  {
   "cell_type": "markdown",
   "metadata": {},
   "source": [
    "Empezaremos con el catálogo de sub_inv. Siendo un catálogo con entradas manuales, aplicaremos una limpieza a los datos para poder trabajarlos."
   ]
  },
  {
   "cell_type": "code",
   "execution_count": 14,
   "metadata": {
    "scrolled": true
   },
   "outputs": [
    {
     "data": {
      "text/html": [
       "<div>\n",
       "<style scoped>\n",
       "    .dataframe tbody tr th:only-of-type {\n",
       "        vertical-align: middle;\n",
       "    }\n",
       "\n",
       "    .dataframe tbody tr th {\n",
       "        vertical-align: top;\n",
       "    }\n",
       "\n",
       "    .dataframe thead th {\n",
       "        text-align: right;\n",
       "    }\n",
       "</style>\n",
       "<table border=\"1\" class=\"dataframe\">\n",
       "  <thead>\n",
       "    <tr style=\"text-align: right;\">\n",
       "      <th></th>\n",
       "      <th>Sub_inventario</th>\n",
       "      <th>Frecuencia</th>\n",
       "    </tr>\n",
       "  </thead>\n",
       "  <tbody>\n",
       "    <tr>\n",
       "      <th>0</th>\n",
       "      <td>USADO</td>\n",
       "      <td>182899</td>\n",
       "    </tr>\n",
       "    <tr>\n",
       "      <th>1</th>\n",
       "      <td>NUEVO</td>\n",
       "      <td>138258</td>\n",
       "    </tr>\n",
       "    <tr>\n",
       "      <th>2</th>\n",
       "      <td>REFA-USADO</td>\n",
       "      <td>11272</td>\n",
       "    </tr>\n",
       "    <tr>\n",
       "      <th>3</th>\n",
       "      <td>REFA-NUEVO</td>\n",
       "      <td>8980</td>\n",
       "    </tr>\n",
       "    <tr>\n",
       "      <th>4</th>\n",
       "      <td>OBS</td>\n",
       "      <td>8320</td>\n",
       "    </tr>\n",
       "    <tr>\n",
       "      <th>5</th>\n",
       "      <td>IBS-NUEVO</td>\n",
       "      <td>5495</td>\n",
       "    </tr>\n",
       "    <tr>\n",
       "      <th>6</th>\n",
       "      <td>REFA-DAÐ</td>\n",
       "      <td>578</td>\n",
       "    </tr>\n",
       "    <tr>\n",
       "      <th>7</th>\n",
       "      <td>REFA-OBS</td>\n",
       "      <td>531</td>\n",
       "    </tr>\n",
       "    <tr>\n",
       "      <th>8</th>\n",
       "      <td>MOBILIARIO</td>\n",
       "      <td>328</td>\n",
       "    </tr>\n",
       "    <tr>\n",
       "      <th>9</th>\n",
       "      <td>DAN</td>\n",
       "      <td>90</td>\n",
       "    </tr>\n",
       "    <tr>\n",
       "      <th>10</th>\n",
       "      <td>REFA-REP</td>\n",
       "      <td>77</td>\n",
       "    </tr>\n",
       "    <tr>\n",
       "      <th>11</th>\n",
       "      <td>CUARENTENA</td>\n",
       "      <td>65</td>\n",
       "    </tr>\n",
       "    <tr>\n",
       "      <th>12</th>\n",
       "      <td>REFA-DAN</td>\n",
       "      <td>16</td>\n",
       "    </tr>\n",
       "    <tr>\n",
       "      <th>13</th>\n",
       "      <td>ACLARACION</td>\n",
       "      <td>7</td>\n",
       "    </tr>\n",
       "    <tr>\n",
       "      <th>14</th>\n",
       "      <td>DEV-NUEVO</td>\n",
       "      <td>3</td>\n",
       "    </tr>\n",
       "    <tr>\n",
       "      <th>15</th>\n",
       "      <td>RMA</td>\n",
       "      <td>3</td>\n",
       "    </tr>\n",
       "  </tbody>\n",
       "</table>\n",
       "</div>"
      ],
      "text/plain": [
       "   Sub_inventario  Frecuencia\n",
       "0           USADO      182899\n",
       "1           NUEVO      138258\n",
       "2      REFA-USADO       11272\n",
       "3      REFA-NUEVO        8980\n",
       "4             OBS        8320\n",
       "5       IBS-NUEVO        5495\n",
       "6        REFA-DAÐ         578\n",
       "7        REFA-OBS         531\n",
       "8      MOBILIARIO         328\n",
       "9             DAN          90\n",
       "10       REFA-REP          77\n",
       "11     CUARENTENA          65\n",
       "12       REFA-DAN          16\n",
       "13     ACLARACION           7\n",
       "14      DEV-NUEVO           3\n",
       "15            RMA           3"
      ]
     },
     "execution_count": 14,
     "metadata": {},
     "output_type": "execute_result"
    }
   ],
   "source": [
    "aux=[\"Ã“\",\"Åƒ\",\"Ã‹\",\"Ã³\"]\n",
    "df.sub_inv=df.sub_inv.str.upper()\n",
    "df.sub_inv.replace(u'Á',u'A', regex=True, inplace=True)\n",
    "df.sub_inv.replace(u'É',u'E', regex=True, inplace=True)\n",
    "df.sub_inv.replace(u'Í',u'I', regex=True, inplace=True)\n",
    "df.sub_inv.replace(u'Ó',u'O', regex=True, inplace=True)\n",
    "df.sub_inv.replace(u'Ú',u'U', regex=True, inplace=True)\n",
    "df.sub_inv.replace(u'Ń',u'U', regex=True, inplace=True)\n",
    "df.sub_inv.replace(u'Đ',u'N', regex=True, inplace=True)\n",
    "df.sub_inv.replace(u'Ñ',u'N', regex=True, inplace=True)\n",
    "df.sub_inv.replace(u'Ë',u'E', regex=True, inplace=True)\n",
    "df.sub_inv.replace(u'USADIS',u'USADO', regex=True, inplace=True)\n",
    "df.sub_inv.replace(u'USADODISP',u'USADO', regex=True, inplace=True)\n",
    "df.sub_inv.replace(u'UDISP',u'USADO', regex=True, inplace=True)\n",
    "df.sub_inv.replace(u'USADOS',u'USADO', regex=True, inplace=True)\n",
    "df.sub_inv.replace(u'OBSOLETO',u'OBS', regex=True, inplace=True)\n",
    "df.sub_inv.replace(u'NUEVOS',u'NUEVO', regex=True, inplace=True)\n",
    "df.sub_inv.replace(u'ACLARACIEN',u'ACLARACION', regex=True, inplace=True)\n",
    "df.sub_inv.replace(u'DANADO',u'DAN', regex=True, inplace=True)\n",
    "df.sub_inv.replace(u'REFA-DAU',u'REFA-DAN', regex=True, inplace=True)\n",
    "df.sub_inv.replace(u'RF',u'REFA', regex=True, inplace=True)\n",
    "df.sub_inv.replace(aux,'', regex=True, inplace=True)\n",
    "df.sub_inv=df.sub_inv.str.strip()\n",
    "\n",
    "catsub_inv=pd.DataFrame(df.sub_inv.value_counts())\n",
    "index=list(range(0,catsub_inv.shape[0]))           \n",
    "subinv=pd.DataFrame(catsub_inv.index,index=index)\n",
    "subinv.columns=['Sub_inventario']\n",
    "catsub_inv.index=index\n",
    "catsub_inv.columns=['Frecuencia']\n",
    "catsub_inv=pd.concat([subinv,catsub_inv],axis=1)\n",
    "catsub_inv"
   ]
  },
  {
   "cell_type": "markdown",
   "metadata": {},
   "source": [
    "Después de limpiar el catálogo, ahora podemos hacer la visualización más adecuada.\n",
    "Empezaremos usando un Histograma."
   ]
  },
  {
   "cell_type": "code",
   "execution_count": 15,
   "metadata": {},
   "outputs": [
    {
     "data": {
      "text/plain": [
       "Text(0.5,1,'Distribucion de los estados del Inventario de Almacen')"
      ]
     },
     "execution_count": 15,
     "metadata": {},
     "output_type": "execute_result"
    },
    {
     "data": {
      "image/png": "[encoded data removed]",
      "text/plain": [
       "<Figure size 720x432 with 1 Axes>"
      ]
     },
     "metadata": {
      "needs_background": "light"
     },
     "output_type": "display_data"
    }
   ],
   "source": [
    "catsub_inv.plot(x='Sub_inventario',\n",
    "                y='Frecuencia',\n",
    "                kind='bar',\n",
    "                figsize=(10,6),\n",
    "                rot=90,colormap='rainbow_r')\n",
    "plt.xlabel('Sub inventario')\n",
    "plt.ylabel('Frecuencia')\n",
    "plt.title('Distribucion de los estados del Inventario de Almacen')"
   ]
  },
  {
   "cell_type": "markdown",
   "metadata": {},
   "source": [
    "Parece que hemos logrado un catálogo bien definido. Podrá revisarse en la sección de catálogos."
   ]
  },
  {
   "cell_type": "markdown",
   "metadata": {},
   "source": [
    "#### Segundo catálogo: *Almacén*\n",
    "Seguimos el mismo procedimiento, limpieza, normalización y visualización."
   ]
  },
  {
   "cell_type": "code",
   "execution_count": 16,
   "metadata": {},
   "outputs": [
    {
     "data": {
      "text/html": [
       "<div>\n",
       "<style scoped>\n",
       "    .dataframe tbody tr th:only-of-type {\n",
       "        vertical-align: middle;\n",
       "    }\n",
       "\n",
       "    .dataframe tbody tr th {\n",
       "        vertical-align: top;\n",
       "    }\n",
       "\n",
       "    .dataframe thead th {\n",
       "        text-align: right;\n",
       "    }\n",
       "</style>\n",
       "<table border=\"1\" class=\"dataframe\">\n",
       "  <thead>\n",
       "    <tr style=\"text-align: right;\">\n",
       "      <th></th>\n",
       "      <th>id</th>\n",
       "      <th>qr_alm</th>\n",
       "      <th>org</th>\n",
       "      <th>sub_inv</th>\n",
       "      <th>almacen</th>\n",
       "      <th>articulo</th>\n",
       "      <th>descripcion</th>\n",
       "      <th>lpn_nuevo</th>\n",
       "      <th>ubicacion_nueva</th>\n",
       "      <th>estado_fisico_usadonuevo</th>\n",
       "      <th>...</th>\n",
       "      <th>activo</th>\n",
       "      <th>mxn</th>\n",
       "      <th>usd</th>\n",
       "      <th>tipo_de_ubicacion_resum_1</th>\n",
       "      <th>datasetname</th>\n",
       "      <th>filedate</th>\n",
       "      <th>year</th>\n",
       "      <th>month</th>\n",
       "      <th>day</th>\n",
       "      <th>serie_cleaned</th>\n",
       "    </tr>\n",
       "  </thead>\n",
       "  <tbody>\n",
       "    <tr>\n",
       "      <th>0</th>\n",
       "      <td>22</td>\n",
       "      <td>2PX1S19-001051</td>\n",
       "      <td>2PX</td>\n",
       "      <td>NUEVO</td>\n",
       "      <td>DHL Tepotzotlan</td>\n",
       "      <td>W.9044002</td>\n",
       "      <td>MICROWAVE ANTENNA  1.2M  WITH SUPPORT HARDWARE...</td>\n",
       "      <td>ANC2018073000010</td>\n",
       "      <td>FR002A</td>\n",
       "      <td>NUEVO</td>\n",
       "      <td>...</td>\n",
       "      <td>2840187.0</td>\n",
       "      <td>NaN</td>\n",
       "      <td>667.7504461461715</td>\n",
       "      <td>Warehouse</td>\n",
       "      <td>sa_almacen_inventory</td>\n",
       "      <td>20191128</td>\n",
       "      <td>2019</td>\n",
       "      <td>11</td>\n",
       "      <td>28</td>\n",
       "      <td>0</td>\n",
       "    </tr>\n",
       "    <tr>\n",
       "      <th>1</th>\n",
       "      <td>22</td>\n",
       "      <td>2PX1S19-001051</td>\n",
       "      <td>2PX</td>\n",
       "      <td>NUEVO</td>\n",
       "      <td>DHL Tepotzotlan</td>\n",
       "      <td>W.9044002</td>\n",
       "      <td>MICROWAVE ANTENNA  1.2M  WITH SUPPORT HARDWARE...</td>\n",
       "      <td>ANC2018073000010</td>\n",
       "      <td>FR002A</td>\n",
       "      <td>NUEVO</td>\n",
       "      <td>...</td>\n",
       "      <td>2840187.0</td>\n",
       "      <td>NaN</td>\n",
       "      <td>667.7504461461715</td>\n",
       "      <td>Warehouse</td>\n",
       "      <td>sa_almacen_inventory</td>\n",
       "      <td>20191128</td>\n",
       "      <td>2019</td>\n",
       "      <td>11</td>\n",
       "      <td>28</td>\n",
       "      <td>0</td>\n",
       "    </tr>\n",
       "    <tr>\n",
       "      <th>2</th>\n",
       "      <td>23</td>\n",
       "      <td>2PX1S19-001051</td>\n",
       "      <td>2PX</td>\n",
       "      <td>NUEVO</td>\n",
       "      <td>DHL Tepotzotlan</td>\n",
       "      <td>W.9044002</td>\n",
       "      <td>MICROWAVE ANTENNA  1.2M  WITH SUPPORT HARDWARE...</td>\n",
       "      <td>ANC2018073000010</td>\n",
       "      <td>FR002A</td>\n",
       "      <td>NUEVO</td>\n",
       "      <td>...</td>\n",
       "      <td>2840183.0</td>\n",
       "      <td>NaN</td>\n",
       "      <td>667.7504461461715</td>\n",
       "      <td>Warehouse</td>\n",
       "      <td>sa_almacen_inventory</td>\n",
       "      <td>20191128</td>\n",
       "      <td>2019</td>\n",
       "      <td>11</td>\n",
       "      <td>28</td>\n",
       "      <td>0</td>\n",
       "    </tr>\n",
       "    <tr>\n",
       "      <th>3</th>\n",
       "      <td>23</td>\n",
       "      <td>2PX1S19-001051</td>\n",
       "      <td>2PX</td>\n",
       "      <td>NUEVO</td>\n",
       "      <td>DHL Tepotzotlan</td>\n",
       "      <td>W.9044002</td>\n",
       "      <td>MICROWAVE ANTENNA  1.2M  WITH SUPPORT HARDWARE...</td>\n",
       "      <td>ANC2018073000010</td>\n",
       "      <td>FR002A</td>\n",
       "      <td>NUEVO</td>\n",
       "      <td>...</td>\n",
       "      <td>2840183.0</td>\n",
       "      <td>NaN</td>\n",
       "      <td>667.7504461461715</td>\n",
       "      <td>Warehouse</td>\n",
       "      <td>sa_almacen_inventory</td>\n",
       "      <td>20191128</td>\n",
       "      <td>2019</td>\n",
       "      <td>11</td>\n",
       "      <td>28</td>\n",
       "      <td>0</td>\n",
       "    </tr>\n",
       "    <tr>\n",
       "      <th>4</th>\n",
       "      <td>29</td>\n",
       "      <td>2PX1S19-001051</td>\n",
       "      <td>2PX</td>\n",
       "      <td>NUEVO</td>\n",
       "      <td>DHL Tepotzotlan</td>\n",
       "      <td>W.9044002</td>\n",
       "      <td>MICROWAVE ANTENNA  1.2M  WITH SUPPORT HARDWARE...</td>\n",
       "      <td>ANC2018073000010</td>\n",
       "      <td>FR002A</td>\n",
       "      <td>NUEVO</td>\n",
       "      <td>...</td>\n",
       "      <td>2840196.0</td>\n",
       "      <td>NaN</td>\n",
       "      <td>667.7504461461715</td>\n",
       "      <td>Warehouse</td>\n",
       "      <td>sa_almacen_inventory</td>\n",
       "      <td>20191128</td>\n",
       "      <td>2019</td>\n",
       "      <td>11</td>\n",
       "      <td>28</td>\n",
       "      <td>0</td>\n",
       "    </tr>\n",
       "  </tbody>\n",
       "</table>\n",
       "<p>5 rows × 23 columns</p>\n",
       "</div>"
      ],
      "text/plain": [
       "   id          qr_alm  org sub_inv          almacen   articulo  \\\n",
       "0  22  2PX1S19-001051  2PX   NUEVO  DHL Tepotzotlan  W.9044002   \n",
       "1  22  2PX1S19-001051  2PX   NUEVO  DHL Tepotzotlan  W.9044002   \n",
       "2  23  2PX1S19-001051  2PX   NUEVO  DHL Tepotzotlan  W.9044002   \n",
       "3  23  2PX1S19-001051  2PX   NUEVO  DHL Tepotzotlan  W.9044002   \n",
       "4  29  2PX1S19-001051  2PX   NUEVO  DHL Tepotzotlan  W.9044002   \n",
       "\n",
       "                                         descripcion         lpn_nuevo  \\\n",
       "0  MICROWAVE ANTENNA  1.2M  WITH SUPPORT HARDWARE...  ANC2018073000010   \n",
       "1  MICROWAVE ANTENNA  1.2M  WITH SUPPORT HARDWARE...  ANC2018073000010   \n",
       "2  MICROWAVE ANTENNA  1.2M  WITH SUPPORT HARDWARE...  ANC2018073000010   \n",
       "3  MICROWAVE ANTENNA  1.2M  WITH SUPPORT HARDWARE...  ANC2018073000010   \n",
       "4  MICROWAVE ANTENNA  1.2M  WITH SUPPORT HARDWARE...  ANC2018073000010   \n",
       "\n",
       "  ubicacion_nueva estado_fisico_usadonuevo      ...           activo mxn  \\\n",
       "0          FR002A                    NUEVO      ...        2840187.0 NaN   \n",
       "1          FR002A                    NUEVO      ...        2840187.0 NaN   \n",
       "2          FR002A                    NUEVO      ...        2840183.0 NaN   \n",
       "3          FR002A                    NUEVO      ...        2840183.0 NaN   \n",
       "4          FR002A                    NUEVO      ...        2840196.0 NaN   \n",
       "\n",
       "                 usd tipo_de_ubicacion_resum_1           datasetname  \\\n",
       "0  667.7504461461715                 Warehouse  sa_almacen_inventory   \n",
       "1  667.7504461461715                 Warehouse  sa_almacen_inventory   \n",
       "2  667.7504461461715                 Warehouse  sa_almacen_inventory   \n",
       "3  667.7504461461715                 Warehouse  sa_almacen_inventory   \n",
       "4  667.7504461461715                 Warehouse  sa_almacen_inventory   \n",
       "\n",
       "   filedate  year month  day  serie_cleaned  \n",
       "0  20191128  2019    11   28              0  \n",
       "1  20191128  2019    11   28              0  \n",
       "2  20191128  2019    11   28              0  \n",
       "3  20191128  2019    11   28              0  \n",
       "4  20191128  2019    11   28              0  \n",
       "\n",
       "[5 rows x 23 columns]"
      ]
     },
     "execution_count": 16,
     "metadata": {},
     "output_type": "execute_result"
    }
   ],
   "source": [
    "alm_catalogo=pd.read_csv('/home/cz014h/Info_Almacenes_clean.csv')\n",
    "alm_catalogo.columns=['org','almacen','latitud','longitud']\n",
    "\n",
    "df.merge(alm_catalogo,on='org', how='left')\n",
    "df.head()"
   ]
  },
  {
   "cell_type": "markdown",
   "metadata": {},
   "source": [
    "#### Veamos en un mapa la distribución de los almacenes:"
   ]
  },
  {
   "cell_type": "code",
   "execution_count": 17,
   "metadata": {},
   "outputs": [
    {
     "name": "stderr",
     "output_type": "stream",
     "text": [
      "/opt/cloudera/parcels/Anaconda-5.3.1/lib/python2.7/site-packages/folium/__init__.py:59: UserWarning: This version of folium is the last to support Python 2. Transition to Python 3 to be able to receive updates and fixes. Check out https://python3statement.org/ for more info.\n",
      "  UserWarning\n"
     ]
    },
    {
     "data": {
      "text/html": [
       "<div style=\"width:100%;\"><div style=\"position:relative;width:100%;height:0;padding-bottom:60%;\"><iframe src=\"data:text/html;charset=utf-8;base64,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\" style=\"position:absolute;width:100%;height:100%;left:0;top:0;border:none !important;\" allowfullscreen webkitallowfullscreen mozallowfullscreen></iframe></div></div>"
      ],
      "text/plain": [
       "<folium.folium.Map at 0x7f80bc4795d0>"
      ]
     },
     "execution_count": 17,
     "metadata": {},
     "output_type": "execute_result"
    }
   ],
   "source": [
    "mapa_alm=alm_catalogo.loc[:,['almacen','latitud','longitud']].dropna()\n",
    "mapa_alm.drop_duplicates(inplace=True)\n",
    "\n",
    "import folium\n",
    "from folium import plugins\n",
    "\n",
    "Latitud=21.607871\n",
    "Longitud=-101.201933\n",
    "mapa=folium.Map(location=[Latitud,Longitud],zoom_start=4.8)\n",
    "\n",
    "storages = folium.map.FeatureGroup()\n",
    "\n",
    "for lat, lng, in zip(mapa_alm.latitud, mapa_alm.longitud):\n",
    "    storages.add_child(\n",
    "        folium.features.Marker(\n",
    "            [lat, lng]\n",
    "        )\n",
    "    )\n",
    "    \n",
    "latitudes = list(mapa_alm.latitud)\n",
    "longitudes = list(mapa_alm.longitud)\n",
    "labels = list(mapa_alm.almacen)\n",
    "\n",
    "for lat, lng, label in zip(latitudes, longitudes, labels):\n",
    "    folium.Marker([lat, lng], popup=label).add_to(storages) \n",
    "mapa.save('Mapa de almacenes ATT.html')\n",
    "mapa.add_child(storages)"
   ]
  },
  {
   "cell_type": "code",
   "execution_count": 18,
   "metadata": {
    "scrolled": true
   },
   "outputs": [
    {
     "data": {
      "text/html": [
       "<div>\n",
       "<style scoped>\n",
       "    .dataframe tbody tr th:only-of-type {\n",
       "        vertical-align: middle;\n",
       "    }\n",
       "\n",
       "    .dataframe tbody tr th {\n",
       "        vertical-align: top;\n",
       "    }\n",
       "\n",
       "    .dataframe thead th {\n",
       "        text-align: right;\n",
       "    }\n",
       "</style>\n",
       "<table border=\"1\" class=\"dataframe\">\n",
       "  <thead>\n",
       "    <tr style=\"text-align: right;\">\n",
       "      <th></th>\n",
       "      <th>org</th>\n",
       "      <th>almacen</th>\n",
       "      <th>tipo_de_articulo</th>\n",
       "      <th>serie</th>\n",
       "      <th>activo</th>\n",
       "      <th>mxn</th>\n",
       "      <th>etiqueta</th>\n",
       "    </tr>\n",
       "  </thead>\n",
       "  <tbody>\n",
       "    <tr>\n",
       "      <th>0</th>\n",
       "      <td>2PX</td>\n",
       "      <td>DHL Tepotzotlan</td>\n",
       "      <td>W</td>\n",
       "      <td>21524311663AG7004232</td>\n",
       "      <td>2840187.0</td>\n",
       "      <td>NaN</td>\n",
       "      <td>00895089</td>\n",
       "    </tr>\n",
       "    <tr>\n",
       "      <th>1</th>\n",
       "      <td>2PX</td>\n",
       "      <td>DHL Tepotzotlan</td>\n",
       "      <td>W</td>\n",
       "      <td>21524311663AG7004232</td>\n",
       "      <td>2840187.0</td>\n",
       "      <td>NaN</td>\n",
       "      <td>00895089</td>\n",
       "    </tr>\n",
       "    <tr>\n",
       "      <th>2</th>\n",
       "      <td>2PX</td>\n",
       "      <td>DHL Tepotzotlan</td>\n",
       "      <td>W</td>\n",
       "      <td>21524311663AG7004237</td>\n",
       "      <td>2840183.0</td>\n",
       "      <td>NaN</td>\n",
       "      <td>00895091</td>\n",
       "    </tr>\n",
       "    <tr>\n",
       "      <th>3</th>\n",
       "      <td>2PX</td>\n",
       "      <td>DHL Tepotzotlan</td>\n",
       "      <td>W</td>\n",
       "      <td>21524311663AG7004237</td>\n",
       "      <td>2840183.0</td>\n",
       "      <td>NaN</td>\n",
       "      <td>00895091</td>\n",
       "    </tr>\n",
       "    <tr>\n",
       "      <th>4</th>\n",
       "      <td>2PX</td>\n",
       "      <td>DHL Tepotzotlan</td>\n",
       "      <td>W</td>\n",
       "      <td>21524311663AG7004263</td>\n",
       "      <td>2840196.0</td>\n",
       "      <td>NaN</td>\n",
       "      <td>00895099</td>\n",
       "    </tr>\n",
       "  </tbody>\n",
       "</table>\n",
       "</div>"
      ],
      "text/plain": [
       "   org          almacen tipo_de_articulo                 serie     activo  \\\n",
       "0  2PX  DHL Tepotzotlan                W  21524311663AG7004232  2840187.0   \n",
       "1  2PX  DHL Tepotzotlan                W  21524311663AG7004232  2840187.0   \n",
       "2  2PX  DHL Tepotzotlan                W  21524311663AG7004237  2840183.0   \n",
       "3  2PX  DHL Tepotzotlan                W  21524311663AG7004237  2840183.0   \n",
       "4  2PX  DHL Tepotzotlan                W  21524311663AG7004263  2840196.0   \n",
       "\n",
       "   mxn  etiqueta  \n",
       "0  NaN  00895089  \n",
       "1  NaN  00895089  \n",
       "2  NaN  00895091  \n",
       "3  NaN  00895091  \n",
       "4  NaN  00895099  "
      ]
     },
     "execution_count": 18,
     "metadata": {},
     "output_type": "execute_result"
    }
   ],
   "source": [
    "aux=df.loc[:,['org','almacen','tipo_de_articulo','serie','activo','mxn','etiqueta']]\n",
    "#aux.dropna(thresh=5,inplace=True)\n",
    "aux.head()"
   ]
  },
  {
   "cell_type": "markdown",
   "metadata": {},
   "source": [
    "#### Normalización:"
   ]
  },
  {
   "cell_type": "code",
   "execution_count": 19,
   "metadata": {
    "scrolled": true
   },
   "outputs": [
    {
     "name": "stderr",
     "output_type": "stream",
     "text": [
      "/opt/cloudera/parcels/Anaconda-5.3.1/lib/python2.7/site-packages/ipykernel_launcher.py:13: SettingWithCopyWarning: \n",
      "A value is trying to be set on a copy of a slice from a DataFrame\n",
      "\n",
      "See the caveats in the documentation: http://pandas.pydata.org/pandas-docs/stable/indexing.html#indexing-view-versus-copy\n",
      "  del sys.path[0]\n",
      "/opt/cloudera/parcels/Anaconda-5.3.1/lib/python2.7/site-packages/pandas/core/indexing.py:189: SettingWithCopyWarning: \n",
      "A value is trying to be set on a copy of a slice from a DataFrame\n",
      "\n",
      "See the caveats in the documentation: http://pandas.pydata.org/pandas-docs/stable/indexing.html#indexing-view-versus-copy\n",
      "  self._setitem_with_indexer(indexer, value)\n"
     ]
    },
    {
     "data": {
      "text/html": [
       "<div>\n",
       "<style scoped>\n",
       "    .dataframe tbody tr th:only-of-type {\n",
       "        vertical-align: middle;\n",
       "    }\n",
       "\n",
       "    .dataframe tbody tr th {\n",
       "        vertical-align: top;\n",
       "    }\n",
       "\n",
       "    .dataframe thead th {\n",
       "        text-align: right;\n",
       "    }\n",
       "</style>\n",
       "<table border=\"1\" class=\"dataframe\">\n",
       "  <thead>\n",
       "    <tr style=\"text-align: right;\">\n",
       "      <th></th>\n",
       "      <th>almacen</th>\n",
       "      <th>Porcentaje</th>\n",
       "    </tr>\n",
       "  </thead>\n",
       "  <tbody>\n",
       "    <tr>\n",
       "      <th>0</th>\n",
       "      <td>DHL Tepotzotlan</td>\n",
       "      <td>43.713192</td>\n",
       "    </tr>\n",
       "    <tr>\n",
       "      <th>1</th>\n",
       "      <td>Sta Cecilia AT&amp;T</td>\n",
       "      <td>36.641619</td>\n",
       "    </tr>\n",
       "    <tr>\n",
       "      <th>2</th>\n",
       "      <td>PROVA SMO</td>\n",
       "      <td>7.832524</td>\n",
       "    </tr>\n",
       "    <tr>\n",
       "      <th>3</th>\n",
       "      <td>Glaco AT&amp;T</td>\n",
       "      <td>3.948202</td>\n",
       "    </tr>\n",
       "    <tr>\n",
       "      <th>4</th>\n",
       "      <td>Otros</td>\n",
       "      <td>7.864463</td>\n",
       "    </tr>\n",
       "  </tbody>\n",
       "</table>\n",
       "</div>"
      ],
      "text/plain": [
       "            almacen  Porcentaje\n",
       "0   DHL Tepotzotlan   43.713192\n",
       "1  Sta Cecilia AT&T   36.641619\n",
       "2         PROVA SMO    7.832524\n",
       "3        Glaco AT&T    3.948202\n",
       "4             Otros    7.864463"
      ]
     },
     "execution_count": 19,
     "metadata": {},
     "output_type": "execute_result"
    }
   ],
   "source": [
    "counts=(aux.almacen.value_counts()/aux.almacen.value_counts().sum())*100\n",
    "\n",
    "Ind=list(range(0,len(counts)))\n",
    "Alm_counts=pd.DataFrame(counts)\n",
    "Alm_counts.columns=['Porcentaje']\n",
    "Almacenes=pd.DataFrame(Alm_counts.index)\n",
    "Almacenes.columns=['almacen']\n",
    "Alm_counts.index=Ind\n",
    "Alm_counts= pd.concat([Almacenes,Alm_counts],axis=1)\n",
    "\n",
    "for v in range(0,len(counts)):\n",
    "    if Alm_counts.Porcentaje[v] < 3:\n",
    "        Alm_counts.almacen[v]='Otros'\n",
    "\n",
    "Alm_counts.Porcentaje.loc[Alm_counts['almacen'] == 'Otros'] = Alm_counts[Alm_counts.almacen=='Otros'].Porcentaje.sum()\n",
    "Alm_counts=Alm_counts.head(5)\n",
    "Alm_counts"
   ]
  },
  {
   "cell_type": "code",
   "execution_count": 20,
   "metadata": {},
   "outputs": [
    {
     "data": {
      "image/png": "[encoded data removed]",
      "text/plain": [
       "<Figure size 1080x576 with 2 Axes>"
      ]
     },
     "metadata": {
      "needs_background": "light"
     },
     "output_type": "display_data"
    }
   ],
   "source": [
    "#Visualización:\n",
    "fig=plt.figure()\n",
    "ax0=fig.add_subplot(1,2,1)\n",
    "ax1=fig.add_subplot(1,2,2)\n",
    "\n",
    "#Subplot1: Bar chart\n",
    "Alm_counts.plot(kind='bar',figsize=(10,6),colormap='rainbow_r',ax=ax0)\n",
    "ax0.set_xlabel('almacen')\n",
    "ax0.set_ylabel('Frecuencia')\n",
    "ax0.set_title('Distribucion de frecuencias de Almacenes')\n",
    "\n",
    "#Subplot2: Bar chart\n",
    "explode_list=[.2,0,.13,0,0]\n",
    "color_list=['royalblue','lightcoral','powderblue','slateblue','silver']\n",
    "Alm_counts['Porcentaje'].plot(kind='pie',         \n",
    "                    figsize=(15,8),\n",
    "                    autopct='%1.1f%%',\n",
    "                    startangle=90,\n",
    "                    shadow=True,\n",
    "                    labels=None,\n",
    "                    pctdistance=1.14,\n",
    "                    colors=color_list,\n",
    "                               ax=ax1,\n",
    "                    explode=explode_list)\n",
    "ax1.set_title('Distribucion de frecuencias de Almacenes')\n",
    "ax1.axis('equal')\n",
    "ax1.legend(labels=Alm_counts.almacen,loc='upper left')\n",
    "\n",
    "plt.show()"
   ]
  },
  {
   "cell_type": "markdown",
   "metadata": {},
   "source": [
    "Podemos observar que es en los almacenes: \"**DHL Tepotzotlan, STA Cecilia y** y los correspondientes a **PROVA SMO**\" donde se distribuyen la mayoría de elementos.  \n",
    "Esto podría ser un indicador interesante en un futuro. Se encontrará el catálogo en la sección de catálogos."
   ]
  },
  {
   "cell_type": "markdown",
   "metadata": {},
   "source": [
    "<div style=\"width: 100%; clear: both; font-family: Verdana;\">\n",
    "    <p> Tercer catálogo: <strong>Tipo de artículo</strong>.\n",
    "        <br>Procederemos a usar limpieza  en caso necesario y visualización.\n",
    "        </p>\n",
    "</div>"
   ]
  },
  {
   "cell_type": "code",
   "execution_count": 21,
   "metadata": {},
   "outputs": [
    {
     "data": {
      "text/html": [
       "<div>\n",
       "<style scoped>\n",
       "    .dataframe tbody tr th:only-of-type {\n",
       "        vertical-align: middle;\n",
       "    }\n",
       "\n",
       "    .dataframe tbody tr th {\n",
       "        vertical-align: top;\n",
       "    }\n",
       "\n",
       "    .dataframe thead th {\n",
       "        text-align: right;\n",
       "    }\n",
       "</style>\n",
       "<table border=\"1\" class=\"dataframe\">\n",
       "  <thead>\n",
       "    <tr style=\"text-align: right;\">\n",
       "      <th></th>\n",
       "      <th>Tipo_Artículo</th>\n",
       "    </tr>\n",
       "  </thead>\n",
       "  <tbody>\n",
       "    <tr>\n",
       "      <th>0</th>\n",
       "      <td>W</td>\n",
       "    </tr>\n",
       "    <tr>\n",
       "      <th>1</th>\n",
       "      <td>V</td>\n",
       "    </tr>\n",
       "    <tr>\n",
       "      <th>2</th>\n",
       "      <td>T</td>\n",
       "    </tr>\n",
       "    <tr>\n",
       "      <th>3</th>\n",
       "      <td>C</td>\n",
       "    </tr>\n",
       "    <tr>\n",
       "      <th>4</th>\n",
       "      <td>NP</td>\n",
       "    </tr>\n",
       "    <tr>\n",
       "      <th>5</th>\n",
       "      <td>N</td>\n",
       "    </tr>\n",
       "  </tbody>\n",
       "</table>\n",
       "</div>"
      ],
      "text/plain": [
       "  Tipo_Artículo\n",
       "0             W\n",
       "1             V\n",
       "2             T\n",
       "3             C\n",
       "4            NP\n",
       "5             N"
      ]
     },
     "execution_count": 21,
     "metadata": {},
     "output_type": "execute_result"
    }
   ],
   "source": [
    "df.tipo_de_articulo=df.tipo_de_articulo.str.upper()\n",
    "aux.tipo_de_articulo=aux.tipo_de_articulo.str.upper()\n",
    "TipoArt=pd.DataFrame(aux.tipo_de_articulo.unique())\n",
    "TipoArt.columns=['Tipo_Artículo']\n",
    "TipoArt"
   ]
  },
  {
   "cell_type": "code",
   "execution_count": 22,
   "metadata": {},
   "outputs": [
    {
     "data": {
      "text/html": [
       "\n",
       "\n",
       "\n",
       "\n",
       "\n",
       "\n",
       "  <div class=\"bk-root\" id=\"d57ed2fc-410e-4ef5-9d90-e9091d6cdb9a\"></div>\n"
      ]
     },
     "metadata": {},
     "output_type": "display_data"
    },
    {
     "data": {
      "application/javascript": [
       "(function(root) {\n",
       "  function embed_document(root) {\n",
       "    \n",
       "  var docs_json = {\"7634c9fc-b42b-45b5-bc92-46fcfdc7001a\":{\"roots\":{\"references\":[{\"attributes\":{\"overlay\":{\"id\":\"8a995e7f-643f-4b33-b279-60371b18d828\",\"type\":\"BoxAnnotation\"}},\"id\":\"7910660f-772d-4258-8044-2bf3135c0fb2\",\"type\":\"BoxZoomTool\"},{\"attributes\":{},\"id\":\"4925d4ed-27f8-4bf8-b2f3-9d6bf3a24048\",\"type\":\"CategoricalTickFormatter\"},{\"attributes\":{\"fill_color\":{\"field\":\"color\"},\"line_color\":{\"field\":\"color\"},\"top\":{\"field\":\"Freq\"},\"width\":{\"value\":0.5},\"x\":{\"field\":\"columnas\"}},\"id\":\"9c41dfa0-1075-4897-8a60-a55f2d06dc30\",\"type\":\"VBar\"},{\"attributes\":{\"label\":{\"field\":\"columnas\"},\"renderers\":[{\"id\":\"b931fa25-4018-461b-b38e-f76a04abdb73\",\"type\":\"GlyphRenderer\"}]},\"id\":\"d4594ada-17fa-4460-bd0e-e1427a952fdc\",\"type\":\"LegendItem\"},{\"attributes\":{\"dimension\":1,\"plot\":{\"id\":\"a46fd4e9-0ee3-4301-9742-85c3f0725e80\",\"subtype\":\"Figure\",\"type\":\"Plot\"},\"ticker\":{\"id\":\"3e8351d1-18bd-4721-aa6f-28e61248f998\",\"type\":\"BasicTicker\"}},\"id\":\"1d81cded-0a5f-499b-88ee-bee736b5bf30\",\"type\":\"Grid\"},{\"attributes\":{},\"id\":\"a46eb18f-ae92-48f0-afd4-a0ef7f9ca5f3\",\"type\":\"PanTool\"},{\"attributes\":{},\"id\":\"3e8351d1-18bd-4721-aa6f-28e61248f998\",\"type\":\"BasicTicker\"},{\"attributes\":{\"callback\":null,\"end\":80},\"id\":\"93f49f3d-9dcd-4762-a617-5db015efabfc\",\"type\":\"Range1d\"},{\"attributes\":{\"active_drag\":\"auto\",\"active_inspect\":\"auto\",\"active_multi\":null,\"active_scroll\":\"auto\",\"active_tap\":\"auto\",\"tools\":[{\"id\":\"a46eb18f-ae92-48f0-afd4-a0ef7f9ca5f3\",\"type\":\"PanTool\"},{\"id\":\"83a39c48-32cd-4769-bf6d-0fab7f6ef374\",\"type\":\"WheelZoomTool\"},{\"id\":\"7910660f-772d-4258-8044-2bf3135c0fb2\",\"type\":\"BoxZoomTool\"},{\"id\":\"bd6e8b43-2cc8-4eec-9bf1-fa054c11dc3a\",\"type\":\"SaveTool\"},{\"id\":\"4dd3b02e-2cbd-4bbc-9877-8f7531d9a859\",\"type\":\"ResetTool\"},{\"id\":\"bf2bee34-5491-412a-89c5-ef6893028927\",\"type\":\"HelpTool\"}]},\"id\":\"125e36c2-d9d2-4886-bb84-d6c561cd331f\",\"type\":\"Toolbar\"},{\"attributes\":{\"source\":{\"id\":\"9b2fe97e-8ea8-4671-a077-cf40885ff395\",\"type\":\"ColumnDataSource\"}},\"id\":\"bc8f754c-62af-44db-a9e8-921e83a8dceb\",\"type\":\"CDSView\"},{\"attributes\":{},\"id\":\"c8ca7e83-ac47-4aa1-8d52-7ea6780d858f\",\"type\":\"UnionRenderers\"},{\"attributes\":{\"below\":[{\"id\":\"cc33f87f-1294-47e4-af74-91b0795231d8\",\"type\":\"CategoricalAxis\"}],\"left\":[{\"id\":\"28a9d119-1919-4b39-9e7d-1dd14e2eb9fb\",\"type\":\"LinearAxis\"}],\"plot_height\":300,\"plot_width\":850,\"renderers\":[{\"id\":\"cc33f87f-1294-47e4-af74-91b0795231d8\",\"type\":\"CategoricalAxis\"},{\"id\":\"4f1cd892-0c4f-4cc7-a5f7-ff7b92b00c96\",\"type\":\"Grid\"},{\"id\":\"28a9d119-1919-4b39-9e7d-1dd14e2eb9fb\",\"type\":\"LinearAxis\"},{\"id\":\"1d81cded-0a5f-499b-88ee-bee736b5bf30\",\"type\":\"Grid\"},{\"id\":\"8a995e7f-643f-4b33-b279-60371b18d828\",\"type\":\"BoxAnnotation\"},{\"id\":\"78fe2b04-54a0-47ac-8544-3f0a86c786f8\",\"type\":\"Legend\"},{\"id\":\"b931fa25-4018-461b-b38e-f76a04abdb73\",\"type\":\"GlyphRenderer\"}],\"title\":{\"id\":\"b5f1119f-5a81-4416-9d6e-975f051c8a9b\",\"type\":\"Title\"},\"toolbar\":{\"id\":\"125e36c2-d9d2-4886-bb84-d6c561cd331f\",\"type\":\"Toolbar\"},\"x_range\":{\"id\":\"af68c2fb-8848-40ba-887c-b91ed4246888\",\"type\":\"FactorRange\"},\"x_scale\":{\"id\":\"94e93028-ead3-4406-b38b-ff68a8a6a0e6\",\"type\":\"CategoricalScale\"},\"y_range\":{\"id\":\"93f49f3d-9dcd-4762-a617-5db015efabfc\",\"type\":\"Range1d\"},\"y_scale\":{\"id\":\"57f5a0d5-e025-485f-af39-dafb89451382\",\"type\":\"LinearScale\"}},\"id\":\"a46fd4e9-0ee3-4301-9742-85c3f0725e80\",\"subtype\":\"Figure\",\"type\":\"Plot\"},{\"attributes\":{\"callback\":null,\"factors\":[\"W\",\"V\",\"T\",\"C\",\"NP\",\"N\"]},\"id\":\"af68c2fb-8848-40ba-887c-b91ed4246888\",\"type\":\"FactorRange\"},{\"attributes\":{},\"id\":\"205e4e02-7083-4bf4-b0ef-e69fab7f3b24\",\"type\":\"Selection\"},{\"attributes\":{},\"id\":\"94e93028-ead3-4406-b38b-ff68a8a6a0e6\",\"type\":\"CategoricalScale\"},{\"attributes\":{},\"id\":\"57f5a0d5-e025-485f-af39-dafb89451382\",\"type\":\"LinearScale\"},{\"attributes\":{\"plot\":null,\"text\":\"Distribuci\\u00f3n de los tipos de Art\\u00edculo\"},\"id\":\"b5f1119f-5a81-4416-9d6e-975f051c8a9b\",\"type\":\"Title\"},{\"attributes\":{},\"id\":\"83a39c48-32cd-4769-bf6d-0fab7f6ef374\",\"type\":\"WheelZoomTool\"},{\"attributes\":{},\"id\":\"bd6e8b43-2cc8-4eec-9bf1-fa054c11dc3a\",\"type\":\"SaveTool\"},{\"attributes\":{},\"id\":\"7e1cb148-7f25-4ceb-9214-db152bbba3c8\",\"type\":\"BasicTickFormatter\"},{\"attributes\":{\"bottom_units\":\"screen\",\"fill_alpha\":{\"value\":0.5},\"fill_color\":{\"value\":\"lightgrey\"},\"left_units\":\"screen\",\"level\":\"overlay\",\"line_alpha\":{\"value\":1.0},\"line_color\":{\"value\":\"black\"},\"line_dash\":[4,4],\"line_width\":{\"value\":2},\"plot\":null,\"render_mode\":\"css\",\"right_units\":\"screen\",\"top_units\":\"screen\"},\"id\":\"8a995e7f-643f-4b33-b279-60371b18d828\",\"type\":\"BoxAnnotation\"},{\"attributes\":{\"formatter\":{\"id\":\"7e1cb148-7f25-4ceb-9214-db152bbba3c8\",\"type\":\"BasicTickFormatter\"},\"plot\":{\"id\":\"a46fd4e9-0ee3-4301-9742-85c3f0725e80\",\"subtype\":\"Figure\",\"type\":\"Plot\"},\"ticker\":{\"id\":\"3e8351d1-18bd-4721-aa6f-28e61248f998\",\"type\":\"BasicTicker\"}},\"id\":\"28a9d119-1919-4b39-9e7d-1dd14e2eb9fb\",\"type\":\"LinearAxis\"},{\"attributes\":{\"items\":[{\"id\":\"d4594ada-17fa-4460-bd0e-e1427a952fdc\",\"type\":\"LegendItem\"}],\"location\":\"top_center\",\"orientation\":\"horizontal\",\"plot\":{\"id\":\"a46fd4e9-0ee3-4301-9742-85c3f0725e80\",\"subtype\":\"Figure\",\"type\":\"Plot\"}},\"id\":\"78fe2b04-54a0-47ac-8544-3f0a86c786f8\",\"type\":\"Legend\"},{\"attributes\":{\"fill_alpha\":{\"value\":0.1},\"fill_color\":{\"value\":\"#1f77b4\"},\"line_alpha\":{\"value\":0.1},\"line_color\":{\"value\":\"#1f77b4\"},\"top\":{\"field\":\"Freq\"},\"width\":{\"value\":0.5},\"x\":{\"field\":\"columnas\"}},\"id\":\"182f608e-8500-4890-8507-c849f2bc35ca\",\"type\":\"VBar\"},{\"attributes\":{\"data_source\":{\"id\":\"9b2fe97e-8ea8-4671-a077-cf40885ff395\",\"type\":\"ColumnDataSource\"},\"glyph\":{\"id\":\"9c41dfa0-1075-4897-8a60-a55f2d06dc30\",\"type\":\"VBar\"},\"hover_glyph\":null,\"muted_glyph\":null,\"nonselection_glyph\":{\"id\":\"182f608e-8500-4890-8507-c849f2bc35ca\",\"type\":\"VBar\"},\"selection_glyph\":null,\"view\":{\"id\":\"bc8f754c-62af-44db-a9e8-921e83a8dceb\",\"type\":\"CDSView\"}},\"id\":\"b931fa25-4018-461b-b38e-f76a04abdb73\",\"type\":\"GlyphRenderer\"},{\"attributes\":{},\"id\":\"648f6948-ae33-4547-b5ea-f53f0db0aa73\",\"type\":\"CategoricalTicker\"},{\"attributes\":{\"callback\":null,\"data\":{\"Freq\":[54.96775205787259,37.021814289956914,6.75469710468954,1.1094861062080792,0.1459702680137397,0.0002801732591434543],\"color\":[\"#1f77b4\",\"#ff7f0e\",\"#2ca02c\",\"#d62728\",\"#9467bd\",\"#8c564b\"],\"columnas\":[\"W\",\"V\",\"T\",\"C\",\"NP\",\"N\"]},\"selected\":{\"id\":\"205e4e02-7083-4bf4-b0ef-e69fab7f3b24\",\"type\":\"Selection\"},\"selection_policy\":{\"id\":\"c8ca7e83-ac47-4aa1-8d52-7ea6780d858f\",\"type\":\"UnionRenderers\"}},\"id\":\"9b2fe97e-8ea8-4671-a077-cf40885ff395\",\"type\":\"ColumnDataSource\"},{\"attributes\":{\"formatter\":{\"id\":\"4925d4ed-27f8-4bf8-b2f3-9d6bf3a24048\",\"type\":\"CategoricalTickFormatter\"},\"plot\":{\"id\":\"a46fd4e9-0ee3-4301-9742-85c3f0725e80\",\"subtype\":\"Figure\",\"type\":\"Plot\"},\"ticker\":{\"id\":\"648f6948-ae33-4547-b5ea-f53f0db0aa73\",\"type\":\"CategoricalTicker\"}},\"id\":\"cc33f87f-1294-47e4-af74-91b0795231d8\",\"type\":\"CategoricalAxis\"},{\"attributes\":{},\"id\":\"4dd3b02e-2cbd-4bbc-9877-8f7531d9a859\",\"type\":\"ResetTool\"},{\"attributes\":{\"grid_line_color\":{\"value\":null},\"plot\":{\"id\":\"a46fd4e9-0ee3-4301-9742-85c3f0725e80\",\"subtype\":\"Figure\",\"type\":\"Plot\"},\"ticker\":{\"id\":\"648f6948-ae33-4547-b5ea-f53f0db0aa73\",\"type\":\"CategoricalTicker\"}},\"id\":\"4f1cd892-0c4f-4cc7-a5f7-ff7b92b00c96\",\"type\":\"Grid\"},{\"attributes\":{},\"id\":\"bf2bee34-5491-412a-89c5-ef6893028927\",\"type\":\"HelpTool\"}],\"root_ids\":[\"a46fd4e9-0ee3-4301-9742-85c3f0725e80\"]},\"title\":\"Bokeh Application\",\"version\":\"0.13.0\"}};\n",
       "  var render_items = [{\"docid\":\"7634c9fc-b42b-45b5-bc92-46fcfdc7001a\",\"roots\":{\"a46fd4e9-0ee3-4301-9742-85c3f0725e80\":\"d57ed2fc-410e-4ef5-9d90-e9091d6cdb9a\"}}];\n",
       "  root.Bokeh.embed.embed_items_notebook(docs_json, render_items);\n",
       "\n",
       "  }\n",
       "  if (root.Bokeh !== undefined) {\n",
       "    embed_document(root);\n",
       "  } else {\n",
       "    var attempts = 0;\n",
       "    var timer = setInterval(function(root) {\n",
       "      if (root.Bokeh !== undefined) {\n",
       "        embed_document(root);\n",
       "        clearInterval(timer);\n",
       "      }\n",
       "      attempts++;\n",
       "      if (attempts > 100) {\n",
       "        console.log(\"Bokeh: ERROR: Unable to run BokehJS code because BokehJS library is missing\")\n",
       "        clearInterval(timer);\n",
       "      }\n",
       "    }, 10, root)\n",
       "  }\n",
       "})(window);"
      ],
      "application/vnd.bokehjs_exec.v0+json": ""
     },
     "metadata": {
      "application/vnd.bokehjs_exec.v0+json": {
       "id": "a46fd4e9-0ee3-4301-9742-85c3f0725e80"
      }
     },
     "output_type": "display_data"
    },
    {
     "data": {
      "text/html": [
       "<div>\n",
       "<style scoped>\n",
       "    .dataframe tbody tr th:only-of-type {\n",
       "        vertical-align: middle;\n",
       "    }\n",
       "\n",
       "    .dataframe tbody tr th {\n",
       "        vertical-align: top;\n",
       "    }\n",
       "\n",
       "    .dataframe thead th {\n",
       "        text-align: right;\n",
       "    }\n",
       "</style>\n",
       "<table border=\"1\" class=\"dataframe\">\n",
       "  <thead>\n",
       "    <tr style=\"text-align: right;\">\n",
       "      <th></th>\n",
       "      <th>Tipo_Artículo</th>\n",
       "      <th>Porcentaje</th>\n",
       "    </tr>\n",
       "  </thead>\n",
       "  <tbody>\n",
       "    <tr>\n",
       "      <th>0</th>\n",
       "      <td>W</td>\n",
       "      <td>54.967752</td>\n",
       "    </tr>\n",
       "    <tr>\n",
       "      <th>1</th>\n",
       "      <td>V</td>\n",
       "      <td>37.021814</td>\n",
       "    </tr>\n",
       "    <tr>\n",
       "      <th>2</th>\n",
       "      <td>T</td>\n",
       "      <td>6.754697</td>\n",
       "    </tr>\n",
       "    <tr>\n",
       "      <th>3</th>\n",
       "      <td>C</td>\n",
       "      <td>1.109486</td>\n",
       "    </tr>\n",
       "    <tr>\n",
       "      <th>4</th>\n",
       "      <td>NP</td>\n",
       "      <td>0.145970</td>\n",
       "    </tr>\n",
       "    <tr>\n",
       "      <th>5</th>\n",
       "      <td>N</td>\n",
       "      <td>0.000280</td>\n",
       "    </tr>\n",
       "  </tbody>\n",
       "</table>\n",
       "</div>"
      ],
      "text/plain": [
       "  Tipo_Artículo  Porcentaje\n",
       "0             W   54.967752\n",
       "1             V   37.021814\n",
       "2             T    6.754697\n",
       "3             C    1.109486\n",
       "4            NP    0.145970\n",
       "5             N    0.000280"
      ]
     },
     "execution_count": 22,
     "metadata": {},
     "output_type": "execute_result"
    }
   ],
   "source": [
    "ArtCounts=pd.Series((aux.tipo_de_articulo.value_counts()/aux.tipo_de_articulo.value_counts().sum())*100)\n",
    "TipoArt['Porcentaje']=ArtCounts.values\n",
    "\n",
    "columnas=list(TipoArt['Tipo_Artículo'])\n",
    "Freq=list(TipoArt.Porcentaje)\n",
    "source=ColumnDataSource(dict(columnas=columnas, Freq=Freq, color=Category10_6))\n",
    "\n",
    "p=figure(x_range=columnas, plot_height=300, plot_width=850, y_range=(0,80),\n",
    "         title='Distribución de los tipos de Artículo')\n",
    "p.vbar(x='columnas',top='Freq',width=.5, color='color', legend='columnas', source=source)\n",
    "\n",
    "p.xgrid.grid_line_color = None\n",
    "p.legend.orientation = \"horizontal\"\n",
    "p.legend.location = \"top_center\"\n",
    "\n",
    "show(p)\n",
    "TipoArt"
   ]
  },
  {
   "cell_type": "markdown",
   "metadata": {},
   "source": [
    "<div style=\"width: 100%; clear: both; font-family: Verdana;\">\n",
    "<h2>4. Calidad de los datos</h2>\n",
    "    <p> Se documentará la calidad de los datos y analizará las variables que necesitan tratamiento con la ayuda de visualizaciones y tablas.\n",
    "    </p>\n",
    "</div>"
   ]
  },
  {
   "cell_type": "markdown",
   "metadata": {},
   "source": [
    "#### Missings Values\n",
    "Los missings values son los valores faltantes en el conjunto de datos que se refieren a aquellos campos que están vacíos o no tienen valores asignados, estos generalmente ocurren debido a errores de entrada de datos, fallas que ocurren con los procesos de recopilación de datos y, a menudo, al unir varias columnas de diferentes tablas encontramos una condición que conduce a valores faltantes. Existen numerosas formas de tratar los valores perdidos, los más fáciles son reemplazar el valor perdido con la media, la mediana, la moda o un valor constante (llegamos a un valor basado en el conocimiento del dominio) y otra alternativa es eliminar la entrada desde el conjunto de datos en sí."
   ]
  },
  {
   "cell_type": "markdown",
   "metadata": {},
   "source": [
    "Calculamos el porcentaje de NA's que tiene la fuente por columna y el porcentaje de los missings."
   ]
  },
  {
   "cell_type": "code",
   "execution_count": 23,
   "metadata": {},
   "outputs": [],
   "source": [
    "aux2=df"
   ]
  },
  {
   "cell_type": "code",
   "execution_count": 24,
   "metadata": {},
   "outputs": [
    {
     "name": "stderr",
     "output_type": "stream",
     "text": [
      "/opt/cloudera/parcels/Anaconda-5.3.1/lib/python2.7/site-packages/bokeh/models/sources.py:110: BokehUserWarning: ColumnDataSource's columns must be of the same length. Current lengths: ('color', 20), ('columnas', 23), ('counts_nas', 23)\n",
      "  \"Current lengths: %s\" % \", \".join(sorted(str((k, len(v))) for k, v in data.items())), BokehUserWarning))\n"
     ]
    },
    {
     "data": {
      "text/html": [
       "\n",
       "\n",
       "\n",
       "\n",
       "\n",
       "\n",
       "  <div class=\"bk-root\" id=\"47637568-69b0-4e6b-a46f-7f38433e7c39\"></div>\n"
      ]
     },
     "metadata": {},
     "output_type": "display_data"
    },
    {
     "data": {
      "application/javascript": [
       "(function(root) {\n",
       "  function embed_document(root) {\n",
       "    \n",
       "  var docs_json = {\"47708a4b-d7ad-4c6b-96da-f999717b05d2\":{\"roots\":{\"references\":[{\"attributes\":{},\"id\":\"a9d2ed7c-fd0d-4500-9d45-5982a18cc071\",\"type\":\"CategoricalTickFormatter\"},{\"attributes\":{},\"id\":\"22467967-55b6-41e0-acd7-33f5486d5a88\",\"type\":\"HelpTool\"},{\"attributes\":{},\"id\":\"efdbc1d7-5247-462d-be3b-4f291121cbf3\",\"type\":\"Selection\"},{\"attributes\":{},\"id\":\"c20c1c53-0fba-4adc-b237-325a9a9b8b95\",\"type\":\"CategoricalTicker\"},{\"attributes\":{\"bottom_units\":\"screen\",\"fill_alpha\":{\"value\":0.5},\"fill_color\":{\"value\":\"lightgrey\"},\"left_units\":\"screen\",\"level\":\"overlay\",\"line_alpha\":{\"value\":1.0},\"line_color\":{\"value\":\"black\"},\"line_dash\":[4,4],\"line_width\":{\"value\":2},\"plot\":null,\"render_mode\":\"css\",\"right_units\":\"screen\",\"top_units\":\"screen\"},\"id\":\"7b7deecb-fb68-41be-a258-fdc73b175395\",\"type\":\"BoxAnnotation\"},{\"attributes\":{\"formatter\":{\"id\":\"a9d2ed7c-fd0d-4500-9d45-5982a18cc071\",\"type\":\"CategoricalTickFormatter\"},\"plot\":{\"id\":\"d664204e-d002-4dba-8112-a5eb40955039\",\"subtype\":\"Figure\",\"type\":\"Plot\"},\"ticker\":{\"id\":\"c20c1c53-0fba-4adc-b237-325a9a9b8b95\",\"type\":\"CategoricalTicker\"}},\"id\":\"c893db58-9b9c-4e4a-8182-527f7967c647\",\"type\":\"CategoricalAxis\"},{\"attributes\":{\"overlay\":{\"id\":\"7b7deecb-fb68-41be-a258-fdc73b175395\",\"type\":\"BoxAnnotation\"}},\"id\":\"d6b17abe-d1f2-4575-8bf4-9f6cb4531e88\",\"type\":\"BoxZoomTool\"},{\"attributes\":{\"grid_line_color\":{\"value\":null},\"plot\":{\"id\":\"d664204e-d002-4dba-8112-a5eb40955039\",\"subtype\":\"Figure\",\"type\":\"Plot\"},\"ticker\":{\"id\":\"c20c1c53-0fba-4adc-b237-325a9a9b8b95\",\"type\":\"CategoricalTicker\"}},\"id\":\"c7d760a7-c9b7-40e2-b0b0-4dc00afa0787\",\"type\":\"Grid\"},{\"attributes\":{\"active_drag\":\"auto\",\"active_inspect\":\"auto\",\"active_multi\":null,\"active_scroll\":\"auto\",\"active_tap\":\"auto\",\"tools\":[{\"id\":\"e9d8d7be-2a5f-43d0-b6a4-753868cfd178\",\"type\":\"PanTool\"},{\"id\":\"04f0d7c8-cf55-4cb2-9a2b-c1938185024b\",\"type\":\"WheelZoomTool\"},{\"id\":\"d6b17abe-d1f2-4575-8bf4-9f6cb4531e88\",\"type\":\"BoxZoomTool\"},{\"id\":\"e5606042-d644-418d-a52e-ff3955d2a24f\",\"type\":\"SaveTool\"},{\"id\":\"a71695f8-f557-40f9-8ea0-bf7a40185b74\",\"type\":\"ResetTool\"},{\"id\":\"22467967-55b6-41e0-acd7-33f5486d5a88\",\"type\":\"HelpTool\"}]},\"id\":\"824ea552-569b-4fe6-9df3-d2dfda46d8a5\",\"type\":\"Toolbar\"},{\"attributes\":{\"plot\":null,\"text\":\"Porcentaje de nas por columna\"},\"id\":\"3451bbcb-083a-4ee0-8d10-0bd8ca56c557\",\"type\":\"Title\"},{\"attributes\":{\"fill_alpha\":{\"value\":0.1},\"fill_color\":{\"value\":\"#1f77b4\"},\"line_alpha\":{\"value\":0.1},\"line_color\":{\"value\":\"#1f77b4\"},\"top\":{\"field\":\"counts_nas\"},\"width\":{\"value\":0.6},\"x\":{\"field\":\"columnas\"}},\"id\":\"20ac3fd2-56f2-44fa-af0a-111c07d30b2b\",\"type\":\"VBar\"},{\"attributes\":{},\"id\":\"e5606042-d644-418d-a52e-ff3955d2a24f\",\"type\":\"SaveTool\"},{\"attributes\":{},\"id\":\"80ba150d-7821-4196-b78d-73dd7a0d0167\",\"type\":\"LinearScale\"},{\"attributes\":{},\"id\":\"c87998fb-45dc-4073-8d77-7250759d23da\",\"type\":\"BasicTickFormatter\"},{\"attributes\":{\"fill_color\":{\"field\":\"color\"},\"line_color\":{\"field\":\"color\"},\"top\":{\"field\":\"counts_nas\"},\"width\":{\"value\":0.6},\"x\":{\"field\":\"columnas\"}},\"id\":\"368fc554-d0bf-4155-a5bc-36ca48445505\",\"type\":\"VBar\"},{\"attributes\":{\"formatter\":{\"id\":\"c87998fb-45dc-4073-8d77-7250759d23da\",\"type\":\"BasicTickFormatter\"},\"plot\":{\"id\":\"d664204e-d002-4dba-8112-a5eb40955039\",\"subtype\":\"Figure\",\"type\":\"Plot\"},\"ticker\":{\"id\":\"9ab4edf0-0d28-47a1-a6a3-0e6873dc9173\",\"type\":\"BasicTicker\"}},\"id\":\"f6ca0838-0040-4537-8404-9e282cc6af22\",\"type\":\"LinearAxis\"},{\"attributes\":{},\"id\":\"e9d8d7be-2a5f-43d0-b6a4-753868cfd178\",\"type\":\"PanTool\"},{\"attributes\":{\"callback\":null,\"factors\":[\"id\",\"qr_alm\",\"org\",\"sub_inv\",\"almacen\",\"articulo\",\"descripcion\",\"lpn_nuevo\",\"ubicacion_nueva\",\"estado_fisico_usadonuevo\",\"tipo_de_articulo\",\"serie\",\"etiqueta\",\"activo\",\"mxn\",\"usd\",\"tipo_de_ubicacion_resum_1\",\"datasetname\",\"filedate\",\"year\",\"month\",\"day\",\"serie_cleaned\"]},\"id\":\"f0d42f83-b815-4e94-bcee-b8d06d6dc009\",\"type\":\"FactorRange\"},{\"attributes\":{},\"id\":\"9790dca3-2bdc-4d61-952e-446d4d570fed\",\"type\":\"CategoricalScale\"},{\"attributes\":{\"callback\":null,\"data\":{\"color\":[\"#1f77b4\",\"#aec7e8\",\"#ff7f0e\",\"#ffbb78\",\"#2ca02c\",\"#98df8a\",\"#d62728\",\"#ff9896\",\"#9467bd\",\"#c5b0d5\",\"#8c564b\",\"#c49c94\",\"#e377c2\",\"#f7b6d2\",\"#7f7f7f\",\"#c7c7c7\",\"#bcbd22\",\"#dbdb8d\",\"#17becf\",\"#9edae5\"],\"columnas\":[\"id\",\"qr_alm\",\"org\",\"sub_inv\",\"almacen\",\"articulo\",\"descripcion\",\"lpn_nuevo\",\"ubicacion_nueva\",\"estado_fisico_usadonuevo\",\"tipo_de_articulo\",\"serie\",\"etiqueta\",\"activo\",\"mxn\",\"usd\",\"tipo_de_ubicacion_resum_1\",\"datasetname\",\"filedate\",\"year\",\"month\",\"day\",\"serie_cleaned\"],\"counts_nas\":[0.0,3.081905850577998e-05,0.0,0.0,0.0,0.0,0.016950482178178985,0.0,0.0,0.07266293475885488,0.0,0.09832680529639529,0.42049523425286195,0.7455634564414634,1.0,0.0,0.0,0.0,0.0,0.0,0.0,0.0,0.0]},\"selected\":{\"id\":\"efdbc1d7-5247-462d-be3b-4f291121cbf3\",\"type\":\"Selection\"},\"selection_policy\":{\"id\":\"d9cfc231-0d70-4c1b-8b7d-8478bef1888c\",\"type\":\"UnionRenderers\"}},\"id\":\"4ba45556-da27-4b58-bf8a-42db29c2ee3e\",\"type\":\"ColumnDataSource\"},{\"attributes\":{},\"id\":\"9ab4edf0-0d28-47a1-a6a3-0e6873dc9173\",\"type\":\"BasicTicker\"},{\"attributes\":{\"items\":[{\"id\":\"ec601e21-fd35-4fd0-8128-83f92135f7b5\",\"type\":\"LegendItem\"}],\"location\":\"top_center\",\"orientation\":\"horizontal\",\"plot\":{\"id\":\"d664204e-d002-4dba-8112-a5eb40955039\",\"subtype\":\"Figure\",\"type\":\"Plot\"}},\"id\":\"ed98362d-2bb8-4b20-8520-9c2c958dcc8a\",\"type\":\"Legend\"},{\"attributes\":{},\"id\":\"04f0d7c8-cf55-4cb2-9a2b-c1938185024b\",\"type\":\"WheelZoomTool\"},{\"attributes\":{\"below\":[{\"id\":\"c893db58-9b9c-4e4a-8182-527f7967c647\",\"type\":\"CategoricalAxis\"}],\"left\":[{\"id\":\"f6ca0838-0040-4537-8404-9e282cc6af22\",\"type\":\"LinearAxis\"}],\"plot_height\":300,\"plot_width\":850,\"renderers\":[{\"id\":\"c893db58-9b9c-4e4a-8182-527f7967c647\",\"type\":\"CategoricalAxis\"},{\"id\":\"c7d760a7-c9b7-40e2-b0b0-4dc00afa0787\",\"type\":\"Grid\"},{\"id\":\"f6ca0838-0040-4537-8404-9e282cc6af22\",\"type\":\"LinearAxis\"},{\"id\":\"16877f51-b3d8-41af-868f-25ed01ffeb4d\",\"type\":\"Grid\"},{\"id\":\"7b7deecb-fb68-41be-a258-fdc73b175395\",\"type\":\"BoxAnnotation\"},{\"id\":\"ed98362d-2bb8-4b20-8520-9c2c958dcc8a\",\"type\":\"Legend\"},{\"id\":\"e285e508-af1c-4b3d-a5d2-25a313d59032\",\"type\":\"GlyphRenderer\"}],\"title\":{\"id\":\"3451bbcb-083a-4ee0-8d10-0bd8ca56c557\",\"type\":\"Title\"},\"toolbar\":{\"id\":\"824ea552-569b-4fe6-9df3-d2dfda46d8a5\",\"type\":\"Toolbar\"},\"x_range\":{\"id\":\"f0d42f83-b815-4e94-bcee-b8d06d6dc009\",\"type\":\"FactorRange\"},\"x_scale\":{\"id\":\"9790dca3-2bdc-4d61-952e-446d4d570fed\",\"type\":\"CategoricalScale\"},\"y_range\":{\"id\":\"32b36e9f-5624-40f0-b0a2-34cf5a5f9ff7\",\"type\":\"Range1d\"},\"y_scale\":{\"id\":\"80ba150d-7821-4196-b78d-73dd7a0d0167\",\"type\":\"LinearScale\"}},\"id\":\"d664204e-d002-4dba-8112-a5eb40955039\",\"subtype\":\"Figure\",\"type\":\"Plot\"},{\"attributes\":{\"data_source\":{\"id\":\"4ba45556-da27-4b58-bf8a-42db29c2ee3e\",\"type\":\"ColumnDataSource\"},\"glyph\":{\"id\":\"368fc554-d0bf-4155-a5bc-36ca48445505\",\"type\":\"VBar\"},\"hover_glyph\":null,\"muted_glyph\":null,\"nonselection_glyph\":{\"id\":\"20ac3fd2-56f2-44fa-af0a-111c07d30b2b\",\"type\":\"VBar\"},\"selection_glyph\":null,\"view\":{\"id\":\"aa8c4cf7-21b4-4125-8491-7b8349420774\",\"type\":\"CDSView\"}},\"id\":\"e285e508-af1c-4b3d-a5d2-25a313d59032\",\"type\":\"GlyphRenderer\"},{\"attributes\":{},\"id\":\"a71695f8-f557-40f9-8ea0-bf7a40185b74\",\"type\":\"ResetTool\"},{\"attributes\":{\"callback\":null},\"id\":\"32b36e9f-5624-40f0-b0a2-34cf5a5f9ff7\",\"type\":\"Range1d\"},{\"attributes\":{},\"id\":\"d9cfc231-0d70-4c1b-8b7d-8478bef1888c\",\"type\":\"UnionRenderers\"},{\"attributes\":{\"dimension\":1,\"plot\":{\"id\":\"d664204e-d002-4dba-8112-a5eb40955039\",\"subtype\":\"Figure\",\"type\":\"Plot\"},\"ticker\":{\"id\":\"9ab4edf0-0d28-47a1-a6a3-0e6873dc9173\",\"type\":\"BasicTicker\"}},\"id\":\"16877f51-b3d8-41af-868f-25ed01ffeb4d\",\"type\":\"Grid\"},{\"attributes\":{\"source\":{\"id\":\"4ba45556-da27-4b58-bf8a-42db29c2ee3e\",\"type\":\"ColumnDataSource\"}},\"id\":\"aa8c4cf7-21b4-4125-8491-7b8349420774\",\"type\":\"CDSView\"},{\"attributes\":{\"label\":{\"field\":\"columnas\"},\"renderers\":[{\"id\":\"e285e508-af1c-4b3d-a5d2-25a313d59032\",\"type\":\"GlyphRenderer\"}]},\"id\":\"ec601e21-fd35-4fd0-8128-83f92135f7b5\",\"type\":\"LegendItem\"}],\"root_ids\":[\"d664204e-d002-4dba-8112-a5eb40955039\"]},\"title\":\"Bokeh Application\",\"version\":\"0.13.0\"}};\n",
       "  var render_items = [{\"docid\":\"47708a4b-d7ad-4c6b-96da-f999717b05d2\",\"roots\":{\"d664204e-d002-4dba-8112-a5eb40955039\":\"47637568-69b0-4e6b-a46f-7f38433e7c39\"}}];\n",
       "  root.Bokeh.embed.embed_items_notebook(docs_json, render_items);\n",
       "\n",
       "  }\n",
       "  if (root.Bokeh !== undefined) {\n",
       "    embed_document(root);\n",
       "  } else {\n",
       "    var attempts = 0;\n",
       "    var timer = setInterval(function(root) {\n",
       "      if (root.Bokeh !== undefined) {\n",
       "        embed_document(root);\n",
       "        clearInterval(timer);\n",
       "      }\n",
       "      attempts++;\n",
       "      if (attempts > 100) {\n",
       "        console.log(\"Bokeh: ERROR: Unable to run BokehJS code because BokehJS library is missing\")\n",
       "        clearInterval(timer);\n",
       "      }\n",
       "    }, 10, root)\n",
       "  }\n",
       "})(window);"
      ],
      "application/vnd.bokehjs_exec.v0+json": ""
     },
     "metadata": {
      "application/vnd.bokehjs_exec.v0+json": {
       "id": "d664204e-d002-4dba-8112-a5eb40955039"
      }
     },
     "output_type": "display_data"
    },
    {
     "data": {
      "text/html": [
       "<div>\n",
       "<style scoped>\n",
       "    .dataframe tbody tr th:only-of-type {\n",
       "        vertical-align: middle;\n",
       "    }\n",
       "\n",
       "    .dataframe tbody tr th {\n",
       "        vertical-align: top;\n",
       "    }\n",
       "\n",
       "    .dataframe thead th {\n",
       "        text-align: right;\n",
       "    }\n",
       "</style>\n",
       "<table border=\"1\" class=\"dataframe\">\n",
       "  <thead>\n",
       "    <tr style=\"text-align: right;\">\n",
       "      <th></th>\n",
       "      <th>Porcentaje de NAs</th>\n",
       "    </tr>\n",
       "  </thead>\n",
       "  <tbody>\n",
       "    <tr>\n",
       "      <th>id</th>\n",
       "      <td>0.000000</td>\n",
       "    </tr>\n",
       "    <tr>\n",
       "      <th>qr_alm</th>\n",
       "      <td>0.003082</td>\n",
       "    </tr>\n",
       "    <tr>\n",
       "      <th>org</th>\n",
       "      <td>0.000000</td>\n",
       "    </tr>\n",
       "    <tr>\n",
       "      <th>sub_inv</th>\n",
       "      <td>0.000000</td>\n",
       "    </tr>\n",
       "    <tr>\n",
       "      <th>almacen</th>\n",
       "      <td>0.000000</td>\n",
       "    </tr>\n",
       "    <tr>\n",
       "      <th>articulo</th>\n",
       "      <td>0.000000</td>\n",
       "    </tr>\n",
       "    <tr>\n",
       "      <th>descripcion</th>\n",
       "      <td>1.695048</td>\n",
       "    </tr>\n",
       "    <tr>\n",
       "      <th>lpn_nuevo</th>\n",
       "      <td>0.000000</td>\n",
       "    </tr>\n",
       "    <tr>\n",
       "      <th>ubicacion_nueva</th>\n",
       "      <td>0.000000</td>\n",
       "    </tr>\n",
       "    <tr>\n",
       "      <th>estado_fisico_usadonuevo</th>\n",
       "      <td>7.266293</td>\n",
       "    </tr>\n",
       "    <tr>\n",
       "      <th>tipo_de_articulo</th>\n",
       "      <td>0.000000</td>\n",
       "    </tr>\n",
       "    <tr>\n",
       "      <th>serie</th>\n",
       "      <td>9.832681</td>\n",
       "    </tr>\n",
       "    <tr>\n",
       "      <th>etiqueta</th>\n",
       "      <td>42.049523</td>\n",
       "    </tr>\n",
       "    <tr>\n",
       "      <th>activo</th>\n",
       "      <td>74.556346</td>\n",
       "    </tr>\n",
       "    <tr>\n",
       "      <th>mxn</th>\n",
       "      <td>100.000000</td>\n",
       "    </tr>\n",
       "    <tr>\n",
       "      <th>usd</th>\n",
       "      <td>0.000000</td>\n",
       "    </tr>\n",
       "    <tr>\n",
       "      <th>tipo_de_ubicacion_resum_1</th>\n",
       "      <td>0.000000</td>\n",
       "    </tr>\n",
       "    <tr>\n",
       "      <th>datasetname</th>\n",
       "      <td>0.000000</td>\n",
       "    </tr>\n",
       "    <tr>\n",
       "      <th>filedate</th>\n",
       "      <td>0.000000</td>\n",
       "    </tr>\n",
       "    <tr>\n",
       "      <th>year</th>\n",
       "      <td>0.000000</td>\n",
       "    </tr>\n",
       "    <tr>\n",
       "      <th>month</th>\n",
       "      <td>0.000000</td>\n",
       "    </tr>\n",
       "    <tr>\n",
       "      <th>day</th>\n",
       "      <td>0.000000</td>\n",
       "    </tr>\n",
       "    <tr>\n",
       "      <th>serie_cleaned</th>\n",
       "      <td>0.000000</td>\n",
       "    </tr>\n",
       "  </tbody>\n",
       "</table>\n",
       "</div>"
      ],
      "text/plain": [
       "                           Porcentaje de NAs\n",
       "id                                  0.000000\n",
       "qr_alm                              0.003082\n",
       "org                                 0.000000\n",
       "sub_inv                             0.000000\n",
       "almacen                             0.000000\n",
       "articulo                            0.000000\n",
       "descripcion                         1.695048\n",
       "lpn_nuevo                           0.000000\n",
       "ubicacion_nueva                     0.000000\n",
       "estado_fisico_usadonuevo            7.266293\n",
       "tipo_de_articulo                    0.000000\n",
       "serie                               9.832681\n",
       "etiqueta                           42.049523\n",
       "activo                             74.556346\n",
       "mxn                               100.000000\n",
       "usd                                 0.000000\n",
       "tipo_de_ubicacion_resum_1           0.000000\n",
       "datasetname                         0.000000\n",
       "filedate                            0.000000\n",
       "year                                0.000000\n",
       "month                               0.000000\n",
       "day                                 0.000000\n",
       "serie_cleaned                       0.000000"
      ]
     },
     "execution_count": 24,
     "metadata": {},
     "output_type": "execute_result"
    }
   ],
   "source": [
    "output_file(\"Porcentaje de NAsSegg.html\")\n",
    "nas=aux2.isna().sum()\n",
    "porcentaje_nas=nas/aux2.isna().count()\n",
    "\n",
    "columnas=list(porcentaje_nas.keys())\n",
    "counts_nas=list(porcentaje_nas.values)\n",
    "source=ColumnDataSource(dict(columnas=columnas, counts_nas=counts_nas, color=Category20_20))\n",
    "\n",
    "p=figure(x_range=columnas, plot_height=300, plot_width=850, y_range=(0,1),\n",
    "         title='Porcentaje de nas por columna')\n",
    "p.vbar(x='columnas',top='counts_nas',width=.6, color='color', legend='columnas', source=source)\n",
    "\n",
    "p.xgrid.grid_line_color = None\n",
    "p.legend.orientation = \"horizontal\"\n",
    "p.legend.location = \"top_center\"\n",
    "\n",
    "show(p)\n",
    "pd.DataFrame(porcentaje_nas*100,columns=['Porcentaje de NAs'])"
   ]
  },
  {
   "cell_type": "markdown",
   "metadata": {},
   "source": [
    "Visualización de datos NOT NULL WLOG: "
   ]
  },
  {
   "cell_type": "code",
   "execution_count": 25,
   "metadata": {},
   "outputs": [
    {
     "name": "stderr",
     "output_type": "stream",
     "text": [
      "/opt/cloudera/parcels/Anaconda-5.3.1/lib/python2.7/site-packages/bokeh/models/sources.py:110: BokehUserWarning: ColumnDataSource's columns must be of the same length. Current lengths: ('color', 20), ('columnas', 23), ('counts_nas', 23)\n",
      "  \"Current lengths: %s\" % \", \".join(sorted(str((k, len(v))) for k, v in data.items())), BokehUserWarning))\n"
     ]
    },
    {
     "data": {
      "text/html": [
       "\n",
       "\n",
       "\n",
       "\n",
       "\n",
       "\n",
       "  <div class=\"bk-root\" id=\"69739d74-99de-4776-8591-85c7608a63d2\"></div>\n"
      ]
     },
     "metadata": {},
     "output_type": "display_data"
    },
    {
     "data": {
      "application/javascript": [
       "(function(root) {\n",
       "  function embed_document(root) {\n",
       "    \n",
       "  var docs_json = {\"00976421-cfb6-4d02-9fb0-1e850259e746\":{\"roots\":{\"references\":[{\"attributes\":{\"data_source\":{\"id\":\"da0c68aa-906f-49bc-b283-e14d3ee2b5d4\",\"type\":\"ColumnDataSource\"},\"glyph\":{\"id\":\"ed2d85f6-2df3-4a82-9340-5770122b4eda\",\"type\":\"VBar\"},\"hover_glyph\":null,\"muted_glyph\":null,\"nonselection_glyph\":{\"id\":\"21f52040-43a2-49cc-adc1-f084d324739b\",\"type\":\"VBar\"},\"selection_glyph\":null,\"view\":{\"id\":\"ffe105ea-4bba-40f5-a6ac-60489132e60e\",\"type\":\"CDSView\"}},\"id\":\"64ef2190-b2eb-4db9-86e9-12159a88dabb\",\"type\":\"GlyphRenderer\"},{\"attributes\":{\"fill_color\":{\"field\":\"color\"},\"line_color\":{\"field\":\"color\"},\"top\":{\"field\":\"counts_nas\"},\"width\":{\"value\":0.7},\"x\":{\"field\":\"columnas\"}},\"id\":\"ed2d85f6-2df3-4a82-9340-5770122b4eda\",\"type\":\"VBar\"},{\"attributes\":{},\"id\":\"81424adc-c38a-4339-8e5a-12f0a21d58b8\",\"type\":\"ResetTool\"},{\"attributes\":{},\"id\":\"69cd0b26-377c-4dcd-b1b1-4e396c90e8f8\",\"type\":\"CategoricalScale\"},{\"attributes\":{},\"id\":\"c46caca6-a72e-4b70-8c74-eabd6db5f097\",\"type\":\"SaveTool\"},{\"attributes\":{\"formatter\":{\"id\":\"f1c039ed-c27f-4f47-9a2f-a2fa6297dfef\",\"type\":\"BasicTickFormatter\"},\"plot\":{\"id\":\"d389f063-4c89-491b-b7b2-e652bda91d19\",\"subtype\":\"Figure\",\"type\":\"Plot\"},\"ticker\":{\"id\":\"cf1c3e8a-61d2-4d28-ac88-294655cc7eab\",\"type\":\"BasicTicker\"}},\"id\":\"bafe5548-0a4d-459d-b738-62a6fec369cd\",\"type\":\"LinearAxis\"},{\"attributes\":{\"overlay\":{\"id\":\"5eb4c5f0-cfaf-4eca-a9a2-2381a090854c\",\"type\":\"BoxAnnotation\"}},\"id\":\"7c54173a-c91d-4cc3-8d43-9c738320e2e2\",\"type\":\"BoxZoomTool\"},{\"attributes\":{\"dimension\":1,\"plot\":{\"id\":\"d389f063-4c89-491b-b7b2-e652bda91d19\",\"subtype\":\"Figure\",\"type\":\"Plot\"},\"ticker\":{\"id\":\"cf1c3e8a-61d2-4d28-ac88-294655cc7eab\",\"type\":\"BasicTicker\"}},\"id\":\"b895ed6d-5dc0-4aa8-911a-8c66b0196f2d\",\"type\":\"Grid\"},{\"attributes\":{\"callback\":null,\"data\":{\"color\":[\"#3182bd\",\"#6baed6\",\"#9ecae1\",\"#c6dbef\",\"#e6550d\",\"#fd8d3c\",\"#fdae6b\",\"#fdd0a2\",\"#31a354\",\"#74c476\",\"#a1d99b\",\"#c7e9c0\",\"#756bb1\",\"#9e9ac8\",\"#bcbddc\",\"#dadaeb\",\"#636363\",\"#969696\",\"#bdbdbd\",\"#d9d9d9\"],\"columnas\":[\"id\",\"qr_alm\",\"org\",\"sub_inv\",\"almacen\",\"articulo\",\"descripcion\",\"lpn_nuevo\",\"ubicacion_nueva\",\"estado_fisico_usadonuevo\",\"tipo_de_articulo\",\"serie\",\"etiqueta\",\"activo\",\"mxn\",\"usd\",\"tipo_de_ubicacion_resum_1\",\"datasetname\",\"filedate\",\"year\",\"month\",\"day\",\"serie_cleaned\"],\"counts_nas\":[100.0,99.99691809414942,100.0,100.0,100.0,100.0,98.3049517821821,100.0,100.0,92.73370652411451,100.0,90.16731947036047,57.950476574713804,25.443654355853663,0.0,100.0,100.0,100.0,100.0,100.0,100.0,100.0,100.0]},\"selected\":{\"id\":\"1c0bfac9-67ba-4d4a-a770-ecf9a29ed67a\",\"type\":\"Selection\"},\"selection_policy\":{\"id\":\"ab3bcb77-d79a-4979-8322-8bd30d13d159\",\"type\":\"UnionRenderers\"}},\"id\":\"da0c68aa-906f-49bc-b283-e14d3ee2b5d4\",\"type\":\"ColumnDataSource\"},{\"attributes\":{\"callback\":null,\"factors\":[\"id\",\"qr_alm\",\"org\",\"sub_inv\",\"almacen\",\"articulo\",\"descripcion\",\"lpn_nuevo\",\"ubicacion_nueva\",\"estado_fisico_usadonuevo\",\"tipo_de_articulo\",\"serie\",\"etiqueta\",\"activo\",\"mxn\",\"usd\",\"tipo_de_ubicacion_resum_1\",\"datasetname\",\"filedate\",\"year\",\"month\",\"day\",\"serie_cleaned\"]},\"id\":\"29df8f29-ff1e-4cd7-8b17-55bd88b27bcf\",\"type\":\"FactorRange\"},{\"attributes\":{\"plot\":null,\"text\":\"Porcentaje de not-nulls por columna\"},\"id\":\"f1002528-61be-40b3-9a40-b7da839d7691\",\"type\":\"Title\"},{\"attributes\":{\"label\":{\"field\":\"columnas\"},\"renderers\":[{\"id\":\"64ef2190-b2eb-4db9-86e9-12159a88dabb\",\"type\":\"GlyphRenderer\"}]},\"id\":\"eddfd572-be4d-4a47-917b-8c669f40f76b\",\"type\":\"LegendItem\"},{\"attributes\":{},\"id\":\"54e2c8d5-d7db-4492-be63-073cb460fa09\",\"type\":\"PanTool\"},{\"attributes\":{},\"id\":\"539b7f8a-58d7-4a17-8944-c63c2f378d12\",\"type\":\"WheelZoomTool\"},{\"attributes\":{},\"id\":\"cf1c3e8a-61d2-4d28-ac88-294655cc7eab\",\"type\":\"BasicTicker\"},{\"attributes\":{\"active_drag\":\"auto\",\"active_inspect\":\"auto\",\"active_multi\":null,\"active_scroll\":\"auto\",\"active_tap\":\"auto\",\"tools\":[{\"id\":\"54e2c8d5-d7db-4492-be63-073cb460fa09\",\"type\":\"PanTool\"},{\"id\":\"539b7f8a-58d7-4a17-8944-c63c2f378d12\",\"type\":\"WheelZoomTool\"},{\"id\":\"7c54173a-c91d-4cc3-8d43-9c738320e2e2\",\"type\":\"BoxZoomTool\"},{\"id\":\"c46caca6-a72e-4b70-8c74-eabd6db5f097\",\"type\":\"SaveTool\"},{\"id\":\"81424adc-c38a-4339-8e5a-12f0a21d58b8\",\"type\":\"ResetTool\"},{\"id\":\"69d7b4c6-0513-4888-9d96-3061ddf250e4\",\"type\":\"HelpTool\"}]},\"id\":\"03147f6e-08b9-4ae3-ae9e-7d63214954a4\",\"type\":\"Toolbar\"},{\"attributes\":{\"callback\":null,\"end\":100},\"id\":\"1da16286-5701-428b-bdb6-9f60cd4780c9\",\"type\":\"Range1d\"},{\"attributes\":{},\"id\":\"a1364612-a4c8-43bf-b596-f7788ae40e68\",\"type\":\"CategoricalTickFormatter\"},{\"attributes\":{\"items\":[{\"id\":\"eddfd572-be4d-4a47-917b-8c669f40f76b\",\"type\":\"LegendItem\"}],\"location\":\"top_center\",\"orientation\":\"horizontal\",\"plot\":{\"id\":\"d389f063-4c89-491b-b7b2-e652bda91d19\",\"subtype\":\"Figure\",\"type\":\"Plot\"}},\"id\":\"bebf07ec-6a3f-4f6f-b720-4556af5031e3\",\"type\":\"Legend\"},{\"attributes\":{\"bottom_units\":\"screen\",\"fill_alpha\":{\"value\":0.5},\"fill_color\":{\"value\":\"lightgrey\"},\"left_units\":\"screen\",\"level\":\"overlay\",\"line_alpha\":{\"value\":1.0},\"line_color\":{\"value\":\"black\"},\"line_dash\":[4,4],\"line_width\":{\"value\":2},\"plot\":null,\"render_mode\":\"css\",\"right_units\":\"screen\",\"top_units\":\"screen\"},\"id\":\"5eb4c5f0-cfaf-4eca-a9a2-2381a090854c\",\"type\":\"BoxAnnotation\"},{\"attributes\":{\"grid_line_color\":{\"value\":null},\"plot\":{\"id\":\"d389f063-4c89-491b-b7b2-e652bda91d19\",\"subtype\":\"Figure\",\"type\":\"Plot\"},\"ticker\":{\"id\":\"20400f48-f302-4679-8859-6eb0abefc26f\",\"type\":\"CategoricalTicker\"}},\"id\":\"7ed8b53d-6dff-450b-9f74-838a90d45569\",\"type\":\"Grid\"},{\"attributes\":{\"formatter\":{\"id\":\"a1364612-a4c8-43bf-b596-f7788ae40e68\",\"type\":\"CategoricalTickFormatter\"},\"plot\":{\"id\":\"d389f063-4c89-491b-b7b2-e652bda91d19\",\"subtype\":\"Figure\",\"type\":\"Plot\"},\"ticker\":{\"id\":\"20400f48-f302-4679-8859-6eb0abefc26f\",\"type\":\"CategoricalTicker\"}},\"id\":\"d5a76b79-e88c-4b5a-ae41-1d04dfd4d290\",\"type\":\"CategoricalAxis\"},{\"attributes\":{\"fill_alpha\":{\"value\":0.1},\"fill_color\":{\"value\":\"#1f77b4\"},\"line_alpha\":{\"value\":0.1},\"line_color\":{\"value\":\"#1f77b4\"},\"top\":{\"field\":\"counts_nas\"},\"width\":{\"value\":0.7},\"x\":{\"field\":\"columnas\"}},\"id\":\"21f52040-43a2-49cc-adc1-f084d324739b\",\"type\":\"VBar\"},{\"attributes\":{\"below\":[{\"id\":\"d5a76b79-e88c-4b5a-ae41-1d04dfd4d290\",\"type\":\"CategoricalAxis\"}],\"left\":[{\"id\":\"bafe5548-0a4d-459d-b738-62a6fec369cd\",\"type\":\"LinearAxis\"}],\"plot_height\":300,\"plot_width\":850,\"renderers\":[{\"id\":\"d5a76b79-e88c-4b5a-ae41-1d04dfd4d290\",\"type\":\"CategoricalAxis\"},{\"id\":\"7ed8b53d-6dff-450b-9f74-838a90d45569\",\"type\":\"Grid\"},{\"id\":\"bafe5548-0a4d-459d-b738-62a6fec369cd\",\"type\":\"LinearAxis\"},{\"id\":\"b895ed6d-5dc0-4aa8-911a-8c66b0196f2d\",\"type\":\"Grid\"},{\"id\":\"5eb4c5f0-cfaf-4eca-a9a2-2381a090854c\",\"type\":\"BoxAnnotation\"},{\"id\":\"bebf07ec-6a3f-4f6f-b720-4556af5031e3\",\"type\":\"Legend\"},{\"id\":\"64ef2190-b2eb-4db9-86e9-12159a88dabb\",\"type\":\"GlyphRenderer\"}],\"title\":{\"id\":\"f1002528-61be-40b3-9a40-b7da839d7691\",\"type\":\"Title\"},\"toolbar\":{\"id\":\"03147f6e-08b9-4ae3-ae9e-7d63214954a4\",\"type\":\"Toolbar\"},\"x_range\":{\"id\":\"29df8f29-ff1e-4cd7-8b17-55bd88b27bcf\",\"type\":\"FactorRange\"},\"x_scale\":{\"id\":\"69cd0b26-377c-4dcd-b1b1-4e396c90e8f8\",\"type\":\"CategoricalScale\"},\"y_range\":{\"id\":\"1da16286-5701-428b-bdb6-9f60cd4780c9\",\"type\":\"Range1d\"},\"y_scale\":{\"id\":\"9a2ea3e1-293d-4d7d-ac45-1a93f5f67da4\",\"type\":\"LinearScale\"}},\"id\":\"d389f063-4c89-491b-b7b2-e652bda91d19\",\"subtype\":\"Figure\",\"type\":\"Plot\"},{\"attributes\":{},\"id\":\"f1c039ed-c27f-4f47-9a2f-a2fa6297dfef\",\"type\":\"BasicTickFormatter\"},{\"attributes\":{},\"id\":\"20400f48-f302-4679-8859-6eb0abefc26f\",\"type\":\"CategoricalTicker\"},{\"attributes\":{},\"id\":\"69d7b4c6-0513-4888-9d96-3061ddf250e4\",\"type\":\"HelpTool\"},{\"attributes\":{},\"id\":\"ab3bcb77-d79a-4979-8322-8bd30d13d159\",\"type\":\"UnionRenderers\"},{\"attributes\":{},\"id\":\"9a2ea3e1-293d-4d7d-ac45-1a93f5f67da4\",\"type\":\"LinearScale\"},{\"attributes\":{},\"id\":\"1c0bfac9-67ba-4d4a-a770-ecf9a29ed67a\",\"type\":\"Selection\"},{\"attributes\":{\"source\":{\"id\":\"da0c68aa-906f-49bc-b283-e14d3ee2b5d4\",\"type\":\"ColumnDataSource\"}},\"id\":\"ffe105ea-4bba-40f5-a6ac-60489132e60e\",\"type\":\"CDSView\"}],\"root_ids\":[\"d389f063-4c89-491b-b7b2-e652bda91d19\"]},\"title\":\"Bokeh Application\",\"version\":\"0.13.0\"}};\n",
       "  var render_items = [{\"docid\":\"00976421-cfb6-4d02-9fb0-1e850259e746\",\"roots\":{\"d389f063-4c89-491b-b7b2-e652bda91d19\":\"69739d74-99de-4776-8591-85c7608a63d2\"}}];\n",
       "  root.Bokeh.embed.embed_items_notebook(docs_json, render_items);\n",
       "\n",
       "  }\n",
       "  if (root.Bokeh !== undefined) {\n",
       "    embed_document(root);\n",
       "  } else {\n",
       "    var attempts = 0;\n",
       "    var timer = setInterval(function(root) {\n",
       "      if (root.Bokeh !== undefined) {\n",
       "        embed_document(root);\n",
       "        clearInterval(timer);\n",
       "      }\n",
       "      attempts++;\n",
       "      if (attempts > 100) {\n",
       "        console.log(\"Bokeh: ERROR: Unable to run BokehJS code because BokehJS library is missing\")\n",
       "        clearInterval(timer);\n",
       "      }\n",
       "    }, 10, root)\n",
       "  }\n",
       "})(window);"
      ],
      "application/vnd.bokehjs_exec.v0+json": ""
     },
     "metadata": {
      "application/vnd.bokehjs_exec.v0+json": {
       "id": "d389f063-4c89-491b-b7b2-e652bda91d19"
      }
     },
     "output_type": "display_data"
    },
    {
     "data": {
      "text/html": [
       "<div>\n",
       "<style scoped>\n",
       "    .dataframe tbody tr th:only-of-type {\n",
       "        vertical-align: middle;\n",
       "    }\n",
       "\n",
       "    .dataframe tbody tr th {\n",
       "        vertical-align: top;\n",
       "    }\n",
       "\n",
       "    .dataframe thead th {\n",
       "        text-align: right;\n",
       "    }\n",
       "</style>\n",
       "<table border=\"1\" class=\"dataframe\">\n",
       "  <thead>\n",
       "    <tr style=\"text-align: right;\">\n",
       "      <th></th>\n",
       "      <th>Porcentaje de Not nulls</th>\n",
       "    </tr>\n",
       "  </thead>\n",
       "  <tbody>\n",
       "    <tr>\n",
       "      <th>id</th>\n",
       "      <td>100.000000</td>\n",
       "    </tr>\n",
       "    <tr>\n",
       "      <th>qr_alm</th>\n",
       "      <td>99.996918</td>\n",
       "    </tr>\n",
       "    <tr>\n",
       "      <th>org</th>\n",
       "      <td>100.000000</td>\n",
       "    </tr>\n",
       "    <tr>\n",
       "      <th>sub_inv</th>\n",
       "      <td>100.000000</td>\n",
       "    </tr>\n",
       "    <tr>\n",
       "      <th>almacen</th>\n",
       "      <td>100.000000</td>\n",
       "    </tr>\n",
       "    <tr>\n",
       "      <th>articulo</th>\n",
       "      <td>100.000000</td>\n",
       "    </tr>\n",
       "    <tr>\n",
       "      <th>descripcion</th>\n",
       "      <td>98.304952</td>\n",
       "    </tr>\n",
       "    <tr>\n",
       "      <th>lpn_nuevo</th>\n",
       "      <td>100.000000</td>\n",
       "    </tr>\n",
       "    <tr>\n",
       "      <th>ubicacion_nueva</th>\n",
       "      <td>100.000000</td>\n",
       "    </tr>\n",
       "    <tr>\n",
       "      <th>estado_fisico_usadonuevo</th>\n",
       "      <td>92.733707</td>\n",
       "    </tr>\n",
       "    <tr>\n",
       "      <th>tipo_de_articulo</th>\n",
       "      <td>100.000000</td>\n",
       "    </tr>\n",
       "    <tr>\n",
       "      <th>serie</th>\n",
       "      <td>90.167319</td>\n",
       "    </tr>\n",
       "    <tr>\n",
       "      <th>etiqueta</th>\n",
       "      <td>57.950477</td>\n",
       "    </tr>\n",
       "    <tr>\n",
       "      <th>activo</th>\n",
       "      <td>25.443654</td>\n",
       "    </tr>\n",
       "    <tr>\n",
       "      <th>mxn</th>\n",
       "      <td>0.000000</td>\n",
       "    </tr>\n",
       "    <tr>\n",
       "      <th>usd</th>\n",
       "      <td>100.000000</td>\n",
       "    </tr>\n",
       "    <tr>\n",
       "      <th>tipo_de_ubicacion_resum_1</th>\n",
       "      <td>100.000000</td>\n",
       "    </tr>\n",
       "    <tr>\n",
       "      <th>datasetname</th>\n",
       "      <td>100.000000</td>\n",
       "    </tr>\n",
       "    <tr>\n",
       "      <th>filedate</th>\n",
       "      <td>100.000000</td>\n",
       "    </tr>\n",
       "    <tr>\n",
       "      <th>year</th>\n",
       "      <td>100.000000</td>\n",
       "    </tr>\n",
       "    <tr>\n",
       "      <th>month</th>\n",
       "      <td>100.000000</td>\n",
       "    </tr>\n",
       "    <tr>\n",
       "      <th>day</th>\n",
       "      <td>100.000000</td>\n",
       "    </tr>\n",
       "    <tr>\n",
       "      <th>serie_cleaned</th>\n",
       "      <td>100.000000</td>\n",
       "    </tr>\n",
       "  </tbody>\n",
       "</table>\n",
       "</div>"
      ],
      "text/plain": [
       "                           Porcentaje de Not nulls\n",
       "id                                      100.000000\n",
       "qr_alm                                   99.996918\n",
       "org                                     100.000000\n",
       "sub_inv                                 100.000000\n",
       "almacen                                 100.000000\n",
       "articulo                                100.000000\n",
       "descripcion                              98.304952\n",
       "lpn_nuevo                               100.000000\n",
       "ubicacion_nueva                         100.000000\n",
       "estado_fisico_usadonuevo                 92.733707\n",
       "tipo_de_articulo                        100.000000\n",
       "serie                                    90.167319\n",
       "etiqueta                                 57.950477\n",
       "activo                                   25.443654\n",
       "mxn                                       0.000000\n",
       "usd                                     100.000000\n",
       "tipo_de_ubicacion_resum_1               100.000000\n",
       "datasetname                             100.000000\n",
       "filedate                                100.000000\n",
       "year                                    100.000000\n",
       "month                                   100.000000\n",
       "day                                     100.000000\n",
       "serie_cleaned                           100.000000"
      ]
     },
     "execution_count": 25,
     "metadata": {},
     "output_type": "execute_result"
    }
   ],
   "source": [
    "output_file(\"Porcentaje de NotNullSegg.html\")\n",
    "notmiss=(1-porcentaje_nas)*100\n",
    "\n",
    "columnas=list(notmiss.keys())\n",
    "counts_nas=list(notmiss.values)\n",
    "source=ColumnDataSource(dict(columnas=columnas, counts_nas=counts_nas, color=Category20c_20))\n",
    "\n",
    "p=figure(x_range=columnas, plot_height=300, plot_width=850, y_range=(0,100), \n",
    "         title='Porcentaje de not-nulls por columna')\n",
    "p.vbar(x='columnas',top='counts_nas',width=.7, color='color', legend='columnas', source=source)\n",
    "\n",
    "p.xgrid.grid_line_color = None\n",
    "p.legend.orientation = \"horizontal\"\n",
    "p.legend.location = \"top_center\"\n",
    "\n",
    "show(p)\n",
    "\n",
    "pd.DataFrame(notmiss,columns=['Porcentaje de Not nulls'])"
   ]
  },
  {
   "cell_type": "markdown",
   "metadata": {},
   "source": [
    "#### 4.2 Data Errors\n",
    "\n",
    "* De manera general, se encuentran en varias columnas, nulos que se rellenaron con '0'. Ejemplos de estos casos, son las columnas: **qr**, **lpn_nuevo**, **ubicacion_nueva**.\n",
    "* Tuvo que hacerse una preparación para identificar los NaNs, debido a que son ingresados como **0** ,\"-\" o simplemente un empty string.\n",
    "* Hay datos sin **id**.\n",
    "* Los campos de fecha tienen formato string."
   ]
  },
  {
   "cell_type": "markdown",
   "metadata": {},
   "source": [
    "\n",
    "### 5. Preparación de los datos.\n",
    "Para la preparación de los datos crearemos las reglas de calidad o estándares observados en el apartado anterior de acuerdo a la calidad de datos obtenidos. "
   ]
  },
  {
   "cell_type": "markdown",
   "metadata": {},
   "source": [
    " * **qr:** Se recomienda optar por un nuevo nombre, pasar los nulos '0' a NaN.\n",
    " * **almacén:**\n",
    "    * Se utilizó el catálogo proporcionado por el equipo ATT, utilizando el campo **org**\n",
    "        \n",
    "* **sub_inv:** \n",
    "    * Pasar todo a uppercase\n",
    "    * replace 'USADIS' to 'USADO'\n",
    "    * replace 'USADODISP' to 'USADO'\n",
    "    * replace 'UDISP' to 'USADO'\n",
    "    * replace 'USADOS' to 'USADO'\n",
    "    * replace 'OBSOLETO' to 'OBS'\n",
    "    * replace 'NUEVOS' to 'NUEVO'\n",
    "    * replace 'ACLARACIEN' to 'ACLARACION'\n",
    "    * replace 'DANADO' to 'DAN'\n",
    "    * replace 'REFA-DAU' to 'REFA-DAN'\n",
    "    * replace 'RF' to 'REFA'\n",
    "    * Eliminar acentos\n",
    "    * Hay datos con caracteres desconocidos, debido a los acentos\n",
    "        \n",
    "* **series:**\n",
    "    * Homologar formatos en los casos posibles. \n",
    "    * replace \"'NA\" to 'np.NaN'\n",
    "    * Se deben revisar datos que vienen con notación científica\n",
    "    * Se marcan como *np.NaN* : campos que contengan:\n",
    "        * ESPACIOS\n",
    "        * La palabra BORRADO\n",
    "        * La palabra VICIBLE\n",
    "        * La palabra VISIBLE\n",
    "        * CARACTER ESPECIAL\n",
    "        * ILEGIBLE\n",
    "        * INCOMPLETO\n",
    "        * LONGITUD de caracteres menores a 6\n",
    "\n",
    "* **etiqueta:**\n",
    "    * Se marcan como *np.NaN* : campos que contengan:\n",
    "        * CARACTERES ESPECIALES\n",
    "        * ESPACIOS\n",
    "        * La palabra ILEGIBLE\n",
    "        * LONGITUD menor a 4\n",
    "        * La palabra VISIVLE\n",
    "        * La palabra NOTIENE\n",
    "        * La palabra REVISAR\n",
    "        * La palabra VISIBLE\n",
    "        * La palabra ERROR\n",
    "        * La palabra VIDIBLE\n",
    "        * La palabra SINACTIVO\n",
    "    * Campos iguales a:\n",
    "        * IP3CAB6CAA\n",
    "        * 3G113642\n",
    "        * 3G083109\n",
    "* **mxn:**\n",
    "    * reemplazar ('E',5,)\n",
    "    * Dar formato 'float'\n",
    "    \n",
    "* **De manera general:**\n",
    "    * Tratamiento de missings.\n",
    "    * Eliminar acentos\n",
    "    * Revisar caracteres desconocidos\n",
    "    * Pasar a Uppercase o Lowercase por columna, según sea el formato estándar\n",
    "    * Se deben revisar datos que vienen con notación científica"
   ]
  },
  {
   "cell_type": "markdown",
   "metadata": {},
   "source": [
    "\n",
    "### 6. Catálogos\n",
    "Se mostrarán los catálogos finales. "
   ]
  },
  {
   "cell_type": "markdown",
   "metadata": {},
   "source": [
    "#### Catálogo de sub inventario:"
   ]
  },
  {
   "cell_type": "code",
   "execution_count": 26,
   "metadata": {},
   "outputs": [
    {
     "data": {
      "text/html": [
       "<div>\n",
       "<style scoped>\n",
       "    .dataframe tbody tr th:only-of-type {\n",
       "        vertical-align: middle;\n",
       "    }\n",
       "\n",
       "    .dataframe tbody tr th {\n",
       "        vertical-align: top;\n",
       "    }\n",
       "\n",
       "    .dataframe thead th {\n",
       "        text-align: right;\n",
       "    }\n",
       "</style>\n",
       "<table border=\"1\" class=\"dataframe\">\n",
       "  <thead>\n",
       "    <tr style=\"text-align: right;\">\n",
       "      <th></th>\n",
       "      <th>Sub_inventario</th>\n",
       "    </tr>\n",
       "  </thead>\n",
       "  <tbody>\n",
       "    <tr>\n",
       "      <th>0</th>\n",
       "      <td>USADO</td>\n",
       "    </tr>\n",
       "    <tr>\n",
       "      <th>1</th>\n",
       "      <td>NUEVO</td>\n",
       "    </tr>\n",
       "    <tr>\n",
       "      <th>2</th>\n",
       "      <td>REFA-USADO</td>\n",
       "    </tr>\n",
       "    <tr>\n",
       "      <th>3</th>\n",
       "      <td>REFA-NUEVO</td>\n",
       "    </tr>\n",
       "    <tr>\n",
       "      <th>4</th>\n",
       "      <td>OBS</td>\n",
       "    </tr>\n",
       "    <tr>\n",
       "      <th>5</th>\n",
       "      <td>IBS-NUEVO</td>\n",
       "    </tr>\n",
       "    <tr>\n",
       "      <th>6</th>\n",
       "      <td>REFA-DAÐ</td>\n",
       "    </tr>\n",
       "    <tr>\n",
       "      <th>7</th>\n",
       "      <td>REFA-OBS</td>\n",
       "    </tr>\n",
       "    <tr>\n",
       "      <th>8</th>\n",
       "      <td>MOBILIARIO</td>\n",
       "    </tr>\n",
       "    <tr>\n",
       "      <th>9</th>\n",
       "      <td>DAN</td>\n",
       "    </tr>\n",
       "    <tr>\n",
       "      <th>10</th>\n",
       "      <td>REFA-REP</td>\n",
       "    </tr>\n",
       "    <tr>\n",
       "      <th>11</th>\n",
       "      <td>CUARENTENA</td>\n",
       "    </tr>\n",
       "    <tr>\n",
       "      <th>12</th>\n",
       "      <td>REFA-DAN</td>\n",
       "    </tr>\n",
       "    <tr>\n",
       "      <th>13</th>\n",
       "      <td>ACLARACION</td>\n",
       "    </tr>\n",
       "    <tr>\n",
       "      <th>14</th>\n",
       "      <td>DEV-NUEVO</td>\n",
       "    </tr>\n",
       "    <tr>\n",
       "      <th>15</th>\n",
       "      <td>RMA</td>\n",
       "    </tr>\n",
       "  </tbody>\n",
       "</table>\n",
       "</div>"
      ],
      "text/plain": [
       "   Sub_inventario\n",
       "0           USADO\n",
       "1           NUEVO\n",
       "2      REFA-USADO\n",
       "3      REFA-NUEVO\n",
       "4             OBS\n",
       "5       IBS-NUEVO\n",
       "6        REFA-DAÐ\n",
       "7        REFA-OBS\n",
       "8      MOBILIARIO\n",
       "9             DAN\n",
       "10       REFA-REP\n",
       "11     CUARENTENA\n",
       "12       REFA-DAN\n",
       "13     ACLARACION\n",
       "14      DEV-NUEVO\n",
       "15            RMA"
      ]
     },
     "execution_count": 26,
     "metadata": {},
     "output_type": "execute_result"
    }
   ],
   "source": [
    "pd.DataFrame(catsub_inv['Sub_inventario'])"
   ]
  },
  {
   "cell_type": "markdown",
   "metadata": {},
   "source": [
    "#### Catálogo de almacenes:\n",
    "*Este fue un catálogo proporcionado por el equipo ATT*"
   ]
  },
  {
   "cell_type": "code",
   "execution_count": 27,
   "metadata": {
    "scrolled": true
   },
   "outputs": [
    {
     "data": {
      "text/html": [
       "<div>\n",
       "<style scoped>\n",
       "    .dataframe tbody tr th:only-of-type {\n",
       "        vertical-align: middle;\n",
       "    }\n",
       "\n",
       "    .dataframe tbody tr th {\n",
       "        vertical-align: top;\n",
       "    }\n",
       "\n",
       "    .dataframe thead th {\n",
       "        text-align: right;\n",
       "    }\n",
       "</style>\n",
       "<table border=\"1\" class=\"dataframe\">\n",
       "  <thead>\n",
       "    <tr style=\"text-align: right;\">\n",
       "      <th></th>\n",
       "      <th>almacen</th>\n",
       "    </tr>\n",
       "  </thead>\n",
       "  <tbody>\n",
       "    <tr>\n",
       "      <th>0</th>\n",
       "      <td>Tijuana Sistema AT&amp;T</td>\n",
       "    </tr>\n",
       "    <tr>\n",
       "      <th>1</th>\n",
       "      <td>Sta Cecilia Sistemas AT&amp;T</td>\n",
       "    </tr>\n",
       "    <tr>\n",
       "      <th>2</th>\n",
       "      <td>Sta Cecilia AT&amp;T</td>\n",
       "    </tr>\n",
       "    <tr>\n",
       "      <th>3</th>\n",
       "      <td>DHL-TRADE MARKETING</td>\n",
       "    </tr>\n",
       "    <tr>\n",
       "      <th>4</th>\n",
       "      <td>GDL AT&amp;T</td>\n",
       "    </tr>\n",
       "    <tr>\n",
       "      <th>5</th>\n",
       "      <td>Sta Cecilia AT&amp;T</td>\n",
       "    </tr>\n",
       "    <tr>\n",
       "      <th>6</th>\n",
       "      <td>Tijuana AT&amp;T</td>\n",
       "    </tr>\n",
       "    <tr>\n",
       "      <th>7</th>\n",
       "      <td>Glaco AT&amp;T</td>\n",
       "    </tr>\n",
       "    <tr>\n",
       "      <th>8</th>\n",
       "      <td>DHL Tepotzotlan</td>\n",
       "    </tr>\n",
       "    <tr>\n",
       "      <th>9</th>\n",
       "      <td>Sta Cecilia AT&amp;T</td>\n",
       "    </tr>\n",
       "  </tbody>\n",
       "</table>\n",
       "</div>"
      ],
      "text/plain": [
       "                     almacen\n",
       "0       Tijuana Sistema AT&T\n",
       "1  Sta Cecilia Sistemas AT&T\n",
       "2           Sta Cecilia AT&T\n",
       "3        DHL-TRADE MARKETING\n",
       "4                   GDL AT&T\n",
       "5           Sta Cecilia AT&T\n",
       "6               Tijuana AT&T\n",
       "7                 Glaco AT&T\n",
       "8            DHL Tepotzotlan\n",
       "9           Sta Cecilia AT&T"
      ]
     },
     "execution_count": 27,
     "metadata": {},
     "output_type": "execute_result"
    }
   ],
   "source": [
    "pd.DataFrame(alm_catalogo['almacen']).head(10)"
   ]
  },
  {
   "cell_type": "markdown",
   "metadata": {},
   "source": [
    "#### Catálogo de tipo de artículo:"
   ]
  },
  {
   "cell_type": "code",
   "execution_count": 28,
   "metadata": {},
   "outputs": [
    {
     "data": {
      "text/html": [
       "<div>\n",
       "<style scoped>\n",
       "    .dataframe tbody tr th:only-of-type {\n",
       "        vertical-align: middle;\n",
       "    }\n",
       "\n",
       "    .dataframe tbody tr th {\n",
       "        vertical-align: top;\n",
       "    }\n",
       "\n",
       "    .dataframe thead th {\n",
       "        text-align: right;\n",
       "    }\n",
       "</style>\n",
       "<table border=\"1\" class=\"dataframe\">\n",
       "  <thead>\n",
       "    <tr style=\"text-align: right;\">\n",
       "      <th></th>\n",
       "      <th>Tipo_Artículo</th>\n",
       "      <th>Porcentaje</th>\n",
       "    </tr>\n",
       "  </thead>\n",
       "  <tbody>\n",
       "    <tr>\n",
       "      <th>0</th>\n",
       "      <td>W</td>\n",
       "      <td>54.967752</td>\n",
       "    </tr>\n",
       "    <tr>\n",
       "      <th>1</th>\n",
       "      <td>V</td>\n",
       "      <td>37.021814</td>\n",
       "    </tr>\n",
       "    <tr>\n",
       "      <th>2</th>\n",
       "      <td>T</td>\n",
       "      <td>6.754697</td>\n",
       "    </tr>\n",
       "    <tr>\n",
       "      <th>3</th>\n",
       "      <td>C</td>\n",
       "      <td>1.109486</td>\n",
       "    </tr>\n",
       "    <tr>\n",
       "      <th>4</th>\n",
       "      <td>NP</td>\n",
       "      <td>0.145970</td>\n",
       "    </tr>\n",
       "    <tr>\n",
       "      <th>5</th>\n",
       "      <td>N</td>\n",
       "      <td>0.000280</td>\n",
       "    </tr>\n",
       "  </tbody>\n",
       "</table>\n",
       "</div>"
      ],
      "text/plain": [
       "  Tipo_Artículo  Porcentaje\n",
       "0             W   54.967752\n",
       "1             V   37.021814\n",
       "2             T    6.754697\n",
       "3             C    1.109486\n",
       "4            NP    0.145970\n",
       "5             N    0.000280"
      ]
     },
     "execution_count": 28,
     "metadata": {},
     "output_type": "execute_result"
    }
   ],
   "source": [
    "TipoArt"
   ]
  },
  {
   "cell_type": "markdown",
   "metadata": {},
   "source": [
    "#### Se hará una limpieza al dataframe según las reglas documentadas, para generar un universo limpio. "
   ]
  },
  {
   "cell_type": "code",
   "execution_count": 29,
   "metadata": {},
   "outputs": [],
   "source": [
    "df.almacen.replace(u'Á','A',regex=True,inplace=True)\n",
    "df.almacen.replace(u'É','A',regex=True,inplace=True)\n",
    "df.almacen.replace(u'Í','A',regex=True,inplace=True)\n",
    "df.almacen.replace(u'Ó','A',regex=True,inplace=True)\n",
    "df.almacen.replace(u'Ú','A',regex=True,inplace=True)\n",
    "df.almacen.replace(u'á','a',regex=True,inplace=True)\n",
    "df.almacen.replace(u'é','e',regex=True,inplace=True)\n",
    "df.almacen.replace(u'í','i',regex=True,inplace=True)\n",
    "df.almacen.replace(u'ó','o',regex=True,inplace=True)\n",
    "df.almacen.replace(u'ú','u',regex=True,inplace=True)"
   ]
  },
  {
   "cell_type": "code",
   "execution_count": 30,
   "metadata": {},
   "outputs": [],
   "source": [
    "#Trazabilidad\n",
    "df['trazabilidad']=0\n",
    "df.trazabilidad.loc[(df.serie_cleaned==0) | (df.etiqueta!=np.NaN)]=1\n",
    "\n",
    "#CS CA\n",
    "df['CS_CA']=0\n",
    "df.CS_CA.loc[(df.serie_cleaned==0) & (df.etiqueta!=np.NaN)]=1\n",
    "\n",
    "#CS SA\n",
    "df['CS_SA']=0\n",
    "df.CS_SA.loc[(df.serie_cleaned==0) & (df.etiqueta==np.NaN)]=1\n",
    "\n",
    "#SS CA\n",
    "df['SS_CA']=0\n",
    "df.SS_CA.loc[(df.serie_cleaned==1) & (df.etiqueta!=np.NaN)]=1\n"
   ]
  },
  {
   "cell_type": "code",
   "execution_count": 31,
   "metadata": {},
   "outputs": [],
   "source": [
    "#from pyspark.sql.types import *"
   ]
  },
  {
   "cell_type": "markdown",
   "metadata": {},
   "source": [
    "mySchema = StructType([ StructField(\"id\", StringType(), True)\\\n",
    "                       ,StructField(\"qr_alm\", StringType(), True)\\\n",
    "                       ,StructField(\"org\", StringType(), True)\\\n",
    "                       ,StructField(\"sub_inv\", StringType(), True)\\\n",
    "                       ,StructField(\"almacen\", StringType(), True)\\\n",
    "                       ,StructField(\"articulo\", StringType(), True)\\\n",
    "                       ,StructField(\"descripcion\", StringType(), True)\\\n",
    "                       ,StructField(\"lpn_nuevo\", StringType(), True)\\\n",
    "                       ,StructField(\"ubicacion_nueva\", StringType(), True)\\\n",
    "                       ,StructField(\"estado_fisico_usadonuevo\", StringType(), True)\\\n",
    "                       ,StructField(\"tipo_de_articulo\", StringType(), True)\\\n",
    "                       ,StructField(\"serie\", StringType(), True)\\\n",
    "                       ,StructField(\"etiqueta\", StringType(), True)\\\n",
    "                       ,StructField(\"activo\", StringType(), True)\\\n",
    "                       ,StructField(\"mxn\", StringType(), True)\\\n",
    "                       ,StructField(\"usd\", StringType(), True)\\\n",
    "                       ,StructField(\"tipo_de_ubicacion_resum_1\", StringType(), True)\\\n",
    "                       ,StructField(\"filedate\", StringType(), True)\\\n",
    "                       ,StructField(\"datasetname\", StringType(), True)\\\n",
    "                       ,StructField(\"year\", IntegerType(), True)\\\n",
    "                       ,StructField(\"month\", IntegerType(), True)\\\n",
    "                       ,StructField(\"day\", IntegerType(), True)\\\n",
    "                       ,StructField(\"serie_cleaned\", IntegerType(), True)\\\n",
    "                       ,StructField(\"trazabilidad\", IntegerType(), True)\\\n",
    "                       ,StructField(\"CS_CA\", IntegerType(), True)\\\n",
    "                       ,StructField(\"CS_SA\", IntegerType(), True)\\\n",
    "                       ,StructField(\"SS_CA\", IntegerType(), True)])"
   ]
  },
  {
   "cell_type": "markdown",
   "metadata": {},
   "source": [
    "df_hive = spark.createDataFrame(df,schema = mySchema)"
   ]
  },
  {
   "cell_type": "markdown",
   "metadata": {},
   "source": [
    "df_hive.write.mode(\"overwrite\").saveAsTable('default.eda_segregacion')"
   ]
  },
  {
   "cell_type": "markdown",
   "metadata": {},
   "source": [
    "df.to_excel('Universo_Almacen_Segregacion28NOV.xlsx')"
   ]
  },
  {
   "cell_type": "markdown",
   "metadata": {},
   "source": [
    "\n",
    "### 7. Métricas KPI.\n",
    "Se mostrarán los KPIs generados. "
   ]
  },
  {
   "cell_type": "markdown",
   "metadata": {},
   "source": [
    "#### Total de elementos en almacén (todos los almacenes) "
   ]
  },
  {
   "cell_type": "code",
   "execution_count": 32,
   "metadata": {},
   "outputs": [
    {
     "data": {
      "text/plain": [
       "356922"
      ]
     },
     "execution_count": 32,
     "metadata": {},
     "output_type": "execute_result"
    }
   ],
   "source": [
    "Total_Elementos=df.shape[0]\n",
    "Total_Elementos"
   ]
  },
  {
   "cell_type": "code",
   "execution_count": 33,
   "metadata": {},
   "outputs": [],
   "source": [
    "df.replace(np.NaN,'vacio',inplace=True)"
   ]
  },
  {
   "cell_type": "markdown",
   "metadata": {},
   "source": [
    "#### Total de elementos Trazables"
   ]
  },
  {
   "cell_type": "code",
   "execution_count": 34,
   "metadata": {},
   "outputs": [
    {
     "data": {
      "text/plain": [
       "336628"
      ]
     },
     "execution_count": 34,
     "metadata": {},
     "output_type": "execute_result"
    }
   ],
   "source": [
    "Total_Tr=df.loc[((df.serie!='vacio') | (df.etiqueta!='vacio'))].shape[0]\n",
    "Total_Tr"
   ]
  },
  {
   "cell_type": "markdown",
   "metadata": {},
   "source": [
    "#### Total de elementos no trazables "
   ]
  },
  {
   "cell_type": "code",
   "execution_count": 35,
   "metadata": {},
   "outputs": [
    {
     "data": {
      "text/plain": [
       "20294"
      ]
     },
     "execution_count": 35,
     "metadata": {},
     "output_type": "execute_result"
    }
   ],
   "source": [
    "Total_NOTr=Total_Elementos-Total_Tr\n",
    "Total_NOTr"
   ]
  },
  {
   "cell_type": "markdown",
   "metadata": {},
   "source": [
    "#### Total de elementos en almacén Trazables Únicos"
   ]
  },
  {
   "cell_type": "code",
   "execution_count": 36,
   "metadata": {},
   "outputs": [
    {
     "data": {
      "text/plain": [
       "312198"
      ]
     },
     "execution_count": 36,
     "metadata": {},
     "output_type": "execute_result"
    }
   ],
   "source": [
    "Total_Tr_Unic=df[['serie','etiqueta']].loc[(df.serie!='vacio') | (df.etiqueta!='vacio')].drop_duplicates().shape[0]\n",
    "Total_Tr_Unic"
   ]
  },
  {
   "cell_type": "markdown",
   "metadata": {},
   "source": [
    "#### Total de elementos en almacén Trazables Únicos en DHL Tepotzotlan"
   ]
  },
  {
   "cell_type": "code",
   "execution_count": 37,
   "metadata": {},
   "outputs": [
    {
     "data": {
      "text/plain": [
       "115358"
      ]
     },
     "execution_count": 37,
     "metadata": {},
     "output_type": "execute_result"
    }
   ],
   "source": [
    "DHLTepo_Tr_Unic=df[['serie','etiqueta']].loc[((df.almacen=='DHL Tepotzotlan')|(df.almacen==u'DRP TEPOTZOTLÁN'))&((df.serie!='vacio') | (df.etiqueta!='vacio'))].drop_duplicates().shape[0]\n",
    "DHLTepo_Tr_Unic"
   ]
  },
  {
   "cell_type": "markdown",
   "metadata": {},
   "source": [
    "#### Total de elementos en almacén Trazables Únicos en Sta Cecilia AT&T"
   ]
  },
  {
   "cell_type": "code",
   "execution_count": 38,
   "metadata": {
    "scrolled": false
   },
   "outputs": [
    {
     "data": {
      "text/plain": [
       "138120"
      ]
     },
     "execution_count": 38,
     "metadata": {},
     "output_type": "execute_result"
    }
   ],
   "source": [
    "STACeci_Tr_Unic=df[['serie','etiqueta']].loc[((df.almacen=='Sta Cecilia AT&T')|(df.almacen=='Sta Cecilia Sistemas AT&T'))&((df.serie!='vacio') | (df.etiqueta!='vacio'))].drop_duplicates().shape[0]\n",
    "STACeci_Tr_Unic"
   ]
  },
  {
   "cell_type": "markdown",
   "metadata": {},
   "source": [
    "#### Total de elementos en almacén Trazables Únicos en Tijuana"
   ]
  },
  {
   "cell_type": "code",
   "execution_count": 39,
   "metadata": {},
   "outputs": [
    {
     "data": {
      "text/plain": [
       "6958"
      ]
     },
     "execution_count": 39,
     "metadata": {},
     "output_type": "execute_result"
    }
   ],
   "source": [
    "Tijuana_Tr_Unic=df[['serie','etiqueta']].loc[((df.almacen=='Tijuana Sistema AT&T')|(df.almacen=='Tijuana AT&T')|(df.almacen=='PROVA TIJUANA')|(df.almacen=='SPC Tijuana')|(df.almacen=='DRP TIJUANA'))&((df.serie!='vacio') | (df.etiqueta!='vacio'))].drop_duplicates().shape[0]\n",
    "Tijuana_Tr_Unic"
   ]
  },
  {
   "cell_type": "markdown",
   "metadata": {},
   "source": [
    "#### Total de elementos en almacén Trazables Únicos en GDL"
   ]
  },
  {
   "cell_type": "code",
   "execution_count": 40,
   "metadata": {},
   "outputs": [
    {
     "data": {
      "text/plain": [
       "7371"
      ]
     },
     "execution_count": 40,
     "metadata": {},
     "output_type": "execute_result"
    }
   ],
   "source": [
    "GDL_Tr_Unic=df[['serie','etiqueta']].loc[((df.almacen=='GDL AT&T')|(df.almacen=='PROVA GUADALAJARA')|(df.almacen=='DRP GUADALAJARA'))&((df.serie!='vacio') | (df.etiqueta!='vacio'))].drop_duplicates().shape[0]\n",
    "GDL_Tr_Unic"
   ]
  },
  {
   "cell_type": "markdown",
   "metadata": {},
   "source": [
    "#### Total de elementos Trazables Únicos en Otros Almacénes"
   ]
  },
  {
   "cell_type": "code",
   "execution_count": 41,
   "metadata": {},
   "outputs": [
    {
     "data": {
      "text/plain": [
       "44391"
      ]
     },
     "execution_count": 41,
     "metadata": {},
     "output_type": "execute_result"
    }
   ],
   "source": [
    "Otros_Tr_Unic=Total_Tr_Unic-DHLTepo_Tr_Unic-STACeci_Tr_Unic-Tijuana_Tr_Unic-GDL_Tr_Unic\n",
    "Otros_Tr_Unic"
   ]
  },
  {
   "cell_type": "markdown",
   "metadata": {},
   "source": [
    "#### Total de elementos en almacén Trazables Únicos con NSerie, con Nactivo"
   ]
  },
  {
   "cell_type": "code",
   "execution_count": 42,
   "metadata": {},
   "outputs": [
    {
     "data": {
      "text/plain": [
       "169048"
      ]
     },
     "execution_count": 42,
     "metadata": {},
     "output_type": "execute_result"
    }
   ],
   "source": [
    "Total_Tr_Unic_CS_CA=df[['serie','etiqueta']].loc[(df.serie!='vacio') & (df.etiqueta!='vacio')].drop_duplicates().shape[0]\n",
    "Total_Tr_Unic_CS_CA"
   ]
  },
  {
   "cell_type": "markdown",
   "metadata": {},
   "source": [
    "#### Total de elementos en almacén Trazables Únicos con NSerie, sin Nactivo"
   ]
  },
  {
   "cell_type": "code",
   "execution_count": 43,
   "metadata": {},
   "outputs": [
    {
     "data": {
      "text/plain": [
       "129417"
      ]
     },
     "execution_count": 43,
     "metadata": {},
     "output_type": "execute_result"
    }
   ],
   "source": [
    "Total_Tr_Unic_CS_SA=df[['serie','etiqueta']].loc[(df.serie!='vacio') & (df.etiqueta=='vacio')].drop_duplicates().shape[0]\n",
    "Total_Tr_Unic_CS_SA"
   ]
  },
  {
   "cell_type": "markdown",
   "metadata": {},
   "source": [
    "#### Total de elementos en almacén Trazables Únicos sin NSerie, con Nactivo"
   ]
  },
  {
   "cell_type": "code",
   "execution_count": 44,
   "metadata": {},
   "outputs": [
    {
     "data": {
      "text/plain": [
       "13733"
      ]
     },
     "execution_count": 44,
     "metadata": {},
     "output_type": "execute_result"
    }
   ],
   "source": [
    "Total_Tr_Unic_SS_CA=df[['serie','etiqueta']].loc[(df.serie=='vacio') & (df.etiqueta!='vacio')].drop_duplicates().shape[0]\n",
    "Total_Tr_Unic_SS_CA"
   ]
  },
  {
   "cell_type": "markdown",
   "metadata": {},
   "source": [
    "#### Total de elementos trazables duplicados"
   ]
  },
  {
   "cell_type": "code",
   "execution_count": 45,
   "metadata": {},
   "outputs": [
    {
     "data": {
      "text/plain": [
       "24430"
      ]
     },
     "execution_count": 45,
     "metadata": {},
     "output_type": "execute_result"
    }
   ],
   "source": [
    "Total_Tr_Dupli=Total_Tr-Total_Tr_Unic\n",
    "Total_Tr_Dupli"
   ]
  },
  {
   "cell_type": "markdown",
   "metadata": {},
   "source": [
    "#### Costo promedio por elemento:"
   ]
  },
  {
   "cell_type": "code",
   "execution_count": 46,
   "metadata": {},
   "outputs": [
    {
     "data": {
      "text/plain": [
       "732.28"
      ]
     },
     "execution_count": 46,
     "metadata": {},
     "output_type": "execute_result"
    }
   ],
   "source": [
    "df.usd.replace('vacio',np.NaN,regex=True,inplace=True)\n",
    "df.usd.replace('',np.NaN,regex=True,inplace=True)\n",
    "df.usd.replace(' ',np.NaN,regex=True,inplace=True)\n",
    "\n",
    "df.usd=df.usd.astype('float')\n",
    "PROM_USD=df.usd.mean(skipna=True)\n",
    "PROM_USD=round(PROM_USD,2)\n",
    "PROM_USD"
   ]
  },
  {
   "cell_type": "markdown",
   "metadata": {},
   "source": [
    "#### Costo de activos en CIP"
   ]
  },
  {
   "cell_type": "code",
   "execution_count": 47,
   "metadata": {},
   "outputs": [
    {
     "data": {
      "text/plain": [
       "1618.39"
      ]
     },
     "execution_count": 47,
     "metadata": {},
     "output_type": "execute_result"
    }
   ],
   "source": [
    "CIP_Tr_Cost=df[['usd']].loc[(df.tipo_de_ubicacion_resum_1=='CIP')].mean(skipna=True)\n",
    "CIP_Tr_Cost=round(CIP_Tr_Cost,2)\n",
    "CIP_Tr_Cost"
   ]
  },
  {
   "cell_type": "markdown",
   "metadata": {},
   "source": [
    "#### Costo de activos en CIP Tepotzotlán"
   ]
  },
  {
   "cell_type": "code",
   "execution_count": 48,
   "metadata": {},
   "outputs": [
    {
     "data": {
      "text/plain": [
       "1204.43"
      ]
     },
     "execution_count": 48,
     "metadata": {},
     "output_type": "execute_result"
    }
   ],
   "source": [
    "CIP_DHLTepo_Cost=df[['usd']].loc[((df.almacen=='DHL Tepotzotlan')|(df.almacen==u'DRP TEPOTZOTLÁN'))&(df.tipo_de_ubicacion_resum_1=='CIP')].mean(skipna=True)\n",
    "CIP_DHLTepo_Cost=round(CIP_DHLTepo_Cost,2)\n",
    "CIP_DHLTepo_Cost"
   ]
  },
  {
   "cell_type": "markdown",
   "metadata": {},
   "source": [
    "#### Costo de activos en CIP Santa Cecilia"
   ]
  },
  {
   "cell_type": "code",
   "execution_count": 49,
   "metadata": {},
   "outputs": [
    {
     "data": {
      "text/plain": [
       "5749.05"
      ]
     },
     "execution_count": 49,
     "metadata": {},
     "output_type": "execute_result"
    }
   ],
   "source": [
    "CIP_STACeci_Cost=df[['usd']].loc[((df.almacen=='Sta Cecilia AT&T')|(df.almacen=='Sta Cecilia Sistemas AT&T'))&(df.tipo_de_ubicacion_resum_1=='CIP')].mean(skipna=True)\n",
    "CIP_STACeci_Cost=round(CIP_STACeci_Cost,2)\n",
    "CIP_STACeci_Cost"
   ]
  },
  {
   "cell_type": "markdown",
   "metadata": {},
   "source": [
    "#### Costo de activos en CIP Tijuana"
   ]
  },
  {
   "cell_type": "code",
   "execution_count": 50,
   "metadata": {},
   "outputs": [
    {
     "data": {
      "text/plain": [
       "nan"
      ]
     },
     "execution_count": 50,
     "metadata": {},
     "output_type": "execute_result"
    }
   ],
   "source": [
    "CIP_Tijuana_Cost=df[['usd']].loc[((df.almacen=='Tijuana Sistema AT&T')|(df.almacen=='Tijuana AT&T')|(df.almacen=='PROVA TIJUANA')|(df.almacen=='SPC Tijuana')|(df.almacen=='DRP TIJUANA'))&(df.tipo_de_ubicacion_resum_1=='CIP')].mean(skipna=True)\n",
    "CIP_Tijuana_Cost=round(CIP_Tijuana_Cost,2)\n",
    "CIP_Tijuana_Cost"
   ]
  },
  {
   "cell_type": "markdown",
   "metadata": {},
   "source": [
    "#### Costo de activos en CIP Guadalajara"
   ]
  },
  {
   "cell_type": "code",
   "execution_count": 51,
   "metadata": {},
   "outputs": [
    {
     "data": {
      "text/plain": [
       "nan"
      ]
     },
     "execution_count": 51,
     "metadata": {},
     "output_type": "execute_result"
    }
   ],
   "source": [
    "CIP_GDL_Cost=df['usd'].loc[((df.almacen=='GDL AT&T')|(df.almacen=='PROVA GUADALAJARA')|(df.almacen=='DRP GUADALAJARA'))&(df.tipo_de_ubicacion_resum_1=='CIP')].mean(skipna=True)\n",
    "CIP_GDL_Cost=round(CIP_GDL_Cost,2)\n",
    "CIP_GDL_Cost"
   ]
  },
  {
   "cell_type": "markdown",
   "metadata": {},
   "source": [
    "#### Costo de activos en CIP Otros almacenes "
   ]
  },
  {
   "cell_type": "code",
   "execution_count": 52,
   "metadata": {},
   "outputs": [
    {
     "data": {
      "text/plain": [
       "nan"
      ]
     },
     "execution_count": 52,
     "metadata": {},
     "output_type": "execute_result"
    }
   ],
   "source": [
    "CIP_Otros_Cost=CIP_Tr_Cost-CIP_DHLTepo_Cost-CIP_STACeci_Cost-CIP_Tijuana_Cost-CIP_GDL_Cost\n",
    "CIP_Otros_Cost"
   ]
  },
  {
   "cell_type": "markdown",
   "metadata": {},
   "source": [
    "#### Número total de activos en CIP (de acuerdo con SA)"
   ]
  },
  {
   "cell_type": "code",
   "execution_count": 53,
   "metadata": {},
   "outputs": [
    {
     "data": {
      "text/plain": [
       "356289"
      ]
     },
     "execution_count": 53,
     "metadata": {},
     "output_type": "execute_result"
    }
   ],
   "source": [
    "CIP_Total=df.loc[(df.tipo_de_ubicacion_resum_1!='CIP')].shape[0]\n",
    "CIP_Total"
   ]
  },
  {
   "cell_type": "markdown",
   "metadata": {},
   "source": [
    "#### Número de activos en CIP Tepotzotlán"
   ]
  },
  {
   "cell_type": "code",
   "execution_count": 54,
   "metadata": {},
   "outputs": [
    {
     "data": {
      "text/plain": [
       "567"
      ]
     },
     "execution_count": 54,
     "metadata": {},
     "output_type": "execute_result"
    }
   ],
   "source": [
    "CIP_DHLTepo=df[['serie','etiqueta']].loc[((df.almacen=='DHL Tepotzotlan')|(df.almacen==u'DRP TEPOTZOTLÁN'))&(df.tipo_de_ubicacion_resum_1=='CIP')].shape[0]\n",
    "CIP_DHLTepo"
   ]
  },
  {
   "cell_type": "markdown",
   "metadata": {},
   "source": [
    "#### Número de activos en CIP Santa Cecilia"
   ]
  },
  {
   "cell_type": "code",
   "execution_count": 55,
   "metadata": {},
   "outputs": [
    {
     "data": {
      "text/plain": [
       "64"
      ]
     },
     "execution_count": 55,
     "metadata": {},
     "output_type": "execute_result"
    }
   ],
   "source": [
    "CIP_STACeci=df[['serie','etiqueta']].loc[((df.almacen=='Sta Cecilia AT&T')|(df.almacen=='Sta Cecilia Sistemas AT&T'))&(df.tipo_de_ubicacion_resum_1=='CIP')].shape[0]\n",
    "CIP_STACeci"
   ]
  },
  {
   "cell_type": "markdown",
   "metadata": {},
   "source": [
    "#### Número de activos en CIP Tijuana"
   ]
  },
  {
   "cell_type": "code",
   "execution_count": 56,
   "metadata": {},
   "outputs": [
    {
     "data": {
      "text/plain": [
       "0"
      ]
     },
     "execution_count": 56,
     "metadata": {},
     "output_type": "execute_result"
    }
   ],
   "source": [
    "CIP_Tijuana=df[['serie','etiqueta']].loc[((df.almacen=='Tijuana Sistema AT&T')|(df.almacen=='Tijuana AT&T')|(df.almacen=='PROVA TIJUANA')|(df.almacen=='SPC Tijuana')|(df.almacen=='DRP TIJUANA'))&(df.tipo_de_ubicacion_resum_1=='CIP')].shape[0]\n",
    "CIP_Tijuana"
   ]
  },
  {
   "cell_type": "markdown",
   "metadata": {},
   "source": [
    "#### Número de activos en CIP Guadalajara"
   ]
  },
  {
   "cell_type": "code",
   "execution_count": 57,
   "metadata": {},
   "outputs": [
    {
     "data": {
      "text/plain": [
       "0"
      ]
     },
     "execution_count": 57,
     "metadata": {},
     "output_type": "execute_result"
    }
   ],
   "source": [
    "CIP_GDL=df[['serie','etiqueta']].loc[((df.almacen=='GDL AT&T')|(df.almacen=='PROVA GUADALAJARA')|(df.almacen=='DRP GUADALAJARA'))&(df.tipo_de_ubicacion_resum_1=='CIP')].shape[0]\n",
    "CIP_GDL"
   ]
  },
  {
   "cell_type": "markdown",
   "metadata": {},
   "source": [
    "#### Número de activos en CIP Otros almacenes"
   ]
  },
  {
   "cell_type": "code",
   "execution_count": 58,
   "metadata": {},
   "outputs": [
    {
     "data": {
      "text/plain": [
       "355658"
      ]
     },
     "execution_count": 58,
     "metadata": {},
     "output_type": "execute_result"
    }
   ],
   "source": [
    "CIP_Otros=CIP_Total-CIP_DHLTepo-CIP_STACeci-CIP_Tijuana-CIP_GDL\n",
    "CIP_Otros"
   ]
  },
  {
   "cell_type": "markdown",
   "metadata": {},
   "source": [
    "#### Número de activos en CIP Trazables"
   ]
  },
  {
   "cell_type": "code",
   "execution_count": 59,
   "metadata": {},
   "outputs": [
    {
     "data": {
      "text/plain": [
       "633"
      ]
     },
     "execution_count": 59,
     "metadata": {},
     "output_type": "execute_result"
    }
   ],
   "source": [
    "CIP_Total_Tr=df.loc[((df.serie!='vacio') | (df.etiqueta!='vacio'))&(df.tipo_de_ubicacion_resum_1=='CIP')].shape[0]\n",
    "CIP_Total_Tr"
   ]
  },
  {
   "cell_type": "markdown",
   "metadata": {},
   "source": [
    "#### Número de activos en CIP Trazables Únicos "
   ]
  },
  {
   "cell_type": "code",
   "execution_count": 60,
   "metadata": {},
   "outputs": [
    {
     "data": {
      "text/plain": [
       "624"
      ]
     },
     "execution_count": 60,
     "metadata": {},
     "output_type": "execute_result"
    }
   ],
   "source": [
    "CIP_Total_Tr_Unic=df[['serie','etiqueta']].loc[((df.serie!='vacio') | (df.etiqueta!='vacio'))&(df.tipo_de_ubicacion_resum_1=='CIP')].drop_duplicates().shape[0]\n",
    "CIP_Total_Tr_Unic"
   ]
  },
  {
   "cell_type": "markdown",
   "metadata": {},
   "source": [
    "#### Número de activos en CIP Trazables Únicos con NSerie, con Nactivo"
   ]
  },
  {
   "cell_type": "code",
   "execution_count": 61,
   "metadata": {},
   "outputs": [
    {
     "data": {
      "text/plain": [
       "366"
      ]
     },
     "execution_count": 61,
     "metadata": {},
     "output_type": "execute_result"
    }
   ],
   "source": [
    "CIP_Total_Tr_Unic_CS_CA=df[['serie','etiqueta']].loc[((df.serie!='vacio') & (df.etiqueta!='vacio'))&(df.tipo_de_ubicacion_resum_1=='CIP')].drop_duplicates().shape[0]\n",
    "CIP_Total_Tr_Unic_CS_CA"
   ]
  },
  {
   "cell_type": "markdown",
   "metadata": {},
   "source": [
    "#### Número de activos en CIP Trazables Únicos con NSerie, sin Nactivo"
   ]
  },
  {
   "cell_type": "code",
   "execution_count": 62,
   "metadata": {},
   "outputs": [
    {
     "data": {
      "text/plain": [
       "14"
      ]
     },
     "execution_count": 62,
     "metadata": {},
     "output_type": "execute_result"
    }
   ],
   "source": [
    "CIP_Total_Tr_Unic_CS_SA=df[['serie','etiqueta']].loc[((df.serie!='vacio') & (df.etiqueta=='vacio'))&(df.tipo_de_ubicacion_resum_1=='CIP')].drop_duplicates().shape[0]\n",
    "CIP_Total_Tr_Unic_CS_SA"
   ]
  },
  {
   "cell_type": "markdown",
   "metadata": {},
   "source": [
    "#### Número de activos en CIP Trazables Únicos sin NSerie, con Nactivo"
   ]
  },
  {
   "cell_type": "code",
   "execution_count": 63,
   "metadata": {},
   "outputs": [
    {
     "data": {
      "text/plain": [
       "244"
      ]
     },
     "execution_count": 63,
     "metadata": {},
     "output_type": "execute_result"
    }
   ],
   "source": [
    "CIP_Total_Tr_Unic_SS_CA=df[['serie','etiqueta']].loc[((df.serie=='vacio') & (df.etiqueta!='vacio'))&(df.tipo_de_ubicacion_resum_1=='CIP')].drop_duplicates().shape[0]\n",
    "CIP_Total_Tr_Unic_SS_CA"
   ]
  },
  {
   "cell_type": "markdown",
   "metadata": {},
   "source": [
    "#### Número de activos en CIP Trazables Duplicados"
   ]
  },
  {
   "cell_type": "code",
   "execution_count": 64,
   "metadata": {},
   "outputs": [
    {
     "data": {
      "text/plain": [
       "9"
      ]
     },
     "execution_count": 64,
     "metadata": {},
     "output_type": "execute_result"
    }
   ],
   "source": [
    "CIP_Total_Tr_Dupli=CIP_Total_Tr-CIP_Total_Tr_Unic\n",
    "CIP_Total_Tr_Dupli"
   ]
  },
  {
   "cell_type": "markdown",
   "metadata": {},
   "source": [
    "#### Número de activos en CIP No Trazables"
   ]
  },
  {
   "cell_type": "code",
   "execution_count": 65,
   "metadata": {
    "scrolled": true
   },
   "outputs": [
    {
     "data": {
      "text/plain": [
       "355656"
      ]
     },
     "execution_count": 65,
     "metadata": {},
     "output_type": "execute_result"
    }
   ],
   "source": [
    "CIP_Total_NO_Tr=CIP_Total-CIP_Total_Tr\n",
    "CIP_Total_NO_Tr"
   ]
  },
  {
   "cell_type": "code",
   "execution_count": 66,
   "metadata": {},
   "outputs": [
    {
     "data": {
      "text/html": [
       "<div>\n",
       "<style scoped>\n",
       "    .dataframe tbody tr th:only-of-type {\n",
       "        vertical-align: middle;\n",
       "    }\n",
       "\n",
       "    .dataframe tbody tr th {\n",
       "        vertical-align: top;\n",
       "    }\n",
       "\n",
       "    .dataframe thead th {\n",
       "        text-align: right;\n",
       "    }\n",
       "</style>\n",
       "<table border=\"1\" class=\"dataframe\">\n",
       "  <thead>\n",
       "    <tr style=\"text-align: right;\">\n",
       "      <th></th>\n",
       "      <th>KPI</th>\n",
       "      <th>Resultado</th>\n",
       "    </tr>\n",
       "  </thead>\n",
       "  <tbody>\n",
       "    <tr>\n",
       "      <th>0</th>\n",
       "      <td>Total Elementos</td>\n",
       "      <td>356922.00</td>\n",
       "    </tr>\n",
       "    <tr>\n",
       "      <th>1</th>\n",
       "      <td>Total Elementos Trazables</td>\n",
       "      <td>336628.00</td>\n",
       "    </tr>\n",
       "    <tr>\n",
       "      <th>2</th>\n",
       "      <td>Total NO Trazables</td>\n",
       "      <td>20294.00</td>\n",
       "    </tr>\n",
       "    <tr>\n",
       "      <th>3</th>\n",
       "      <td>Total Trazables Unicos</td>\n",
       "      <td>312198.00</td>\n",
       "    </tr>\n",
       "    <tr>\n",
       "      <th>4</th>\n",
       "      <td>Total Trazables Duplicados</td>\n",
       "      <td>24430.00</td>\n",
       "    </tr>\n",
       "    <tr>\n",
       "      <th>5</th>\n",
       "      <td>Trazables Únicos en DHL Tepotzotlan</td>\n",
       "      <td>115358.00</td>\n",
       "    </tr>\n",
       "    <tr>\n",
       "      <th>6</th>\n",
       "      <td>Trazables Únicos en Sta Cecilia AT&amp;T</td>\n",
       "      <td>138120.00</td>\n",
       "    </tr>\n",
       "    <tr>\n",
       "      <th>7</th>\n",
       "      <td>Trazables Únicos en Tijuana</td>\n",
       "      <td>6958.00</td>\n",
       "    </tr>\n",
       "    <tr>\n",
       "      <th>8</th>\n",
       "      <td>Trazables Únicos en GDL AT&amp;T</td>\n",
       "      <td>7371.00</td>\n",
       "    </tr>\n",
       "    <tr>\n",
       "      <th>9</th>\n",
       "      <td>Trazables Únicos en Otros Almacénes</td>\n",
       "      <td>44391.00</td>\n",
       "    </tr>\n",
       "    <tr>\n",
       "      <th>10</th>\n",
       "      <td>Total CS CA</td>\n",
       "      <td>169048.00</td>\n",
       "    </tr>\n",
       "    <tr>\n",
       "      <th>11</th>\n",
       "      <td>Total CS SA</td>\n",
       "      <td>129417.00</td>\n",
       "    </tr>\n",
       "    <tr>\n",
       "      <th>12</th>\n",
       "      <td>Total SS CA</td>\n",
       "      <td>13733.00</td>\n",
       "    </tr>\n",
       "    <tr>\n",
       "      <th>13</th>\n",
       "      <td>Costo promedio USD</td>\n",
       "      <td>732.28</td>\n",
       "    </tr>\n",
       "    <tr>\n",
       "      <th>14</th>\n",
       "      <td>Costo de activos en CIP</td>\n",
       "      <td>1618.39</td>\n",
       "    </tr>\n",
       "    <tr>\n",
       "      <th>15</th>\n",
       "      <td>Costo de activos en CIP Tepotzotlán</td>\n",
       "      <td>1204.43</td>\n",
       "    </tr>\n",
       "    <tr>\n",
       "      <th>16</th>\n",
       "      <td>Costo de activos en CIP Santa Cecilia</td>\n",
       "      <td>5749.05</td>\n",
       "    </tr>\n",
       "    <tr>\n",
       "      <th>17</th>\n",
       "      <td>Costo de activos en CIP Tijuana</td>\n",
       "      <td>0.00</td>\n",
       "    </tr>\n",
       "    <tr>\n",
       "      <th>18</th>\n",
       "      <td>Costo de activos en CIP Guadalajara</td>\n",
       "      <td>0.00</td>\n",
       "    </tr>\n",
       "    <tr>\n",
       "      <th>19</th>\n",
       "      <td>Costo de activos en CIP Otros almacenes</td>\n",
       "      <td>0.00</td>\n",
       "    </tr>\n",
       "    <tr>\n",
       "      <th>20</th>\n",
       "      <td>total de activos en CIP (de acuerdo con SA)</td>\n",
       "      <td>356289.00</td>\n",
       "    </tr>\n",
       "    <tr>\n",
       "      <th>21</th>\n",
       "      <td>Total activos en CIP Tepotzotlán</td>\n",
       "      <td>567.00</td>\n",
       "    </tr>\n",
       "    <tr>\n",
       "      <th>22</th>\n",
       "      <td>Total activos en CIP Santa Cecilia</td>\n",
       "      <td>5749.05</td>\n",
       "    </tr>\n",
       "    <tr>\n",
       "      <th>23</th>\n",
       "      <td>Número de activos en CIP Tijuana</td>\n",
       "      <td>0.00</td>\n",
       "    </tr>\n",
       "    <tr>\n",
       "      <th>24</th>\n",
       "      <td>Total de activos en CIP Guadalajara</td>\n",
       "      <td>0.00</td>\n",
       "    </tr>\n",
       "    <tr>\n",
       "      <th>25</th>\n",
       "      <td>Total de activos en CIP Otros almacenes</td>\n",
       "      <td>355658.00</td>\n",
       "    </tr>\n",
       "    <tr>\n",
       "      <th>26</th>\n",
       "      <td>Total de activos en CIP Trazables</td>\n",
       "      <td>633.00</td>\n",
       "    </tr>\n",
       "    <tr>\n",
       "      <th>27</th>\n",
       "      <td>Total activos en CIP Trazables Únicos</td>\n",
       "      <td>624.00</td>\n",
       "    </tr>\n",
       "    <tr>\n",
       "      <th>28</th>\n",
       "      <td>CIP Trazables Únicos con NSerie, con Nactivo</td>\n",
       "      <td>366.00</td>\n",
       "    </tr>\n",
       "    <tr>\n",
       "      <th>29</th>\n",
       "      <td>CIP Trazables Únicos con NSerie, sin Nactivo</td>\n",
       "      <td>14.00</td>\n",
       "    </tr>\n",
       "    <tr>\n",
       "      <th>30</th>\n",
       "      <td>CIP Trazables Únicos sin NSerie, con Nactivo</td>\n",
       "      <td>244.00</td>\n",
       "    </tr>\n",
       "    <tr>\n",
       "      <th>31</th>\n",
       "      <td>CIP Trazables Duplicados</td>\n",
       "      <td>9.00</td>\n",
       "    </tr>\n",
       "    <tr>\n",
       "      <th>32</th>\n",
       "      <td>CIP No Trazables</td>\n",
       "      <td>355656.00</td>\n",
       "    </tr>\n",
       "  </tbody>\n",
       "</table>\n",
       "</div>"
      ],
      "text/plain": [
       "                                             KPI  Resultado\n",
       "0                                Total Elementos  356922.00\n",
       "1                      Total Elementos Trazables  336628.00\n",
       "2                             Total NO Trazables   20294.00\n",
       "3                         Total Trazables Unicos  312198.00\n",
       "4                     Total Trazables Duplicados   24430.00\n",
       "5            Trazables Únicos en DHL Tepotzotlan  115358.00\n",
       "6           Trazables Únicos en Sta Cecilia AT&T  138120.00\n",
       "7                    Trazables Únicos en Tijuana    6958.00\n",
       "8                   Trazables Únicos en GDL AT&T    7371.00\n",
       "9            Trazables Únicos en Otros Almacénes   44391.00\n",
       "10                                   Total CS CA  169048.00\n",
       "11                                   Total CS SA  129417.00\n",
       "12                                   Total SS CA   13733.00\n",
       "13                            Costo promedio USD     732.28\n",
       "14                       Costo de activos en CIP    1618.39\n",
       "15           Costo de activos en CIP Tepotzotlán    1204.43\n",
       "16         Costo de activos en CIP Santa Cecilia    5749.05\n",
       "17               Costo de activos en CIP Tijuana       0.00\n",
       "18           Costo de activos en CIP Guadalajara       0.00\n",
       "19       Costo de activos en CIP Otros almacenes       0.00\n",
       "20   total de activos en CIP (de acuerdo con SA)  356289.00\n",
       "21              Total activos en CIP Tepotzotlán     567.00\n",
       "22            Total activos en CIP Santa Cecilia    5749.05\n",
       "23              Número de activos en CIP Tijuana       0.00\n",
       "24           Total de activos en CIP Guadalajara       0.00\n",
       "25       Total de activos en CIP Otros almacenes  355658.00\n",
       "26             Total de activos en CIP Trazables     633.00\n",
       "27         Total activos en CIP Trazables Únicos     624.00\n",
       "28  CIP Trazables Únicos con NSerie, con Nactivo     366.00\n",
       "29  CIP Trazables Únicos con NSerie, sin Nactivo      14.00\n",
       "30  CIP Trazables Únicos sin NSerie, con Nactivo     244.00\n",
       "31                      CIP Trazables Duplicados       9.00\n",
       "32                              CIP No Trazables  355656.00"
      ]
     },
     "execution_count": 66,
     "metadata": {},
     "output_type": "execute_result"
    }
   ],
   "source": [
    "KPIs=pd.DataFrame({'KPI':['Total Elementos','Total Elementos Trazables',\n",
    "                         'Total NO Trazables','Total Trazables Unicos',\n",
    "                         'Total Trazables Duplicados','Trazables Únicos en DHL Tepotzotlan',\n",
    "                          'Trazables Únicos en Sta Cecilia AT&T','Trazables Únicos en Tijuana',\n",
    "                          'Trazables Únicos en GDL AT&T','Trazables Únicos en Otros Almacénes',\n",
    "                          'Total CS CA','Total CS SA','Total SS CA',\n",
    "                         'Costo promedio USD','Costo de activos en CIP','Costo de activos en CIP Tepotzotlán',\n",
    "                         'Costo de activos en CIP Santa Cecilia',\n",
    "                          'Costo de activos en CIP Tijuana','Costo de activos en CIP Guadalajara',\n",
    "                         'Costo de activos en CIP Otros almacenes',\n",
    "                         'total de activos en CIP (de acuerdo con SA)',\n",
    "                         'Total activos en CIP Tepotzotlán',\n",
    "                         'Total activos en CIP Santa Cecilia','Número de activos en CIP Tijuana',\n",
    "                         'Total de activos en CIP Guadalajara','Total de activos en CIP Otros almacenes',\n",
    "                         'Total de activos en CIP Trazables','Total activos en CIP Trazables Únicos',\n",
    "                         'CIP Trazables Únicos con NSerie, con Nactivo','CIP Trazables Únicos con NSerie, sin Nactivo',\n",
    "                         'CIP Trazables Únicos sin NSerie, con Nactivo','CIP Trazables Duplicados',\n",
    "                         'CIP No Trazables'],\n",
    "                  'Resultado':[Total_Elementos,Total_Tr,Total_NOTr,\n",
    "                              Total_Tr_Unic,Total_Tr_Dupli,DHLTepo_Tr_Unic,\n",
    "                               STACeci_Tr_Unic,Tijuana_Tr_Unic,GDL_Tr_Unic,\n",
    "                               Otros_Tr_Unic,\n",
    "                               Total_Tr_Unic_CS_CA,Total_Tr_Unic_CS_SA,\n",
    "                              Total_Tr_Unic_SS_CA,PROM_USD,CIP_Tr_Cost,\n",
    "                              CIP_DHLTepo_Cost,CIP_STACeci_Cost,CIP_Tijuana,\n",
    "                              CIP_GDL_Cost,CIP_Otros_Cost,CIP_Total,CIP_DHLTepo,\n",
    "                               CIP_STACeci_Cost, CIP_Tijuana,CIP_GDL,CIP_Otros,\n",
    "                              CIP_Total_Tr,CIP_Total_Tr_Unic,\n",
    "                              CIP_Total_Tr_Unic_CS_CA,CIP_Total_Tr_Unic_CS_SA,\n",
    "                              CIP_Total_Tr_Unic_SS_CA,CIP_Total_Tr_Dupli,\n",
    "                              CIP_Total_NO_Tr]})\n",
    "\n",
    "KPIs.replace(np.NaN,0,regex=True,inplace=True)\n",
    "KPIs"
   ]
  },
  {
   "cell_type": "code",
   "execution_count": 67,
   "metadata": {},
   "outputs": [],
   "source": [
    "sc.stop()"
   ]
  }
 ],
 "metadata": {
  "kernelspec": {
   "display_name": "Python 2",
   "language": "python",
   "name": "python2"
  },
  "language_info": {
   "codemirror_mode": {
    "name": "ipython",
    "version": 2
   },
   "file_extension": ".py",
   "mimetype": "text/x-python",
   "name": "python",
   "nbconvert_exporter": "python",
   "pygments_lexer": "ipython2",
   "version": "2.7.15"
  }
 },
 "nbformat": 4,
 "nbformat_minor": 2
}
