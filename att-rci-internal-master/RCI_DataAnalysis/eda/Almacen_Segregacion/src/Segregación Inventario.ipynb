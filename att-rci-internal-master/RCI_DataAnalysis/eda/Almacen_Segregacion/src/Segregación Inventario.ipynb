{
 "cells": [
  {
   "cell_type": "markdown",
   "metadata": {},
   "source": [
    "<div style=\"width: 100%; clear: both; font-family: Verdana;\">\n",
    "<div style=\"float: left; width: 50%;font-family: Verdana;\">\n",
    "<img src=\"https://github.com/Eligoze/att-rci-internal/blob/qa/RCI_DataAnalysis/eda/doc/att-logo1.png\" align=\"left\">\n",
    "</div>\n",
    "<div style=\"float: right; width: 200%;\">\n",
    "<p style=\"margin: 0; padding-top: 20px; text-align:right;color:rgb(193, 38, 184)\"><strong>Axity - AT&T.\n",
    "    Ciclo de vida de elementos de inventario</strong></p>\n",
    "</div>\n",
    "</div>\n",
    "<div style=\"width:100%;\">&nbsp;</div>"
   ]
  },
  {
   "cell_type": "markdown",
   "metadata": {},
   "source": [
    "<div style=\"width: 100%; clear: both; font-family: Verdana;\">\n",
    "<h1 align=\"center\">Exploratory Data Analysis</h1>\n",
    "</div>"
   ]
  },
  {
   "cell_type": "markdown",
   "metadata": {},
   "source": [
    "### Descripción\n",
    "Analizaremos los datos de las fuentes de inventarios de AT&T con un tratamiento estadístico descriptivo para hacer el tracking del ciclo de vida de los elementos de red. Se creará un EDA enfocado a la salida de almacén. Serán documentados los catálogos propuestos junto a su respectivo tratamiento de datos. La fuente que corresponde a este análisis es:\n",
    "\n",
    "* Segregación Almacén (Almacén inventario)  \n",
    "\n",
    "Primero cargamos las librerías necesarias."
   ]
  },
  {
   "cell_type": "markdown",
   "metadata": {},
   "source": [
    "#### Conectando al Datalake"
   ]
  },
  {
   "cell_type": "code",
   "execution_count": 1,
   "metadata": {},
   "outputs": [],
   "source": [
    "import os\n",
    "os.environ['JAVA_HOME'] = '/usr/java/jdk1.8.0_162'\n",
    "os.environ['SPARK_HOME'] = '/opt/cloudera/parcels/CDH-6.2.0-1.cdh6.2.0.p0.967373/lib/spark'\n",
    "import findspark\n",
    "findspark.init()\n",
    "from pyspark import SparkContext, SparkConf\n",
    "from pyspark.sql import SparkSession\n",
    "from pyspark.sql.types import *\n",
    "from pyspark.sql import HiveContext"
   ]
  },
  {
   "cell_type": "code",
   "execution_count": 2,
   "metadata": {},
   "outputs": [],
   "source": [
    "conf = SparkConf().setAppName('Segregacion')  \\\n",
    "    .setMaster('yarn') \n",
    "spark = SparkSession.builder.config(conf=conf).getOrCreate()\n",
    "sc = spark.sparkContext\n",
    "sqlContext = HiveContext(sc)"
   ]
  },
  {
   "cell_type": "code",
   "execution_count": 3,
   "metadata": {},
   "outputs": [
    {
     "data": {
      "text/html": [
       "\n",
       "    <div class=\"bk-root\">\n",
       "        <a href=\"https://bokeh.pydata.org\" target=\"_blank\" class=\"bk-logo bk-logo-small bk-logo-notebook\"></a>\n",
       "        <span id=\"923a2c4f-6322-42f8-b844-5ba442ee0975\">Loading BokehJS ...</span>\n",
       "    </div>"
      ]
     },
     "metadata": {},
     "output_type": "display_data"
    },
    {
     "data": {
      "application/javascript": [
       "\n",
       "(function(root) {\n",
       "  function now() {\n",
       "    return new Date();\n",
       "  }\n",
       "\n",
       "  var force = true;\n",
       "\n",
       "  if (typeof (root._bokeh_onload_callbacks) === \"undefined\" || force === true) {\n",
       "    root._bokeh_onload_callbacks = [];\n",
       "    root._bokeh_is_loading = undefined;\n",
       "  }\n",
       "\n",
       "  var JS_MIME_TYPE = 'application/javascript';\n",
       "  var HTML_MIME_TYPE = 'text/html';\n",
       "  var EXEC_MIME_TYPE = 'application/vnd.bokehjs_exec.v0+json';\n",
       "  var CLASS_NAME = 'output_bokeh rendered_html';\n",
       "\n",
       "  /**\n",
       "   * Render data to the DOM node\n",
       "   */\n",
       "  function render(props, node) {\n",
       "    var script = document.createElement(\"script\");\n",
       "    node.appendChild(script);\n",
       "  }\n",
       "\n",
       "  /**\n",
       "   * Handle when an output is cleared or removed\n",
       "   */\n",
       "  function handleClearOutput(event, handle) {\n",
       "    var cell = handle.cell;\n",
       "\n",
       "    var id = cell.output_area._bokeh_element_id;\n",
       "    var server_id = cell.output_area._bokeh_server_id;\n",
       "    // Clean up Bokeh references\n",
       "    if (id != null && id in Bokeh.index) {\n",
       "      Bokeh.index[id].model.document.clear();\n",
       "      delete Bokeh.index[id];\n",
       "    }\n",
       "\n",
       "    if (server_id !== undefined) {\n",
       "      // Clean up Bokeh references\n",
       "      var cmd = \"from bokeh.io.state import curstate; print(curstate().uuid_to_server['\" + server_id + \"'].get_sessions()[0].document.roots[0]._id)\";\n",
       "      cell.notebook.kernel.execute(cmd, {\n",
       "        iopub: {\n",
       "          output: function(msg) {\n",
       "            var id = msg.content.text.trim();\n",
       "            if (id in Bokeh.index) {\n",
       "              Bokeh.index[id].model.document.clear();\n",
       "              delete Bokeh.index[id];\n",
       "            }\n",
       "          }\n",
       "        }\n",
       "      });\n",
       "      // Destroy server and session\n",
       "      var cmd = \"import bokeh.io.notebook as ion; ion.destroy_server('\" + server_id + \"')\";\n",
       "      cell.notebook.kernel.execute(cmd);\n",
       "    }\n",
       "  }\n",
       "\n",
       "  /**\n",
       "   * Handle when a new output is added\n",
       "   */\n",
       "  function handleAddOutput(event, handle) {\n",
       "    var output_area = handle.output_area;\n",
       "    var output = handle.output;\n",
       "\n",
       "    // limit handleAddOutput to display_data with EXEC_MIME_TYPE content only\n",
       "    if ((output.output_type != \"display_data\") || (!output.data.hasOwnProperty(EXEC_MIME_TYPE))) {\n",
       "      return\n",
       "    }\n",
       "\n",
       "    var toinsert = output_area.element.find(\".\" + CLASS_NAME.split(' ')[0]);\n",
       "\n",
       "    if (output.metadata[EXEC_MIME_TYPE][\"id\"] !== undefined) {\n",
       "      toinsert[toinsert.length - 1].firstChild.textContent = output.data[JS_MIME_TYPE];\n",
       "      // store reference to embed id on output_area\n",
       "      output_area._bokeh_element_id = output.metadata[EXEC_MIME_TYPE][\"id\"];\n",
       "    }\n",
       "    if (output.metadata[EXEC_MIME_TYPE][\"server_id\"] !== undefined) {\n",
       "      var bk_div = document.createElement(\"div\");\n",
       "      bk_div.innerHTML = output.data[HTML_MIME_TYPE];\n",
       "      var script_attrs = bk_div.children[0].attributes;\n",
       "      for (var i = 0; i < script_attrs.length; i++) {\n",
       "        toinsert[toinsert.length - 1].firstChild.setAttribute(script_attrs[i].name, script_attrs[i].value);\n",
       "      }\n",
       "      // store reference to server id on output_area\n",
       "      output_area._bokeh_server_id = output.metadata[EXEC_MIME_TYPE][\"server_id\"];\n",
       "    }\n",
       "  }\n",
       "\n",
       "  function register_renderer(events, OutputArea) {\n",
       "\n",
       "    function append_mime(data, metadata, element) {\n",
       "      // create a DOM node to render to\n",
       "      var toinsert = this.create_output_subarea(\n",
       "        metadata,\n",
       "        CLASS_NAME,\n",
       "        EXEC_MIME_TYPE\n",
       "      );\n",
       "      this.keyboard_manager.register_events(toinsert);\n",
       "      // Render to node\n",
       "      var props = {data: data, metadata: metadata[EXEC_MIME_TYPE]};\n",
       "      render(props, toinsert[toinsert.length - 1]);\n",
       "      element.append(toinsert);\n",
       "      return toinsert\n",
       "    }\n",
       "\n",
       "    /* Handle when an output is cleared or removed */\n",
       "    events.on('clear_output.CodeCell', handleClearOutput);\n",
       "    events.on('delete.Cell', handleClearOutput);\n",
       "\n",
       "    /* Handle when a new output is added */\n",
       "    events.on('output_added.OutputArea', handleAddOutput);\n",
       "\n",
       "    /**\n",
       "     * Register the mime type and append_mime function with output_area\n",
       "     */\n",
       "    OutputArea.prototype.register_mime_type(EXEC_MIME_TYPE, append_mime, {\n",
       "      /* Is output safe? */\n",
       "      safe: true,\n",
       "      /* Index of renderer in `output_area.display_order` */\n",
       "      index: 0\n",
       "    });\n",
       "  }\n",
       "\n",
       "  // register the mime type if in Jupyter Notebook environment and previously unregistered\n",
       "  if (root.Jupyter !== undefined) {\n",
       "    var events = require('base/js/events');\n",
       "    var OutputArea = require('notebook/js/outputarea').OutputArea;\n",
       "\n",
       "    if (OutputArea.prototype.mime_types().indexOf(EXEC_MIME_TYPE) == -1) {\n",
       "      register_renderer(events, OutputArea);\n",
       "    }\n",
       "  }\n",
       "\n",
       "  \n",
       "  if (typeof (root._bokeh_timeout) === \"undefined\" || force === true) {\n",
       "    root._bokeh_timeout = Date.now() + 5000;\n",
       "    root._bokeh_failed_load = false;\n",
       "  }\n",
       "\n",
       "  var NB_LOAD_WARNING = {'data': {'text/html':\n",
       "     \"<div style='background-color: #fdd'>\\n\"+\n",
       "     \"<p>\\n\"+\n",
       "     \"BokehJS does not appear to have successfully loaded. If loading BokehJS from CDN, this \\n\"+\n",
       "     \"may be due to a slow or bad network connection. Possible fixes:\\n\"+\n",
       "     \"</p>\\n\"+\n",
       "     \"<ul>\\n\"+\n",
       "     \"<li>re-rerun `output_notebook()` to attempt to load from CDN again, or</li>\\n\"+\n",
       "     \"<li>use INLINE resources instead, as so:</li>\\n\"+\n",
       "     \"</ul>\\n\"+\n",
       "     \"<code>\\n\"+\n",
       "     \"from bokeh.resources import INLINE\\n\"+\n",
       "     \"output_notebook(resources=INLINE)\\n\"+\n",
       "     \"</code>\\n\"+\n",
       "     \"</div>\"}};\n",
       "\n",
       "  function display_loaded() {\n",
       "    var el = document.getElementById(\"923a2c4f-6322-42f8-b844-5ba442ee0975\");\n",
       "    if (el != null) {\n",
       "      el.textContent = \"BokehJS is loading...\";\n",
       "    }\n",
       "    if (root.Bokeh !== undefined) {\n",
       "      if (el != null) {\n",
       "        el.textContent = \"BokehJS \" + root.Bokeh.version + \" successfully loaded.\";\n",
       "      }\n",
       "    } else if (Date.now() < root._bokeh_timeout) {\n",
       "      setTimeout(display_loaded, 100)\n",
       "    }\n",
       "  }\n",
       "\n",
       "\n",
       "  function run_callbacks() {\n",
       "    try {\n",
       "      root._bokeh_onload_callbacks.forEach(function(callback) { callback() });\n",
       "    }\n",
       "    finally {\n",
       "      delete root._bokeh_onload_callbacks\n",
       "    }\n",
       "    console.info(\"Bokeh: all callbacks have finished\");\n",
       "  }\n",
       "\n",
       "  function load_libs(js_urls, callback) {\n",
       "    root._bokeh_onload_callbacks.push(callback);\n",
       "    if (root._bokeh_is_loading > 0) {\n",
       "      console.log(\"Bokeh: BokehJS is being loaded, scheduling callback at\", now());\n",
       "      return null;\n",
       "    }\n",
       "    if (js_urls == null || js_urls.length === 0) {\n",
       "      run_callbacks();\n",
       "      return null;\n",
       "    }\n",
       "    console.log(\"Bokeh: BokehJS not loaded, scheduling load and callback at\", now());\n",
       "    root._bokeh_is_loading = js_urls.length;\n",
       "    for (var i = 0; i < js_urls.length; i++) {\n",
       "      var url = js_urls[i];\n",
       "      var s = document.createElement('script');\n",
       "      s.src = url;\n",
       "      s.async = false;\n",
       "      s.onreadystatechange = s.onload = function() {\n",
       "        root._bokeh_is_loading--;\n",
       "        if (root._bokeh_is_loading === 0) {\n",
       "          console.log(\"Bokeh: all BokehJS libraries loaded\");\n",
       "          run_callbacks()\n",
       "        }\n",
       "      };\n",
       "      s.onerror = function() {\n",
       "        console.warn(\"failed to load library \" + url);\n",
       "      };\n",
       "      console.log(\"Bokeh: injecting script tag for BokehJS library: \", url);\n",
       "      document.getElementsByTagName(\"head\")[0].appendChild(s);\n",
       "    }\n",
       "  };var element = document.getElementById(\"923a2c4f-6322-42f8-b844-5ba442ee0975\");\n",
       "  if (element == null) {\n",
       "    console.log(\"Bokeh: ERROR: autoload.js configured with elementid '923a2c4f-6322-42f8-b844-5ba442ee0975' but no matching script tag was found. \")\n",
       "    return false;\n",
       "  }\n",
       "\n",
       "  var js_urls = [\"https://cdn.pydata.org/bokeh/release/bokeh-0.13.0.min.js\", \"https://cdn.pydata.org/bokeh/release/bokeh-widgets-0.13.0.min.js\", \"https://cdn.pydata.org/bokeh/release/bokeh-tables-0.13.0.min.js\", \"https://cdn.pydata.org/bokeh/release/bokeh-gl-0.13.0.min.js\"];\n",
       "\n",
       "  var inline_js = [\n",
       "    function(Bokeh) {\n",
       "      Bokeh.set_log_level(\"info\");\n",
       "    },\n",
       "    \n",
       "    function(Bokeh) {\n",
       "      \n",
       "    },\n",
       "    function(Bokeh) {\n",
       "      console.log(\"Bokeh: injecting CSS: https://cdn.pydata.org/bokeh/release/bokeh-0.13.0.min.css\");\n",
       "      Bokeh.embed.inject_css(\"https://cdn.pydata.org/bokeh/release/bokeh-0.13.0.min.css\");\n",
       "      console.log(\"Bokeh: injecting CSS: https://cdn.pydata.org/bokeh/release/bokeh-widgets-0.13.0.min.css\");\n",
       "      Bokeh.embed.inject_css(\"https://cdn.pydata.org/bokeh/release/bokeh-widgets-0.13.0.min.css\");\n",
       "      console.log(\"Bokeh: injecting CSS: https://cdn.pydata.org/bokeh/release/bokeh-tables-0.13.0.min.css\");\n",
       "      Bokeh.embed.inject_css(\"https://cdn.pydata.org/bokeh/release/bokeh-tables-0.13.0.min.css\");\n",
       "    }\n",
       "  ];\n",
       "\n",
       "  function run_inline_js() {\n",
       "    \n",
       "    if ((root.Bokeh !== undefined) || (force === true)) {\n",
       "      for (var i = 0; i < inline_js.length; i++) {\n",
       "        inline_js[i].call(root, root.Bokeh);\n",
       "      }if (force === true) {\n",
       "        display_loaded();\n",
       "      }} else if (Date.now() < root._bokeh_timeout) {\n",
       "      setTimeout(run_inline_js, 100);\n",
       "    } else if (!root._bokeh_failed_load) {\n",
       "      console.log(\"Bokeh: BokehJS failed to load within specified timeout.\");\n",
       "      root._bokeh_failed_load = true;\n",
       "    } else if (force !== true) {\n",
       "      var cell = $(document.getElementById(\"923a2c4f-6322-42f8-b844-5ba442ee0975\")).parents('.cell').data().cell;\n",
       "      cell.output_area.append_execute_result(NB_LOAD_WARNING)\n",
       "    }\n",
       "\n",
       "  }\n",
       "\n",
       "  if (root._bokeh_is_loading === 0) {\n",
       "    console.log(\"Bokeh: BokehJS loaded, going straight to plotting\");\n",
       "    run_inline_js();\n",
       "  } else {\n",
       "    load_libs(js_urls, function() {\n",
       "      console.log(\"Bokeh: BokehJS plotting callback run at\", now());\n",
       "      run_inline_js();\n",
       "    });\n",
       "  }\n",
       "}(window));"
      ],
      "application/vnd.bokehjs_load.v0+json": "\n(function(root) {\n  function now() {\n    return new Date();\n  }\n\n  var force = true;\n\n  if (typeof (root._bokeh_onload_callbacks) === \"undefined\" || force === true) {\n    root._bokeh_onload_callbacks = [];\n    root._bokeh_is_loading = undefined;\n  }\n\n  \n\n  \n  if (typeof (root._bokeh_timeout) === \"undefined\" || force === true) {\n    root._bokeh_timeout = Date.now() + 5000;\n    root._bokeh_failed_load = false;\n  }\n\n  var NB_LOAD_WARNING = {'data': {'text/html':\n     \"<div style='background-color: #fdd'>\\n\"+\n     \"<p>\\n\"+\n     \"BokehJS does not appear to have successfully loaded. If loading BokehJS from CDN, this \\n\"+\n     \"may be due to a slow or bad network connection. Possible fixes:\\n\"+\n     \"</p>\\n\"+\n     \"<ul>\\n\"+\n     \"<li>re-rerun `output_notebook()` to attempt to load from CDN again, or</li>\\n\"+\n     \"<li>use INLINE resources instead, as so:</li>\\n\"+\n     \"</ul>\\n\"+\n     \"<code>\\n\"+\n     \"from bokeh.resources import INLINE\\n\"+\n     \"output_notebook(resources=INLINE)\\n\"+\n     \"</code>\\n\"+\n     \"</div>\"}};\n\n  function display_loaded() {\n    var el = document.getElementById(\"923a2c4f-6322-42f8-b844-5ba442ee0975\");\n    if (el != null) {\n      el.textContent = \"BokehJS is loading...\";\n    }\n    if (root.Bokeh !== undefined) {\n      if (el != null) {\n        el.textContent = \"BokehJS \" + root.Bokeh.version + \" successfully loaded.\";\n      }\n    } else if (Date.now() < root._bokeh_timeout) {\n      setTimeout(display_loaded, 100)\n    }\n  }\n\n\n  function run_callbacks() {\n    try {\n      root._bokeh_onload_callbacks.forEach(function(callback) { callback() });\n    }\n    finally {\n      delete root._bokeh_onload_callbacks\n    }\n    console.info(\"Bokeh: all callbacks have finished\");\n  }\n\n  function load_libs(js_urls, callback) {\n    root._bokeh_onload_callbacks.push(callback);\n    if (root._bokeh_is_loading > 0) {\n      console.log(\"Bokeh: BokehJS is being loaded, scheduling callback at\", now());\n      return null;\n    }\n    if (js_urls == null || js_urls.length === 0) {\n      run_callbacks();\n      return null;\n    }\n    console.log(\"Bokeh: BokehJS not loaded, scheduling load and callback at\", now());\n    root._bokeh_is_loading = js_urls.length;\n    for (var i = 0; i < js_urls.length; i++) {\n      var url = js_urls[i];\n      var s = document.createElement('script');\n      s.src = url;\n      s.async = false;\n      s.onreadystatechange = s.onload = function() {\n        root._bokeh_is_loading--;\n        if (root._bokeh_is_loading === 0) {\n          console.log(\"Bokeh: all BokehJS libraries loaded\");\n          run_callbacks()\n        }\n      };\n      s.onerror = function() {\n        console.warn(\"failed to load library \" + url);\n      };\n      console.log(\"Bokeh: injecting script tag for BokehJS library: \", url);\n      document.getElementsByTagName(\"head\")[0].appendChild(s);\n    }\n  };var element = document.getElementById(\"923a2c4f-6322-42f8-b844-5ba442ee0975\");\n  if (element == null) {\n    console.log(\"Bokeh: ERROR: autoload.js configured with elementid '923a2c4f-6322-42f8-b844-5ba442ee0975' but no matching script tag was found. \")\n    return false;\n  }\n\n  var js_urls = [\"https://cdn.pydata.org/bokeh/release/bokeh-0.13.0.min.js\", \"https://cdn.pydata.org/bokeh/release/bokeh-widgets-0.13.0.min.js\", \"https://cdn.pydata.org/bokeh/release/bokeh-tables-0.13.0.min.js\", \"https://cdn.pydata.org/bokeh/release/bokeh-gl-0.13.0.min.js\"];\n\n  var inline_js = [\n    function(Bokeh) {\n      Bokeh.set_log_level(\"info\");\n    },\n    \n    function(Bokeh) {\n      \n    },\n    function(Bokeh) {\n      console.log(\"Bokeh: injecting CSS: https://cdn.pydata.org/bokeh/release/bokeh-0.13.0.min.css\");\n      Bokeh.embed.inject_css(\"https://cdn.pydata.org/bokeh/release/bokeh-0.13.0.min.css\");\n      console.log(\"Bokeh: injecting CSS: https://cdn.pydata.org/bokeh/release/bokeh-widgets-0.13.0.min.css\");\n      Bokeh.embed.inject_css(\"https://cdn.pydata.org/bokeh/release/bokeh-widgets-0.13.0.min.css\");\n      console.log(\"Bokeh: injecting CSS: https://cdn.pydata.org/bokeh/release/bokeh-tables-0.13.0.min.css\");\n      Bokeh.embed.inject_css(\"https://cdn.pydata.org/bokeh/release/bokeh-tables-0.13.0.min.css\");\n    }\n  ];\n\n  function run_inline_js() {\n    \n    if ((root.Bokeh !== undefined) || (force === true)) {\n      for (var i = 0; i < inline_js.length; i++) {\n        inline_js[i].call(root, root.Bokeh);\n      }if (force === true) {\n        display_loaded();\n      }} else if (Date.now() < root._bokeh_timeout) {\n      setTimeout(run_inline_js, 100);\n    } else if (!root._bokeh_failed_load) {\n      console.log(\"Bokeh: BokehJS failed to load within specified timeout.\");\n      root._bokeh_failed_load = true;\n    } else if (force !== true) {\n      var cell = $(document.getElementById(\"923a2c4f-6322-42f8-b844-5ba442ee0975\")).parents('.cell').data().cell;\n      cell.output_area.append_execute_result(NB_LOAD_WARNING)\n    }\n\n  }\n\n  if (root._bokeh_is_loading === 0) {\n    console.log(\"Bokeh: BokehJS loaded, going straight to plotting\");\n    run_inline_js();\n  } else {\n    load_libs(js_urls, function() {\n      console.log(\"Bokeh: BokehJS plotting callback run at\", now());\n      run_inline_js();\n    });\n  }\n}(window));"
     },
     "metadata": {},
     "output_type": "display_data"
    }
   ],
   "source": [
    "import pandas as pd\n",
    "import numpy as np\n",
    "import matplotlib.pyplot as plt\n",
    "from PIL import Image\n",
    "import re\n",
    "\n",
    "from pyspark.sql.functions import udf ,col\n",
    "from pyspark.sql.types import IntegerType,StringType\n",
    "\n",
    "%matplotlib inline\n",
    "\n",
    "from bokeh.io import show, output_notebook, output_file \n",
    "from bokeh.plotting import figure\n",
    "from bokeh.models import ColumnDataSource\n",
    "from bokeh.palettes import Category20_11, Category20c_20, Category10_5,Category10_6, Category20_20, Plasma256\n",
    "output_notebook()"
   ]
  },
  {
   "cell_type": "markdown",
   "metadata": {},
   "source": [
    "### Recolección de los datos: "
   ]
  },
  {
   "cell_type": "markdown",
   "metadata": {},
   "source": [
    "#### Creamos una función para tratamiento de datos en spark:"
   ]
  },
  {
   "cell_type": "code",
   "execution_count": 4,
   "metadata": {},
   "outputs": [],
   "source": [
    "def validate_rule(string):\n",
    "    search_list=[u\" \",u'!',u'%',u'$',u'¡',u'¿',u'~',u'#',u'Ñ',u\"Ã\",u\"Åƒ\",u\"Ã‹\",u\"Ã³\",u'Ë',u'*',u\"ILEGIBLE\", u\"VICIBLE\",u\"VISIBLE\",u\"INCOMPLETO\"]    \n",
    "    str_temp = string\n",
    "    if str_temp.upper() == u\"BORRADO\":\n",
    "      return 1\n",
    "    elif len(str_temp) < 6:\n",
    "      return 1\n",
    "    elif any(ext in str_temp.upper()for ext in search_list):\n",
    "      return 1\n",
    "    else:\n",
    "      return 0"
   ]
  },
  {
   "cell_type": "markdown",
   "metadata": {},
   "source": [
    "Esta fuente en particular contiene la historia de los elementos en el almacén, consideramos las fechas de cada partición, es decir, fechas de cada archivo ingestado. Para conocer las particiones de la fuente es necesario realizar un query en el cluster **SHOW PARTITIONS tx_almacen_inventory** y escogemos las particiones del mes que se quiere analizar."
   ]
  },
  {
   "cell_type": "markdown",
   "metadata": {},
   "source": [
    "_10=spark.sql(\"SELECT id, qr as qr_alm, org,sub_inv,almacen, articulo,descripcion,lpn_nuevo, ubicacion_nueva,estado_fisico_usadonuevo,tipo_de_articulo,serie,etiqueta,activo,mxn,datasetname,filedate,year,month,day FROM tx_almacen_inventory WHERE year=2019 and month=09 and day=10\")\n",
    "df_10=_10.toPandas()"
   ]
  },
  {
   "cell_type": "markdown",
   "metadata": {},
   "source": [
    "_11=spark.sql(\"SELECT id, qr as qr_alm, org,sub_inv,almacen, articulo,descripcion,lpn_nuevo, ubicacion_nueva,estado_fisico_usadonuevo,tipo_de_articulo,serie,etiqueta,activo,mxn,datasetname,filedate,year,month,day FROM tx_almacen_inventory WHERE year=2019 and month=09 and day=11\")\n",
    "df_11=_11.toPandas()"
   ]
  },
  {
   "cell_type": "markdown",
   "metadata": {},
   "source": [
    "_12=spark.sql(\"SELECT id, qr as qr_alm, org,sub_inv,almacen, articulo,descripcion,lpn_nuevo, ubicacion_nueva,estado_fisico_usadonuevo,tipo_de_articulo,serie,etiqueta,activo,mxn,datasetname,filedate,year,month,day FROM tx_almacen_inventory WHERE year=2019 and month=09 and day=12\")\n",
    "df_12=_12.toPandas()"
   ]
  },
  {
   "cell_type": "markdown",
   "metadata": {},
   "source": [
    "_13=spark.sql(\"SELECT id, qr as qr_alm, org,sub_inv,almacen, articulo,descripcion,lpn_nuevo, ubicacion_nueva,estado_fisico_usadonuevo,tipo_de_articulo,serie,etiqueta,activo,mxn,datasetname,filedate,year,month,day FROM tx_almacen_inventory WHERE year=2019 and month=09 and day=13\")\n",
    "df_13=_13.toPandas()"
   ]
  },
  {
   "cell_type": "markdown",
   "metadata": {},
   "source": [
    "_17=spark.sql(\"SELECT id, qr as qr_alm, org,sub_inv,almacen, articulo,descripcion,lpn_nuevo, ubicacion_nueva,estado_fisico_usadonuevo,tipo_de_articulo,serie,etiqueta,activo,mxn,datasetname,filedate,year,month,day FROM tx_almacen_inventory WHERE year=2019 and month=09 and day=17\")\n",
    "df_17=_17.toPandas()"
   ]
  },
  {
   "cell_type": "markdown",
   "metadata": {},
   "source": [
    "_18=spark.sql(\"SELECT id, qr as qr_alm, org,sub_inv,almacen, articulo,descripcion,lpn_nuevo, ubicacion_nueva,estado_fisico_usadonuevo,tipo_de_articulo,serie,etiqueta,activo,mxn,datasetname,filedate,year,month,day FROM tx_almacen_inventory WHERE year=2019 and month=09 and day=18\")\n",
    "df_18=_18.toPandas()"
   ]
  },
  {
   "cell_type": "markdown",
   "metadata": {},
   "source": [
    "_19=spark.sql(\"SELECT id, qr as qr_alm, org,sub_inv,almacen, articulo,descripcion,lpn_nuevo, ubicacion_nueva,estado_fisico_usadonuevo,tipo_de_articulo,serie,etiqueta,activo,mxn,datasetname,filedate,year,month,day FROM tx_almacen_inventory WHERE year=2019 and month=09 and day=19\")\n",
    "df_19=_19.toPandas()"
   ]
  },
  {
   "cell_type": "markdown",
   "metadata": {},
   "source": [
    "_24=spark.sql(\"SELECT id, qr as qr_alm, org,sub_inv,almacen, articulo,descripcion,lpn_nuevo, ubicacion_nueva,estado_fisico_usadonuevo,tipo_de_articulo,serie,etiqueta,activo,mxn,datasetname,filedate,year,month,day FROM tx_almacen_inventory WHERE year=2019 and month=09 and day=24\")\n",
    "df_24=_24.toPandas()"
   ]
  },
  {
   "cell_type": "markdown",
   "metadata": {},
   "source": [
    "_26=spark.sql(\"SELECT id, qr as qr_alm, org,sub_inv,almacen, articulo,descripcion,lpn_nuevo, ubicacion_nueva,estado_fisico_usadonuevo,tipo_de_articulo,serie,etiqueta,activo,mxn,datasetname,filedate,year,month,day FROM tx_almacen_inventory WHERE year=2019 and month=09 and day=26\")\n",
    "df_26=_26.toPandas()"
   ]
  },
  {
   "cell_type": "markdown",
   "metadata": {},
   "source": [
    "_03=spark.sql(\"SELECT id, qr as qr_alm, org,sub_inv,almacen, articulo,descripcion,lpn_nuevo, ubicacion_nueva,estado_fisico_usadonuevo,tipo_de_articulo,serie,etiqueta,activo,mxn,datasetname,filedate,year,month,day FROM tx_almacen_inventory WHERE year=2019 and month=09 and day=03\")\n",
    "df_03=_03.toPandas()"
   ]
  },
  {
   "cell_type": "code",
   "execution_count": 5,
   "metadata": {},
   "outputs": [],
   "source": [
    "_30=spark.sql(\"SELECT id, qr as qr_alm, org,sub_inv,almacen, articulo,descripcion,lpn_nuevo, ubicacion_nueva,estado_fisico_usadonuevo,tipo_de_articulo,serie,etiqueta,activo,mxn,estatus_cip,datasetname,filedate,year,month,day FROM tx_almacen_inventory WHERE year=2019 and month=09 and day=30\")\n",
    "\n",
    "validate_rule_udf = udf(validate_rule, IntegerType())\n",
    "df_serie = _30.withColumn(\"serie_cleaned\",validate_rule_udf(col(\"serie\")))\n",
    "\n",
    "df_30=df_serie.toPandas()"
   ]
  },
  {
   "cell_type": "markdown",
   "metadata": {},
   "source": [
    "_04=spark.sql(\"SELECT id, qr as qr_alm, org,sub_inv,almacen, articulo,descripcion,lpn_nuevo, ubicacion_nueva,estado_fisico_usadonuevo,tipo_de_articulo,serie,etiqueta,activo,mxn,datasetname,filedate,year,month,day FROM tx_almacen_inventory WHERE year=2019 and month=09 and day=04\")\n",
    "df_04=_04.toPandas()"
   ]
  },
  {
   "cell_type": "markdown",
   "metadata": {},
   "source": [
    "_05=spark.sql(\"SELECT id, qr as qr_alm, org,sub_inv,almacen, articulo,descripcion,lpn_nuevo, ubicacion_nueva,estado_fisico_usadonuevo,tipo_de_articulo,serie,etiqueta,activo,mxn,datasetname,filedate,year,month,day FROM tx_almacen_inventory WHERE year=2019 and month=09 and day=05\")\n",
    "df_05=_05.toPandas()"
   ]
  },
  {
   "cell_type": "markdown",
   "metadata": {},
   "source": [
    "_06=spark.sql(\"SELECT id, qr as qr_alm, org,sub_inv,almacen, articulo,descripcion,lpn_nuevo, ubicacion_nueva,estado_fisico_usadonuevo,tipo_de_articulo,serie,etiqueta,activo,mxn,datasetname,filedate,year,month,day FROM tx_almacen_inventory WHERE year=2019 and month=09 and day=06\")\n",
    "df_06=_06.toPandas()"
   ]
  },
  {
   "cell_type": "markdown",
   "metadata": {},
   "source": [
    "_09=spark.sql(\"SELECT id, qr as qr_alm, org,sub_inv,almacen, articulo,descripcion,lpn_nuevo, ubicacion_nueva,estado_fisico_usadonuevo,tipo_de_articulo,serie,etiqueta,activo,mxn,datasetname,filedate,year,month,day FROM tx_almacen_inventory WHERE year=2019 and month=09 and day=09\")\n",
    "df_09=_09.toPandas()"
   ]
  },
  {
   "cell_type": "markdown",
   "metadata": {},
   "source": [
    "*Hemos recolectado los campos a analizar de la fuente: inventario almacén.*"
   ]
  },
  {
   "cell_type": "markdown",
   "metadata": {},
   "source": [
    "frames=[df_03,df_04,df_05,df_06,\n",
    "        df_09,df_10,df_11,df_12,\n",
    "        df_13,df_17,df_18,df_19,\n",
    "        df_24,df_26,df_30]\n",
    "df=pd.concat(frames,ignore_index=True)"
   ]
  },
  {
   "cell_type": "code",
   "execution_count": 6,
   "metadata": {},
   "outputs": [],
   "source": [
    "df=df_30"
   ]
  },
  {
   "cell_type": "markdown",
   "metadata": {},
   "source": [
    "## Segregación Almacén\n",
    "Una visualización de la fuente de segregación."
   ]
  },
  {
   "cell_type": "code",
   "execution_count": 7,
   "metadata": {
    "scrolled": true
   },
   "outputs": [
    {
     "data": {
      "text/html": [
       "<div>\n",
       "<style scoped>\n",
       "    .dataframe tbody tr th:only-of-type {\n",
       "        vertical-align: middle;\n",
       "    }\n",
       "\n",
       "    .dataframe tbody tr th {\n",
       "        vertical-align: top;\n",
       "    }\n",
       "\n",
       "    .dataframe thead th {\n",
       "        text-align: right;\n",
       "    }\n",
       "</style>\n",
       "<table border=\"1\" class=\"dataframe\">\n",
       "  <thead>\n",
       "    <tr style=\"text-align: right;\">\n",
       "      <th></th>\n",
       "      <th>id</th>\n",
       "      <th>qr_alm</th>\n",
       "      <th>org</th>\n",
       "      <th>sub_inv</th>\n",
       "      <th>almacen</th>\n",
       "      <th>articulo</th>\n",
       "      <th>descripcion</th>\n",
       "      <th>lpn_nuevo</th>\n",
       "      <th>ubicacion_nueva</th>\n",
       "      <th>estado_fisico_usadonuevo</th>\n",
       "      <th>...</th>\n",
       "      <th>etiqueta</th>\n",
       "      <th>activo</th>\n",
       "      <th>mxn</th>\n",
       "      <th>estatus_cip</th>\n",
       "      <th>datasetname</th>\n",
       "      <th>filedate</th>\n",
       "      <th>year</th>\n",
       "      <th>month</th>\n",
       "      <th>day</th>\n",
       "      <th>serie_cleaned</th>\n",
       "    </tr>\n",
       "  </thead>\n",
       "  <tbody>\n",
       "    <tr>\n",
       "      <th>0</th>\n",
       "      <td>348239</td>\n",
       "      <td>0</td>\n",
       "      <td>1MX</td>\n",
       "      <td>USADODISP</td>\n",
       "      <td>Sta Cecilia AT&amp;T</td>\n",
       "      <td>W.1003061</td>\n",
       "      <td>UPS LIEBERT POWERSURE PSA MODELO PSA 1500 MT3-...</td>\n",
       "      <td>0</td>\n",
       "      <td>0</td>\n",
       "      <td>0</td>\n",
       "      <td>...</td>\n",
       "      <td>3G233000</td>\n",
       "      <td></td>\n",
       "      <td></td>\n",
       "      <td></td>\n",
       "      <td>sa_almacen_inventory</td>\n",
       "      <td>20190930</td>\n",
       "      <td>2019</td>\n",
       "      <td>9</td>\n",
       "      <td>30</td>\n",
       "      <td>0</td>\n",
       "    </tr>\n",
       "    <tr>\n",
       "      <th>1</th>\n",
       "      <td>254119</td>\n",
       "      <td>0</td>\n",
       "      <td>1PF</td>\n",
       "      <td>USADODISP</td>\n",
       "      <td>PROVA SMO</td>\n",
       "      <td>W.1603020</td>\n",
       "      <td>INTEGRATED SITE CONTROLLER (ISC)</td>\n",
       "      <td>0</td>\n",
       "      <td>0</td>\n",
       "      <td>0</td>\n",
       "      <td>...</td>\n",
       "      <td>164238</td>\n",
       "      <td></td>\n",
       "      <td></td>\n",
       "      <td></td>\n",
       "      <td>sa_almacen_inventory</td>\n",
       "      <td>20190930</td>\n",
       "      <td>2019</td>\n",
       "      <td>9</td>\n",
       "      <td>30</td>\n",
       "      <td>0</td>\n",
       "    </tr>\n",
       "    <tr>\n",
       "      <th>2</th>\n",
       "      <td>284888</td>\n",
       "      <td>0</td>\n",
       "      <td>2PX</td>\n",
       "      <td>REFA-UDISP</td>\n",
       "      <td>DHL Tepotzotlan</td>\n",
       "      <td>W.9056071</td>\n",
       "      <td>RRU OPTICAL TRANSCEIVER(9.8G)</td>\n",
       "      <td>0</td>\n",
       "      <td>0</td>\n",
       "      <td>0</td>\n",
       "      <td>...</td>\n",
       "      <td></td>\n",
       "      <td></td>\n",
       "      <td></td>\n",
       "      <td></td>\n",
       "      <td>sa_almacen_inventory</td>\n",
       "      <td>20190930</td>\n",
       "      <td>2019</td>\n",
       "      <td>9</td>\n",
       "      <td>30</td>\n",
       "      <td>0</td>\n",
       "    </tr>\n",
       "    <tr>\n",
       "      <th>3</th>\n",
       "      <td>242771</td>\n",
       "      <td>0</td>\n",
       "      <td>1PF</td>\n",
       "      <td>USADODISP</td>\n",
       "      <td>PROVA SMO</td>\n",
       "      <td>W.1510007</td>\n",
       "      <td>GABINETE PARA EBTS</td>\n",
       "      <td>0</td>\n",
       "      <td>0</td>\n",
       "      <td>0</td>\n",
       "      <td>...</td>\n",
       "      <td>ED00008895</td>\n",
       "      <td></td>\n",
       "      <td></td>\n",
       "      <td></td>\n",
       "      <td>sa_almacen_inventory</td>\n",
       "      <td>20190930</td>\n",
       "      <td>2019</td>\n",
       "      <td>9</td>\n",
       "      <td>30</td>\n",
       "      <td>0</td>\n",
       "    </tr>\n",
       "    <tr>\n",
       "      <th>4</th>\n",
       "      <td>70943</td>\n",
       "      <td>2PX1S19-07477</td>\n",
       "      <td>2PX</td>\n",
       "      <td>IBS-NUEVOS</td>\n",
       "      <td>DHL Tepotzotlan</td>\n",
       "      <td>W.3410138</td>\n",
       "      <td>ATENUADORES 10 DB NM 30W LOW PIM (&lt;-160DBC) / ...</td>\n",
       "      <td>MEX2017022400065</td>\n",
       "      <td>RF046A</td>\n",
       "      <td>-</td>\n",
       "      <td>...</td>\n",
       "      <td>00583496</td>\n",
       "      <td>2317305</td>\n",
       "      <td>13955.33</td>\n",
       "      <td>Warehouse</td>\n",
       "      <td>sa_almacen_inventory</td>\n",
       "      <td>20190930</td>\n",
       "      <td>2019</td>\n",
       "      <td>9</td>\n",
       "      <td>30</td>\n",
       "      <td>0</td>\n",
       "    </tr>\n",
       "    <tr>\n",
       "      <th>5</th>\n",
       "      <td>66568</td>\n",
       "      <td>2PX1S19-07903</td>\n",
       "      <td>2PX</td>\n",
       "      <td>RF-NUEVOS</td>\n",
       "      <td>DHL Tepotzotlan</td>\n",
       "      <td>W.90701010</td>\n",
       "      <td>MOD CS05-125-4294310  6DB DIRECTIONAL COUPLER ...</td>\n",
       "      <td>FHM2017080201363</td>\n",
       "      <td>RF019A</td>\n",
       "      <td>-</td>\n",
       "      <td>...</td>\n",
       "      <td></td>\n",
       "      <td>3208424</td>\n",
       "      <td>1527.02</td>\n",
       "      <td>Warehouse</td>\n",
       "      <td>sa_almacen_inventory</td>\n",
       "      <td>20190930</td>\n",
       "      <td>2019</td>\n",
       "      <td>9</td>\n",
       "      <td>30</td>\n",
       "      <td>0</td>\n",
       "    </tr>\n",
       "    <tr>\n",
       "      <th>6</th>\n",
       "      <td>65010</td>\n",
       "      <td>2PX1S19-07224</td>\n",
       "      <td>2PX</td>\n",
       "      <td>NUEVOS</td>\n",
       "      <td>DHL Tepotzotlan</td>\n",
       "      <td>W.6028036</td>\n",
       "      <td>50A RECTIFIER MODULES</td>\n",
       "      <td>MEX2018051625414033</td>\n",
       "      <td>RE125A</td>\n",
       "      <td>NUEVO</td>\n",
       "      <td>...</td>\n",
       "      <td>01160289</td>\n",
       "      <td>3259354</td>\n",
       "      <td>4532.78</td>\n",
       "      <td>Warehouse</td>\n",
       "      <td>sa_almacen_inventory</td>\n",
       "      <td>20190930</td>\n",
       "      <td>2019</td>\n",
       "      <td>9</td>\n",
       "      <td>30</td>\n",
       "      <td>0</td>\n",
       "    </tr>\n",
       "    <tr>\n",
       "      <th>7</th>\n",
       "      <td>368884</td>\n",
       "      <td>0</td>\n",
       "      <td>1MX</td>\n",
       "      <td>USADODISP</td>\n",
       "      <td>Sta Cecilia AT&amp;T</td>\n",
       "      <td>W.3409001</td>\n",
       "      <td>RF ANTENNA HBXX-6513DS-A2M</td>\n",
       "      <td>0</td>\n",
       "      <td>0</td>\n",
       "      <td>0</td>\n",
       "      <td>...</td>\n",
       "      <td>3G247033</td>\n",
       "      <td></td>\n",
       "      <td></td>\n",
       "      <td></td>\n",
       "      <td>sa_almacen_inventory</td>\n",
       "      <td>20190930</td>\n",
       "      <td>2019</td>\n",
       "      <td>9</td>\n",
       "      <td>30</td>\n",
       "      <td>0</td>\n",
       "    </tr>\n",
       "    <tr>\n",
       "      <th>8</th>\n",
       "      <td>220182</td>\n",
       "      <td>0</td>\n",
       "      <td>1PF</td>\n",
       "      <td>USADODISP</td>\n",
       "      <td>PROVA SMO</td>\n",
       "      <td>W.0909150</td>\n",
       "      <td>ANTENA PANEL, GANANCIA 12.5 DBD, X-POL AND VER...</td>\n",
       "      <td>0</td>\n",
       "      <td>0</td>\n",
       "      <td>0</td>\n",
       "      <td>...</td>\n",
       "      <td>261841</td>\n",
       "      <td></td>\n",
       "      <td></td>\n",
       "      <td></td>\n",
       "      <td>sa_almacen_inventory</td>\n",
       "      <td>20190930</td>\n",
       "      <td>2019</td>\n",
       "      <td>9</td>\n",
       "      <td>30</td>\n",
       "      <td>0</td>\n",
       "    </tr>\n",
       "    <tr>\n",
       "      <th>9</th>\n",
       "      <td>254424</td>\n",
       "      <td>0</td>\n",
       "      <td>1PF</td>\n",
       "      <td>USADODISP</td>\n",
       "      <td>PROVA SMO</td>\n",
       "      <td>W.1603020</td>\n",
       "      <td>INTEGRATED SITE CONTROLLER (ISC)</td>\n",
       "      <td>0</td>\n",
       "      <td>0</td>\n",
       "      <td>0</td>\n",
       "      <td>...</td>\n",
       "      <td>51471</td>\n",
       "      <td></td>\n",
       "      <td></td>\n",
       "      <td></td>\n",
       "      <td>sa_almacen_inventory</td>\n",
       "      <td>20190930</td>\n",
       "      <td>2019</td>\n",
       "      <td>9</td>\n",
       "      <td>30</td>\n",
       "      <td>0</td>\n",
       "    </tr>\n",
       "    <tr>\n",
       "      <th>10</th>\n",
       "      <td>405354</td>\n",
       "      <td>0</td>\n",
       "      <td>1MX</td>\n",
       "      <td>USADODISP</td>\n",
       "      <td>Sta Cecilia AT&amp;T</td>\n",
       "      <td>T.01302259</td>\n",
       "      <td>RACK</td>\n",
       "      <td>0</td>\n",
       "      <td>0</td>\n",
       "      <td>0</td>\n",
       "      <td>...</td>\n",
       "      <td></td>\n",
       "      <td></td>\n",
       "      <td></td>\n",
       "      <td></td>\n",
       "      <td>sa_almacen_inventory</td>\n",
       "      <td>20190930</td>\n",
       "      <td>2019</td>\n",
       "      <td>9</td>\n",
       "      <td>30</td>\n",
       "      <td>0</td>\n",
       "    </tr>\n",
       "    <tr>\n",
       "      <th>11</th>\n",
       "      <td>360554</td>\n",
       "      <td>0</td>\n",
       "      <td>1MX</td>\n",
       "      <td>USADODISP</td>\n",
       "      <td>Sta Cecilia AT&amp;T</td>\n",
       "      <td>T.1908944</td>\n",
       "      <td>ANTENA MODELO  VHP2-142-111</td>\n",
       "      <td>0</td>\n",
       "      <td>0</td>\n",
       "      <td>0</td>\n",
       "      <td>...</td>\n",
       "      <td>284692</td>\n",
       "      <td></td>\n",
       "      <td></td>\n",
       "      <td></td>\n",
       "      <td>sa_almacen_inventory</td>\n",
       "      <td>20190930</td>\n",
       "      <td>2019</td>\n",
       "      <td>9</td>\n",
       "      <td>30</td>\n",
       "      <td>0</td>\n",
       "    </tr>\n",
       "    <tr>\n",
       "      <th>12</th>\n",
       "      <td>347753</td>\n",
       "      <td>0</td>\n",
       "      <td>1MX</td>\n",
       "      <td>USADODISP</td>\n",
       "      <td>Sta Cecilia AT&amp;T</td>\n",
       "      <td>T.0917047</td>\n",
       "      <td>TOWER TOP AMPLIFIER MW-TTA-ESMR-H-H3V-NM</td>\n",
       "      <td>0</td>\n",
       "      <td>0</td>\n",
       "      <td>0</td>\n",
       "      <td>...</td>\n",
       "      <td>ED00019535</td>\n",
       "      <td></td>\n",
       "      <td></td>\n",
       "      <td></td>\n",
       "      <td>sa_almacen_inventory</td>\n",
       "      <td>20190930</td>\n",
       "      <td>2019</td>\n",
       "      <td>9</td>\n",
       "      <td>30</td>\n",
       "      <td>0</td>\n",
       "    </tr>\n",
       "    <tr>\n",
       "      <th>13</th>\n",
       "      <td>339941</td>\n",
       "      <td>0</td>\n",
       "      <td>1MX</td>\n",
       "      <td>USADODISP</td>\n",
       "      <td>Sta Cecilia AT&amp;T</td>\n",
       "      <td>W.0906014</td>\n",
       "      <td>DUAL 3-WAY WITH ISOLATORS</td>\n",
       "      <td>0</td>\n",
       "      <td>0</td>\n",
       "      <td>0</td>\n",
       "      <td>...</td>\n",
       "      <td>21403</td>\n",
       "      <td></td>\n",
       "      <td></td>\n",
       "      <td></td>\n",
       "      <td>sa_almacen_inventory</td>\n",
       "      <td>20190930</td>\n",
       "      <td>2019</td>\n",
       "      <td>9</td>\n",
       "      <td>30</td>\n",
       "      <td>0</td>\n",
       "    </tr>\n",
       "    <tr>\n",
       "      <th>14</th>\n",
       "      <td>422019</td>\n",
       "      <td>0</td>\n",
       "      <td>1MX</td>\n",
       "      <td>USADODISP</td>\n",
       "      <td>Sta Cecilia AT&amp;T</td>\n",
       "      <td>T.06025174</td>\n",
       "      <td>IUSA MW ACCESSORY COUPLER 15G UBR140 6DB XMC N...</td>\n",
       "      <td>0</td>\n",
       "      <td>0</td>\n",
       "      <td>0</td>\n",
       "      <td>...</td>\n",
       "      <td></td>\n",
       "      <td></td>\n",
       "      <td></td>\n",
       "      <td></td>\n",
       "      <td>sa_almacen_inventory</td>\n",
       "      <td>20190930</td>\n",
       "      <td>2019</td>\n",
       "      <td>9</td>\n",
       "      <td>30</td>\n",
       "      <td>0</td>\n",
       "    </tr>\n",
       "  </tbody>\n",
       "</table>\n",
       "<p>15 rows × 22 columns</p>\n",
       "</div>"
      ],
      "text/plain": [
       "        id         qr_alm  org     sub_inv           almacen    articulo  \\\n",
       "0   348239              0  1MX   USADODISP  Sta Cecilia AT&T   W.1003061   \n",
       "1   254119              0  1PF   USADODISP         PROVA SMO   W.1603020   \n",
       "2   284888              0  2PX  REFA-UDISP   DHL Tepotzotlan   W.9056071   \n",
       "3   242771              0  1PF   USADODISP         PROVA SMO   W.1510007   \n",
       "4    70943  2PX1S19-07477  2PX  IBS-NUEVOS   DHL Tepotzotlan   W.3410138   \n",
       "5    66568  2PX1S19-07903  2PX   RF-NUEVOS   DHL Tepotzotlan  W.90701010   \n",
       "6    65010  2PX1S19-07224  2PX      NUEVOS   DHL Tepotzotlan   W.6028036   \n",
       "7   368884              0  1MX   USADODISP  Sta Cecilia AT&T   W.3409001   \n",
       "8   220182              0  1PF   USADODISP         PROVA SMO   W.0909150   \n",
       "9   254424              0  1PF   USADODISP         PROVA SMO   W.1603020   \n",
       "10  405354              0  1MX   USADODISP  Sta Cecilia AT&T  T.01302259   \n",
       "11  360554              0  1MX   USADODISP  Sta Cecilia AT&T   T.1908944   \n",
       "12  347753              0  1MX   USADODISP  Sta Cecilia AT&T   T.0917047   \n",
       "13  339941              0  1MX   USADODISP  Sta Cecilia AT&T   W.0906014   \n",
       "14  422019              0  1MX   USADODISP  Sta Cecilia AT&T  T.06025174   \n",
       "\n",
       "                                          descripcion            lpn_nuevo  \\\n",
       "0   UPS LIEBERT POWERSURE PSA MODELO PSA 1500 MT3-...                    0   \n",
       "1                    INTEGRATED SITE CONTROLLER (ISC)                    0   \n",
       "2                       RRU OPTICAL TRANSCEIVER(9.8G)                    0   \n",
       "3                                  GABINETE PARA EBTS                    0   \n",
       "4   ATENUADORES 10 DB NM 30W LOW PIM (<-160DBC) / ...     MEX2017022400065   \n",
       "5   MOD CS05-125-4294310  6DB DIRECTIONAL COUPLER ...     FHM2017080201363   \n",
       "6                               50A RECTIFIER MODULES  MEX2018051625414033   \n",
       "7                          RF ANTENNA HBXX-6513DS-A2M                    0   \n",
       "8   ANTENA PANEL, GANANCIA 12.5 DBD, X-POL AND VER...                    0   \n",
       "9                    INTEGRATED SITE CONTROLLER (ISC)                    0   \n",
       "10                                               RACK                    0   \n",
       "11                        ANTENA MODELO  VHP2-142-111                    0   \n",
       "12           TOWER TOP AMPLIFIER MW-TTA-ESMR-H-H3V-NM                    0   \n",
       "13                          DUAL 3-WAY WITH ISOLATORS                    0   \n",
       "14  IUSA MW ACCESSORY COUPLER 15G UBR140 6DB XMC N...                    0   \n",
       "\n",
       "   ubicacion_nueva estado_fisico_usadonuevo      ...          etiqueta  \\\n",
       "0                0                        0      ...          3G233000   \n",
       "1                0                        0      ...            164238   \n",
       "2                0                        0      ...                     \n",
       "3                0                        0      ...        ED00008895   \n",
       "4           RF046A                        -      ...          00583496   \n",
       "5           RF019A                        -      ...                     \n",
       "6           RE125A                    NUEVO      ...          01160289   \n",
       "7                0                        0      ...          3G247033   \n",
       "8                0                        0      ...            261841   \n",
       "9                0                        0      ...             51471   \n",
       "10               0                        0      ...                     \n",
       "11               0                        0      ...            284692   \n",
       "12               0                        0      ...        ED00019535   \n",
       "13               0                        0      ...             21403   \n",
       "14               0                        0      ...                     \n",
       "\n",
       "     activo       mxn estatus_cip           datasetname  filedate  year  \\\n",
       "0                                  sa_almacen_inventory  20190930  2019   \n",
       "1                                  sa_almacen_inventory  20190930  2019   \n",
       "2                                  sa_almacen_inventory  20190930  2019   \n",
       "3                                  sa_almacen_inventory  20190930  2019   \n",
       "4   2317305  13955.33   Warehouse  sa_almacen_inventory  20190930  2019   \n",
       "5   3208424   1527.02   Warehouse  sa_almacen_inventory  20190930  2019   \n",
       "6   3259354   4532.78   Warehouse  sa_almacen_inventory  20190930  2019   \n",
       "7                                  sa_almacen_inventory  20190930  2019   \n",
       "8                                  sa_almacen_inventory  20190930  2019   \n",
       "9                                  sa_almacen_inventory  20190930  2019   \n",
       "10                                 sa_almacen_inventory  20190930  2019   \n",
       "11                                 sa_almacen_inventory  20190930  2019   \n",
       "12                                 sa_almacen_inventory  20190930  2019   \n",
       "13                                 sa_almacen_inventory  20190930  2019   \n",
       "14                                 sa_almacen_inventory  20190930  2019   \n",
       "\n",
       "    month  day  serie_cleaned  \n",
       "0       9   30              0  \n",
       "1       9   30              0  \n",
       "2       9   30              0  \n",
       "3       9   30              0  \n",
       "4       9   30              0  \n",
       "5       9   30              0  \n",
       "6       9   30              0  \n",
       "7       9   30              0  \n",
       "8       9   30              0  \n",
       "9       9   30              0  \n",
       "10      9   30              0  \n",
       "11      9   30              0  \n",
       "12      9   30              0  \n",
       "13      9   30              0  \n",
       "14      9   30              0  \n",
       "\n",
       "[15 rows x 22 columns]"
      ]
     },
     "execution_count": 7,
     "metadata": {},
     "output_type": "execute_result"
    }
   ],
   "source": [
    "df.head(15)"
   ]
  },
  {
   "cell_type": "code",
   "execution_count": 8,
   "metadata": {},
   "outputs": [
    {
     "data": {
      "text/plain": [
       "Index([u'id', u'qr_alm', u'org', u'sub_inv', u'almacen', u'articulo',\n",
       "       u'descripcion', u'lpn_nuevo', u'ubicacion_nueva',\n",
       "       u'estado_fisico_usadonuevo', u'tipo_de_articulo', u'serie', u'etiqueta',\n",
       "       u'activo', u'mxn', u'estatus_cip', u'datasetname', u'filedate', u'year',\n",
       "       u'month', u'day', u'serie_cleaned'],\n",
       "      dtype='object')"
      ]
     },
     "execution_count": 8,
     "metadata": {},
     "output_type": "execute_result"
    }
   ],
   "source": [
    "df.columns"
   ]
  },
  {
   "cell_type": "markdown",
   "metadata": {},
   "source": [
    "### Diccionario de datos\n",
    "\n",
    "A continuación se enlistan los campos de la fuente con una breve descripción de negocio.  **Carina**\n",
    "    \n",
    "* **id**: Código interno que identifica al elemento en el almacén.\n",
    "* **qr**: Código QR interno que identifica al elemento en el almacén por organización.\n",
    "* **org**: Código que identifica sitios en un almacén.\n",
    "* **subinv**: Señala estado del articulo (Nuevo, usado, obsoleto, dañado, ...).\n",
    "* **almacen**:Nombre del almacén en el que se encuentra el elemento.\n",
    "* **articulo**: Identificador único de Oracle.\n",
    "* **descripcion**: Descripción general del elemento.\n",
    "* **upd**: Unidad de medida.\n",
    "* **lpn_nuevo**: Identificador QR de un elemento cuando ha cambiado de almacén.\n",
    "* **ubicacion_nueva**: Ubicación dentro del almacén a donde se ha movido el elemento.\n",
    "* **estado_fisico**: Estatus del elemento (Nuevo, usado).\n",
    "* **cantidad**: Número de elementos.\n",
    "* **tipo de control**: Identificador de como se encontró el elemento.\n",
    "* **pasillo**: Pasillo donde se encuentra el elemento.\n",
    "* **nivel**: Nivel donde se encuentra el elemento.\n",
    "* **parnon**: Parnon donde se encuentra el elemento.\n",
    "* **tipo_articulo**: Tipo de Artículo.\n",
    "* **serie**: Identificador único que tiene el proveedor.\n",
    "* **etiqueta**: Id único del elemento de red que da AT&T (Activo)."
   ]
  },
  {
   "cell_type": "markdown",
   "metadata": {},
   "source": [
    "\n",
    "### 2. Descripción de las fuentes.\n",
    "En este apartado se hará una descripción a detalle de las fuentes para una mejor comprensión de los datos. Por cada fuente se mostrarán los tipos de datos, tamaño de la fuente, es decir, su dimensionalidad y una estadística descriptiva, en ese orden."
   ]
  },
  {
   "cell_type": "code",
   "execution_count": 9,
   "metadata": {},
   "outputs": [
    {
     "name": "stdout",
     "output_type": "stream",
     "text": [
      "('Columnas de la fuente segregacion son: ', ['id', 'qr_alm', 'org', 'sub_inv', 'almacen', 'articulo', 'descripcion', 'lpn_nuevo', 'ubicacion_nueva', 'estado_fisico_usadonuevo', 'tipo_de_articulo', 'serie', 'etiqueta', 'activo', 'mxn', 'estatus_cip', 'datasetname', 'filedate', 'year', 'month', 'day', 'serie_cleaned'])\n"
     ]
    },
    {
     "data": {
      "text/html": [
       "<div>\n",
       "<style scoped>\n",
       "    .dataframe tbody tr th:only-of-type {\n",
       "        vertical-align: middle;\n",
       "    }\n",
       "\n",
       "    .dataframe tbody tr th {\n",
       "        vertical-align: top;\n",
       "    }\n",
       "\n",
       "    .dataframe thead th {\n",
       "        text-align: right;\n",
       "    }\n",
       "</style>\n",
       "<table border=\"1\" class=\"dataframe\">\n",
       "  <thead>\n",
       "    <tr style=\"text-align: right;\">\n",
       "      <th></th>\n",
       "      <th>Tipo de objeto Segregación</th>\n",
       "    </tr>\n",
       "  </thead>\n",
       "  <tbody>\n",
       "    <tr>\n",
       "      <th>id</th>\n",
       "      <td>object</td>\n",
       "    </tr>\n",
       "    <tr>\n",
       "      <th>qr_alm</th>\n",
       "      <td>object</td>\n",
       "    </tr>\n",
       "    <tr>\n",
       "      <th>org</th>\n",
       "      <td>object</td>\n",
       "    </tr>\n",
       "    <tr>\n",
       "      <th>sub_inv</th>\n",
       "      <td>object</td>\n",
       "    </tr>\n",
       "    <tr>\n",
       "      <th>almacen</th>\n",
       "      <td>object</td>\n",
       "    </tr>\n",
       "    <tr>\n",
       "      <th>articulo</th>\n",
       "      <td>object</td>\n",
       "    </tr>\n",
       "    <tr>\n",
       "      <th>descripcion</th>\n",
       "      <td>object</td>\n",
       "    </tr>\n",
       "    <tr>\n",
       "      <th>lpn_nuevo</th>\n",
       "      <td>object</td>\n",
       "    </tr>\n",
       "    <tr>\n",
       "      <th>ubicacion_nueva</th>\n",
       "      <td>object</td>\n",
       "    </tr>\n",
       "    <tr>\n",
       "      <th>estado_fisico_usadonuevo</th>\n",
       "      <td>object</td>\n",
       "    </tr>\n",
       "    <tr>\n",
       "      <th>tipo_de_articulo</th>\n",
       "      <td>object</td>\n",
       "    </tr>\n",
       "    <tr>\n",
       "      <th>serie</th>\n",
       "      <td>object</td>\n",
       "    </tr>\n",
       "    <tr>\n",
       "      <th>etiqueta</th>\n",
       "      <td>object</td>\n",
       "    </tr>\n",
       "    <tr>\n",
       "      <th>activo</th>\n",
       "      <td>object</td>\n",
       "    </tr>\n",
       "    <tr>\n",
       "      <th>mxn</th>\n",
       "      <td>object</td>\n",
       "    </tr>\n",
       "    <tr>\n",
       "      <th>estatus_cip</th>\n",
       "      <td>object</td>\n",
       "    </tr>\n",
       "    <tr>\n",
       "      <th>datasetname</th>\n",
       "      <td>object</td>\n",
       "    </tr>\n",
       "    <tr>\n",
       "      <th>filedate</th>\n",
       "      <td>int64</td>\n",
       "    </tr>\n",
       "    <tr>\n",
       "      <th>year</th>\n",
       "      <td>int32</td>\n",
       "    </tr>\n",
       "    <tr>\n",
       "      <th>month</th>\n",
       "      <td>int32</td>\n",
       "    </tr>\n",
       "    <tr>\n",
       "      <th>day</th>\n",
       "      <td>int32</td>\n",
       "    </tr>\n",
       "    <tr>\n",
       "      <th>serie_cleaned</th>\n",
       "      <td>int32</td>\n",
       "    </tr>\n",
       "  </tbody>\n",
       "</table>\n",
       "</div>"
      ],
      "text/plain": [
       "                         Tipo de objeto Segregación\n",
       "id                                           object\n",
       "qr_alm                                       object\n",
       "org                                          object\n",
       "sub_inv                                      object\n",
       "almacen                                      object\n",
       "articulo                                     object\n",
       "descripcion                                  object\n",
       "lpn_nuevo                                    object\n",
       "ubicacion_nueva                              object\n",
       "estado_fisico_usadonuevo                     object\n",
       "tipo_de_articulo                             object\n",
       "serie                                        object\n",
       "etiqueta                                     object\n",
       "activo                                       object\n",
       "mxn                                          object\n",
       "estatus_cip                                  object\n",
       "datasetname                                  object\n",
       "filedate                                      int64\n",
       "year                                          int32\n",
       "month                                         int32\n",
       "day                                           int32\n",
       "serie_cleaned                                 int32"
      ]
     },
     "execution_count": 9,
     "metadata": {},
     "output_type": "execute_result"
    }
   ],
   "source": [
    "camposSegg=df.columns\n",
    "print('Columnas de la fuente segregacion son: ',list(camposSegg))\n",
    "pd.DataFrame(df.dtypes,columns=['Tipo de objeto Segregación'])"
   ]
  },
  {
   "cell_type": "code",
   "execution_count": 10,
   "metadata": {},
   "outputs": [
    {
     "name": "stdout",
     "output_type": "stream",
     "text": [
      "('renglones = ', 371316, ' columnas = ', 22)\n"
     ]
    }
   ],
   "source": [
    "print('renglones = ',df.shape[0],' columnas = ',df.shape[1])"
   ]
  },
  {
   "cell_type": "code",
   "execution_count": 11,
   "metadata": {},
   "outputs": [
    {
     "data": {
      "text/html": [
       "<div>\n",
       "<style scoped>\n",
       "    .dataframe tbody tr th:only-of-type {\n",
       "        vertical-align: middle;\n",
       "    }\n",
       "\n",
       "    .dataframe tbody tr th {\n",
       "        vertical-align: top;\n",
       "    }\n",
       "\n",
       "    .dataframe thead th {\n",
       "        text-align: right;\n",
       "    }\n",
       "</style>\n",
       "<table border=\"1\" class=\"dataframe\">\n",
       "  <thead>\n",
       "    <tr style=\"text-align: right;\">\n",
       "      <th></th>\n",
       "      <th>id</th>\n",
       "      <th>qr_alm</th>\n",
       "      <th>org</th>\n",
       "      <th>sub_inv</th>\n",
       "      <th>almacen</th>\n",
       "      <th>articulo</th>\n",
       "      <th>descripcion</th>\n",
       "      <th>lpn_nuevo</th>\n",
       "      <th>ubicacion_nueva</th>\n",
       "      <th>estado_fisico_usadonuevo</th>\n",
       "      <th>tipo_de_articulo</th>\n",
       "      <th>serie</th>\n",
       "      <th>etiqueta</th>\n",
       "      <th>activo</th>\n",
       "      <th>mxn</th>\n",
       "      <th>estatus_cip</th>\n",
       "      <th>serie_cleaned</th>\n",
       "    </tr>\n",
       "  </thead>\n",
       "  <tbody>\n",
       "    <tr>\n",
       "      <th>count</th>\n",
       "      <td>371316</td>\n",
       "      <td>371316</td>\n",
       "      <td>371316</td>\n",
       "      <td>371316</td>\n",
       "      <td>371316</td>\n",
       "      <td>371316</td>\n",
       "      <td>371316</td>\n",
       "      <td>371316</td>\n",
       "      <td>371316</td>\n",
       "      <td>371316</td>\n",
       "      <td>371316</td>\n",
       "      <td>371316</td>\n",
       "      <td>371316</td>\n",
       "      <td>371316</td>\n",
       "      <td>371316</td>\n",
       "      <td>371316</td>\n",
       "      <td>371316.000000</td>\n",
       "    </tr>\n",
       "    <tr>\n",
       "      <th>unique</th>\n",
       "      <td>371316</td>\n",
       "      <td>16492</td>\n",
       "      <td>46</td>\n",
       "      <td>19</td>\n",
       "      <td>44</td>\n",
       "      <td>10027</td>\n",
       "      <td>10340</td>\n",
       "      <td>10343</td>\n",
       "      <td>8187</td>\n",
       "      <td>5</td>\n",
       "      <td>6</td>\n",
       "      <td>338896</td>\n",
       "      <td>230623</td>\n",
       "      <td>61111</td>\n",
       "      <td>2188</td>\n",
       "      <td>8</td>\n",
       "      <td>NaN</td>\n",
       "    </tr>\n",
       "    <tr>\n",
       "      <th>top</th>\n",
       "      <td>229329</td>\n",
       "      <td>0</td>\n",
       "      <td>2PX</td>\n",
       "      <td>USADODISP</td>\n",
       "      <td>DHL Tepotzotlan</td>\n",
       "      <td>W.1013182</td>\n",
       "      <td>SFP 10G LR S= 10GBASE-LR SFP MODULE ENTERPRISE...</td>\n",
       "      <td>0</td>\n",
       "      <td>0</td>\n",
       "      <td>0</td>\n",
       "      <td>W</td>\n",
       "      <td></td>\n",
       "      <td></td>\n",
       "      <td></td>\n",
       "      <td></td>\n",
       "      <td></td>\n",
       "      <td>NaN</td>\n",
       "    </tr>\n",
       "    <tr>\n",
       "      <th>freq</th>\n",
       "      <td>1</td>\n",
       "      <td>244374</td>\n",
       "      <td>140598</td>\n",
       "      <td>215658</td>\n",
       "      <td>140598</td>\n",
       "      <td>8957</td>\n",
       "      <td>8632</td>\n",
       "      <td>244048</td>\n",
       "      <td>244048</td>\n",
       "      <td>244826</td>\n",
       "      <td>224881</td>\n",
       "      <td>31328</td>\n",
       "      <td>135319</td>\n",
       "      <td>289141</td>\n",
       "      <td>275245</td>\n",
       "      <td>267554</td>\n",
       "      <td>NaN</td>\n",
       "    </tr>\n",
       "    <tr>\n",
       "      <th>mean</th>\n",
       "      <td>NaN</td>\n",
       "      <td>NaN</td>\n",
       "      <td>NaN</td>\n",
       "      <td>NaN</td>\n",
       "      <td>NaN</td>\n",
       "      <td>NaN</td>\n",
       "      <td>NaN</td>\n",
       "      <td>NaN</td>\n",
       "      <td>NaN</td>\n",
       "      <td>NaN</td>\n",
       "      <td>NaN</td>\n",
       "      <td>NaN</td>\n",
       "      <td>NaN</td>\n",
       "      <td>NaN</td>\n",
       "      <td>NaN</td>\n",
       "      <td>NaN</td>\n",
       "      <td>0.107967</td>\n",
       "    </tr>\n",
       "    <tr>\n",
       "      <th>std</th>\n",
       "      <td>NaN</td>\n",
       "      <td>NaN</td>\n",
       "      <td>NaN</td>\n",
       "      <td>NaN</td>\n",
       "      <td>NaN</td>\n",
       "      <td>NaN</td>\n",
       "      <td>NaN</td>\n",
       "      <td>NaN</td>\n",
       "      <td>NaN</td>\n",
       "      <td>NaN</td>\n",
       "      <td>NaN</td>\n",
       "      <td>NaN</td>\n",
       "      <td>NaN</td>\n",
       "      <td>NaN</td>\n",
       "      <td>NaN</td>\n",
       "      <td>NaN</td>\n",
       "      <td>0.310340</td>\n",
       "    </tr>\n",
       "    <tr>\n",
       "      <th>min</th>\n",
       "      <td>NaN</td>\n",
       "      <td>NaN</td>\n",
       "      <td>NaN</td>\n",
       "      <td>NaN</td>\n",
       "      <td>NaN</td>\n",
       "      <td>NaN</td>\n",
       "      <td>NaN</td>\n",
       "      <td>NaN</td>\n",
       "      <td>NaN</td>\n",
       "      <td>NaN</td>\n",
       "      <td>NaN</td>\n",
       "      <td>NaN</td>\n",
       "      <td>NaN</td>\n",
       "      <td>NaN</td>\n",
       "      <td>NaN</td>\n",
       "      <td>NaN</td>\n",
       "      <td>0.000000</td>\n",
       "    </tr>\n",
       "    <tr>\n",
       "      <th>25%</th>\n",
       "      <td>NaN</td>\n",
       "      <td>NaN</td>\n",
       "      <td>NaN</td>\n",
       "      <td>NaN</td>\n",
       "      <td>NaN</td>\n",
       "      <td>NaN</td>\n",
       "      <td>NaN</td>\n",
       "      <td>NaN</td>\n",
       "      <td>NaN</td>\n",
       "      <td>NaN</td>\n",
       "      <td>NaN</td>\n",
       "      <td>NaN</td>\n",
       "      <td>NaN</td>\n",
       "      <td>NaN</td>\n",
       "      <td>NaN</td>\n",
       "      <td>NaN</td>\n",
       "      <td>0.000000</td>\n",
       "    </tr>\n",
       "    <tr>\n",
       "      <th>50%</th>\n",
       "      <td>NaN</td>\n",
       "      <td>NaN</td>\n",
       "      <td>NaN</td>\n",
       "      <td>NaN</td>\n",
       "      <td>NaN</td>\n",
       "      <td>NaN</td>\n",
       "      <td>NaN</td>\n",
       "      <td>NaN</td>\n",
       "      <td>NaN</td>\n",
       "      <td>NaN</td>\n",
       "      <td>NaN</td>\n",
       "      <td>NaN</td>\n",
       "      <td>NaN</td>\n",
       "      <td>NaN</td>\n",
       "      <td>NaN</td>\n",
       "      <td>NaN</td>\n",
       "      <td>0.000000</td>\n",
       "    </tr>\n",
       "    <tr>\n",
       "      <th>75%</th>\n",
       "      <td>NaN</td>\n",
       "      <td>NaN</td>\n",
       "      <td>NaN</td>\n",
       "      <td>NaN</td>\n",
       "      <td>NaN</td>\n",
       "      <td>NaN</td>\n",
       "      <td>NaN</td>\n",
       "      <td>NaN</td>\n",
       "      <td>NaN</td>\n",
       "      <td>NaN</td>\n",
       "      <td>NaN</td>\n",
       "      <td>NaN</td>\n",
       "      <td>NaN</td>\n",
       "      <td>NaN</td>\n",
       "      <td>NaN</td>\n",
       "      <td>NaN</td>\n",
       "      <td>0.000000</td>\n",
       "    </tr>\n",
       "    <tr>\n",
       "      <th>max</th>\n",
       "      <td>NaN</td>\n",
       "      <td>NaN</td>\n",
       "      <td>NaN</td>\n",
       "      <td>NaN</td>\n",
       "      <td>NaN</td>\n",
       "      <td>NaN</td>\n",
       "      <td>NaN</td>\n",
       "      <td>NaN</td>\n",
       "      <td>NaN</td>\n",
       "      <td>NaN</td>\n",
       "      <td>NaN</td>\n",
       "      <td>NaN</td>\n",
       "      <td>NaN</td>\n",
       "      <td>NaN</td>\n",
       "      <td>NaN</td>\n",
       "      <td>NaN</td>\n",
       "      <td>1.000000</td>\n",
       "    </tr>\n",
       "  </tbody>\n",
       "</table>\n",
       "</div>"
      ],
      "text/plain": [
       "            id  qr_alm     org    sub_inv          almacen   articulo  \\\n",
       "count   371316  371316  371316     371316           371316     371316   \n",
       "unique  371316   16492      46         19               44      10027   \n",
       "top     229329       0     2PX  USADODISP  DHL Tepotzotlan  W.1013182   \n",
       "freq         1  244374  140598     215658           140598       8957   \n",
       "mean       NaN     NaN     NaN        NaN              NaN        NaN   \n",
       "std        NaN     NaN     NaN        NaN              NaN        NaN   \n",
       "min        NaN     NaN     NaN        NaN              NaN        NaN   \n",
       "25%        NaN     NaN     NaN        NaN              NaN        NaN   \n",
       "50%        NaN     NaN     NaN        NaN              NaN        NaN   \n",
       "75%        NaN     NaN     NaN        NaN              NaN        NaN   \n",
       "max        NaN     NaN     NaN        NaN              NaN        NaN   \n",
       "\n",
       "                                              descripcion lpn_nuevo  \\\n",
       "count                                              371316    371316   \n",
       "unique                                              10340     10343   \n",
       "top     SFP 10G LR S= 10GBASE-LR SFP MODULE ENTERPRISE...         0   \n",
       "freq                                                 8632    244048   \n",
       "mean                                                  NaN       NaN   \n",
       "std                                                   NaN       NaN   \n",
       "min                                                   NaN       NaN   \n",
       "25%                                                   NaN       NaN   \n",
       "50%                                                   NaN       NaN   \n",
       "75%                                                   NaN       NaN   \n",
       "max                                                   NaN       NaN   \n",
       "\n",
       "       ubicacion_nueva estado_fisico_usadonuevo tipo_de_articulo   serie  \\\n",
       "count           371316                   371316           371316  371316   \n",
       "unique            8187                        5                6  338896   \n",
       "top                  0                        0                W           \n",
       "freq            244048                   244826           224881   31328   \n",
       "mean               NaN                      NaN              NaN     NaN   \n",
       "std                NaN                      NaN              NaN     NaN   \n",
       "min                NaN                      NaN              NaN     NaN   \n",
       "25%                NaN                      NaN              NaN     NaN   \n",
       "50%                NaN                      NaN              NaN     NaN   \n",
       "75%                NaN                      NaN              NaN     NaN   \n",
       "max                NaN                      NaN              NaN     NaN   \n",
       "\n",
       "       etiqueta  activo     mxn estatus_cip  serie_cleaned  \n",
       "count    371316  371316  371316      371316  371316.000000  \n",
       "unique   230623   61111    2188           8            NaN  \n",
       "top                                                    NaN  \n",
       "freq     135319  289141  275245      267554            NaN  \n",
       "mean        NaN     NaN     NaN         NaN       0.107967  \n",
       "std         NaN     NaN     NaN         NaN       0.310340  \n",
       "min         NaN     NaN     NaN         NaN       0.000000  \n",
       "25%         NaN     NaN     NaN         NaN       0.000000  \n",
       "50%         NaN     NaN     NaN         NaN       0.000000  \n",
       "75%         NaN     NaN     NaN         NaN       0.000000  \n",
       "max         NaN     NaN     NaN         NaN       1.000000  "
      ]
     },
     "execution_count": 11,
     "metadata": {},
     "output_type": "execute_result"
    }
   ],
   "source": [
    "NOrelevantes=['filedate', 'filename', 'hash_id', 'sourceid',\n",
    "              'registry_state', 'datasetname', 'timestamp',\n",
    "              'transaction_status', 'year', 'month', 'day']\n",
    "\n",
    "relevantes=[v for v in df.columns if v not in NOrelevantes]\n",
    "\n",
    "df[relevantes].describe(include='all')"
   ]
  },
  {
   "cell_type": "markdown",
   "metadata": {},
   "source": [
    "#### De esta tabla describe, podemos observar que hay:\n",
    "* Podría crearse un catálogo de almacenes, tipos de artículo y sub_inv\n",
    "* En su mayoría, contamos con variables categóricas, razón por la cuál las secciones estadísticas no arrojan información. \n"
   ]
  },
  {
   "cell_type": "markdown",
   "metadata": {},
   "source": [
    "Se proponen los siguientes catálogos derivados de la fuente de Almacén Inventario:\n",
    "\n",
    "* **sub_inv**: Señala estado del articulo (Nuevo, usado, obsoleto, dañado, ...).\n",
    "* **almacen**: Nombre del almacén en el que se encuentra el elemento.\n",
    "* **tipo_articulo**: Tipo de Artículo.\n",
    "\n",
    "Estos catálogos nos ayudarán a mapear todas las diferentes variantes que existen para cada elemento. \n",
    "\n",
    "Se utilizó el catálogo de Almacenes **Info_almacenes**."
   ]
  },
  {
   "cell_type": "markdown",
   "metadata": {},
   "source": [
    "### 3. Exploración de los datos.\n",
    "De acuerdo al análisis anterior, procedemos a hacer una exploración de los datos con gráficas, de manera particular nos enfocaremos en los catálogos. "
   ]
  },
  {
   "cell_type": "markdown",
   "metadata": {},
   "source": [
    "#### Para empezar, haremos una limpieza por columna:"
   ]
  },
  {
   "cell_type": "code",
   "execution_count": 12,
   "metadata": {},
   "outputs": [],
   "source": [
    "df.qr_alm.replace('0',np.NaN,inplace=True)\n",
    "df.lpn_nuevo.replace('0',np.NaN,inplace=True)\n",
    "df.ubicacion_nueva.replace('0',np.NaN,inplace=True)\n",
    "df.estado_fisico_usadonuevo.replace('0',np.NaN,inplace=True)\n",
    "df.estado_fisico_usadonuevo.replace('-',np.NaN,inplace=True)\n",
    "df.etiqueta.replace('',np.NaN,inplace=True)\n",
    "df.serie.replace('',np.NaN,inplace=True)\n",
    "df.activo.replace('',np.NaN,inplace=True)\n",
    "df.mxn.replace('',np.NaN,inplace=True)"
   ]
  },
  {
   "cell_type": "code",
   "execution_count": 13,
   "metadata": {},
   "outputs": [
    {
     "name": "stderr",
     "output_type": "stream",
     "text": [
      "/opt/cloudera/parcels/Anaconda-5.3.1/lib/python2.7/site-packages/ipykernel_launcher.py:3: SettingWithCopyWarning: \n",
      "A value is trying to be set on a copy of a slice from a DataFrame\n",
      "\n",
      "See the caveats in the documentation: http://pandas.pydata.org/pandas-docs/stable/indexing.html#indexing-view-versus-copy\n",
      "  This is separate from the ipykernel package so we can avoid doing imports until\n",
      "/opt/cloudera/parcels/Anaconda-5.3.1/lib/python2.7/site-packages/ipykernel_launcher.py:10: SettingWithCopyWarning: \n",
      "A value is trying to be set on a copy of a slice from a DataFrame\n",
      "\n",
      "See the caveats in the documentation: http://pandas.pydata.org/pandas-docs/stable/indexing.html#indexing-view-versus-copy\n",
      "  # Remove the CWD from sys.path while we load stuff.\n"
     ]
    }
   ],
   "source": [
    "df.serie[(df.serie=='INCOMPLETO') | (df.serie=='ILEGIBLE') | \n",
    "     (df.serie=='BORRADO') | (df.serie=='VICIBLE') | \n",
    "     (df.serie=='VISIBLE')]=np.NaN\n",
    "      \n",
    "df.etiqueta[(df.etiqueta=='NOTIENE') | (df.etiqueta=='REVISAR') |\n",
    "     (df.etiqueta=='VISIBLE') | (df.etiqueta=='ERROR') |\n",
    "     (df.etiqueta=='VIDIBLE') | (df.etiqueta=='SINACTIVO') |\n",
    "     (df.etiqueta=='ILEGIBLE') | (df.etiqueta=='IP3CAB6CAA') |\n",
    "     (df.etiqueta=='3G113642') | (df.etiqueta=='3G083109') | \n",
    "     (df.etiqueta=='VISIVLE')]=np.NaN\n",
    "\n",
    "\n",
    "especiales=['!','¡',u'¿','~','#','Ñ',\"Ã“\",\"Åƒ\",\"Ã‹\",\"Ã³\",'Ë']\n",
    "df.replace(especiales,np.NaN,regex=True,inplace=True)"
   ]
  },
  {
   "cell_type": "markdown",
   "metadata": {},
   "source": [
    "#### Primer catálogo: *sub_inv*."
   ]
  },
  {
   "cell_type": "markdown",
   "metadata": {},
   "source": [
    "Empezaremos con el catálogo de sub_inv. Siendo un catálogo con entradas manuales, aplicaremos una limpieza a los datos para poder trabajarlos."
   ]
  },
  {
   "cell_type": "code",
   "execution_count": 14,
   "metadata": {
    "scrolled": true
   },
   "outputs": [
    {
     "data": {
      "text/html": [
       "<div>\n",
       "<style scoped>\n",
       "    .dataframe tbody tr th:only-of-type {\n",
       "        vertical-align: middle;\n",
       "    }\n",
       "\n",
       "    .dataframe tbody tr th {\n",
       "        vertical-align: top;\n",
       "    }\n",
       "\n",
       "    .dataframe thead th {\n",
       "        text-align: right;\n",
       "    }\n",
       "</style>\n",
       "<table border=\"1\" class=\"dataframe\">\n",
       "  <thead>\n",
       "    <tr style=\"text-align: right;\">\n",
       "      <th></th>\n",
       "      <th>Sub_inventario</th>\n",
       "      <th>Frecuencia</th>\n",
       "    </tr>\n",
       "  </thead>\n",
       "  <tbody>\n",
       "    <tr>\n",
       "      <th>0</th>\n",
       "      <td>USADO</td>\n",
       "      <td>215873</td>\n",
       "    </tr>\n",
       "    <tr>\n",
       "      <th>1</th>\n",
       "      <td>NUEVO</td>\n",
       "      <td>124275</td>\n",
       "    </tr>\n",
       "    <tr>\n",
       "      <th>2</th>\n",
       "      <td>REFA-USADO</td>\n",
       "      <td>11172</td>\n",
       "    </tr>\n",
       "    <tr>\n",
       "      <th>3</th>\n",
       "      <td>REFA-NUEVO</td>\n",
       "      <td>8344</td>\n",
       "    </tr>\n",
       "    <tr>\n",
       "      <th>4</th>\n",
       "      <td>OBS</td>\n",
       "      <td>5890</td>\n",
       "    </tr>\n",
       "    <tr>\n",
       "      <th>5</th>\n",
       "      <td>IBS-NUEVO</td>\n",
       "      <td>4058</td>\n",
       "    </tr>\n",
       "    <tr>\n",
       "      <th>6</th>\n",
       "      <td>REFA-DAÐ</td>\n",
       "      <td>572</td>\n",
       "    </tr>\n",
       "    <tr>\n",
       "      <th>7</th>\n",
       "      <td>REFA-OBS</td>\n",
       "      <td>533</td>\n",
       "    </tr>\n",
       "    <tr>\n",
       "      <th>8</th>\n",
       "      <td>MOBILIARIO</td>\n",
       "      <td>328</td>\n",
       "    </tr>\n",
       "    <tr>\n",
       "      <th>9</th>\n",
       "      <td>DAN</td>\n",
       "      <td>90</td>\n",
       "    </tr>\n",
       "    <tr>\n",
       "      <th>10</th>\n",
       "      <td>REFA-REP</td>\n",
       "      <td>85</td>\n",
       "    </tr>\n",
       "    <tr>\n",
       "      <th>11</th>\n",
       "      <td>CUARENTENA</td>\n",
       "      <td>65</td>\n",
       "    </tr>\n",
       "    <tr>\n",
       "      <th>12</th>\n",
       "      <td>REFA-DAN</td>\n",
       "      <td>17</td>\n",
       "    </tr>\n",
       "    <tr>\n",
       "      <th>13</th>\n",
       "      <td>ACLARACION</td>\n",
       "      <td>8</td>\n",
       "    </tr>\n",
       "    <tr>\n",
       "      <th>14</th>\n",
       "      <td>DEV-NUEVO</td>\n",
       "      <td>3</td>\n",
       "    </tr>\n",
       "    <tr>\n",
       "      <th>15</th>\n",
       "      <td>RMA</td>\n",
       "      <td>3</td>\n",
       "    </tr>\n",
       "  </tbody>\n",
       "</table>\n",
       "</div>"
      ],
      "text/plain": [
       "   Sub_inventario  Frecuencia\n",
       "0           USADO      215873\n",
       "1           NUEVO      124275\n",
       "2      REFA-USADO       11172\n",
       "3      REFA-NUEVO        8344\n",
       "4             OBS        5890\n",
       "5       IBS-NUEVO        4058\n",
       "6        REFA-DAÐ         572\n",
       "7        REFA-OBS         533\n",
       "8      MOBILIARIO         328\n",
       "9             DAN          90\n",
       "10       REFA-REP          85\n",
       "11     CUARENTENA          65\n",
       "12       REFA-DAN          17\n",
       "13     ACLARACION           8\n",
       "14      DEV-NUEVO           3\n",
       "15            RMA           3"
      ]
     },
     "execution_count": 14,
     "metadata": {},
     "output_type": "execute_result"
    }
   ],
   "source": [
    "aux=[\"Ã“\",\"Åƒ\",\"Ã‹\",\"Ã³\"]\n",
    "df.sub_inv=df.sub_inv.str.upper()\n",
    "df.sub_inv.replace(u'Á',u'A', regex=True, inplace=True)\n",
    "df.sub_inv.replace(u'É',u'E', regex=True, inplace=True)\n",
    "df.sub_inv.replace(u'Í',u'I', regex=True, inplace=True)\n",
    "df.sub_inv.replace(u'Ó',u'O', regex=True, inplace=True)\n",
    "df.sub_inv.replace(u'Ú',u'U', regex=True, inplace=True)\n",
    "df.sub_inv.replace(u'Ń',u'U', regex=True, inplace=True)\n",
    "df.sub_inv.replace(u'Đ',u'N', regex=True, inplace=True)\n",
    "df.sub_inv.replace(u'Ñ',u'N', regex=True, inplace=True)\n",
    "df.sub_inv.replace(u'Ë',u'E', regex=True, inplace=True)\n",
    "df.sub_inv.replace(u'USADIS',u'USADO', regex=True, inplace=True)\n",
    "df.sub_inv.replace(u'USADODISP',u'USADO', regex=True, inplace=True)\n",
    "df.sub_inv.replace(u'UDISP',u'USADO', regex=True, inplace=True)\n",
    "df.sub_inv.replace(u'USADOS',u'USADO', regex=True, inplace=True)\n",
    "df.sub_inv.replace(u'OBSOLETO',u'OBS', regex=True, inplace=True)\n",
    "df.sub_inv.replace(u'NUEVOS',u'NUEVO', regex=True, inplace=True)\n",
    "df.sub_inv.replace(u'ACLARACIEN',u'ACLARACION', regex=True, inplace=True)\n",
    "df.sub_inv.replace(u'DANADO',u'DAN', regex=True, inplace=True)\n",
    "df.sub_inv.replace(u'REFA-DAU',u'REFA-DAN', regex=True, inplace=True)\n",
    "df.sub_inv.replace(u'RF',u'REFA', regex=True, inplace=True)\n",
    "df.sub_inv.replace(aux,'', regex=True, inplace=True)\n",
    "df.sub_inv=df.sub_inv.str.strip()\n",
    "\n",
    "catsub_inv=pd.DataFrame(df.sub_inv.value_counts())\n",
    "index=list(range(0,catsub_inv.shape[0]))           \n",
    "subinv=pd.DataFrame(catsub_inv.index,index=index)\n",
    "subinv.columns=['Sub_inventario']\n",
    "catsub_inv.index=index\n",
    "catsub_inv.columns=['Frecuencia']\n",
    "catsub_inv=pd.concat([subinv,catsub_inv],axis=1)\n",
    "catsub_inv"
   ]
  },
  {
   "cell_type": "markdown",
   "metadata": {},
   "source": [
    "Después de limpiar el catálogo, ahora podemos hacer la visualización más adecuada.\n",
    "Empezaremos usando un Histograma."
   ]
  },
  {
   "cell_type": "code",
   "execution_count": 15,
   "metadata": {},
   "outputs": [
    {
     "data": {
      "text/plain": [
       "Text(0.5,1,'Distribucion de los estados del Inventario de Almacen')"
      ]
     },
     "execution_count": 15,
     "metadata": {},
     "output_type": "execute_result"
    },
    {
     "data": {
      "image/png": "[encoded data removed]",
      "text/plain": [
       "<Figure size 720x432 with 1 Axes>"
      ]
     },
     "metadata": {
      "needs_background": "light"
     },
     "output_type": "display_data"
    }
   ],
   "source": [
    "catsub_inv.plot(x='Sub_inventario',\n",
    "                y='Frecuencia',\n",
    "                kind='bar',\n",
    "                figsize=(10,6),\n",
    "                rot=90,colormap='rainbow_r')\n",
    "plt.xlabel('Sub inventario')\n",
    "plt.ylabel('Frecuencia')\n",
    "plt.title('Distribucion de los estados del Inventario de Almacen')"
   ]
  },
  {
   "cell_type": "markdown",
   "metadata": {},
   "source": [
    "Parece que hemos logrado un catálogo bien definido. Podrá revisarse en la sección de catálogos."
   ]
  },
  {
   "cell_type": "markdown",
   "metadata": {},
   "source": [
    "#### Segundo catálogo: *Almacén*\n",
    "Seguimos el mismo procedimiento, limpieza, normalización y visualización."
   ]
  },
  {
   "cell_type": "code",
   "execution_count": 16,
   "metadata": {},
   "outputs": [
    {
     "data": {
      "text/html": [
       "<div>\n",
       "<style scoped>\n",
       "    .dataframe tbody tr th:only-of-type {\n",
       "        vertical-align: middle;\n",
       "    }\n",
       "\n",
       "    .dataframe tbody tr th {\n",
       "        vertical-align: top;\n",
       "    }\n",
       "\n",
       "    .dataframe thead th {\n",
       "        text-align: right;\n",
       "    }\n",
       "</style>\n",
       "<table border=\"1\" class=\"dataframe\">\n",
       "  <thead>\n",
       "    <tr style=\"text-align: right;\">\n",
       "      <th></th>\n",
       "      <th>id</th>\n",
       "      <th>qr_alm</th>\n",
       "      <th>org</th>\n",
       "      <th>sub_inv</th>\n",
       "      <th>almacen</th>\n",
       "      <th>articulo</th>\n",
       "      <th>descripcion</th>\n",
       "      <th>lpn_nuevo</th>\n",
       "      <th>ubicacion_nueva</th>\n",
       "      <th>estado_fisico_usadonuevo</th>\n",
       "      <th>...</th>\n",
       "      <th>etiqueta</th>\n",
       "      <th>activo</th>\n",
       "      <th>mxn</th>\n",
       "      <th>estatus_cip</th>\n",
       "      <th>datasetname</th>\n",
       "      <th>filedate</th>\n",
       "      <th>year</th>\n",
       "      <th>month</th>\n",
       "      <th>day</th>\n",
       "      <th>serie_cleaned</th>\n",
       "    </tr>\n",
       "  </thead>\n",
       "  <tbody>\n",
       "    <tr>\n",
       "      <th>0</th>\n",
       "      <td>348239</td>\n",
       "      <td>NaN</td>\n",
       "      <td>1MX</td>\n",
       "      <td>USADO</td>\n",
       "      <td>Sta Cecilia AT&amp;T</td>\n",
       "      <td>W.1003061</td>\n",
       "      <td>UPS LIEBERT POWERSURE PSA MODELO PSA 1500 MT3-...</td>\n",
       "      <td>NaN</td>\n",
       "      <td>NaN</td>\n",
       "      <td>NaN</td>\n",
       "      <td>...</td>\n",
       "      <td>3G233000</td>\n",
       "      <td>NaN</td>\n",
       "      <td>NaN</td>\n",
       "      <td></td>\n",
       "      <td>sa_almacen_inventory</td>\n",
       "      <td>20190930</td>\n",
       "      <td>2019</td>\n",
       "      <td>9</td>\n",
       "      <td>30</td>\n",
       "      <td>0</td>\n",
       "    </tr>\n",
       "    <tr>\n",
       "      <th>1</th>\n",
       "      <td>254119</td>\n",
       "      <td>NaN</td>\n",
       "      <td>1PF</td>\n",
       "      <td>USADO</td>\n",
       "      <td>PROVA SMO</td>\n",
       "      <td>W.1603020</td>\n",
       "      <td>INTEGRATED SITE CONTROLLER (ISC)</td>\n",
       "      <td>NaN</td>\n",
       "      <td>NaN</td>\n",
       "      <td>NaN</td>\n",
       "      <td>...</td>\n",
       "      <td>164238</td>\n",
       "      <td>NaN</td>\n",
       "      <td>NaN</td>\n",
       "      <td></td>\n",
       "      <td>sa_almacen_inventory</td>\n",
       "      <td>20190930</td>\n",
       "      <td>2019</td>\n",
       "      <td>9</td>\n",
       "      <td>30</td>\n",
       "      <td>0</td>\n",
       "    </tr>\n",
       "    <tr>\n",
       "      <th>2</th>\n",
       "      <td>284888</td>\n",
       "      <td>NaN</td>\n",
       "      <td>2PX</td>\n",
       "      <td>REFA-USADO</td>\n",
       "      <td>DHL Tepotzotlan</td>\n",
       "      <td>W.9056071</td>\n",
       "      <td>RRU OPTICAL TRANSCEIVER(9.8G)</td>\n",
       "      <td>NaN</td>\n",
       "      <td>NaN</td>\n",
       "      <td>NaN</td>\n",
       "      <td>...</td>\n",
       "      <td>NaN</td>\n",
       "      <td>NaN</td>\n",
       "      <td>NaN</td>\n",
       "      <td></td>\n",
       "      <td>sa_almacen_inventory</td>\n",
       "      <td>20190930</td>\n",
       "      <td>2019</td>\n",
       "      <td>9</td>\n",
       "      <td>30</td>\n",
       "      <td>0</td>\n",
       "    </tr>\n",
       "    <tr>\n",
       "      <th>3</th>\n",
       "      <td>242771</td>\n",
       "      <td>NaN</td>\n",
       "      <td>1PF</td>\n",
       "      <td>USADO</td>\n",
       "      <td>PROVA SMO</td>\n",
       "      <td>W.1510007</td>\n",
       "      <td>GABINETE PARA EBTS</td>\n",
       "      <td>NaN</td>\n",
       "      <td>NaN</td>\n",
       "      <td>NaN</td>\n",
       "      <td>...</td>\n",
       "      <td>ED00008895</td>\n",
       "      <td>NaN</td>\n",
       "      <td>NaN</td>\n",
       "      <td></td>\n",
       "      <td>sa_almacen_inventory</td>\n",
       "      <td>20190930</td>\n",
       "      <td>2019</td>\n",
       "      <td>9</td>\n",
       "      <td>30</td>\n",
       "      <td>0</td>\n",
       "    </tr>\n",
       "    <tr>\n",
       "      <th>4</th>\n",
       "      <td>70943</td>\n",
       "      <td>2PX1S19-07477</td>\n",
       "      <td>2PX</td>\n",
       "      <td>IBS-NUEVO</td>\n",
       "      <td>DHL Tepotzotlan</td>\n",
       "      <td>W.3410138</td>\n",
       "      <td>ATENUADORES 10 DB NM 30W LOW PIM (&lt;-160DBC) / ...</td>\n",
       "      <td>MEX2017022400065</td>\n",
       "      <td>RF046A</td>\n",
       "      <td>NaN</td>\n",
       "      <td>...</td>\n",
       "      <td>00583496</td>\n",
       "      <td>2317305</td>\n",
       "      <td>13955.33</td>\n",
       "      <td>Warehouse</td>\n",
       "      <td>sa_almacen_inventory</td>\n",
       "      <td>20190930</td>\n",
       "      <td>2019</td>\n",
       "      <td>9</td>\n",
       "      <td>30</td>\n",
       "      <td>0</td>\n",
       "    </tr>\n",
       "  </tbody>\n",
       "</table>\n",
       "<p>5 rows × 22 columns</p>\n",
       "</div>"
      ],
      "text/plain": [
       "       id         qr_alm  org     sub_inv           almacen   articulo  \\\n",
       "0  348239            NaN  1MX       USADO  Sta Cecilia AT&T  W.1003061   \n",
       "1  254119            NaN  1PF       USADO         PROVA SMO  W.1603020   \n",
       "2  284888            NaN  2PX  REFA-USADO   DHL Tepotzotlan  W.9056071   \n",
       "3  242771            NaN  1PF       USADO         PROVA SMO  W.1510007   \n",
       "4   70943  2PX1S19-07477  2PX   IBS-NUEVO   DHL Tepotzotlan  W.3410138   \n",
       "\n",
       "                                         descripcion         lpn_nuevo  \\\n",
       "0  UPS LIEBERT POWERSURE PSA MODELO PSA 1500 MT3-...               NaN   \n",
       "1                   INTEGRATED SITE CONTROLLER (ISC)               NaN   \n",
       "2                      RRU OPTICAL TRANSCEIVER(9.8G)               NaN   \n",
       "3                                 GABINETE PARA EBTS               NaN   \n",
       "4  ATENUADORES 10 DB NM 30W LOW PIM (<-160DBC) / ...  MEX2017022400065   \n",
       "\n",
       "  ubicacion_nueva estado_fisico_usadonuevo      ...          etiqueta  \\\n",
       "0             NaN                      NaN      ...          3G233000   \n",
       "1             NaN                      NaN      ...            164238   \n",
       "2             NaN                      NaN      ...               NaN   \n",
       "3             NaN                      NaN      ...        ED00008895   \n",
       "4          RF046A                      NaN      ...          00583496   \n",
       "\n",
       "    activo       mxn estatus_cip           datasetname  filedate  year  month  \\\n",
       "0      NaN       NaN              sa_almacen_inventory  20190930  2019      9   \n",
       "1      NaN       NaN              sa_almacen_inventory  20190930  2019      9   \n",
       "2      NaN       NaN              sa_almacen_inventory  20190930  2019      9   \n",
       "3      NaN       NaN              sa_almacen_inventory  20190930  2019      9   \n",
       "4  2317305  13955.33   Warehouse  sa_almacen_inventory  20190930  2019      9   \n",
       "\n",
       "   day  serie_cleaned  \n",
       "0   30              0  \n",
       "1   30              0  \n",
       "2   30              0  \n",
       "3   30              0  \n",
       "4   30              0  \n",
       "\n",
       "[5 rows x 22 columns]"
      ]
     },
     "execution_count": 16,
     "metadata": {},
     "output_type": "execute_result"
    }
   ],
   "source": [
    "alm_catalogo=pd.read_csv('/home/cz014h/Info_Almacenes_clean.csv')\n",
    "alm_catalogo.columns=['org','almacen','latitud','longitud']\n",
    "\n",
    "df.merge(alm_catalogo,on='org', how='left')\n",
    "df.head()"
   ]
  },
  {
   "cell_type": "markdown",
   "metadata": {},
   "source": [
    "#### Veamos en un mapa la distribución de los almacenes:"
   ]
  },
  {
   "cell_type": "code",
   "execution_count": 17,
   "metadata": {},
   "outputs": [
    {
     "name": "stderr",
     "output_type": "stream",
     "text": [
      "/opt/cloudera/parcels/Anaconda-5.3.1/lib/python2.7/site-packages/folium/__init__.py:59: UserWarning: This version of folium is the last to support Python 2. Transition to Python 3 to be able to receive updates and fixes. Check out https://python3statement.org/ for more info.\n",
      "  UserWarning\n"
     ]
    },
    {
     "data": {
      "text/html": [
       "<div style=\"width:100%;\"><div style=\"position:relative;width:100%;height:0;padding-bottom:60%;\"><iframe src=\"data:text/html;charset=utf-8;base64,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\" style=\"position:absolute;width:100%;height:100%;left:0;top:0;border:none !important;\" allowfullscreen webkitallowfullscreen mozallowfullscreen></iframe></div></div>"
      ],
      "text/plain": [
       "<folium.folium.Map at 0x7ff4c537ee50>"
      ]
     },
     "execution_count": 17,
     "metadata": {},
     "output_type": "execute_result"
    }
   ],
   "source": [
    "mapa_alm=alm_catalogo.loc[:,['almacen','latitud','longitud']].dropna()\n",
    "mapa_alm.drop_duplicates(inplace=True)\n",
    "\n",
    "import folium\n",
    "from folium import plugins\n",
    "\n",
    "Latitud=21.607871\n",
    "Longitud=-101.201933\n",
    "mapa=folium.Map(location=[Latitud,Longitud],zoom_start=4.8)\n",
    "\n",
    "storages = folium.map.FeatureGroup()\n",
    "\n",
    "for lat, lng, in zip(mapa_alm.latitud, mapa_alm.longitud):\n",
    "    storages.add_child(\n",
    "        folium.features.Marker(\n",
    "            [lat, lng]\n",
    "        )\n",
    "    )\n",
    "    \n",
    "latitudes = list(mapa_alm.latitud)\n",
    "longitudes = list(mapa_alm.longitud)\n",
    "labels = list(mapa_alm.almacen)\n",
    "\n",
    "for lat, lng, label in zip(latitudes, longitudes, labels):\n",
    "    folium.Marker([lat, lng], popup=label).add_to(storages) \n",
    "mapa.save('Mapa de almacenes ATT.html')\n",
    "mapa.add_child(storages)"
   ]
  },
  {
   "cell_type": "code",
   "execution_count": 18,
   "metadata": {
    "scrolled": true
   },
   "outputs": [
    {
     "data": {
      "text/html": [
       "<div>\n",
       "<style scoped>\n",
       "    .dataframe tbody tr th:only-of-type {\n",
       "        vertical-align: middle;\n",
       "    }\n",
       "\n",
       "    .dataframe tbody tr th {\n",
       "        vertical-align: top;\n",
       "    }\n",
       "\n",
       "    .dataframe thead th {\n",
       "        text-align: right;\n",
       "    }\n",
       "</style>\n",
       "<table border=\"1\" class=\"dataframe\">\n",
       "  <thead>\n",
       "    <tr style=\"text-align: right;\">\n",
       "      <th></th>\n",
       "      <th>org</th>\n",
       "      <th>almacen</th>\n",
       "      <th>tipo_de_articulo</th>\n",
       "      <th>serie</th>\n",
       "      <th>activo</th>\n",
       "      <th>mxn</th>\n",
       "      <th>etiqueta</th>\n",
       "    </tr>\n",
       "  </thead>\n",
       "  <tbody>\n",
       "    <tr>\n",
       "      <th>0</th>\n",
       "      <td>1MX</td>\n",
       "      <td>Sta Cecilia AT&amp;T</td>\n",
       "      <td>W</td>\n",
       "      <td>1328500088PS23M</td>\n",
       "      <td>NaN</td>\n",
       "      <td>NaN</td>\n",
       "      <td>3G233000</td>\n",
       "    </tr>\n",
       "    <tr>\n",
       "      <th>1</th>\n",
       "      <td>1PF</td>\n",
       "      <td>PROVA SMO</td>\n",
       "      <td>W</td>\n",
       "      <td>CAF060P8R7</td>\n",
       "      <td>NaN</td>\n",
       "      <td>NaN</td>\n",
       "      <td>164238</td>\n",
       "    </tr>\n",
       "    <tr>\n",
       "      <th>2</th>\n",
       "      <td>2PX</td>\n",
       "      <td>DHL Tepotzotlan</td>\n",
       "      <td>W</td>\n",
       "      <td>21340607132DN2765B01967</td>\n",
       "      <td>NaN</td>\n",
       "      <td>NaN</td>\n",
       "      <td>NaN</td>\n",
       "    </tr>\n",
       "    <tr>\n",
       "      <th>3</th>\n",
       "      <td>1PF</td>\n",
       "      <td>PROVA SMO</td>\n",
       "      <td>W</td>\n",
       "      <td>ED00008895</td>\n",
       "      <td>NaN</td>\n",
       "      <td>NaN</td>\n",
       "      <td>ED00008895</td>\n",
       "    </tr>\n",
       "    <tr>\n",
       "      <th>4</th>\n",
       "      <td>2PX</td>\n",
       "      <td>DHL Tepotzotlan</td>\n",
       "      <td>W</td>\n",
       "      <td>C921407260018</td>\n",
       "      <td>2317305</td>\n",
       "      <td>13955.33</td>\n",
       "      <td>00583496</td>\n",
       "    </tr>\n",
       "  </tbody>\n",
       "</table>\n",
       "</div>"
      ],
      "text/plain": [
       "   org           almacen tipo_de_articulo                    serie   activo  \\\n",
       "0  1MX  Sta Cecilia AT&T                W          1328500088PS23M      NaN   \n",
       "1  1PF         PROVA SMO                W               CAF060P8R7      NaN   \n",
       "2  2PX   DHL Tepotzotlan                W  21340607132DN2765B01967      NaN   \n",
       "3  1PF         PROVA SMO                W               ED00008895      NaN   \n",
       "4  2PX   DHL Tepotzotlan                W            C921407260018  2317305   \n",
       "\n",
       "        mxn    etiqueta  \n",
       "0       NaN    3G233000  \n",
       "1       NaN      164238  \n",
       "2       NaN         NaN  \n",
       "3       NaN  ED00008895  \n",
       "4  13955.33    00583496  "
      ]
     },
     "execution_count": 18,
     "metadata": {},
     "output_type": "execute_result"
    }
   ],
   "source": [
    "aux=df.loc[:,['org','almacen','tipo_de_articulo','serie','activo','mxn','etiqueta']]\n",
    "#aux.dropna(thresh=5,inplace=True)\n",
    "aux.head()"
   ]
  },
  {
   "cell_type": "markdown",
   "metadata": {},
   "source": [
    "#### Normalización:"
   ]
  },
  {
   "cell_type": "code",
   "execution_count": 19,
   "metadata": {
    "scrolled": true
   },
   "outputs": [
    {
     "name": "stderr",
     "output_type": "stream",
     "text": [
      "/opt/cloudera/parcels/Anaconda-5.3.1/lib/python2.7/site-packages/ipykernel_launcher.py:13: SettingWithCopyWarning: \n",
      "A value is trying to be set on a copy of a slice from a DataFrame\n",
      "\n",
      "See the caveats in the documentation: http://pandas.pydata.org/pandas-docs/stable/indexing.html#indexing-view-versus-copy\n",
      "  del sys.path[0]\n",
      "/opt/cloudera/parcels/Anaconda-5.3.1/lib/python2.7/site-packages/pandas/core/indexing.py:189: SettingWithCopyWarning: \n",
      "A value is trying to be set on a copy of a slice from a DataFrame\n",
      "\n",
      "See the caveats in the documentation: http://pandas.pydata.org/pandas-docs/stable/indexing.html#indexing-view-versus-copy\n",
      "  self._setitem_with_indexer(indexer, value)\n"
     ]
    },
    {
     "data": {
      "text/html": [
       "<div>\n",
       "<style scoped>\n",
       "    .dataframe tbody tr th:only-of-type {\n",
       "        vertical-align: middle;\n",
       "    }\n",
       "\n",
       "    .dataframe tbody tr th {\n",
       "        vertical-align: top;\n",
       "    }\n",
       "\n",
       "    .dataframe thead th {\n",
       "        text-align: right;\n",
       "    }\n",
       "</style>\n",
       "<table border=\"1\" class=\"dataframe\">\n",
       "  <thead>\n",
       "    <tr style=\"text-align: right;\">\n",
       "      <th></th>\n",
       "      <th>almacen</th>\n",
       "      <th>Porcentaje</th>\n",
       "    </tr>\n",
       "  </thead>\n",
       "  <tbody>\n",
       "    <tr>\n",
       "      <th>0</th>\n",
       "      <td>DHL Tepotzotlan</td>\n",
       "      <td>37.864784</td>\n",
       "    </tr>\n",
       "    <tr>\n",
       "      <th>1</th>\n",
       "      <td>Sta Cecilia AT&amp;T</td>\n",
       "      <td>31.360620</td>\n",
       "    </tr>\n",
       "    <tr>\n",
       "      <th>2</th>\n",
       "      <td>PROVA SMO</td>\n",
       "      <td>16.848722</td>\n",
       "    </tr>\n",
       "    <tr>\n",
       "      <th>3</th>\n",
       "      <td>Glaco AT&amp;T</td>\n",
       "      <td>6.556679</td>\n",
       "    </tr>\n",
       "    <tr>\n",
       "      <th>4</th>\n",
       "      <td>Otros</td>\n",
       "      <td>7.369195</td>\n",
       "    </tr>\n",
       "  </tbody>\n",
       "</table>\n",
       "</div>"
      ],
      "text/plain": [
       "            almacen  Porcentaje\n",
       "0   DHL Tepotzotlan   37.864784\n",
       "1  Sta Cecilia AT&T   31.360620\n",
       "2         PROVA SMO   16.848722\n",
       "3        Glaco AT&T    6.556679\n",
       "4             Otros    7.369195"
      ]
     },
     "execution_count": 19,
     "metadata": {},
     "output_type": "execute_result"
    }
   ],
   "source": [
    "counts=(aux.almacen.value_counts()/aux.almacen.value_counts().sum())*100\n",
    "\n",
    "Ind=list(range(0,len(counts)))\n",
    "Alm_counts=pd.DataFrame(counts)\n",
    "Alm_counts.columns=['Porcentaje']\n",
    "Almacenes=pd.DataFrame(Alm_counts.index)\n",
    "Almacenes.columns=['almacen']\n",
    "Alm_counts.index=Ind\n",
    "Alm_counts= pd.concat([Almacenes,Alm_counts],axis=1)\n",
    "\n",
    "for v in range(0,len(counts)):\n",
    "    if Alm_counts.Porcentaje[v] < 3:\n",
    "        Alm_counts.almacen[v]='Otros'\n",
    "\n",
    "Alm_counts.Porcentaje.loc[Alm_counts['almacen'] == 'Otros'] = Alm_counts[Alm_counts.almacen=='Otros'].Porcentaje.sum()\n",
    "Alm_counts=Alm_counts.head(5)\n",
    "Alm_counts"
   ]
  },
  {
   "cell_type": "code",
   "execution_count": 20,
   "metadata": {},
   "outputs": [
    {
     "data": {
      "image/png": "[encoded data removed]",
      "text/plain": [
       "<Figure size 1080x576 with 2 Axes>"
      ]
     },
     "metadata": {
      "needs_background": "light"
     },
     "output_type": "display_data"
    }
   ],
   "source": [
    "#Visualización:\n",
    "fig=plt.figure()\n",
    "ax0=fig.add_subplot(1,2,1)\n",
    "ax1=fig.add_subplot(1,2,2)\n",
    "\n",
    "#Subplot1: Bar chart\n",
    "Alm_counts.plot(kind='bar',figsize=(10,6),colormap='rainbow_r',ax=ax0)\n",
    "ax0.set_xlabel('almacen')\n",
    "ax0.set_ylabel('Frecuencia')\n",
    "ax0.set_title('Distribucion de frecuencias de Almacenes')\n",
    "\n",
    "#Subplot2: Bar chart\n",
    "explode_list=[.2,0,.13,0,0]\n",
    "color_list=['royalblue','lightcoral','powderblue','slateblue','silver']\n",
    "Alm_counts['Porcentaje'].plot(kind='pie',         \n",
    "                    figsize=(15,8),\n",
    "                    autopct='%1.1f%%',\n",
    "                    startangle=90,\n",
    "                    shadow=True,\n",
    "                    labels=None,\n",
    "                    pctdistance=1.14,\n",
    "                    colors=color_list,\n",
    "                               ax=ax1,\n",
    "                    explode=explode_list)\n",
    "ax1.set_title('Distribucion de frecuencias de Almacenes')\n",
    "ax1.axis('equal')\n",
    "ax1.legend(labels=Alm_counts.almacen,loc='upper left')\n",
    "\n",
    "plt.show()"
   ]
  },
  {
   "cell_type": "markdown",
   "metadata": {},
   "source": [
    "Podemos observar que es en los almacenes: \"**DHL Tepotzotlan, STA Cecilia y** y los correspondientes a **PROVA SMO**\" donde se distribuyen la mayoría de elementos.  \n",
    "Esto podría ser un indicador interesante en un futuro. Se encontrará el catálogo en la sección de catálogos."
   ]
  },
  {
   "cell_type": "markdown",
   "metadata": {},
   "source": [
    "<div style=\"width: 100%; clear: both; font-family: Verdana;\">\n",
    "    <p> Tercer catálogo: <strong>Tipo de artículo</strong>.\n",
    "        <br>Procederemos a usar limpieza  en caso necesario y visualización.\n",
    "        </p>\n",
    "</div>"
   ]
  },
  {
   "cell_type": "code",
   "execution_count": 21,
   "metadata": {},
   "outputs": [
    {
     "data": {
      "text/html": [
       "<div>\n",
       "<style scoped>\n",
       "    .dataframe tbody tr th:only-of-type {\n",
       "        vertical-align: middle;\n",
       "    }\n",
       "\n",
       "    .dataframe tbody tr th {\n",
       "        vertical-align: top;\n",
       "    }\n",
       "\n",
       "    .dataframe thead th {\n",
       "        text-align: right;\n",
       "    }\n",
       "</style>\n",
       "<table border=\"1\" class=\"dataframe\">\n",
       "  <thead>\n",
       "    <tr style=\"text-align: right;\">\n",
       "      <th></th>\n",
       "      <th>Tipo_Artículo</th>\n",
       "    </tr>\n",
       "  </thead>\n",
       "  <tbody>\n",
       "    <tr>\n",
       "      <th>0</th>\n",
       "      <td>W</td>\n",
       "    </tr>\n",
       "    <tr>\n",
       "      <th>1</th>\n",
       "      <td>T</td>\n",
       "    </tr>\n",
       "    <tr>\n",
       "      <th>2</th>\n",
       "      <td>V</td>\n",
       "    </tr>\n",
       "    <tr>\n",
       "      <th>3</th>\n",
       "      <td>C</td>\n",
       "    </tr>\n",
       "    <tr>\n",
       "      <th>4</th>\n",
       "      <td>NP</td>\n",
       "    </tr>\n",
       "    <tr>\n",
       "      <th>5</th>\n",
       "      <td>N</td>\n",
       "    </tr>\n",
       "  </tbody>\n",
       "</table>\n",
       "</div>"
      ],
      "text/plain": [
       "  Tipo_Artículo\n",
       "0             W\n",
       "1             T\n",
       "2             V\n",
       "3             C\n",
       "4            NP\n",
       "5             N"
      ]
     },
     "execution_count": 21,
     "metadata": {},
     "output_type": "execute_result"
    }
   ],
   "source": [
    "aux.tipo_de_articulo=aux.tipo_de_articulo.str.upper()\n",
    "TipoArt=pd.DataFrame(aux.tipo_de_articulo.unique())\n",
    "TipoArt.columns=['Tipo_Artículo']\n",
    "TipoArt"
   ]
  },
  {
   "cell_type": "code",
   "execution_count": 22,
   "metadata": {},
   "outputs": [
    {
     "data": {
      "text/html": [
       "\n",
       "\n",
       "\n",
       "\n",
       "\n",
       "\n",
       "  <div class=\"bk-root\" id=\"cc41cc9c-1475-4f1b-a60b-6faecf5babe6\"></div>\n"
      ]
     },
     "metadata": {},
     "output_type": "display_data"
    },
    {
     "data": {
      "application/javascript": [
       "(function(root) {\n",
       "  function embed_document(root) {\n",
       "    \n",
       "  var docs_json = {\"00b02535-fd37-4ecc-b860-3c359b636fed\":{\"roots\":{\"references\":[{\"attributes\":{},\"id\":\"b481c064-e899-4f3c-b9cb-b727be6daf7a\",\"type\":\"BasicTicker\"},{\"attributes\":{\"active_drag\":\"auto\",\"active_inspect\":\"auto\",\"active_multi\":null,\"active_scroll\":\"auto\",\"active_tap\":\"auto\",\"tools\":[{\"id\":\"b5633753-420e-48ac-b445-8b53a29f918a\",\"type\":\"PanTool\"},{\"id\":\"7e69dd6c-f0eb-4126-8978-b2d9f779fbf7\",\"type\":\"WheelZoomTool\"},{\"id\":\"8f619629-cb6d-4a33-be17-31ec1019b6db\",\"type\":\"BoxZoomTool\"},{\"id\":\"b8578ddf-5e43-4a38-a886-671cc150d25c\",\"type\":\"SaveTool\"},{\"id\":\"0c2760b3-27df-4afa-9431-59782a08008e\",\"type\":\"ResetTool\"},{\"id\":\"b829f068-1a5c-423f-b21c-6010eaf6a9af\",\"type\":\"HelpTool\"}]},\"id\":\"2ac8bd29-fa65-42c7-ae2b-8c91fe7b7654\",\"type\":\"Toolbar\"},{\"attributes\":{\"formatter\":{\"id\":\"941c4bd3-3c20-4da7-9f8e-13e5a0408ddc\",\"type\":\"BasicTickFormatter\"},\"plot\":{\"id\":\"6c962076-1827-403a-8992-7d5661a26ebf\",\"subtype\":\"Figure\",\"type\":\"Plot\"},\"ticker\":{\"id\":\"b481c064-e899-4f3c-b9cb-b727be6daf7a\",\"type\":\"BasicTicker\"}},\"id\":\"32f7d5d7-2e0a-4841-ac2f-fe0641679d31\",\"type\":\"LinearAxis\"},{\"attributes\":{\"grid_line_color\":{\"value\":null},\"plot\":{\"id\":\"6c962076-1827-403a-8992-7d5661a26ebf\",\"subtype\":\"Figure\",\"type\":\"Plot\"},\"ticker\":{\"id\":\"aac9ac9f-f82e-4278-8e3d-3398857c051a\",\"type\":\"CategoricalTicker\"}},\"id\":\"73e86384-b432-4589-a992-053d30669891\",\"type\":\"Grid\"},{\"attributes\":{\"below\":[{\"id\":\"92e58c78-4005-49aa-9c71-432ed7219e68\",\"type\":\"CategoricalAxis\"}],\"left\":[{\"id\":\"32f7d5d7-2e0a-4841-ac2f-fe0641679d31\",\"type\":\"LinearAxis\"}],\"plot_height\":300,\"plot_width\":850,\"renderers\":[{\"id\":\"92e58c78-4005-49aa-9c71-432ed7219e68\",\"type\":\"CategoricalAxis\"},{\"id\":\"73e86384-b432-4589-a992-053d30669891\",\"type\":\"Grid\"},{\"id\":\"32f7d5d7-2e0a-4841-ac2f-fe0641679d31\",\"type\":\"LinearAxis\"},{\"id\":\"fa398cb2-59da-49ff-a8a6-761e98f17c3e\",\"type\":\"Grid\"},{\"id\":\"3d682d69-4fa7-4c3e-bcc8-489e446235ed\",\"type\":\"BoxAnnotation\"},{\"id\":\"fcacb6f7-c6a8-40ce-a86c-e296dd2c35bb\",\"type\":\"Legend\"},{\"id\":\"2f349396-8e1f-4c20-943f-bff295e7d5d7\",\"type\":\"GlyphRenderer\"}],\"title\":{\"id\":\"1c40b38e-304a-4f42-b549-616773d0b322\",\"type\":\"Title\"},\"toolbar\":{\"id\":\"2ac8bd29-fa65-42c7-ae2b-8c91fe7b7654\",\"type\":\"Toolbar\"},\"x_range\":{\"id\":\"14110f7d-07f6-430c-ad2d-6b8e597a4948\",\"type\":\"FactorRange\"},\"x_scale\":{\"id\":\"c51f1b92-8d25-4e36-ae8d-edd7c41060ea\",\"type\":\"CategoricalScale\"},\"y_range\":{\"id\":\"2f447e17-4696-4518-9eb0-71e365aaa709\",\"type\":\"Range1d\"},\"y_scale\":{\"id\":\"9d48fa47-eecd-473c-8e0a-49259e9d67dd\",\"type\":\"LinearScale\"}},\"id\":\"6c962076-1827-403a-8992-7d5661a26ebf\",\"subtype\":\"Figure\",\"type\":\"Plot\"},{\"attributes\":{},\"id\":\"b8578ddf-5e43-4a38-a886-671cc150d25c\",\"type\":\"SaveTool\"},{\"attributes\":{\"callback\":null,\"factors\":[\"W\",\"T\",\"V\",\"C\",\"NP\",\"N\"]},\"id\":\"14110f7d-07f6-430c-ad2d-6b8e597a4948\",\"type\":\"FactorRange\"},{\"attributes\":{},\"id\":\"7e69dd6c-f0eb-4126-8978-b2d9f779fbf7\",\"type\":\"WheelZoomTool\"},{\"attributes\":{},\"id\":\"584a34b4-2153-49f7-a8d0-1f4b823d1f9a\",\"type\":\"UnionRenderers\"},{\"attributes\":{},\"id\":\"2e8ac87e-6ced-4d9a-9e11-32336a90dbee\",\"type\":\"CategoricalTickFormatter\"},{\"attributes\":{\"overlay\":{\"id\":\"3d682d69-4fa7-4c3e-bcc8-489e446235ed\",\"type\":\"BoxAnnotation\"}},\"id\":\"8f619629-cb6d-4a33-be17-31ec1019b6db\",\"type\":\"BoxZoomTool\"},{\"attributes\":{},\"id\":\"aac9ac9f-f82e-4278-8e3d-3398857c051a\",\"type\":\"CategoricalTicker\"},{\"attributes\":{},\"id\":\"dfa97c6b-e845-40af-81fe-843f5356d443\",\"type\":\"Selection\"},{\"attributes\":{},\"id\":\"c51f1b92-8d25-4e36-ae8d-edd7c41060ea\",\"type\":\"CategoricalScale\"},{\"attributes\":{\"fill_color\":{\"field\":\"color\"},\"line_color\":{\"field\":\"color\"},\"top\":{\"field\":\"Freq\"},\"width\":{\"value\":0.5},\"x\":{\"field\":\"columnas\"}},\"id\":\"6c4feebe-72d0-44bf-b695-358470ef702c\",\"type\":\"VBar\"},{\"attributes\":{\"formatter\":{\"id\":\"2e8ac87e-6ced-4d9a-9e11-32336a90dbee\",\"type\":\"CategoricalTickFormatter\"},\"plot\":{\"id\":\"6c962076-1827-403a-8992-7d5661a26ebf\",\"subtype\":\"Figure\",\"type\":\"Plot\"},\"ticker\":{\"id\":\"aac9ac9f-f82e-4278-8e3d-3398857c051a\",\"type\":\"CategoricalTicker\"}},\"id\":\"92e58c78-4005-49aa-9c71-432ed7219e68\",\"type\":\"CategoricalAxis\"},{\"attributes\":{\"items\":[{\"id\":\"ecea30cd-2a89-48ea-b3bf-9afb6f469672\",\"type\":\"LegendItem\"}],\"location\":\"top_center\",\"orientation\":\"horizontal\",\"plot\":{\"id\":\"6c962076-1827-403a-8992-7d5661a26ebf\",\"subtype\":\"Figure\",\"type\":\"Plot\"}},\"id\":\"fcacb6f7-c6a8-40ce-a86c-e296dd2c35bb\",\"type\":\"Legend\"},{\"attributes\":{\"plot\":null,\"text\":\"Distribuci\\u00f3n de los tipos de Art\\u00edculo\"},\"id\":\"1c40b38e-304a-4f42-b549-616773d0b322\",\"type\":\"Title\"},{\"attributes\":{},\"id\":\"941c4bd3-3c20-4da7-9f8e-13e5a0408ddc\",\"type\":\"BasicTickFormatter\"},{\"attributes\":{},\"id\":\"b829f068-1a5c-423f-b21c-6010eaf6a9af\",\"type\":\"HelpTool\"},{\"attributes\":{\"data_source\":{\"id\":\"0de01c71-2464-4be3-b167-5bdb99c1e23d\",\"type\":\"ColumnDataSource\"},\"glyph\":{\"id\":\"6c4feebe-72d0-44bf-b695-358470ef702c\",\"type\":\"VBar\"},\"hover_glyph\":null,\"muted_glyph\":null,\"nonselection_glyph\":{\"id\":\"81622440-4746-4f27-8e83-041484b844f1\",\"type\":\"VBar\"},\"selection_glyph\":null,\"view\":{\"id\":\"53153d06-f7ea-4618-a67f-b4a40e57fd25\",\"type\":\"CDSView\"}},\"id\":\"2f349396-8e1f-4c20-943f-bff295e7d5d7\",\"type\":\"GlyphRenderer\"},{\"attributes\":{\"fill_alpha\":{\"value\":0.1},\"fill_color\":{\"value\":\"#1f77b4\"},\"line_alpha\":{\"value\":0.1},\"line_color\":{\"value\":\"#1f77b4\"},\"top\":{\"field\":\"Freq\"},\"width\":{\"value\":0.5},\"x\":{\"field\":\"columnas\"}},\"id\":\"81622440-4746-4f27-8e83-041484b844f1\",\"type\":\"VBar\"},{\"attributes\":{\"callback\":null,\"end\":80},\"id\":\"2f447e17-4696-4518-9eb0-71e365aaa709\",\"type\":\"Range1d\"},{\"attributes\":{\"dimension\":1,\"plot\":{\"id\":\"6c962076-1827-403a-8992-7d5661a26ebf\",\"subtype\":\"Figure\",\"type\":\"Plot\"},\"ticker\":{\"id\":\"b481c064-e899-4f3c-b9cb-b727be6daf7a\",\"type\":\"BasicTicker\"}},\"id\":\"fa398cb2-59da-49ff-a8a6-761e98f17c3e\",\"type\":\"Grid\"},{\"attributes\":{\"bottom_units\":\"screen\",\"fill_alpha\":{\"value\":0.5},\"fill_color\":{\"value\":\"lightgrey\"},\"left_units\":\"screen\",\"level\":\"overlay\",\"line_alpha\":{\"value\":1.0},\"line_color\":{\"value\":\"black\"},\"line_dash\":[4,4],\"line_width\":{\"value\":2},\"plot\":null,\"render_mode\":\"css\",\"right_units\":\"screen\",\"top_units\":\"screen\"},\"id\":\"3d682d69-4fa7-4c3e-bcc8-489e446235ed\",\"type\":\"BoxAnnotation\"},{\"attributes\":{},\"id\":\"0c2760b3-27df-4afa-9431-59782a08008e\",\"type\":\"ResetTool\"},{\"attributes\":{\"label\":{\"field\":\"columnas\"},\"renderers\":[{\"id\":\"2f349396-8e1f-4c20-943f-bff295e7d5d7\",\"type\":\"GlyphRenderer\"}]},\"id\":\"ecea30cd-2a89-48ea-b3bf-9afb6f469672\",\"type\":\"LegendItem\"},{\"attributes\":{},\"id\":\"9d48fa47-eecd-473c-8e0a-49259e9d67dd\",\"type\":\"LinearScale\"},{\"attributes\":{\"callback\":null,\"data\":{\"Freq\":[60.56323993579592,32.09826670544766,6.649861573430717,0.5480507169095865,0.1403117560245182,0.00026931239160176237],\"color\":[\"#1f77b4\",\"#ff7f0e\",\"#2ca02c\",\"#d62728\",\"#9467bd\",\"#8c564b\"],\"columnas\":[\"W\",\"T\",\"V\",\"C\",\"NP\",\"N\"]},\"selected\":{\"id\":\"dfa97c6b-e845-40af-81fe-843f5356d443\",\"type\":\"Selection\"},\"selection_policy\":{\"id\":\"584a34b4-2153-49f7-a8d0-1f4b823d1f9a\",\"type\":\"UnionRenderers\"}},\"id\":\"0de01c71-2464-4be3-b167-5bdb99c1e23d\",\"type\":\"ColumnDataSource\"},{\"attributes\":{},\"id\":\"b5633753-420e-48ac-b445-8b53a29f918a\",\"type\":\"PanTool\"},{\"attributes\":{\"source\":{\"id\":\"0de01c71-2464-4be3-b167-5bdb99c1e23d\",\"type\":\"ColumnDataSource\"}},\"id\":\"53153d06-f7ea-4618-a67f-b4a40e57fd25\",\"type\":\"CDSView\"}],\"root_ids\":[\"6c962076-1827-403a-8992-7d5661a26ebf\"]},\"title\":\"Bokeh Application\",\"version\":\"0.13.0\"}};\n",
       "  var render_items = [{\"docid\":\"00b02535-fd37-4ecc-b860-3c359b636fed\",\"roots\":{\"6c962076-1827-403a-8992-7d5661a26ebf\":\"cc41cc9c-1475-4f1b-a60b-6faecf5babe6\"}}];\n",
       "  root.Bokeh.embed.embed_items_notebook(docs_json, render_items);\n",
       "\n",
       "  }\n",
       "  if (root.Bokeh !== undefined) {\n",
       "    embed_document(root);\n",
       "  } else {\n",
       "    var attempts = 0;\n",
       "    var timer = setInterval(function(root) {\n",
       "      if (root.Bokeh !== undefined) {\n",
       "        embed_document(root);\n",
       "        clearInterval(timer);\n",
       "      }\n",
       "      attempts++;\n",
       "      if (attempts > 100) {\n",
       "        console.log(\"Bokeh: ERROR: Unable to run BokehJS code because BokehJS library is missing\")\n",
       "        clearInterval(timer);\n",
       "      }\n",
       "    }, 10, root)\n",
       "  }\n",
       "})(window);"
      ],
      "application/vnd.bokehjs_exec.v0+json": ""
     },
     "metadata": {
      "application/vnd.bokehjs_exec.v0+json": {
       "id": "6c962076-1827-403a-8992-7d5661a26ebf"
      }
     },
     "output_type": "display_data"
    },
    {
     "data": {
      "text/html": [
       "<div>\n",
       "<style scoped>\n",
       "    .dataframe tbody tr th:only-of-type {\n",
       "        vertical-align: middle;\n",
       "    }\n",
       "\n",
       "    .dataframe tbody tr th {\n",
       "        vertical-align: top;\n",
       "    }\n",
       "\n",
       "    .dataframe thead th {\n",
       "        text-align: right;\n",
       "    }\n",
       "</style>\n",
       "<table border=\"1\" class=\"dataframe\">\n",
       "  <thead>\n",
       "    <tr style=\"text-align: right;\">\n",
       "      <th></th>\n",
       "      <th>Tipo_Artículo</th>\n",
       "      <th>Porcentaje</th>\n",
       "    </tr>\n",
       "  </thead>\n",
       "  <tbody>\n",
       "    <tr>\n",
       "      <th>0</th>\n",
       "      <td>W</td>\n",
       "      <td>60.563240</td>\n",
       "    </tr>\n",
       "    <tr>\n",
       "      <th>1</th>\n",
       "      <td>T</td>\n",
       "      <td>32.098267</td>\n",
       "    </tr>\n",
       "    <tr>\n",
       "      <th>2</th>\n",
       "      <td>V</td>\n",
       "      <td>6.649862</td>\n",
       "    </tr>\n",
       "    <tr>\n",
       "      <th>3</th>\n",
       "      <td>C</td>\n",
       "      <td>0.548051</td>\n",
       "    </tr>\n",
       "    <tr>\n",
       "      <th>4</th>\n",
       "      <td>NP</td>\n",
       "      <td>0.140312</td>\n",
       "    </tr>\n",
       "    <tr>\n",
       "      <th>5</th>\n",
       "      <td>N</td>\n",
       "      <td>0.000269</td>\n",
       "    </tr>\n",
       "  </tbody>\n",
       "</table>\n",
       "</div>"
      ],
      "text/plain": [
       "  Tipo_Artículo  Porcentaje\n",
       "0             W   60.563240\n",
       "1             T   32.098267\n",
       "2             V    6.649862\n",
       "3             C    0.548051\n",
       "4            NP    0.140312\n",
       "5             N    0.000269"
      ]
     },
     "execution_count": 22,
     "metadata": {},
     "output_type": "execute_result"
    }
   ],
   "source": [
    "ArtCounts=pd.Series((aux.tipo_de_articulo.value_counts()/aux.tipo_de_articulo.value_counts().sum())*100)\n",
    "TipoArt['Porcentaje']=ArtCounts.values\n",
    "\n",
    "columnas=list(TipoArt['Tipo_Artículo'])\n",
    "Freq=list(TipoArt.Porcentaje)\n",
    "source=ColumnDataSource(dict(columnas=columnas, Freq=Freq, color=Category10_6))\n",
    "\n",
    "p=figure(x_range=columnas, plot_height=300, plot_width=850, y_range=(0,80),\n",
    "         title='Distribución de los tipos de Artículo')\n",
    "p.vbar(x='columnas',top='Freq',width=.5, color='color', legend='columnas', source=source)\n",
    "\n",
    "p.xgrid.grid_line_color = None\n",
    "p.legend.orientation = \"horizontal\"\n",
    "p.legend.location = \"top_center\"\n",
    "\n",
    "show(p)\n",
    "TipoArt"
   ]
  },
  {
   "cell_type": "markdown",
   "metadata": {},
   "source": [
    "<div style=\"width: 100%; clear: both; font-family: Verdana;\">\n",
    "<h2>4. Calidad de los datos</h2>\n",
    "    <p> Se documentará la calidad de los datos y analizará las variables que necesitan tratamiento con la ayuda de visualizaciones y tablas.\n",
    "    </p>\n",
    "</div>"
   ]
  },
  {
   "cell_type": "markdown",
   "metadata": {},
   "source": [
    "#### Missings Values\n",
    "Los missings values son los valores faltantes en el conjunto de datos que se refieren a aquellos campos que están vacíos o no tienen valores asignados, estos generalmente ocurren debido a errores de entrada de datos, fallas que ocurren con los procesos de recopilación de datos y, a menudo, al unir varias columnas de diferentes tablas encontramos una condición que conduce a valores faltantes. Existen numerosas formas de tratar los valores perdidos, los más fáciles son reemplazar el valor perdido con la media, la mediana, la moda o un valor constante (llegamos a un valor basado en el conocimiento del dominio) y otra alternativa es eliminar la entrada desde el conjunto de datos en sí."
   ]
  },
  {
   "cell_type": "markdown",
   "metadata": {},
   "source": [
    "Calculamos el porcentaje de NA's que tiene la fuente por columna y el porcentaje de los missings."
   ]
  },
  {
   "cell_type": "code",
   "execution_count": 23,
   "metadata": {},
   "outputs": [],
   "source": [
    "aux2=df"
   ]
  },
  {
   "cell_type": "code",
   "execution_count": 24,
   "metadata": {},
   "outputs": [
    {
     "name": "stderr",
     "output_type": "stream",
     "text": [
      "/opt/cloudera/parcels/Anaconda-5.3.1/lib/python2.7/site-packages/bokeh/models/sources.py:110: BokehUserWarning: ColumnDataSource's columns must be of the same length. Current lengths: ('color', 20), ('columnas', 22), ('counts_nas', 22)\n",
      "  \"Current lengths: %s\" % \", \".join(sorted(str((k, len(v))) for k, v in data.items())), BokehUserWarning))\n"
     ]
    },
    {
     "data": {
      "text/html": [
       "\n",
       "\n",
       "\n",
       "\n",
       "\n",
       "\n",
       "  <div class=\"bk-root\" id=\"f85c850b-030b-4569-bfbb-9e0d9c136901\"></div>\n"
      ]
     },
     "metadata": {},
     "output_type": "display_data"
    },
    {
     "data": {
      "application/javascript": [
       "(function(root) {\n",
       "  function embed_document(root) {\n",
       "    \n",
       "  var docs_json = {\"9a3047e9-ef7c-4ab4-b90c-b5ba996acaa1\":{\"roots\":{\"references\":[{\"attributes\":{\"data_source\":{\"id\":\"7a888cd0-6d59-4b51-b6cb-d0b6c55f11f5\",\"type\":\"ColumnDataSource\"},\"glyph\":{\"id\":\"dbc9724b-f544-47d1-8952-bb32218e5733\",\"type\":\"VBar\"},\"hover_glyph\":null,\"muted_glyph\":null,\"nonselection_glyph\":{\"id\":\"a797f552-7715-47cd-8fe7-8dd9efb91c22\",\"type\":\"VBar\"},\"selection_glyph\":null,\"view\":{\"id\":\"e5740d2d-43e5-45d7-9fea-699e5ba5d3fe\",\"type\":\"CDSView\"}},\"id\":\"007dbfc6-8ec3-4346-aeff-7f0a75ea7904\",\"type\":\"GlyphRenderer\"},{\"attributes\":{},\"id\":\"9172219b-ba43-44ab-a70d-bfc4c5e4734a\",\"type\":\"SaveTool\"},{\"attributes\":{\"fill_alpha\":{\"value\":0.1},\"fill_color\":{\"value\":\"#1f77b4\"},\"line_alpha\":{\"value\":0.1},\"line_color\":{\"value\":\"#1f77b4\"},\"top\":{\"field\":\"counts_nas\"},\"width\":{\"value\":0.6},\"x\":{\"field\":\"columnas\"}},\"id\":\"a797f552-7715-47cd-8fe7-8dd9efb91c22\",\"type\":\"VBar\"},{\"attributes\":{},\"id\":\"e156abc5-04d9-47fc-8676-442ba58d9e77\",\"type\":\"CategoricalScale\"},{\"attributes\":{},\"id\":\"50f09af4-94ea-45fe-ac10-6f4040ad08eb\",\"type\":\"BasicTickFormatter\"},{\"attributes\":{\"callback\":null},\"id\":\"4810e682-0f62-4fd9-a712-9a95d5ec8ef4\",\"type\":\"Range1d\"},{\"attributes\":{\"callback\":null,\"factors\":[\"id\",\"qr_alm\",\"org\",\"sub_inv\",\"almacen\",\"articulo\",\"descripcion\",\"lpn_nuevo\",\"ubicacion_nueva\",\"estado_fisico_usadonuevo\",\"tipo_de_articulo\",\"serie\",\"etiqueta\",\"activo\",\"mxn\",\"estatus_cip\",\"datasetname\",\"filedate\",\"year\",\"month\",\"day\",\"serie_cleaned\"]},\"id\":\"69f55735-74c1-4b0b-b860-329682bc95a1\",\"type\":\"FactorRange\"},{\"attributes\":{},\"id\":\"81a7bc0e-690a-4995-991f-3dcd7231f708\",\"type\":\"UnionRenderers\"},{\"attributes\":{\"active_drag\":\"auto\",\"active_inspect\":\"auto\",\"active_multi\":null,\"active_scroll\":\"auto\",\"active_tap\":\"auto\",\"tools\":[{\"id\":\"f00694a8-32bb-4a74-863c-4d53e8f93543\",\"type\":\"PanTool\"},{\"id\":\"3776ac18-d567-40c1-a619-f994487e2ac4\",\"type\":\"WheelZoomTool\"},{\"id\":\"68b92faa-fbdc-47cf-81e9-24783aeb1c49\",\"type\":\"BoxZoomTool\"},{\"id\":\"9172219b-ba43-44ab-a70d-bfc4c5e4734a\",\"type\":\"SaveTool\"},{\"id\":\"bf005e7f-e100-4871-892f-4d9d09745cf1\",\"type\":\"ResetTool\"},{\"id\":\"124b58ac-588a-4b9b-b4d8-6316ff1ce252\",\"type\":\"HelpTool\"}]},\"id\":\"ffe48295-794d-430a-83cf-88c26c7521c6\",\"type\":\"Toolbar\"},{\"attributes\":{},\"id\":\"e8511347-5dfb-4db2-afc0-8bba6117148d\",\"type\":\"CategoricalTickFormatter\"},{\"attributes\":{},\"id\":\"bf005e7f-e100-4871-892f-4d9d09745cf1\",\"type\":\"ResetTool\"},{\"attributes\":{\"grid_line_color\":{\"value\":null},\"plot\":{\"id\":\"ede7e818-2f6e-4c2e-84d4-4ec8f94dabd2\",\"subtype\":\"Figure\",\"type\":\"Plot\"},\"ticker\":{\"id\":\"6097055a-c38a-4524-89ed-d77d0900df5e\",\"type\":\"CategoricalTicker\"}},\"id\":\"6b20730a-a3e1-4b54-9d0f-d44075889ee3\",\"type\":\"Grid\"},{\"attributes\":{},\"id\":\"3776ac18-d567-40c1-a619-f994487e2ac4\",\"type\":\"WheelZoomTool\"},{\"attributes\":{\"dimension\":1,\"plot\":{\"id\":\"ede7e818-2f6e-4c2e-84d4-4ec8f94dabd2\",\"subtype\":\"Figure\",\"type\":\"Plot\"},\"ticker\":{\"id\":\"0129639d-d050-4df7-a5c9-61882925f54a\",\"type\":\"BasicTicker\"}},\"id\":\"fe9beb99-1e79-4a7a-a4c8-3dc13a4dc9b5\",\"type\":\"Grid\"},{\"attributes\":{\"formatter\":{\"id\":\"50f09af4-94ea-45fe-ac10-6f4040ad08eb\",\"type\":\"BasicTickFormatter\"},\"plot\":{\"id\":\"ede7e818-2f6e-4c2e-84d4-4ec8f94dabd2\",\"subtype\":\"Figure\",\"type\":\"Plot\"},\"ticker\":{\"id\":\"0129639d-d050-4df7-a5c9-61882925f54a\",\"type\":\"BasicTicker\"}},\"id\":\"1930e7f8-1da0-48a6-81c4-235e402e29e6\",\"type\":\"LinearAxis\"},{\"attributes\":{},\"id\":\"124b58ac-588a-4b9b-b4d8-6316ff1ce252\",\"type\":\"HelpTool\"},{\"attributes\":{\"label\":{\"field\":\"columnas\"},\"renderers\":[{\"id\":\"007dbfc6-8ec3-4346-aeff-7f0a75ea7904\",\"type\":\"GlyphRenderer\"}]},\"id\":\"cb0aa815-508e-4528-b221-1549c6717cb2\",\"type\":\"LegendItem\"},{\"attributes\":{\"fill_color\":{\"field\":\"color\"},\"line_color\":{\"field\":\"color\"},\"top\":{\"field\":\"counts_nas\"},\"width\":{\"value\":0.6},\"x\":{\"field\":\"columnas\"}},\"id\":\"dbc9724b-f544-47d1-8952-bb32218e5733\",\"type\":\"VBar\"},{\"attributes\":{},\"id\":\"8b19ef30-e7dd-4b09-8257-7b64d793d78d\",\"type\":\"LinearScale\"},{\"attributes\":{\"callback\":null,\"data\":{\"color\":[\"#1f77b4\",\"#aec7e8\",\"#ff7f0e\",\"#ffbb78\",\"#2ca02c\",\"#98df8a\",\"#d62728\",\"#ff9896\",\"#9467bd\",\"#c5b0d5\",\"#8c564b\",\"#c49c94\",\"#e377c2\",\"#f7b6d2\",\"#7f7f7f\",\"#c7c7c7\",\"#bcbd22\",\"#dbdb8d\",\"#17becf\",\"#9edae5\"],\"columnas\":[\"id\",\"qr_alm\",\"org\",\"sub_inv\",\"almacen\",\"articulo\",\"descripcion\",\"lpn_nuevo\",\"ubicacion_nueva\",\"estado_fisico_usadonuevo\",\"tipo_de_articulo\",\"serie\",\"etiqueta\",\"activo\",\"mxn\",\"estatus_cip\",\"datasetname\",\"filedate\",\"year\",\"month\",\"day\",\"serie_cleaned\"],\"counts_nas\":[0.0,0.6581294638528908,0.0,0.0,0.0,0.0,0.017559167932434908,0.6572515054562691,0.6572515054562691,0.7312854819075936,0.0,0.08437018604100012,0.3644308351915888,0.779188077001799,0.7413577653534994,0.0,0.0,0.0,0.0,0.0,0.0,0.0]},\"selected\":{\"id\":\"10022ec5-9cc7-4f48-b5cc-529c712d5448\",\"type\":\"Selection\"},\"selection_policy\":{\"id\":\"81a7bc0e-690a-4995-991f-3dcd7231f708\",\"type\":\"UnionRenderers\"}},\"id\":\"7a888cd0-6d59-4b51-b6cb-d0b6c55f11f5\",\"type\":\"ColumnDataSource\"},{\"attributes\":{},\"id\":\"f00694a8-32bb-4a74-863c-4d53e8f93543\",\"type\":\"PanTool\"},{\"attributes\":{},\"id\":\"10022ec5-9cc7-4f48-b5cc-529c712d5448\",\"type\":\"Selection\"},{\"attributes\":{\"below\":[{\"id\":\"3791360a-bf64-452d-88ae-105036ecc52a\",\"type\":\"CategoricalAxis\"}],\"left\":[{\"id\":\"1930e7f8-1da0-48a6-81c4-235e402e29e6\",\"type\":\"LinearAxis\"}],\"plot_height\":300,\"plot_width\":850,\"renderers\":[{\"id\":\"3791360a-bf64-452d-88ae-105036ecc52a\",\"type\":\"CategoricalAxis\"},{\"id\":\"6b20730a-a3e1-4b54-9d0f-d44075889ee3\",\"type\":\"Grid\"},{\"id\":\"1930e7f8-1da0-48a6-81c4-235e402e29e6\",\"type\":\"LinearAxis\"},{\"id\":\"fe9beb99-1e79-4a7a-a4c8-3dc13a4dc9b5\",\"type\":\"Grid\"},{\"id\":\"aa88a0a4-fee8-43ff-9ff8-885a3d68beef\",\"type\":\"BoxAnnotation\"},{\"id\":\"3309e222-6763-4d55-a72c-c1a565307e1b\",\"type\":\"Legend\"},{\"id\":\"007dbfc6-8ec3-4346-aeff-7f0a75ea7904\",\"type\":\"GlyphRenderer\"}],\"title\":{\"id\":\"9758bde2-f337-46ea-9242-b2f081d53a19\",\"type\":\"Title\"},\"toolbar\":{\"id\":\"ffe48295-794d-430a-83cf-88c26c7521c6\",\"type\":\"Toolbar\"},\"x_range\":{\"id\":\"69f55735-74c1-4b0b-b860-329682bc95a1\",\"type\":\"FactorRange\"},\"x_scale\":{\"id\":\"e156abc5-04d9-47fc-8676-442ba58d9e77\",\"type\":\"CategoricalScale\"},\"y_range\":{\"id\":\"4810e682-0f62-4fd9-a712-9a95d5ec8ef4\",\"type\":\"Range1d\"},\"y_scale\":{\"id\":\"8b19ef30-e7dd-4b09-8257-7b64d793d78d\",\"type\":\"LinearScale\"}},\"id\":\"ede7e818-2f6e-4c2e-84d4-4ec8f94dabd2\",\"subtype\":\"Figure\",\"type\":\"Plot\"},{\"attributes\":{\"overlay\":{\"id\":\"aa88a0a4-fee8-43ff-9ff8-885a3d68beef\",\"type\":\"BoxAnnotation\"}},\"id\":\"68b92faa-fbdc-47cf-81e9-24783aeb1c49\",\"type\":\"BoxZoomTool\"},{\"attributes\":{},\"id\":\"6097055a-c38a-4524-89ed-d77d0900df5e\",\"type\":\"CategoricalTicker\"},{\"attributes\":{\"source\":{\"id\":\"7a888cd0-6d59-4b51-b6cb-d0b6c55f11f5\",\"type\":\"ColumnDataSource\"}},\"id\":\"e5740d2d-43e5-45d7-9fea-699e5ba5d3fe\",\"type\":\"CDSView\"},{\"attributes\":{\"items\":[{\"id\":\"cb0aa815-508e-4528-b221-1549c6717cb2\",\"type\":\"LegendItem\"}],\"location\":\"top_center\",\"orientation\":\"horizontal\",\"plot\":{\"id\":\"ede7e818-2f6e-4c2e-84d4-4ec8f94dabd2\",\"subtype\":\"Figure\",\"type\":\"Plot\"}},\"id\":\"3309e222-6763-4d55-a72c-c1a565307e1b\",\"type\":\"Legend\"},{\"attributes\":{\"bottom_units\":\"screen\",\"fill_alpha\":{\"value\":0.5},\"fill_color\":{\"value\":\"lightgrey\"},\"left_units\":\"screen\",\"level\":\"overlay\",\"line_alpha\":{\"value\":1.0},\"line_color\":{\"value\":\"black\"},\"line_dash\":[4,4],\"line_width\":{\"value\":2},\"plot\":null,\"render_mode\":\"css\",\"right_units\":\"screen\",\"top_units\":\"screen\"},\"id\":\"aa88a0a4-fee8-43ff-9ff8-885a3d68beef\",\"type\":\"BoxAnnotation\"},{\"attributes\":{\"formatter\":{\"id\":\"e8511347-5dfb-4db2-afc0-8bba6117148d\",\"type\":\"CategoricalTickFormatter\"},\"plot\":{\"id\":\"ede7e818-2f6e-4c2e-84d4-4ec8f94dabd2\",\"subtype\":\"Figure\",\"type\":\"Plot\"},\"ticker\":{\"id\":\"6097055a-c38a-4524-89ed-d77d0900df5e\",\"type\":\"CategoricalTicker\"}},\"id\":\"3791360a-bf64-452d-88ae-105036ecc52a\",\"type\":\"CategoricalAxis\"},{\"attributes\":{},\"id\":\"0129639d-d050-4df7-a5c9-61882925f54a\",\"type\":\"BasicTicker\"},{\"attributes\":{\"plot\":null,\"text\":\"Porcentaje de nas por columna\"},\"id\":\"9758bde2-f337-46ea-9242-b2f081d53a19\",\"type\":\"Title\"}],\"root_ids\":[\"ede7e818-2f6e-4c2e-84d4-4ec8f94dabd2\"]},\"title\":\"Bokeh Application\",\"version\":\"0.13.0\"}};\n",
       "  var render_items = [{\"docid\":\"9a3047e9-ef7c-4ab4-b90c-b5ba996acaa1\",\"roots\":{\"ede7e818-2f6e-4c2e-84d4-4ec8f94dabd2\":\"f85c850b-030b-4569-bfbb-9e0d9c136901\"}}];\n",
       "  root.Bokeh.embed.embed_items_notebook(docs_json, render_items);\n",
       "\n",
       "  }\n",
       "  if (root.Bokeh !== undefined) {\n",
       "    embed_document(root);\n",
       "  } else {\n",
       "    var attempts = 0;\n",
       "    var timer = setInterval(function(root) {\n",
       "      if (root.Bokeh !== undefined) {\n",
       "        embed_document(root);\n",
       "        clearInterval(timer);\n",
       "      }\n",
       "      attempts++;\n",
       "      if (attempts > 100) {\n",
       "        console.log(\"Bokeh: ERROR: Unable to run BokehJS code because BokehJS library is missing\")\n",
       "        clearInterval(timer);\n",
       "      }\n",
       "    }, 10, root)\n",
       "  }\n",
       "})(window);"
      ],
      "application/vnd.bokehjs_exec.v0+json": ""
     },
     "metadata": {
      "application/vnd.bokehjs_exec.v0+json": {
       "id": "ede7e818-2f6e-4c2e-84d4-4ec8f94dabd2"
      }
     },
     "output_type": "display_data"
    },
    {
     "data": {
      "text/html": [
       "<div>\n",
       "<style scoped>\n",
       "    .dataframe tbody tr th:only-of-type {\n",
       "        vertical-align: middle;\n",
       "    }\n",
       "\n",
       "    .dataframe tbody tr th {\n",
       "        vertical-align: top;\n",
       "    }\n",
       "\n",
       "    .dataframe thead th {\n",
       "        text-align: right;\n",
       "    }\n",
       "</style>\n",
       "<table border=\"1\" class=\"dataframe\">\n",
       "  <thead>\n",
       "    <tr style=\"text-align: right;\">\n",
       "      <th></th>\n",
       "      <th>Porcentaje de NAs</th>\n",
       "    </tr>\n",
       "  </thead>\n",
       "  <tbody>\n",
       "    <tr>\n",
       "      <th>id</th>\n",
       "      <td>0.000000</td>\n",
       "    </tr>\n",
       "    <tr>\n",
       "      <th>qr_alm</th>\n",
       "      <td>65.812946</td>\n",
       "    </tr>\n",
       "    <tr>\n",
       "      <th>org</th>\n",
       "      <td>0.000000</td>\n",
       "    </tr>\n",
       "    <tr>\n",
       "      <th>sub_inv</th>\n",
       "      <td>0.000000</td>\n",
       "    </tr>\n",
       "    <tr>\n",
       "      <th>almacen</th>\n",
       "      <td>0.000000</td>\n",
       "    </tr>\n",
       "    <tr>\n",
       "      <th>articulo</th>\n",
       "      <td>0.000000</td>\n",
       "    </tr>\n",
       "    <tr>\n",
       "      <th>descripcion</th>\n",
       "      <td>1.755917</td>\n",
       "    </tr>\n",
       "    <tr>\n",
       "      <th>lpn_nuevo</th>\n",
       "      <td>65.725151</td>\n",
       "    </tr>\n",
       "    <tr>\n",
       "      <th>ubicacion_nueva</th>\n",
       "      <td>65.725151</td>\n",
       "    </tr>\n",
       "    <tr>\n",
       "      <th>estado_fisico_usadonuevo</th>\n",
       "      <td>73.128548</td>\n",
       "    </tr>\n",
       "    <tr>\n",
       "      <th>tipo_de_articulo</th>\n",
       "      <td>0.000000</td>\n",
       "    </tr>\n",
       "    <tr>\n",
       "      <th>serie</th>\n",
       "      <td>8.437019</td>\n",
       "    </tr>\n",
       "    <tr>\n",
       "      <th>etiqueta</th>\n",
       "      <td>36.443084</td>\n",
       "    </tr>\n",
       "    <tr>\n",
       "      <th>activo</th>\n",
       "      <td>77.918808</td>\n",
       "    </tr>\n",
       "    <tr>\n",
       "      <th>mxn</th>\n",
       "      <td>74.135777</td>\n",
       "    </tr>\n",
       "    <tr>\n",
       "      <th>estatus_cip</th>\n",
       "      <td>0.000000</td>\n",
       "    </tr>\n",
       "    <tr>\n",
       "      <th>datasetname</th>\n",
       "      <td>0.000000</td>\n",
       "    </tr>\n",
       "    <tr>\n",
       "      <th>filedate</th>\n",
       "      <td>0.000000</td>\n",
       "    </tr>\n",
       "    <tr>\n",
       "      <th>year</th>\n",
       "      <td>0.000000</td>\n",
       "    </tr>\n",
       "    <tr>\n",
       "      <th>month</th>\n",
       "      <td>0.000000</td>\n",
       "    </tr>\n",
       "    <tr>\n",
       "      <th>day</th>\n",
       "      <td>0.000000</td>\n",
       "    </tr>\n",
       "    <tr>\n",
       "      <th>serie_cleaned</th>\n",
       "      <td>0.000000</td>\n",
       "    </tr>\n",
       "  </tbody>\n",
       "</table>\n",
       "</div>"
      ],
      "text/plain": [
       "                          Porcentaje de NAs\n",
       "id                                 0.000000\n",
       "qr_alm                            65.812946\n",
       "org                                0.000000\n",
       "sub_inv                            0.000000\n",
       "almacen                            0.000000\n",
       "articulo                           0.000000\n",
       "descripcion                        1.755917\n",
       "lpn_nuevo                         65.725151\n",
       "ubicacion_nueva                   65.725151\n",
       "estado_fisico_usadonuevo          73.128548\n",
       "tipo_de_articulo                   0.000000\n",
       "serie                              8.437019\n",
       "etiqueta                          36.443084\n",
       "activo                            77.918808\n",
       "mxn                               74.135777\n",
       "estatus_cip                        0.000000\n",
       "datasetname                        0.000000\n",
       "filedate                           0.000000\n",
       "year                               0.000000\n",
       "month                              0.000000\n",
       "day                                0.000000\n",
       "serie_cleaned                      0.000000"
      ]
     },
     "execution_count": 24,
     "metadata": {},
     "output_type": "execute_result"
    }
   ],
   "source": [
    "output_file(\"Porcentaje de NAsSegg.html\")\n",
    "nas=aux2.isna().sum()\n",
    "porcentaje_nas=nas/aux2.isna().count()\n",
    "\n",
    "columnas=list(porcentaje_nas.keys())\n",
    "counts_nas=list(porcentaje_nas.values)\n",
    "source=ColumnDataSource(dict(columnas=columnas, counts_nas=counts_nas, color=Category20_20))\n",
    "\n",
    "p=figure(x_range=columnas, plot_height=300, plot_width=850, y_range=(0,1),\n",
    "         title='Porcentaje de nas por columna')\n",
    "p.vbar(x='columnas',top='counts_nas',width=.6, color='color', legend='columnas', source=source)\n",
    "\n",
    "p.xgrid.grid_line_color = None\n",
    "p.legend.orientation = \"horizontal\"\n",
    "p.legend.location = \"top_center\"\n",
    "\n",
    "show(p)\n",
    "pd.DataFrame(porcentaje_nas*100,columns=['Porcentaje de NAs'])"
   ]
  },
  {
   "cell_type": "markdown",
   "metadata": {},
   "source": [
    "Visualización de datos NOT NULL WLOG: "
   ]
  },
  {
   "cell_type": "code",
   "execution_count": 25,
   "metadata": {},
   "outputs": [
    {
     "name": "stderr",
     "output_type": "stream",
     "text": [
      "/opt/cloudera/parcels/Anaconda-5.3.1/lib/python2.7/site-packages/bokeh/models/sources.py:110: BokehUserWarning: ColumnDataSource's columns must be of the same length. Current lengths: ('color', 20), ('columnas', 22), ('counts_nas', 22)\n",
      "  \"Current lengths: %s\" % \", \".join(sorted(str((k, len(v))) for k, v in data.items())), BokehUserWarning))\n"
     ]
    },
    {
     "data": {
      "text/html": [
       "\n",
       "\n",
       "\n",
       "\n",
       "\n",
       "\n",
       "  <div class=\"bk-root\" id=\"f7222481-b78b-4010-b40e-de4b06c5db32\"></div>\n"
      ]
     },
     "metadata": {},
     "output_type": "display_data"
    },
    {
     "data": {
      "application/javascript": [
       "(function(root) {\n",
       "  function embed_document(root) {\n",
       "    \n",
       "  var docs_json = {\"fc9ac793-2f51-4408-b139-30a464b31927\":{\"roots\":{\"references\":[{\"attributes\":{},\"id\":\"b9b673b2-246a-48bd-845f-b3bf94d1417a\",\"type\":\"ResetTool\"},{\"attributes\":{},\"id\":\"f6d8b615-a733-4d53-a6d5-27bcaa5aa86c\",\"type\":\"CategoricalTicker\"},{\"attributes\":{\"callback\":null,\"factors\":[\"id\",\"qr_alm\",\"org\",\"sub_inv\",\"almacen\",\"articulo\",\"descripcion\",\"lpn_nuevo\",\"ubicacion_nueva\",\"estado_fisico_usadonuevo\",\"tipo_de_articulo\",\"serie\",\"etiqueta\",\"activo\",\"mxn\",\"estatus_cip\",\"datasetname\",\"filedate\",\"year\",\"month\",\"day\",\"serie_cleaned\"]},\"id\":\"75cdadb4-1133-4905-9f49-1a2cb7dbec6e\",\"type\":\"FactorRange\"},{\"attributes\":{\"fill_alpha\":{\"value\":0.1},\"fill_color\":{\"value\":\"#1f77b4\"},\"line_alpha\":{\"value\":0.1},\"line_color\":{\"value\":\"#1f77b4\"},\"top\":{\"field\":\"counts_nas\"},\"width\":{\"value\":0.7},\"x\":{\"field\":\"columnas\"}},\"id\":\"31a528ef-ee5f-4ab9-af4d-24dce2722a39\",\"type\":\"VBar\"},{\"attributes\":{},\"id\":\"28b9f228-662b-4a52-a9bb-6d1ac7aa913c\",\"type\":\"UnionRenderers\"},{\"attributes\":{\"source\":{\"id\":\"0bc97da3-c74c-43b5-8882-9e50b1691586\",\"type\":\"ColumnDataSource\"}},\"id\":\"dc4e09ff-bc70-446c-a71a-2e301cb67b10\",\"type\":\"CDSView\"},{\"attributes\":{},\"id\":\"7513bdd1-c9c8-4de9-a01b-a19349677cd7\",\"type\":\"PanTool\"},{\"attributes\":{\"active_drag\":\"auto\",\"active_inspect\":\"auto\",\"active_multi\":null,\"active_scroll\":\"auto\",\"active_tap\":\"auto\",\"tools\":[{\"id\":\"7513bdd1-c9c8-4de9-a01b-a19349677cd7\",\"type\":\"PanTool\"},{\"id\":\"d95881bc-83d8-4ad8-8642-3acfc542c9c9\",\"type\":\"WheelZoomTool\"},{\"id\":\"ab758bfb-3b01-4348-b87d-c276428f1412\",\"type\":\"BoxZoomTool\"},{\"id\":\"5020b764-af76-4d68-ad9f-3b02cf6be653\",\"type\":\"SaveTool\"},{\"id\":\"b9b673b2-246a-48bd-845f-b3bf94d1417a\",\"type\":\"ResetTool\"},{\"id\":\"93bc7843-5ac9-463a-b3e7-46ca1ac0ccb7\",\"type\":\"HelpTool\"}]},\"id\":\"fa465db7-9182-45c1-b164-02f17d94ed8e\",\"type\":\"Toolbar\"},{\"attributes\":{},\"id\":\"2cf8e362-5fee-4174-bd2e-895e14396b53\",\"type\":\"LinearScale\"},{\"attributes\":{\"formatter\":{\"id\":\"a63dbe11-80ee-4f83-9206-daafe45be5ff\",\"type\":\"BasicTickFormatter\"},\"plot\":{\"id\":\"ffeb0a1d-d693-4daf-9298-bc223610fb48\",\"subtype\":\"Figure\",\"type\":\"Plot\"},\"ticker\":{\"id\":\"d8feb305-5a1b-46d7-961a-88aab2347953\",\"type\":\"BasicTicker\"}},\"id\":\"6d0b9ba0-aba7-49c0-9790-653a19fd845c\",\"type\":\"LinearAxis\"},{\"attributes\":{},\"id\":\"84513693-d02c-4016-a0e6-8cde92bc47f3\",\"type\":\"CategoricalTickFormatter\"},{\"attributes\":{\"formatter\":{\"id\":\"84513693-d02c-4016-a0e6-8cde92bc47f3\",\"type\":\"CategoricalTickFormatter\"},\"plot\":{\"id\":\"ffeb0a1d-d693-4daf-9298-bc223610fb48\",\"subtype\":\"Figure\",\"type\":\"Plot\"},\"ticker\":{\"id\":\"f6d8b615-a733-4d53-a6d5-27bcaa5aa86c\",\"type\":\"CategoricalTicker\"}},\"id\":\"81099152-65be-47d7-b94b-87bb18a6a781\",\"type\":\"CategoricalAxis\"},{\"attributes\":{},\"id\":\"d95881bc-83d8-4ad8-8642-3acfc542c9c9\",\"type\":\"WheelZoomTool\"},{\"attributes\":{},\"id\":\"a63dbe11-80ee-4f83-9206-daafe45be5ff\",\"type\":\"BasicTickFormatter\"},{\"attributes\":{\"fill_color\":{\"field\":\"color\"},\"line_color\":{\"field\":\"color\"},\"top\":{\"field\":\"counts_nas\"},\"width\":{\"value\":0.7},\"x\":{\"field\":\"columnas\"}},\"id\":\"c750e69e-34b6-40ba-8339-dbfa3b509c4f\",\"type\":\"VBar\"},{\"attributes\":{},\"id\":\"4b3cc197-a290-4ba5-adbc-c5b456cd87ec\",\"type\":\"Selection\"},{\"attributes\":{\"bottom_units\":\"screen\",\"fill_alpha\":{\"value\":0.5},\"fill_color\":{\"value\":\"lightgrey\"},\"left_units\":\"screen\",\"level\":\"overlay\",\"line_alpha\":{\"value\":1.0},\"line_color\":{\"value\":\"black\"},\"line_dash\":[4,4],\"line_width\":{\"value\":2},\"plot\":null,\"render_mode\":\"css\",\"right_units\":\"screen\",\"top_units\":\"screen\"},\"id\":\"6211f529-c817-4be7-b139-0c0544c98bd4\",\"type\":\"BoxAnnotation\"},{\"attributes\":{\"callback\":null,\"end\":100},\"id\":\"4ba5de38-a40f-4ccb-9547-d4c8c74f9f18\",\"type\":\"Range1d\"},{\"attributes\":{\"grid_line_color\":{\"value\":null},\"plot\":{\"id\":\"ffeb0a1d-d693-4daf-9298-bc223610fb48\",\"subtype\":\"Figure\",\"type\":\"Plot\"},\"ticker\":{\"id\":\"f6d8b615-a733-4d53-a6d5-27bcaa5aa86c\",\"type\":\"CategoricalTicker\"}},\"id\":\"0f0c01db-17d1-4cf9-a802-f2be4b08ca59\",\"type\":\"Grid\"},{\"attributes\":{\"label\":{\"field\":\"columnas\"},\"renderers\":[{\"id\":\"3c768ab0-65b0-43ba-a46d-52b5dd1d8501\",\"type\":\"GlyphRenderer\"}]},\"id\":\"a0ca2a2f-1c03-4b2f-88ca-5a672776e9d2\",\"type\":\"LegendItem\"},{\"attributes\":{\"dimension\":1,\"plot\":{\"id\":\"ffeb0a1d-d693-4daf-9298-bc223610fb48\",\"subtype\":\"Figure\",\"type\":\"Plot\"},\"ticker\":{\"id\":\"d8feb305-5a1b-46d7-961a-88aab2347953\",\"type\":\"BasicTicker\"}},\"id\":\"a896231c-68fd-46c6-882b-d5340cf11c86\",\"type\":\"Grid\"},{\"attributes\":{},\"id\":\"d8feb305-5a1b-46d7-961a-88aab2347953\",\"type\":\"BasicTicker\"},{\"attributes\":{\"data_source\":{\"id\":\"0bc97da3-c74c-43b5-8882-9e50b1691586\",\"type\":\"ColumnDataSource\"},\"glyph\":{\"id\":\"c750e69e-34b6-40ba-8339-dbfa3b509c4f\",\"type\":\"VBar\"},\"hover_glyph\":null,\"muted_glyph\":null,\"nonselection_glyph\":{\"id\":\"31a528ef-ee5f-4ab9-af4d-24dce2722a39\",\"type\":\"VBar\"},\"selection_glyph\":null,\"view\":{\"id\":\"dc4e09ff-bc70-446c-a71a-2e301cb67b10\",\"type\":\"CDSView\"}},\"id\":\"3c768ab0-65b0-43ba-a46d-52b5dd1d8501\",\"type\":\"GlyphRenderer\"},{\"attributes\":{\"callback\":null,\"data\":{\"color\":[\"#3182bd\",\"#6baed6\",\"#9ecae1\",\"#c6dbef\",\"#e6550d\",\"#fd8d3c\",\"#fdae6b\",\"#fdd0a2\",\"#31a354\",\"#74c476\",\"#a1d99b\",\"#c7e9c0\",\"#756bb1\",\"#9e9ac8\",\"#bcbddc\",\"#dadaeb\",\"#636363\",\"#969696\",\"#bdbdbd\",\"#d9d9d9\"],\"columnas\":[\"id\",\"qr_alm\",\"org\",\"sub_inv\",\"almacen\",\"articulo\",\"descripcion\",\"lpn_nuevo\",\"ubicacion_nueva\",\"estado_fisico_usadonuevo\",\"tipo_de_articulo\",\"serie\",\"etiqueta\",\"activo\",\"mxn\",\"estatus_cip\",\"datasetname\",\"filedate\",\"year\",\"month\",\"day\",\"serie_cleaned\"],\"counts_nas\":[100.0,34.18705361471092,100.0,100.0,100.0,100.0,98.2440832067565,34.27484945437309,34.27484945437309,26.871451809240643,100.0,91.5629813959,63.55691648084112,22.081192299820096,25.86422346465006,100.0,100.0,100.0,100.0,100.0,100.0,100.0]},\"selected\":{\"id\":\"4b3cc197-a290-4ba5-adbc-c5b456cd87ec\",\"type\":\"Selection\"},\"selection_policy\":{\"id\":\"28b9f228-662b-4a52-a9bb-6d1ac7aa913c\",\"type\":\"UnionRenderers\"}},\"id\":\"0bc97da3-c74c-43b5-8882-9e50b1691586\",\"type\":\"ColumnDataSource\"},{\"attributes\":{\"items\":[{\"id\":\"a0ca2a2f-1c03-4b2f-88ca-5a672776e9d2\",\"type\":\"LegendItem\"}],\"location\":\"top_center\",\"orientation\":\"horizontal\",\"plot\":{\"id\":\"ffeb0a1d-d693-4daf-9298-bc223610fb48\",\"subtype\":\"Figure\",\"type\":\"Plot\"}},\"id\":\"3577b8c3-9a3d-48bf-9dc5-b70f6d34f2db\",\"type\":\"Legend\"},{\"attributes\":{},\"id\":\"1bc0f0a6-80ad-4966-8bee-ea9b7759a18c\",\"type\":\"CategoricalScale\"},{\"attributes\":{\"plot\":null,\"text\":\"Porcentaje de not-nulls por columna\"},\"id\":\"c0e2e833-9b8b-495e-b094-0e66a974d1d1\",\"type\":\"Title\"},{\"attributes\":{\"below\":[{\"id\":\"81099152-65be-47d7-b94b-87bb18a6a781\",\"type\":\"CategoricalAxis\"}],\"left\":[{\"id\":\"6d0b9ba0-aba7-49c0-9790-653a19fd845c\",\"type\":\"LinearAxis\"}],\"plot_height\":300,\"plot_width\":850,\"renderers\":[{\"id\":\"81099152-65be-47d7-b94b-87bb18a6a781\",\"type\":\"CategoricalAxis\"},{\"id\":\"0f0c01db-17d1-4cf9-a802-f2be4b08ca59\",\"type\":\"Grid\"},{\"id\":\"6d0b9ba0-aba7-49c0-9790-653a19fd845c\",\"type\":\"LinearAxis\"},{\"id\":\"a896231c-68fd-46c6-882b-d5340cf11c86\",\"type\":\"Grid\"},{\"id\":\"6211f529-c817-4be7-b139-0c0544c98bd4\",\"type\":\"BoxAnnotation\"},{\"id\":\"3577b8c3-9a3d-48bf-9dc5-b70f6d34f2db\",\"type\":\"Legend\"},{\"id\":\"3c768ab0-65b0-43ba-a46d-52b5dd1d8501\",\"type\":\"GlyphRenderer\"}],\"title\":{\"id\":\"c0e2e833-9b8b-495e-b094-0e66a974d1d1\",\"type\":\"Title\"},\"toolbar\":{\"id\":\"fa465db7-9182-45c1-b164-02f17d94ed8e\",\"type\":\"Toolbar\"},\"x_range\":{\"id\":\"75cdadb4-1133-4905-9f49-1a2cb7dbec6e\",\"type\":\"FactorRange\"},\"x_scale\":{\"id\":\"1bc0f0a6-80ad-4966-8bee-ea9b7759a18c\",\"type\":\"CategoricalScale\"},\"y_range\":{\"id\":\"4ba5de38-a40f-4ccb-9547-d4c8c74f9f18\",\"type\":\"Range1d\"},\"y_scale\":{\"id\":\"2cf8e362-5fee-4174-bd2e-895e14396b53\",\"type\":\"LinearScale\"}},\"id\":\"ffeb0a1d-d693-4daf-9298-bc223610fb48\",\"subtype\":\"Figure\",\"type\":\"Plot\"},{\"attributes\":{\"overlay\":{\"id\":\"6211f529-c817-4be7-b139-0c0544c98bd4\",\"type\":\"BoxAnnotation\"}},\"id\":\"ab758bfb-3b01-4348-b87d-c276428f1412\",\"type\":\"BoxZoomTool\"},{\"attributes\":{},\"id\":\"5020b764-af76-4d68-ad9f-3b02cf6be653\",\"type\":\"SaveTool\"},{\"attributes\":{},\"id\":\"93bc7843-5ac9-463a-b3e7-46ca1ac0ccb7\",\"type\":\"HelpTool\"}],\"root_ids\":[\"ffeb0a1d-d693-4daf-9298-bc223610fb48\"]},\"title\":\"Bokeh Application\",\"version\":\"0.13.0\"}};\n",
       "  var render_items = [{\"docid\":\"fc9ac793-2f51-4408-b139-30a464b31927\",\"roots\":{\"ffeb0a1d-d693-4daf-9298-bc223610fb48\":\"f7222481-b78b-4010-b40e-de4b06c5db32\"}}];\n",
       "  root.Bokeh.embed.embed_items_notebook(docs_json, render_items);\n",
       "\n",
       "  }\n",
       "  if (root.Bokeh !== undefined) {\n",
       "    embed_document(root);\n",
       "  } else {\n",
       "    var attempts = 0;\n",
       "    var timer = setInterval(function(root) {\n",
       "      if (root.Bokeh !== undefined) {\n",
       "        embed_document(root);\n",
       "        clearInterval(timer);\n",
       "      }\n",
       "      attempts++;\n",
       "      if (attempts > 100) {\n",
       "        console.log(\"Bokeh: ERROR: Unable to run BokehJS code because BokehJS library is missing\")\n",
       "        clearInterval(timer);\n",
       "      }\n",
       "    }, 10, root)\n",
       "  }\n",
       "})(window);"
      ],
      "application/vnd.bokehjs_exec.v0+json": ""
     },
     "metadata": {
      "application/vnd.bokehjs_exec.v0+json": {
       "id": "ffeb0a1d-d693-4daf-9298-bc223610fb48"
      }
     },
     "output_type": "display_data"
    },
    {
     "data": {
      "text/html": [
       "<div>\n",
       "<style scoped>\n",
       "    .dataframe tbody tr th:only-of-type {\n",
       "        vertical-align: middle;\n",
       "    }\n",
       "\n",
       "    .dataframe tbody tr th {\n",
       "        vertical-align: top;\n",
       "    }\n",
       "\n",
       "    .dataframe thead th {\n",
       "        text-align: right;\n",
       "    }\n",
       "</style>\n",
       "<table border=\"1\" class=\"dataframe\">\n",
       "  <thead>\n",
       "    <tr style=\"text-align: right;\">\n",
       "      <th></th>\n",
       "      <th>Porcentaje de Not nulls</th>\n",
       "    </tr>\n",
       "  </thead>\n",
       "  <tbody>\n",
       "    <tr>\n",
       "      <th>id</th>\n",
       "      <td>100.000000</td>\n",
       "    </tr>\n",
       "    <tr>\n",
       "      <th>qr_alm</th>\n",
       "      <td>34.187054</td>\n",
       "    </tr>\n",
       "    <tr>\n",
       "      <th>org</th>\n",
       "      <td>100.000000</td>\n",
       "    </tr>\n",
       "    <tr>\n",
       "      <th>sub_inv</th>\n",
       "      <td>100.000000</td>\n",
       "    </tr>\n",
       "    <tr>\n",
       "      <th>almacen</th>\n",
       "      <td>100.000000</td>\n",
       "    </tr>\n",
       "    <tr>\n",
       "      <th>articulo</th>\n",
       "      <td>100.000000</td>\n",
       "    </tr>\n",
       "    <tr>\n",
       "      <th>descripcion</th>\n",
       "      <td>98.244083</td>\n",
       "    </tr>\n",
       "    <tr>\n",
       "      <th>lpn_nuevo</th>\n",
       "      <td>34.274849</td>\n",
       "    </tr>\n",
       "    <tr>\n",
       "      <th>ubicacion_nueva</th>\n",
       "      <td>34.274849</td>\n",
       "    </tr>\n",
       "    <tr>\n",
       "      <th>estado_fisico_usadonuevo</th>\n",
       "      <td>26.871452</td>\n",
       "    </tr>\n",
       "    <tr>\n",
       "      <th>tipo_de_articulo</th>\n",
       "      <td>100.000000</td>\n",
       "    </tr>\n",
       "    <tr>\n",
       "      <th>serie</th>\n",
       "      <td>91.562981</td>\n",
       "    </tr>\n",
       "    <tr>\n",
       "      <th>etiqueta</th>\n",
       "      <td>63.556916</td>\n",
       "    </tr>\n",
       "    <tr>\n",
       "      <th>activo</th>\n",
       "      <td>22.081192</td>\n",
       "    </tr>\n",
       "    <tr>\n",
       "      <th>mxn</th>\n",
       "      <td>25.864223</td>\n",
       "    </tr>\n",
       "    <tr>\n",
       "      <th>estatus_cip</th>\n",
       "      <td>100.000000</td>\n",
       "    </tr>\n",
       "    <tr>\n",
       "      <th>datasetname</th>\n",
       "      <td>100.000000</td>\n",
       "    </tr>\n",
       "    <tr>\n",
       "      <th>filedate</th>\n",
       "      <td>100.000000</td>\n",
       "    </tr>\n",
       "    <tr>\n",
       "      <th>year</th>\n",
       "      <td>100.000000</td>\n",
       "    </tr>\n",
       "    <tr>\n",
       "      <th>month</th>\n",
       "      <td>100.000000</td>\n",
       "    </tr>\n",
       "    <tr>\n",
       "      <th>day</th>\n",
       "      <td>100.000000</td>\n",
       "    </tr>\n",
       "    <tr>\n",
       "      <th>serie_cleaned</th>\n",
       "      <td>100.000000</td>\n",
       "    </tr>\n",
       "  </tbody>\n",
       "</table>\n",
       "</div>"
      ],
      "text/plain": [
       "                          Porcentaje de Not nulls\n",
       "id                                     100.000000\n",
       "qr_alm                                  34.187054\n",
       "org                                    100.000000\n",
       "sub_inv                                100.000000\n",
       "almacen                                100.000000\n",
       "articulo                               100.000000\n",
       "descripcion                             98.244083\n",
       "lpn_nuevo                               34.274849\n",
       "ubicacion_nueva                         34.274849\n",
       "estado_fisico_usadonuevo                26.871452\n",
       "tipo_de_articulo                       100.000000\n",
       "serie                                   91.562981\n",
       "etiqueta                                63.556916\n",
       "activo                                  22.081192\n",
       "mxn                                     25.864223\n",
       "estatus_cip                            100.000000\n",
       "datasetname                            100.000000\n",
       "filedate                               100.000000\n",
       "year                                   100.000000\n",
       "month                                  100.000000\n",
       "day                                    100.000000\n",
       "serie_cleaned                          100.000000"
      ]
     },
     "execution_count": 25,
     "metadata": {},
     "output_type": "execute_result"
    }
   ],
   "source": [
    "output_file(\"Porcentaje de NotNullSegg.html\")\n",
    "notmiss=(1-porcentaje_nas)*100\n",
    "\n",
    "columnas=list(notmiss.keys())\n",
    "counts_nas=list(notmiss.values)\n",
    "source=ColumnDataSource(dict(columnas=columnas, counts_nas=counts_nas, color=Category20c_20))\n",
    "\n",
    "p=figure(x_range=columnas, plot_height=300, plot_width=850, y_range=(0,100), \n",
    "         title='Porcentaje de not-nulls por columna')\n",
    "p.vbar(x='columnas',top='counts_nas',width=.7, color='color', legend='columnas', source=source)\n",
    "\n",
    "p.xgrid.grid_line_color = None\n",
    "p.legend.orientation = \"horizontal\"\n",
    "p.legend.location = \"top_center\"\n",
    "\n",
    "show(p)\n",
    "\n",
    "pd.DataFrame(notmiss,columns=['Porcentaje de Not nulls'])"
   ]
  },
  {
   "cell_type": "markdown",
   "metadata": {},
   "source": [
    "#### 4.2 Data Errors\n",
    "\n",
    "* De manera general, se encuentran en varias columnas, nulos que se rellenaron con '0'. Ejemplos de estos casos, son las columnas: **qr**, **lpn_nuevo**, **ubicacion_nueva**.\n",
    "* Tuvo que hacerse una preparación para identificar los NaNs, debido a que son ingresados como **0** ,\"-\" o simplemente un empty string.\n",
    "* Hay datos sin **id**.\n",
    "* Los campos de fecha tienen formato string."
   ]
  },
  {
   "cell_type": "markdown",
   "metadata": {},
   "source": [
    "\n",
    "### 5. Preparación de los datos.\n",
    "Para la preparación de los datos crearemos las reglas de calidad o estándares observados en el apartado anterior de acuerdo a la calidad de datos obtenidos. "
   ]
  },
  {
   "cell_type": "markdown",
   "metadata": {},
   "source": [
    " * **qr:** Se recomienda optar por un nuevo nombre, pasar los nulos '0' a NaN.\n",
    " * **almacén:**\n",
    "    * Se utilizó el catálogo proporcionado por el equipo ATT, utilizando el campo **org**\n",
    "        \n",
    "* **sub_inv:** \n",
    "    * Pasar todo a uppercase\n",
    "    * replace 'USADIS' to 'USADO'\n",
    "    * replace 'USADODISP' to 'USADO'\n",
    "    * replace 'UDISP' to 'USADO'\n",
    "    * replace 'USADOS' to 'USADO'\n",
    "    * replace 'OBSOLETO' to 'OBS'\n",
    "    * replace 'NUEVOS' to 'NUEVO'\n",
    "    * replace 'ACLARACIEN' to 'ACLARACION'\n",
    "    * replace 'DANADO' to 'DAN'\n",
    "    * replace 'REFA-DAU' to 'REFA-DAN'\n",
    "    * replace 'RF' to 'REFA'\n",
    "    * Eliminar acentos\n",
    "    * Hay datos con caracteres desconocidos, debido a los acentos\n",
    "        \n",
    "* **series:**\n",
    "    * Homologar formatos en los casos posibles. \n",
    "    * replace \"'NA\" to 'np.NaN'\n",
    "    * Se deben revisar datos que vienen con notación científica\n",
    "    * Se marcan como *np.NaN* : campos que contengan:\n",
    "        * ESPACIOS\n",
    "        * La palabra BORRADO\n",
    "        * La palabra VICIBLE\n",
    "        * La palabra VISIBLE\n",
    "        * CARACTER ESPECIAL\n",
    "        * ILEGIBLE\n",
    "        * INCOMPLETO\n",
    "        * LONGITUD de caracteres menores a 6\n",
    "\n",
    "* **etiqueta:**\n",
    "    * Se marcan como *np.NaN* : campos que contengan:\n",
    "        * CARACTERES ESPECIALES\n",
    "        * ESPACIOS\n",
    "        * La palabra ILEGIBLE\n",
    "        * LONGITUD menor a 4\n",
    "        * La palabra VISIVLE\n",
    "        * La palabra NOTIENE\n",
    "        * La palabra REVISAR\n",
    "        * La palabra VISIBLE\n",
    "        * La palabra ERROR\n",
    "        * La palabra VIDIBLE\n",
    "        * La palabra SINACTIVO\n",
    "    * Campos iguales a:\n",
    "        * IP3CAB6CAA\n",
    "        * 3G113642\n",
    "        * 3G083109\n",
    "* **mxn:**\n",
    "    * reemplazar ('E',5,)\n",
    "    * Dar formato 'float'\n",
    "    \n",
    "* **De manera general:**\n",
    "    * Tratamiento de missings.\n",
    "    * Eliminar acentos\n",
    "    * Revisar caracteres desconocidos\n",
    "    * Pasar a Uppercase o Lowercase por columna, según sea el formato estándar\n",
    "    * Se deben revisar datos que vienen con notación científica"
   ]
  },
  {
   "cell_type": "markdown",
   "metadata": {},
   "source": [
    "\n",
    "### 6. Catálogos\n",
    "Se mostrarán los catálogos finales. "
   ]
  },
  {
   "cell_type": "markdown",
   "metadata": {},
   "source": [
    "#### Catálogo de sub inventario:"
   ]
  },
  {
   "cell_type": "code",
   "execution_count": 26,
   "metadata": {},
   "outputs": [
    {
     "data": {
      "text/html": [
       "<div>\n",
       "<style scoped>\n",
       "    .dataframe tbody tr th:only-of-type {\n",
       "        vertical-align: middle;\n",
       "    }\n",
       "\n",
       "    .dataframe tbody tr th {\n",
       "        vertical-align: top;\n",
       "    }\n",
       "\n",
       "    .dataframe thead th {\n",
       "        text-align: right;\n",
       "    }\n",
       "</style>\n",
       "<table border=\"1\" class=\"dataframe\">\n",
       "  <thead>\n",
       "    <tr style=\"text-align: right;\">\n",
       "      <th></th>\n",
       "      <th>Sub_inventario</th>\n",
       "    </tr>\n",
       "  </thead>\n",
       "  <tbody>\n",
       "    <tr>\n",
       "      <th>0</th>\n",
       "      <td>USADO</td>\n",
       "    </tr>\n",
       "    <tr>\n",
       "      <th>1</th>\n",
       "      <td>NUEVO</td>\n",
       "    </tr>\n",
       "    <tr>\n",
       "      <th>2</th>\n",
       "      <td>REFA-USADO</td>\n",
       "    </tr>\n",
       "    <tr>\n",
       "      <th>3</th>\n",
       "      <td>REFA-NUEVO</td>\n",
       "    </tr>\n",
       "    <tr>\n",
       "      <th>4</th>\n",
       "      <td>OBS</td>\n",
       "    </tr>\n",
       "    <tr>\n",
       "      <th>5</th>\n",
       "      <td>IBS-NUEVO</td>\n",
       "    </tr>\n",
       "    <tr>\n",
       "      <th>6</th>\n",
       "      <td>REFA-DAÐ</td>\n",
       "    </tr>\n",
       "    <tr>\n",
       "      <th>7</th>\n",
       "      <td>REFA-OBS</td>\n",
       "    </tr>\n",
       "    <tr>\n",
       "      <th>8</th>\n",
       "      <td>MOBILIARIO</td>\n",
       "    </tr>\n",
       "    <tr>\n",
       "      <th>9</th>\n",
       "      <td>DAN</td>\n",
       "    </tr>\n",
       "    <tr>\n",
       "      <th>10</th>\n",
       "      <td>REFA-REP</td>\n",
       "    </tr>\n",
       "    <tr>\n",
       "      <th>11</th>\n",
       "      <td>CUARENTENA</td>\n",
       "    </tr>\n",
       "    <tr>\n",
       "      <th>12</th>\n",
       "      <td>REFA-DAN</td>\n",
       "    </tr>\n",
       "    <tr>\n",
       "      <th>13</th>\n",
       "      <td>ACLARACION</td>\n",
       "    </tr>\n",
       "    <tr>\n",
       "      <th>14</th>\n",
       "      <td>DEV-NUEVO</td>\n",
       "    </tr>\n",
       "    <tr>\n",
       "      <th>15</th>\n",
       "      <td>RMA</td>\n",
       "    </tr>\n",
       "  </tbody>\n",
       "</table>\n",
       "</div>"
      ],
      "text/plain": [
       "   Sub_inventario\n",
       "0           USADO\n",
       "1           NUEVO\n",
       "2      REFA-USADO\n",
       "3      REFA-NUEVO\n",
       "4             OBS\n",
       "5       IBS-NUEVO\n",
       "6        REFA-DAÐ\n",
       "7        REFA-OBS\n",
       "8      MOBILIARIO\n",
       "9             DAN\n",
       "10       REFA-REP\n",
       "11     CUARENTENA\n",
       "12       REFA-DAN\n",
       "13     ACLARACION\n",
       "14      DEV-NUEVO\n",
       "15            RMA"
      ]
     },
     "execution_count": 26,
     "metadata": {},
     "output_type": "execute_result"
    }
   ],
   "source": [
    "pd.DataFrame(catsub_inv['Sub_inventario'])"
   ]
  },
  {
   "cell_type": "markdown",
   "metadata": {},
   "source": [
    "#### Catálogo de almacenes:\n",
    "*Este fue un catálogo proporcionado por el equipo ATT*"
   ]
  },
  {
   "cell_type": "code",
   "execution_count": 27,
   "metadata": {
    "scrolled": true
   },
   "outputs": [
    {
     "data": {
      "text/html": [
       "<div>\n",
       "<style scoped>\n",
       "    .dataframe tbody tr th:only-of-type {\n",
       "        vertical-align: middle;\n",
       "    }\n",
       "\n",
       "    .dataframe tbody tr th {\n",
       "        vertical-align: top;\n",
       "    }\n",
       "\n",
       "    .dataframe thead th {\n",
       "        text-align: right;\n",
       "    }\n",
       "</style>\n",
       "<table border=\"1\" class=\"dataframe\">\n",
       "  <thead>\n",
       "    <tr style=\"text-align: right;\">\n",
       "      <th></th>\n",
       "      <th>almacen</th>\n",
       "    </tr>\n",
       "  </thead>\n",
       "  <tbody>\n",
       "    <tr>\n",
       "      <th>0</th>\n",
       "      <td>Tijuana Sistema AT&amp;T</td>\n",
       "    </tr>\n",
       "    <tr>\n",
       "      <th>1</th>\n",
       "      <td>Sta Cecilia Sistemas AT&amp;T</td>\n",
       "    </tr>\n",
       "    <tr>\n",
       "      <th>2</th>\n",
       "      <td>Sta Cecilia AT&amp;T</td>\n",
       "    </tr>\n",
       "    <tr>\n",
       "      <th>3</th>\n",
       "      <td>DHL-TRADE MARKETING</td>\n",
       "    </tr>\n",
       "    <tr>\n",
       "      <th>4</th>\n",
       "      <td>GDL AT&amp;T</td>\n",
       "    </tr>\n",
       "    <tr>\n",
       "      <th>5</th>\n",
       "      <td>Sta Cecilia AT&amp;T</td>\n",
       "    </tr>\n",
       "    <tr>\n",
       "      <th>6</th>\n",
       "      <td>Tijuana AT&amp;T</td>\n",
       "    </tr>\n",
       "    <tr>\n",
       "      <th>7</th>\n",
       "      <td>Glaco AT&amp;T</td>\n",
       "    </tr>\n",
       "    <tr>\n",
       "      <th>8</th>\n",
       "      <td>DHL Tepotzotlan</td>\n",
       "    </tr>\n",
       "    <tr>\n",
       "      <th>9</th>\n",
       "      <td>Sta Cecilia AT&amp;T</td>\n",
       "    </tr>\n",
       "  </tbody>\n",
       "</table>\n",
       "</div>"
      ],
      "text/plain": [
       "                     almacen\n",
       "0       Tijuana Sistema AT&T\n",
       "1  Sta Cecilia Sistemas AT&T\n",
       "2           Sta Cecilia AT&T\n",
       "3        DHL-TRADE MARKETING\n",
       "4                   GDL AT&T\n",
       "5           Sta Cecilia AT&T\n",
       "6               Tijuana AT&T\n",
       "7                 Glaco AT&T\n",
       "8            DHL Tepotzotlan\n",
       "9           Sta Cecilia AT&T"
      ]
     },
     "execution_count": 27,
     "metadata": {},
     "output_type": "execute_result"
    }
   ],
   "source": [
    "pd.DataFrame(alm_catalogo['almacen']).head(10)"
   ]
  },
  {
   "cell_type": "markdown",
   "metadata": {},
   "source": [
    "#### Catálogo de tipo de artículo:"
   ]
  },
  {
   "cell_type": "code",
   "execution_count": 28,
   "metadata": {},
   "outputs": [
    {
     "data": {
      "text/html": [
       "<div>\n",
       "<style scoped>\n",
       "    .dataframe tbody tr th:only-of-type {\n",
       "        vertical-align: middle;\n",
       "    }\n",
       "\n",
       "    .dataframe tbody tr th {\n",
       "        vertical-align: top;\n",
       "    }\n",
       "\n",
       "    .dataframe thead th {\n",
       "        text-align: right;\n",
       "    }\n",
       "</style>\n",
       "<table border=\"1\" class=\"dataframe\">\n",
       "  <thead>\n",
       "    <tr style=\"text-align: right;\">\n",
       "      <th></th>\n",
       "      <th>Tipo_Artículo</th>\n",
       "      <th>Porcentaje</th>\n",
       "    </tr>\n",
       "  </thead>\n",
       "  <tbody>\n",
       "    <tr>\n",
       "      <th>0</th>\n",
       "      <td>W</td>\n",
       "      <td>60.563240</td>\n",
       "    </tr>\n",
       "    <tr>\n",
       "      <th>1</th>\n",
       "      <td>T</td>\n",
       "      <td>32.098267</td>\n",
       "    </tr>\n",
       "    <tr>\n",
       "      <th>2</th>\n",
       "      <td>V</td>\n",
       "      <td>6.649862</td>\n",
       "    </tr>\n",
       "    <tr>\n",
       "      <th>3</th>\n",
       "      <td>C</td>\n",
       "      <td>0.548051</td>\n",
       "    </tr>\n",
       "    <tr>\n",
       "      <th>4</th>\n",
       "      <td>NP</td>\n",
       "      <td>0.140312</td>\n",
       "    </tr>\n",
       "    <tr>\n",
       "      <th>5</th>\n",
       "      <td>N</td>\n",
       "      <td>0.000269</td>\n",
       "    </tr>\n",
       "  </tbody>\n",
       "</table>\n",
       "</div>"
      ],
      "text/plain": [
       "  Tipo_Artículo  Porcentaje\n",
       "0             W   60.563240\n",
       "1             T   32.098267\n",
       "2             V    6.649862\n",
       "3             C    0.548051\n",
       "4            NP    0.140312\n",
       "5             N    0.000269"
      ]
     },
     "execution_count": 28,
     "metadata": {},
     "output_type": "execute_result"
    }
   ],
   "source": [
    "TipoArt"
   ]
  },
  {
   "cell_type": "markdown",
   "metadata": {},
   "source": [
    "\n",
    "### 7. Métricas KPI.\n",
    "Se mostrarán los KPIs generados. "
   ]
  },
  {
   "cell_type": "markdown",
   "metadata": {},
   "source": [
    "#### Total de elementos en almacén (todos los almacenes) "
   ]
  },
  {
   "cell_type": "code",
   "execution_count": 29,
   "metadata": {},
   "outputs": [
    {
     "data": {
      "text/plain": [
       "371316"
      ]
     },
     "execution_count": 29,
     "metadata": {},
     "output_type": "execute_result"
    }
   ],
   "source": [
    "Total_Elementos=df.shape[0]\n",
    "Total_Elementos"
   ]
  },
  {
   "cell_type": "code",
   "execution_count": 30,
   "metadata": {},
   "outputs": [],
   "source": [
    "df.replace(np.NaN,'vacio',inplace=True)"
   ]
  },
  {
   "cell_type": "markdown",
   "metadata": {},
   "source": [
    "#### Total de elementos Trazables"
   ]
  },
  {
   "cell_type": "code",
   "execution_count": 31,
   "metadata": {},
   "outputs": [
    {
     "data": {
      "text/plain": [
       "356438"
      ]
     },
     "execution_count": 31,
     "metadata": {},
     "output_type": "execute_result"
    }
   ],
   "source": [
    "Total_Tr=df.loc[((df.serie!='vacio') | (df.etiqueta!='vacio'))].shape[0]\n",
    "Total_Tr"
   ]
  },
  {
   "cell_type": "markdown",
   "metadata": {},
   "source": [
    "#### Total de elementos no trazables "
   ]
  },
  {
   "cell_type": "code",
   "execution_count": 32,
   "metadata": {},
   "outputs": [
    {
     "data": {
      "text/plain": [
       "14878"
      ]
     },
     "execution_count": 32,
     "metadata": {},
     "output_type": "execute_result"
    }
   ],
   "source": [
    "Total_NOTr=Total_Elementos-Total_Tr\n",
    "Total_NOTr"
   ]
  },
  {
   "cell_type": "markdown",
   "metadata": {},
   "source": [
    "#### Total de elementos en almacén Trazables Únicos"
   ]
  },
  {
   "cell_type": "code",
   "execution_count": 33,
   "metadata": {},
   "outputs": [
    {
     "data": {
      "text/plain": [
       "355792"
      ]
     },
     "execution_count": 33,
     "metadata": {},
     "output_type": "execute_result"
    }
   ],
   "source": [
    "Total_Tr_Unic=df[['serie','etiqueta']].loc[(df.serie!='vacio') | (df.etiqueta!='vacio')].drop_duplicates().shape[0]\n",
    "Total_Tr_Unic"
   ]
  },
  {
   "cell_type": "markdown",
   "metadata": {},
   "source": [
    "#### Total de elementos en almacén Trazables Únicos en DHL Tepotzotlan"
   ]
  },
  {
   "cell_type": "code",
   "execution_count": 34,
   "metadata": {},
   "outputs": [
    {
     "data": {
      "text/plain": [
       "128491"
      ]
     },
     "execution_count": 34,
     "metadata": {},
     "output_type": "execute_result"
    }
   ],
   "source": [
    "DHLTepo_Tr_Unic=df[['serie','etiqueta']].loc[((df.almacen=='DHL Tepotzotlan')|(df.almacen==u'DRP TEPOTZOTLÁN'))&((df.serie!='vacio') | (df.etiqueta!='vacio'))].drop_duplicates().shape[0]\n",
    "DHLTepo_Tr_Unic"
   ]
  },
  {
   "cell_type": "markdown",
   "metadata": {},
   "source": [
    "#### Total de elementos en almacén Trazables Únicos en Sta Cecilia AT&T"
   ]
  },
  {
   "cell_type": "code",
   "execution_count": 35,
   "metadata": {
    "scrolled": false
   },
   "outputs": [
    {
     "data": {
      "text/plain": [
       "125341"
      ]
     },
     "execution_count": 35,
     "metadata": {},
     "output_type": "execute_result"
    }
   ],
   "source": [
    "STACeci_Tr_Unic=df[['serie','etiqueta']].loc[((df.almacen=='Sta Cecilia AT&T')|(df.almacen=='Sta Cecilia Sistemas AT&T'))&((df.serie!='vacio') | (df.etiqueta!='vacio'))].drop_duplicates().shape[0]\n",
    "STACeci_Tr_Unic"
   ]
  },
  {
   "cell_type": "markdown",
   "metadata": {},
   "source": [
    "#### Total de elementos en almacén Trazables Únicos en Tijuana"
   ]
  },
  {
   "cell_type": "code",
   "execution_count": 36,
   "metadata": {},
   "outputs": [
    {
     "data": {
      "text/plain": [
       "6835"
      ]
     },
     "execution_count": 36,
     "metadata": {},
     "output_type": "execute_result"
    }
   ],
   "source": [
    "Tijuana_Tr_Unic=df[['serie','etiqueta']].loc[((df.almacen=='Tijuana Sistema AT&T')|(df.almacen=='Tijuana AT&T')|(df.almacen=='PROVA TIJUANA')|(df.almacen=='SPC Tijuana')|(df.almacen=='DRP TIJUANA'))&((df.serie!='vacio') | (df.etiqueta!='vacio'))].drop_duplicates().shape[0]\n",
    "Tijuana_Tr_Unic"
   ]
  },
  {
   "cell_type": "markdown",
   "metadata": {},
   "source": [
    "#### Total de elementos en almacén Trazables Únicos en GDL"
   ]
  },
  {
   "cell_type": "code",
   "execution_count": 37,
   "metadata": {},
   "outputs": [
    {
     "data": {
      "text/plain": [
       "6474"
      ]
     },
     "execution_count": 37,
     "metadata": {},
     "output_type": "execute_result"
    }
   ],
   "source": [
    "GDL_Tr_Unic=df[['serie','etiqueta']].loc[((df.almacen=='GDL AT&T')|(df.almacen=='PROVA GUADALAJARA')|(df.almacen=='DRP GUADALAJARA'))&((df.serie!='vacio') | (df.etiqueta!='vacio'))].drop_duplicates().shape[0]\n",
    "GDL_Tr_Unic"
   ]
  },
  {
   "cell_type": "markdown",
   "metadata": {},
   "source": [
    "#### Total de elementos Trazables Únicos en Otros Almacénes"
   ]
  },
  {
   "cell_type": "code",
   "execution_count": 38,
   "metadata": {},
   "outputs": [
    {
     "data": {
      "text/plain": [
       "88651"
      ]
     },
     "execution_count": 38,
     "metadata": {},
     "output_type": "execute_result"
    }
   ],
   "source": [
    "Otros_Tr_Unic=Total_Tr_Unic-DHLTepo_Tr_Unic-STACeci_Tr_Unic-Tijuana_Tr_Unic-GDL_Tr_Unic\n",
    "Otros_Tr_Unic"
   ]
  },
  {
   "cell_type": "markdown",
   "metadata": {},
   "source": [
    "#### Total de elementos en almacén Trazables Únicos con NSerie, con Nactivo"
   ]
  },
  {
   "cell_type": "code",
   "execution_count": 39,
   "metadata": {},
   "outputs": [
    {
     "data": {
      "text/plain": [
       "219433"
      ]
     },
     "execution_count": 39,
     "metadata": {},
     "output_type": "execute_result"
    }
   ],
   "source": [
    "Total_Tr_Unic_CS_CA=df[['serie','etiqueta']].loc[(df.serie!='vacio') & (df.etiqueta!='vacio')].drop_duplicates().shape[0]\n",
    "Total_Tr_Unic_CS_CA"
   ]
  },
  {
   "cell_type": "markdown",
   "metadata": {},
   "source": [
    "#### Total de elementos en almacén Trazables Únicos con NSerie, sin Nactivo"
   ]
  },
  {
   "cell_type": "code",
   "execution_count": 40,
   "metadata": {},
   "outputs": [
    {
     "data": {
      "text/plain": [
       "119918"
      ]
     },
     "execution_count": 40,
     "metadata": {},
     "output_type": "execute_result"
    }
   ],
   "source": [
    "Total_Tr_Unic_CS_SA=df[['serie','etiqueta']].loc[(df.serie!='vacio') & (df.etiqueta=='vacio')].drop_duplicates().shape[0]\n",
    "Total_Tr_Unic_CS_SA"
   ]
  },
  {
   "cell_type": "markdown",
   "metadata": {},
   "source": [
    "#### Total de elementos en almacén Trazables Únicos sin NSerie, con Nactivo"
   ]
  },
  {
   "cell_type": "code",
   "execution_count": 41,
   "metadata": {},
   "outputs": [
    {
     "data": {
      "text/plain": [
       "16441"
      ]
     },
     "execution_count": 41,
     "metadata": {},
     "output_type": "execute_result"
    }
   ],
   "source": [
    "Total_Tr_Unic_SS_CA=df[['serie','etiqueta']].loc[(df.serie=='vacio') & (df.etiqueta!='vacio')].drop_duplicates().shape[0]\n",
    "Total_Tr_Unic_SS_CA"
   ]
  },
  {
   "cell_type": "markdown",
   "metadata": {},
   "source": [
    "#### Total de elementos trazables duplicados"
   ]
  },
  {
   "cell_type": "code",
   "execution_count": 42,
   "metadata": {},
   "outputs": [
    {
     "data": {
      "text/plain": [
       "646"
      ]
     },
     "execution_count": 42,
     "metadata": {},
     "output_type": "execute_result"
    }
   ],
   "source": [
    "Total_Tr_Dupli=Total_Tr-Total_Tr_Unic\n",
    "Total_Tr_Dupli"
   ]
  },
  {
   "cell_type": "markdown",
   "metadata": {},
   "source": [
    "#### Costo promedio por elemento:"
   ]
  },
  {
   "cell_type": "code",
   "execution_count": 43,
   "metadata": {},
   "outputs": [
    {
     "data": {
      "text/plain": [
       "10125.57"
      ]
     },
     "execution_count": 43,
     "metadata": {},
     "output_type": "execute_result"
    }
   ],
   "source": [
    "df.mxn.replace('vacio',np.NaN,regex=True,inplace=True)\n",
    "df.mxn.replace('E',5,regex=True,inplace=True)\n",
    "df.mxn.dropna(inplace=True)\n",
    "df.mxn=df.mxn.astype('float')\n",
    "PROM_MXN=df.mxn.mean()\n",
    "PROM_MXN=round(PROM_MXN,2)\n",
    "PROM_MXN"
   ]
  },
  {
   "cell_type": "markdown",
   "metadata": {},
   "source": [
    "#### Costo de activos en CIP"
   ]
  },
  {
   "cell_type": "code",
   "execution_count": 44,
   "metadata": {},
   "outputs": [
    {
     "data": {
      "text/plain": [
       "8580.84"
      ]
     },
     "execution_count": 44,
     "metadata": {},
     "output_type": "execute_result"
    }
   ],
   "source": [
    "CIP_Tr_Cost=df[['mxn']].loc[(df.estatus_cip=='CIP')].mean()\n",
    "CIP_Tr_Cost=round(CIP_Tr_Cost,2)\n",
    "CIP_Tr_Cost"
   ]
  },
  {
   "cell_type": "markdown",
   "metadata": {},
   "source": [
    "#### Costo de activos en CIP Tepotzotlán"
   ]
  },
  {
   "cell_type": "code",
   "execution_count": 45,
   "metadata": {},
   "outputs": [
    {
     "data": {
      "text/plain": [
       "8580.84"
      ]
     },
     "execution_count": 45,
     "metadata": {},
     "output_type": "execute_result"
    }
   ],
   "source": [
    "CIP_DHLTepo_Cost=df[['mxn']].loc[((df.almacen=='DHL Tepotzotlan')|(df.almacen==u'DRP TEPOTZOTLÁN'))&(df.estatus_cip=='CIP')].mean()\n",
    "CIP_DHLTepo_Cost=round(CIP_DHLTepo_Cost,2)\n",
    "CIP_DHLTepo_Cost"
   ]
  },
  {
   "cell_type": "markdown",
   "metadata": {},
   "source": [
    "#### Costo de activos en CIP Santa Cecilia"
   ]
  },
  {
   "cell_type": "code",
   "execution_count": 46,
   "metadata": {},
   "outputs": [
    {
     "data": {
      "text/plain": [
       "nan"
      ]
     },
     "execution_count": 46,
     "metadata": {},
     "output_type": "execute_result"
    }
   ],
   "source": [
    "CIP_STACeci_Cost=df[['mxn']].loc[((df.almacen=='Sta Cecilia AT&T')|(df.almacen=='Sta Cecilia Sistemas AT&T'))&(df.estatus_cip=='CIP')].mean()\n",
    "CIP_STACeci_Cost=round(CIP_STACeci_Cost,2)\n",
    "CIP_STACeci_Cost"
   ]
  },
  {
   "cell_type": "markdown",
   "metadata": {},
   "source": [
    "#### Costo de activos en CIP Tijuana"
   ]
  },
  {
   "cell_type": "code",
   "execution_count": 47,
   "metadata": {},
   "outputs": [
    {
     "data": {
      "text/plain": [
       "nan"
      ]
     },
     "execution_count": 47,
     "metadata": {},
     "output_type": "execute_result"
    }
   ],
   "source": [
    "CIP_Tijuana_Cost=df[['mxn']].loc[((df.almacen=='Tijuana Sistema AT&T')|(df.almacen=='Tijuana AT&T')|(df.almacen=='PROVA TIJUANA')|(df.almacen=='SPC Tijuana')|(df.almacen=='DRP TIJUANA'))&(df.estatus_cip=='CIP')].mean()\n",
    "CIP_Tijuana_Cost=round(CIP_Tijuana_Cost,2)\n",
    "CIP_Tijuana_Cost"
   ]
  },
  {
   "cell_type": "markdown",
   "metadata": {},
   "source": [
    "#### Costo de activos en CIP Guadalajara"
   ]
  },
  {
   "cell_type": "code",
   "execution_count": 48,
   "metadata": {},
   "outputs": [
    {
     "data": {
      "text/plain": [
       "nan"
      ]
     },
     "execution_count": 48,
     "metadata": {},
     "output_type": "execute_result"
    }
   ],
   "source": [
    "CIP_GDL_Cost=df['mxn'].loc[((df.almacen=='GDL AT&T')|(df.almacen=='PROVA GUADALAJARA')|(df.almacen=='DRP GUADALAJARA'))&(df.estatus_cip=='CIP')].mean()\n",
    "CIP_GDL_Cost=round(CIP_GDL_Cost,2)\n",
    "CIP_GDL_Cost"
   ]
  },
  {
   "cell_type": "markdown",
   "metadata": {},
   "source": [
    "#### Costo de activos en CIP Otros almacenes "
   ]
  },
  {
   "cell_type": "code",
   "execution_count": 49,
   "metadata": {},
   "outputs": [
    {
     "data": {
      "text/plain": [
       "nan"
      ]
     },
     "execution_count": 49,
     "metadata": {},
     "output_type": "execute_result"
    }
   ],
   "source": [
    "CIP_Otros_Cost=CIP_Tr_Cost-CIP_DHLTepo_Cost-CIP_STACeci_Cost-CIP_Tijuana_Cost-CIP_GDL_Cost\n",
    "CIP_Otros_Cost"
   ]
  },
  {
   "cell_type": "markdown",
   "metadata": {},
   "source": [
    "#### Número total de activos en CIP (de acuerdo con SA)"
   ]
  },
  {
   "cell_type": "code",
   "execution_count": 50,
   "metadata": {},
   "outputs": [
    {
     "data": {
      "text/plain": [
       "370042"
      ]
     },
     "execution_count": 50,
     "metadata": {},
     "output_type": "execute_result"
    }
   ],
   "source": [
    "CIP_Total=df.loc[(df.estatus_cip!='CIP')].shape[0]\n",
    "CIP_Total"
   ]
  },
  {
   "cell_type": "markdown",
   "metadata": {},
   "source": [
    "#### Número de activos en CIP Tepotzotlán"
   ]
  },
  {
   "cell_type": "code",
   "execution_count": 51,
   "metadata": {},
   "outputs": [
    {
     "data": {
      "text/plain": [
       "1274"
      ]
     },
     "execution_count": 51,
     "metadata": {},
     "output_type": "execute_result"
    }
   ],
   "source": [
    "CIP_DHLTepo=df[['serie','etiqueta']].loc[((df.almacen=='DHL Tepotzotlan')|(df.almacen==u'DRP TEPOTZOTLÁN'))&(df.estatus_cip=='CIP')].shape[0]\n",
    "CIP_DHLTepo"
   ]
  },
  {
   "cell_type": "markdown",
   "metadata": {},
   "source": [
    "#### Número de activos en CIP Santa Cecilia"
   ]
  },
  {
   "cell_type": "code",
   "execution_count": 52,
   "metadata": {},
   "outputs": [
    {
     "data": {
      "text/plain": [
       "0"
      ]
     },
     "execution_count": 52,
     "metadata": {},
     "output_type": "execute_result"
    }
   ],
   "source": [
    "CIP_STACeci=df[['serie','etiqueta']].loc[((df.almacen=='Sta Cecilia AT&T')|(df.almacen=='Sta Cecilia Sistemas AT&T'))&(df.estatus_cip=='CIP')].shape[0]\n",
    "CIP_STACeci"
   ]
  },
  {
   "cell_type": "markdown",
   "metadata": {},
   "source": [
    "#### Número de activos en CIP Tijuana"
   ]
  },
  {
   "cell_type": "code",
   "execution_count": 53,
   "metadata": {},
   "outputs": [
    {
     "data": {
      "text/plain": [
       "0"
      ]
     },
     "execution_count": 53,
     "metadata": {},
     "output_type": "execute_result"
    }
   ],
   "source": [
    "CIP_Tijuana=df[['serie','etiqueta']].loc[((df.almacen=='Tijuana Sistema AT&T')|(df.almacen=='Tijuana AT&T')|(df.almacen=='PROVA TIJUANA')|(df.almacen=='SPC Tijuana')|(df.almacen=='DRP TIJUANA'))&(df.estatus_cip=='CIP')].shape[0]\n",
    "CIP_Tijuana"
   ]
  },
  {
   "cell_type": "markdown",
   "metadata": {},
   "source": [
    "#### Número de activos en CIP Guadalajara"
   ]
  },
  {
   "cell_type": "code",
   "execution_count": 54,
   "metadata": {},
   "outputs": [
    {
     "data": {
      "text/plain": [
       "0"
      ]
     },
     "execution_count": 54,
     "metadata": {},
     "output_type": "execute_result"
    }
   ],
   "source": [
    "CIP_GDL=df[['serie','etiqueta']].loc[((df.almacen=='GDL AT&T')|(df.almacen=='PROVA GUADALAJARA')|(df.almacen=='DRP GUADALAJARA'))&(df.estatus_cip=='CIP')].shape[0]\n",
    "CIP_GDL"
   ]
  },
  {
   "cell_type": "markdown",
   "metadata": {},
   "source": [
    "#### Número de activos en CIP Otros almacenes"
   ]
  },
  {
   "cell_type": "code",
   "execution_count": 55,
   "metadata": {},
   "outputs": [
    {
     "data": {
      "text/plain": [
       "368768"
      ]
     },
     "execution_count": 55,
     "metadata": {},
     "output_type": "execute_result"
    }
   ],
   "source": [
    "CIP_Otros=CIP_Total-CIP_DHLTepo-CIP_STACeci-CIP_Tijuana-CIP_GDL\n",
    "CIP_Otros"
   ]
  },
  {
   "cell_type": "markdown",
   "metadata": {},
   "source": [
    "#### Número de activos en CIP Trazables"
   ]
  },
  {
   "cell_type": "code",
   "execution_count": 56,
   "metadata": {},
   "outputs": [
    {
     "data": {
      "text/plain": [
       "1271"
      ]
     },
     "execution_count": 56,
     "metadata": {},
     "output_type": "execute_result"
    }
   ],
   "source": [
    "CIP_Total_Tr=df.loc[((df.serie!='vacio') | (df.etiqueta!='vacio'))&(df.estatus_cip=='CIP')].shape[0]\n",
    "CIP_Total_Tr"
   ]
  },
  {
   "cell_type": "markdown",
   "metadata": {},
   "source": [
    "#### Número de activos en CIP Trazables Únicos "
   ]
  },
  {
   "cell_type": "code",
   "execution_count": 57,
   "metadata": {},
   "outputs": [
    {
     "data": {
      "text/plain": [
       "1271"
      ]
     },
     "execution_count": 57,
     "metadata": {},
     "output_type": "execute_result"
    }
   ],
   "source": [
    "CIP_Total_Tr_Unic=df[['serie','etiqueta']].loc[((df.serie!='vacio') | (df.etiqueta!='vacio'))&(df.estatus_cip=='CIP')].drop_duplicates().shape[0]\n",
    "CIP_Total_Tr_Unic"
   ]
  },
  {
   "cell_type": "markdown",
   "metadata": {},
   "source": [
    "#### Número de activos en CIP Trazables Únicos con NSerie, con Nactivo"
   ]
  },
  {
   "cell_type": "code",
   "execution_count": 58,
   "metadata": {},
   "outputs": [
    {
     "data": {
      "text/plain": [
       "104"
      ]
     },
     "execution_count": 58,
     "metadata": {},
     "output_type": "execute_result"
    }
   ],
   "source": [
    "CIP_Total_Tr_Unic_CS_CA=df[['serie','etiqueta']].loc[((df.serie!='vacio') & (df.etiqueta!='vacio'))&(df.estatus_cip=='CIP')].drop_duplicates().shape[0]\n",
    "CIP_Total_Tr_Unic_CS_CA"
   ]
  },
  {
   "cell_type": "markdown",
   "metadata": {},
   "source": [
    "#### Número de activos en CIP Trazables Únicos con NSerie, sin Nactivo"
   ]
  },
  {
   "cell_type": "code",
   "execution_count": 59,
   "metadata": {},
   "outputs": [
    {
     "data": {
      "text/plain": [
       "609"
      ]
     },
     "execution_count": 59,
     "metadata": {},
     "output_type": "execute_result"
    }
   ],
   "source": [
    "CIP_Total_Tr_Unic_CS_SA=df[['serie','etiqueta']].loc[((df.serie!='vacio') & (df.etiqueta=='vacio'))&(df.estatus_cip=='CIP')].drop_duplicates().shape[0]\n",
    "CIP_Total_Tr_Unic_CS_SA"
   ]
  },
  {
   "cell_type": "markdown",
   "metadata": {},
   "source": [
    "#### Número de activos en CIP Trazables Únicos sin NSerie, con Nactivo"
   ]
  },
  {
   "cell_type": "code",
   "execution_count": 60,
   "metadata": {},
   "outputs": [
    {
     "data": {
      "text/plain": [
       "558"
      ]
     },
     "execution_count": 60,
     "metadata": {},
     "output_type": "execute_result"
    }
   ],
   "source": [
    "CIP_Total_Tr_Unic_SS_CA=df[['serie','etiqueta']].loc[((df.serie=='vacio') & (df.etiqueta!='vacio'))&(df.estatus_cip=='CIP')].drop_duplicates().shape[0]\n",
    "CIP_Total_Tr_Unic_SS_CA"
   ]
  },
  {
   "cell_type": "markdown",
   "metadata": {},
   "source": [
    "#### Número de activos en CIP Trazables Duplicados"
   ]
  },
  {
   "cell_type": "code",
   "execution_count": 61,
   "metadata": {},
   "outputs": [
    {
     "data": {
      "text/plain": [
       "0"
      ]
     },
     "execution_count": 61,
     "metadata": {},
     "output_type": "execute_result"
    }
   ],
   "source": [
    "CIP_Total_Tr_Dupli=CIP_Total_Tr-CIP_Total_Tr_Unic\n",
    "CIP_Total_Tr_Dupli"
   ]
  },
  {
   "cell_type": "markdown",
   "metadata": {},
   "source": [
    "#### Número de activos en CIP No Trazables"
   ]
  },
  {
   "cell_type": "code",
   "execution_count": 62,
   "metadata": {
    "scrolled": true
   },
   "outputs": [
    {
     "data": {
      "text/plain": [
       "368771"
      ]
     },
     "execution_count": 62,
     "metadata": {},
     "output_type": "execute_result"
    }
   ],
   "source": [
    "CIP_Total_NO_Tr=CIP_Total-CIP_Total_Tr\n",
    "CIP_Total_NO_Tr"
   ]
  },
  {
   "cell_type": "code",
   "execution_count": 63,
   "metadata": {},
   "outputs": [
    {
     "data": {
      "text/html": [
       "<div>\n",
       "<style scoped>\n",
       "    .dataframe tbody tr th:only-of-type {\n",
       "        vertical-align: middle;\n",
       "    }\n",
       "\n",
       "    .dataframe tbody tr th {\n",
       "        vertical-align: top;\n",
       "    }\n",
       "\n",
       "    .dataframe thead th {\n",
       "        text-align: right;\n",
       "    }\n",
       "</style>\n",
       "<table border=\"1\" class=\"dataframe\">\n",
       "  <thead>\n",
       "    <tr style=\"text-align: right;\">\n",
       "      <th></th>\n",
       "      <th>KPI</th>\n",
       "      <th>Resultado</th>\n",
       "    </tr>\n",
       "  </thead>\n",
       "  <tbody>\n",
       "    <tr>\n",
       "      <th>0</th>\n",
       "      <td>Total Elementos</td>\n",
       "      <td>371316.00</td>\n",
       "    </tr>\n",
       "    <tr>\n",
       "      <th>1</th>\n",
       "      <td>Total Elementos Trazables</td>\n",
       "      <td>356438.00</td>\n",
       "    </tr>\n",
       "    <tr>\n",
       "      <th>2</th>\n",
       "      <td>Total NO Trazables</td>\n",
       "      <td>14878.00</td>\n",
       "    </tr>\n",
       "    <tr>\n",
       "      <th>3</th>\n",
       "      <td>Total Trazables Unicos</td>\n",
       "      <td>355792.00</td>\n",
       "    </tr>\n",
       "    <tr>\n",
       "      <th>4</th>\n",
       "      <td>Total Trazables Duplicados</td>\n",
       "      <td>646.00</td>\n",
       "    </tr>\n",
       "    <tr>\n",
       "      <th>5</th>\n",
       "      <td>Trazables Únicos en DHL Tepotzotlan</td>\n",
       "      <td>128491.00</td>\n",
       "    </tr>\n",
       "    <tr>\n",
       "      <th>6</th>\n",
       "      <td>Trazables Únicos en Sta Cecilia AT&amp;T</td>\n",
       "      <td>125341.00</td>\n",
       "    </tr>\n",
       "    <tr>\n",
       "      <th>7</th>\n",
       "      <td>Trazables Únicos en Tijuana</td>\n",
       "      <td>6835.00</td>\n",
       "    </tr>\n",
       "    <tr>\n",
       "      <th>8</th>\n",
       "      <td>Trazables Únicos en GDL AT&amp;T</td>\n",
       "      <td>6474.00</td>\n",
       "    </tr>\n",
       "    <tr>\n",
       "      <th>9</th>\n",
       "      <td>Trazables Únicos en Otros Almacénes</td>\n",
       "      <td>88651.00</td>\n",
       "    </tr>\n",
       "    <tr>\n",
       "      <th>10</th>\n",
       "      <td>Total CS CA</td>\n",
       "      <td>219433.00</td>\n",
       "    </tr>\n",
       "    <tr>\n",
       "      <th>11</th>\n",
       "      <td>Total CS SA</td>\n",
       "      <td>119918.00</td>\n",
       "    </tr>\n",
       "    <tr>\n",
       "      <th>12</th>\n",
       "      <td>Total SS CA</td>\n",
       "      <td>16441.00</td>\n",
       "    </tr>\n",
       "    <tr>\n",
       "      <th>13</th>\n",
       "      <td>Costo promedio MXN</td>\n",
       "      <td>10125.57</td>\n",
       "    </tr>\n",
       "    <tr>\n",
       "      <th>14</th>\n",
       "      <td>Costo de activos en CIP</td>\n",
       "      <td>8580.84</td>\n",
       "    </tr>\n",
       "    <tr>\n",
       "      <th>15</th>\n",
       "      <td>Costo de activos en CIP Tepotzotlán</td>\n",
       "      <td>8580.84</td>\n",
       "    </tr>\n",
       "    <tr>\n",
       "      <th>16</th>\n",
       "      <td>Costo de activos en CIP Santa Cecilia</td>\n",
       "      <td>0.00</td>\n",
       "    </tr>\n",
       "    <tr>\n",
       "      <th>17</th>\n",
       "      <td>Costo de activos en CIP Tijuana</td>\n",
       "      <td>0.00</td>\n",
       "    </tr>\n",
       "    <tr>\n",
       "      <th>18</th>\n",
       "      <td>Costo de activos en CIP Guadalajara</td>\n",
       "      <td>0.00</td>\n",
       "    </tr>\n",
       "    <tr>\n",
       "      <th>19</th>\n",
       "      <td>Costo de activos en CIP Otros almacenes</td>\n",
       "      <td>0.00</td>\n",
       "    </tr>\n",
       "    <tr>\n",
       "      <th>20</th>\n",
       "      <td>total de activos en CIP (de acuerdo con SA)</td>\n",
       "      <td>370042.00</td>\n",
       "    </tr>\n",
       "    <tr>\n",
       "      <th>21</th>\n",
       "      <td>Total activos en CIP Tepotzotlán</td>\n",
       "      <td>1274.00</td>\n",
       "    </tr>\n",
       "    <tr>\n",
       "      <th>22</th>\n",
       "      <td>Total activos en CIP Santa Cecilia</td>\n",
       "      <td>0.00</td>\n",
       "    </tr>\n",
       "    <tr>\n",
       "      <th>23</th>\n",
       "      <td>Número de activos en CIP Tijuana</td>\n",
       "      <td>0.00</td>\n",
       "    </tr>\n",
       "    <tr>\n",
       "      <th>24</th>\n",
       "      <td>Total de activos en CIP Guadalajara</td>\n",
       "      <td>0.00</td>\n",
       "    </tr>\n",
       "    <tr>\n",
       "      <th>25</th>\n",
       "      <td>Total de activos en CIP Otros almacenes</td>\n",
       "      <td>368768.00</td>\n",
       "    </tr>\n",
       "    <tr>\n",
       "      <th>26</th>\n",
       "      <td>Total de activos en CIP Trazables</td>\n",
       "      <td>1271.00</td>\n",
       "    </tr>\n",
       "    <tr>\n",
       "      <th>27</th>\n",
       "      <td>Total activos en CIP Trazables Únicos</td>\n",
       "      <td>1271.00</td>\n",
       "    </tr>\n",
       "    <tr>\n",
       "      <th>28</th>\n",
       "      <td>CIP Trazables Únicos con NSerie, con Nactivo</td>\n",
       "      <td>104.00</td>\n",
       "    </tr>\n",
       "    <tr>\n",
       "      <th>29</th>\n",
       "      <td>CIP Trazables Únicos con NSerie, sin Nactivo</td>\n",
       "      <td>609.00</td>\n",
       "    </tr>\n",
       "    <tr>\n",
       "      <th>30</th>\n",
       "      <td>CIP Trazables Únicos sin NSerie, con Nactivo</td>\n",
       "      <td>558.00</td>\n",
       "    </tr>\n",
       "    <tr>\n",
       "      <th>31</th>\n",
       "      <td>CIP Trazables Duplicados</td>\n",
       "      <td>0.00</td>\n",
       "    </tr>\n",
       "    <tr>\n",
       "      <th>32</th>\n",
       "      <td>CIP No Trazables</td>\n",
       "      <td>368771.00</td>\n",
       "    </tr>\n",
       "  </tbody>\n",
       "</table>\n",
       "</div>"
      ],
      "text/plain": [
       "                                             KPI  Resultado\n",
       "0                                Total Elementos  371316.00\n",
       "1                      Total Elementos Trazables  356438.00\n",
       "2                             Total NO Trazables   14878.00\n",
       "3                         Total Trazables Unicos  355792.00\n",
       "4                     Total Trazables Duplicados     646.00\n",
       "5            Trazables Únicos en DHL Tepotzotlan  128491.00\n",
       "6           Trazables Únicos en Sta Cecilia AT&T  125341.00\n",
       "7                    Trazables Únicos en Tijuana    6835.00\n",
       "8                   Trazables Únicos en GDL AT&T    6474.00\n",
       "9            Trazables Únicos en Otros Almacénes   88651.00\n",
       "10                                   Total CS CA  219433.00\n",
       "11                                   Total CS SA  119918.00\n",
       "12                                   Total SS CA   16441.00\n",
       "13                            Costo promedio MXN   10125.57\n",
       "14                       Costo de activos en CIP    8580.84\n",
       "15           Costo de activos en CIP Tepotzotlán    8580.84\n",
       "16         Costo de activos en CIP Santa Cecilia       0.00\n",
       "17               Costo de activos en CIP Tijuana       0.00\n",
       "18           Costo de activos en CIP Guadalajara       0.00\n",
       "19       Costo de activos en CIP Otros almacenes       0.00\n",
       "20   total de activos en CIP (de acuerdo con SA)  370042.00\n",
       "21              Total activos en CIP Tepotzotlán    1274.00\n",
       "22            Total activos en CIP Santa Cecilia       0.00\n",
       "23              Número de activos en CIP Tijuana       0.00\n",
       "24           Total de activos en CIP Guadalajara       0.00\n",
       "25       Total de activos en CIP Otros almacenes  368768.00\n",
       "26             Total de activos en CIP Trazables    1271.00\n",
       "27         Total activos en CIP Trazables Únicos    1271.00\n",
       "28  CIP Trazables Únicos con NSerie, con Nactivo     104.00\n",
       "29  CIP Trazables Únicos con NSerie, sin Nactivo     609.00\n",
       "30  CIP Trazables Únicos sin NSerie, con Nactivo     558.00\n",
       "31                      CIP Trazables Duplicados       0.00\n",
       "32                              CIP No Trazables  368771.00"
      ]
     },
     "execution_count": 63,
     "metadata": {},
     "output_type": "execute_result"
    }
   ],
   "source": [
    "KPIs=pd.DataFrame({'KPI':['Total Elementos','Total Elementos Trazables',\n",
    "                         'Total NO Trazables','Total Trazables Unicos',\n",
    "                         'Total Trazables Duplicados','Trazables Únicos en DHL Tepotzotlan',\n",
    "                          'Trazables Únicos en Sta Cecilia AT&T','Trazables Únicos en Tijuana',\n",
    "                          'Trazables Únicos en GDL AT&T','Trazables Únicos en Otros Almacénes',\n",
    "                          'Total CS CA','Total CS SA','Total SS CA',\n",
    "                         'Costo promedio MXN','Costo de activos en CIP','Costo de activos en CIP Tepotzotlán',\n",
    "                         'Costo de activos en CIP Santa Cecilia',\n",
    "                          'Costo de activos en CIP Tijuana','Costo de activos en CIP Guadalajara',\n",
    "                         'Costo de activos en CIP Otros almacenes',\n",
    "                         'total de activos en CIP (de acuerdo con SA)',\n",
    "                         'Total activos en CIP Tepotzotlán',\n",
    "                         'Total activos en CIP Santa Cecilia','Número de activos en CIP Tijuana',\n",
    "                         'Total de activos en CIP Guadalajara','Total de activos en CIP Otros almacenes',\n",
    "                         'Total de activos en CIP Trazables','Total activos en CIP Trazables Únicos',\n",
    "                         'CIP Trazables Únicos con NSerie, con Nactivo','CIP Trazables Únicos con NSerie, sin Nactivo',\n",
    "                         'CIP Trazables Únicos sin NSerie, con Nactivo','CIP Trazables Duplicados',\n",
    "                         'CIP No Trazables'],\n",
    "                  'Resultado':[Total_Elementos,Total_Tr,Total_NOTr,\n",
    "                              Total_Tr_Unic,Total_Tr_Dupli,DHLTepo_Tr_Unic,\n",
    "                               STACeci_Tr_Unic,Tijuana_Tr_Unic,GDL_Tr_Unic,\n",
    "                               Otros_Tr_Unic,\n",
    "                               Total_Tr_Unic_CS_CA,Total_Tr_Unic_CS_SA,\n",
    "                              Total_Tr_Unic_SS_CA,PROM_MXN,CIP_Tr_Cost,\n",
    "                              CIP_DHLTepo_Cost,CIP_STACeci_Cost,CIP_Tijuana,\n",
    "                              CIP_GDL_Cost,CIP_Otros_Cost,CIP_Total,CIP_DHLTepo,\n",
    "                               CIP_STACeci_Cost, CIP_Tijuana,CIP_GDL,CIP_Otros,\n",
    "                              CIP_Total_Tr,CIP_Total_Tr_Unic,\n",
    "                              CIP_Total_Tr_Unic_CS_CA,CIP_Total_Tr_Unic_CS_SA,\n",
    "                              CIP_Total_Tr_Unic_SS_CA,CIP_Total_Tr_Dupli,\n",
    "                              CIP_Total_NO_Tr]})\n",
    "\n",
    "KPIs.replace(np.NaN,0,regex=True,inplace=True)\n",
    "KPIs"
   ]
  },
  {
   "cell_type": "code",
   "execution_count": 64,
   "metadata": {},
   "outputs": [],
   "source": [
    "sc.stop()"
   ]
  },
  {
   "cell_type": "code",
   "execution_count": null,
   "metadata": {},
   "outputs": [],
   "source": []
  }
 ],
 "metadata": {
  "kernelspec": {
   "display_name": "Python 2",
   "language": "python",
   "name": "python2"
  },
  "language_info": {
   "codemirror_mode": {
    "name": "ipython",
    "version": 2
   },
   "file_extension": ".py",
   "mimetype": "text/x-python",
   "name": "python",
   "nbconvert_exporter": "python",
   "pygments_lexer": "ipython2",
   "version": "2.7.15"
  }
 },
 "nbformat": 4,
 "nbformat_minor": 2
}
